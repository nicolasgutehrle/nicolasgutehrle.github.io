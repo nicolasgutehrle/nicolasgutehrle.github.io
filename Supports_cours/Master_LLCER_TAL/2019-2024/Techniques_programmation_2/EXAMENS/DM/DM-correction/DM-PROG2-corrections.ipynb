{
 "cells": [
  {
   "attachments": {},
   "cell_type": "markdown",
   "metadata": {},
   "source": [
    "# Devoir Maison Technique de Programmation 2\n",
    "\n",
    "2022-2023, Master LLCER - parcours TAL\n",
    "Nathan Guédat, Nicolas Gutehrlé\n",
    "\n",
    "## Modalités\n",
    "\n",
    "Vous rendrez un dossier contenant les éléments suivants:\n",
    "* un fichier exercices.ipynb qui contient les exercices 1 à 3\n",
    "* un dossier main et un fichier main.py (voir exercice 4)\n",
    "\n",
    "Les exercices de 1 à 3 peuvent être réalisés dans ce notebook. Pour les exercices 4 et 5, vous devez rendre un dossier et un fichier (voir exercices). \n",
    "\n",
    "Vous rendrez un dossier contenant tous les exercices que vous aurez créés. Pour simplifier l'envoi, n'hésitez pas à zipper ce dossier. Si votre fichier zip est trop lourd pour être envoyé par mail, n'hésitez pas à l'envoyer via WeTransfert.\n",
    "\n",
    "Chaque exercice vaut 4 points. Des points bonus pourront être alloués pour la clarté et l'explication du code. Pensez donc bien à commenter ! \n",
    "\n",
    "L’utilisation d’Internet ainsi que des supports de cours est autorisée. Le travail est strictement personnel. L’évaluation portera sur la compréhension des notions du cours qui sera démontrée par l’étudiant. Un entretien oral est possible suite à l’examen pour préciser la note.\n",
    "\n",
    "Ce devoir est à rendre au plus tard par mail à **nicolas.gutehrle@univ-fcomte.fr** pour le **Lundi 10 avril**. Tout jour de retard entraînera la perte d'un point sur la note finale. Tout devoir rendu au-delà du **Lundi 17 avril** ne sera pas accepté.\n",
    "\n",
    "---\n"
   ]
  },
  {
   "attachments": {},
   "cell_type": "markdown",
   "metadata": {},
   "source": [
    "## Exercice 1\n",
    "\n",
    "Implémentez en Python les descriptions ci-dessous :\n",
    "\n",
    "* La classe ``Menu`` a pour propriétés ``plat``, ``entree``, ``dessert``, ``boisson``, ``prix_base`` et ``type_menu``.\n",
    "* La propriété ``prix_base`` est égale à 0 tandis que la propriété ``type_menu`` est égale à \"menu\".\n",
    "* Le constructeur de la classe ``Menu`` doit prendre en argument des valeurs pour les propriétés ``plat``, ``entree``, ``dessert``, ``boisson``. Seule la propriété ``plat`` est obligatoire, les trois autres doivent avoir False comme valeur par défaut.\n",
    "* Elle doit implémenter une méthode ``__str__`` qui permet d'afficher cette classe sous forme de string. Cette fonction doit retourner le message \"Menu {VALEUR_DE_TYPE_MENU} à {VALEUR_PRIX_MENU} euros\"\n",
    "* Elle doit implémenter une méthode ``setPrix`` qui suit la logique suivante:\n",
    "    * Le prix de base du menu est égal à la valeur de la propriété ``prix_base``\n",
    "    * Si le menu comprend un plat, le prix de base du menu augmente de 5\n",
    "    * Si le menu comprend un entree, le prix de base du menu augmente de 3\n",
    "    * Si le menu comprend un dessert, le prix de base du menu augmente de 3\n",
    "    * Si le menu comprend un boisson, le prix de base du menu augmente de 2\n",
    "    * La méthode doit retourner la valeur obtenue après toutes les additions\n",
    "    \n",
    "Les classes ``MenuEnfant``, ``MenuMidi`` et ``MenuSoir`` sont des sous-classes de la classe Menu, dont elles héritent de toutes les propriétés.\n",
    "* La valeur de la propriété ``type_menu`` est \"enfant\" pour ``MenuEnfant``, \"midi\" pour ``MenuMidi`` et \"soir\" ``MenuSoir``\n",
    "* La valeur de la propriété ``prix_base`` est 5 pour ``MenuEnfant``, 10 pour ``MenuMidi`` et 15 ``MenuSoir``\n",
    "* Ces trois classes ont une propriétés ``prix_menu`` qui est définie par la valeur retournée par la méthode ``setPrix``.\n",
    " \n",
    " \n",
    "Vous contrôlerez votre implémentation en créant une instance des classes ``MenuEnfant``, ``MenuMidi`` et ``MenuSoir`` avec les valeurs ci-dessous:\n",
    "* MenuEnfant: plat = 'steak', dessert = 'tarte'\n",
    "* MenuMidi: plat = 'burger'\n",
    "* MenuSoir: plat = 'pizza', entree = 'salade', dessert = 'glace'\n",
    "\n",
    "Vous utiliserez la fonction ``print`` pour afficher chacune de ces instances."
   ]
  },
  {
   "cell_type": "markdown",
   "metadata": {},
   "source": [
    "# Correction"
   ]
  },
  {
   "cell_type": "code",
   "execution_count": 1,
   "metadata": {},
   "outputs": [],
   "source": [
    "class Menu:\n",
    "    \n",
    "    def __init__(self, plat: str, entree: str = False, dessert: str = False, boisson: str = False):\n",
    "        \"\"\"\n",
    "        Constructeur de la classe Menu. Cette classe est abstraite\n",
    "        et ne devrait pas être utilisée directement\n",
    "\n",
    "        :param plat: le plat principal du menu\n",
    "        :type plat: str\n",
    "        :param entree: l'entrée du menu, defaults to False\n",
    "        :type entree: str, optional\n",
    "        :param dessert: le dessert du menu, defaults to False\n",
    "        :type dessert: str, optional\n",
    "        :param boisson: la boisson du menu, defaults to False\n",
    "        :type boisson: str, optional\n",
    "        \"\"\"\n",
    "\n",
    "        self.plat = plat\n",
    "        self.entree = entree\n",
    "        self.dessert = dessert\n",
    "        self.boisson = boisson\n",
    "        # par défaut, prix_base = 0 et type_menu = 'menu'\n",
    "        self.prix_base = 0\n",
    "        self.type_menu = 'menu'\n",
    "\n",
    "    def setPrix(self) -> int:\n",
    "        \"\"\"\n",
    "        Fonction qui définit le prix du menu de base\n",
    "        en fonction des plats disponibles\n",
    "\n",
    "        :return: le prix de base du menu\n",
    "        :rtype: int\n",
    "        \"\"\"\n",
    "        prix_base = self.prix_base\n",
    "        if self.plat:\n",
    "            prix_base += 5\n",
    "        if self.entree:\n",
    "            prix_base += 3\n",
    "        if self.dessert:\n",
    "            prix_base += 3\n",
    "        if self.boisson:\n",
    "            prix_base += 2\n",
    "\n",
    "        return prix_base\n",
    "    \n",
    "    \n",
    "    def __str__(self) -> str:\n",
    "        \"\"\"\n",
    "        Représentation en str \n",
    "\n",
    "        :return: représentation en str de la classe\n",
    "        :rtype: str\n",
    "        \"\"\"\n",
    "        return f\"Menu {self.type_menu} à {self.prix_menu} euros\"\n",
    "    \n",
    "class MenuEnfant(Menu):\n",
    "    \n",
    "    def __init__(self, plat: str, entree: str = False, dessert: str = False, boisson: str = False):\n",
    "        \"\"\"\n",
    "        Constructeur de la classe MenuEnfant. Hérite de la classe Menu.\n",
    "\n",
    "        :param plat: le plat principal du menu\n",
    "        :type plat: str\n",
    "        :param entree: l'entrée du menu, defaults to False\n",
    "        :type entree: str, optional\n",
    "        :param dessert: le dessert du menu, defaults to False\n",
    "        :type dessert: str, optional\n",
    "        :param boisson: la boisson du menu, defaults to False\n",
    "        :type boisson: str, optional\n",
    "        \"\"\"\n",
    "\n",
    "        super().__init__(plat, entree, dessert, boisson)\n",
    "        self.prix_base = 5\n",
    "        self.type_menu = 'enfant'\n",
    "        self.prix_menu = self.setPrix()\n",
    "        \n",
    "class MenuMidi(Menu):\n",
    "    \n",
    "    def __init__(self, plat: str, entree: str = False, dessert: str = False, boisson: str = False):\n",
    "        \"\"\"\n",
    "        Constructeur de la classe MenuMidi. Hérite de la classe Menu.\n",
    "\n",
    "        :param plat: le plat principal du menu\n",
    "        :type plat: str\n",
    "        :param entree: l'entrée du menu, defaults to False\n",
    "        :type entree: str, optional\n",
    "        :param dessert: le dessert du menu, defaults to False\n",
    "        :type dessert: str, optional\n",
    "        :param boisson: la boisson du menu, defaults to False\n",
    "        :type boisson: str, optional\n",
    "        \"\"\"\n",
    "\n",
    "        super().__init__(plat, entree, dessert, boisson)\n",
    "        self.prix_base = 10\n",
    "        self.type_menu = 'midi'\n",
    "        self.prix_menu = self.setPrix()\n",
    "        \n",
    "class MenuSoir(Menu):\n",
    "    \n",
    "    def __init__(self, plat: str, entree: str = False, dessert: str = False, boisson: str = False):\n",
    "        \"\"\"\n",
    "        Constructeur de la classe MenuSoir. Hérite de la classe Menu.\n",
    "\n",
    "        :param plat: le plat principal du menu\n",
    "        :type plat: str\n",
    "        :param entree: l'entrée du menu, defaults to False\n",
    "        :type entree: str, optional\n",
    "        :param dessert: le dessert du menu, defaults to False\n",
    "        :type dessert: str, optional\n",
    "        :param boisson: la boisson du menu, defaults to False\n",
    "        :type boisson: str, optional\n",
    "        \"\"\"\n",
    "        super().__init__(plat, entree, dessert, boisson)\n",
    "        self.prix_base = 15\n",
    "        self.type_menu = 'soir'\n",
    "        self.prix_menu = self.setPrix()"
   ]
  },
  {
   "cell_type": "code",
   "execution_count": 2,
   "metadata": {},
   "outputs": [
    {
     "name": "stdout",
     "output_type": "stream",
     "text": [
      "Menu enfant à 13 euros\n",
      "Menu midi à 15 euros\n",
      "Menu soir à 26 euros\n"
     ]
    }
   ],
   "source": [
    "menu_enfant = MenuEnfant('steak', 'tarte')\n",
    "print(menu_enfant)\n",
    "\n",
    "\n",
    "menu_midi = MenuMidi('burger')\n",
    "print(menu_midi)\n",
    "\n",
    "\n",
    "menu_soir = MenuSoir('pizza', 'salade', 'glace')\n",
    "print(menu_soir)\n",
    "\n"
   ]
  },
  {
   "cell_type": "code",
   "execution_count": null,
   "metadata": {},
   "outputs": [],
   "source": []
  },
  {
   "attachments": {},
   "cell_type": "markdown",
   "metadata": {},
   "source": [
    "## Exercice 2\n",
    "\n",
    "Implémentez en Python les descriptions ci-dessous : \n",
    "\n",
    "* La classe ``Restaurant`` a un propriété nom et une propriété menu. La propriété nom est une string. La propriété menu est une liste qui contient des instances des classes ``MenuEnfant``, ``MenuMidi`` et ``MenuSoir``.\n",
    "* Le constructeur doit contrôler que la liste menu contient plus d'un élément. Si ce n'est pas le cas, il doit soulever une IndexError\n",
    "* La classe ``Restaurant`` doit implémenter une méthode ``__str__`` qui permet d'afficher cette classe sous forme de string. Cette fonction doit retourner le message \"Restaurant {VALEUR_DE_NOM}\"\n",
    "* Elle implémente une méthode ``plusCherMenu`` qui retourne le menu le plus cher de la propriété ``menu``. Attention, cette méthode doit retourner le menu lui-même, et pas seulement son prix.\n",
    "* Les classes ``FastFood`` et ``Gastronomique`` sont des sous-classes de ``Restaurant``. En plus des qualités de ``Restaurant``, ces deux sous-classes ont également une propriété ``qualite``. Cette propriété est de 0.5 pour ``FastFood`` et de 1.5 pour ``Gastronomique``.\n",
    "\n",
    "Vous testerez votre implémentation de la classe ``Restaurant`` avec les valeurs ci-dessous:\n",
    "* Un Restaurant ayant pour nom ``Restoé`` et qui propose un menu enfant, un menu midi et un menu soir\n",
    "* un FastFood ayant pour nom ``McQuick`` et qui propose un menu enfant et un menu midi\n",
    "* un Gastronomique ayant pour nom ``Fouquets`` et qui propose un menu midi et un menu soir\n",
    "\n",
    "Vous utiliserez la fonction ``print`` pour afficher chacune de ces instances ainsi que leur menu le plus cher."
   ]
  },
  {
   "cell_type": "markdown",
   "metadata": {},
   "source": [
    "# Correction"
   ]
  },
  {
   "cell_type": "code",
   "execution_count": 8,
   "metadata": {},
   "outputs": [],
   "source": [
    "from typing import List \n",
    "\n",
    "class Restaurant:\n",
    "    \n",
    "    def __init__(self, nom: str, menu: List[Menu]):\n",
    "        \"\"\"\n",
    "        Constructeur de la classe Restaurant\n",
    "\n",
    "        :param nom: nom du restaurant\n",
    "        :type nom: str\n",
    "        :param menu: liste des menus proposés\n",
    "        :type menu: List[Menu]\n",
    "        :raises IndexError: soulevée si menu est vide\n",
    "        \"\"\"\n",
    "        self.nom = nom\n",
    "        if len(menu) <= 1:\n",
    "            raise IndexError('Le restaurant doit proposer au moins deux menus')\n",
    "        else:\n",
    "            self.menu = menu\n",
    "\n",
    "    def __str__(self) -> str:\n",
    "        \"\"\"\n",
    "        Représentation en str de la classe\n",
    "\n",
    "        :return: représentation en str de la classe\n",
    "        :rtype: str\n",
    "        \"\"\"\n",
    "\n",
    "        return f\"Restaurant {self.nom}\"\n",
    "    \n",
    "    def plusCherMenu(self) -> Menu:\n",
    "        \"\"\"\n",
    "        Identifie le menu le plus cher dans la liste\n",
    "        proposée\n",
    "\n",
    "        :return: le menu le plus cher\n",
    "        :rtype: Menu\n",
    "        \"\"\"\n",
    "        list_prix = []\n",
    "        for menu in self.menu:\n",
    "            list_prix.append(menu.prix_menu)\n",
    "        max_prix = max(list_prix)\n",
    "        index_max = list_prix.index(max_prix)\n",
    "        return self.menu[index_max]\n",
    "    \n",
    "\n",
    "class FastFood(Restaurant):\n",
    "\n",
    "    \n",
    "    def __init__(self, nom: str, menu: List[Menu]):\n",
    "        \"\"\"\n",
    "        Constructeur de la classe FastFood. Herite de la \n",
    "        classe Restaurant\n",
    "\n",
    "        :param nom: nom du restaurant\n",
    "        :type nom: str\n",
    "        :param menu: liste des menus proposés\n",
    "        :type menu: List[Menu]\n",
    "        \"\"\"\n",
    "        super().__init__(nom, menu)\n",
    "        self.qualite = 0.5\n",
    "                \n",
    "class Gastronomique(Restaurant):\n",
    "    \n",
    "    def __init__(self, nom: str, menu: List[Menu]):\n",
    "        \"\"\"\n",
    "        Constructeur de la classe Gastronomique. Herite de la \n",
    "        classe Restaurant\n",
    "\n",
    "        :param nom: nom du restaurant\n",
    "        :type nom: str\n",
    "        :param menu: liste des menus proposés\n",
    "        :type menu: List[Menu]\n",
    "        \"\"\"\n",
    "        super().__init__(nom, menu)\n",
    "        self.qualite = 1.5\n",
    "\n"
   ]
  },
  {
   "cell_type": "code",
   "execution_count": 9,
   "metadata": {},
   "outputs": [
    {
     "name": "stdout",
     "output_type": "stream",
     "text": [
      "Restaurant Resto\n",
      "Restaurant McQuick\n",
      "Restaurant Fouquets\n"
     ]
    }
   ],
   "source": [
    "resto = Restaurant('Resto', [menu_enfant, menu_midi, menu_soir])\n",
    "print(resto)\n",
    "\n",
    "fastfood = FastFood('McQuick', [menu_enfant, menu_midi])\n",
    "print(fastfood)\n",
    "\n",
    "gastronomique = Gastronomique('Fouquets', [menu_midi, menu_soir])\n",
    "print(gastronomique)"
   ]
  },
  {
   "cell_type": "code",
   "execution_count": 10,
   "metadata": {},
   "outputs": [
    {
     "name": "stdout",
     "output_type": "stream",
     "text": [
      "Menu soir à 26 euros\n"
     ]
    }
   ],
   "source": [
    "menu_plus_cher = resto.plusCherMenu()\n",
    "print(menu_plus_cher)"
   ]
  },
  {
   "cell_type": "code",
   "execution_count": 11,
   "metadata": {},
   "outputs": [
    {
     "name": "stdout",
     "output_type": "stream",
     "text": [
      "Menu midi à 15 euros\n"
     ]
    }
   ],
   "source": [
    "menu_plus_cher = fastfood.plusCherMenu()\n",
    "print(menu_plus_cher)"
   ]
  },
  {
   "cell_type": "code",
   "execution_count": 12,
   "metadata": {},
   "outputs": [
    {
     "name": "stdout",
     "output_type": "stream",
     "text": [
      "Menu soir à 26 euros\n"
     ]
    }
   ],
   "source": [
    "menu_plus_cher = gastronomique.plusCherMenu()\n",
    "print(menu_plus_cher)"
   ]
  },
  {
   "cell_type": "code",
   "execution_count": null,
   "metadata": {},
   "outputs": [],
   "source": []
  },
  {
   "cell_type": "markdown",
   "metadata": {},
   "source": [
    "## Exercice 3\n",
    "\n",
    "\n",
    "Créez une fonction ``evaluerRestaurant``, qui prend en argument une instance de la classe ``Restaurant`` ou une instance de l'une de ses sous-classes. La note donnée à ce restaurant est égale à la taille de la propriété ``menu`` multipliée par la valeur de la propriété ``qualite``. Cette fonction doit pouvoir prendre en charge d'éventuelles erreurs et retourner dans tous les cas un résultat.\n",
    "\n",
    "Vous testerez ensuite votre fonction avec les instances de ``Restaurant``, ``FastFood`` et ``Gastronomique`` que vous avez créées précédemment."
   ]
  },
  {
   "attachments": {},
   "cell_type": "markdown",
   "metadata": {},
   "source": [
    "# Correction"
   ]
  },
  {
   "cell_type": "code",
   "execution_count": 16,
   "metadata": {},
   "outputs": [],
   "source": [
    "    \n",
    "def evaluerRestaurant(restaurant: Restaurant) -> int:\n",
    "    \"\"\"\n",
    "    Note le restaurant en se basant soit sur sa qualité et son menu,\n",
    "    soit juste sur son menu\n",
    "\n",
    "    :param restaurant: le restaurant à noter\n",
    "    :type restaurant: Restaurant\n",
    "    :return: la note du restaurant\n",
    "    :rtype: int\n",
    "    \"\"\"\n",
    "    try:\n",
    "\n",
    "        note_restaurant = len(restaurant.menu) * restaurant.qualite\n",
    "    except:\n",
    "        note_restaurant = len(restaurant.menu)                             \n",
    "    return note_restaurant"
   ]
  },
  {
   "cell_type": "code",
   "execution_count": 17,
   "metadata": {},
   "outputs": [
    {
     "name": "stdout",
     "output_type": "stream",
     "text": [
      "1.0\n",
      "3.0\n",
      "3\n"
     ]
    }
   ],
   "source": [
    "print(evaluerRestaurant(fastfood))\n",
    "print(evaluerRestaurant(gastronomique))\n",
    "print(evaluerRestaurant(resto))"
   ]
  },
  {
   "cell_type": "code",
   "execution_count": null,
   "metadata": {},
   "outputs": [],
   "source": []
  },
  {
   "attachments": {},
   "cell_type": "markdown",
   "metadata": {},
   "source": [
    "## Exercice 4\n",
    "\n",
    "Réalisez les étapes suivantes : \n",
    "\n",
    "### 1/\n",
    "Créez un dossier **main**. Dans ce dossier, créez un package ``restauration`` qui doit contenir les fichiers suivants:\n",
    "* \\_\\_init\\_\\_.py\n",
    "* menus.py\n",
    "* restaurants.py\n",
    "* utils.py\n",
    "\n",
    "Le fichier **menus.py** doit contenir les définitions des classes ``Menu``, ``MenuEnfant``, ``MenuMidi`` et ``MenuSoir``, comme dans l'exercice 1. Ce fichier doit également contenir la ligne **if \\_\\_name\\_\\_ == \"\\_\\_main\\_\\_\":**. Dans ce bloc, créez au moins une instance d'une de ces classes et affichez la valeur de l'attribut **plat**.\n",
    "\n",
    "Le fichier **restaurants.py** doit contenir les définitions des classes ``Restaurant``, ``FastFood``, et ``Gastronomique``, comme dans l'exercice 2. Ce fichier doit également contenir la ligne **if \\_\\_name\\_\\_ == \"\\_\\_main\\_\\_\":**. Dans ce bloc, créez au moins une instance d'une de ces classes et affichez la valeur de l'attribut **nom**.\n",
    "\n",
    "Le fichier **utils.py** doit contenir la fonction **evaluerRestaurant()** comme dans l'exercice 3.\n",
    "\n",
    "Créez ensuite un fichier **main.py** dans le dossier **main**. Ce fichier doit importer toutes les classes définies dans **menus.py**, **restaurants.py** et la fonction définie dans **utils.py**. Il doit également contenir la ligne **if \\_\\_name\\_\\_ == \"\\_\\_main\\_\\_\":**. Dans ce bloc, reproduisez l'exercice 3 de ce DM. Le fichier **main.py** doit être exécutable depuis un terminal. \n",
    "\n",
    "### 2/\n",
    "\n",
    "Utilisez **setuptools** pour rendre le package **restaurants** installable avec **pip**. Vous vous assurerez de son bon fonctionnement en installant ce package au sein d'un environnement virtuel, et en générant le fichier **requirements.txt**."
   ]
  },
  {
   "cell_type": "code",
   "execution_count": null,
   "metadata": {},
   "outputs": [],
   "source": []
  },
  {
   "attachments": {},
   "cell_type": "markdown",
   "metadata": {},
   "source": [
    "# Exercice 5\n",
    "\n",
    "Réalisez les étapes suivantes : \n",
    "\n",
    "## 1/\n",
    "\n",
    "Rédigez des **tests unitaires** pour le package **restauration**, en particulier pour les fichiers **menus.py**, **restaurants.py** et **utils.py** à l'aide de **pytest**, en suivant les consignes ci-dessous : \n",
    "\n",
    "* Pour **menus.py**, vous testerez que les instances de MenuEnfant, MenuMidi et MenuSoir sont biens construites en contrôlant la valeur de l'attribut **prix_menu**. Vous utiliserez le décorateur **pytest.fixture** pour créer les instances.\n",
    "* Pour **restaurants.py**, vous testerez que les instances de FastFood et Gastronomique sont bien construites en contrôlant la valeur de l'attribut **qualite**. Vous vous assurerez que le constructeur de Restaurant retourne bien une IndexError. Vous utiliserez le décorateur **pytest.fixture** pour créer les instances de FastFood et Gastronomique.\n",
    "\n",
    "* Pour **utils.py**, vous vous assurerez que la méthode **evaluerRestaurant()** retourne la bonne valeur pour une instance de Gastronomique. \n",
    "\n",
    "Vous penserez à appliquer vos tests au sein de l'environnement virtuel que vous avez crée. \n",
    "\n",
    "## 2/ \n",
    "\n",
    "Générez la documentation de votre package à l'aide de **sphinx**. \n",
    "\n"
   ]
  },
  {
   "cell_type": "code",
   "execution_count": null,
   "metadata": {},
   "outputs": [],
   "source": []
  }
 ],
 "metadata": {
  "kernelspec": {
   "display_name": "Python 3",
   "language": "python",
   "name": "python3"
  },
  "language_info": {
   "codemirror_mode": {
    "name": "ipython",
    "version": 3
   },
   "file_extension": ".py",
   "mimetype": "text/x-python",
   "name": "python",
   "nbconvert_exporter": "python",
   "pygments_lexer": "ipython3",
   "version": "3.9.10"
  },
  "vscode": {
   "interpreter": {
    "hash": "b0fa6594d8f4cbf19f97940f81e996739fb7646882a419484c72d19e05852a7e"
   }
  }
 },
 "nbformat": 4,
 "nbformat_minor": 4
}
