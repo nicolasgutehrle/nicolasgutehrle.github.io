{
 "cells": [
  {
   "cell_type": "markdown",
   "metadata": {},
   "source": [
    "#### Exercice 3\n",
    "Ecrivez un code python à partir l'UML donné. Rappel : commentez-bien votre code."
   ]
  },
  {
   "cell_type": "code",
   "execution_count": 28,
   "metadata": {},
   "outputs": [
    {
     "name": "stdout",
     "output_type": "stream",
     "text": [
      "Turkish is a language from the Ouralo-altaic family.\n",
      "Anatolian dialect is a dialect from the Anatolia region.\n",
      "Istanbul Turkish is a variety of the language and corresponds to its standard variation.\n"
     ]
    }
   ],
   "source": [
    "class Language:\n",
    "    def __init__(self, name, family):\n",
    "        # Constructor to initialize a Language object with name and family attributes\n",
    "        self.__name = name  # Name of the language\n",
    "        self.__family = family  # Family of the language\n",
    "    \n",
    "    def getName(self):\n",
    "        # Getter method to retrieve the name of the language\n",
    "        return self.__name\n",
    "    \n",
    "    def getFamily(self):\n",
    "        # Getter method to retrieve the family of the language\n",
    "        return self.__family\n",
    "    \n",
    "    def __str__(self) -> str:\n",
    "        # String representation of the language\n",
    "        return f\"{self.__name} is a language from the {self.__family} family.\"\n",
    "    \n",
    "class Dialect(Language):\n",
    "    def __init__(self, name, region):\n",
    "        # Constructor to initialize a Dialect object with name, region attributes\n",
    "        super().__init__(name, family=\"Dialect\")  # Call the constructor of the parent class to set the name\n",
    "        self.__region = region  # Region where the dialect is spoken\n",
    "\n",
    "    def getRegion(self):\n",
    "        # Getter method to retrieve the region where the dialect is spoken\n",
    "        return self.__region\n",
    "    \n",
    "    def __str__(self) -> str:\n",
    "        # String representation of the dialect\n",
    "        return f\"{super().getName()} is a dialect from the {self.__region} region.\"\n",
    "    \n",
    "class Variety(Language):\n",
    "    def __init__(self, name, type):\n",
    "        # Constructor to initialize a Variety object with name, type attributes\n",
    "        super().__init__(name, family=\"Variety\")  # Call the constructor of the parent class to set the name\n",
    "        self.__type = type  # Type of the language variety\n",
    "\n",
    "    def getType(self):\n",
    "        # Getter method to retrieve the type of the language variety\n",
    "        return self.__type\n",
    "    \n",
    "    def __str__(self) -> str:\n",
    "        # String representation of the language variety\n",
    "        return f\"{super().getName()} is a variety of the language and corresponds to its {self.__type} variation.\"\n",
    "\n",
    "turkish = Language(\"Turkish\", \"Ouralo-altaic\")\n",
    "print(turkish)\n",
    "\n",
    "anadolu = Dialect(\"Anatolian dialect\", \"Anatolia\")\n",
    "print(anadolu)\n",
    "\n",
    "istanbul = Variety(\"Istanbul Turkish\", \"standard\")\n",
    "print(istanbul)\n"
   ]
  },
  {
   "cell_type": "markdown",
   "metadata": {},
   "source": [
    "#### Exercice 4\n",
    "Voici un extrait de codes rempli d’erreur.\n",
    "<ul><li>Identifiez les types d’erreur</li>\n",
    "<li>Mettez la ligne en commentaire pour garder une trace de l’erreur</li>\n",
    "<li>Et proposez une correction.</li></ul>\n",
    "<br>\n",
    "Remarque : cet exercice a été testé avec un chatbot, celui-ci ne retrouve pas ni ne renvoie les bonnes réponses."
   ]
  },
  {
   "cell_type": "code",
   "execution_count": 29,
   "metadata": {},
   "outputs": [],
   "source": [
    "import nltk \n",
    "\n",
    "try:\n",
    "     nltk.data.find('tokenizers/punkt') \n",
    "except LookupError:\n",
    "     nltk.download('popular') #installe le subset  “populaire” de NLTK\n",
    "\n",
    "from nltk.corpus import inaugural # on importe le corpus des discours d'inauguration\n",
    "\n",
    "class Corpus:\n",
    "    \"\"\"Initialise une instance de la classe Corpus.\n",
    "\n",
    "        Args:\n",
    "            name (str): Le nom du corpus. Si non fourni, un corpus par défaut est utilisé.\n",
    "            corpusSize (int): la taille du corpus, soit le nombre de tokens.\n",
    "    \"\"\"\n",
    "    def __init__(self, name =\"\"):\n",
    "        self.__name = name\n",
    "        if self.__name != \"\": #on ne s'occupe pas de ce cas dans le cadre de cet exercice\n",
    "           pass \n",
    "        else:  \n",
    "            self.__name = '1789-Washington.txt' #si un corpus n'est pas donné, on récupère un fichier du corpus fourni par nltk\n",
    "            self.__corpusSize = len(inaugural.words('1789-Washington.txt')) \n",
    "            #on utilise la méthode words() prédéfinie de nltk qui sort une liste des tokens ['Fellow', '-', 'Citizens', 'of', 'the', ...]\n",
    "\n",
    "    def getName(self):\n",
    "        \"\"\"Renvoie le nom du corpus.\"\"\"\n",
    "    #CORRECTION\n",
    "    #    return self.name\n",
    "        return self.__name # on ajoute __ car name est un attribut privé, d'où l'utilisation d'un getter.\n",
    "    \n",
    "    def getCorpusSize(self):\n",
    "        \"\"\"Renvoie la taille du corpus.\"\"\"\n",
    "        return self.__corpusSize\n",
    "    \n",
    "    def __str__(self):\n",
    "        \"\"\"Renvoie une représentation sous forme de chaîne de caractères de l'objet.\"\"\"\n",
    "    #CORRECTION\n",
    "    #    return \"Corpus : \" + self.__name + \" ; size : \" + self.__corpusSize\n",
    "        return \"Corpus : \" + self.__name + \" ; size : \" + str(self.__corpusSize) # on transforme le dernier attribut en str pour éviter TypeError."
   ]
  },
  {
   "cell_type": "code",
   "execution_count": 30,
   "metadata": {},
   "outputs": [
    {
     "name": "stdout",
     "output_type": "stream",
     "text": [
      "Corpus : 1789-Washington.txt ; size : 1538\n"
     ]
    }
   ],
   "source": [
    "# Instanciation de la classe\n",
    "example_instance = Corpus(\"\")\n",
    "# Affichage de l'objet\n",
    "print(example_instance)"
   ]
  },
  {
   "cell_type": "code",
   "execution_count": 31,
   "metadata": {},
   "outputs": [
    {
     "data": {
      "text/plain": [
       "'1789-Washington.txt'"
      ]
     },
     "execution_count": 31,
     "metadata": {},
     "output_type": "execute_result"
    }
   ],
   "source": [
    "# Appel de méthodes\n",
    "example_instance.getName()"
   ]
  },
  {
   "cell_type": "code",
   "execution_count": 11,
   "metadata": {},
   "outputs": [
    {
     "data": {
      "text/plain": [
       "1538"
      ]
     },
     "execution_count": 11,
     "metadata": {},
     "output_type": "execute_result"
    }
   ],
   "source": [
    "example_instance.getCorpusSize()"
   ]
  }
 ],
 "metadata": {
  "kernelspec": {
   "display_name": "cc_techprog",
   "language": "python",
   "name": "python3"
  },
  "language_info": {
   "codemirror_mode": {
    "name": "ipython",
    "version": 3
   },
   "file_extension": ".py",
   "mimetype": "text/x-python",
   "name": "python",
   "nbconvert_exporter": "python",
   "pygments_lexer": "ipython3",
   "version": "3.12.1"
  }
 },
 "nbformat": 4,
 "nbformat_minor": 2
}
