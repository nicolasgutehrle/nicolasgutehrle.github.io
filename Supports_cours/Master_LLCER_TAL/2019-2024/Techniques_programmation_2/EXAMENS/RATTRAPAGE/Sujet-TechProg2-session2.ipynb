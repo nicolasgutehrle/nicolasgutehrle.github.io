{
 "cells": [
  {
   "attachments": {},
   "cell_type": "markdown",
   "metadata": {},
   "source": [
    "# Université de Franche-Comté - UFR SLHS - Examen terminal de 2nd session Année universitaire 2023-2024\n",
    "\n",
    "**Semestre** : 2nd session – 2nd semestre\n",
    "\n",
    "**Année** : Master 1\n",
    "\n",
    "**Unité d’enseignement** : VGT8U1 Mémoire et logiciel : techniques de programmation 2\n",
    "\n",
    "**Responsable UE** : Iana ATANASSOVA\n",
    "\n",
    "**Nom des correcteurs** : Nicolas Gutehrlé\n",
    "\n",
    "**Durée de l’épreuve** : 2H\n",
    "\n",
    "**Nature de l’épreuve** : ECRIT\n",
    "\n",
    "**Public concerné** : TOUS\n",
    "\n",
    "**Documents autorisés** : Supports de cours (partie 2)\n",
    "\n",
    "Tous les exercices sont à réaliser dans ce notebook. Les questions de l'exercice 1 peuvent être répondues dans un fichier à part. \n",
    "\n",
    "La première partie est à rendre sur feuille. La seconde partie est à renvoyer par mail à nicolas.gutehrle@univ-fcomte.fr \n",
    "\n",
    "Le plagiat, c'est-à-dire la copie directe des supports de cours sera sanctionnée.\n",
    "\n",
    "L'utilisation d'Internet est interdite.\n",
    "\n",
    "**L’utilisation des supports de cours est autorisée pour la seconde partie de ce travail.**\n",
    "Le travail est strictement personnel. L’évaluation portera sur la compréhension des notions du cours qui sera démontrée par l’étudiant. "
   ]
  },
  {
   "attachments": {},
   "cell_type": "markdown",
   "metadata": {},
   "source": [
    "# Partie 1 : Questions de cours (10 pts)\n",
    "\n",
    "Répondez aux six questions ci-dessous :\n",
    "\n",
    "1. Selon le paradigme de Programmation Orienté Objet, qu'est-ce qu'une classe ? Une instance de classe ? (2pts)\n",
    "2. A quoi servent les **getters** et les **setters** ? (1pt)\n",
    "3. Qu'elle est la différence entre une méthode et une fonction ? (1pt)\n",
    "4. Qu'est-ce que l'héritage en Programmation Orienté Objet ? En Python, que faut-il faire pour qu'une classe hérite d'une autre ? (2pts)\n",
    "5. En Python, comment peut-on faire en sorte qu'un programme continue de fonctionner, même s'il rencontre des erreurs ? A l'inverse, comment déclencher volontairement une erreur en Python ? (2pts)\n",
    "6. A quoi servent les environnements virtuels en Python ? Pourquoi sont-ils nécessaires ? (2pts)"
   ]
  },
  {
   "cell_type": "markdown",
   "metadata": {},
   "source": []
  },
  {
   "attachments": {},
   "cell_type": "markdown",
   "metadata": {},
   "source": []
  },
  {
   "attachments": {},
   "cell_type": "markdown",
   "metadata": {},
   "source": [
    "# Partie 2 : Programmation(10 pts)\n",
    "\n",
    "Implémentez la classe \"Memoire\", en respectant les consignes ci-dessous :\n",
    "\n",
    "* Elle possède un attribut public \"auteur\" de type str\n",
    "* Elle possède un attribut privé \"titre\" de type str également. Cet attribut doit avoir un getter et un setter pour pouvoir y accéder et le modifier.\n",
    "* Elle doit avoir une méthode pour représenter l'instance sous forme de str. Cette méthode doit retourner le message \"Mémoire {VALEUR DE L'ATTRIBUT TITRE} par {VALEUR DE L'ATTRIBUT TITRE} (ce qui est entre accolade doit être remplacé par les valeurs des variables correspondantes)\n",
    "* Elle doit avoir une méthode \"afficher_details\". Cette méthode retourne un dictionnaire dont les clés sont \"auteur\" et \"titre\". La clé \"auteur\" a pour valeur l'attribut \"auteur\". La clé \"titre\" a pour valeur l'attribut \"titre\".\n",
    "\n",
    "\n",
    "Créez une instance de cette classe avec les valeurs suivantes :\n",
    "* auteur : votre prénom\n",
    "* titre : \"PremierTitre\"\n",
    "\n",
    "Puis réalisez les actions suivantes :\n",
    "* Affichez cette instance sous forme de str\n",
    "* Appelez la méthode **afficher_details**\n",
    "* Changez la valeur de l'attribut privé \"titre\" pour la valeur \"NouveauTitre\". Vous vous assurerez que la modification a été prise en compte en affichant la valeur de l'attribut privé \"titre\"."
   ]
  },
  {
   "cell_type": "code",
   "execution_count": null,
   "metadata": {},
   "outputs": [],
   "source": []
  }
 ],
 "metadata": {
  "kernelspec": {
   "display_name": "cours",
   "language": "python",
   "name": "python3"
  },
  "language_info": {
   "codemirror_mode": {
    "name": "ipython",
    "version": 3
   },
   "file_extension": ".py",
   "mimetype": "text/x-python",
   "name": "python",
   "nbconvert_exporter": "python",
   "pygments_lexer": "ipython3",
   "version": "3.9.6"
  },
  "orig_nbformat": 4
 },
 "nbformat": 4,
 "nbformat_minor": 2
}
