{
 "cells": [
  {
   "cell_type": "code",
   "execution_count": null,
   "metadata": {},
   "outputs": [],
   "source": [
    "²v"
   ]
  },
  {
   "cell_type": "markdown",
   "metadata": {},
   "source": [
    "## Exercice\n",
    "\n",
    "Créez un nouveau projet dans PyCharm dans votre dossier de cours, que vous nommerez \"exercice1\". Vous vous assurerez que vous utiliserez un nouvel environnement, en utilisant \"Virtualenv\". "
   ]
  },
  {
   "cell_type": "markdown",
   "metadata": {},
   "source": [
    "## Exercice\n",
    "\n",
    "Ouvrir un fichier "
   ]
  },
  {
   "cell_type": "markdown",
   "metadata": {},
   "source": [
    "Pour ouvrir un fichier avec Python, il faut avant tout connaître le chemin qui mène à ce fichier. Ce chemin doit être relatif au fichier Python depuis lequel le code est exécuté. "
   ]
  },
  {
   "cell_type": "markdown",
   "metadata": {},
   "source": [
    "## Ressources\n",
    "\n",
    "RealPython\n",
    "\n",
    "StackOverflow"
   ]
  },
  {
   "cell_type": "markdown",
   "metadata": {},
   "source": [
    "## Ecrire une fonction"
   ]
  },
  {
   "cell_type": "code",
   "execution_count": null,
   "metadata": {},
   "outputs": [],
   "source": []
  },
  {
   "cell_type": "code",
   "execution_count": null,
   "metadata": {},
   "outputs": [],
   "source": []
  },
  {
   "cell_type": "code",
   "execution_count": null,
   "metadata": {},
   "outputs": [],
   "source": []
  },
  {
   "cell_type": "markdown",
   "metadata": {},
   "source": [
    "## Exercices "
   ]
  },
  {
   "cell_type": "code",
   "execution_count": 2,
   "metadata": {},
   "outputs": [],
   "source": [
    "corpus = \"\"\"One Ring to rule them all, One ring to find them; \n",
    "One ring to bring them all and in the darkness bind them.\"\"\""
   ]
  },
  {
   "cell_type": "markdown",
   "metadata": {},
   "source": [
    "Dans une variable nommée \"list_corpus\", transformez le texte de \"corpus\" en liste de mots "
   ]
  },
  {
   "cell_type": "markdown",
   "metadata": {},
   "source": [
    "## Dictionnaires"
   ]
  },
  {
   "cell_type": "markdown",
   "metadata": {},
   "source": [
    "### Exercice\n",
    "\n",
    "1/ Créez une variable \"wordCount\", qui sera de type ``dict``. Puis, à l'aide d'une boucle, parcourez tous les éléments de la variables \"list_corpus\".\n",
    "Les clés du dictionnaire sont les mots du texte tandis que les valeurs correspondent à la fréquence d'apparition du mot (donc de la clé) dans le texte.\n",
    "Pour chaque mot de la liste, l'ajouter au dictionnaire si il n'y est pas, sinon augmenter sa valeur de 1. Une fois la boucle terminée, affichez le dictionnaire à l'aie de la fonction ``print``.\n",
    "\n",
    "**Indice**: vous devez obtenir un résultat similaire à ça:\n",
    "{ \"One\": 3,\n",
    "\"Ring\": 1,\n",
    "\"to\": 3\n",
    "}"
   ]
  },
  {
   "cell_type": "markdown",
   "metadata": {},
   "source": [
    "### Solution"
   ]
  },
  {
   "cell_type": "markdown",
   "metadata": {},
   "source": []
  },
  {
   "cell_type": "code",
   "execution_count": null,
   "metadata": {},
   "outputs": [],
   "source": []
  },
  {
   "cell_type": "markdown",
   "metadata": {},
   "source": [
    "### Exercice\n",
    "\n",
    "1/ Depuis Python, créez un fichier nommé \"wordCount.txt\"\n",
    "2/ Utilisez une boucle pour parcourir les éléments du dictionnaire ``wordCount``. Pour chacun de ces élément, l'écrire dans le fichier \"wordCount.txt\". Votre fichier doit ressembler à ci-dessous: \n",
    "\n",
    "\"\"\" One 3\n",
    "Ring 1\n",
    "to 3\n",
    "... \"\"\"\n",
    "\n",
    "3/ Sur Internet, cherchez une solution pour enregistrer le dictionnaire \"wordCount\" dans un fichier sur le disque. Essayez de trouver plusieurs méthodes ou réponses, et de les expliquer"
   ]
  },
  {
   "cell_type": "markdown",
   "metadata": {},
   "source": []
  },
  {
   "cell_type": "code",
   "execution_count": null,
   "metadata": {},
   "outputs": [],
   "source": []
  },
  {
   "cell_type": "markdown",
   "metadata": {},
   "source": [
    "### Exercice"
   ]
  },
  {
   "cell_type": "markdown",
   "metadata": {},
   "source": [
    "## Solution"
   ]
  },
  {
   "cell_type": "code",
   "execution_count": null,
   "metadata": {},
   "outputs": [],
   "source": []
  },
  {
   "cell_type": "code",
   "execution_count": null,
   "metadata": {},
   "outputs": [],
   "source": []
  },
  {
   "cell_type": "markdown",
   "metadata": {},
   "source": [
    "## Tuples"
   ]
  },
  {
   "cell_type": "markdown",
   "metadata": {},
   "source": [
    "## Exercice\n",
    "\n",
    "1/ Bouclez sur la variable \"list_corpus\". Dans votre boucle, utilisez la fonction ``print`` pour afficher le mot courant et le mot qui le suit\n",
    "\n",
    "**Indice**: pour pouvoir afficher le mot courant et le suivant, vous aurez besoin d'y accéder via l'index\n",
    "\n"
   ]
  },
  {
   "cell_type": "markdown",
   "metadata": {},
   "source": []
  },
  {
   "cell_type": "code",
   "execution_count": null,
   "metadata": {},
   "outputs": [],
   "source": []
  },
  {
   "cell_type": "code",
   "execution_count": null,
   "metadata": {},
   "outputs": [],
   "source": []
  },
  {
   "cell_type": "markdown",
   "metadata": {},
   "source": [
    "### Exercice\n",
    "\n",
    "Cet exercice est similaire au précédent. Cependant, au lieu d'utiliser la fonction ``print``, vous allez créer une variable ``bigramme`` qui est de type ``tuple``. Ce tuple contiendra le mot courant ainsi que le suivant. Une fois la variable créée, vous l'ajouterez à une liste ``listTuples`` que vous aurez créée avant la boucle. Une fois la boucle terminée, ``printez`` la valeur de ``listTuples``.\n"
   ]
  },
  {
   "cell_type": "markdown",
   "metadata": {},
   "source": [
    "### Solution"
   ]
  },
  {
   "cell_type": "code",
   "execution_count": null,
   "metadata": {},
   "outputs": [],
   "source": []
  },
  {
   "cell_type": "code",
   "execution_count": null,
   "metadata": {},
   "outputs": [],
   "source": []
  },
  {
   "cell_type": "markdown",
   "metadata": {},
   "source": [
    "### Exercice\n",
    "\n",
    "1/ Créez une variable ``tuple_corpus``, qui sera de type ``tuple``. Bouclez sur la variable ``list_corpus`` et pour chaque élément, l'ajouter à la variable ``tuple_corpus``.\n",
    "\n",
    "2/ Créez une variable ``tuple_corpus``, dans laquelle vous ajouterez les 6 premiers mots du corpus, puis utilisez la fonction ``print``\n",
    "\n",
    "2/ Créez une variable ``tuple_corpus``, dans laquelle vous ajouterez seulement le 1 premier mot du corpus, puis utilisez la fonction ``print``"
   ]
  },
  {
   "cell_type": "markdown",
   "metadata": {},
   "source": [
    "## Solution"
   ]
  },
  {
   "cell_type": "code",
   "execution_count": null,
   "metadata": {},
   "outputs": [],
   "source": []
  },
  {
   "cell_type": "code",
   "execution_count": null,
   "metadata": {},
   "outputs": [],
   "source": []
  },
  {
   "cell_type": "markdown",
   "metadata": {},
   "source": [
    "## Set"
   ]
  },
  {
   "cell_type": "markdown",
   "metadata": {},
   "source": [
    "### Exercice\n",
    "\n",
    "1/ Créez une variable ``setCorpus``, qui est de type ``set``. Donnez en argument la variable ``listCorpus`` pour immédiatement remplir la variable. Affichez la à l'aide de la fonction ``print``.\n",
    "\n",
    "2/ Créez une variable ``setListCorpus``, qui est de type ``set``. Bouclez sur la variable ``listCorpus`` **si celui-ci ne commence pas par une majuscule**. Pour chaque élément de la liste, l'ajouter à  ``setListCorpus``. Une fois terminé, affichez le résultat à l'aide de la fonction ``print``. \n",
    "\n",
    "**Note**: n'hésitez pas à vous aidez d'Internet"
   ]
  },
  {
   "cell_type": "markdown",
   "metadata": {},
   "source": [
    "### Exercice\n",
    "\n",
    "Créez une variable ``first_half``, qui contient la première moitié de la liste ``listCorpus``. Créez une variable ``second_half``, qui contient la seconde moitié de la liste ``listCorpus``.\n",
    "Créez ensuite deux variables, ``setFirstHalf`` et ``setSecondHalf``, qui contiendront respectivement les variables ``first_half`` et ``second_half``. "
   ]
  },
  {
   "cell_type": "code",
   "execution_count": null,
   "metadata": {},
   "outputs": [],
   "source": []
  },
  {
   "cell_type": "markdown",
   "metadata": {},
   "source": [
    "# Ressources"
   ]
  }
 ],
 "metadata": {
  "kernelspec": {
   "display_name": "Python 3",
   "language": "python",
   "name": "python3"
  },
  "language_info": {
   "codemirror_mode": {
    "name": "ipython",
    "version": 3
   },
   "file_extension": ".py",
   "mimetype": "text/x-python",
   "name": "python",
   "nbconvert_exporter": "python",
   "pygments_lexer": "ipython3",
   "version": "3.8.5"
  }
 },
 "nbformat": 4,
 "nbformat_minor": 4
}
