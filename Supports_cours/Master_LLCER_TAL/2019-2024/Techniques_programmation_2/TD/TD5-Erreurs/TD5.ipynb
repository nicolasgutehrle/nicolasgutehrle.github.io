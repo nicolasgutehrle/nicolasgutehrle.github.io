{
 "cells": [
  {
   "attachments": {},
   "cell_type": "markdown",
   "metadata": {},
   "source": [
    "# TD5 - Exceptions, gestion des erreurs"
   ]
  },
  {
   "cell_type": "code",
   "execution_count": null,
   "metadata": {},
   "outputs": [],
   "source": [
    "class Vehicule:\n",
    "    def __init__(self, roues, direction, siege):\n",
    "        self.roues = roues\n",
    "        self.direction = direction\n",
    "        self.siege = siege\n",
    "        \n",
    "    def demarrer(self):\n",
    "        print(\"Le véhicule démarre\")\n",
    "\n",
    "    def afficher_details(self):\n",
    "        return self.__dict__\n",
    "\n",
    "class VehiculeAMoteur(Vehicule):\n",
    "    def __init__(self,roues, direction, siege, moteur):\n",
    "        super().__init__(roues, direction, siege)\n",
    "        self.moteur = moteur\n",
    "        \n",
    "    def demarrer(self):\n",
    "        print('Le véhicule à moteur démarre')\n",
    "        \n",
    "class VehiculeSansMoteur(Vehicule):\n",
    "    def __init__(self, roues, direction, siege):\n",
    "        super().__init__(roues, direction, siege)\n",
    "        \n",
    "    def demarrer(self):\n",
    "        print('Le véhicule sans moteur démarre')\n",
    "\n",
    "class Voiture(VehiculeAMoteur):\n",
    "    def __init__(self, roues, direction, siege, moteur, portes):\n",
    "        super().__init__(roues, direction, siege, moteur)\n",
    "        self.portes = portes\n",
    "        \n",
    "    def demarrer(self):\n",
    "        print(\"La voiture démarre\")\n",
    "\n",
    "class Camion(VehiculeAMoteur):\n",
    "    def __init__(self, roues, direction, siege, moteur):\n",
    "        super().__init__(roues, direction, siege, moteur)\n",
    "        self.portes = 2,\n",
    "        self.remorque = True\n",
    "        \n",
    "    def demarrer(self):\n",
    "        print(\"Le camion démarre\")\n",
    "\n",
    "class Moto(VehiculeAMoteur):\n",
    "    def __init__(self, direction, siege, moteur):\n",
    "        super().__init__(2, direction, siege, moteur)\n",
    "        self.moteur = moteur\n",
    "        \n",
    "    def demarrer(self):\n",
    "        print(\"La moto démarre\")\n",
    "        \n",
    "class Velo(VehiculeSansMoteur):\n",
    "    def __init__(self, roues, direction, siege):\n",
    "        super().__init__(2, direction, siege)\n",
    "\n",
    "    def demarrer(self):\n",
    "        print(\"Le vélo pédale\")    \n",
    "\n",
    "class Trottinette(VehiculeSansMoteur):\n",
    "    def __init__(self, roues, direction, siege):\n",
    "        super().__init__(roues, direction, siege)\n",
    "\n",
    "    def demarrer(self):\n",
    "        print(\"La trottinette se propulse\") \n",
    "     "
   ]
  },
  {
   "cell_type": "markdown",
   "metadata": {},
   "source": [
    "## Exercice 1\n",
    "\n",
    "Ci-dessous, les classes Vehicules et les classes enfants que l'on a créées aux cours précédents. Dans cette exercice, vous modifierez ces classes en y intégrant la gestion des erreurs.\n",
    "\n",
    "Dans la classe **Vehicule**:\n",
    "\n",
    "    * La propriété \"roue\" doit être de type int\n",
    "    * La propriété \"direction\" doit avoir l'une des valeurs suivantes: volant, guidon\n",
    "    * La propriété \"siege\" doit avoir l'une des valeurs suivantes: fauteuil, selle, support\n",
    "\n",
    "Dans la classe **VehiculeAMoteur**:\n",
    "\n",
    "    * La propriété \"moteur\" doit avoir l'une des valeurs suivantes: diesel, essence, electrique\n",
    "\n",
    "Dans la classe **Voiture**:\n",
    "\n",
    "    * La propriété \"portes\" doit être égale à 3, 4 ou 5. Elle doit aussi être de type int.\n",
    "\n",
    "Dans la classe **Camion**:\n",
    "\n",
    "    * Ajoutez un argument \"remorque\" au constructeur\n",
    "    * La propriété \"remorque\" doit être une valeur booléenne\n",
    "\n",
    "Si une des conditions ci-dessus n'est pas respectée, votre programme doit renvoyer un message d'erreur à l'aide de la fonction **raise()**. Ce message doit indiquer l'erreur, et indiquer quelles valeurs sont attendues. Modifiez les classes une par une. Lorsque vous avez terminé de modifier une classe, créez en une instance et assurez que votre code fonctionne (et retourne les erreurs quand nécessaire). N'hésitez pas à utiliser la méthode afficher_details() pour afficher vos instance de classe.\n",
    "\n",
    "Pour contrôler le type d'une variable, on peut utiliser la fonction **isinstance()** comme ceci: **if isinstance(value, type):**.\n",
    "\n",
    "Pour une liste de toutes les exceptions disponibles par défaut dans Python, voir documentation : https://docs.python.org/3/library/exceptions.html \n",
    "\n",
    "\n"
   ]
  },
  {
   "cell_type": "code",
   "execution_count": null,
   "metadata": {},
   "outputs": [],
   "source": []
  },
  {
   "cell_type": "markdown",
   "metadata": {},
   "source": [
    "## Solution"
   ]
  },
  {
   "cell_type": "code",
   "execution_count": 5,
   "metadata": {},
   "outputs": [
    {
     "name": "stdout",
     "output_type": "stream",
     "text": [
      "{'roues': 4, 'direction': 'volant', 'siege': 'fauteuil'}\n"
     ]
    },
    {
     "ename": "TypeError",
     "evalue": "La propriété \"roues\" doit être de type int",
     "output_type": "error",
     "traceback": [
      "\u001b[0;31m---------------------------------------------------------------------------\u001b[0m",
      "\u001b[0;31mTypeError\u001b[0m                                 Traceback (most recent call last)",
      "\u001b[0;32m/var/folders/g9/npfr2mks4118dkv7g8ckgccr0000gn/T/ipykernel_19953/4251930105.py\u001b[0m in \u001b[0;36m<module>\u001b[0;34m\u001b[0m\n\u001b[1;32m     36\u001b[0m \u001b[0mvehicule\u001b[0m \u001b[0;34m=\u001b[0m \u001b[0mVehicule\u001b[0m\u001b[0;34m(\u001b[0m\u001b[0;36m4\u001b[0m\u001b[0;34m,\u001b[0m \u001b[0;34m'volant'\u001b[0m\u001b[0;34m,\u001b[0m \u001b[0;34m'fauteuil'\u001b[0m\u001b[0;34m)\u001b[0m\u001b[0;34m\u001b[0m\u001b[0;34m\u001b[0m\u001b[0m\n\u001b[1;32m     37\u001b[0m \u001b[0mprint\u001b[0m\u001b[0;34m(\u001b[0m\u001b[0mvehicule\u001b[0m\u001b[0;34m.\u001b[0m\u001b[0mafficher_details\u001b[0m\u001b[0;34m(\u001b[0m\u001b[0;34m)\u001b[0m\u001b[0;34m)\u001b[0m\u001b[0;34m\u001b[0m\u001b[0;34m\u001b[0m\u001b[0m\n\u001b[0;32m---> 38\u001b[0;31m \u001b[0mbad_vehicule\u001b[0m \u001b[0;34m=\u001b[0m \u001b[0mVehicule\u001b[0m\u001b[0;34m(\u001b[0m\u001b[0;36m3.5\u001b[0m\u001b[0;34m,\u001b[0m \u001b[0;34m'lama'\u001b[0m\u001b[0;34m,\u001b[0m \u001b[0;34m'canapé'\u001b[0m\u001b[0;34m)\u001b[0m\u001b[0;34m\u001b[0m\u001b[0;34m\u001b[0m\u001b[0m\n\u001b[0m",
      "\u001b[0;32m/var/folders/g9/npfr2mks4118dkv7g8ckgccr0000gn/T/ipykernel_19953/4251930105.py\u001b[0m in \u001b[0;36m__init__\u001b[0;34m(self, roues, direction, siege)\u001b[0m\n\u001b[1;32m      4\u001b[0m             \u001b[0mself\u001b[0m\u001b[0;34m.\u001b[0m\u001b[0mroues\u001b[0m \u001b[0;34m=\u001b[0m \u001b[0mroues\u001b[0m\u001b[0;34m\u001b[0m\u001b[0;34m\u001b[0m\u001b[0m\n\u001b[1;32m      5\u001b[0m         \u001b[0;32melse\u001b[0m\u001b[0;34m:\u001b[0m\u001b[0;34m\u001b[0m\u001b[0;34m\u001b[0m\u001b[0m\n\u001b[0;32m----> 6\u001b[0;31m             \u001b[0;32mraise\u001b[0m \u001b[0mTypeError\u001b[0m\u001b[0;34m(\u001b[0m\u001b[0;34m'La propriété \"roues\" doit être de type int'\u001b[0m\u001b[0;34m)\u001b[0m\u001b[0;34m\u001b[0m\u001b[0;34m\u001b[0m\u001b[0m\n\u001b[0m\u001b[1;32m      7\u001b[0m \u001b[0;34m\u001b[0m\u001b[0m\n\u001b[1;32m      8\u001b[0m         \u001b[0;32mif\u001b[0m \u001b[0mdirection\u001b[0m \u001b[0;32min\u001b[0m \u001b[0;34m[\u001b[0m\u001b[0;34m'volant'\u001b[0m\u001b[0;34m,\u001b[0m \u001b[0;34m'guidon'\u001b[0m\u001b[0;34m]\u001b[0m\u001b[0;34m:\u001b[0m\u001b[0;34m\u001b[0m\u001b[0;34m\u001b[0m\u001b[0m\n",
      "\u001b[0;31mTypeError\u001b[0m: La propriété \"roues\" doit être de type int"
     ]
    }
   ],
   "source": [
    "class Vehicule:\n",
    "    def __init__(self, roues, direction, siege):\n",
    "        if isinstance(roues, int):\n",
    "            self.roues = roues\n",
    "        else:\n",
    "            raise TypeError('La propriété \"roues\" doit être de type int')\n",
    "\n",
    "        if direction in ['volant', 'guidon']:\n",
    "            self.direction = direction\n",
    "        else:\n",
    "            raise ValueError('La propriété \"direction\" doit avoir une des valeurs suivantes: volant, guidon')\n",
    "        if siege in ['fauteuil', 'selle']:\n",
    "            self.siege = siege\n",
    "        else:\n",
    "            raise ValueError('La propriété \"direction\" doit avoir une des valeurs suivantes: fauteuil, selle')\n",
    "        \n",
    "    def demarrer(self):\n",
    "        print(\"Le véhicule démarre\")\n",
    "\n",
    "    def afficher_details(self):\n",
    "        return self.__dict__\n",
    "\n",
    "class VehiculeAMoteur(Vehicule):\n",
    "    def __init__(self,roues, direction, siege, moteur):\n",
    "        super().__init__(roues, direction, siege)\n",
    "        if moteur in ['diesel', 'essence', 'electrique']:\n",
    "            self.moteur = moteur\n",
    "        else:\n",
    "            raise ValueError('La propriété \"direction\" doit avoir une des valeurs suivantes: diesel, essence', 'electrique')\n",
    "        \n",
    "        \n",
    "    def demarrer(self):\n",
    "        print('Le véhicule à moteur démarre')\n",
    "\n",
    "\n",
    "vehicule = Vehicule(4, 'volant', 'fauteuil')\n",
    "print(vehicule.afficher_details())\n",
    "bad_vehicule = Vehicule(3.5, 'lama', 'canapé')"
   ]
  },
  {
   "cell_type": "code",
   "execution_count": 6,
   "metadata": {},
   "outputs": [
    {
     "name": "stdout",
     "output_type": "stream",
     "text": [
      "{'roues': 4, 'direction': 'volant', 'siege': 'fauteuil', 'moteur': 'diesel', 'portes': 5}\n"
     ]
    },
    {
     "ename": "ValueError",
     "evalue": "La propriété \"portes\" doit être située entre 3 et 5",
     "output_type": "error",
     "traceback": [
      "\u001b[0;31m---------------------------------------------------------------------------\u001b[0m",
      "\u001b[0;31mValueError\u001b[0m                                Traceback (most recent call last)",
      "\u001b[0;32m/var/folders/g9/npfr2mks4118dkv7g8ckgccr0000gn/T/ipykernel_19953/1007112247.py\u001b[0m in \u001b[0;36m<module>\u001b[0;34m\u001b[0m\n\u001b[1;32m     17\u001b[0m \u001b[0mvoiture\u001b[0m \u001b[0;34m=\u001b[0m \u001b[0mVoiture\u001b[0m\u001b[0;34m(\u001b[0m\u001b[0;36m4\u001b[0m\u001b[0;34m,\u001b[0m \u001b[0;34m\"volant\"\u001b[0m\u001b[0;34m,\u001b[0m \u001b[0;34m\"fauteuil\"\u001b[0m\u001b[0;34m,\u001b[0m \u001b[0;34m\"diesel\"\u001b[0m\u001b[0;34m,\u001b[0m \u001b[0;36m5\u001b[0m\u001b[0;34m)\u001b[0m\u001b[0;34m\u001b[0m\u001b[0;34m\u001b[0m\u001b[0m\n\u001b[1;32m     18\u001b[0m \u001b[0mprint\u001b[0m\u001b[0;34m(\u001b[0m\u001b[0mvoiture\u001b[0m\u001b[0;34m.\u001b[0m\u001b[0mafficher_details\u001b[0m\u001b[0;34m(\u001b[0m\u001b[0;34m)\u001b[0m\u001b[0;34m)\u001b[0m\u001b[0;34m\u001b[0m\u001b[0;34m\u001b[0m\u001b[0m\n\u001b[0;32m---> 19\u001b[0;31m \u001b[0mbad_voiture\u001b[0m \u001b[0;34m=\u001b[0m \u001b[0mVoiture\u001b[0m\u001b[0;34m(\u001b[0m\u001b[0;36m4\u001b[0m\u001b[0;34m,\u001b[0m \u001b[0;34m\"volant\"\u001b[0m\u001b[0;34m,\u001b[0m \u001b[0;34m\"fauteuil\"\u001b[0m\u001b[0;34m,\u001b[0m \u001b[0;34m\"diesel\"\u001b[0m\u001b[0;34m,\u001b[0m \u001b[0;36m8\u001b[0m\u001b[0;34m)\u001b[0m\u001b[0;34m\u001b[0m\u001b[0;34m\u001b[0m\u001b[0m\n\u001b[0m",
      "\u001b[0;32m/var/folders/g9/npfr2mks4118dkv7g8ckgccr0000gn/T/ipykernel_19953/1007112247.py\u001b[0m in \u001b[0;36m__init__\u001b[0;34m(self, roues, direction, siege, moteur, portes)\u001b[0m\n\u001b[1;32m      6\u001b[0m                 \u001b[0mself\u001b[0m\u001b[0;34m.\u001b[0m\u001b[0mportes\u001b[0m \u001b[0;34m=\u001b[0m \u001b[0mportes\u001b[0m\u001b[0;34m\u001b[0m\u001b[0;34m\u001b[0m\u001b[0m\n\u001b[1;32m      7\u001b[0m             \u001b[0;32melse\u001b[0m\u001b[0;34m:\u001b[0m\u001b[0;34m\u001b[0m\u001b[0;34m\u001b[0m\u001b[0m\n\u001b[0;32m----> 8\u001b[0;31m                 \u001b[0;32mraise\u001b[0m \u001b[0mValueError\u001b[0m\u001b[0;34m(\u001b[0m\u001b[0;34m'La propriété \"portes\" doit être située entre 3 et 5'\u001b[0m\u001b[0;34m)\u001b[0m\u001b[0;34m\u001b[0m\u001b[0;34m\u001b[0m\u001b[0m\n\u001b[0m\u001b[1;32m      9\u001b[0m         \u001b[0;32melse\u001b[0m\u001b[0;34m:\u001b[0m\u001b[0;34m\u001b[0m\u001b[0;34m\u001b[0m\u001b[0m\n\u001b[1;32m     10\u001b[0m             \u001b[0;32mraise\u001b[0m \u001b[0mTypeError\u001b[0m\u001b[0;34m(\u001b[0m\u001b[0;34m'La propriété \"portes\" doit être située entre de type int'\u001b[0m\u001b[0;34m)\u001b[0m\u001b[0;34m\u001b[0m\u001b[0;34m\u001b[0m\u001b[0m\n",
      "\u001b[0;31mValueError\u001b[0m: La propriété \"portes\" doit être située entre 3 et 5"
     ]
    }
   ],
   "source": [
    "class Voiture(VehiculeAMoteur):\n",
    "    def __init__(self, roues, direction, siege, moteur, portes):\n",
    "        super().__init__(roues, direction, siege, moteur)\n",
    "        if isinstance(portes, int):\n",
    "            if 3 <= portes <= 5:\n",
    "                self.portes = portes\n",
    "            else:\n",
    "                raise ValueError('La propriété \"portes\" doit être située entre 3 et 5')\n",
    "        else:\n",
    "            raise TypeError('La propriété \"portes\" doit être située entre de type int')\n",
    "\n",
    "        \n",
    "    def demarrer(self):\n",
    "        print(\"La voiture démarre\")\n",
    "\n",
    "\n",
    "voiture = Voiture(4, \"volant\", \"fauteuil\", \"diesel\", 5)\n",
    "print(voiture.afficher_details())\n",
    "bad_voiture = Voiture(4, \"volant\", \"fauteuil\", \"diesel\", 8)"
   ]
  },
  {
   "cell_type": "code",
   "execution_count": 7,
   "metadata": {},
   "outputs": [
    {
     "name": "stdout",
     "output_type": "stream",
     "text": [
      "{'roues': 8, 'direction': 'volant', 'siege': 'fauteuil', 'moteur': 'electrique', 'portes': 2, 'remorque': True}\n"
     ]
    },
    {
     "ename": "TypeError",
     "evalue": "La propriété \"portes\" doit être située entre de type bool",
     "output_type": "error",
     "traceback": [
      "\u001b[0;31m---------------------------------------------------------------------------\u001b[0m",
      "\u001b[0;31mTypeError\u001b[0m                                 Traceback (most recent call last)",
      "\u001b[0;32m/var/folders/g9/npfr2mks4118dkv7g8ckgccr0000gn/T/ipykernel_19953/2648396811.py\u001b[0m in \u001b[0;36m<module>\u001b[0;34m\u001b[0m\n\u001b[1;32m     15\u001b[0m \u001b[0mcamion\u001b[0m \u001b[0;34m=\u001b[0m \u001b[0mCamion\u001b[0m\u001b[0;34m(\u001b[0m\u001b[0;36m8\u001b[0m\u001b[0;34m,\u001b[0m \u001b[0;34m\"volant\"\u001b[0m\u001b[0;34m,\u001b[0m \u001b[0;34m\"fauteuil\"\u001b[0m\u001b[0;34m,\u001b[0m \u001b[0;34m\"electrique\"\u001b[0m\u001b[0;34m,\u001b[0m \u001b[0;32mTrue\u001b[0m\u001b[0;34m)\u001b[0m\u001b[0;34m\u001b[0m\u001b[0;34m\u001b[0m\u001b[0m\n\u001b[1;32m     16\u001b[0m \u001b[0mprint\u001b[0m\u001b[0;34m(\u001b[0m\u001b[0mcamion\u001b[0m\u001b[0;34m.\u001b[0m\u001b[0mafficher_details\u001b[0m\u001b[0;34m(\u001b[0m\u001b[0;34m)\u001b[0m\u001b[0;34m)\u001b[0m\u001b[0;34m\u001b[0m\u001b[0;34m\u001b[0m\u001b[0m\n\u001b[0;32m---> 17\u001b[0;31m \u001b[0mbad_camion\u001b[0m \u001b[0;34m=\u001b[0m \u001b[0mCamion\u001b[0m\u001b[0;34m(\u001b[0m\u001b[0;36m8\u001b[0m\u001b[0;34m,\u001b[0m \u001b[0;34m\"volant\"\u001b[0m\u001b[0;34m,\u001b[0m \u001b[0;34m\"fauteuil\"\u001b[0m\u001b[0;34m,\u001b[0m \u001b[0;34m\"electrique\"\u001b[0m\u001b[0;34m,\u001b[0m \u001b[0;34m\"Oui\"\u001b[0m\u001b[0;34m)\u001b[0m\u001b[0;34m\u001b[0m\u001b[0;34m\u001b[0m\u001b[0m\n\u001b[0m",
      "\u001b[0;32m/var/folders/g9/npfr2mks4118dkv7g8ckgccr0000gn/T/ipykernel_19953/2648396811.py\u001b[0m in \u001b[0;36m__init__\u001b[0;34m(self, roues, direction, siege, moteur, remorque)\u001b[0m\n\u001b[1;32m      7\u001b[0m             \u001b[0mself\u001b[0m\u001b[0;34m.\u001b[0m\u001b[0mremorque\u001b[0m \u001b[0;34m=\u001b[0m \u001b[0mremorque\u001b[0m\u001b[0;34m\u001b[0m\u001b[0;34m\u001b[0m\u001b[0m\n\u001b[1;32m      8\u001b[0m         \u001b[0;32melse\u001b[0m\u001b[0;34m:\u001b[0m\u001b[0;34m\u001b[0m\u001b[0;34m\u001b[0m\u001b[0m\n\u001b[0;32m----> 9\u001b[0;31m             \u001b[0;32mraise\u001b[0m \u001b[0mTypeError\u001b[0m\u001b[0;34m(\u001b[0m\u001b[0;34m'La propriété \"portes\" doit être située entre de type bool'\u001b[0m\u001b[0;34m)\u001b[0m\u001b[0;34m\u001b[0m\u001b[0;34m\u001b[0m\u001b[0m\n\u001b[0m\u001b[1;32m     10\u001b[0m \u001b[0;34m\u001b[0m\u001b[0m\n\u001b[1;32m     11\u001b[0m \u001b[0;34m\u001b[0m\u001b[0m\n",
      "\u001b[0;31mTypeError\u001b[0m: La propriété \"portes\" doit être située entre de type bool"
     ]
    }
   ],
   "source": [
    "class Camion(VehiculeAMoteur):\n",
    "    def __init__(self, roues, direction, siege, moteur, remorque):\n",
    "        super().__init__(roues, direction, siege, moteur)\n",
    "        self.portes = 2\n",
    "\n",
    "        if isinstance(remorque, bool):\n",
    "            self.remorque = remorque\n",
    "        else:\n",
    "            raise TypeError('La propriété \"portes\" doit être située entre de type bool')\n",
    "           \n",
    "        \n",
    "    def demarrer(self):\n",
    "        print(\"Le camion démarre\")\n",
    "\n",
    "camion = Camion(8, \"volant\", \"fauteuil\", \"electrique\", True)\n",
    "print(camion.afficher_details())\n",
    "bad_camion = Camion(8, \"volant\", \"fauteuil\", \"electrique\", \"Oui\")"
   ]
  },
  {
   "cell_type": "markdown",
   "metadata": {},
   "source": [
    "## Exercice 2\n",
    "\n",
    "Créez une fonction (donc en dehors de toutes classes) nommée ``calculerVitesse``, qui prend en argument une instance d'un des types de véhicules définis plus haut. Votre fonction doit appliquer la logique suivante:\n",
    "\n",
    "* Une véhicule à essence à une vitesse de base de 1, un véhicule diesel à une vitesse de base de 2 et un véhicule électrique a une vitesse de base de 3\n",
    "* La vitesse du véhicule est égale au type de moteur divisé par le nombre de roues. Votre fonction doit retourner la vitesse obtenue. \n",
    "\n",
    "Vous testerez votre fonction avec une instance de chaque type de Vehicule (Camion, Moto, Voiture, Velo et Trottinette). Votre fonction doit gérer les éventuelles erreurs liées au type de Véhicule donné en argument. N'hésitez pas à écrire votre fonction puis à revenir dessus après avoir fait des tests pour ajouter la gestion d'erreurs.\n",
    "\n"
   ]
  },
  {
   "cell_type": "code",
   "execution_count": null,
   "metadata": {},
   "outputs": [],
   "source": []
  },
  {
   "cell_type": "markdown",
   "metadata": {},
   "source": [
    "## Solution"
   ]
  },
  {
   "cell_type": "code",
   "execution_count": 8,
   "metadata": {},
   "outputs": [],
   "source": [
    "def calculerVitesse(vehicule):\n",
    "    try:\n",
    "        if vehicule.moteur == 'essence':\n",
    "            vitesse_moteur = 1\n",
    "        elif vehicule.moteur == 'diesel':\n",
    "            vitesse_moteur = 2\n",
    "        else:\n",
    "            vitesse_moteur = 3\n",
    "\n",
    "        vitesse_vehicule = vitesse_moteur / vehicule.roues\n",
    "        return vitesse_vehicule\n",
    "        \n",
    "    except AttributeError:\n",
    "        print(\"Ce vehicule n'a pas de moteur\")"
   ]
  },
  {
   "cell_type": "code",
   "execution_count": 11,
   "metadata": {},
   "outputs": [
    {
     "name": "stdout",
     "output_type": "stream",
     "text": [
      "Vitesse:  0.5\n",
      "Ce vehicule n'a pas de moteur\n",
      "Vitesse:  None\n"
     ]
    }
   ],
   "source": [
    "voiture = Voiture(4, \"volant\", \"fauteuil\", \"diesel\", 5)\n",
    "\n",
    "vitesse = calculerVitesse(voiture)\n",
    "print(\"Vitesse: \", vitesse)\n",
    "\n",
    "velo = Velo(2, 'guidon', 'selle')\n",
    "\n",
    "vitesse = calculerVitesse(velo)\n",
    "print(\"Vitesse: \", vitesse)"
   ]
  },
  {
   "cell_type": "code",
   "execution_count": null,
   "metadata": {},
   "outputs": [],
   "source": []
  },
  {
   "cell_type": "markdown",
   "metadata": {},
   "source": [
    "## Exercice 3\n",
    "\n",
    "Modifiez la fonction ``calculerVitesse`` pour prendre en compte les véhicules sans moteur grâce à la gestion d'erreur ``try...except``. Par défaut, la vitesse de base d'un véhicule sans moteur est de 0.5. Votre fonction doit retourner la vitesse de ce véhicule, qu'elle rencontre une erreur ou pas.\n",
    "\n"
   ]
  },
  {
   "cell_type": "markdown",
   "metadata": {},
   "source": [
    "## Solution"
   ]
  },
  {
   "cell_type": "code",
   "execution_count": 13,
   "metadata": {},
   "outputs": [],
   "source": [
    "def calculerVitesse(vehicule):\n",
    "    try:\n",
    "        if vehicule.moteur == 'essence':\n",
    "            vitesse_moteur = 1\n",
    "        elif vehicule.moteur == 'diesel':\n",
    "            vitesse_moteur = 2\n",
    "        else:\n",
    "            vitesse_moteur = 3\n",
    "\n",
    "    except AttributeError:\n",
    "        vitesse_moteur = 0.5\n",
    "    finally:\n",
    "        vitesse_vehicule = vitesse_moteur / vehicule.roues\n",
    "        return vitesse_vehicule\n"
   ]
  },
  {
   "cell_type": "code",
   "execution_count": 14,
   "metadata": {},
   "outputs": [
    {
     "name": "stdout",
     "output_type": "stream",
     "text": [
      "Vitesse:  0.25\n"
     ]
    }
   ],
   "source": [
    "velo = Velo(2, 'guidon', 'selle')\n",
    "\n",
    "vitesse = calculerVitesse(velo)\n",
    "print(\"Vitesse: \", vitesse)"
   ]
  },
  {
   "cell_type": "code",
   "execution_count": null,
   "metadata": {},
   "outputs": [],
   "source": []
  },
  {
   "cell_type": "markdown",
   "metadata": {},
   "source": [
    "# Exercice 4\n",
    "\n",
    "Créez une fonction ``comparerVitesse``, qui prend une liste de Vehicules. Votre fonction doit calculer la vitesse de chaque véhicule de cette liste et retourner le Vehicule qui a la vitesse la plus importante.\n",
    "\n",
    "### Note:\n",
    "Si vous ne savez pas comment trouver la valeur maximale d'une liste, n'hésitez pas à vous aider d'Internet pour trouver la réponse"
   ]
  },
  {
   "cell_type": "markdown",
   "metadata": {},
   "source": [
    "## Solution"
   ]
  },
  {
   "cell_type": "code",
   "execution_count": 21,
   "metadata": {},
   "outputs": [],
   "source": [
    "def comparerVitesse(list_vehicules):\n",
    "    list_vitesse = []\n",
    "    for vehicule in list_vehicules:\n",
    "        vitesse_vehicule = calculerVitesse(vehicule)\n",
    "        list_vitesse.append(vitesse_vehicule)\n",
    "    index_maxvitesse = list_vitesse.index(max(list_vitesse))\n",
    "    return  list_vehicules[index_maxvitesse], max(list_vitesse)"
   ]
  },
  {
   "cell_type": "code",
   "execution_count": 22,
   "metadata": {},
   "outputs": [
    {
     "data": {
      "text/plain": [
       "(<__main__.Moto at 0x7f9ad0bcc760>, 1.5)"
      ]
     },
     "execution_count": 22,
     "metadata": {},
     "output_type": "execute_result"
    }
   ],
   "source": [
    "voiture = Voiture(4, \"volant\", \"fauteuil\", \"diesel\", 5)\n",
    "\n",
    "velo = Velo(2, 'guidon', 'selle')\n",
    "\n",
    "moto = Moto('guidon', 'selle', 'electrique')\n",
    "\n",
    "comparerVitesse([voiture, velo, moto])"
   ]
  }
 ],
 "metadata": {
  "kernelspec": {
   "display_name": "Python 3",
   "language": "python",
   "name": "python3"
  },
  "language_info": {
   "codemirror_mode": {
    "name": "ipython",
    "version": 3
   },
   "file_extension": ".py",
   "mimetype": "text/x-python",
   "name": "python",
   "nbconvert_exporter": "python",
   "pygments_lexer": "ipython3",
   "version": "3.9.10"
  },
  "vscode": {
   "interpreter": {
    "hash": "b0fa6594d8f4cbf19f97940f81e996739fb7646882a419484c72d19e05852a7e"
   }
  }
 },
 "nbformat": 4,
 "nbformat_minor": 4
}
