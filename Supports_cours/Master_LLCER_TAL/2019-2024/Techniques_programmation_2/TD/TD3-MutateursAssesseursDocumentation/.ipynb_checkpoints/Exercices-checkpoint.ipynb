{
 "cells": [
  {
   "cell_type": "markdown",
   "metadata": {},
   "source": [
    "# Exercices\n",
    "\n",
    "Cette fois, les exercices sont à réaliser avec la classe ``Voiture``, à la suite du cours. Pour plus de facilité et d'ergonomie, ils sont à faire sur ``PyCharm``."
   ]
  },
  {
   "cell_type": "markdown",
   "metadata": {},
   "source": [
    "# Exercice 1\n",
    "\n",
    "Continuez à modifier la classe Voiture selon les étapes suivantes:\n",
    "\n",
    "Modifiez le nom de ``self.nbr_portes`` pour que celle-ci devienne privée.\n",
    "Ajoutez une fonction ``setPortes``. Celle-ci prend un integer en argument. Ajoutez une fonction ``getPortes`` qui retourne la valeur de la propriété ``self.__nbr_portes``.\n",
    "\n",
    "Modifiez les noms des variables ``self.moteur`` et ``self.boite`` de telle sorte à ce qu'elles soient privées. Ajoutez les fonctions ``getMoteur`` et ``getBoite`` qui retournent respectivement la valeur de ``self.__moteur`` et ``self__boite``.\n",
    "\n",
    "Modifiez la fonction ``afficher_details`` par rapport aux modifications que vous avez apportées aux noms de variables.\n",
    "\n",
    "Créez une instance de la classe ``Voiture`` puis appelez dans l'ordre les méthodes ``getPortes``, ``getMoteur``, ``getBoite``, ``getPrix`` et ``afficher_details``"
   ]
  },
  {
   "cell_type": "markdown",
   "metadata": {},
   "source": [
    "# Exercice 2\n",
    "\n",
    "Ajoutez la document à la classe ``Voiture``. Vous devez documenter:\n",
    "* La classe elle-même\n",
    "* Toutes ses méthodes\n",
    "* Décrire à l'aide de commentaires ce qui se passe au sein des méthodes\n",
    "\n",
    "Une fois terminé, affichez la documentation à l'aide de la fonction ``help()``."
   ]
  }
 ],
 "metadata": {
  "kernelspec": {
   "display_name": "Python 3 (ipykernel)",
   "language": "python",
   "name": "python3"
  },
  "language_info": {
   "codemirror_mode": {
    "name": "ipython",
    "version": 3
   },
   "file_extension": ".py",
   "mimetype": "text/x-python",
   "name": "python",
   "nbconvert_exporter": "python",
   "pygments_lexer": "ipython3",
   "version": "3.9.6"
  }
 },
 "nbformat": 4,
 "nbformat_minor": 4
}
