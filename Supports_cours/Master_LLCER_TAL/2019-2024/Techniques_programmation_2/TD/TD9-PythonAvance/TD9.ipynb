{
 "cells": [
  {
   "cell_type": "markdown",
   "metadata": {},
   "source": [
    "# CM9 - Python avancé\n",
    "\n",
    "Ces CM et TD concentrent plusieurs outils avancés en Python. "
   ]
  },
  {
   "cell_type": "markdown",
   "metadata": {},
   "source": [
    "## Exercice 1\n",
    "\n",
    "Pour une liste de nombres allant de 0 à 100:\n",
    "* créez une liste qui ne contient que les multiples de 3, à l'aide de la méthode list comprehension\n",
    "* créez un dictionnaire qui ne contient que les multiples de 3, à l'aide de la méthode dict comprehension. Les clés du dictionnaire doivent être le nombre lui-même, sous forme de str. "
   ]
  },
  {
   "cell_type": "code",
   "execution_count": null,
   "metadata": {},
   "outputs": [],
   "source": []
  },
  {
   "attachments": {},
   "cell_type": "markdown",
   "metadata": {},
   "source": [
    "# Solution\n"
   ]
  },
  {
   "cell_type": "code",
   "execution_count": 4,
   "metadata": {},
   "outputs": [
    {
     "name": "stdout",
     "output_type": "stream",
     "text": [
      "[0, 3, 6, 9, 12, 15, 18, 21, 24, 27, 30, 33, 36, 39, 42, 45, 48, 51, 54, 57, 60, 63, 66, 69, 72, 75, 78, 81, 84, 87, 90, 93, 96, 99]\n",
      "\n",
      "{0: 0, 3: 3, 6: 6, 9: 9, 12: 12, 15: 15, 18: 18, 21: 21, 24: 24, 27: 27, 30: 30, 33: 33, 36: 36, 39: 39, 42: 42, 45: 45, 48: 48, 51: 51, 54: 54, 57: 57, 60: 60, 63: 63, 66: 66, 69: 69, 72: 72, 75: 75, 78: 78, 81: 81, 84: 84, 87: 87, 90: 90, 93: 93, 96: 96, 99: 99}\n"
     ]
    }
   ],
   "source": [
    "multiple_3 = [x for x in range(100) if x % 3 == 0]\n",
    "print(multiple_3)\n",
    "\n",
    "print()\n",
    "multiple_3 = {x: x for x in range(100) if x % 3 == 0}\n",
    "print(multiple_3)"
   ]
  },
  {
   "attachments": {},
   "cell_type": "markdown",
   "metadata": {},
   "source": [
    "## Exercice 2\n",
    "\n",
    "La variable **nested_list** ci-dessous est une liste enchâssée:\n",
    "* Avec la méthode list comprehension, créez une nouvelle variable **flat_list**, qui correspond à **nested_list** aplatie\n",
    "* Avec la méthode list comprehension, créez une nouvelle variable **multiple_3** qui ne contient que les multiples de 3 contenus dans **flat_list**"
   ]
  },
  {
   "cell_type": "code",
   "execution_count": 5,
   "metadata": {},
   "outputs": [],
   "source": [
    "nested_list = [\n",
    "    [0, 1, 2, 3, 4],\n",
    "    [5, 6, 7, 8, 9],\n",
    "    [10, 11, 12, 13, 14],\n",
    "    [15, 16, 17, 18, 19]\n",
    "]"
   ]
  },
  {
   "cell_type": "code",
   "execution_count": null,
   "metadata": {},
   "outputs": [],
   "source": []
  },
  {
   "attachments": {},
   "cell_type": "markdown",
   "metadata": {},
   "source": [
    "# Solution"
   ]
  },
  {
   "cell_type": "code",
   "execution_count": 6,
   "metadata": {},
   "outputs": [
    {
     "name": "stdout",
     "output_type": "stream",
     "text": [
      "[0, 1, 2, 3, 4, 5, 6, 7, 8, 9, 10, 11, 12, 13, 14, 15, 16, 17, 18, 19]\n",
      "\n",
      "[0, 3, 6, 9, 12, 15, 18, 21, 24, 27, 30, 33, 36, 39, 42, 45, 48, 51, 54, 57, 60, 63, 66, 69, 72, 75, 78, 81, 84, 87, 90, 93, 96, 99]\n"
     ]
    }
   ],
   "source": [
    "flat_list = [x for y in nested_list for x in y]\n",
    "print(flat_list)\n",
    "print()\n",
    "\n",
    "multiple_3 = [x for x in range(100) if x % 3 == 0]\n",
    "print(multiple_3)\n"
   ]
  },
  {
   "cell_type": "code",
   "execution_count": null,
   "metadata": {},
   "outputs": [],
   "source": []
  },
  {
   "cell_type": "markdown",
   "metadata": {},
   "source": [
    "## Exercice 3\n",
    "\n",
    "Les deux listes suivantes contiennent respectivement des noms de familles et des noms de métiers. \n",
    "A l'aide des **sets**, identifiez les noms présents dans les deux listes. Vous ferez attentions à normaliser les valeurs des listes."
   ]
  },
  {
   "cell_type": "code",
   "execution_count": 8,
   "metadata": {},
   "outputs": [],
   "source": [
    "list_noms = ['Boulanger', 'Lenfant', 'Charpentier', 'Goux']\n",
    "list_metiers = ['charpentier', 'électricien', 'boulanger', 'médecin', 'cuisinier']"
   ]
  },
  {
   "cell_type": "code",
   "execution_count": null,
   "metadata": {},
   "outputs": [],
   "source": []
  },
  {
   "attachments": {},
   "cell_type": "markdown",
   "metadata": {},
   "source": [
    "# Solution"
   ]
  },
  {
   "cell_type": "code",
   "execution_count": 9,
   "metadata": {},
   "outputs": [
    {
     "name": "stdout",
     "output_type": "stream",
     "text": [
      "{'charpentier', 'boulanger'}\n"
     ]
    }
   ],
   "source": [
    "norm_list_noms = [x.lower() for x in list_noms]\n",
    "set_a = set(norm_list_noms)\n",
    "set_b = set(list_metiers)\n",
    "\n",
    "aptonymes = set_a.intersection(set_b)\n",
    "print(aptonymes)"
   ]
  },
  {
   "cell_type": "markdown",
   "metadata": {},
   "source": [
    "## Exercice 4\n",
    "\n",
    "Ci-dessous deux listes, l'une contenant des noms de familles et l'autre contenant des noms de métiers. \n",
    "Créez un defaultdict de listes. En bouclant sur la liste de noms, vous contrôlerez si ce nom est présent dans la liste de métier. Si c'est le cas, le nom doit s'ajouter à la clé **aptonymes** du dictionnaire, sinon il doit s'ajouter à la clé **common**. Vous penserez à normaliser la liste de noms au préalable."
   ]
  },
  {
   "cell_type": "code",
   "execution_count": null,
   "metadata": {},
   "outputs": [],
   "source": [
    "list_noms = ['Boulanger', 'Lenfant', 'Charpentier', 'Goux']\n",
    "list_metiers = ['charpentier', 'électricien', 'boulanger', 'médecin', 'cuisinier']"
   ]
  },
  {
   "cell_type": "code",
   "execution_count": null,
   "metadata": {},
   "outputs": [],
   "source": []
  },
  {
   "attachments": {},
   "cell_type": "markdown",
   "metadata": {},
   "source": [
    "# Solution"
   ]
  },
  {
   "cell_type": "code",
   "execution_count": 11,
   "metadata": {},
   "outputs": [
    {
     "name": "stdout",
     "output_type": "stream",
     "text": [
      "dict_items([('aptonymes', ['boulanger', 'charpentier']), ('common', ['lenfant', 'goux'])])\n"
     ]
    }
   ],
   "source": [
    "from collections import defaultdict\n",
    "\n",
    "aptonymes = defaultdict(list)\n",
    "norm_list_noms = [x.lower() for x in list_noms]\n",
    "\n",
    "for nom in norm_list_noms:\n",
    "    if nom in list_metiers:\n",
    "        aptonymes['aptonymes'].append(nom)\n",
    "    else:\n",
    "        aptonymes['common'].append(nom)\n",
    "\n",
    "print(aptonymes.items())"
   ]
  },
  {
   "cell_type": "markdown",
   "metadata": {},
   "source": [
    "## Exercice 5\n",
    "\n",
    "A l'aide de Counter, comptez les occurrences de chaque mots présents dans la phrase ci-dessous. Vous aurez besoin de prétraiter la phrase pour la transformer en liste. Affichez enfin les mots les plus fréquents."
   ]
  },
  {
   "cell_type": "code",
   "execution_count": null,
   "metadata": {},
   "outputs": [],
   "source": [
    "phrase = \"One Ring to rule them all, One ring to find them; One ring to bring them all and in the darkness bind them.\""
   ]
  },
  {
   "cell_type": "code",
   "execution_count": null,
   "metadata": {},
   "outputs": [],
   "source": []
  },
  {
   "attachments": {},
   "cell_type": "markdown",
   "metadata": {},
   "source": [
    "# Solution"
   ]
  },
  {
   "cell_type": "code",
   "execution_count": null,
   "metadata": {},
   "outputs": [
    {
     "data": {
      "text/plain": [
       "[('them', 4),\n",
       " ('one', 3),\n",
       " ('ring', 3),\n",
       " ('to', 3),\n",
       " ('all', 2),\n",
       " ('rule', 1),\n",
       " ('find', 1),\n",
       " ('bring', 1),\n",
       " ('and', 1),\n",
       " ('in', 1),\n",
       " ('the', 1),\n",
       " ('darkness', 1),\n",
       " ('bind', 1)]"
      ]
     },
     "metadata": {},
     "output_type": "display_data"
    }
   ],
   "source": [
    "import re \n",
    "from collections import Counter\n",
    "\n",
    "re_punct = re.compile(r'(;|,|\\.)')\n",
    "\n",
    "clean_phrase = re.sub(re_punct, \"\", phrase)\n",
    "clean_phrase = clean_phrase.lower()\n",
    "clean_phrase = clean_phrase.split()\n",
    "\n",
    "counter = Counter(clean_phrase)\n",
    "counter.most_common()"
   ]
  },
  {
   "attachments": {},
   "cell_type": "markdown",
   "metadata": {},
   "source": [
    "## Exercice 6\n",
    "\n",
    "En premier, utilisez la fonction **simple_normalize()** pour traiter chaque élement de la variable **corpus**. Pour cela, utilisez une list comprehension. Vous stockerez les résultats dans une variable **simple_corpus**.\n",
    "\n",
    "Ensuite, parcourez en même temps les deux variables **simple_corpus** et **proc_corpus** et affichez les."
   ]
  },
  {
   "cell_type": "code",
   "execution_count": 13,
   "metadata": {},
   "outputs": [],
   "source": [
    "def simple_normalize(text):\n",
    "    text = text.lower()\n",
    "    text = text.split(' ')\n",
    "    return text\n",
    "\n",
    "corpus = [\"One Ring to rule them all,\",\n",
    "    \"One ring to find them;\",\n",
    "    \"One ring to bring them all and in the darkness bind them.\"\n",
    "]\n",
    "\n",
    "proc_corpus = [\n",
    "    ['one', 'ring', 'rule', 'all,'], \n",
    "    ['one', 'ring', 'find', 'them;'], \n",
    "    ['one', 'ring', 'bring', 'darkness', 'bind', 'them.']\n",
    "    ]\n"
   ]
  },
  {
   "cell_type": "code",
   "execution_count": null,
   "metadata": {},
   "outputs": [],
   "source": []
  },
  {
   "attachments": {},
   "cell_type": "markdown",
   "metadata": {},
   "source": [
    "# Solution"
   ]
  },
  {
   "cell_type": "code",
   "execution_count": 15,
   "metadata": {},
   "outputs": [
    {
     "name": "stdout",
     "output_type": "stream",
     "text": [
      "['one', 'ring', 'to', 'rule', 'them', 'all,'] ['one', 'ring', 'rule', 'all,']\n",
      "['one', 'ring', 'to', 'find', 'them;'] ['one', 'ring', 'find', 'them;']\n",
      "['one', 'ring', 'to', 'bring', 'them', 'all', 'and', 'in', 'the', 'darkness', 'bind', 'them.'] ['one', 'ring', 'bring', 'darkness', 'bind', 'them.']\n"
     ]
    }
   ],
   "source": [
    "simple_corpus = [simple_normalize(x) for x in corpus]\n",
    "\n",
    "for a, b in zip(simple_corpus, proc_corpus):\n",
    "\n",
    "    print(a, b)\n"
   ]
  },
  {
   "attachments": {},
   "cell_type": "markdown",
   "metadata": {},
   "source": [
    "## Exercice 7\n",
    "\n",
    "Utilisez la fonction **enumerate()** pour parcourir la variable **phrase** ci-dessous après l'avoir tokenizé, tout en récupérant l'index. Pour chaque élement du corpus, créez un dictionnaire qui doit avoir les clés et valeurs suivantes:\n",
    "* id: index de l'élement\n",
    "* content: l'élement lui-même\n",
    "\n",
    "Chaque dictionnaire doit être ajouté à une liste. A la fin de votre programme, affichez cette liste"
   ]
  },
  {
   "cell_type": "code",
   "execution_count": 17,
   "metadata": {},
   "outputs": [],
   "source": [
    "phrase = \"One Ring to rule them all, One ring to find them; One ring to bring them all and in the darkness bind them.\""
   ]
  },
  {
   "cell_type": "code",
   "execution_count": null,
   "metadata": {},
   "outputs": [],
   "source": []
  },
  {
   "attachments": {},
   "cell_type": "markdown",
   "metadata": {},
   "source": [
    "# Solution"
   ]
  },
  {
   "cell_type": "code",
   "execution_count": 22,
   "metadata": {},
   "outputs": [
    {
     "name": "stdout",
     "output_type": "stream",
     "text": [
      "[{'id': 0, 'content': 'one'}, {'id': 1, 'content': 'ring'}, {'id': 2, 'content': 'to'}, {'id': 3, 'content': 'rule'}, {'id': 4, 'content': 'them'}, {'id': 5, 'content': 'all,'}, {'id': 6, 'content': 'one'}, {'id': 7, 'content': 'ring'}, {'id': 8, 'content': 'to'}, {'id': 9, 'content': 'find'}, {'id': 10, 'content': 'them;'}, {'id': 11, 'content': 'one'}, {'id': 12, 'content': 'ring'}, {'id': 13, 'content': 'to'}, {'id': 14, 'content': 'bring'}, {'id': 15, 'content': 'them'}, {'id': 16, 'content': 'all'}, {'id': 17, 'content': 'and'}, {'id': 18, 'content': 'in'}, {'id': 19, 'content': 'the'}, {'id': 20, 'content': 'darkness'}, {'id': 21, 'content': 'bind'}, {'id': 22, 'content': 'them.'}]\n"
     ]
    }
   ],
   "source": [
    "phrase = \"One Ring to rule them all, One ring to find them; One ring to bring them all and in the darkness bind them.\"\n",
    "phrase = simple_normalize(phrase)\n",
    "list_dicts = []\n",
    "for i, tok in enumerate(phrase):\n",
    "    list_dicts.append(\n",
    "        {\n",
    "            \"id\": i,\n",
    "            \"content\": tok\n",
    "        }\n",
    "    )\n",
    "\n",
    "print(list_dicts)"
   ]
  },
  {
   "attachments": {},
   "cell_type": "markdown",
   "metadata": {},
   "source": [
    "# Exercice 8\n",
    "\n",
    "Utilisez la fonction **groupby** pour regrouper les valeurs de la variable **list_dicts** créée à l'exercice précédent"
   ]
  },
  {
   "cell_type": "code",
   "execution_count": null,
   "metadata": {},
   "outputs": [],
   "source": []
  },
  {
   "attachments": {},
   "cell_type": "markdown",
   "metadata": {},
   "source": [
    "# Solution"
   ]
  },
  {
   "cell_type": "code",
   "execution_count": 25,
   "metadata": {},
   "outputs": [
    {
     "name": "stdout",
     "output_type": "stream",
     "text": [
      "all\n",
      "{'id': 16, 'content': 'all'}\n",
      "\n",
      "all,\n",
      "{'id': 5, 'content': 'all,'}\n",
      "\n",
      "and\n",
      "{'id': 17, 'content': 'and'}\n",
      "\n",
      "bind\n",
      "{'id': 21, 'content': 'bind'}\n",
      "\n",
      "bring\n",
      "{'id': 14, 'content': 'bring'}\n",
      "\n",
      "darkness\n",
      "{'id': 20, 'content': 'darkness'}\n",
      "\n",
      "find\n",
      "{'id': 9, 'content': 'find'}\n",
      "\n",
      "in\n",
      "{'id': 18, 'content': 'in'}\n",
      "\n",
      "one\n",
      "{'id': 0, 'content': 'one'}\n",
      "{'id': 6, 'content': 'one'}\n",
      "{'id': 11, 'content': 'one'}\n",
      "\n",
      "ring\n",
      "{'id': 1, 'content': 'ring'}\n",
      "{'id': 7, 'content': 'ring'}\n",
      "{'id': 12, 'content': 'ring'}\n",
      "\n",
      "rule\n",
      "{'id': 3, 'content': 'rule'}\n",
      "\n",
      "the\n",
      "{'id': 19, 'content': 'the'}\n",
      "\n",
      "them\n",
      "{'id': 4, 'content': 'them'}\n",
      "{'id': 15, 'content': 'them'}\n",
      "\n",
      "them.\n",
      "{'id': 22, 'content': 'them.'}\n",
      "\n",
      "them;\n",
      "{'id': 10, 'content': 'them;'}\n",
      "\n",
      "to\n",
      "{'id': 2, 'content': 'to'}\n",
      "{'id': 8, 'content': 'to'}\n",
      "{'id': 13, 'content': 'to'}\n",
      "\n"
     ]
    }
   ],
   "source": [
    "from itertools import groupby \n",
    "list_dicts.sort(key=lambda x: x['content'])\n",
    "\n",
    "for k, group in groupby(list_dicts, key=lambda x: x['content']):\n",
    "    print(k)\n",
    "    for g in group:\n",
    "        print(g)\n",
    "    print()"
   ]
  },
  {
   "attachments": {},
   "cell_type": "markdown",
   "metadata": {},
   "source": [
    "# Exercice 9\n",
    "\n",
    "Utilisez **os** pour créer un dossier \"corpus\". \n",
    "\n",
    "Ouvrez le fichier **corpus.txt** ci-joint et faites en sorte d'obtenir une liste qui contient chaque ligne de texte dans une variable **corpus**.\n",
    "\n",
    "Parcourez la variable **corpus** à l'aide de la fonction **enumerate**. Enregistrez la valeur dans un fichier qui aura la valeur de son index dans le dossier \"corpus\". \n",
    "\n",
    "Vous utiliserez le **context manager with** pour ouvrir et créer vos fichiers.\n",
    "\n"
   ]
  },
  {
   "cell_type": "code",
   "execution_count": null,
   "metadata": {},
   "outputs": [],
   "source": []
  },
  {
   "attachments": {},
   "cell_type": "markdown",
   "metadata": {},
   "source": [
    "# Solution"
   ]
  },
  {
   "cell_type": "code",
   "execution_count": 20,
   "metadata": {},
   "outputs": [],
   "source": [
    "import os \n",
    "\n",
    "with open('corpus.txt', encoding='utf-8') as f:\n",
    "    corpus = f.read()\n",
    "    corpus = corpus.split('\\n')\n",
    "\n",
    "os.makedirs(\"corpus\", exist_ok=True)\n",
    "\n",
    "for i, c in enumerate(corpus):\n",
    "    with open(f\"corpus/{i}.txt\", 'w', encoding='utf-8') as f:\n",
    "        f.write(c)\n"
   ]
  },
  {
   "cell_type": "markdown",
   "metadata": {},
   "source": []
  },
  {
   "cell_type": "code",
   "execution_count": null,
   "metadata": {},
   "outputs": [],
   "source": []
  }
 ],
 "metadata": {
  "kernelspec": {
   "display_name": "cours",
   "language": "python",
   "name": "python3"
  },
  "language_info": {
   "codemirror_mode": {
    "name": "ipython",
    "version": 3
   },
   "file_extension": ".py",
   "mimetype": "text/x-python",
   "name": "python",
   "nbconvert_exporter": "python",
   "pygments_lexer": "ipython3",
   "version": "3.9.6"
  },
  "orig_nbformat": 4,
  "vscode": {
   "interpreter": {
    "hash": "63d2c08867e999184b706abc1228e6e14a103e818b92fa06feeba82a11accc73"
   }
  }
 },
 "nbformat": 4,
 "nbformat_minor": 2
}
