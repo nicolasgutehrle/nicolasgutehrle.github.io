{
 "cells": [
  {
   "cell_type": "markdown",
   "metadata": {},
   "source": [
    "# Exercices TD4"
   ]
  },
  {
   "cell_type": "markdown",
   "metadata": {},
   "source": [
    "# Exercice 1\n",
    "\n",
    "Implémentez en Python l'UML ci-dessous:\n",
    "\n",
    "<img src=\"img.png\">"
   ]
  },
  {
   "cell_type": "markdown",
   "metadata": {},
   "source": [
    "# Implémentation des méthodes:\n",
    "\n",
    "Pour la classe Ordinateur:\n",
    "* La méthode \"allumer\" doit afficher le message \"L'ordinateur est allumé\" et changer la valeur de la propriété \"est_allume\" sur True\n",
    "* La méthode \"eteindre\" doit afficher le message \"L'ordinateur est eteint\" et changer la valeur de la propriété \"est_allume\" sur False\n",
    "* La méthode \"afficher_details\" doit afficher à l'aide d'un dictionnaire toutes les propriétés de la classe Ordinateur\n",
    "\n",
    "Pour la classe OrdinateurFixe:\n",
    "* La méthode \"modifier(piece_a, piece_b)\" doit afficher le message \"La piece <piece_a> a ete remplacee par la <piece_b>\n",
    "\n",
    "Pour la classe OrdinateurPortable:\n",
    "* La méthode \"deplacer(piece_a, piece_b)\" doit afficher le message \"L'ordinateur a ete deplace de la  <piece_a> à la <piece_b>\""
   ]
  },
  {
   "cell_type": "code",
   "execution_count": 21,
   "metadata": {},
   "outputs": [
    {
     "name": "stdout",
     "output_type": "stream",
     "text": [
      "True\n",
      "L'ordinateur a ete deplace de la table à la chaise\n",
      "------------Ordinateur fixe----------------------\n",
      "{'type ecran': 'tactile', 'taille ecran': '7IN', 'materiau boitier': 'fer', 'cpu': '4G', 'gpu': '8G', 'ram': '10G', 'taille disque dur': '256G', 'nbr ventilateurs': 4, 'poids': '1.5KG', 'est allume': True}\n",
      "None\n",
      "La apple a ete remplacee par la dell\n"
     ]
    }
   ],
   "source": [
    "dic ={}\n",
    "\n",
    "\n",
    "class Ordinateur :\n",
    "    def __init__(self, cpu, gpu, ram, taille_disque_dur, nbr_ventilateurs, poids, est_allume) :\n",
    "        self.cpu = cpu\n",
    "        self.gpu = gpu\n",
    "        self.ram = ram\n",
    "        self.taille_disque_dur = taille_disque_dur\n",
    "        self.nbr_ventilateurs = nbr_ventilateurs\n",
    "        self.poids = poids\n",
    "        self.est_allume = True\n",
    "        \n",
    "    def allumer(self):\n",
    "        # Nicolas: petite remarque: essaye d'envisager ce que le programme doit faire si est_allume est déjà True.\n",
    "        self.est_allume = True\n",
    "        print(\"L'ordinateur est allumé\")\n",
    "        \n",
    "    def eteindre(self) :\n",
    "        # Nicolas: idem\n",
    "        self.est_allume = False\n",
    "        print(\"L'ordinateur est eteint\")\n",
    "        \n",
    "    def afficher_details(self) :\n",
    "         # Nicolas: A aucun moment tu ne crées ta variable dic.\n",
    "        # Ta méthode telle qu'elle est ne peux pas afficher les propriétés des sous-classes\n",
    "        # OrdinateurFixe et OrdinateurPortable. Regarde la correction pour voir comment résoudre ces deux problèmes\n",
    "        dic[\"cpu\"] = self.cpu\n",
    "        dic[\"gpu\"] = self.gpu \n",
    "        dic[\"ram\"] = self.ram \n",
    "        dic[\"taille disque dur\"] = self.taille_disque_dur \n",
    "        dic[\"nbr ventilateurs\"] = self.nbr_ventilateurs\n",
    "        dic[\"poids\"] = self.poids \n",
    "        dic[\"est allume\"] = self.est_allume\n",
    "        print(dic)\n",
    " \n",
    "        \n",
    "        \n",
    "        \n",
    "class OrdinateurFixe(Ordinateur) :\n",
    "    def __init__(self, cpu, gpu, ram, taille_disque_dur, nbr_ventilateurs, poids, est_allume, materiau_boitier) :\n",
    "        super().__init__(cpu, gpu, ram, taille_disque_dur, nbr_ventilateurs, poids, est_allume)\n",
    "        self.materiau_boitier = materiau_boitier\n",
    "        # Nicolas: idem, ta variable dic n'existe pas du tout ici\n",
    "        dic[\"materiau boitier\"] = self.materiau_boitier\n",
    "        \n",
    "    def modifier(self, piece_a, piece_b) :\n",
    "        self.piece_a = piece_a\n",
    "        self.piece_b = piece_b\n",
    "        # Nicolas: Joli ! C'est exactement comme ça qu'il faut faire, bravo !\n",
    "        print(\"La {} a ete remplacee par la {}\".format(self.piece_a, self.piece_b))\n",
    "        \n",
    "        \n",
    "class OrdinateurPortable(Ordinateur) :\n",
    "    def __init__(self, cpu, gpu, ram, taille_disque_dur, nbr_ventilateurs, poids, est_allume, type_ecran, taille_ecran) :\n",
    "        super().__init__(cpu, gpu, ram, taille_disque_dur, nbr_ventilateurs, poids, est_allume)\n",
    "        self.type_ecran = type_ecran\n",
    "        self.taille_ecran = taille_ecran\n",
    "        # Niclas: idem, dic n'existe pas\n",
    "        dic[\"type ecran\"] = self.type_ecran\n",
    "        dic[\"taille ecran\"] = self.taille_ecran\n",
    "        \n",
    "    def deplacer(self, piece_a, piece_b) :\n",
    "        self.piece_a = piece_a\n",
    "        self.piece_b = piece_b\n",
    "        # Nicolas: idem, bien joué !\n",
    "        print(\"L'ordinateur a ete deplace de {} à {}\".format(self.piece_a, self.piece_b))\n",
    "\n",
    "        \n",
    "        \n",
    "samsung = OrdinateurPortable(\"8G\", \"4G\", \"12G\", \"128G\", 2, \"1KG\", True, \"tactile\", \"7IN\")\n",
    "print(samsung.est_allume)\n",
    "samsung.deplacer(\"la table\", \"la chaise\")\n",
    "\n",
    "print(\"------------Ordinateur fixe----------------------\")\n",
    "\n",
    "apple = OrdinateurFixe(\"4G\", \"8G\", \"10G\", \"256G\", 4, \"1.5KG\", True, \"fer\")\n",
    "print(apple.afficher_details())\n",
    "apple.modifier(\"apple\", \"dell\")\n",
    "\n"
   ]
  },
  {
   "cell_type": "markdown",
   "metadata": {},
   "source": [
    "# Exercice 2\n",
    "\n",
    "Créez une instance de la classe OrdinateurFixe et une instance de la classe OrdinateurPortable. Pour chacune, affichez les propriétés et appelez les méthodes qui vous intéressent. Essayez notamment d'appeler la méthode ``afficher_details``, ``modifier`` et ``deplacer`` depuis chacune des instances. Notez et expliquez ce qui se passe."
   ]
  },
  {
   "cell_type": "code",
   "execution_count": null,
   "metadata": {},
   "outputs": [],
   "source": []
  },
  {
   "cell_type": "markdown",
   "metadata": {},
   "source": [
    "# Correction"
   ]
  },
  {
   "cell_type": "code",
   "execution_count": 19,
   "metadata": {},
   "outputs": [
    {
     "name": "stdout",
     "output_type": "stream",
     "text": [
      "Detail classe Ordinateur:\n",
      "{'cpu': 'intel', 'gpu': 'Nvidia', 'ram': 16, 'taille_disque_dur': 2, 'nbr_ventilateurs': 2, 'poids': 1, 'est_allume': True}\n",
      "\n",
      "Detail classe OrdinateurFixe:\n",
      "{'cpu': 'intel', 'gpu': 'Nvidia', 'ram': 32, 'taille_disque_dur': 1, 'nbr_ventilateurs': 2, 'poids': 1, 'est_allume': False, 'materiau_boitier': 'plastique'}\n",
      "\n",
      "Detail classe OrdinateurPortable:\n",
      "{'cpu': 'intel', 'gpu': 'Nvidia', 'ram': 8, 'taille_disque_dur': 1, 'nbr_ventilateurs': 2, 'poids': 1, 'est_allume': False, 'type_ecran': 15, 'taille_ecran': False}\n",
      "\n"
     ]
    }
   ],
   "source": [
    "class Ordinateur:\n",
    "    \n",
    "    def __init__(self, cpu, gpu, ram, taille_disque_dur, nbr_ventilateurs, poids, est_allume = False):\n",
    "        self.cpu = cpu\n",
    "        self.gpu = gpu\n",
    "        self.ram = ram\n",
    "        self.taille_disque_dur = taille_disque_dur\n",
    "        self.nbr_ventilateurs = nbr_ventilateurs\n",
    "        self.poids = poids\n",
    "        self.est_allume = est_allume\n",
    "    \n",
    "    def allumer(self):\n",
    "        if self.est_allume == False:\n",
    "            self.est_allume = True\n",
    "            print(\"L'ordinateur est allumé.\")\n",
    "        else:\n",
    "            print(\"L'ordinateur est déjà allumé.\")\n",
    "    \n",
    "    def eteindre(self):\n",
    "        if self.est_allume == True:\n",
    "            self.est_allume = False\n",
    "            print(\"L'ordinateur est éteint.\")\n",
    "        else:\n",
    "            print(\"L'ordinateur est déjà éteint.\")\n",
    "\n",
    "    def afficher_details(self):\n",
    "        return self.__dict__\n",
    "\n",
    "         \n",
    "            \n",
    "class OrdinateurFixe(Ordinateur):\n",
    "    \n",
    "    def __init__(self, cpu, gpu, ram, taille_disque_dur, nbr_ventilateurs, poids, materiau_boitier, est_allume = False):\n",
    "        super().__init__(cpu, gpu, ram, taille_disque_dur, nbr_ventilateurs, poids, est_allume)\n",
    "        self.materiau_boitier = materiau_boitier\n",
    "    \n",
    "    def modifier(self, piece_a, piece_b):\n",
    "        print(piece_a + \" a été remplacé par \" + piece_b) \n",
    "\n",
    "    \n",
    "class OrdinateurPortable(Ordinateur):\n",
    "    \n",
    "    def __init__(self, cpu, gpu, ram, taille_disque_dur, nbr_ventilateurs, poids, type_ecran, taille_ecran, est_allume = False):\n",
    "        super().__init__(cpu, gpu, ram, taille_disque_dur, nbr_ventilateurs, poids, est_allume)\n",
    "        self.type_ecran = type_ecran\n",
    "        self.taille_ecran = taille_ecran\n",
    "    \n",
    "    def deplacer(self, lieu_a, lieu_b):\n",
    "        print (\"L'ordinateur a été déplacé de \" + lieu_a + \" à \" + lieu_b)\n",
    "\n",
    "   \n",
    "        \n",
    "# Programme principal\n",
    "\n",
    "o = Ordinateur('intel','Nvidia', 16, 2, 2, 1, True)\n",
    "print('Detail classe Ordinateur:')\n",
    "print(o.afficher_details())\n",
    "print()\n",
    "\n",
    "of = OrdinateurFixe(\"intel\",\"Nvidia\",32,1,2,1,\"plastique\",False)\n",
    "print('Detail classe OrdinateurFixe:')\n",
    "print(of.afficher_details())\n",
    "print()\n",
    "\n",
    "op = OrdinateurPortable(\"intel\",\"Nvidia\",8,1,2,1,15,False)\n",
    "print('Detail classe OrdinateurPortable:')\n",
    "print(op.afficher_details())\n",
    "print()\n",
    "\n"
   ]
  }
 ],
 "metadata": {
  "kernelspec": {
   "display_name": "Python 3 (ipykernel)",
   "language": "python",
   "name": "python3"
  },
  "language_info": {
   "codemirror_mode": {
    "name": "ipython",
    "version": 3
   },
   "file_extension": ".py",
   "mimetype": "text/x-python",
   "name": "python",
   "nbconvert_exporter": "python",
   "pygments_lexer": "ipython3",
   "version": "3.9.6"
  }
 },
 "nbformat": 4,
 "nbformat_minor": 4
}
