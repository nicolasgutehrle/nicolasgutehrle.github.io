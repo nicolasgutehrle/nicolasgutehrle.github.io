{
 "cells": [
  {
   "cell_type": "markdown",
   "metadata": {},
   "source": [
    "# Exercices TD4"
   ]
  },
  {
   "cell_type": "markdown",
   "metadata": {},
   "source": [
    "# Exercice 1\n",
    "\n",
    "Implémentez en Python l'UML ci-dessous:\n",
    "\n",
    "<img src=\"img.png\">\n",
    "![image.png](attachment:image.png)\n"
   ]
  },
  {
   "cell_type": "markdown",
   "metadata": {},
   "source": [
    "# Implémentation des méthodes:\n",
    "\n",
    "Pour la classe Ordinateur:\n",
    "* La méthode \"allumer\" doit afficher le message \"L'ordinateur est allumé\" et changer la valeur de la propriété \"est_allume\" sur True\n",
    "* La méthode \"eteindre\" doit afficher le message \"L'ordinateur est eteint\" et changer la valeur de la propriété \"est_allume\" sur False\n",
    "* La méthode \"afficher_details\" doit afficher à l'aide d'un dictionnaire toutes les propriétés de la classe Ordinateur\n",
    "\n",
    "Pour la classe OrdinateurFixe:\n",
    "* La méthode \"modifier(piece_a, piece_b)\" doit afficher le message \"La piece <piece_a> a ete remplacee par la <piece_b>\n",
    "\n",
    "Pour la classe OrdinateurPortable:\n",
    "* La méthode \"deplacer(piece_a, piece_b)\" doit afficher le message \"L'ordinateur a ete deplace de la  <piece_a> à la <piece_b>\""
   ]
  },
  {
   "cell_type": "code",
   "execution_count": 58,
   "metadata": {},
   "outputs": [
    {
     "name": "stdout",
     "output_type": "stream",
     "text": [
      "{'cpu': 'Intel', 'gpu': 'NVidia', 'ram': '16 GO', 'taille_disque_dur': '1 To', 'nbr_ventilateurs': 3, 'poids': '1 kg', 'est_allume': False}\n"
     ]
    }
   ],
   "source": [
    "class Ordinateur:\n",
    "    def __init__(self, cpu, gpu, ram, taille_disque_dur, nbr_ventilateurs, poids, est_allume = False):\n",
    "        self.cpu = cpu\n",
    "        self.gpu = gpu\n",
    "        self.ram = ram\n",
    "        self.taille_disque_dur = taille_disque_dur\n",
    "        self.nbr_ventilateurs = nbr_ventilateurs\n",
    "        self.poids = poids\n",
    "        self.est_allume = est_allume\n",
    "        \n",
    "    def afficher_details(self):\n",
    "        # Nicolas: plusieurs choses: \n",
    "        # 1/ tu peux directement faire dico = self.__dict__, pas besoin de commencer par un dictionnaire vide\n",
    "        # 2/ puisque tu retournes ce __dict__, tu n'as pas besoin de variable: tu peux direct faire return self.__dict__\n",
    "        dico = {}\n",
    "        dico = self.__dict__\n",
    "        print(dico)\n",
    "        \n",
    "    def allumer(self, est_allume):\n",
    "        #Nicolas: pas besoin des parenthèse avec une condition if\n",
    "        if (est_allume == False):\n",
    "            est_allume = True\n",
    "            print(\"L'ordinateur est allumé.\")\n",
    "        else:\n",
    "            print(\"L'ordinateur est déjà allumé.\")\n",
    "    \n",
    "    def eteindre(self, est_allume):\n",
    "        # Nicolas: idem\n",
    "        if (est_allume == True):\n",
    "            est_allume = False\n",
    "            print(\"L'ordinateur est éteint.\")\n",
    "        else:\n",
    "            print(\"L'ordinateur est déjà éteint.\")\n",
    "            \n",
    "ordinateur = Ordinateur(\"Intel\", \"NVidia\", \"16 GO\", \"1 To\", 3, \"1 kg\", False)\n",
    "# Nicolas: attention, dans un notebook, il vaut quand même mieux utiliser des print(), surtout si tu veux afficher plusieurs choses\n",
    "ordinateur.afficher_details()\n",
    "\n",
    "class OrdinateurFixe(Ordinateur):\n",
    "    def __init__(self, materiau_boitier, cpu, gpu, ram, taille_disque_dur, nbr_ventilateurs, poids, est_allume = False):\n",
    "        super().__init__(cpu, gpu, ram, taille_disque_dur, nbr_ventilateurs, poids, est_allume = False)\n",
    "        self.materiau_boitier = materiau_boitier\n",
    "        \n",
    "    def modifier(self, piece_a, piece_b):\n",
    "         # Nicolas: alors c'est bien de te servir d'une variable tampon pour intervertir des données\n",
    "        # par contre en l'occurrence, il suffisait d'afficher un message, donc il n'y avait pas besoin de faire ça vraiment.\n",
    "        # Mais bien joué !\n",
    "        aux = piece_a\n",
    "        piece_a = piece_b\n",
    "        piece_b = aux\n",
    "        print(piece_a, \"a été remplacé par\", piece_b)\n",
    "        \n",
    "\n",
    "class OrdinateurPortable(Ordinateur):\n",
    "    def __init__(self, type_ecran, taille_ecran, cpu, gpu, ram, taille_disque_dur, nbr_ventilateurs, poids, est_allume = False):\n",
    "        super().__init__(cpu, gpu, ram, taille_disque_dur, nbr_ventilateurs, poids, est_allume = False)\n",
    "        self.type_ecran = type_ecran\n",
    "        self.taille_ecran = taille_ecran\n",
    "        \n",
    "    def deplacer(self, lieu_a, lieu_b):\n",
    "        # Nicolas: du coup, c'est bon, mais il fallait remplacer les \"la\" par lieu_a par lieu_b\n",
    "        print(\"L'odinateur a été déplacé de la\", lieu_a, \"à la\", lieu_b)\n",
    "        \n",
    "\n",
    "        "
   ]
  },
  {
   "cell_type": "markdown",
   "metadata": {},
   "source": [
    "# Exercice 2\n",
    "\n",
    "Créez une instance de la classe OrdinateurFixe et une instance de la classe OrdinateurPortable. Pour chacune, affichez les propriétés et appelez les méthodes qui vous intéressent. Essayez notamment d'appeler la méthode ``afficher_details``, ``modifier`` et ``deplacer`` depuis chacune des instances. Notez et expliquez ce qui se passe."
   ]
  },
  {
   "cell_type": "code",
   "execution_count": 59,
   "metadata": {},
   "outputs": [
    {
     "name": "stdout",
     "output_type": "stream",
     "text": [
      "{'cpu': 'Intel', 'gpu': 'Intel Graphics', 'ram': '8 Go', 'taille_disque_dur': '1 To', 'nbr_ventilateurs': '2', 'poids': '2 kg', 'est_allume': False, 'materiau_boitier': 'Acier'}\n",
      "Acier\n",
      "AMD Ryzen a été remplacé par CPU\n",
      "{'cpu': 'Intel', 'gpu': 'NVidia', 'ram': '16 GO', 'taille_disque_dur': '1 To', 'nbr_ventilateurs': 3, 'poids': '1 kg', 'est_allume': False, 'type_ecran': 'IPS', 'taille_ecran': '15 pouces'}\n",
      "IPS\n",
      "L'odinateur a été déplacé de la cuisine à la chambre\n"
     ]
    }
   ],
   "source": [
    "ordinateurFixe = OrdinateurFixe(\"Acier\", \"Intel\", \"Intel Graphics\", \"8 Go\", \"1 To\", \"2\", \"2 kg\", True)\n",
    "ordinateurFixe.afficher_details()\n",
    "print(ordinateurFixe.materiau_boitier)\n",
    "ordinateurFixe.modifier(\"CPU\", \"AMD Ryzen\")\n",
    "\n",
    "ordinateurPortable = OrdinateurPortable(\"IPS\", \"15 pouces\", \"Intel\", \"NVidia\", \"16 GO\", \"1 To\", 3, \"1 kg\", False)\n",
    "ordinateurPortable.afficher_details()\n",
    "print(ordinateurPortable.type_ecran)\n",
    "ordinateurPortable.deplacer(\"cuisine\", \"chambre\")\n"
   ]
  },
  {
   "cell_type": "code",
   "execution_count": null,
   "metadata": {},
   "outputs": [],
   "source": []
  },
  {
   "cell_type": "markdown",
   "metadata": {},
   "source": [
    "# Correction"
   ]
  },
  {
   "cell_type": "code",
   "execution_count": 19,
   "metadata": {},
   "outputs": [
    {
     "name": "stdout",
     "output_type": "stream",
     "text": [
      "Detail classe Ordinateur:\n",
      "{'cpu': 'intel', 'gpu': 'Nvidia', 'ram': 16, 'taille_disque_dur': 2, 'nbr_ventilateurs': 2, 'poids': 1, 'est_allume': True}\n",
      "\n",
      "Detail classe OrdinateurFixe:\n",
      "{'cpu': 'intel', 'gpu': 'Nvidia', 'ram': 32, 'taille_disque_dur': 1, 'nbr_ventilateurs': 2, 'poids': 1, 'est_allume': False, 'materiau_boitier': 'plastique'}\n",
      "\n",
      "Detail classe OrdinateurPortable:\n",
      "{'cpu': 'intel', 'gpu': 'Nvidia', 'ram': 8, 'taille_disque_dur': 1, 'nbr_ventilateurs': 2, 'poids': 1, 'est_allume': False, 'type_ecran': 15, 'taille_ecran': False}\n",
      "\n"
     ]
    }
   ],
   "source": [
    "class Ordinateur:\n",
    "    \n",
    "    def __init__(self, cpu, gpu, ram, taille_disque_dur, nbr_ventilateurs, poids, est_allume = False):\n",
    "        self.cpu = cpu\n",
    "        self.gpu = gpu\n",
    "        self.ram = ram\n",
    "        self.taille_disque_dur = taille_disque_dur\n",
    "        self.nbr_ventilateurs = nbr_ventilateurs\n",
    "        self.poids = poids\n",
    "        self.est_allume = est_allume\n",
    "    \n",
    "    def allumer(self):\n",
    "        if self.est_allume == False:\n",
    "            self.est_allume = True\n",
    "            print(\"L'ordinateur est allumé.\")\n",
    "        else:\n",
    "            print(\"L'ordinateur est déjà allumé.\")\n",
    "    \n",
    "    def eteindre(self):\n",
    "        if self.est_allume == True:\n",
    "            self.est_allume = False\n",
    "            print(\"L'ordinateur est éteint.\")\n",
    "        else:\n",
    "            print(\"L'ordinateur est déjà éteint.\")\n",
    "\n",
    "    def afficher_details(self):\n",
    "        return self.__dict__\n",
    "\n",
    "         \n",
    "            \n",
    "class OrdinateurFixe(Ordinateur):\n",
    "    \n",
    "    def __init__(self, cpu, gpu, ram, taille_disque_dur, nbr_ventilateurs, poids, materiau_boitier, est_allume = False):\n",
    "        super().__init__(cpu, gpu, ram, taille_disque_dur, nbr_ventilateurs, poids, est_allume)\n",
    "        self.materiau_boitier = materiau_boitier\n",
    "    \n",
    "    def modifier(self, piece_a, piece_b):\n",
    "        print(piece_a + \" a été remplacé par \" + piece_b) \n",
    "\n",
    "    \n",
    "class OrdinateurPortable(Ordinateur):\n",
    "    \n",
    "    def __init__(self, cpu, gpu, ram, taille_disque_dur, nbr_ventilateurs, poids, type_ecran, taille_ecran, est_allume = False):\n",
    "        super().__init__(cpu, gpu, ram, taille_disque_dur, nbr_ventilateurs, poids, est_allume)\n",
    "        self.type_ecran = type_ecran\n",
    "        self.taille_ecran = taille_ecran\n",
    "    \n",
    "    def deplacer(self, lieu_a, lieu_b):\n",
    "        print (\"L'ordinateur a été déplacé de \" + lieu_a + \" à \" + lieu_b)\n",
    "\n",
    "   \n",
    "        \n",
    "# Programme principal\n",
    "\n",
    "o = Ordinateur('intel','Nvidia', 16, 2, 2, 1, True)\n",
    "print('Detail classe Ordinateur:')\n",
    "print(o.afficher_details())\n",
    "print()\n",
    "\n",
    "of = OrdinateurFixe(\"intel\",\"Nvidia\",32,1,2,1,\"plastique\",False)\n",
    "print('Detail classe OrdinateurFixe:')\n",
    "print(of.afficher_details())\n",
    "print()\n",
    "\n",
    "op = OrdinateurPortable(\"intel\",\"Nvidia\",8,1,2,1,15,False)\n",
    "print('Detail classe OrdinateurPortable:')\n",
    "print(op.afficher_details())\n",
    "print()\n",
    "\n"
   ]
  }
 ],
 "metadata": {
  "kernelspec": {
   "display_name": "Python 3 (ipykernel)",
   "language": "python",
   "name": "python3"
  },
  "language_info": {
   "codemirror_mode": {
    "name": "ipython",
    "version": 3
   },
   "file_extension": ".py",
   "mimetype": "text/x-python",
   "name": "python",
   "nbconvert_exporter": "python",
   "pygments_lexer": "ipython3",
   "version": "3.9.6"
  }
 },
 "nbformat": 4,
 "nbformat_minor": 4
}
