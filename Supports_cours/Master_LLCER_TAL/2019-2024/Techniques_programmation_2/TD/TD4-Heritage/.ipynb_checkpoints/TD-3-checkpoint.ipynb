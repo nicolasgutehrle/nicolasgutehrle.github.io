{
 "cells": [
  {
   "cell_type": "code",
   "execution_count": null,
   "metadata": {},
   "outputs": [],
   "source": []
  },
  {
   "cell_type": "markdown",
   "metadata": {},
   "source": [
    "## Exercice 5\n",
    "\n",
    "A côté de votre diagramme Voiture, faites un diagramme Moto et un diagramme Vélo. Pour chacun de ces diagrammes, indiquez comme précédemment les propriétés et les méthodes des objets Moto et Vélo. En même temps, notez de votre côté les éléments communs entre ces trois objets"
   ]
  },
  {
   "cell_type": "markdown",
   "metadata": {},
   "source": [
    "## Solution\n",
    "\n",
    "Points communs:\n",
    "* rouler\n",
    "* klaxonner\n",
    "* roues\n",
    "* accélerer\n",
    "* ralentir\n",
    "* Marque\n",
    "\n",
    "Différences:\n",
    "* Moteur\n",
    "* Portes"
   ]
  }
 ],
 "metadata": {
  "kernelspec": {
   "display_name": "Python 3",
   "language": "python",
   "name": "python3"
  },
  "language_info": {
   "codemirror_mode": {
    "name": "ipython",
    "version": 3
   },
   "file_extension": ".py",
   "mimetype": "text/x-python",
   "name": "python",
   "nbconvert_exporter": "python",
   "pygments_lexer": "ipython3",
   "version": "3.8.5"
  }
 },
 "nbformat": 4,
 "nbformat_minor": 4
}
