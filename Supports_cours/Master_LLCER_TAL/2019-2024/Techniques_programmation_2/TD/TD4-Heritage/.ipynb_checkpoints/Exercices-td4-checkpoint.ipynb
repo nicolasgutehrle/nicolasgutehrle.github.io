{
 "cells": [
  {
   "cell_type": "markdown",
   "metadata": {},
   "source": [
    "# Exercices TD4"
   ]
  },
  {
   "cell_type": "markdown",
   "metadata": {},
   "source": [
    "# Exercice 1\n",
    "\n",
    "Implémentez en Python l'UML ci-dessous:\n",
    "\n",
    "<img src=\"img.png\">"
   ]
  },
  {
   "cell_type": "markdown",
   "metadata": {},
   "source": [
    "# Implémentation des méthodes:\n",
    "\n",
    "Pour la classe Ordinateur:\n",
    "* La méthode \"allumer\" doit afficher le message \"L'ordinateur est allumé\" et changer la valeur de la propriété \"est_allume\" sur True\n",
    "* La méthode \"eteindre\" doit afficher le message \"L'ordinateur est eteint\" et changer la valeur de la propriété \"est_allume\" sur False\n",
    "* La méthode \"afficher_details\" doit afficher à l'aide d'un dictionnaire toutes les propriétés de la classe Ordinateur\n",
    "\n",
    "Pour la classe OrdinateurFixe:\n",
    "* La méthode \"modifier(piece_a, piece_b)\" doit afficher le message \"La piece <piece_a> a ete remplacee par la <piece_b>\n",
    "\n",
    "Pour la classe OrdinateurPortable:\n",
    "* La méthode \"deplacer(piece_a, piece_b)\" doit afficher le message \"L'ordinateur a ete deplace de la  <piece_a> à la <piece_b>\""
   ]
  },
  {
   "cell_type": "markdown",
   "metadata": {},
   "source": [
    "# Exercice 2\n",
    "\n",
    "Créez une instance de la classe OrdinateurFixe et une instance de la classe OrdinateurPortable. Pour chacune, affichez les propriétés et appelez les méthodes qui vous intéressent. Essayez notamment d'appeler la méthode ``afficher_details``, ``modifier`` et ``deplacer`` depuis chacune des instances. Notez et expliquez ce qui se passe."
   ]
  }
 ],
 "metadata": {
  "kernelspec": {
   "display_name": "Python 3 (ipykernel)",
   "language": "python",
   "name": "python3"
  },
  "language_info": {
   "codemirror_mode": {
    "name": "ipython",
    "version": 3
   },
   "file_extension": ".py",
   "mimetype": "text/x-python",
   "name": "python",
   "nbconvert_exporter": "python",
   "pygments_lexer": "ipython3",
   "version": "3.9.6"
  }
 },
 "nbformat": 4,
 "nbformat_minor": 4
}
