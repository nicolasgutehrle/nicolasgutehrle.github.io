{
 "cells": [
  {
   "cell_type": "markdown",
   "metadata": {},
   "source": [
    "# TD5 - Heritage"
   ]
  },
  {
   "cell_type": "markdown",
   "metadata": {},
   "source": [
    "## Exercice 1\n",
    "\n",
    "Faire une liste d'autres types de véhicule. Pour chacun, faire une liste (courte) de ses propriétés et méthodes"
   ]
  },
  {
   "cell_type": "code",
   "execution_count": null,
   "metadata": {},
   "outputs": [],
   "source": []
  },
  {
   "cell_type": "markdown",
   "metadata": {},
   "source": [
    "## Exercice 2\n",
    "\n",
    "Implémentez en Python les classes ``Camion``, ``Moto`` ``Velo`` et ``Trotinette`` , avec les propriétés que l'on a notées. Indiquez les propriétés simplement, sans chercher à les privatiser. Ajoutez également simplement les méthodes (pédaler, trottiner, démarrer, ...). Affichez simplement le nom de la fonction à l'aide de la fonction ``print()``"
   ]
  },
  {
   "cell_type": "code",
   "execution_count": null,
   "metadata": {},
   "outputs": [],
   "source": []
  },
  {
   "cell_type": "markdown",
   "metadata": {},
   "source": [
    "## Exercice 3\n",
    "\n",
    "Listez les points communs à toutes ces classes. Créez une classe Vehicule dont les propriétés seront ces points communs"
   ]
  },
  {
   "cell_type": "code",
   "execution_count": null,
   "metadata": {},
   "outputs": [],
   "source": []
  },
  {
   "cell_type": "markdown",
   "metadata": {},
   "source": [
    "## Exercice 4\n",
    "\n",
    "Modifiez la classe Camion de telle sorte qu'elle n'ait aucune propriété qui soit également une propriété de la classe Vehicule. Créez ensuite une instance de la classe Camion, et affichez la valeur de la propriété ``roues``. Que remarquez-vous ?"
   ]
  },
  {
   "cell_type": "code",
   "execution_count": null,
   "metadata": {},
   "outputs": [],
   "source": []
  },
  {
   "cell_type": "markdown",
   "metadata": {},
   "source": [
    "## Exercice 5\n",
    "\n",
    "Modifiez la classe Camion de telle sorte à ce qu'elle hérite de la classe Vehicule. Pour cela, faites attention à:\n",
    "* Appeler la classe Vehicule dans la déclaration de la classe Camion\n",
    "* Appeller le super constructeur dans le constructeur de la classe Camion. Celui-ci ne doit prendre que les arguments demandés par la classe Vehicule\n",
    "* Modifier le constructeur de la classe Camion de telle sorte à ce qu'il n'ajoute que les propriétés propres à la classe Camion\n",
    "\n",
    "Créez ensuite une instance de la classe Camion, et affichez la valeur de la propriété ``roues``. Que remarquez-vous ?"
   ]
  },
  {
   "cell_type": "code",
   "execution_count": null,
   "metadata": {},
   "outputs": [],
   "source": []
  },
  {
   "cell_type": "markdown",
   "metadata": {},
   "source": [
    "## Exercice 6\n",
    "\n",
    "Modifiez les classes ``Moto``, ``Velo`` et ``Trotinette`` de la même manière que la classe ``Camion``. Une fois terminé, créez pour chacune une instance de la classe et vérifiez qu'elle possède une proprité ``roues``"
   ]
  },
  {
   "cell_type": "code",
   "execution_count": null,
   "metadata": {},
   "outputs": [],
   "source": []
  }
 ],
 "metadata": {
  "kernelspec": {
   "display_name": "Python 3 (ipykernel)",
   "language": "python",
   "name": "python3"
  },
  "language_info": {
   "codemirror_mode": {
    "name": "ipython",
    "version": 3
   },
   "file_extension": ".py",
   "mimetype": "text/x-python",
   "name": "python",
   "nbconvert_exporter": "python",
   "pygments_lexer": "ipython3",
   "version": "3.9.6"
  }
 },
 "nbformat": 4,
 "nbformat_minor": 4
}
