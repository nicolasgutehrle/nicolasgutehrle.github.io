{
 "cells": [
  {
   "cell_type": "markdown",
   "metadata": {},
   "source": [
    "# Exercices TD4\n",
    "\n",
    "Vous pouvez utiliser le site suivant pour réaliser le diagramme: https://app.diagrams.net/"
   ]
  },
  {
   "cell_type": "markdown",
   "metadata": {},
   "source": [
    "# Exercice 1\n",
    "\n",
    "Implémentez en Python l'UML ci-dessous:\n",
    "\n",
    "<img src=\"img.png\">"
   ]
  },
  {
   "cell_type": "markdown",
   "metadata": {},
   "source": [
    "# Implémentation des méthodes:\n",
    "\n",
    "Pour la classe Ordinateur:\n",
    "* La méthode \"allumer\" doit afficher le message \"L'ordinateur est allumé\" et changer la valeur de la propriété \"est_allume\" sur True\n",
    "* La méthode \"eteindre\" doit afficher le message \"L'ordinateur est eteint\" et changer la valeur de la propriété \"est_allume\" sur False\n",
    "* La méthode \"afficher_details\" doit afficher à l'aide d'un dictionnaire toutes les propriétés de la classe Ordinateur\n",
    "\n",
    "Pour la classe OrdinateurFixe:\n",
    "* La méthode \"modifier(piece_a, piece_b)\" doit afficher le message \"La piece <piece_a> a ete remplacee par la <piece_b>\n",
    "\n",
    "Pour la classe OrdinateurPortable:\n",
    "* La méthode \"deplacer(piece_a, piece_b)\" doit afficher le message \"L'ordinateur a ete deplace de la  <piece_a> à la <piece_b>\""
   ]
  },
  {
   "cell_type": "markdown",
   "metadata": {},
   "source": [
    "# Exercice 2\n",
    "\n",
    "Créez une instance de la classe OrdinateurFixe et une instance de la classe OrdinateurPortable. Pour chacune, affichez les propriétés et appelez les méthodes qui vous intéressent. Essayez notamment d'appeler la méthode ``afficher_details``, ``modifier`` et ``deplacer`` depuis chacune des instances. Notez et expliquez ce qui se passe."
   ]
  },
  {
   "cell_type": "markdown",
   "metadata": {},
   "source": [
    "# Exercice 3\n",
    "\n",
    "Modélisez les instructions ci-dessous avec un diagramme, puis implémentez ce diagramme en Python. Vous documenterez le plus possible votre code.\n",
    "\n",
    "Un ReseauSocial a pour propriétés:\n",
    "* nom, nombre d'adhérents, nombre de post et une popularité. La propriété nom doit être privée\n",
    "* la popularité d'un réseau social est calculée par la fonction \"calculerPopularite\". Cette méthode ne doit contenir que le mot clé ``pass`` (le fonctionnement de cette méthode changera en fonction des sous-classes).\n",
    "\n",
    "\n",
    "Un ``ReseauSocial`` doit avoir une méthode \"ajouterAdherent\" et \"RetirerAdherent\" qui respectivement augmente ou réduit le nombre d'adhérent de l'objet. Il en est de même pour les posts.\n",
    "\n",
    "Les classes ``Perso``, ``Images`` et ``Blogging`` sont trois types de réseaux sociaux, et sont donc des sous-classes de la la classe ``ReseauSocial``. Elles ont exactement les mêmes propriétés que la classe ``ReseauSocial``. Cependant, elles calculent chacune différement leur popularité, à savoir:\n",
    "* La popularité de la classe ``Perso`` est égale au nombre d'adhérents\n",
    "* La popularité de la classe ``Images`` est égale au nombre de posts\n",
    "* La popularité de la classe ``Blogging`` est égale au nombre d'adhérents x le nombre de posts\n"
   ]
  },
  {
   "cell_type": "markdown",
   "metadata": {},
   "source": [
    "# Exercice 4\n",
    "\n",
    "Créez une fonction ``plusPopulaire()`` qui prend en argument une liste d'objets héritant de la classe ``ReseauSocial``. Dans cette fonction, calculez la popularité de chaque réseau contenu dans la liste. La fonction doit retourner le réseau le plus populaire. Dans la suite du code, testez votre fonction, en jouant avec les paramètres de chaque instance de classe."
   ]
  }
 ],
 "metadata": {
  "kernelspec": {
   "display_name": "Python 3.9.10 64-bit",
   "language": "python",
   "name": "python3"
  },
  "language_info": {
   "codemirror_mode": {
    "name": "ipython",
    "version": 3
   },
   "file_extension": ".py",
   "mimetype": "text/x-python",
   "name": "python",
   "nbconvert_exporter": "python",
   "pygments_lexer": "ipython3",
   "version": "3.9.10 (main, Jan 15 2022, 11:40:53) \n[Clang 13.0.0 (clang-1300.0.29.3)]"
  },
  "vscode": {
   "interpreter": {
    "hash": "b0fa6594d8f4cbf19f97940f81e996739fb7646882a419484c72d19e05852a7e"
   }
  }
 },
 "nbformat": 4,
 "nbformat_minor": 4
}
