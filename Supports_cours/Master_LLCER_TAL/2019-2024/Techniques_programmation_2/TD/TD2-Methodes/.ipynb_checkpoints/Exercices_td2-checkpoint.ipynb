{
 "cells": [
  {
   "cell_type": "markdown",
   "metadata": {},
   "source": [
    "# Exercices"
   ]
  },
  {
   "cell_type": "markdown",
   "metadata": {},
   "source": [
    "## Exercice 1\n",
    "\n",
    "Reprenez la classe Ordinateur que vous avez créée pour l'exercice précédent. Dedans, ajoutez une propriété ``est_allume``, qui aura la valeur booléenne ``False`` par défaut."
   ]
  },
  {
   "cell_type": "markdown",
   "metadata": {},
   "source": [
    "## Exercice 2\n",
    "\n",
    "Ajoutez à votre classe Ordinateur les méthodes ``allumer`` et ``eteindre``. Dans la première, changez la valeur de la propriété ``est_allume`` sur ``True``. Dans la seconde méthode, faites l'inverse en changeant la valeur de la propriété ``est_allume`` sur ``False``. \n",
    "\n",
    "Dans une variable nommée ``ordinateur``, créez une instance de la classe Ordinateur. Utilisez cette instance pour appeler d'abord appeler la fonction  ``allumer``. Utilisez ensuite la fonction ``print()`` pour afficher la valeur de la propriétés ``est_allume`` de votre instance. Répétez ce processus pour la fonction ``eteindre``."
   ]
  },
  {
   "cell_type": "markdown",
   "metadata": {},
   "source": [
    "## Exercice 3\n",
    "\n",
    "Modifiez la fonction ``allumer`` de telle sorte à modifier la valeur de la propriété ``est_allume`` uniquement si celle-ci est égale à ``False``. Si ce n'est pas le cas, affichez le message ``L'ordinateur est déjà allumé``.\n",
    "\n",
    "Appliquez cette même logique pour la fonction ``eteindre``. Si l'ordinateur est déjà éteint, affichez le message ``L'ordinateur est déjà éteint``."
   ]
  }
 ],
 "metadata": {
  "kernelspec": {
   "display_name": "Python 3 (ipykernel)",
   "language": "python",
   "name": "python3"
  },
  "language_info": {
   "codemirror_mode": {
    "name": "ipython",
    "version": 3
   },
   "file_extension": ".py",
   "mimetype": "text/x-python",
   "name": "python",
   "nbconvert_exporter": "python",
   "pygments_lexer": "ipython3",
   "version": "3.9.6"
  }
 },
 "nbformat": 4,
 "nbformat_minor": 4
}
