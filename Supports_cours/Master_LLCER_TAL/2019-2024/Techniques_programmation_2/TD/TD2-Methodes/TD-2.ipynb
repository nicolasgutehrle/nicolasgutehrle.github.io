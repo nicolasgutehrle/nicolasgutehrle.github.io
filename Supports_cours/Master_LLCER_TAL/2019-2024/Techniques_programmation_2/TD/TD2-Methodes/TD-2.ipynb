{
 "cells": [
  {
   "cell_type": "markdown",
   "metadata": {},
   "source": [
    "# TD-2: Notion d'objets et de classes (Partie 2)"
   ]
  },
  {
   "cell_type": "markdown",
   "metadata": {},
   "source": [
    "# Exercice 1\n",
    "\n",
    "Ajoutez une fonction ``klaxon`` dans la classe Voiture. La fonction affiche le mot ``klaxon !``.  Créez ensuite une instance de classe Voiture, puis appellez la fonction ``klaxon``."
   ]
  },
  {
   "cell_type": "code",
   "execution_count": null,
   "metadata": {},
   "outputs": [],
   "source": [
    "class Voiture:\n",
    "    \n",
    "    # marque, prix, moteur, boite sont des propriétés d'instance: leur valeur est propre à chaque instance\n",
    "    # de classe Voiture\n",
    "    def __init__(self, marque, prix, moteur, boite):\n",
    "        self.marque = marque\n",
    "        self.prix = prix\n",
    "        self.moteur = moteur\n",
    "        self.boite = boite"
   ]
  },
  {
   "cell_type": "markdown",
   "metadata": {},
   "source": [
    "# Solution"
   ]
  },
  {
   "cell_type": "code",
   "execution_count": 4,
   "metadata": {},
   "outputs": [],
   "source": [
    "class Voiture:\n",
    "    def __init__(self, marque, moteur, nbr_portes, boite, prix):\n",
    "        self.marque = marque\n",
    "        self.moteur = moteur\n",
    "        self.nbr_portes = nbr_portes\n",
    "        self.boite = boite\n",
    "        self.prix = prix\n",
    "        \n",
    "    def klaxon(self):\n",
    "        print('Klaxon !')"
   ]
  },
  {
   "cell_type": "code",
   "execution_count": 6,
   "metadata": {},
   "outputs": [],
   "source": [
    "p = Voiture('renault', 1000, 'diesel', 'manuelle', 5)"
   ]
  },
  {
   "cell_type": "code",
   "execution_count": 7,
   "metadata": {},
   "outputs": [
    {
     "name": "stdout",
     "output_type": "stream",
     "text": [
      "Klaxon !\n"
     ]
    }
   ],
   "source": [
    "p.klaxon()"
   ]
  },
  {
   "cell_type": "code",
   "execution_count": null,
   "metadata": {},
   "outputs": [],
   "source": []
  },
  {
   "cell_type": "markdown",
   "metadata": {},
   "source": [
    "# Exercice 2\n",
    "\n",
    "Ajoutez une méthode de classe nommée \"afficher_details\" à la classe Voiture. Dans cette fonction, utilisez la fonction ``print`` pour afficher une à une les propriétés de la classe Voiture. Créez ensuite une instance de classe Voiture, puis appellez la fonction ``afficher_details``."
   ]
  },
  {
   "cell_type": "code",
   "execution_count": null,
   "metadata": {},
   "outputs": [],
   "source": []
  },
  {
   "cell_type": "markdown",
   "metadata": {},
   "source": [
    "# Solution"
   ]
  },
  {
   "cell_type": "code",
   "execution_count": 2,
   "metadata": {},
   "outputs": [],
   "source": [
    "class Voiture:\n",
    "    def __init__(self, marque, moteur, nbr_portes, boite, prix):\n",
    "        self.marque = marque\n",
    "        self.moteur = moteur\n",
    "        self.nbr_portes = nbr_portes\n",
    "        self.boite = boite\n",
    "        self.prix = prix\n",
    "\n",
    "    def klaxon(self):\n",
    "        print('Klaxon !')\n",
    "                \n",
    "    def afficher_details(self):\n",
    "        print(self.marque)\n",
    "        print(self.moteur)\n",
    "        print(self.nbr_portes)\n",
    "        print(self.boite)\n",
    "        print(self.prix)\n"
   ]
  },
  {
   "cell_type": "code",
   "execution_count": 3,
   "metadata": {},
   "outputs": [],
   "source": [
    "p = Voiture('renault', 1000, 'diesel', 'manuelle', 5)"
   ]
  },
  {
   "cell_type": "code",
   "execution_count": 4,
   "metadata": {},
   "outputs": [
    {
     "name": "stdout",
     "output_type": "stream",
     "text": [
      "renault\n",
      "1000\n",
      "diesel\n",
      "manuelle\n",
      "5\n"
     ]
    }
   ],
   "source": [
    "p.afficher_details()"
   ]
  },
  {
   "cell_type": "code",
   "execution_count": null,
   "metadata": {},
   "outputs": [],
   "source": []
  },
  {
   "cell_type": "markdown",
   "metadata": {},
   "source": [
    "# Exercice 3\n",
    "\n",
    "Modifiez la fonction ``afficher_details`` que vous venez de créer de telle sorte à afficher cette fois le nom de la propriété, suivie de sa valeur. Vous devez avoir un résultat semblable à celui-ci dessous:\n",
    "\n",
    "``Marque: Peugeot\n",
    "  Moteur: Essence\n",
    "``\n",
    "\n",
    "Créez ensuite une instance de classe Voiture, puis appellez la fonction ``afficher_details``."
   ]
  },
  {
   "cell_type": "code",
   "execution_count": null,
   "metadata": {},
   "outputs": [],
   "source": []
  },
  {
   "cell_type": "markdown",
   "metadata": {},
   "source": [
    "# Solution"
   ]
  },
  {
   "cell_type": "code",
   "execution_count": 6,
   "metadata": {},
   "outputs": [],
   "source": [
    "class Voiture:\n",
    "    def __init__(self, marque, moteur, nbr_portes, boite, prix):\n",
    "        self.marque = marque\n",
    "        self.moteur = moteur\n",
    "        self.nbr_portes = nbr_portes\n",
    "        self.boite = boite\n",
    "        self.prix = prix\n",
    "\n",
    "    def klaxon(self):\n",
    "        print('Klaxon !')\n",
    "\n",
    "    def afficher_details(self):\n",
    "        print(\"Marque: \", self.marque)\n",
    "        print(\"Moteur: \", self.moteur)\n",
    "        print(\"Nombre de portes: \", self.nbr_portes)\n",
    "        print(\"Boîte: \", self.boite)\n",
    "        print(\"Prix: \", self.prix)\n",
    "    \n"
   ]
  },
  {
   "cell_type": "code",
   "execution_count": 15,
   "metadata": {},
   "outputs": [],
   "source": [
    "p = Voiture('renault', 'diesel', 5, 'manuelle', 10000)"
   ]
  },
  {
   "cell_type": "code",
   "execution_count": 8,
   "metadata": {
    "collapsed": true,
    "jupyter": {
     "outputs_hidden": true,
     "source_hidden": true
    }
   },
   "outputs": [
    {
     "name": "stdout",
     "output_type": "stream",
     "text": [
      "Marque:  renault\n",
      "Moteur:  1000\n",
      "Nombre de portes:  diesel\n",
      "Boîte:  manuelle\n",
      "Prix:  5\n"
     ]
    }
   ],
   "source": [
    "p.afficher_details()"
   ]
  },
  {
   "cell_type": "code",
   "execution_count": null,
   "metadata": {},
   "outputs": [],
   "source": []
  },
  {
   "cell_type": "markdown",
   "metadata": {},
   "source": [
    "# Exercice 4\n",
    "\n",
    "Modifiez à nouveau la fonction ``afficher_details``. Dans cette fonction, créez une variable de type ``dict`` nommée ``proprietes``. Les clés de ce dictionnaire correspondront au nom des propriétés tandis que les valeurs du dictionnaire correspondront aux valeurs des propriétés elles-mêmes. Une fois le dictionnaire créé, affichez le à l'aide de la fonction ``print``.  Créez ensuite une instance de classe Voiture, puis appellez la fonction ``afficher_details``."
   ]
  },
  {
   "cell_type": "code",
   "execution_count": null,
   "metadata": {},
   "outputs": [],
   "source": []
  },
  {
   "cell_type": "markdown",
   "metadata": {},
   "source": [
    "# Solution"
   ]
  },
  {
   "cell_type": "code",
   "execution_count": 9,
   "metadata": {},
   "outputs": [],
   "source": [
    "class Voiture:\n",
    "    def __init__(self, marque, moteur, nbr_portes, boite, prix):\n",
    "        self.marque = marque\n",
    "        self.moteur = moteur\n",
    "        self.nbr_portes = nbr_portes\n",
    "        self.boite = boite\n",
    "        self.prix = prix\n",
    "\n",
    "    def klaxon(self):\n",
    "        print('Klaxon !')\n",
    "\n",
    "    def afficher_details(self):\n",
    "        proprietes = {\n",
    "            \"Marque\": self.marque,\n",
    "            \"Moteur\": self.moteur,\n",
    "            \"Nombre_portes\": self.nbr_portes,\n",
    "            \"Boite\": self.boite,\n",
    "            \"Prix\": self.prix\n",
    "        }\n",
    "        print(proprietes)"
   ]
  },
  {
   "cell_type": "code",
   "execution_count": 15,
   "metadata": {},
   "outputs": [],
   "source": [
    "p = Voiture('renault', 'diesel', 5, 'manuelle', 10000)"
   ]
  },
  {
   "cell_type": "code",
   "execution_count": 11,
   "metadata": {},
   "outputs": [
    {
     "name": "stdout",
     "output_type": "stream",
     "text": [
      "{'Marque': 'renault', 'Moteur': 1000, 'Nombre_portes': 'diesel', 'Boite': 'manuelle', 'Prix': 5}\n"
     ]
    }
   ],
   "source": [
    "p.afficher_details()"
   ]
  },
  {
   "cell_type": "code",
   "execution_count": null,
   "metadata": {},
   "outputs": [],
   "source": []
  },
  {
   "attachments": {},
   "cell_type": "markdown",
   "metadata": {},
   "source": [
    "# Exercice 5\n",
    "\n",
    "Créez une méthode ``changer_prix``, qui prendra 1 argument. Dans cette fonction, faites en sorte de changer la valeur de la propriété ``prix`` par celle de l'argument de la méthode. Créez ensuite une instance de classe Voiture, appellez la fonction ``changer_prix`` puis ``afficher_details``."
   ]
  },
  {
   "cell_type": "markdown",
   "metadata": {},
   "source": [
    "# Solution"
   ]
  },
  {
   "cell_type": "code",
   "execution_count": 1,
   "metadata": {},
   "outputs": [],
   "source": [
    "class Voiture:\n",
    "    def __init__(self, marque, moteur, nbr_portes, boite, prix):\n",
    "        self.marque = marque\n",
    "        self.moteur = moteur\n",
    "        self.nbr_portes = nbr_portes\n",
    "        self.boite = boite\n",
    "        self.prix = prix\n",
    "\n",
    "    def klaxon(self):\n",
    "        print('Klaxon !')\n",
    "\n",
    "    def afficher_details(self):\n",
    "        proprietes = {\n",
    "            \"Marque\": self.marque,\n",
    "            \"Moteur\": self.moteur,\n",
    "            \"Nombre_portes\": self.nbr_portes,\n",
    "            \"Boite\": self.boite,\n",
    "            \"Prix\": self.prix\n",
    "        }\n",
    "        print(proprietes)\n",
    "    \n",
    "    def changer_prix(self, nvx_prix):\n",
    "        self.prix = nvx_prix"
   ]
  },
  {
   "cell_type": "code",
   "execution_count": 4,
   "metadata": {},
   "outputs": [],
   "source": [
    "p = Voiture('renault', 'diesel', 5, 'manuelle', 1000)"
   ]
  },
  {
   "cell_type": "code",
   "execution_count": 5,
   "metadata": {},
   "outputs": [
    {
     "name": "stdout",
     "output_type": "stream",
     "text": [
      "Nouveau prix : 10000\n"
     ]
    }
   ],
   "source": [
    "p.changer_prix(10000)"
   ]
  },
  {
   "cell_type": "code",
   "execution_count": 6,
   "metadata": {},
   "outputs": [
    {
     "name": "stdout",
     "output_type": "stream",
     "text": [
      "{'Marque': 'renault', 'Moteur': 'diesel', 'Nombre_portes': 5, 'Boite': 'manuelle', 'Prix': 10000}\n"
     ]
    }
   ],
   "source": [
    "p.afficher_details()"
   ]
  },
  {
   "cell_type": "code",
   "execution_count": null,
   "metadata": {},
   "outputs": [],
   "source": []
  },
  {
   "attachments": {},
   "cell_type": "markdown",
   "metadata": {},
   "source": [
    "# Exercice 6\n",
    "\n",
    "Créez une fonction ``changer_nbr_portes``, qui prendra 1 argument. Dans cette fonction, faites en sorte de changer la valeur de la propriété ``nbr_portes`` par celle de l'argument de la méthode. Dans cette méthode suivante, ajoutez la logique suivante: si après modification le nombre de portes est supérieur ou égal à 5, le prix de la voiture passe automatiquemment à 50 000. Si le nombre de portes est strictement égal à 4, le prix de la voiture passe à 40 000. Enfin, si le nombre de portes est inférieur ou égal à 3, le prix de la voiture passe à 30 000.\n",
    "\n",
    "Créez ensuite une instance de classe Voiture, appellez la fonction ``changer_nbr_portes`` puis ``afficher_details``."
   ]
  },
  {
   "cell_type": "markdown",
   "metadata": {},
   "source": [
    "# Solution"
   ]
  },
  {
   "cell_type": "code",
   "execution_count": 21,
   "metadata": {},
   "outputs": [],
   "source": [
    "class Voiture:\n",
    "    def __init__(self, marque, moteur, nbr_portes, boite, prix):\n",
    "        self.marque = marque\n",
    "        self.moteur = moteur\n",
    "        self.nbr_portes = nbr_portes\n",
    "        self.boite = boite\n",
    "        self.prix = prix\n",
    "\n",
    "    def klaxon(self):\n",
    "        print('Klaxon !')\n",
    "\n",
    "    def afficher_details(self):\n",
    "        proprietes = {\n",
    "            \"Marque\": self.marque,\n",
    "            \"Moteur\": self.moteur,\n",
    "            \"Nombre_portes\": self.nbr_portes,\n",
    "            \"Boite\": self.boite,\n",
    "            \"Prix\": self.prix\n",
    "        }\n",
    "        print(proprietes)\n",
    "    \n",
    "    def changer_nbr_portes(self, nbr_portes):\n",
    "        self.nbr_portes = nbr_portes\n",
    "        if nbr_portes <= 3:\n",
    "            self.changer_prix(30000)\n",
    "        elif nbr_portes == 4:\n",
    "            self.changer_prix(40000)\n",
    "        else:\n",
    "            self.changer_prix(50000)\n",
    "    \n",
    "    def changer_prix(self, nvx_prix):\n",
    "        self.prix = nvx_prix\n",
    "        print(\"Nouveau prix :\", self.prix)\n",
    "\n",
    "    "
   ]
  },
  {
   "cell_type": "code",
   "execution_count": 22,
   "metadata": {
    "jupyter": {
     "source_hidden": true
    }
   },
   "outputs": [],
   "source": [
    "p = Voiture('renault', 'diesel', 5, 'manuelle', 10000)"
   ]
  },
  {
   "cell_type": "code",
   "execution_count": 23,
   "metadata": {
    "collapsed": true,
    "jupyter": {
     "outputs_hidden": true,
     "source_hidden": true
    }
   },
   "outputs": [
    {
     "name": "stdout",
     "output_type": "stream",
     "text": [
      "Nouveau prix : 30000\n"
     ]
    }
   ],
   "source": [
    "p.changer_nbr_portes(3)"
   ]
  },
  {
   "cell_type": "code",
   "execution_count": 25,
   "metadata": {
    "collapsed": true,
    "jupyter": {
     "outputs_hidden": true,
     "source_hidden": true
    }
   },
   "outputs": [
    {
     "name": "stdout",
     "output_type": "stream",
     "text": [
      "{'Marque': 'renault', 'Moteur': 'diesel', 'Nombre_portes': 3, 'Boite': 'manuelle', 'Prix': 30000}\n"
     ]
    }
   ],
   "source": [
    "p.afficher_details()"
   ]
  },
  {
   "cell_type": "code",
   "execution_count": null,
   "metadata": {},
   "outputs": [],
   "source": []
  },
  {
   "attachments": {},
   "cell_type": "markdown",
   "metadata": {},
   "source": [
    "# Exercice 7\n",
    "\n",
    "* Modifiez la méthode ``klaxon`` pour qu'elle devienne une méthode classe. Appelez ensuite cette méthode. \n",
    "* Ajoutez un attribut de classe ``nbr_roues`` dont la valeur est 4. Modifiez la méthode ``afficher_details`` pour qu'elle indique également le nombre de roues. Appelez ensuite cette méthode"
   ]
  },
  {
   "cell_type": "code",
   "execution_count": null,
   "metadata": {},
   "outputs": [],
   "source": []
  },
  {
   "attachments": {},
   "cell_type": "markdown",
   "metadata": {},
   "source": [
    "# Solution"
   ]
  },
  {
   "cell_type": "code",
   "execution_count": 2,
   "metadata": {},
   "outputs": [],
   "source": [
    "class Voiture:\n",
    "\n",
    "    nbr_roues = 4\n",
    "\n",
    "    def __init__(self, marque, moteur, nbr_portes, boite, prix):\n",
    "        self.marque = marque\n",
    "        self.moteur = moteur\n",
    "        self.nbr_portes = nbr_portes\n",
    "        self.boite = boite\n",
    "        self.prix = prix\n",
    "    \n",
    "    @staticmethod\n",
    "    def klaxon():\n",
    "        print('Klaxon !')\n",
    "\n",
    "    def afficher_details(self):\n",
    "        proprietes = {\n",
    "            \"Marque\": self.marque,\n",
    "            \"Moteur\": self.moteur,\n",
    "            \"Nombre_portes\": self.nbr_portes,\n",
    "            \"Boite\": self.boite,\n",
    "            \"Prix\": self.prix,\n",
    "            \"Roues\": Voiture.nbr_roues\n",
    "        }\n",
    "        print(proprietes)\n",
    "    \n",
    "    def changer_nbr_portes(self, nbr_portes):\n",
    "        self.nbr_portes = nbr_portes\n",
    "        if nbr_portes <= 3:\n",
    "            self.changer_prix(30000)\n",
    "        elif nbr_portes == 4:\n",
    "            self.changer_prix(40000)\n",
    "        else:\n",
    "            self.changer_prix(50000)\n",
    "    \n",
    "    def changer_prix(self, nvx_prix):\n",
    "        self.prix = nvx_prix\n",
    "        print(\"Nouveau prix :\", self.prix)\n",
    "\n",
    "    "
   ]
  },
  {
   "cell_type": "code",
   "execution_count": 3,
   "metadata": {},
   "outputs": [
    {
     "name": "stdout",
     "output_type": "stream",
     "text": [
      "{'Marque': 'renault', 'Moteur': 'diesel', 'Nombre_portes': 5, 'Boite': 'manuelle', 'Prix': 10000, 'Roues': 4}\n"
     ]
    }
   ],
   "source": [
    "p = Voiture('renault', 'diesel', 5, 'manuelle', 10000)\n",
    "p.afficher_details()"
   ]
  },
  {
   "cell_type": "code",
   "execution_count": 4,
   "metadata": {},
   "outputs": [
    {
     "name": "stdout",
     "output_type": "stream",
     "text": [
      "Klaxon !\n"
     ]
    }
   ],
   "source": [
    "Voiture.klaxon()"
   ]
  }
 ],
 "metadata": {
  "kernelspec": {
   "display_name": "Python 3.9.10 64-bit",
   "language": "python",
   "name": "python3"
  },
  "language_info": {
   "codemirror_mode": {
    "name": "ipython",
    "version": 3
   },
   "file_extension": ".py",
   "mimetype": "text/x-python",
   "name": "python",
   "nbconvert_exporter": "python",
   "pygments_lexer": "ipython3",
   "version": "3.9.10"
  },
  "vscode": {
   "interpreter": {
    "hash": "b0fa6594d8f4cbf19f97940f81e996739fb7646882a419484c72d19e05852a7e"
   }
  }
 },
 "nbformat": 4,
 "nbformat_minor": 4
}
