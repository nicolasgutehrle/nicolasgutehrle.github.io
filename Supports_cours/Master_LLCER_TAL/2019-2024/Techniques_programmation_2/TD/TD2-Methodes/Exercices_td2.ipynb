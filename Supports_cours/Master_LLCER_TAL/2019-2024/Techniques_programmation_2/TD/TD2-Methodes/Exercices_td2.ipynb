{
 "cells": [
  {
   "cell_type": "markdown",
   "metadata": {},
   "source": [
    "# Exercices"
   ]
  },
  {
   "attachments": {},
   "cell_type": "markdown",
   "metadata": {},
   "source": [
    "## Exercice 1\n",
    "\n",
    "Reprenez la classe Ordinateur que vous avez créée pour l'exercice précédent. Dedans, ajoutez une propriété ``est_allume``, qui aura la valeur booléenne ``False`` par défaut. Ajoutez à votre classe Ordinateur les méthodes ``allumer`` et ``eteindre``. Dans la première, changez la valeur de la propriété ``est_allume`` sur ``True``. Dans la seconde méthode, faites l'inverse en changeant la valeur de la propriété ``est_allume`` sur ``False``. \n",
    "\n",
    "Dans une variable nommée ``ordinateur``, créez une instance de la classe Ordinateur. Utilisez cette instance pour appeler d'abord appeler la fonction  ``allumer``. Utilisez ensuite la fonction ``print()`` pour afficher la valeur de la propriétés ``est_allume`` de votre instance. Répétez ce processus pour la fonction ``eteindre``."
   ]
  },
  {
   "attachments": {},
   "cell_type": "markdown",
   "metadata": {},
   "source": [
    "\n"
   ]
  },
  {
   "attachments": {},
   "cell_type": "markdown",
   "metadata": {},
   "source": [
    "## Exercice 2\n",
    "\n",
    "Modifiez la fonction ``allumer`` de telle sorte à modifier la valeur de la propriété ``est_allume`` uniquement si celle-ci est égale à ``False``. Si ce n'est pas le cas, affichez le message ``L'ordinateur est déjà allumé``.\n",
    "\n",
    "Appliquez cette même logique pour la fonction ``eteindre``. Si l'ordinateur est déjà éteint, affichez le message ``L'ordinateur est déjà éteint``."
   ]
  },
  {
   "cell_type": "code",
   "execution_count": null,
   "metadata": {},
   "outputs": [],
   "source": []
  },
  {
   "cell_type": "code",
   "execution_count": null,
   "metadata": {},
   "outputs": [],
   "source": []
  }
 ],
 "metadata": {
  "kernelspec": {
   "display_name": "Python 3.9.10 64-bit",
   "language": "python",
   "name": "python3"
  },
  "language_info": {
   "codemirror_mode": {
    "name": "ipython",
    "version": 3
   },
   "file_extension": ".py",
   "mimetype": "text/x-python",
   "name": "python",
   "nbconvert_exporter": "python",
   "pygments_lexer": "ipython3",
   "version": "3.9.10 (main, Jan 15 2022, 11:40:53) \n[Clang 13.0.0 (clang-1300.0.29.3)]"
  },
  "vscode": {
   "interpreter": {
    "hash": "b0fa6594d8f4cbf19f97940f81e996739fb7646882a419484c72d19e05852a7e"
   }
  }
 },
 "nbformat": 4,
 "nbformat_minor": 4
}
