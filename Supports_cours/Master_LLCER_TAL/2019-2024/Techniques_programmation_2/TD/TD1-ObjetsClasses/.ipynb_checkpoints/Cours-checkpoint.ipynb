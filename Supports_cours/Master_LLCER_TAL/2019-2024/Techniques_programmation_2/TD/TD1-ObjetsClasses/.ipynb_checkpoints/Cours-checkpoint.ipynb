{
 "cells": [
  {
   "cell_type": "code",
   "execution_count": null,
   "metadata": {},
   "outputs": [],
   "source": []
  },
  {
   "cell_type": "markdown",
   "metadata": {},
   "source": [
    "La programmation orientée objet (OOP) est une méthode permettant de structurer un programme en regroupant des propriétés et des comportements connexes dans des objets individuels.\n",
    "\n",
    "La programmation Orientée Objets (OOP, Object-Oriented Programmation en anglais) est un paradigme, une méthodologie de programmation. Il consiste à créer et manipuler des **objets**, qui servent à représenter des concepts, idées, documents ... Le fonctionnement de ces objets est indépendent des autres objets. \n",
    "\n",
    "Traiter un problème selon l'OOP, c'est donc imaginer un ensemble d'unités chacune permettant de résoudre un aspect du problème et intéragissant les unes avec les autres.\n",
    "\n",
    "\n",
    "Pour résoudre un problème selon l'OOP, on image un ensemble de traitements qui, une fois mis à la chaîne, permettent de résoudre le problème\n",
    "\n",
    "L'OOP permet de modéliser des concepts, idées, ... et les relations entre eux. \n",
    "\n",
    "Chaque objet a des propriétés"
   ]
  },
  {
   "cell_type": "code",
   "execution_count": null,
   "metadata": {},
   "outputs": [],
   "source": []
  },
  {
   "cell_type": "code",
   "execution_count": null,
   "metadata": {},
   "outputs": [],
   "source": []
  },
  {
   "cell_type": "markdown",
   "metadata": {},
   "source": [
    "## Structures de données"
   ]
  },
  {
   "cell_type": "markdown",
   "metadata": {},
   "source": [
    "## Classes\n",
    "\n",
    "Une classe est le schéma, la recette permettant de créer un objet. Elle indique les propriétés de cet objet, ce qu'il peut faire et comment le construire. \n",
    "\n",
    "En Python, une classe est créée avec l'opérateur ``class``"
   ]
  },
  {
   "cell_type": "code",
   "execution_count": 6,
   "metadata": {},
   "outputs": [],
   "source": [
    "class Voiture:\n",
    "    pass \n",
    "\n",
    "# pass est un opérateur permettant d'ignore cette portion de code. Il est très utile quand on\n",
    "# veut ignorer un passage de boucle, ou bien que lorsque l'on a besoin d'écrire plus tard \n",
    "# une fonction"
   ]
  },
  {
   "cell_type": "markdown",
   "metadata": {},
   "source": [
    "Pour créer un objet, il suffit d'appeler la classe, comme on appelerait une fonction et que l'on voudrait stocker le résultat dans une variable:"
   ]
  },
  {
   "cell_type": "code",
   "execution_count": 8,
   "metadata": {},
   "outputs": [],
   "source": [
    "v = Voiture()"
   ]
  },
  {
   "cell_type": "code",
   "execution_count": 10,
   "metadata": {},
   "outputs": [
    {
     "name": "stdout",
     "output_type": "stream",
     "text": [
      "<__main__.Voiture object at 0x7f5fbd896b80>\n"
     ]
    }
   ],
   "source": [
    "print(v)"
   ]
  },
  {
   "cell_type": "markdown",
   "metadata": {},
   "source": [
    "### Exercice\n",
    "\n",
    "Selon vous, comment ajouter des propriété à une classe ?"
   ]
  },
  {
   "cell_type": "markdown",
   "metadata": {},
   "source": [
    "## Classe et instance de classe\n",
    "\n",
    "La classe est le schéma pour construire un objet. Une instance de classe est un object qui a été crée à partir de ce schéma. Par exemple, le plan de construction d'une table Ikea est une classe, tandis que la table elle-même est une instance de cette classe.\n",
    "\n",
    "Ci-dessus, la variable ``v`` est une instance de la classe Voiture: c'est un object qui a été construit en suivant les instructions données dans le schéma Voiture. "
   ]
  },
  {
   "cell_type": "markdown",
   "metadata": {},
   "source": [
    "### Propriétés de classe\n",
    "\n",
    "Ci-dessus, on voit que notre variable ``v`` est de type Voiture. Celle-ci n'a pour l'instant aucune propriété.\n",
    "\n",
    "Une propriété de classe est une propriété qui sera partagée par tous les objets appartenant à cette classe. Pour les définir, il suffit de les ajouter juste après la définition de la classe:"
   ]
  },
  {
   "cell_type": "code",
   "execution_count": 25,
   "metadata": {},
   "outputs": [],
   "source": [
    "class Voiture:\n",
    "    \n",
    "    roues = 4\n",
    "    retroviseurs = 2\n",
    "    "
   ]
  },
  {
   "cell_type": "code",
   "execution_count": 26,
   "metadata": {},
   "outputs": [],
   "source": [
    "v = Voiture()"
   ]
  },
  {
   "cell_type": "code",
   "execution_count": 28,
   "metadata": {},
   "outputs": [
    {
     "name": "stdout",
     "output_type": "stream",
     "text": [
      "4 True 2\n"
     ]
    }
   ],
   "source": [
    "print(v.roues, v.retroviseurs)"
   ]
  },
  {
   "cell_type": "markdown",
   "metadata": {},
   "source": [
    "Si on crée un autre objet Voiture, on verra que celui-ci possède les mêmes propriétés que v:"
   ]
  },
  {
   "cell_type": "code",
   "execution_count": 29,
   "metadata": {},
   "outputs": [
    {
     "name": "stdout",
     "output_type": "stream",
     "text": [
      "4 True 2\n"
     ]
    }
   ],
   "source": [
    "w = Voiture()\n",
    "print(v.roues, v.retroviseurs)"
   ]
  },
  {
   "cell_type": "markdown",
   "metadata": {},
   "source": [
    "## Propriétés d'instance\n",
    "\n",
    "Si un ensemble de voitures ont des traits communs (nombre de roues, de rétroviseurs, ...), elles ont aussi des différences entre elles, comme la marque, le type de moteur, le nombre de chevaux , ... Or, avec la méthode ci-dessus, peu importe le nombre d'objet que l'on créé, ils auront tous les mêmes propriétés, et il est impossible d'en ajouter ou d'en modifier. \n",
    "\n",
    "Pour influer sur la construction d'une instance de classe, on utilise un type de fonction spécial appelé ``constructeur``. Le constructeur est une fonction appelée automatiquement lors de la création de l'objet. En Python, le constructeur s'appelle ``__init__``  (avec deux underscore avant et après). Comme n'importe qu'elle autre fonction, il peut avoir autant d'arguments que nécessaire. Cependant, son premier argument doit forcément s'appeler ``self`` (explication du pourquoi plus tard):"
   ]
  },
  {
   "cell_type": "code",
   "execution_count": 31,
   "metadata": {},
   "outputs": [],
   "source": [
    "class Voiture:\n",
    "    \n",
    "    roues = 4\n",
    "    retroviseurs = 2\n",
    "    \n",
    "    def __init__(self):\n",
    "        print('Initialisation ...')"
   ]
  },
  {
   "cell_type": "code",
   "execution_count": 32,
   "metadata": {},
   "outputs": [
    {
     "name": "stdout",
     "output_type": "stream",
     "text": [
      "Initialisation ...\n"
     ]
    }
   ],
   "source": [
    "v = Voiture()"
   ]
  },
  {
   "cell_type": "code",
   "execution_count": 33,
   "metadata": {},
   "outputs": [
    {
     "name": "stdout",
     "output_type": "stream",
     "text": [
      "4 2\n"
     ]
    }
   ],
   "source": [
    "print(v.roues, v.retroviseurs)"
   ]
  },
  {
   "cell_type": "markdown",
   "metadata": {},
   "source": [
    "La fonction ``__init__`` est ce qu'on appelle le ``constructeur``: c'est une fonction qui se déclenche automatiquement et qui va établir les propriétés de l'objet pour nous. \n",
    "\n",
    "La fonction ``__init__ `` indique les propriétés communes à tous les objets qui sont de la classe Voiture. Elle indique les valeurs par défaut des propriétés de cette objet lors de sa construction. Cette fonction est automatiquement appelée dès que l'on crée un objet de la classe Voiture (ou de n'importe quelle autre classe).\n",
    "\n",
    "Le premier argument de la fonction ``__init__`` doit toujours être ``self`` (on expliquera plus tad pourquoi)"
   ]
  },
  {
   "cell_type": "code",
   "execution_count": 16,
   "metadata": {},
   "outputs": [],
   "source": [
    "class Voiture:\n",
    "    roues = 4\n",
    "    retroviseurs = 2\n",
    "    \n",
    "    def __init__(self):\n",
    "        \n",
    "        self.marque = 'Peugeot'\n",
    "        self.moteur = 'Diesel'\n",
    "        "
   ]
  },
  {
   "cell_type": "code",
   "execution_count": 17,
   "metadata": {},
   "outputs": [],
   "source": [
    "v = Voiture()"
   ]
  },
  {
   "cell_type": "code",
   "execution_count": 18,
   "metadata": {},
   "outputs": [
    {
     "name": "stdout",
     "output_type": "stream",
     "text": [
      "Peugeot 4 Diesel\n"
     ]
    }
   ],
   "source": [
    "print(v.marque, v.roues, v.moteur)"
   ]
  },
  {
   "cell_type": "code",
   "execution_count": 19,
   "metadata": {},
   "outputs": [],
   "source": [
    "v2 = Voiture()"
   ]
  },
  {
   "cell_type": "code",
   "execution_count": 20,
   "metadata": {},
   "outputs": [
    {
     "name": "stdout",
     "output_type": "stream",
     "text": [
      "Peugeot 4 Diesel\n"
     ]
    }
   ],
   "source": [
    "print(v2.marque, v2.roues, v2.moteur)"
   ]
  },
  {
   "cell_type": "markdown",
   "metadata": {},
   "source": [
    "## Note:\n",
    "\n",
    "En Python, tout est objet: classes, fonctions, variables et mêmes les types de base tels que ``str``, ``list``, ``int``. Seulement, puisque Python est un langage à typage dynamique (qui donc détermine automatiquement le type d'une variable), il n'y a pas besoin d'appeler la classe des ces types. La pseudo-syntaxe ci-dessous n'est donc pas nécessaire:\n",
    "\n",
    "``string = String('text')``"
   ]
  },
  {
   "cell_type": "markdown",
   "metadata": {},
   "source": [
    "Le soucis ci-dessus c'est que tous les objets voiture que l'on crée auront les mêmes propriétés \"Peugeot, 4, Diesel\". A COMPLETER"
   ]
  },
  {
   "cell_type": "markdown",
   "metadata": {},
   "source": [
    "## Exercice\n",
    "\n",
    "Réflechissez et essayez de faire en sorte de modifier la fonction __init__ pour pouvoir créer des objets voitures qui ont un nom de marque et un type de moteur différents, mais qui ont en commun le nombre de roues et de rétroviseur. \n",
    "\n",
    "Un indice: __init__ est une fonction comme les autres: elle peut prendre autant d'arguments que nécessaires. "
   ]
  },
  {
   "cell_type": "markdown",
   "metadata": {},
   "source": [
    "## Solution"
   ]
  },
  {
   "cell_type": "code",
   "execution_count": null,
   "metadata": {},
   "outputs": [],
   "source": [
    "class Voiture:\n",
    "    roues = 4\n",
    "    retroviseurs = 2\n",
    "    \n",
    "    def __init__(self, marque, moteur):\n",
    "        \n",
    "        self.marque = marque\n",
    "        self.moteur = moteur"
   ]
  },
  {
   "cell_type": "markdown",
   "metadata": {},
   "source": [
    "## Instances de classes"
   ]
  },
  {
   "cell_type": "markdown",
   "metadata": {},
   "source": [
    "## Méthodes de classes / d'instances"
   ]
  },
  {
   "cell_type": "markdown",
   "metadata": {},
   "source": [
    "## Erreurs et exceptions"
   ]
  },
  {
   "cell_type": "markdown",
   "metadata": {},
   "source": [
    "## Héritage et polymorphisme"
   ]
  },
  {
   "cell_type": "code",
   "execution_count": null,
   "metadata": {},
   "outputs": [],
   "source": []
  },
  {
   "cell_type": "code",
   "execution_count": null,
   "metadata": {},
   "outputs": [],
   "source": []
  },
  {
   "cell_type": "code",
   "execution_count": null,
   "metadata": {},
   "outputs": [],
   "source": []
  },
  {
   "cell_type": "markdown",
   "metadata": {},
   "source": [
    "# Exercices:"
   ]
  },
  {
   "cell_type": "markdown",
   "metadata": {},
   "source": [
    "Créez une classe ``Employee``. Celle-ci doit avoir les propriétés suivantes:\n",
    "* name: indiquez votre nom sous forme de chaîne de caractères\n",
    "* age: indiquez votre âge sous forme d'integer\n",
    "* salary: indiquez un salaire au choix entre 1500 et 2000"
   ]
  },
  {
   "cell_type": "markdown",
   "metadata": {},
   "source": [
    "### Solution"
   ]
  },
  {
   "cell_type": "code",
   "execution_count": null,
   "metadata": {},
   "outputs": [],
   "source": [
    "class Employee:\n",
    "    \n",
    "    def __init__(self):\n",
    "        self.name = 'Nicolas'\n",
    "        self.age = 26\n",
    "        self.salary = 2000"
   ]
  },
  {
   "cell_type": "code",
   "execution_count": null,
   "metadata": {},
   "outputs": [],
   "source": []
  },
  {
   "cell_type": "code",
   "execution_count": null,
   "metadata": {},
   "outputs": [],
   "source": []
  },
  {
   "cell_type": "code",
   "execution_count": null,
   "metadata": {},
   "outputs": [],
   "source": []
  }
 ],
 "metadata": {
  "kernelspec": {
   "display_name": "Python 3",
   "language": "python",
   "name": "python3"
  },
  "language_info": {
   "codemirror_mode": {
    "name": "ipython",
    "version": 3
   },
   "file_extension": ".py",
   "mimetype": "text/x-python",
   "name": "python",
   "nbconvert_exporter": "python",
   "pygments_lexer": "ipython3",
   "version": "3.8.5"
  }
 },
 "nbformat": 4,
 "nbformat_minor": 4
}
