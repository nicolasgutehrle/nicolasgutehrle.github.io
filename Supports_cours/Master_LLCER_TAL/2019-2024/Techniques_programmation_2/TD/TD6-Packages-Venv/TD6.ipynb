{
 "cells": [
  {
   "attachments": {},
   "cell_type": "markdown",
   "metadata": {},
   "source": [
    "# Exercices TD6"
   ]
  },
  {
   "attachments": {},
   "cell_type": "markdown",
   "metadata": {},
   "source": [
    "# Exercice 1\n",
    "\n",
    "Créez un dossier \"exerciceTD6\". Dans ce dossier, créez un package \"reseausocial\". Ce package doit contenir :\n",
    "\n",
    "* un fichier \\_\\_init\\_\\_.py\n",
    "* un fichier reseau.py\n",
    "* un fichier utils.py\n",
    "\n",
    "Au même niveau que le dossier \"reseausocial\", créez un fichier main.py\n",
    "\n",
    "Vous devez créez ces dossiers et fichiers depuis le terminal."
   ]
  },
  {
   "cell_type": "code",
   "execution_count": null,
   "metadata": {},
   "outputs": [],
   "source": []
  },
  {
   "attachments": {},
   "cell_type": "markdown",
   "metadata": {},
   "source": [
    "# Solution\n",
    "\n",
    "Attention, le point d'exclamation ci-dessous est une commande spéciale de Jupyter. Pour exécuter ces commandes depuis un terminal, pensez à l'enlever.\n",
    "\n",
    "Attention : la commande touch n'existe pas dans le terminal de Windows."
   ]
  },
  {
   "cell_type": "code",
   "execution_count": null,
   "metadata": {},
   "outputs": [],
   "source": [
    "!mkdir exerciceTD6\n",
    "!cd exerciceTD6\n",
    "!touch main.py\n",
    "!mkdir reseausocial\n",
    "!cd reseausocial\n",
    "!touch __init__.py\n",
    "!touch reseau.py\n",
    "!touch utils.py"
   ]
  },
  {
   "attachments": {},
   "cell_type": "markdown",
   "metadata": {},
   "source": [
    "## Exercice 2\n",
    "\n",
    "\n",
    "Dans le fichier **reseau.py**:\n",
    "* Ajoutez les définitions de classes ci-dessous.\n",
    "* Pour chaque classe et fonction de vos codes, ajoutez la documentation. \n",
    "* Ajoutez la ligne **if \\_\\_name\\_\\_ == \"\\_\\_main\\_\\_\"**\n",
    "* Dans ce bloc, créez des instances des classes et appelez pour chacune leur méthode calculerPopularite()\n",
    "\n",
    "Assurez vous que votre code fonctionne en l'appelant depuis le terminal.\n",
    "\n",
    "\n"
   ]
  },
  {
   "cell_type": "code",
   "execution_count": null,
   "metadata": {},
   "outputs": [],
   "source": [
    "class ReseauSocial:\n",
    "    def __init__(self, nom : str, nbr_adherents = 0, nbr_posts = 0):\n",
    "        self.nom = nom\n",
    "        self.nbr_adherents = nbr_adherents\n",
    "        self.nbr_posts = nbr_posts\n",
    "        self.popularite = self.calculerPopularite()\n",
    "    \n",
    "    def calculerPopularite(self):\n",
    "        pass\n",
    "    \n",
    "    def ajouterAdherent(self, nbr_adherents : int):\n",
    "        self.nbr_adherents += nbr_adherents\n",
    "    \n",
    "    def retirerAdherent(self, nbr_adherents: int):\n",
    "        self.nbr_adherents -= nbr_adherents\n",
    "        \n",
    "    def ajouterPosts(self, nbr_posts: int):\n",
    "        self.nbr_posts += nbr_posts\n",
    "    \n",
    "    def retirerPosts(self, nbr_adherents: int):\n",
    "        self.nbr_posts -= nbr_adherents\n",
    "\n",
    "    def __str__(self) -> str:\n",
    "        return self.nom       \n",
    "\n",
    "class Perso(ReseauSocial):\n",
    "    \n",
    "    def __init__(self, nom: int, nbr_adherents: int, nbr_posts: int):\n",
    "        super().__init__(nom, nbr_adherents, nbr_posts)\n",
    "    \n",
    "    def calculerPopularite(self):\n",
    "        return self.nbr_adherents\n",
    "    \n",
    "class Images(ReseauSocial):\n",
    "    \n",
    "    def __init__(self, nom: int, nbr_adherents: int, nbr_posts: int):\n",
    "        super().__init__(nom, nbr_adherents, nbr_posts)\n",
    "    \n",
    "    def calculerPopularite(self):\n",
    "        return self.nbr_posts\n",
    "    \n",
    "class Blogging(ReseauSocial):\n",
    "    \n",
    "    def __init__(self, nom: int, nbr_adherents: int, nbr_posts: int):\n",
    "        super().__init__(nom, nbr_adherents, nbr_posts)\n",
    "    \n",
    "    def calculerPopularite(self):\n",
    "\n",
    "        return  self.nbr_adherents * self.nbr_posts\n"
   ]
  },
  {
   "attachments": {},
   "cell_type": "markdown",
   "metadata": {},
   "source": [
    "# Solution\n",
    "\n",
    "voir fichier reseau.py et commande ci-dessous"
   ]
  },
  {
   "cell_type": "code",
   "execution_count": null,
   "metadata": {},
   "outputs": [],
   "source": [
    "!python reseau.py"
   ]
  },
  {
   "attachments": {},
   "cell_type": "markdown",
   "metadata": {},
   "source": [
    "# Exercice 3\n",
    "\n",
    "\n",
    "Dans le fichier **utils.py** :\n",
    "* Ajoutez la fonction plusPopulaire() ci-dessous.\n",
    "* Ajoutez la documentation.\n",
    "\n",
    "Dans le fichier **main.py** :\n",
    "* Importez les classes contenues dans le fichier **reseau.py**\n",
    "* Importez la méthode plusPopulaire contenue dans **utils.py**\n",
    "* Ajoutez la ligne **if \\_\\_name\\_\\_ == \"\\_\\_main\\_\\_\"**\n",
    "* Dans ce bloc, créez des instances des classes, puis appelez la fonction plusPopulaire()\n",
    "\n",
    "Assurez vous que votre code fonctionne en l'appelant depuis le terminal.\n",
    "\n"
   ]
  },
  {
   "cell_type": "code",
   "execution_count": null,
   "metadata": {},
   "outputs": [],
   "source": [
    "def plusPopulaire(list_reseaux):\n",
    "\n",
    "    list_popularite = []\n",
    "    for reseau in list_reseaux:\n",
    "        list_popularite.append(reseau.popularite)\n",
    "    max_value = max(list_popularite)\n",
    "    for reseau in list_reseaux:\n",
    "        if reseau.popularite == max_value:\n",
    "            return reseau"
   ]
  },
  {
   "attachments": {},
   "cell_type": "markdown",
   "metadata": {},
   "source": [
    "# Solution\n",
    "\n",
    "Voir fichiers main.py et utils.py, puis commande ci-dessous"
   ]
  },
  {
   "cell_type": "code",
   "execution_count": null,
   "metadata": {},
   "outputs": [],
   "source": [
    "!cd ../\n",
    "!python main.py"
   ]
  },
  {
   "attachments": {},
   "cell_type": "markdown",
   "metadata": {},
   "source": [
    "## Exercice 3\n",
    "\n",
    "Créez un environnement virtuel nommé **venv** dans le dossier \"exerciceTD6\".\n",
    "Activez le et installez le package **setuptools**. Enfin, enregistrez les dépendances dans un fichier **requirements.txt**.\n"
   ]
  },
  {
   "cell_type": "code",
   "execution_count": null,
   "metadata": {},
   "outputs": [],
   "source": []
  },
  {
   "attachments": {},
   "cell_type": "markdown",
   "metadata": {},
   "source": [
    "# Solution\n",
    "\n"
   ]
  },
  {
   "cell_type": "code",
   "execution_count": null,
   "metadata": {},
   "outputs": [],
   "source": [
    "!python -m venv venv\n",
    "!source venv/bin/activate # sur UNIX\n",
    "!venv\\Scripts\\activate.bat # windows\n",
    "!pip install setuptools\n",
    "!pip freeze > requirements.txt"
   ]
  },
  {
   "attachments": {},
   "cell_type": "markdown",
   "metadata": {},
   "source": [
    "# Exercice 4\n",
    "\n",
    "Créez dans votre projet un fichier **setup.py** et complétez le comme nécessaire. Une fois fait, faites en sorte d'installer votre package dans votre environnement virtuel. \n",
    "\n",
    "Vous vous assurerez que l'installation s'est bien déroulée en important votre package dans le fichier **main.py** et en exécutant ce fichier."
   ]
  },
  {
   "cell_type": "code",
   "execution_count": null,
   "metadata": {},
   "outputs": [],
   "source": []
  },
  {
   "attachments": {},
   "cell_type": "markdown",
   "metadata": {},
   "source": [
    "# Solution\n",
    "\n",
    "voir fichier **exerciceTD6-correction/setup.py** et fichier **exerciceTD6-correction/main.py**"
   ]
  }
 ],
 "metadata": {
  "kernelspec": {
   "display_name": "cours",
   "language": "python",
   "name": "python3"
  },
  "language_info": {
   "codemirror_mode": {
    "name": "ipython",
    "version": 3
   },
   "file_extension": ".py",
   "mimetype": "text/x-python",
   "name": "python",
   "nbconvert_exporter": "python",
   "pygments_lexer": "ipython3",
   "version": "3.9.6"
  },
  "vscode": {
   "interpreter": {
    "hash": "63d2c08867e999184b706abc1228e6e14a103e818b92fa06feeba82a11accc73"
   }
  }
 },
 "nbformat": 4,
 "nbformat_minor": 4
}
