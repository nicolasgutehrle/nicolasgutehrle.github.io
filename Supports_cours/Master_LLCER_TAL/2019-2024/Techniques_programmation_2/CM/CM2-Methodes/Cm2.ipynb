{
 "cells": [
  {
   "cell_type": "markdown",
   "metadata": {},
   "source": [
    "# CM 2 - Méthodes statiques et méthodes d'instances"
   ]
  },
  {
   "cell_type": "markdown",
   "metadata": {},
   "source": [
    "Reprennons ici les classes _PronomPersonnel_ et _Verbe_."
   ]
  },
  {
   "cell_type": "code",
   "execution_count": 2,
   "metadata": {},
   "outputs": [],
   "source": [
    "class PronomPersonnel :\n",
    "    def __init__(self, forme, nombre, personne, genre=\"\"):\n",
    "        self.forme = forme\n",
    "        self.nombre = nombre\n",
    "        self.personne = personne\n",
    "        self.genre = genre"
   ]
  },
  {
   "cell_type": "code",
   "execution_count": 4,
   "metadata": {},
   "outputs": [],
   "source": [
    "class Verbe:\n",
    "            \n",
    "    def __init__(self, infinitif, base = \"\", groupe = 0):\n",
    "        self.infinitif = infinitif\n",
    "        if (base != \"\") : \n",
    "            self.base = base\n",
    "        else : \n",
    "            self.base = infinitif[0:-2]\n",
    "        if (groupe != 0) : \n",
    "            self.groupe = groupe\n",
    "        else :\n",
    "            self.goupe = 3\n",
    "            if (infinitif.endswith(\"er\")) : self.groupe = 1\n",
    "            elif (infinitif.endswith(\"ir\")) : self.groupe = 2\n",
    "    \n",
    "    def afficher(self) :\n",
    "        \"\"\"Methode pour l'affichage\"\"\"\n",
    "        print(\"Verbe \" + self.infinitif + \" : \" + self.base + \" \" + str(self.groupe))\n",
    "        \n",
    "    def conjuguer(self, pron) :\n",
    "        \"\"\"Conjugaison avec un PronomPersonnel\"\"\"\n",
    "        if (self.groupe == 1) :\n",
    "            if (pron.nombre == \"sg\") :\n",
    "                if (pron.personne == 1) or (pron.personne == 3) :\n",
    "                    return pron.forme + \" \" + self.base + \"e\"\n",
    "                elif (pron.personne == 2) :\n",
    "                    return pron.forme + \" \" + self.base + \"es\"\n",
    "            elif (pron.nombre == \"pl\") :\n",
    "                if (pron.personne == 1) :\n",
    "                    return pron.forme + \" \" + self.base + \"ons\"\n",
    "                elif (pron.personne == 2) :\n",
    "                    return pron.forme + \" \" + self.base + \"ez\"\n",
    "                elif (pron.personne == 3) :\n",
    "                    return pron.forme + \" \" + self.base + \"ent\"\n",
    "                \n",
    "        return \"[forme inconnue]\""
   ]
  },
  {
   "cell_type": "markdown",
   "metadata": {},
   "source": [
    "## Méthodes d'instances"
   ]
  },
  {
   "cell_type": "markdown",
   "metadata": {},
   "source": [
    "**Méthodes d'instances** : les méthodes _afficher()_ et _conjuguer()_ sont des méthodes d'instances :\n",
    "- le premier argument dans leur définition est **self**\n",
    "- pour appeler ces méthodes, il faut d'abord créer un objet du type _Verbe_ (une instance de la classe), puis appliquer la méthode sur l'objet"
   ]
  },
  {
   "cell_type": "code",
   "execution_count": 6,
   "metadata": {},
   "outputs": [
    {
     "name": "stdout",
     "output_type": "stream",
     "text": [
      "Verbe penser : pens 1\n"
     ]
    }
   ],
   "source": [
    "tirer = Verbe(\"penser\")\n",
    "tirer.afficher()"
   ]
  },
  {
   "cell_type": "markdown",
   "metadata": {},
   "source": [
    "Comment faire pour que la méthode _conjuguer()_ puisse produire les conjugaisons pour les différents groupes de verbes et temps ?"
   ]
  },
  {
   "cell_type": "markdown",
   "metadata": {},
   "source": [
    "Nous allons stocker plusieurs listes de terminaisons pour pouvoir les appeler facilement dans la méthode _conjuguer()_."
   ]
  },
  {
   "cell_type": "code",
   "execution_count": 2,
   "metadata": {},
   "outputs": [],
   "source": [
    "class Verbe:\n",
    "            \n",
    "    def __init__(self, infinitif, base = \"\", groupe = 0):\n",
    "        self.infinitif = infinitif\n",
    "        if base != \"\" : \n",
    "            self.base = base\n",
    "        else :\n",
    "             self.base = infinitif[0:-2]\n",
    "        if groupe != 0 :\n",
    "             self.groupe = groupe\n",
    "        else :\n",
    "            self.groupe = 3\n",
    "            if infinitif.endswith(\"er\") : \n",
    "                self.groupe = 1\n",
    "            elif infinitif.endswith(\"ir\") : \n",
    "                self.groupe = 2\n",
    "    \n",
    "    def afficher(self) :\n",
    "        \"\"\"Methode pour l'affichage\"\"\"\n",
    "        print(\"Verbe \" + self.infinitif + \" : \" + self.base + \" \" + str(self.groupe))\n",
    "        \n",
    "    # listes de terminaisons\n",
    "    term_present = { 1: [\"e\", \"es\", \"e\", \"ons\", \"ez\", \"ent\"], \n",
    "                     2: [\"i\", \"is\", \"it\", \"issons\", \"issez\", \"issent\"]}\n",
    "    term_imparfait = { 1 : [\"ais\", \"ais\", \"ait\", \"ions\", \"iez\", \"aient\"],\n",
    "                       2 : [\"issais\", \"issais\", \"issait\", \"issions\", \"issiez\", \"issaient\"]}\n",
    "    \n",
    "    def conjuguer(self, pron, temps='present') :\n",
    "        \"\"\"Conjugaison avec un PronomPersonnel\"\"\"\n",
    "        \"\"\"temps peut etre 'present' ou 'imparfait'\"\"\"\n",
    "        \n",
    "        # liste de terminaisons qui seront utilisees:\n",
    "        liste_term = []\n",
    "        if temps == 'present':\n",
    "            liste_term = self.term_present[self.groupe]\n",
    "        if temps == 'imparfait':\n",
    "            liste_term = self.term_imparfait[self.groupe]\n",
    "        \n",
    "        # si on n'a pas trouve les terminaisons, sortir de la methode:\n",
    "        if not liste_term:\n",
    "            return \"[forme inconnue]\"\n",
    "        \n",
    "        # trouver l'indice de la terminaison qui nous interesse :\n",
    "        indice = pron.personne - 1\n",
    "        if pron.nombre == \"pl\" :\n",
    "            indice = pron.personne + 2\n",
    "            \n",
    "        return pron.forme + \" \" + self.base + liste_term[indice]\n",
    "    \n",
    "    @staticmethod\n",
    "    def terminaisons(groupe = 1, temps = \"present\"):\n",
    "        if (temps==\"present\") :\n",
    "            \n",
    "            return Verbe.term_present[groupe]\n",
    "        if (temps==\"imparfait\") :\n",
    "            return Verbe.term_imparfait[groupe]\n",
    "        "
   ]
  },
  {
   "cell_type": "code",
   "execution_count": 9,
   "metadata": {},
   "outputs": [],
   "source": [
    "tirer = Verbe(\"tirer\")\n",
    "finir = Verbe(\"finir\")\n",
    "il = PronomPersonnel(\"il\", \"sg\", 3, \"m\")\n",
    "vous = PronomPersonnel(\"vous\", \"pl\", 2)"
   ]
  },
  {
   "cell_type": "code",
   "execution_count": 64,
   "metadata": {},
   "outputs": [
    {
     "data": {
      "text/plain": [
       "'il tire'"
      ]
     },
     "execution_count": 64,
     "metadata": {},
     "output_type": "execute_result"
    }
   ],
   "source": [
    "tirer.conjuguer(il)"
   ]
  },
  {
   "cell_type": "code",
   "execution_count": 65,
   "metadata": {},
   "outputs": [
    {
     "data": {
      "text/plain": [
       "'il finit'"
      ]
     },
     "execution_count": 65,
     "metadata": {},
     "output_type": "execute_result"
    }
   ],
   "source": [
    "finir.conjuguer(il)"
   ]
  },
  {
   "cell_type": "code",
   "execution_count": 66,
   "metadata": {},
   "outputs": [
    {
     "data": {
      "text/plain": [
       "'vous tiriez'"
      ]
     },
     "execution_count": 66,
     "metadata": {},
     "output_type": "execute_result"
    }
   ],
   "source": [
    "tirer.conjuguer(vous, 'imparfait')"
   ]
  },
  {
   "cell_type": "code",
   "execution_count": 67,
   "metadata": {},
   "outputs": [
    {
     "data": {
      "text/plain": [
       "'il finissait'"
      ]
     },
     "execution_count": 67,
     "metadata": {},
     "output_type": "execute_result"
    }
   ],
   "source": [
    "finir.conjuguer(il, 'imparfait')"
   ]
  },
  {
   "cell_type": "markdown",
   "metadata": {},
   "source": [
    "## Attributs et méthodes statiques"
   ]
  },
  {
   "cell_type": "markdown",
   "metadata": {},
   "source": [
    "Les attributs term_present et term_imparfait sont des **attributs statiques (définis hors d’une méthode)**. Ils peuvent être appelés à partir de n'importe quel objet, mais également sans créer un objet :"
   ]
  },
  {
   "cell_type": "code",
   "execution_count": 14,
   "metadata": {},
   "outputs": [
    {
     "name": "stdout",
     "output_type": "stream",
     "text": [
      "['e', 'es', 'e', 'ons', 'ez', 'ent']\n"
     ]
    },
    {
     "data": {
      "text/plain": [
       "['e', 'es', 'e', 'ons', 'ez', 'ent']"
      ]
     },
     "execution_count": 14,
     "metadata": {},
     "output_type": "execute_result"
    }
   ],
   "source": [
    "print(Verbe.terminaisons())"
   ]
  },
  {
   "cell_type": "code",
   "execution_count": 69,
   "metadata": {},
   "outputs": [
    {
     "name": "stdout",
     "output_type": "stream",
     "text": [
      "{1: ['ais', 'ais', 'ait', 'ions', 'iez', 'aient'], 2: ['issais', 'issais', 'issait', 'issions', 'issiez', 'issaient']}\n"
     ]
    }
   ],
   "source": [
    "print(tirer.term_imparfait)"
   ]
  },
  {
   "cell_type": "markdown",
   "metadata": {},
   "source": [
    "**Méthodes statiques** : la méthode _terminaisons()_ est une méthode statique :\n",
    "- dans sa définition on n'utilise pas l'argument **self**\n",
    "- pour appeler cette méthode, il n'y a pas besoin de créer un objet du type _Verbe_. La méthode doit être appelée directement avec le nom de la classe.\n",
    "- le **décorateur @staticmethod** se met immédiatement avant la définition de la méthode. Il rend possible d'appeler la méthode à partir d'une instance aussi bien qu'à partir de la classe elle-même."
   ]
  },
  {
   "cell_type": "code",
   "execution_count": 70,
   "metadata": {},
   "outputs": [
    {
     "name": "stdout",
     "output_type": "stream",
     "text": [
      "['e', 'es', 'e', 'ons', 'ez', 'ent']\n"
     ]
    }
   ],
   "source": [
    "liste_t  = Verbe.terminaisons()\n",
    "print(liste_t)"
   ]
  },
  {
   "cell_type": "code",
   "execution_count": 74,
   "metadata": {},
   "outputs": [
    {
     "name": "stdout",
     "output_type": "stream",
     "text": [
      "['e', 'es', 'e', 'ons', 'ez', 'ent']\n"
     ]
    }
   ],
   "source": [
    "liste_2 = tirer.terminaisons()\n",
    "# L'appel est possible à partir d'un objet si le decorateur @staticmethod est utilisé\n",
    "print(liste_2)"
   ]
  },
  {
   "cell_type": "markdown",
   "metadata": {},
   "source": [
    "Les méthodes statiques sont utilisées pour implémenter des fonctionalités \"générales\", qui concernent tous les objets et ne dépendent pas de données d'un objet en particulier."
   ]
  },
  {
   "cell_type": "markdown",
   "metadata": {},
   "source": [
    "## La méthode __ str() __"
   ]
  },
  {
   "cell_type": "markdown",
   "metadata": {},
   "source": [
    "Dans beaucoup de situation nous avons besoin de représenter un objet avec une chaîne de caractères, par ex. pour l'afficher."
   ]
  },
  {
   "cell_type": "code",
   "execution_count": 3,
   "metadata": {},
   "outputs": [
    {
     "name": "stdout",
     "output_type": "stream",
     "text": [
      "a\n"
     ]
    }
   ],
   "source": [
    "tirer = Verbe(\"tirer\")\n",
    "print('a')"
   ]
  },
  {
   "cell_type": "markdown",
   "metadata": {},
   "source": [
    "La fonction _print()_ tente ici de convertir l'objet en une chaîne de caractères (elle appèle _str()_)."
   ]
  },
  {
   "cell_type": "code",
   "execution_count": null,
   "metadata": {},
   "outputs": [
    {
     "name": "stdout",
     "output_type": "stream",
     "text": [
      "<__main__.Verbe object at 0x7f3a69dd8908>\n"
     ]
    }
   ],
   "source": [
    "print(str(tirer))"
   ]
  },
  {
   "cell_type": "markdown",
   "metadata": {},
   "source": [
    "Dans la classe Verbe nous avions définit une méthode _afficher()_ pour pouvoir afficher les champs des verbes facilement. Cependant, ce serait beaucoup plus naturel si print(tirer) pourrait produire ce type d'affichage."
   ]
  },
  {
   "cell_type": "markdown",
   "metadata": {},
   "source": [
    "Pour cela, nous avons la possibilité de définir la méthode __ str() __ à l'intérieur de la classe. Cette méthode retournera une chaîne de caractères et sera automatiquement appelée quand on utilise _print()_ ou _str()_ avec un objet de la classe."
   ]
  },
  {
   "cell_type": "code",
   "execution_count": 4,
   "metadata": {},
   "outputs": [],
   "source": [
    "class Verbe:\n",
    "            \n",
    "    def __init__(self, infinitif, base = \"\", groupe = 0):\n",
    "        self.infinitif = infinitif\n",
    "        if (base != \"\") : self.base = base\n",
    "        else : self.base = infinitif[0:-2]\n",
    "        if (groupe != 0) : self.groupe = groupe\n",
    "        else :\n",
    "            self.groupe = 3\n",
    "            if (infinitif.endswith(\"er\")) : self.groupe = 1\n",
    "            elif (infinitif.endswith(\"ir\")) : self.groupe = 2\n",
    "    \n",
    "    def __str__(self) :\n",
    "        \"\"\"Methode pour l'affichage\"\"\"\n",
    "        return self.infinitif + \" : \" + self.base + \" \" + str(self.groupe)\n",
    "\n",
    "    # listes de terminaisons\n",
    "    term_present = { 1: [\"e\", \"es\", \"e\", \"ons\", \"ez\", \"ent\"], \n",
    "                     2: [\"i\", \"is\", \"it\", \"issons\", \"issez\", \"issent\"]}\n",
    "    term_imparfait = { 1 : [\"ais\", \"ais\", \"ait\", \"ions\", \"iez\", \"aient\"],\n",
    "                       2 : [\"issais\", \"issais\", \"issait\", \"issions\", \"issiez\", \"issaient\"]}\n",
    "    \n",
    "    def conjuguer(self, pron, temps='present') :\n",
    "        \"\"\"Conjugaison avec un PronomPersonnel\"\"\"\n",
    "        \"\"\"temps peut etre 'present' ou 'imparfait'\"\"\"\n",
    "        \n",
    "        # liste de terminaisons qui seront utilisees:\n",
    "        liste_term = []\n",
    "        if temps == 'present':\n",
    "            liste_term = self.term_present[self.groupe]\n",
    "        if temps == 'imparfait':\n",
    "            liste_term = self.term_imparfait[self.groupe]\n",
    "        \n",
    "        # si on n'a pas trouve les terminaisons, sortir de la methode:\n",
    "        if not liste_term:\n",
    "            return \"[forme inconnue]\"\n",
    "        \n",
    "        # trouver l'indice de la terminaison qui nous interesse :\n",
    "        indice = pron.personne - 1\n",
    "        if pron.nombre == \"pl\" :\n",
    "            indice = pron.personne + 2\n",
    "            \n",
    "        return pron.forme + \" \" + self.base + liste_term[indice]\n",
    "    \n",
    "    @staticmethod\n",
    "    def terminaisons(groupe = 1, temps = \"present\"):\n",
    "        if temps==\"present\" :\n",
    "            return Verbe.term_present[groupe]\n",
    "        if temps==\"imparfait\" :\n",
    "            return Verbe.term_imparfait[groupe]"
   ]
  },
  {
   "cell_type": "code",
   "execution_count": 5,
   "metadata": {},
   "outputs": [
    {
     "name": "stdout",
     "output_type": "stream",
     "text": [
      "tirer : tir 1\n"
     ]
    }
   ],
   "source": [
    "tirer = Verbe(\"tirer\")\n",
    "print(tirer)"
   ]
  },
  {
   "cell_type": "code",
   "execution_count": 87,
   "metadata": {},
   "outputs": [
    {
     "name": "stdout",
     "output_type": "stream",
     "text": [
      "Verbe 'tirer : tir 1'\n"
     ]
    }
   ],
   "source": [
    "print(\"Verbe '\" + str(tirer) + \"'\")"
   ]
  },
  {
   "cell_type": "markdown",
   "metadata": {},
   "source": [
    "### Exercices"
   ]
  },
  {
   "cell_type": "markdown",
   "metadata": {},
   "source": [
    "1. Ecrivez une méthode __ str() __ pour la classe PronomPersonnel et testez son fonctionnement."
   ]
  },
  {
   "cell_type": "markdown",
   "metadata": {},
   "source": [
    "2. Les pronoms personnels en français sont : _je, tu, il, elle, nous, vous, ils, elles_. Ré-ecrivez le constructeur de PronomPersonnel, en prenant comment arguments uniquement le nombre, la personne et éventuellement le genre. La forme du pronom devra être générée automatiquement à partir de ces données."
   ]
  },
  {
   "cell_type": "markdown",
   "metadata": {},
   "source": [
    "3. Toujours dans PronomPersonnel, ajoutez une méthode statique _pronoms()_ qui affiche la liste des pronoms personnels en français."
   ]
  },
  {
   "cell_type": "markdown",
   "metadata": {},
   "source": [
    "4. Dans la classe Verbe, ajoutez la possibilité de conjuguer au futur et au conditionnel du présent, pour les verbes de 1e et 2e groupe."
   ]
  },
  {
   "cell_type": "markdown",
   "metadata": {},
   "source": [
    "5. Dans la classe Verbe :\n",
    "    - ajoutez le champs \"est_pronominal\" qui aura comme valeur True ou False selon si le verbe est pronominal. Pour calculer cette valeur, il faudra vérifier si le verbe commence avec \"se\" et \"s'\" dans le constructeur.\n",
    "    - ajoutez le champs \"verbe_auxil\" qui contiendra \"être\" ou \"avoir\" et qui représentera le verbe auxiliaire qui devra être utilisé pour les congujaisons au passé composé. Pour cela il faudrait lister les 12 verbes qui se conjuguent avec \"être\" dans un attribut statique _verbesEtre_.\n",
    "    - ajoutez le champs \"forme_pp\" qui contiendra la forme du participe passé.\n",
    "    - ajoutez la possibilité de conjuguer au passé composé, puis d'autres temps similaires, pour les verbes de 1e et 2e groupe."
   ]
  }
 ],
 "metadata": {
  "kernelspec": {
   "display_name": "cours",
   "language": "python",
   "name": "python3"
  },
  "language_info": {
   "codemirror_mode": {
    "name": "ipython",
    "version": 3
   },
   "file_extension": ".py",
   "mimetype": "text/x-python",
   "name": "python",
   "nbconvert_exporter": "python",
   "pygments_lexer": "ipython3",
   "version": "3.9.6"
  },
  "vscode": {
   "interpreter": {
    "hash": "63d2c08867e999184b706abc1228e6e14a103e818b92fa06feeba82a11accc73"
   }
  }
 },
 "nbformat": 4,
 "nbformat_minor": 4
}
