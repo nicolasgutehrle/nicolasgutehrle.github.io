{
 "cells": [
  {
   "cell_type": "markdown",
   "metadata": {},
   "source": [
    "# CM 2 - Méthodes statiques et méthodes d'instances"
   ]
  },
  {
   "cell_type": "markdown",
   "metadata": {},
   "source": [
    "Reprennons ici les classes _PronomPersonnel_ et _Verbe_."
   ]
  },
  {
   "cell_type": "code",
   "execution_count": null,
   "metadata": {},
   "outputs": [],
   "source": [
    "class PronomPersonnel :\n",
    "    def __init__(self, forme, nombre, personne, genre=\"\"):\n",
    "        self.forme = forme\n",
    "        self.nombre = nombre\n",
    "        self.personne = personne\n",
    "        self.genre = genre"
   ]
  },
  {
   "cell_type": "code",
   "execution_count": null,
   "metadata": {},
   "outputs": [],
   "source": [
    "class Verbe:\n",
    "            \n",
    "    def __init__(self, infinitif, base = \"\", groupe = 0):\n",
    "        self.infinitif = infinitif\n",
    "        if (base != \"\") : self.base = base\n",
    "        else : self.base = infinitif[0:-2]\n",
    "        if (groupe != 0) : self.groupe = groupe\n",
    "        else :\n",
    "            self.goupe = 3\n",
    "            if (infinitif.endswith(\"er\")) : self.groupe = 1\n",
    "            elif (infinitif.endswith(\"ir\")) : self.groupe = 2\n",
    "    \n",
    "    def afficher(self) :\n",
    "        \"\"\"Methode pour l'affichage\"\"\"\n",
    "        print(\"Verbe \" + self.infinitif + \" : \" + self.base + \" \" + str(self.groupe))\n",
    "        \n",
    "    def conjuguer(self, pron) :\n",
    "        \"\"\"Conjugaison avec un PronomPersonnel\"\"\"\n",
    "        if (self.groupe == 1) :\n",
    "            if (pron.nombre == \"sg\") :\n",
    "                if (pron.personne == 1) or (pron.personne == 3) :\n",
    "                    return pron.forme + \" \" + self.base + \"e\"\n",
    "                elif (pron.personne == 2) :\n",
    "                    return pron.forme + \" \" + self.base + \"es\"\n",
    "            elif (pron.nombre == \"pl\") :\n",
    "                if (pron.personne == 1) :\n",
    "                    return pron.forme + \" \" + self.base + \"ons\"\n",
    "                elif (pron.personne == 2) :\n",
    "                    return pron.forme + \" \" + self.base + \"ez\"\n",
    "                elif (pron.personne == 3) :\n",
    "                    return pron.forme + \" \" + self.base + \"ent\"\n",
    "                \n",
    "        return \"[forme inconnue]\""
   ]
  },
  {
   "cell_type": "markdown",
   "metadata": {},
   "source": [
    "## Méthodes d'instances"
   ]
  },
  {
   "cell_type": "markdown",
   "metadata": {},
   "source": [
    "**Méthodes d'instances** : les méthodes _afficher()_ et _conjuguer()_ sont des méthodes d'instances :\n",
    "- le premier argument dans leur définition est **self**\n",
    "- pour appeler ces méthodes, il faut d'abord créer un objet du type _Verbe_ (une instance de la classe), puis appliquer la méthode sur l'objet"
   ]
  },
  {
   "cell_type": "code",
   "execution_count": null,
   "metadata": {},
   "outputs": [],
   "source": [
    "tirer = Verbe(\"tirer\")\n",
    "tirer.afficher()"
   ]
  },
  {
   "cell_type": "markdown",
   "metadata": {},
   "source": [
    "Comment faire pour que la méthode _conjuguer()_ puisse produire les conjugaisons pour les différents groupes de verbes et temps ?"
   ]
  },
  {
   "cell_type": "markdown",
   "metadata": {},
   "source": [
    "Nous allons stocker plusieurs listes de terminaisons pour pouvoir les appeler facilement dans la méthode _conjuguer()_."
   ]
  },
  {
   "cell_type": "code",
   "execution_count": null,
   "metadata": {},
   "outputs": [],
   "source": [
    "class Verbe:\n",
    "            \n",
    "    def __init__(self, infinitif, base = \"\", groupe = 0):\n",
    "        self.infinitif = infinitif\n",
    "        if (base != \"\") : self.base = base\n",
    "        else : self.base = infinitif[0:-2]\n",
    "        if (groupe != 0) : self.groupe = groupe\n",
    "        else :\n",
    "            self.groupe = 3\n",
    "            if (infinitif.endswith(\"er\")) : self.groupe = 1\n",
    "            elif (infinitif.endswith(\"ir\")) : self.groupe = 2\n",
    "    \n",
    "    def afficher(self) :\n",
    "        \"\"\"Methode pour l'affichage\"\"\"\n",
    "        print(\"Verbe \" + self.infinitif + \" : \" + self.base + \" \" + str(self.groupe))\n",
    "        \n",
    "    # listes de terminaisons\n",
    "    term_present = { 1: [\"e\", \"es\", \"e\", \"ons\", \"ez\", \"ent\"], \n",
    "                     2: [\"i\", \"is\", \"it\", \"issons\", \"issez\", \"issent\"]}\n",
    "    term_imparfait = { 1 : [\"ais\", \"ais\", \"ait\", \"ions\", \"iez\", \"aient\"],\n",
    "                       2 : [\"issais\", \"issais\", \"issait\", \"issions\", \"issiez\", \"issaient\"]}\n",
    "    \n",
    "    def conjuguer(self, pron, temps='present') :\n",
    "        \"\"\"Conjugaison avec un PronomPersonnel\"\"\"\n",
    "        \"\"\"temps peut etre 'present' ou 'imparfait'\"\"\"\n",
    "        \n",
    "        # liste de terminaisons qui seront utilisees:\n",
    "        liste_term = []\n",
    "        if (temps == 'present'):\n",
    "            liste_term = self.term_present[self.groupe]\n",
    "        if (temps == 'imparfait'):\n",
    "            liste_term = self.term_imparfait[self.groupe]\n",
    "        \n",
    "        # si on n'a pas trouve les terminaisons, sortir de la methode:\n",
    "        if (not liste_term):\n",
    "            return \"[forme inconnue]\"\n",
    "        \n",
    "        # trouver l'indice de la terminaison qui nous interesse :\n",
    "        indice = pron.personne - 1\n",
    "        if (pron.nombre == \"pl\") :\n",
    "            indice = pron.personne + 2\n",
    "            \n",
    "        return pron.forme + \" \" + self.base + liste_term[indice]\n",
    "    \n",
    "    @staticmethod\n",
    "    def terminaisons(groupe = 1, temps = \"present\"):\n",
    "        if (temps==\"present\") :\n",
    "            return Verbe.term_present[groupe]\n",
    "        if (temps==\"imparfait\") :\n",
    "            return Verbe.term_imparfait[groupe]\n",
    "        "
   ]
  },
  {
   "cell_type": "code",
   "execution_count": null,
   "metadata": {},
   "outputs": [],
   "source": [
    "tirer = Verbe(\"tirer\")\n",
    "finir = Verbe(\"finir\")\n",
    "il = PronomPersonnel(\"il\", \"sg\", 3, \"m\")\n",
    "vous = PronomPersonnel(\"vous\", \"pl\", 2)"
   ]
  },
  {
   "cell_type": "code",
   "execution_count": null,
   "metadata": {},
   "outputs": [],
   "source": [
    "tirer.conjuguer(il)"
   ]
  },
  {
   "cell_type": "code",
   "execution_count": null,
   "metadata": {},
   "outputs": [],
   "source": [
    "finir.conjuguer(il)"
   ]
  },
  {
   "cell_type": "code",
   "execution_count": null,
   "metadata": {},
   "outputs": [],
   "source": [
    "tirer.conjuguer(vous, 'imparfait')"
   ]
  },
  {
   "cell_type": "code",
   "execution_count": null,
   "metadata": {},
   "outputs": [],
   "source": [
    "finir.conjuguer(il, 'imparfait')"
   ]
  },
  {
   "cell_type": "markdown",
   "metadata": {},
   "source": [
    "## Attributs et méthodes statiques"
   ]
  },
  {
   "cell_type": "markdown",
   "metadata": {},
   "source": [
    "Les attributs term_present et term_imparfait sont des **attributs statiques (définis hors d’une méthode)**. Ils peuvent être appelés à partir de n'importe quel objet, mais également sans créer un objet :"
   ]
  },
  {
   "cell_type": "code",
   "execution_count": null,
   "metadata": {},
   "outputs": [],
   "source": [
    "print(Verbe.term_present)"
   ]
  },
  {
   "cell_type": "code",
   "execution_count": null,
   "metadata": {},
   "outputs": [],
   "source": [
    "print(tirer.term_imparfait)"
   ]
  },
  {
   "cell_type": "markdown",
   "metadata": {},
   "source": [
    "**Méthodes statiques** : la méthode _terminaisons()_ est une méthode statique :\n",
    "- dans sa définition on n'utilise pas l'argument **self**\n",
    "- pour appeler cette méthode, il n'y a pas besoin de créer un objet du type _Verbe_. La méthode doit être appelée directement avec le nom de la classe.\n",
    "- le **décorateur @staticmethod** se met immédiatement avant la définition de la méthode. Il rend possible d'appeler la méthode à partir d'une instance aussi bien qu'à partir de la classe elle-même."
   ]
  },
  {
   "cell_type": "code",
   "execution_count": null,
   "metadata": {},
   "outputs": [],
   "source": [
    "liste_t  = Verbe.terminaisons()\n",
    "print(liste_t)"
   ]
  },
  {
   "cell_type": "code",
   "execution_count": null,
   "metadata": {},
   "outputs": [],
   "source": [
    "liste_2 = tirer.terminaisons()\n",
    "# L'appel est possible à partir d'un objet si le decorateur @staticmethod est utilisé\n",
    "print(liste_2)"
   ]
  },
  {
   "cell_type": "markdown",
   "metadata": {},
   "source": [
    "Les méthodes statiques sont utilisées pour implémenter des fonctionalités \"générales\", qui concernent tous les objets et ne dépendent pas de données d'un objet en particulier."
   ]
  },
  {
   "cell_type": "markdown",
   "metadata": {},
   "source": [
    "## La méthode __ str() __"
   ]
  },
  {
   "cell_type": "markdown",
   "metadata": {},
   "source": [
    "Dans beaucoup de situation nous avons besoin de représenter un objet avec une chaîne de caractères, par ex. pour l'afficher."
   ]
  },
  {
   "cell_type": "code",
   "execution_count": null,
   "metadata": {},
   "outputs": [],
   "source": [
    "tirer = Verbe(\"tirer\")\n",
    "print(tirer)"
   ]
  },
  {
   "cell_type": "markdown",
   "metadata": {},
   "source": [
    "La fonction _print()_ tente ici de convertir l'objet en une chaîne de caractères (elle appèle _str()_)."
   ]
  },
  {
   "cell_type": "code",
   "execution_count": null,
   "metadata": {},
   "outputs": [],
   "source": [
    "print(str(tirer))"
   ]
  },
  {
   "cell_type": "markdown",
   "metadata": {},
   "source": [
    "Dans la classe Verbe nous avions définit une méthode _afficher()_ pour pouvoir afficher les champs des verbes facilement. Cependant, ce serait beaucoup plus naturel si print(tirer) pourrait produire ce type d'affichage."
   ]
  },
  {
   "cell_type": "markdown",
   "metadata": {},
   "source": [
    "Pour cela, nous avons la possibilité de définir la méthode __ str() __ à l'intérieur de la classe. Cette méthode retournera une chaîne de caractères et sera automatiquement appelée quand on utilise _print()_ ou _str()_ avec un objet de la classe."
   ]
  },
  {
   "cell_type": "code",
   "execution_count": null,
   "metadata": {},
   "outputs": [],
   "source": [
    "class Verbe:\n",
    "            \n",
    "    def __init__(self, infinitif, base = \"\", groupe = 0):\n",
    "        self.infinitif = infinitif\n",
    "        if (base != \"\") : self.base = base\n",
    "        else : self.base = infinitif[0:-2]\n",
    "        if (groupe != 0) : self.groupe = groupe\n",
    "        else :\n",
    "            self.groupe = 3\n",
    "            if (infinitif.endswith(\"er\")) : self.groupe = 1\n",
    "            elif (infinitif.endswith(\"ir\")) : self.groupe = 2\n",
    "    \n",
    "    def __str__(self) :\n",
    "        \"\"\"Methode pour l'affichage\"\"\"\n",
    "        return self.infinitif + \" : \" + self.base + \" \" + str(self.groupe)\n",
    "        \n",
    "    # listes de terminaisons\n",
    "    term_present = { 1: [\"e\", \"es\", \"e\", \"ons\", \"ez\", \"ent\"], \n",
    "                     2: [\"is\", \"is\", \"it\", \"issons\", \"issez\", \"issent\"]}\n",
    "    term_imparfait = { 1 : [\"ais\", \"ais\", \"ait\", \"ions\", \"iez\", \"aient\"],\n",
    "                       2 : [\"issais\", \"issais\", \"issait\", \"issions\", \"issiez\", \"issaient\"]}\n",
    "    \n",
    "    def conjuguer(self, pron, temps='present') :\n",
    "        \"\"\"Conjugaison avec un PronomPersonnel\"\"\"\n",
    "        \"\"\"temps peut etre 'present' ou 'imparfait'\"\"\"\n",
    "        \n",
    "        # liste de terminaisons qui seront utilisees:\n",
    "        liste_term = []\n",
    "        if (temps == 'present'):\n",
    "            liste_term = self.term_present[self.groupe]\n",
    "        if (temps == 'imparfait'):\n",
    "            liste_term = self.term_imparfait[self.groupe]\n",
    "        \n",
    "        # si on n'a pas trouve les terminaisons, sortir de la methode:\n",
    "        if (not liste_term):\n",
    "            return \"[forme inconnue]\"\n",
    "        \n",
    "        # trouver l'indice de la terminaison qui nous interesse :\n",
    "        indice = pron.personne - 1\n",
    "        if (pron.nombre == \"pl\") :\n",
    "            indice = pron.personne + 2\n",
    "            \n",
    "        return pron.forme + \" \" + self.base + liste_term[indice]\n",
    "    \n",
    "    @staticmethod\n",
    "    def terminaisons(groupe = 1, temps = \"present\"):\n",
    "        if (temps==\"present\") :\n",
    "            return Verbe.term_present[groupe]\n",
    "        if (temps==\"imparfait\") :\n",
    "            return Verbe.term_imparfait[groupe]"
   ]
  },
  {
   "cell_type": "code",
   "execution_count": null,
   "metadata": {},
   "outputs": [],
   "source": [
    "tirer = Verbe(\"tirer\")\n",
    "print(tirer)"
   ]
  },
  {
   "cell_type": "code",
   "execution_count": null,
   "metadata": {},
   "outputs": [],
   "source": [
    "print(\"Verbe '\" + str(tirer) + \"'\")"
   ]
  },
  {
   "cell_type": "markdown",
   "metadata": {},
   "source": [
    "### Exercices"
   ]
  },
  {
   "cell_type": "markdown",
   "metadata": {},
   "source": [
    "1. Ecrivez une méthode __ str() __ pour la classe PronomPersonnel et testez son fonctionnement."
   ]
  },
  {
   "cell_type": "markdown",
   "metadata": {},
   "source": [
    "2. Les pronoms personnels en français sont : _je, tu, il, elle, nous, vous, ils, elles_. Ré-ecrivez le constructeur de PronomPersonnel, en prenant comme arguments uniquement le nombre, la personne et éventuellement le genre. La forme du pronom devra être générée automatiquement à partir de ces données."
   ]
  },
  {
   "cell_type": "markdown",
   "metadata": {},
   "source": [
    "3. Toujours dans PronomPersonnel, ajoutez une méthode statique _pronoms()_ qui affiche la liste des pronoms personnels en français."
   ]
  },
  {
   "cell_type": "code",
   "execution_count": 1,
   "metadata": {},
   "outputs": [],
   "source": [
    "class PronomPersonnel :\n",
    "    # liste de pronoms\n",
    "    liste_pronoms = [\"je\", \"tu\", [\"il\", \"elle\"], \"nous\", \"vous\", [\"ils\", \"elles\"] ]\n",
    "               \n",
    "    # constructeur\n",
    "    def __init__(self, nombre, personne, genre=\"m\"):\n",
    "        # verification de la validite des donnees :\n",
    "        if nombre not in [\"sg\", \"pl\"] or personne not in [1,2,3] or genre not in [\"m\", \"f\"]:\n",
    "            print(\"Erreur ! Appel à PronomPersonnel avec arguments invalides.\")\n",
    "            return\n",
    "        \n",
    "        self.nombre = nombre\n",
    "        self.personne = personne\n",
    "        self.genre = genre\n",
    "        \n",
    "        if nombre == \"sg\" :\n",
    "            self.forme = PronomPersonnel.liste_pronoms[personne-1]\n",
    "        else :\n",
    "            self.forme = PronomPersonnel.liste_pronoms[personne+2]\n",
    "        \n",
    "        if personne == 3 :\n",
    "            if genre == \"m\":\n",
    "                self.forme = self.forme[0]\n",
    "            else :\n",
    "                self.forme = self.forme[1]\n",
    "                \n",
    "    # conversion en str\n",
    "    def __str__(self):\n",
    "        return self.forme + \" (\" + self.nombre + \",\" + str(self.personne) + self.genre + \")\"\n",
    "\n",
    "    # affichage de la liste des pronoms\n",
    "    @staticmethod\n",
    "    def pronoms():\n",
    "        print(PronomPersonnel.liste_pronoms)"
   ]
  },
  {
   "cell_type": "code",
   "execution_count": 2,
   "metadata": {},
   "outputs": [
    {
     "name": "stdout",
     "output_type": "stream",
     "text": [
      "tu (sg,2m)\n",
      "elles (pl,3f)\n",
      "il (sg,3m)\n"
     ]
    }
   ],
   "source": [
    "pr1 = PronomPersonnel(\"sg\", 2)\n",
    "pr2 = PronomPersonnel(\"pl\", 3, \"f\")\n",
    "pr3 = PronomPersonnel(\"sg\", 3, \"m\")\n",
    "\n",
    "print(pr1)\n",
    "print(pr2)\n",
    "print(pr3)"
   ]
  },
  {
   "cell_type": "code",
   "execution_count": 3,
   "metadata": {},
   "outputs": [
    {
     "name": "stdout",
     "output_type": "stream",
     "text": [
      "['je', 'tu', ['il', 'elle'], 'nous', 'vous', ['ils', 'elles']]\n",
      "['je', 'tu', ['il', 'elle'], 'nous', 'vous', ['ils', 'elles']]\n"
     ]
    }
   ],
   "source": [
    "PronomPersonnel.pronoms()\n",
    "pr1.pronoms()"
   ]
  },
  {
   "cell_type": "markdown",
   "metadata": {},
   "source": [
    "4. Dans la classe Verbe, ajoutez la possibilité de conjuguer au futur et au conditionnel du présent, pour les verbes de 1e et 2e groupe."
   ]
  },
  {
   "cell_type": "code",
   "execution_count": null,
   "metadata": {},
   "outputs": [],
   "source": [
    "class Verbe:\n",
    "\n",
    "    # listes de terminaisons\n",
    "    term_present = { 1: [\"e\", \"es\", \"e\", \"ons\", \"ez\", \"ent\"], \n",
    "                     2: [\"is\", \"is\", \"it\", \"issons\", \"issez\", \"issent\"]}\n",
    "    term_imparfait = { 1 : [\"ais\", \"ais\", \"ait\", \"ions\", \"iez\", \"aient\"],\n",
    "                       2 : [\"issais\", \"issais\", \"issait\", \"issions\", \"issiez\", \"issaient\"]}\n",
    "    term_futur = { 1: [\"erai\", \"eras\", \"era\", \"erons\", \"erez\", \"eront\"], \n",
    "                   2: [\"irai\", \"iras\", \"ira\", \"irons\", \"irez\", \"iront\"]}\n",
    "    term_cond_present = { 1: [\"erais\", \"erais\", \"erait\", \"erions\", \"eriez\", \"eraient\"], \n",
    "                          2: [\"irais\", \"irais\", \"irait\", \"irions\", \"iriez\", \"iraient\"]}\n",
    "    \n",
    "\n",
    "    def __init__(self, infinitif, base = \"\", groupe = 0):\n",
    "        self.infinitif = infinitif\n",
    "        if base != \"\" :\n",
    "             self.base = base\n",
    "        else : \n",
    "            self.base = infinitif[0:-2]\n",
    "        if groupe != 0 :\n",
    "             self.groupe = groupe\n",
    "        else :\n",
    "            self.groupe = 3\n",
    "            if infinitif.endswith(\"er\") :\n",
    "                 self.groupe = 1\n",
    "            elif infinitif.endswith(\"ir\"): \n",
    "                self.groupe = 2\n",
    "    \n",
    "    def __str__(self) :\n",
    "        \"\"\"Methode pour l'affichage\"\"\"\n",
    "        return self.infinitif + \" : \" + self.base + \" \" + str(self.groupe)\n",
    "        \n",
    "    def conjuguer(self, pron, temps='present') :\n",
    "        \"\"\"Conjugaison avec un PronomPersonnel\"\"\"\n",
    "        \n",
    "        # liste de terminaisons qui seront utilisees:\n",
    "        # Modification ici : appel a la methode statique :\n",
    "        liste_term = Verbe.terminaisons(self.groupe, temps)\n",
    "        \n",
    "        # si on n'a pas trouve les terminaisons, sortir de la methode:\n",
    "        if (not liste_term):\n",
    "            return \"[forme inconnue]\"\n",
    "        \n",
    "        # trouver l'indice de la terminaison qui nous interesse :\n",
    "        indice = pron.personne - 1\n",
    "        if (pron.nombre == \"pl\") :\n",
    "            indice = pron.personne + 2\n",
    "            \n",
    "        return pron.forme + \" \" + self.base + liste_term[indice]\n",
    "    \n",
    "    @staticmethod\n",
    "    def terminaisons(groupe = 1, temps = \"present\"):\n",
    "        if temps==\"present\" :\n",
    "            return Verbe.term_present[groupe]\n",
    "        if temps==\"imparfait\" :\n",
    "            return Verbe.term_imparfait[groupe]\n",
    "        if temps == 'futur' :\n",
    "            return Verbe.term_futur[groupe]\n",
    "        if temps == 'cond_present' :\n",
    "            return Verbe.term_cond_present[groupe]"
   ]
  },
  {
   "cell_type": "code",
   "execution_count": null,
   "metadata": {},
   "outputs": [],
   "source": [
    "# test de la classe :\n",
    "vb1 = Verbe(\"chanter\")\n",
    "vb2 = Verbe(\"finir\")\n",
    "\n",
    "print(vb1)\n",
    "print(vb2)"
   ]
  },
  {
   "cell_type": "code",
   "execution_count": null,
   "metadata": {},
   "outputs": [],
   "source": [
    "# tests de conjugaisons :\n",
    "for t in [\"present\", \"imparfait\", \"futur\", \"cond_present\"]:\n",
    "    print(t + \" : \")\n",
    "    print(vb1.conjuguer(pr1,t))\n",
    "    print(vb1.conjuguer(pr2,t))\n",
    "    print(vb2.conjuguer(pr1,t))\n",
    "    print(vb2.conjuguer(pr2,t))"
   ]
  },
  {
   "cell_type": "markdown",
   "metadata": {},
   "source": [
    "5. Dans la classe Verbe :\n",
    "    - ajoutez le champs \"est_pronominal\" qui aura comme valeur True ou False selon si le verbe est pronominal. Pour calculer cette valeur, il faudra vérifier si le verbe commence avec \"se\" et \"s'\" dans le constructeur.\n",
    "    - ajoutez le champs \"verbe_auxil\" qui contiendra \"être\" ou \"avoir\" et qui représentera le verbe auxiliaire qui devra être utilisé pour les congujaisons au passé composé. Pour cela il faudrait lister les 12 verbes qui se conjuguent avec \"être\" dans un attribut statique _verbesEtre_.\n",
    "    - ajoutez le champs \"forme_pp\" qui contiendra la forme du participe passé.\n",
    "    - ajoutez la possibilité de conjuguer au passé composé, puis d'autres temps similaires, pour les verbes de 1e et 2e groupe."
   ]
  },
  {
   "cell_type": "code",
   "execution_count": 1,
   "metadata": {},
   "outputs": [],
   "source": [
    "class Verbe:\n",
    "    \n",
    "    verbesEtre = [\"aller\", \"venir\", \"entrer\", \"sortir\", \"monter\", \"descendre\", \n",
    "                  \"tomber\", \"rester\", \"naître\", \"mourir\", \"arriver\", \"partir\"]\n",
    "\n",
    "     # listes de terminaisons\n",
    "    term_present = { 1: [\"e\", \"es\", \"e\", \"ons\", \"ez\", \"ent\"], \n",
    "                     2: [\"is\", \"is\", \"it\", \"issons\", \"issez\", \"issent\"]}\n",
    "    term_imparfait = { 1 : [\"ais\", \"ais\", \"ait\", \"ions\", \"iez\", \"aient\"],\n",
    "                       2 : [\"issais\", \"issais\", \"issait\", \"issions\", \"issiez\", \"issaient\"]}\n",
    "    term_futur = { 1: [\"erai\", \"eras\", \"era\", \"erons\", \"erez\", \"eront\"], \n",
    "                   2: [\"irai\", \"iras\", \"ira\", \"irons\", \"irez\", \"iront\"]}\n",
    "    term_cond_present = { 1: [\"erais\", \"erais\", \"erait\", \"erions\", \"eriez\", \"eraient\"], \n",
    "                          2: [\"irais\", \"irais\", \"irait\", \"irions\", \"iriez\", \"iraient\"]}\n",
    "\n",
    "        \n",
    "    # avoir et être pour les temps composés :\n",
    "    conj_auxil = {\"avoir\" : [\"ai\", \"as\", \"a\", \"avons\", \"avez\", \"ont\"],\n",
    "                  \"être\"  : [\"suis\", \"es\", \"est\", \"sommes\", \"êtes\", \"sont\"]}\n",
    "        \n",
    "\n",
    "    def __init__(self, infinitif, base = \"\", groupe = 0):\n",
    "        self.infinitif = infinitif\n",
    "        if base != \"\" :\n",
    "            self.base = base\n",
    "        else :\n",
    "            self.base = infinitif[0:-2]\n",
    "        if groupe != 0 :\n",
    "            self.groupe = groupe\n",
    "        else :\n",
    "            self.groupe = 3\n",
    "            if infinitif.endswith(\"er\") :\n",
    "                self.groupe = 1\n",
    "            elif infinitif.endswith(\"ir\") :\n",
    "                self.groupe = 2\n",
    "                \n",
    "        # Ajout est_pronominal :\n",
    "        self.est_pronominal = False\n",
    "        if infinitif.startswith(\"se \") or infinitif.startswith(\"s'\"):\n",
    "            self.est_pronominal = True\n",
    "        \n",
    "        # Ajout verbe_auxil :\n",
    "        self.verbe_auxil = \"avoir\"\n",
    "        if self.est_pronominal or self.infinitif in Verbe.verbesEtre:\n",
    "            self.verbe_auxil = \"être\"\n",
    "            \n",
    "        # Ajout forme_pp :\n",
    "        if self.groupe == 1:\n",
    "            self.forme_pp = self.base + \"é\"\n",
    "        if self.groupe == 2:\n",
    "            self.forme_pp = self.base + \"i\"\n",
    "        \n",
    "    \n",
    "    def __str__(self) :\n",
    "        \"\"\"Methode pour l'affichage\"\"\"\n",
    "        return self.infinitif + \" : \" + self.base + \" \" + str(self.groupe)\n",
    "\n",
    "    def conjuguer(self, pron, temps='present') :\n",
    "        \"\"\"Conjugaison avec un PronomPersonnel\"\"\"\n",
    "        \n",
    "        # trouver l'indice de la terminaison qui nous interesse :\n",
    "        indice = pron.personne - 1\n",
    "        if pron.nombre == \"pl\" :\n",
    "            indice = pron.personne + 2\n",
    "        \n",
    "        if temps in [\"present\", \"imparfait\", \"futur\", \"cond_present\"] :\n",
    "            # liste de terminaisons qui seront utilisees:\n",
    "            liste_term = Verbe.terminaisons(self.groupe, temps)\n",
    "\n",
    "            # si on n'a pas trouve les terminaisons, sortir de la methode:\n",
    "            if not liste_term:\n",
    "                return \"[forme inconnue]\"\n",
    "\n",
    "            return pron.forme + \" \" + self.base + liste_term[indice]\n",
    "    \n",
    "        if temps == \"passe_compose\" :\n",
    "            forme_conjuguee = pron.forme + \" \" + Verbe.conj_auxil[self.verbe_auxil][indice] + \" \" + self.forme_pp\n",
    "            if pron.genre == \"f\" and self.verbe_auxil == \"être\" :\n",
    "                forme_conjuguee += \"e\"\n",
    "            if pron.nombre == \"pl\" and self.verbe_auxil == \"être\" :\n",
    "                forme_conjuguee += \"s\"    \n",
    "            return forme_conjuguee\n",
    "                \n",
    "        return \"[forme inconnue]\"\n",
    "    \n",
    "    @staticmethod\n",
    "    def terminaisons(groupe = 1, temps = \"present\"):\n",
    "        if temps==\"present\" :\n",
    "            return Verbe.term_present[groupe]\n",
    "\n",
    "        if temps==\"imparfait\" :\n",
    "            return Verbe.term_imparfait[groupe]\n",
    "            \n",
    "        if temps == 'futur' :\n",
    "            return Verbe.term_futur[groupe]\n",
    "\n",
    "        if temps == 'cond_present' :\n",
    "            return Verbe.term_cond_present[groupe]"
   ]
  },
  {
   "cell_type": "code",
   "execution_count": 2,
   "metadata": {},
   "outputs": [
    {
     "name": "stdout",
     "output_type": "stream",
     "text": [
      "monter : mont 1\n",
      "finir : fin 2\n",
      "s'envoler : s'envol 1\n",
      "se laver : se lav 1\n",
      "venir : ven 2\n"
     ]
    }
   ],
   "source": [
    "# test de la classe :\n",
    "verbes = [Verbe(\"monter\"), Verbe(\"finir\"), Verbe(\"s'envoler\"), Verbe(\"se laver\"), Verbe(\"venir\")]\n",
    "\n",
    "for v in verbes :\n",
    "    print(v)"
   ]
  },
  {
   "cell_type": "code",
   "execution_count": 6,
   "metadata": {},
   "outputs": [
    {
     "name": "stdout",
     "output_type": "stream",
     "text": [
      "present : \n",
      "je monte\n",
      "vous montez\n",
      "elles montent\n",
      "je finis\n",
      "vous finissez\n",
      "elles finissent\n",
      "je s'envole\n",
      "vous s'envolez\n",
      "elles s'envolent\n",
      "je se lave\n",
      "vous se lavez\n",
      "elles se lavent\n",
      "je venis\n",
      "vous venissez\n",
      "elles venissent\n",
      "imparfait : \n",
      "je montais\n",
      "vous montiez\n",
      "elles montaient\n",
      "je finissais\n",
      "vous finissiez\n",
      "elles finissaient\n",
      "je s'envolais\n",
      "vous s'envoliez\n",
      "elles s'envolaient\n",
      "je se lavais\n",
      "vous se laviez\n",
      "elles se lavaient\n",
      "je venissais\n",
      "vous venissiez\n",
      "elles venissaient\n",
      "futur : \n",
      "je monterai\n",
      "vous monterez\n",
      "elles monteront\n",
      "je finirai\n",
      "vous finirez\n",
      "elles finiront\n",
      "je s'envolerai\n",
      "vous s'envolerez\n",
      "elles s'envoleront\n",
      "je se laverai\n",
      "vous se laverez\n",
      "elles se laveront\n",
      "je venirai\n",
      "vous venirez\n",
      "elles veniront\n",
      "cond_present : \n",
      "je monterais\n",
      "vous monteriez\n",
      "elles monteraient\n",
      "je finirais\n",
      "vous finiriez\n",
      "elles finiraient\n",
      "je s'envolerais\n",
      "vous s'envoleriez\n",
      "elles s'envoleraient\n",
      "je se laverais\n",
      "vous se laveriez\n",
      "elles se laveraient\n",
      "je venirais\n",
      "vous veniriez\n",
      "elles veniraient\n",
      "passe_compose : \n",
      "je suis monté\n",
      "vous êtes montés\n",
      "elles sont montées\n",
      "je ai fini\n",
      "vous avez fini\n",
      "elles ont fini\n",
      "je suis s'envolé\n",
      "vous êtes s'envolés\n",
      "elles sont s'envolées\n",
      "je suis se lavé\n",
      "vous êtes se lavés\n",
      "elles sont se lavées\n",
      "je suis veni\n",
      "vous êtes venis\n",
      "elles sont venies\n"
     ]
    }
   ],
   "source": [
    "# tests de conjugaisons :\n",
    "pronoms = [PronomPersonnel(\"sg\", 1), PronomPersonnel(\"pl\",2), PronomPersonnel(\"pl\",3,\"f\")]\n",
    "\n",
    "for t in [\"present\", \"imparfait\", \"futur\", \"cond_present\", \"passe_compose\"]:\n",
    "    print(t + \" : \")\n",
    "    for v in verbes :\n",
    "        for p in pronoms :\n",
    "            print(v.conjuguer(p,t))"
   ]
  },
  {
   "cell_type": "markdown",
   "metadata": {},
   "source": [
    "Il reste à gérer les problèmes des pronoms reflexifs (se), les verbes irréguliers de 3e groupe, les règles pour les accents et doublement de consonnes en 1e groupe etc."
   ]
  },
  {
   "attachments": {
    "dict-2.png": {
     "image/png": "[encoded data removed]"
    }
   },
   "cell_type": "markdown",
   "metadata": {},
   "source": [
    "Nouveau diagramme :\n",
    "\n",
    "![dict-2.png](attachment:dict-2.png)"
   ]
  },
  {
   "cell_type": "markdown",
   "metadata": {},
   "source": []
  }
 ],
 "metadata": {
  "kernelspec": {
   "display_name": "Python 3.9.10 64-bit",
   "language": "python",
   "name": "python3"
  },
  "language_info": {
   "codemirror_mode": {
    "name": "ipython",
    "version": 3
   },
   "file_extension": ".py",
   "mimetype": "text/x-python",
   "name": "python",
   "nbconvert_exporter": "python",
   "pygments_lexer": "ipython3",
   "version": "3.9.6"
  },
  "vscode": {
   "interpreter": {
    "hash": "b0fa6594d8f4cbf19f97940f81e996739fb7646882a419484c72d19e05852a7e"
   }
  }
 },
 "nbformat": 4,
 "nbformat_minor": 4
}
