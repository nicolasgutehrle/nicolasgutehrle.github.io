{
 "cells": [
  {
   "cell_type": "markdown",
   "metadata": {},
   "source": [
    "# Structures de données - dictionnaires, ensembles, tuples"
   ]
  },
  {
   "cell_type": "markdown",
   "metadata": {},
   "source": [
    "## Dictionnaires"
   ]
  },
  {
   "cell_type": "code",
   "execution_count": 2,
   "metadata": {},
   "outputs": [],
   "source": [
    "# Creation d'un dictionnaire (cles : valeurs)\n",
    "d = {\"a\":1, \"c\":15, \"f\":42, \"table\":17, 18:30}\n",
    "d_vide = {}"
   ]
  },
  {
   "cell_type": "code",
   "execution_count": 4,
   "metadata": {},
   "outputs": [
    {
     "name": "stdout",
     "output_type": "stream",
     "text": [
      "1\n",
      "17\n",
      "30\n"
     ]
    }
   ],
   "source": [
    "# Acces aux valeurs\n",
    "print(d[\"a\"])\n",
    "print(d[\"table\"])\n",
    "print(d[18])"
   ]
  },
  {
   "cell_type": "code",
   "execution_count": 5,
   "metadata": {},
   "outputs": [
    {
     "name": "stdout",
     "output_type": "stream",
     "text": [
      "{'a': 1, 'c': 15, 'f': 42, 'table': 17, 18: 30, 'la': 34}\n"
     ]
    }
   ],
   "source": [
    "# Ajout d'une cle \n",
    "d[\"la\"] = 34\n",
    "print(d)"
   ]
  },
  {
   "cell_type": "code",
   "execution_count": 6,
   "metadata": {},
   "outputs": [
    {
     "name": "stdout",
     "output_type": "stream",
     "text": [
      "a\n",
      "1\n",
      "c\n",
      "15\n",
      "f\n",
      "42\n",
      "table\n",
      "17\n",
      "18\n",
      "30\n",
      "la\n",
      "34\n"
     ]
    }
   ],
   "source": [
    "# Parcourir le dictionnaire en utilisant le cles :\n",
    "for k in d :\n",
    "    print(k)\n",
    "    print(d[k])"
   ]
  },
  {
   "cell_type": "code",
   "execution_count": 8,
   "metadata": {},
   "outputs": [
    {
     "name": "stdout",
     "output_type": "stream",
     "text": [
      "a-1\n",
      "c-15\n",
      "f-42\n",
      "table-17\n",
      "18-30\n",
      "la-34\n"
     ]
    }
   ],
   "source": [
    "for k in d :\n",
    "    print(str(k) + \"-\" + str(d[k]))"
   ]
  },
  {
   "cell_type": "code",
   "execution_count": 9,
   "metadata": {},
   "outputs": [
    {
     "name": "stdout",
     "output_type": "stream",
     "text": [
      "dict_keys(['a', 'c', 'f', 'table', 18, 'la'])\n",
      "dict_values([1, 15, 42, 17, 30, 34])\n"
     ]
    }
   ],
   "source": [
    "# Liste des cles :\n",
    "l_cles = d.keys()\n",
    "print(l_cles)\n",
    "\n",
    "# Liste des valeurs :\n",
    "l_valeurs = d.values()\n",
    "print(l_valeurs)"
   ]
  },
  {
   "cell_type": "code",
   "execution_count": null,
   "metadata": {},
   "outputs": [],
   "source": [
    "# Boucles equivalentes :\n",
    "for k in d :\n",
    "    print(str(k) + \"-\" + str(d[k]))\n",
    "for k in d.keys() :\n",
    "    print(str(k) + \"-\" + str(d[k]))"
   ]
  },
  {
   "cell_type": "code",
   "execution_count": 14,
   "metadata": {},
   "outputs": [
    {
     "name": "stdout",
     "output_type": "stream",
     "text": [
      "La cle n'existe pas.\n"
     ]
    }
   ],
   "source": [
    "# Verifier si la cle existe :\n",
    "if \"b\" in d :\n",
    "    print(d[\"b\"])\n",
    "else:\n",
    "    print(\"La cle n'existe pas.\")"
   ]
  },
  {
   "cell_type": "code",
   "execution_count": 15,
   "metadata": {},
   "outputs": [
    {
     "name": "stdout",
     "output_type": "stream",
     "text": [
      "{'a': 1, 'f': 42, 'table': 17, 18: 30, 'la': 34}\n"
     ]
    }
   ],
   "source": [
    "# Supprimer une cle :\n",
    "del d[\"c\"]\n",
    "print(d)"
   ]
  },
  {
   "cell_type": "code",
   "execution_count": 16,
   "metadata": {},
   "outputs": [
    {
     "name": "stdout",
     "output_type": "stream",
     "text": [
      "{}\n"
     ]
    }
   ],
   "source": [
    "# Vider tout le dictionnaire :\n",
    "d.clear()\n",
    "print(d)"
   ]
  },
  {
   "cell_type": "markdown",
   "metadata": {},
   "source": [
    "## Ensembles"
   ]
  },
  {
   "cell_type": "code",
   "execution_count": 3,
   "metadata": {},
   "outputs": [],
   "source": [
    "# Creation d'un ensemble \n",
    "ens1 = set()\n",
    "ens2 = {1, 9, 4, 6, 4, 8, 9}"
   ]
  },
  {
   "cell_type": "code",
   "execution_count": 4,
   "metadata": {},
   "outputs": [
    {
     "name": "stdout",
     "output_type": "stream",
     "text": [
      "1\n",
      "4\n",
      "6\n",
      "8\n",
      "9\n"
     ]
    }
   ],
   "source": [
    "# Parcourir un ensemble :\n",
    "for e in ens2 :\n",
    "    print(e)\n",
    "\n"
   ]
  },
  {
   "cell_type": "markdown",
   "metadata": {},
   "source": [
    "Notez que l'ensemble contient uniquement des valeurs uniques."
   ]
  },
  {
   "cell_type": "code",
   "execution_count": 5,
   "metadata": {},
   "outputs": [
    {
     "name": "stdout",
     "output_type": "stream",
     "text": [
      "{3, 4}\n",
      "{1, 4, 6, 8, 9}\n"
     ]
    }
   ],
   "source": [
    "# Ajout d'elements :\n",
    "ens1.add(3)\n",
    "ens1.add(4)\n",
    "\n",
    "ens2.add(4)\n",
    "ens2.add(6)\n",
    "\n",
    "print(ens1)\n",
    "print(ens2)"
   ]
  },
  {
   "cell_type": "code",
   "execution_count": 6,
   "metadata": {},
   "outputs": [
    {
     "name": "stdout",
     "output_type": "stream",
     "text": [
      "{1, 3, 4, 5, 6, 8, 9}\n"
     ]
    }
   ],
   "source": [
    "# Ajout d'une liste entiere :\n",
    "liste = [1,3,4,5]\n",
    "ens2.update(liste)\n",
    "print(ens2)"
   ]
  },
  {
   "cell_type": "code",
   "execution_count": 7,
   "metadata": {},
   "outputs": [
    {
     "name": "stdout",
     "output_type": "stream",
     "text": [
      "{3, 4, 5, 6, 8, 9}\n"
     ]
    }
   ],
   "source": [
    "# Enlever un element :\n",
    "ens2.discard(1)\n",
    "ens2.discard(7)\n",
    "print(ens2)"
   ]
  },
  {
   "cell_type": "code",
   "execution_count": 9,
   "metadata": {},
   "outputs": [
    {
     "name": "stdout",
     "output_type": "stream",
     "text": [
      "2 est absent\n"
     ]
    }
   ],
   "source": [
    "# Verifier si un element est present :\n",
    "if 2 in ens2:\n",
    "    print(\"2 est present\")\n",
    "if 2 not in ens2:\n",
    "    print(\"2 est absent\")"
   ]
  },
  {
   "cell_type": "markdown",
   "metadata": {},
   "source": [
    "Un ensemble est particulièrement utile si on doit enlever les doublons d'une liste :"
   ]
  },
  {
   "cell_type": "code",
   "execution_count": 11,
   "metadata": {},
   "outputs": [
    {
     "name": "stdout",
     "output_type": "stream",
     "text": [
      "{1, 2, 3, 4, 5, 6, 9}\n",
      "[1, 2, 3, 4, 5, 6, 9]\n"
     ]
    }
   ],
   "source": [
    "liste = [4,1,2,3,2,3,2,5,6,4,4,9]\n",
    "# conversion en un ensemble \n",
    "ens = set(liste)\n",
    "print(ens)\n",
    "# conversion en une liste de nouveau (sans doublons !)\n",
    "liste_sans_doublons = list(ens)\n",
    "print(liste_sans_doublons)"
   ]
  },
  {
   "cell_type": "markdown",
   "metadata": {},
   "source": [
    "L'ordre des éléments dans un ensemble est aléatoire (voir ci-dessus)."
   ]
  },
  {
   "cell_type": "markdown",
   "metadata": {},
   "source": [
    "## Tuples"
   ]
  },
  {
   "cell_type": "markdown",
   "metadata": {},
   "source": [
    "Un **tuple** est une collection ordonnée de plusieurs éléments."
   ]
  },
  {
   "cell_type": "code",
   "execution_count": 12,
   "metadata": {},
   "outputs": [
    {
     "name": "stdout",
     "output_type": "stream",
     "text": [
      "(2, 4, 6)\n"
     ]
    }
   ],
   "source": [
    "# Creation\n",
    "t = (2,4,6)\n",
    "print(t)"
   ]
  },
  {
   "cell_type": "code",
   "execution_count": 13,
   "metadata": {},
   "outputs": [
    {
     "name": "stdout",
     "output_type": "stream",
     "text": [
      "(2, 4, 4, 5)\n"
     ]
    }
   ],
   "source": [
    "t = (2,4,4,5)\n",
    "print(t)"
   ]
  },
  {
   "cell_type": "markdown",
   "metadata": {},
   "source": [
    "Un tuple est utile quand on doit stocker plusieurs valeurs ensemble."
   ]
  },
  {
   "cell_type": "code",
   "execution_count": 16,
   "metadata": {},
   "outputs": [
    {
     "name": "stdout",
     "output_type": "stream",
     "text": [
      "2\n",
      "4\n"
     ]
    }
   ],
   "source": [
    "# L'access aux differents element se fait comme dans une liste\n",
    "print(t[0])\n",
    "print(t[1])"
   ]
  },
  {
   "cell_type": "code",
   "execution_count": 17,
   "metadata": {},
   "outputs": [
    {
     "name": "stdout",
     "output_type": "stream",
     "text": [
      "2\n",
      "4\n",
      "4\n",
      "5\n"
     ]
    }
   ],
   "source": [
    "# Parcourir tous les elements :\n",
    "for i in t :\n",
    "    print(i)"
   ]
  },
  {
   "cell_type": "code",
   "execution_count": null,
   "metadata": {},
   "outputs": [],
   "source": []
  }
 ],
 "metadata": {
  "kernelspec": {
   "display_name": "Python 3.9.10 64-bit",
   "language": "python",
   "name": "python3"
  },
  "language_info": {
   "codemirror_mode": {
    "name": "ipython",
    "version": 3
   },
   "file_extension": ".py",
   "mimetype": "text/x-python",
   "name": "python",
   "nbconvert_exporter": "python",
   "pygments_lexer": "ipython3",
   "version": "3.9.10 (main, Jan 15 2022, 11:40:53) \n[Clang 13.0.0 (clang-1300.0.29.3)]"
  },
  "vscode": {
   "interpreter": {
    "hash": "b0fa6594d8f4cbf19f97940f81e996739fb7646882a419484c72d19e05852a7e"
   }
  }
 },
 "nbformat": 4,
 "nbformat_minor": 2
}
