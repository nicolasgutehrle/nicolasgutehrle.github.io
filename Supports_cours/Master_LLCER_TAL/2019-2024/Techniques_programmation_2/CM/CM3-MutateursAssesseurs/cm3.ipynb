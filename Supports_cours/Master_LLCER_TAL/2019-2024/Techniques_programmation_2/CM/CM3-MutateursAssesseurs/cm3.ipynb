{
 "cells": [
  {
   "attachments": {},
   "cell_type": "markdown",
   "metadata": {},
   "source": [
    "## CM 3 Assesseurs et mutateurs, notion de pointer"
   ]
  },
  {
   "attachments": {},
   "cell_type": "markdown",
   "metadata": {},
   "source": [
    "La classe Verbe que nous avons vu en CM 2 :"
   ]
  },
  {
   "cell_type": "code",
   "execution_count": 1,
   "metadata": {},
   "outputs": [],
   "source": [
    "class Verbe:\n",
    "    \n",
    "    verbesEtre = [\"aller\", \"venir\", \"entrer\", \"sortir\", \"monter\", \"descendre\", \n",
    "                  \"tomber\", \"rester\", \"naître\", \"mourir\", \"arriver\", \"partir\"]\n",
    "\n",
    "    \n",
    "    # listes de terminaisons\n",
    "    term_present = {\n",
    "            1: [\"e\", \"es\", \"e\", \"ons\", \"ez\", \"ent\"], \n",
    "            2: [\"is\", \"is\", \"it\", \"issons\", \"issez\", \"issent\"]\n",
    "        }\n",
    "\n",
    "    term_imparfait = {\n",
    "            1 : [\"ais\", \"ais\", \"ait\", \"ions\", \"iez\", \"aient\"],\n",
    "            2 : [\"issais\", \"issais\", \"issait\", \"issions\", \"issiez\", \"issaient\"]\n",
    "        }\n",
    "    term_futur = { \n",
    "            1: [\"erai\", \"eras\", \"era\", \"erons\", \"erez\", \"eront\"], \n",
    "            2: [\"irai\", \"iras\", \"ira\", \"irons\", \"irez\", \"iront\"]\n",
    "        }\n",
    "    term_cond_present = {\n",
    "            1: [\"erais\", \"erais\", \"erait\", \"erions\", \"eriez\", \"eraient\"], \n",
    "            2: [\"irais\", \"irais\", \"irait\", \"irions\", \"iriez\", \"iraient\"]\n",
    "        }\n",
    "\n",
    "    # avoir et être pour les temps composés :\n",
    "    conj_auxil = {\n",
    "            \"avoir\" : [\"ai\", \"as\", \"a\", \"avons\", \"avez\", \"ont\"],\n",
    "            \"être\"  : [\"suis\", \"es\", \"est\", \"sommes\", \"êtes\", \"sont\"]\n",
    "            }   \n",
    "\n",
    "    def __init__(self, infinitif, base = \"\", groupe = 0):\n",
    "        self.infinitif = infinitif\n",
    "        if base != \"\" :\n",
    "            self.base = base\n",
    "        else :\n",
    "            self.base = infinitif[0:-2]\n",
    "        if groupe != 0 :\n",
    "            self.groupe = groupe\n",
    "        else :\n",
    "            self.groupe = 3\n",
    "            if infinitif.endswith(\"er\") :\n",
    "                self.groupe = 1\n",
    "            elif infinitif.endswith(\"ir\") :\n",
    "                self.groupe = 2\n",
    "                \n",
    "        self.est_pronominal = False\n",
    "        if infinitif.startswith(\"se \") or infinitif.startswith(\"s'\"):\n",
    "            self.est_pronominal = True\n",
    "        \n",
    "        self.verbe_auxil = \"avoir\"\n",
    "        if self.est_pronominal or self.infinitif in Verbe.verbesEtre:\n",
    "            self.verbe_auxil = \"être\"\n",
    "            \n",
    "        if self.groupe == 1:\n",
    "            self.forme_pp = self.base + \"é\"\n",
    "\n",
    "        if self.groupe == 2:\n",
    "            self.forme_pp = self.base + \"i\"\n",
    "        \n",
    "    \n",
    "    def __str__(self) :\n",
    "        \"\"\"Methode pour l'affichage\"\"\"\n",
    "        return self.infinitif + \" : \" + self.base + \" \" + str(self.groupe)\n",
    "\n",
    "    \n",
    "    def conjuguer(self, pron, temps='present') :\n",
    "        \"\"\"Conjugaison avec un PronomPersonnel\"\"\"\n",
    "        \n",
    "        # trouver l'indice de la terminaison qui nous interesse :\n",
    "        indice = pron.personne - 1\n",
    "        if pron.nombre == \"pl\" :\n",
    "            indice = pron.personne + 2\n",
    "        \n",
    "        if temps in [\"present\", \"imparfait\", \"futur\", \"cond_present\"] :\n",
    "            liste_term = Verbe.terminaisons(self.groupe, temps)\n",
    "\n",
    "            if not liste_term:\n",
    "                return \"[forme inconnue]\"\n",
    "\n",
    "            return pron.forme + \" \" + self.base + liste_term[indice]\n",
    "    \n",
    "        if temps==\"passe_compose\" :\n",
    "            forme_conjuguee = pron.forme + \" \" + Verbe.conj_auxil[self.verbe_auxil][indice] + \" \" + self.forme_pp\n",
    "            \n",
    "            if pron.genre == \"f\" and self.verbe_auxil == \"être\" :\n",
    "                forme_conjuguee += \"e\"\n",
    "            \n",
    "            if pron.nombre == \"pl\" and self.verbe_auxil == \"être\" :\n",
    "                forme_conjuguee += \"s\"    \n",
    "            \n",
    "            return forme_conjuguee\n",
    "                \n",
    "        return \"[forme inconnue]\"\n",
    "    \n",
    "    @staticmethod\n",
    "    def terminaisons(groupe = 1, temps = \"present\"):\n",
    "        if temps==\"present\" :\n",
    "            return Verbe.term_present[groupe]\n",
    "        \n",
    "        if temps==\"imparfait\" :\n",
    "            return Verbe.term_imparfait[groupe]\n",
    "        \n",
    "        if temps == 'futur' :\n",
    "            return Verbe.term_futur[groupe]\n",
    "        \n",
    "        if temps == 'cond_present' :\n",
    "            return Verbe.term_cond_present[groupe]"
   ]
  },
  {
   "cell_type": "code",
   "execution_count": 2,
   "metadata": {},
   "outputs": [],
   "source": [
    "class PronomPersonnel :\n",
    "    # liste de pronoms\n",
    "    liste_pronoms = [\"je\", \"tu\", [\"il\", \"elle\"], \"nous\", \"vous\", [\"ils\", \"elles\"] ]\n",
    "               \n",
    "    # constructeur\n",
    "    def __init__(self, nombre, personne, genre=\"m\"):\n",
    "        # verification de la validite des donnees :\n",
    "        if nombre not in [\"sg\", \"pl\"] or personne not in [1,2,3] or genre not in [\"m\", \"f\"]:\n",
    "            print(\"Erreur ! Appel à PronomPersonnel avec arguments invalides.\")\n",
    "            return\n",
    "        \n",
    "        self.nombre = nombre\n",
    "        self.personne = personne\n",
    "        self.genre = genre\n",
    "        \n",
    "        if nombre == \"sg\" :\n",
    "            self.forme = PronomPersonnel.liste_pronoms[personne-1]\n",
    "        else :\n",
    "            self.forme = PronomPersonnel.liste_pronoms[personne+2]\n",
    "        \n",
    "        if personne == 3 :\n",
    "            if genre == \"m\":\n",
    "                self.forme = self.forme[0]\n",
    "            else :\n",
    "                self.forme = self.forme[1]\n",
    "                \n",
    "    # conversion en str\n",
    "    def __str__(self):\n",
    "        return self.forme + \" (\" + self.nombre + \",\" + str(self.personne) + self.genre + \")\"\n",
    "\n",
    "    # affichage de la liste des pronoms\n",
    "    @staticmethod\n",
    "    def pronoms():\n",
    "        print(PronomPersonnel.liste_pronoms)"
   ]
  },
  {
   "cell_type": "markdown",
   "metadata": {},
   "source": [
    "### Problématique : contrôler la cohérence des données des objets"
   ]
  },
  {
   "cell_type": "code",
   "execution_count": 3,
   "metadata": {
    "scrolled": true
   },
   "outputs": [
    {
     "name": "stdout",
     "output_type": "stream",
     "text": [
      "elle a pensé\n"
     ]
    }
   ],
   "source": [
    "v = Verbe(\"penser\")\n",
    "pron = PronomPersonnel(\"sg\", 3, \"f\")\n",
    "\n",
    "print(v.conjuguer(pron, \"passe_compose\"))"
   ]
  },
  {
   "cell_type": "code",
   "execution_count": 4,
   "metadata": {},
   "outputs": [
    {
     "name": "stdout",
     "output_type": "stream",
     "text": [
      "elle est pensée\n",
      "elle pensira\n"
     ]
    }
   ],
   "source": [
    "# rien ne nous empeche ici de modifier les attributs de l'objet:\n",
    "v.verbe_auxil = \"être\"\n",
    "v.groupe = 2\n",
    "\n",
    "# le verbe n'est plus valide :\n",
    "print(v.conjuguer(pron, \"passe_compose\"))\n",
    "print(v.conjuguer(pron, \"futur\"))"
   ]
  },
  {
   "cell_type": "markdown",
   "metadata": {},
   "source": [
    "En réalité, certains attributs de l'objet sont des propriétés qui ne devraient pas être modifiables une fois l'objet créé. Un verbe de 1e groupe ne peut pas passer en 2e groupe au cours du programme - cela serait incorrect du point de vue linguistique. Nous pouvons prendre des précautions pour prévenir ces modifications dans l'écriture de la classe."
   ]
  },
  {
   "cell_type": "markdown",
   "metadata": {},
   "source": [
    "Le fait d'empêcher la modification de certains attributs permet de :\n",
    "- rendre l'utilisation des objets plus simple (moins d'attributs qu'il faut gérer dans les programmes). Par exemple, si on travaille en équipe, la personne qui utilise la classe n'a pas besoin de connaître l'existance de tous les attributs qui sont utilisés dans les algorithmes - elle aura accès uniquement aux attributs \"visibles\" pour utiliser les objets.\n",
    "- prévenir les erreurs de programmation - éviter que la modification de certains attributs soit possible à partir du programme principal.\n",
    "\n",
    "Les attributs qu'on ne pourra pas modifier en dehors de la classe s'appellent **attributs privés**."
   ]
  },
  {
   "cell_type": "markdown",
   "metadata": {},
   "source": [
    "### Attributs privés"
   ]
  },
  {
   "cell_type": "markdown",
   "metadata": {},
   "source": [
    "Pour définir un attribut privé en python, il faut précéder son nom par _ _."
   ]
  },
  {
   "cell_type": "code",
   "execution_count": 5,
   "metadata": {},
   "outputs": [],
   "source": [
    "class VbSimple:\n",
    "    '''Extrait de la classe pour montrer les attributs privés'''\n",
    "    \n",
    "    def __init__(self, infinitif):\n",
    "        self.infinitif = infinitif\n",
    "        self.__base = infinitif[0:-2]\n",
    "        self.__groupe = 3\n",
    "        \n",
    "        if infinitif.endswith(\"er\"): \n",
    "            self.__groupe = 1\n",
    "\n",
    "        elif infinitif.endswith(\"ir\"): \n",
    "            self.__groupe = 2\n",
    "            \n",
    "    def __str__(self) :\n",
    "        return self.infinitif + \" : \" + self.__base + \" \" + str(self.__groupe)"
   ]
  },
  {
   "cell_type": "code",
   "execution_count": 6,
   "metadata": {},
   "outputs": [],
   "source": [
    "v = VbSimple(\"penser\")"
   ]
  },
  {
   "cell_type": "code",
   "execution_count": null,
   "metadata": {},
   "outputs": [],
   "source": [
    "v."
   ]
  },
  {
   "cell_type": "code",
   "execution_count": 7,
   "metadata": {},
   "outputs": [
    {
     "name": "stdout",
     "output_type": "stream",
     "text": [
      "penser : pens 1\n"
     ]
    }
   ],
   "source": [
    "print(v)"
   ]
  },
  {
   "cell_type": "code",
   "execution_count": 10,
   "metadata": {},
   "outputs": [
    {
     "name": "stdout",
     "output_type": "stream",
     "text": [
      "penser\n"
     ]
    }
   ],
   "source": [
    "print(v.__base)\n",
    "# Erreur, nous n'avons pas acces à ce champs"
   ]
  },
  {
   "cell_type": "code",
   "execution_count": 11,
   "metadata": {},
   "outputs": [
    {
     "name": "stdout",
     "output_type": "stream",
     "text": [
      "penser : pens 1\n"
     ]
    }
   ],
   "source": [
    "v.__base = \"nouvelle_base\"\n",
    "v.__groupe = 3\n",
    "# ces __base et __groupe sont différents, ils ne vont pas participer dans le fonctionnement de l'objet\n",
    "print(v)"
   ]
  },
  {
   "cell_type": "code",
   "execution_count": 12,
   "metadata": {},
   "outputs": [
    {
     "name": "stdout",
     "output_type": "stream",
     "text": [
      "marcher : pens 1\n"
     ]
    }
   ],
   "source": [
    "v.infinitif = \"marcher\"\n",
    "# modification possible !\n",
    "# Ce n'est pas souhaitable, donc il faut rendre privé infinitif...\n",
    "\n",
    "print(v)"
   ]
  },
  {
   "cell_type": "markdown",
   "metadata": {},
   "source": [
    "La classe avec tous les attributs privés : "
   ]
  },
  {
   "cell_type": "code",
   "execution_count": 13,
   "metadata": {},
   "outputs": [],
   "source": [
    "class VbSimple:\n",
    "    '''Extrait de la classe pour montrer les attributs privés'''\n",
    "    \n",
    "    def __init__(self, infinitif):\n",
    "        self.__infinitif = infinitif\n",
    "        self.__base = infinitif[0:-2]\n",
    "        self.__groupe = 3\n",
    "\n",
    "        if infinitif.endswith(\"er\"): \n",
    "            self.__groupe = 1\n",
    "\n",
    "        elif infinitif.endswith(\"ir\"): \n",
    "            self.__groupe = 2\n",
    "            \n",
    "    def __str__(self) :\n",
    "        return self.__infinitif + \" : \" + self.__base + \" \" + str(self.__groupe)"
   ]
  },
  {
   "cell_type": "code",
   "execution_count": 14,
   "metadata": {},
   "outputs": [],
   "source": [
    "v = VbSimple(\"penser\")"
   ]
  },
  {
   "cell_type": "code",
   "execution_count": 16,
   "metadata": {},
   "outputs": [
    {
     "ename": "AttributeError",
     "evalue": "'VbSimple' object has no attribute '__infinitif'",
     "output_type": "error",
     "traceback": [
      "\u001b[0;31m---------------------------------------------------------------------------\u001b[0m",
      "\u001b[0;31mAttributeError\u001b[0m                            Traceback (most recent call last)",
      "\u001b[1;32m/Users/nicolasgutehrle/Documents/COURS/PROG2/OOP/CM3-MutateursAssesseurs/cm3.ipynb Cellule 22\u001b[0m in \u001b[0;36m<module>\u001b[0;34m\u001b[0m\n\u001b[0;32m----> <a href='vscode-notebook-cell:/Users/nicolasgutehrle/Documents/COURS/PROG2/OOP/CM3-MutateursAssesseurs/cm3.ipynb#X26sZmlsZQ%3D%3D?line=0'>1</a>\u001b[0m \u001b[39mprint\u001b[39m(v\u001b[39m.\u001b[39;49m__infinitif)\n",
      "\u001b[0;31mAttributeError\u001b[0m: 'VbSimple' object has no attribute '__infinitif'"
     ]
    }
   ],
   "source": [
    "print(v.__infinitif)"
   ]
  },
  {
   "cell_type": "markdown",
   "metadata": {},
   "source": [
    "Problème : si les attributs sont privés, on n'a plus accès à ces informations, alors qu'elles peuvent être utiles pour le programme (par ex. l'infinitif d'un verbe)."
   ]
  },
  {
   "cell_type": "markdown",
   "metadata": {},
   "source": [
    "### Assesseurs (getters) et mutateurs (setters)"
   ]
  },
  {
   "cell_type": "markdown",
   "metadata": {},
   "source": [
    "Pour accéder à l'infinitif, je peux créer une méthode dans la classe qui renvoie la valeur :"
   ]
  },
  {
   "cell_type": "code",
   "execution_count": 17,
   "metadata": {},
   "outputs": [],
   "source": [
    "class VbSimple:\n",
    "    '''Extrait de la classe pour montrer les attributs privés'''\n",
    "    \n",
    "    def __init__(self, infinitif):\n",
    "        self.__infinitif = infinitif\n",
    "        self.__base = infinitif[0:-2]\n",
    "        self.__groupe = 3\n",
    "\n",
    "        if infinitif.endswith(\"er\"): \n",
    "            self.__groupe = 1\n",
    "\n",
    "        elif infinitif.endswith(\"ir\"): \n",
    "            self.__groupe = 2\n",
    "            \n",
    "    def __str__(self) :\n",
    "        return self.__infinitif + \" : \" + self.__base + \" \" + str(self.__groupe)\n",
    "    \n",
    "    def getInfinitif(self) :\n",
    "        return self.__infinitif"
   ]
  },
  {
   "cell_type": "code",
   "execution_count": 19,
   "metadata": {},
   "outputs": [
    {
     "name": "stdout",
     "output_type": "stream",
     "text": [
      "penser\n"
     ]
    },
    {
     "ename": "AttributeError",
     "evalue": "'VbSimple' object has no attribute '__infinitif'",
     "output_type": "error",
     "traceback": [
      "\u001b[0;31m---------------------------------------------------------------------------\u001b[0m",
      "\u001b[0;31mAttributeError\u001b[0m                            Traceback (most recent call last)",
      "\u001b[1;32m/Users/nicolasgutehrle/Documents/COURS/PROG2/OOP/CM3-MutateursAssesseurs/cm3.ipynb Cellule 27\u001b[0m in \u001b[0;36m<module>\u001b[0;34m\u001b[0m\n\u001b[1;32m      <a href='vscode-notebook-cell:/Users/nicolasgutehrle/Documents/COURS/PROG2/OOP/CM3-MutateursAssesseurs/cm3.ipynb#X34sZmlsZQ%3D%3D?line=0'>1</a>\u001b[0m v \u001b[39m=\u001b[39m VbSimple(\u001b[39m\"\u001b[39m\u001b[39mpenser\u001b[39m\u001b[39m\"\u001b[39m)\n\u001b[1;32m      <a href='vscode-notebook-cell:/Users/nicolasgutehrle/Documents/COURS/PROG2/OOP/CM3-MutateursAssesseurs/cm3.ipynb#X34sZmlsZQ%3D%3D?line=1'>2</a>\u001b[0m \u001b[39mprint\u001b[39m(v\u001b[39m.\u001b[39mgetInfinitif())\n\u001b[0;32m----> <a href='vscode-notebook-cell:/Users/nicolasgutehrle/Documents/COURS/PROG2/OOP/CM3-MutateursAssesseurs/cm3.ipynb#X34sZmlsZQ%3D%3D?line=2'>3</a>\u001b[0m \u001b[39mprint\u001b[39m(v\u001b[39m.\u001b[39;49m__infinitif)\n",
      "\u001b[0;31mAttributeError\u001b[0m: 'VbSimple' object has no attribute '__infinitif'"
     ]
    }
   ],
   "source": [
    "v = VbSimple(\"penser\")\n",
    "print(v.getInfinitif())\n",
    "print(v.__infinitif)"
   ]
  },
  {
   "cell_type": "markdown",
   "metadata": {},
   "source": [
    "**Assesseurs (getters)** : méthodes qui permettent d'obtenir la valeur de certains attributs de la classe (attributs qui sont normalement privés). Ils ont traditionnellement des noms comme _getAttribut()_ (getters en anglais).\n",
    "\n",
    "L'implémentation d'un assesseur est toujours la même :"
   ]
  },
  {
   "cell_type": "raw",
   "metadata": {},
   "source": [
    "def getAttrbit(self):\n",
    "    return self.__attribut"
   ]
  },
  {
   "cell_type": "code",
   "execution_count": 17,
   "metadata": {},
   "outputs": [],
   "source": [
    "class VbSimple:\n",
    "    '''Extrait de la classe pour montrer les attributs privés'''\n",
    "    \n",
    "    def __init__(self, infinitif):\n",
    "        self.__infinitif = infinitif\n",
    "        self.__base = infinitif[0:-2]\n",
    "        self.__groupe = 3\n",
    "\n",
    "        if infinitif.endswith(\"er\"): \n",
    "            self.__groupe = 1\n",
    "\n",
    "        elif infinitif.endswith(\"ir\"): \n",
    "            self.__groupe = 2\n",
    "            \n",
    "    def __str__(self) :\n",
    "        return self.__infinitif + \" : \" + self.__base + \" \" + str(self.__groupe)\n",
    "    \n",
    "    def getInfinitif(self) :\n",
    "        return self.__infinitif\n",
    "     \n",
    "    def getBase(self):\n",
    "        return self.__base\n",
    "    \n",
    "    def getGroupe(self):\n",
    "        return self.__groupe"
   ]
  },
  {
   "cell_type": "code",
   "execution_count": 18,
   "metadata": {},
   "outputs": [
    {
     "name": "stdout",
     "output_type": "stream",
     "text": [
      "penser\n",
      "pens\n",
      "1\n"
     ]
    }
   ],
   "source": [
    "v = VbSimple(\"penser\")\n",
    "print(v.getInfinitif())\n",
    "print(v.getBase())\n",
    "print(v.getGroupe())"
   ]
  },
  {
   "cell_type": "markdown",
   "metadata": {},
   "source": [
    "Dans certains cas on peut avoir besoin de modifier un de ces champs. Par ex. modifier l'infinitif d'un verbe (mais dans ce cas il faut penser à actualiser les autres données)."
   ]
  },
  {
   "cell_type": "markdown",
   "metadata": {},
   "source": [
    "**Mutateurs (setters)** : méthodes qui permettent de modifier la valeur de certains attributs de la classe (attributs qui sont normalement privés). Ils ont traditionnellement des noms comme _setAttribut(nouvelle_valeur)_ (setters en anglais).\n",
    "\n",
    "L'implémentation d'un mutateur commence par :"
   ]
  },
  {
   "cell_type": "raw",
   "metadata": {},
   "source": [
    "def setAttrbit(self, nouvelle_valeur):\n",
    "    self.__attribut = nouvelle_valeur\n",
    "    # ...\n",
    "    # modification des autres attributs si necessaire\n",
    "    # souvent ici il faut faire des opérations qui sont\n",
    "    # similaires à ce qui se trouve dans le constructeur"
   ]
  },
  {
   "cell_type": "code",
   "execution_count": 1,
   "metadata": {},
   "outputs": [],
   "source": [
    "class VbSimple:\n",
    "    '''Extrait de la classe pour montrer les attributs privés'''\n",
    "    \n",
    "    def __init__(self, infinitif):\n",
    "        self.__infinitif = infinitif\n",
    "        self.__base = infinitif[0:-2]\n",
    "        self.__groupe = 3\n",
    "        if infinitif.endswith(\"er\"): \n",
    "            self.__groupe = 1\n",
    "\n",
    "        elif infinitif.endswith(\"ir\"): \n",
    "            self.__groupe = 2\n",
    "            \n",
    "    def __str__(self) :\n",
    "        return self.__infinitif + \" : \" + self.__base + \" \" + str(self.__groupe)\n",
    "    \n",
    "    def getInfinitif(self) :\n",
    "        return self.__infinitif\n",
    "     \n",
    "    def getBase(self):\n",
    "        return self.__base\n",
    "    \n",
    "    def getGroupe(self):\n",
    "        return self.__groupe\n",
    "    \n",
    "    # mutateur ici :\n",
    "    def setInfinitif(self, infinitif):\n",
    "        self.__infinitif = infinitif\n",
    "        self.__base = infinitif[0:-2]\n",
    "        self.__groupe = 3\n",
    "        \n",
    "        if infinitif.endswith(\"er\"): \n",
    "            self.__groupe = 1\n",
    "\n",
    "        elif infinitif.endswith(\"ir\"): \n",
    "            self.__groupe = 2"
   ]
  },
  {
   "cell_type": "code",
   "execution_count": 2,
   "metadata": {},
   "outputs": [
    {
     "name": "stdout",
     "output_type": "stream",
     "text": [
      "aller\n",
      "penser\n"
     ]
    }
   ],
   "source": [
    "v = VbSimple(\"aller\")\n",
    "print(v.getInfinitif())\n",
    "\n",
    "# ici on modifie l'attribut privé infinitif à l'aide du setter\n",
    "v.setInfinitif('penser')\n",
    "print(v.getInfinitif())"
   ]
  },
  {
   "cell_type": "code",
   "execution_count": 3,
   "metadata": {},
   "outputs": [
    {
     "ename": "AttributeError",
     "evalue": "'VbSimple' object has no attribute '__infinitif'",
     "output_type": "error",
     "traceback": [
      "\u001b[0;31m---------------------------------------------------------------------------\u001b[0m",
      "\u001b[0;31mAttributeError\u001b[0m                            Traceback (most recent call last)",
      "\u001b[0;32m/var/folders/g9/npfr2mks4118dkv7g8ckgccr0000gn/T/ipykernel_67649/2919643091.py\u001b[0m in \u001b[0;36m<module>\u001b[0;34m\u001b[0m\n\u001b[0;32m----> 1\u001b[0;31m \u001b[0mv\u001b[0m\u001b[0;34m.\u001b[0m\u001b[0m__infinitif\u001b[0m\u001b[0;34m\u001b[0m\u001b[0;34m\u001b[0m\u001b[0m\n\u001b[0m",
      "\u001b[0;31mAttributeError\u001b[0m: 'VbSimple' object has no attribute '__infinitif'"
     ]
    }
   ],
   "source": [
    "v.__infinitif"
   ]
  },
  {
   "cell_type": "markdown",
   "metadata": {},
   "source": [
    "### Exercice"
   ]
  },
  {
   "cell_type": "markdown",
   "metadata": {},
   "source": [
    "Dans les classes Verbe et PronomPersonnel, rendre privés tous les attributs et ajouter les assesseurs et mutateurs qui conviennent. Par ex. vous pouvez suivre le schéma UML suivant :"
   ]
  },
  {
   "attachments": {
    "dict-3.png": {
     "image/png": "[encoded data removed]"
    }
   },
   "cell_type": "markdown",
   "metadata": {},
   "source": [
    "![dict-3.png](attachment:dict-3.png)"
   ]
  },
  {
   "cell_type": "code",
   "execution_count": null,
   "metadata": {},
   "outputs": [],
   "source": [
    "class Verbe:\n",
    "    \n",
    "    verbesEtre = [\"aller\", \"venir\", \"entrer\", \"sortir\", \"monter\", \"descendre\", \n",
    "                  \"tomber\", \"rester\", \"naître\", \"mourir\", \"arriver\", \"partir\"]\n",
    "\n",
    "    \n",
    "    # listes de terminaisons\n",
    "    term_present = {\n",
    "            1: [\"e\", \"es\", \"e\", \"ons\", \"ez\", \"ent\"], \n",
    "            2: [\"is\", \"is\", \"it\", \"issons\", \"issez\", \"issent\"]\n",
    "        }\n",
    "\n",
    "    term_imparfait = {\n",
    "            1 : [\"ais\", \"ais\", \"ait\", \"ions\", \"iez\", \"aient\"],\n",
    "            2 : [\"issais\", \"issais\", \"issait\", \"issions\", \"issiez\", \"issaient\"]\n",
    "        }\n",
    "    term_futur = { \n",
    "            1: [\"erai\", \"eras\", \"era\", \"erons\", \"erez\", \"eront\"], \n",
    "            2: [\"irai\", \"iras\", \"ira\", \"irons\", \"irez\", \"iront\"]\n",
    "        }\n",
    "    term_cond_present = {\n",
    "            1: [\"erais\", \"erais\", \"erait\", \"erions\", \"eriez\", \"eraient\"], \n",
    "            2: [\"irais\", \"irais\", \"irait\", \"irions\", \"iriez\", \"iraient\"]\n",
    "        }\n",
    "    \n",
    "\n",
    "    def __init__(self, infinitif, base = \"\", groupe = 0):\n",
    "        self.infinitif = infinitif\n",
    "        \n",
    "        if base != \"\" :\n",
    "            self.base = base\n",
    "        else :\n",
    "            self.base = infinitif[0:-2]\n",
    "        if groupe != 0 :\n",
    "            self.groupe = groupe\n",
    "        else :\n",
    "            self.groupe = 3\n",
    "            if infinitif.endswith(\"er\") :\n",
    "                self.groupe = 1\n",
    "            elif infinitif.endswith(\"ir\") :\n",
    "                self.groupe = 2\n",
    "                \n",
    "        self.est_pronominal = False\n",
    "        if infinitif.startswith(\"se \") or infinitif.startswith(\"s'\"):\n",
    "            self.est_pronominal = True\n",
    "        \n",
    "        self.verbe_auxil = \"avoir\"\n",
    "        if self.est_pronominal or self.infinitif in Verbe.verbesEtre:\n",
    "            self.verbe_auxil = \"être\"\n",
    "            \n",
    "        if self.groupe == 1:\n",
    "            self.forme_pp = self.base + \"é\"\n",
    "\n",
    "        if self.groupe == 2:\n",
    "            self.forme_pp = self.base + \"i\"\n",
    "        \n",
    "    \n",
    "    def __str__(self) :\n",
    "        \"\"\"Methode pour l'affichage\"\"\"\n",
    "        return self.infinitif + \" : \" + self.base + \" \" + str(self.groupe)\n",
    "    \n",
    "    # avoir et être pour les temps composés :\n",
    "    conj_auxil = {\n",
    "            \"avoir\" : [\"ai\", \"as\", \"a\", \"avons\", \"avez\", \"ont\"],\n",
    "            \"être\"  : [\"suis\", \"es\", \"est\", \"sommes\", \"êtes\", \"sont\"]\n",
    "            }\n",
    "    \n",
    "    def conjuguer(self, pron, temps='present') :\n",
    "        \"\"\"Conjugaison avec un PronomPersonnel\"\"\"\n",
    "        \n",
    "        # trouver l'indice de la terminaison qui nous interesse :\n",
    "        indice = pron.personne - 1\n",
    "        if pron.nombre == \"pl\" :\n",
    "            indice = pron.personne + 2\n",
    "        \n",
    "        if temps in [\"present\", \"imparfait\", \"futur\", \"cond_present\"] :\n",
    "            liste_term = Verbe.terminaisons(self.groupe, temps)\n",
    "\n",
    "            if not liste_term:\n",
    "                return \"[forme inconnue]\"\n",
    "\n",
    "            return pron.forme + \" \" + self.base + liste_term[indice]\n",
    "    \n",
    "        if temps==\"passe_compose\" :\n",
    "            forme_conjuguee = pron.forme + \" \" + Verbe.conj_auxil[self.verbe_auxil][indice] + \" \" + self.forme_pp\n",
    "            \n",
    "            if pron.genre == \"f\" and self.verbe_auxil == \"être\" :\n",
    "                forme_conjuguee += \"e\"\n",
    "            \n",
    "            if pron.nombre == \"pl\" and self.verbe_auxil == \"être\" :\n",
    "                forme_conjuguee += \"s\"    \n",
    "            \n",
    "            return forme_conjuguee\n",
    "                \n",
    "        return \"[forme inconnue]\"\n",
    "    \n",
    "    @staticmethod\n",
    "    def terminaisons(groupe = 1, temps = \"present\"):\n",
    "        if temps==\"present\" :\n",
    "            return Verbe.term_present[groupe]\n",
    "        \n",
    "        if temps==\"imparfait\" :\n",
    "            return Verbe.term_imparfait[groupe]\n",
    "        \n",
    "        if temps == 'futur' :\n",
    "            return Verbe.term_futur[groupe]\n",
    "        \n",
    "        if temps == 'cond_present' :\n",
    "            return Verbe.term_cond_present[groupe]"
   ]
  },
  {
   "cell_type": "code",
   "execution_count": null,
   "metadata": {},
   "outputs": [],
   "source": [
    "class PronomPersonnel :\n",
    "    # liste de pronoms\n",
    "    liste_pronoms = [\"je\", \"tu\", [\"il\", \"elle\"], \"nous\", \"vous\", [\"ils\", \"elles\"] ]\n",
    "               \n",
    "    # constructeur\n",
    "    def __init__(self, nombre, personne, genre=\"m\"):\n",
    "        # verification de la validite des donnees :\n",
    "        if nombre not in [\"sg\", \"pl\"] or personne not in [1,2,3] or genre not in [\"m\", \"f\"]:\n",
    "            print(\"Erreur ! Appel à PronomPersonnel avec arguments invalides.\")\n",
    "            return\n",
    "        \n",
    "        self.nombre = nombre\n",
    "        self.personne = personne\n",
    "        self.genre = genre\n",
    "        \n",
    "        if nombre == \"sg\" :\n",
    "            self.forme = PronomPersonnel.liste_pronoms[personne-1]\n",
    "        else :\n",
    "            self.forme = PronomPersonnel.liste_pronoms[personne+2]\n",
    "        \n",
    "        if personne == 3 :\n",
    "            if genre == \"m\":\n",
    "                self.forme = self.forme[0]\n",
    "            else :\n",
    "                self.forme = self.forme[1]\n",
    "                \n",
    "    # conversion en str\n",
    "    def __str__(self):\n",
    "        return self.forme + \" (\" + self.nombre + \",\" + str(self.personne) + self.genre + \")\"\n",
    "\n",
    "    # affichage de la liste des pronoms\n",
    "    @staticmethod\n",
    "    def pronoms():\n",
    "        print(PronomPersonnel.liste_pronoms)"
   ]
  },
  {
   "cell_type": "code",
   "execution_count": null,
   "metadata": {},
   "outputs": [],
   "source": []
  },
  {
   "cell_type": "markdown",
   "metadata": {},
   "source": [
    "## Pointers"
   ]
  },
  {
   "cell_type": "markdown",
   "metadata": {},
   "source": [
    "Une différence fondamentale existe entre les variables simples (int, float, bool, str...) et les objets, quant à la façon dont ils sont stockés dans la mémoire."
   ]
  },
  {
   "cell_type": "code",
   "execution_count": 20,
   "metadata": {},
   "outputs": [
    {
     "name": "stdout",
     "output_type": "stream",
     "text": [
      "True\n"
     ]
    }
   ],
   "source": [
    "x = 5\n",
    "y = 5\n",
    "print( x == y )"
   ]
  },
  {
   "cell_type": "code",
   "execution_count": 22,
   "metadata": {},
   "outputs": [
    {
     "name": "stdout",
     "output_type": "stream",
     "text": [
      "False\n"
     ]
    }
   ],
   "source": [
    "v1 = Verbe(\"penser\")\n",
    "v2 = Verbe(\"penser\")\n",
    "print (v1 == v2 )"
   ]
  },
  {
   "cell_type": "code",
   "execution_count": null,
   "metadata": {},
   "outputs": [],
   "source": [
    "print(v1)\n",
    "print(v2)"
   ]
  },
  {
   "cell_type": "markdown",
   "metadata": {},
   "source": [
    "Deux objets peuvent être différents, mais avoir les mêmes valeurs de touts les champs. La comparaison \"==\" vérifie s'il s'agit du même objet ou non."
   ]
  },
  {
   "cell_type": "markdown",
   "metadata": {},
   "source": [
    "De même, un même objet peut être accédé par différents noms de variables :"
   ]
  },
  {
   "cell_type": "code",
   "execution_count": 23,
   "metadata": {},
   "outputs": [
    {
     "name": "stdout",
     "output_type": "stream",
     "text": [
      "dormir : pens 1\n"
     ]
    }
   ],
   "source": [
    "v1 = Verbe(\"penser\")\n",
    "monVerbe = v1 ### Attention, ceci ne cree pas de copie de l'objet. Les deux variables pointent vers le meme objet !\n",
    "\n",
    "# modification de monVerbe :\n",
    "monVerbe.infinitif = \"dormir\"\n",
    "print(monVerbe)"
   ]
  },
  {
   "cell_type": "code",
   "execution_count": 24,
   "metadata": {},
   "outputs": [
    {
     "name": "stdout",
     "output_type": "stream",
     "text": [
      "dormir : pens 1\n"
     ]
    }
   ],
   "source": [
    "# observons les valeurs de v1 :\n",
    "print(v1)"
   ]
  },
  {
   "cell_type": "code",
   "execution_count": 25,
   "metadata": {},
   "outputs": [
    {
     "name": "stdout",
     "output_type": "stream",
     "text": [
      "dormir\n",
      "penser\n"
     ]
    }
   ],
   "source": [
    "# pour comparer, faisons la meme chose avec des chaines de caracteres :\n",
    "s1 = \"penser\"\n",
    "monStr = s1\n",
    "# modification de monStr :\n",
    "monStr = \"dormir\"\n",
    "print(monStr)\n",
    "print(s1)  # s1 n'a pas ete modifie !"
   ]
  },
  {
   "cell_type": "markdown",
   "metadata": {},
   "source": [
    "Quelles sont les raisons pour ce fonctionnement :\n",
    "- Le contenu d'une variable-objet, par ex. v1, est en fait un adresse de mémoire (pointer) qui contient les informations où sont stockés tous les champs de l'objet (adresses dans la mémoire).\n",
    "- Quand on fait une affectation (=), la nouvelle variable (monVerbe) contient la même valeur, et donc la même adresse mémoire qui pointe vers les mêmes adresses des champs."
   ]
  },
  {
   "cell_type": "markdown",
   "metadata": {},
   "source": [
    "Résultat :\n",
    "- l'affectation (=) ne crée pas de nouvelle copie d'un objet. Elle permet de donner un nouveau nom du même objet.\n",
    "- pour créer un nouvel objet, nous sommes obligés d'appeler le constructeur.\n",
    "- la comparaison entre deux objets (==) retourne True uniquement s'il s'agit du même objet."
   ]
  },
  {
   "cell_type": "markdown",
   "metadata": {},
   "source": [
    "Les listes, en tant que variables complexes, sont également des objets :"
   ]
  },
  {
   "cell_type": "code",
   "execution_count": 4,
   "metadata": {},
   "outputs": [
    {
     "name": "stdout",
     "output_type": "stream",
     "text": [
      "[1, 2, 3, 5, 10, 24]\n"
     ]
    }
   ],
   "source": [
    "liste1 = [1,2,3,5]\n",
    "liste2 = liste1\n",
    "liste2.append(10)\n",
    "liste2.append(24)\n",
    "\n",
    "print(liste1) "
   ]
  },
  {
   "cell_type": "markdown",
   "metadata": {},
   "source": [
    "La même chose est vrai pour les dictionnaires, ensembles, etc."
   ]
  },
  {
   "cell_type": "markdown",
   "metadata": {},
   "source": [
    "La fonction id() donne l'adresse mémoire d'un objet :"
   ]
  },
  {
   "cell_type": "code",
   "execution_count": 11,
   "metadata": {},
   "outputs": [
    {
     "name": "stdout",
     "output_type": "stream",
     "text": [
      "139839850106432\n",
      "139839850106432\n"
     ]
    }
   ],
   "source": [
    "print( id(liste1) )\n",
    "print( id(liste2) )"
   ]
  },
  {
   "cell_type": "code",
   "execution_count": 26,
   "metadata": {},
   "outputs": [
    {
     "name": "stdout",
     "output_type": "stream",
     "text": [
      "4424733840\n",
      "4424524464\n"
     ]
    }
   ],
   "source": [
    "v1 = Verbe(\"penser\")\n",
    "v2 = Verbe(\"penser\")\n",
    "print ( id(v1) )\n",
    "print ( id(v2) )"
   ]
  },
  {
   "cell_type": "markdown",
   "metadata": {},
   "source": [
    "### Créer une copie d'un objet avec copy.copy()"
   ]
  },
  {
   "cell_type": "code",
   "execution_count": 7,
   "metadata": {},
   "outputs": [
    {
     "name": "stdout",
     "output_type": "stream",
     "text": [
      "140483561825408\n",
      "140483823652736\n"
     ]
    }
   ],
   "source": [
    "import copy\n",
    "\n",
    "liste2 = copy.copy(liste1)\n",
    "\n",
    "print(id(liste1))\n",
    "print(id(liste2))"
   ]
  },
  {
   "cell_type": "code",
   "execution_count": null,
   "metadata": {},
   "outputs": [],
   "source": [
    "import copy\n",
    "\n",
    "v1 = Verbe(\"penser\")\n",
    "v2 = copy.copy(v1) # nouvelle copie, ce n'est plus le même objet"
   ]
  },
  {
   "cell_type": "code",
   "execution_count": null,
   "metadata": {},
   "outputs": [],
   "source": [
    "v2.infinitif = \"dormir\"\n",
    "print(v2)"
   ]
  },
  {
   "cell_type": "code",
   "execution_count": null,
   "metadata": {},
   "outputs": [],
   "source": [
    "print(v1)"
   ]
  },
  {
   "cell_type": "markdown",
   "metadata": {},
   "source": [
    "Voir documentation ici : https://docs.python.org/fr/3/library/copy.html\n",
    "\n",
    "Deux possibilités :\n",
    "- copy.copy()\n",
    "- copy.deepcopy()"
   ]
  }
 ],
 "metadata": {
  "kernelspec": {
   "display_name": "Python 3.9.10 64-bit",
   "language": "python",
   "name": "python3"
  },
  "language_info": {
   "codemirror_mode": {
    "name": "ipython",
    "version": 3
   },
   "file_extension": ".py",
   "mimetype": "text/x-python",
   "name": "python",
   "nbconvert_exporter": "python",
   "pygments_lexer": "ipython3",
   "version": "3.9.6"
  },
  "vscode": {
   "interpreter": {
    "hash": "b0fa6594d8f4cbf19f97940f81e996739fb7646882a419484c72d19e05852a7e"
   }
  }
 },
 "nbformat": 4,
 "nbformat_minor": 4
}
