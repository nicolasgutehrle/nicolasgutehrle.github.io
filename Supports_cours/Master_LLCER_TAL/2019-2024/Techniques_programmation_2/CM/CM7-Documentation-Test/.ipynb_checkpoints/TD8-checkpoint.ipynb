{
 "cells": [
  {
   "cell_type": "markdown",
   "metadata": {},
   "source": [
    "# TD8 - Erreurs"
   ]
  },
  {
   "cell_type": "code",
   "execution_count": null,
   "metadata": {},
   "outputs": [],
   "source": []
  },
  {
   "cell_type": "code",
   "execution_count": null,
   "metadata": {},
   "outputs": [],
   "source": []
  },
  {
   "cell_type": "markdown",
   "metadata": {},
   "source": [
    "# Exercice 2\n",
    "\n",
    "Créez une fonction ``plusPopulaire()`` qui prend en argument une liste d'objets héritant de la classe ``ReseauSocial``. Dans cette fonction, calculez la popularité de chaque réseau contenu dans la liste. La fonction doit retourner le réseau le plus populaire. Dans la suite du code, testez votre fonction, en jouant avec les paramètres de chaque instance de classe."
   ]
  },
  {
   "cell_type": "markdown",
   "metadata": {},
   "source": [
    "## Solution"
   ]
  },
  {
   "cell_type": "code",
   "execution_count": 33,
   "metadata": {},
   "outputs": [],
   "source": [
    "def plusPopulaire(list_reseaux):\n",
    "    \"\"\"\n",
    "    Retourne le réseau social le plus populaire de la liste\n",
    "    :param list_reseaux: list[ReseauSocial]\n",
    "    :return ReseauSocial\n",
    "    \"\"\"\n",
    "    list_popularite = []\n",
    "    for reseau in list_reseaux:\n",
    "        list_popularite.append(reseau.popularite)\n",
    "    max_value = max(list_popularite)\n",
    "    for reseau in list_reseaux:\n",
    "        if reseau.popularite == max_value:\n",
    "            return reseau"
   ]
  },
  {
   "cell_type": "code",
   "execution_count": 35,
   "metadata": {},
   "outputs": [
    {
     "name": "stdout",
     "output_type": "stream",
     "text": [
      "Nom :blog Adherents: 1000, Posts: 200 Popularite: 200\n"
     ]
    }
   ],
   "source": [
    "list_reseaux = [perso, image, blog]\n",
    "pop = plusPopulaire(list_reseaux)\n",
    "print(pop)"
   ]
  },
  {
   "cell_type": "markdown",
   "metadata": {},
   "source": [
    "## Exercice 4\n",
    "\n",
    "Modifiez le constructeur de la classe ``VehiculeAMoteur`` (après avoir appelé le super constructeur) pour contrôler que l'utilisateur entre bien soit \"essence\" soit \"diesel\" comme valeur pour le type de moteur. Si ce n'est pas le cas, le programme doit renvoyer le message d'erreur ``\"Le moteur est soit diesel ou essence\"``. \n",
    "Créez ensuite une instance de la classe ``Voiture`` et essayez d'indiquer des valeurs correctes et incorrectes pour la propriétés ``moteur``.\n",
    "\n",
    "Modifiez le constructeur de la classe ``Voiture`` (après avoir appelé le super constructeur) pour contrôler que l'utilisateur entre bien soit 3 soit 5 comme valeur pour le nombre de porte. Si ce n'est pas le cas, le programme doit renvoyer le message d'erreur ``\"Le nombre de portes doit être 3 ou 5\"``. \n",
    "Créez ensuite une instance de la classe ``Voiture`` et essayez d'indiquer un nombre de portes correct puis incorrect"
   ]
  },
  {
   "cell_type": "markdown",
   "metadata": {},
   "source": [
    "## Solution"
   ]
  },
  {
   "cell_type": "code",
   "execution_count": 14,
   "metadata": {},
   "outputs": [],
   "source": [
    "class VehiculeAMoteur(Vehicule):\n",
    "    def __init__(self,roues, direction, siege, moteur):\n",
    "        super().__init__(roues, direction, siege)\n",
    "        if moteur not in ('essence', 'diesel'):\n",
    "            raise Exception('Le moteur est soit diesel ou essence')\n",
    "        else:\n",
    "            self.moteur = moteur\n",
    "        \n",
    "    def demarrer(self):\n",
    "        print('Le véhicule à moteur démarre')"
   ]
  },
  {
   "cell_type": "code",
   "execution_count": 15,
   "metadata": {},
   "outputs": [
    {
     "name": "stdout",
     "output_type": "stream",
     "text": [
      "Le véhicule à moteur démarre\n"
     ]
    }
   ],
   "source": [
    "vehicule = VehiculeAMoteur(4, 'volant', 'fauteuil', 'essence')\n",
    "vehicule.demarrer()"
   ]
  },
  {
   "cell_type": "code",
   "execution_count": 16,
   "metadata": {},
   "outputs": [
    {
     "ename": "Exception",
     "evalue": "Le moteur est soit diesel ou essence",
     "output_type": "error",
     "traceback": [
      "\u001b[0;31m---------------------------------------------------------------------------\u001b[0m",
      "\u001b[0;31mException\u001b[0m                                 Traceback (most recent call last)",
      "\u001b[0;32m<ipython-input-16-f67778a56af1>\u001b[0m in \u001b[0;36m<module>\u001b[0;34m\u001b[0m\n\u001b[0;32m----> 1\u001b[0;31m \u001b[0mvehicule\u001b[0m \u001b[0;34m=\u001b[0m \u001b[0mVehiculeAMoteur\u001b[0m\u001b[0;34m(\u001b[0m\u001b[0;36m4\u001b[0m\u001b[0;34m,\u001b[0m \u001b[0;34m'volant'\u001b[0m\u001b[0;34m,\u001b[0m \u001b[0;34m'fauteuil'\u001b[0m\u001b[0;34m,\u001b[0m \u001b[0;34m'gazoil'\u001b[0m\u001b[0;34m)\u001b[0m\u001b[0;34m\u001b[0m\u001b[0;34m\u001b[0m\u001b[0m\n\u001b[0m\u001b[1;32m      2\u001b[0m \u001b[0mvehicule\u001b[0m\u001b[0;34m.\u001b[0m\u001b[0mdemarrer\u001b[0m\u001b[0;34m(\u001b[0m\u001b[0;34m)\u001b[0m\u001b[0;34m\u001b[0m\u001b[0;34m\u001b[0m\u001b[0m\n",
      "\u001b[0;32m<ipython-input-14-032446a402ed>\u001b[0m in \u001b[0;36m__init__\u001b[0;34m(self, roues, direction, siege, moteur)\u001b[0m\n\u001b[1;32m      3\u001b[0m         \u001b[0msuper\u001b[0m\u001b[0;34m(\u001b[0m\u001b[0;34m)\u001b[0m\u001b[0;34m.\u001b[0m\u001b[0m__init__\u001b[0m\u001b[0;34m(\u001b[0m\u001b[0mroues\u001b[0m\u001b[0;34m,\u001b[0m \u001b[0mdirection\u001b[0m\u001b[0;34m,\u001b[0m \u001b[0msiege\u001b[0m\u001b[0;34m)\u001b[0m\u001b[0;34m\u001b[0m\u001b[0;34m\u001b[0m\u001b[0m\n\u001b[1;32m      4\u001b[0m         \u001b[0;32mif\u001b[0m \u001b[0mmoteur\u001b[0m \u001b[0;32mnot\u001b[0m \u001b[0;32min\u001b[0m \u001b[0;34m(\u001b[0m\u001b[0;34m'essence'\u001b[0m\u001b[0;34m,\u001b[0m \u001b[0;34m'diesel'\u001b[0m\u001b[0;34m)\u001b[0m\u001b[0;34m:\u001b[0m\u001b[0;34m\u001b[0m\u001b[0;34m\u001b[0m\u001b[0m\n\u001b[0;32m----> 5\u001b[0;31m             \u001b[0;32mraise\u001b[0m \u001b[0mException\u001b[0m\u001b[0;34m(\u001b[0m\u001b[0;34m'Le moteur est soit diesel ou essence'\u001b[0m\u001b[0;34m)\u001b[0m\u001b[0;34m\u001b[0m\u001b[0;34m\u001b[0m\u001b[0m\n\u001b[0m\u001b[1;32m      6\u001b[0m         \u001b[0;32melse\u001b[0m\u001b[0;34m:\u001b[0m\u001b[0;34m\u001b[0m\u001b[0;34m\u001b[0m\u001b[0m\n\u001b[1;32m      7\u001b[0m             \u001b[0mself\u001b[0m\u001b[0;34m.\u001b[0m\u001b[0mmoteur\u001b[0m \u001b[0;34m=\u001b[0m \u001b[0mmoteur\u001b[0m\u001b[0;34m\u001b[0m\u001b[0;34m\u001b[0m\u001b[0m\n",
      "\u001b[0;31mException\u001b[0m: Le moteur est soit diesel ou essence"
     ]
    }
   ],
   "source": [
    "vehicule = VehiculeAMoteur(4, 'volant', 'fauteuil', 'gazoil')\n",
    "vehicule.demarrer()"
   ]
  },
  {
   "cell_type": "code",
   "execution_count": 27,
   "metadata": {},
   "outputs": [],
   "source": [
    "class Voiture(VehiculeAMoteur):\n",
    "    def __init__(self, roues, direction, siege, moteur, portes):\n",
    "        super().__init__(roues, direction, siege, moteur)\n",
    "        if portes not in (3, 5):\n",
    "            raise Exception('Le nombre de portes doit être 3 ou 5')\n",
    "        else:\n",
    "            self.portes = portes\n",
    "        \n",
    "    def demarrer(self):\n",
    "        print(\"La voiture démarre\")\n"
   ]
  },
  {
   "cell_type": "code",
   "execution_count": 28,
   "metadata": {},
   "outputs": [
    {
     "name": "stdout",
     "output_type": "stream",
     "text": [
      "La voiture démarre\n"
     ]
    }
   ],
   "source": [
    "voiture = Voiture(4, 'volant', 'fauteuil', 'essence', 5)\n",
    "voiture.demarrer()"
   ]
  },
  {
   "cell_type": "code",
   "execution_count": 29,
   "metadata": {},
   "outputs": [
    {
     "ename": "Exception",
     "evalue": "Le nombre de portes doit être 3 ou 5",
     "output_type": "error",
     "traceback": [
      "\u001b[0;31m---------------------------------------------------------------------------\u001b[0m",
      "\u001b[0;31mException\u001b[0m                                 Traceback (most recent call last)",
      "\u001b[0;32m<ipython-input-29-a6fb7fbeda73>\u001b[0m in \u001b[0;36m<module>\u001b[0;34m\u001b[0m\n\u001b[0;32m----> 1\u001b[0;31m \u001b[0mvoiture\u001b[0m \u001b[0;34m=\u001b[0m \u001b[0mVoiture\u001b[0m\u001b[0;34m(\u001b[0m\u001b[0;36m4\u001b[0m\u001b[0;34m,\u001b[0m \u001b[0;34m'volant'\u001b[0m\u001b[0;34m,\u001b[0m \u001b[0;34m'fauteuil'\u001b[0m\u001b[0;34m,\u001b[0m \u001b[0;34m'essence'\u001b[0m\u001b[0;34m,\u001b[0m \u001b[0;36m4\u001b[0m\u001b[0;34m)\u001b[0m\u001b[0;34m\u001b[0m\u001b[0;34m\u001b[0m\u001b[0m\n\u001b[0m\u001b[1;32m      2\u001b[0m \u001b[0mvoiture\u001b[0m\u001b[0;34m.\u001b[0m\u001b[0mdemarrer\u001b[0m\u001b[0;34m(\u001b[0m\u001b[0;34m)\u001b[0m\u001b[0;34m\u001b[0m\u001b[0;34m\u001b[0m\u001b[0m\n",
      "\u001b[0;32m<ipython-input-27-fc926253c911>\u001b[0m in \u001b[0;36m__init__\u001b[0;34m(self, roues, direction, siege, moteur, portes)\u001b[0m\n\u001b[1;32m      3\u001b[0m         \u001b[0msuper\u001b[0m\u001b[0;34m(\u001b[0m\u001b[0;34m)\u001b[0m\u001b[0;34m.\u001b[0m\u001b[0m__init__\u001b[0m\u001b[0;34m(\u001b[0m\u001b[0mroues\u001b[0m\u001b[0;34m,\u001b[0m \u001b[0mdirection\u001b[0m\u001b[0;34m,\u001b[0m \u001b[0msiege\u001b[0m\u001b[0;34m,\u001b[0m \u001b[0mmoteur\u001b[0m\u001b[0;34m)\u001b[0m\u001b[0;34m\u001b[0m\u001b[0;34m\u001b[0m\u001b[0m\n\u001b[1;32m      4\u001b[0m         \u001b[0;32mif\u001b[0m \u001b[0mportes\u001b[0m \u001b[0;32mnot\u001b[0m \u001b[0;32min\u001b[0m \u001b[0;34m(\u001b[0m\u001b[0;36m3\u001b[0m\u001b[0;34m,\u001b[0m \u001b[0;36m5\u001b[0m\u001b[0;34m)\u001b[0m\u001b[0;34m:\u001b[0m\u001b[0;34m\u001b[0m\u001b[0;34m\u001b[0m\u001b[0m\n\u001b[0;32m----> 5\u001b[0;31m             \u001b[0;32mraise\u001b[0m \u001b[0mException\u001b[0m\u001b[0;34m(\u001b[0m\u001b[0;34m'Le nombre de portes doit être 3 ou 5'\u001b[0m\u001b[0;34m)\u001b[0m\u001b[0;34m\u001b[0m\u001b[0;34m\u001b[0m\u001b[0m\n\u001b[0m\u001b[1;32m      6\u001b[0m         \u001b[0;32melse\u001b[0m\u001b[0;34m:\u001b[0m\u001b[0;34m\u001b[0m\u001b[0;34m\u001b[0m\u001b[0m\n\u001b[1;32m      7\u001b[0m             \u001b[0mself\u001b[0m\u001b[0;34m.\u001b[0m\u001b[0mportes\u001b[0m \u001b[0;34m=\u001b[0m \u001b[0mportes\u001b[0m\u001b[0;34m\u001b[0m\u001b[0;34m\u001b[0m\u001b[0m\n",
      "\u001b[0;31mException\u001b[0m: Le nombre de portes doit être 3 ou 5"
     ]
    }
   ],
   "source": [
    "voiture = Voiture(4, 'volant', 'fauteuil', 'essence', 4)\n",
    "voiture.demarrer()"
   ]
  },
  {
   "cell_type": "code",
   "execution_count": 30,
   "metadata": {},
   "outputs": [
    {
     "ename": "Exception",
     "evalue": "Le moteur est soit diesel ou essence",
     "output_type": "error",
     "traceback": [
      "\u001b[0;31m---------------------------------------------------------------------------\u001b[0m",
      "\u001b[0;31mException\u001b[0m                                 Traceback (most recent call last)",
      "\u001b[0;32m<ipython-input-30-a566214e5ca0>\u001b[0m in \u001b[0;36m<module>\u001b[0;34m\u001b[0m\n\u001b[0;32m----> 1\u001b[0;31m \u001b[0mvoiture\u001b[0m \u001b[0;34m=\u001b[0m \u001b[0mVoiture\u001b[0m\u001b[0;34m(\u001b[0m\u001b[0;36m4\u001b[0m\u001b[0;34m,\u001b[0m \u001b[0;34m'volant'\u001b[0m\u001b[0;34m,\u001b[0m \u001b[0;34m'fauteuil'\u001b[0m\u001b[0;34m,\u001b[0m \u001b[0;34m'oui'\u001b[0m\u001b[0;34m,\u001b[0m \u001b[0;36m5\u001b[0m\u001b[0;34m)\u001b[0m\u001b[0;34m\u001b[0m\u001b[0;34m\u001b[0m\u001b[0m\n\u001b[0m\u001b[1;32m      2\u001b[0m \u001b[0mvoiture\u001b[0m\u001b[0;34m.\u001b[0m\u001b[0mdemarrer\u001b[0m\u001b[0;34m(\u001b[0m\u001b[0;34m)\u001b[0m\u001b[0;34m\u001b[0m\u001b[0;34m\u001b[0m\u001b[0m\n",
      "\u001b[0;32m<ipython-input-27-fc926253c911>\u001b[0m in \u001b[0;36m__init__\u001b[0;34m(self, roues, direction, siege, moteur, portes)\u001b[0m\n\u001b[1;32m      1\u001b[0m \u001b[0;32mclass\u001b[0m \u001b[0mVoiture\u001b[0m\u001b[0;34m(\u001b[0m\u001b[0mVehiculeAMoteur\u001b[0m\u001b[0;34m)\u001b[0m\u001b[0;34m:\u001b[0m\u001b[0;34m\u001b[0m\u001b[0;34m\u001b[0m\u001b[0m\n\u001b[1;32m      2\u001b[0m     \u001b[0;32mdef\u001b[0m \u001b[0m__init__\u001b[0m\u001b[0;34m(\u001b[0m\u001b[0mself\u001b[0m\u001b[0;34m,\u001b[0m \u001b[0mroues\u001b[0m\u001b[0;34m,\u001b[0m \u001b[0mdirection\u001b[0m\u001b[0;34m,\u001b[0m \u001b[0msiege\u001b[0m\u001b[0;34m,\u001b[0m \u001b[0mmoteur\u001b[0m\u001b[0;34m,\u001b[0m \u001b[0mportes\u001b[0m\u001b[0;34m)\u001b[0m\u001b[0;34m:\u001b[0m\u001b[0;34m\u001b[0m\u001b[0;34m\u001b[0m\u001b[0m\n\u001b[0;32m----> 3\u001b[0;31m         \u001b[0msuper\u001b[0m\u001b[0;34m(\u001b[0m\u001b[0;34m)\u001b[0m\u001b[0;34m.\u001b[0m\u001b[0m__init__\u001b[0m\u001b[0;34m(\u001b[0m\u001b[0mroues\u001b[0m\u001b[0;34m,\u001b[0m \u001b[0mdirection\u001b[0m\u001b[0;34m,\u001b[0m \u001b[0msiege\u001b[0m\u001b[0;34m,\u001b[0m \u001b[0mmoteur\u001b[0m\u001b[0;34m)\u001b[0m\u001b[0;34m\u001b[0m\u001b[0;34m\u001b[0m\u001b[0m\n\u001b[0m\u001b[1;32m      4\u001b[0m         \u001b[0;32mif\u001b[0m \u001b[0mportes\u001b[0m \u001b[0;32mnot\u001b[0m \u001b[0;32min\u001b[0m \u001b[0;34m(\u001b[0m\u001b[0;36m3\u001b[0m\u001b[0;34m,\u001b[0m \u001b[0;36m5\u001b[0m\u001b[0;34m)\u001b[0m\u001b[0;34m:\u001b[0m\u001b[0;34m\u001b[0m\u001b[0;34m\u001b[0m\u001b[0m\n\u001b[1;32m      5\u001b[0m             \u001b[0;32mraise\u001b[0m \u001b[0mException\u001b[0m\u001b[0;34m(\u001b[0m\u001b[0;34m'Le nombre de portes doit être 3 ou 5'\u001b[0m\u001b[0;34m)\u001b[0m\u001b[0;34m\u001b[0m\u001b[0;34m\u001b[0m\u001b[0m\n",
      "\u001b[0;32m<ipython-input-26-032446a402ed>\u001b[0m in \u001b[0;36m__init__\u001b[0;34m(self, roues, direction, siege, moteur)\u001b[0m\n\u001b[1;32m      3\u001b[0m         \u001b[0msuper\u001b[0m\u001b[0;34m(\u001b[0m\u001b[0;34m)\u001b[0m\u001b[0;34m.\u001b[0m\u001b[0m__init__\u001b[0m\u001b[0;34m(\u001b[0m\u001b[0mroues\u001b[0m\u001b[0;34m,\u001b[0m \u001b[0mdirection\u001b[0m\u001b[0;34m,\u001b[0m \u001b[0msiege\u001b[0m\u001b[0;34m)\u001b[0m\u001b[0;34m\u001b[0m\u001b[0;34m\u001b[0m\u001b[0m\n\u001b[1;32m      4\u001b[0m         \u001b[0;32mif\u001b[0m \u001b[0mmoteur\u001b[0m \u001b[0;32mnot\u001b[0m \u001b[0;32min\u001b[0m \u001b[0;34m(\u001b[0m\u001b[0;34m'essence'\u001b[0m\u001b[0;34m,\u001b[0m \u001b[0;34m'diesel'\u001b[0m\u001b[0;34m)\u001b[0m\u001b[0;34m:\u001b[0m\u001b[0;34m\u001b[0m\u001b[0;34m\u001b[0m\u001b[0m\n\u001b[0;32m----> 5\u001b[0;31m             \u001b[0;32mraise\u001b[0m \u001b[0mException\u001b[0m\u001b[0;34m(\u001b[0m\u001b[0;34m'Le moteur est soit diesel ou essence'\u001b[0m\u001b[0;34m)\u001b[0m\u001b[0;34m\u001b[0m\u001b[0;34m\u001b[0m\u001b[0m\n\u001b[0m\u001b[1;32m      6\u001b[0m         \u001b[0;32melse\u001b[0m\u001b[0;34m:\u001b[0m\u001b[0;34m\u001b[0m\u001b[0;34m\u001b[0m\u001b[0m\n\u001b[1;32m      7\u001b[0m             \u001b[0mself\u001b[0m\u001b[0;34m.\u001b[0m\u001b[0mmoteur\u001b[0m \u001b[0;34m=\u001b[0m \u001b[0mmoteur\u001b[0m\u001b[0;34m\u001b[0m\u001b[0;34m\u001b[0m\u001b[0m\n",
      "\u001b[0;31mException\u001b[0m: Le moteur est soit diesel ou essence"
     ]
    }
   ],
   "source": [
    "voiture = Voiture(4, 'volant', 'fauteuil', 'oui', 5)\n",
    "voiture.demarrer()"
   ]
  },
  {
   "cell_type": "code",
   "execution_count": null,
   "metadata": {},
   "outputs": [],
   "source": []
  },
  {
   "cell_type": "markdown",
   "metadata": {},
   "source": [
    "## Exercice 5\n",
    "\n",
    "Créez une fonction (donc en dehors de toutes classes) nommée ``calculerVitesse``, qui prend en argument une instance d'une des types de véhicules définis plus haut. Votre fonction doit appliquer la logique suivante:\n",
    "* Une véhicule à essence à une vitesse de base de 1 tandis qu'un véhicule diesel à une vitesse de base de 2.\n",
    "* La vitesse du véhicule est égale au type de moteur divisé par le nombre de roues. Votre fonction doit retourner la vitesse obtenue. \n",
    "\n",
    "Vous testerez votre fonction avec une instance de chaque type de Vehicule (Camion, Moto, Voiture, Velo et Trottinette). Votre fonction doit gérer les éventuelles erreurs liées au type de Véhicule donné en argument. N'hésitez pas à écrire votre fonction puis à revenir dessus après avoir fait des tests pour ajouter la gestion d'erreurs.\n",
    "\n"
   ]
  },
  {
   "cell_type": "markdown",
   "metadata": {},
   "source": [
    "## Solution"
   ]
  },
  {
   "cell_type": "code",
   "execution_count": 36,
   "metadata": {},
   "outputs": [],
   "source": [
    "def calculerVitesse(vehicule):\n",
    "    try:\n",
    "        if vehicule.moteur == 'essence':\n",
    "            vitesse_moteur = 1\n",
    "        else:\n",
    "            vitesse_moteur = 2\n",
    "\n",
    "        vitesse_vehicule = vitesse_moteur / vehicule.roues\n",
    "        return vitesse_vehicule\n",
    "    except AttributeError:\n",
    "        print(\"Ce vehicule n'a pas de moteur\")"
   ]
  },
  {
   "cell_type": "code",
   "execution_count": 38,
   "metadata": {},
   "outputs": [
    {
     "data": {
      "text/plain": [
       "0.25"
      ]
     },
     "execution_count": 38,
     "metadata": {},
     "output_type": "execute_result"
    }
   ],
   "source": [
    "calculerVitesse(voiture)"
   ]
  },
  {
   "cell_type": "code",
   "execution_count": null,
   "metadata": {},
   "outputs": [],
   "source": []
  },
  {
   "cell_type": "markdown",
   "metadata": {},
   "source": [
    "## Exercice 6\n",
    "\n",
    "Modifiez la fonction ``calculerVitesse`` pour prendre en compte les véhicules sans moteur grâce à la gestion d'erreur ``try...except``. Par défaut, la vitesse de base d'un véhicule sans moteur est de 0.5. Votre fonction doit retourner la vitesse de ce véhicule, qu'elle rencontre une erreur ou pas.\n",
    "\n"
   ]
  },
  {
   "cell_type": "markdown",
   "metadata": {},
   "source": [
    "## Solution"
   ]
  },
  {
   "cell_type": "code",
   "execution_count": 39,
   "metadata": {},
   "outputs": [],
   "source": [
    "def calculerVitesse(vehicule):\n",
    "    try:\n",
    "        if vehicule.moteur == 'essence':\n",
    "            vitesse_moteur = 1\n",
    "        else:\n",
    "            vitesse_moteur = 2\n",
    "\n",
    "    except AttributeError:\n",
    "        vitesse_moteur = 0.5\n",
    "    finally:\n",
    "        vitesse_vehicule = vitesse_moteur / vehicule.roues\n",
    "        return vitesse_vehicule\n"
   ]
  },
  {
   "cell_type": "code",
   "execution_count": 47,
   "metadata": {},
   "outputs": [
    {
     "data": {
      "text/plain": [
       "0.125"
      ]
     },
     "execution_count": 47,
     "metadata": {},
     "output_type": "execute_result"
    }
   ],
   "source": [
    "calculerVitesse(trottinette)"
   ]
  },
  {
   "cell_type": "code",
   "execution_count": null,
   "metadata": {},
   "outputs": [],
   "source": []
  },
  {
   "cell_type": "markdown",
   "metadata": {},
   "source": [
    "# Exercice 7\n",
    "\n",
    "Créez une fonction ``comparerVitesse``, qui prend une liste de Vehicules. Votre fonction doit calculer la vitesse de chaque véhicule de cette liste et retourner le Vehicule qui a la vitesse la plus importante.\n",
    "\n",
    "### Note:\n",
    "Si vous ne savez pas comment trouver la valeur maximale d'une liste, n'hésitez pas à vous aider d'Internet pour trouver la réponse"
   ]
  },
  {
   "cell_type": "markdown",
   "metadata": {},
   "source": [
    "## Solution"
   ]
  },
  {
   "cell_type": "code",
   "execution_count": 48,
   "metadata": {},
   "outputs": [],
   "source": [
    "def comparerVitesse(list_vehicules):\n",
    "    list_vitesse = []\n",
    "    for vehicule in list_vehicules:\n",
    "        vitesse_vehicule = calculerVitesse(vehicule)\n",
    "        list_vitesse.append(vitesse_vehicule)\n",
    "    return max(list_vitesse)"
   ]
  },
  {
   "cell_type": "code",
   "execution_count": 49,
   "metadata": {},
   "outputs": [
    {
     "data": {
      "text/plain": [
       "0.5"
      ]
     },
     "execution_count": 49,
     "metadata": {},
     "output_type": "execute_result"
    }
   ],
   "source": [
    "comparerVitesse([voiture, camion, moto])"
   ]
  }
 ],
 "metadata": {
  "kernelspec": {
   "display_name": "Python 3",
   "language": "python",
   "name": "python3"
  },
  "language_info": {
   "codemirror_mode": {
    "name": "ipython",
    "version": 3
   },
   "file_extension": ".py",
   "mimetype": "text/x-python",
   "name": "python",
   "nbconvert_exporter": "python",
   "pygments_lexer": "ipython3",
   "version": "3.8.5"
  }
 },
 "nbformat": 4,
 "nbformat_minor": 4
}
