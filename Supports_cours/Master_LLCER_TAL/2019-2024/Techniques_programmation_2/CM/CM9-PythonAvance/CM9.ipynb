{
 "cells": [
  {
   "attachments": {},
   "cell_type": "markdown",
   "metadata": {},
   "source": [
    "# CM9 - Python avancé\n",
    "\n",
    "Ces CM et TD concentrent plusieurs outils avancés en Python. "
   ]
  },
  {
   "attachments": {},
   "cell_type": "markdown",
   "metadata": {},
   "source": [
    "# 1 - Généraux"
   ]
  },
  {
   "cell_type": "markdown",
   "metadata": {},
   "source": [
    "## Ouvrir un fichier avec with\n",
    "\n",
    "En Python, with est un **context manager**. Il est surtout utilisé pour ouvrir un fichier, et garantie que celui ci est correctement fermé après lecture.\n",
    "\n",
    "Doc : https://realpython.com/python-with-statement/"
   ]
  },
  {
   "cell_type": "code",
   "execution_count": 1,
   "metadata": {},
   "outputs": [
    {
     "name": "stdout",
     "output_type": "stream",
     "text": [
      "One Ring to rule them all,\n",
      "One ring to find them;\n",
      "One ring to bring them all and in the darkness bind them.\n"
     ]
    }
   ],
   "source": [
    "with open('corpus.txt', encoding='utf-8') as f:\n",
    "    file = f.read()\n",
    "\n",
    "print(file)"
   ]
  },
  {
   "attachments": {},
   "cell_type": "markdown",
   "metadata": {},
   "source": [
    "## Comprehension\n",
    "\n",
    "Les comprehension sont des variables créées en une seule ligne de code, en passant par une boucle for. Elles permettent de (parfois) simplifier la lecture du code. Elles ont la structure suivante:\n",
    "\n",
    "* list comprehension: [variable for variable in iterable]\n",
    "\n",
    "* dict comprehension: {variable[0] : variable[1] for variable in iterable }\n",
    "\n",
    "* generator comprehension : (variable for variable in iterable)\n",
    "\n",
    "Doc : https://docs.python.org/3/tutorial/datastructures.html#list-comprehensions"
   ]
  },
  {
   "cell_type": "code",
   "execution_count": 3,
   "metadata": {},
   "outputs": [
    {
     "name": "stdout",
     "output_type": "stream",
     "text": [
      "[2, 4, 6, 8]\n",
      "[1, 2, 3, 4, 5, 6, 7, 8]\n"
     ]
    }
   ],
   "source": [
    "# façon classique\n",
    "list_test = []\n",
    "for element in [1,2,3,4,5,6,7,8]:\n",
    "    if element % 2 == 0:\n",
    "        list_test.append(element)\n",
    "print(list_test)\n",
    "\n",
    "# list comprehension\n",
    "list_test = [element for element in [1,2,3,4,5,6,7,8]   if element % 2 == 0]\n",
    "print(list_test)\n"
   ]
  },
  {
   "cell_type": "code",
   "execution_count": 4,
   "metadata": {},
   "outputs": [
    {
     "name": "stdout",
     "output_type": "stream",
     "text": [
      "{'2': 2, '4': 4, '6': 6, '8': 8}\n",
      "{'2': 2, '4': 4, '6': 6, '8': 8}\n"
     ]
    }
   ],
   "source": [
    "# façon classique\n",
    "dic_test = {}\n",
    "for element in [1,2,3,4,5,6,7,8]:\n",
    "    if element % 2 == 0:\n",
    "        dic_test[f\"{element}\"] = element\n",
    "print(dic_test)\n",
    "\n",
    "# dict comprehension\n",
    "dic_test = {f\"{element}\" : element for element in [1,2,3,4,5,6,7,8] if element % 2 == 0}\n",
    "print(dic_test)\n"
   ]
  },
  {
   "cell_type": "code",
   "execution_count": 5,
   "metadata": {},
   "outputs": [
    {
     "name": "stdout",
     "output_type": "stream",
     "text": [
      "['a', 1, 'b', 2, 'c', 3, 'd', 4, 'e', 5]\n"
     ]
    }
   ],
   "source": [
    "# Parfois on a affaire à des liste enchâssées (nested list). \n",
    "# Les list comprehension sont très utiles pour applatir ces listes\n",
    "\n",
    "nested_list = [\n",
    "    ['a', 1],\n",
    "    ['b', 2],\n",
    "    ['c', 3],\n",
    "    ['d', 4],\n",
    "    ['e', 5]\n",
    "]\n",
    "\n",
    "# on a 2 boucles for: la première parcourt chaque liste dans nested_list, la seconde parcourt chaque élement de la sous-liste\n",
    "flat_list = [value for list_values in nested_list for value in list_values]\n",
    "print(flat_list)\n",
    "\n"
   ]
  },
  {
   "cell_type": "markdown",
   "metadata": {},
   "source": [
    "## set\n",
    "\n",
    "Le type **set** correspond aux ensemble. Les ensemble ont pour particularité de ne contenir que des éléments uniques. Ils ont également des opérations qui leurs sont propres (voir la théorie des ensembles).\n",
    "\n",
    "Les opérations présentées ci-dessous sont les opérations de bases, mais il y en a d'autres.\n",
    "\n",
    "Doc : https://docs.python.org/3/tutorial/datastructures.html#sets"
   ]
  },
  {
   "cell_type": "code",
   "execution_count": 6,
   "metadata": {},
   "outputs": [
    {
     "name": "stdout",
     "output_type": "stream",
     "text": [
      "Set_moteur_portes {'camion', 'voiture'}\n",
      "set_vehicules {'camion', 'trotinette', 'velo', 'moto', 'voiture'}\n",
      "set_moteur {'camion', 'voiture', 'moto'}\n",
      "set_symetric {'moto'}\n"
     ]
    }
   ],
   "source": [
    "set_moteur = set(['voiture', 'camion', 'moto'])\n",
    "set_portes = set(['voiture', 'camion'])\n",
    "\n",
    "# intersection est l'ensemble des éléments présents dans deux ensemble (à leur intersection)\n",
    "set_moteur_portes = set_moteur.intersection(set_portes)\n",
    "print('Set_moteur_portes', set_moteur_portes)\n",
    "\n",
    "set_no_moteur = set(['velo', 'trotinette'])\n",
    "\n",
    "# union est la somme de deux ensemble, en ne conservant que les elements uniques\n",
    "set_vehicules = set_moteur.union(set_no_moteur)\n",
    "print('set_vehicules', set_vehicules)\n",
    "\n",
    "# difference indique les élements présents uniquement dans un ensemble A\n",
    "set_moteur = set_vehicules.difference(set_no_moteur)\n",
    "print('set_moteur', set_moteur)\n",
    "\n",
    "# différence symétrique indique les élements unique présents dans chaque ensemble mais qui ne sont pas partagés.\n",
    "# c'est l'opposé de intersection\n",
    "set_symetric = set_moteur.symmetric_difference(set_portes)\n",
    "print('set_symetric', set_symetric)"
   ]
  },
  {
   "cell_type": "code",
   "execution_count": null,
   "metadata": {},
   "outputs": [],
   "source": [
    "list_elements = [1,2,3,4,2,3,4,5,6]\n",
    "autre = []\n",
    "for x in list_elements:\n",
    "    if x not in autre:\n",
    "        autre.append(x)"
   ]
  },
  {
   "cell_type": "code",
   "execution_count": null,
   "metadata": {},
   "outputs": [
    {
     "name": "stdout",
     "output_type": "stream",
     "text": [
      "{1, 2, 3, 4, 5, 6}\n",
      "{1, 2, 3, 4, 5, 6}\n"
     ]
    }
   ],
   "source": [
    "# premiere methode pour creer un set: on lui donne une liste d'elements\n",
    "list_elements = [1,2,3,4,2,3,4,5,6]\n",
    "set_elements = set(list_elements)\n",
    "print(set_elements)\n",
    "\n",
    "# seconde methode: on ajoute chaque element avec la methode add()\n",
    "set_elements = set()\n",
    "for element in list_elements:\n",
    "    set_elements.add(element)\n",
    "\n",
    "print(set_elements)\n",
    "\n"
   ]
  },
  {
   "cell_type": "markdown",
   "metadata": {},
   "source": [
    "## Zip\n",
    "\n",
    "La fonction zip() permet de parcourir plusieurs iterables en même temps. Ces iterables doivent avoir la même longueur.\n",
    "\n",
    "Doc : https://docs.python.org/3/library/functions.html#zip"
   ]
  },
  {
   "cell_type": "code",
   "execution_count": null,
   "metadata": {},
   "outputs": [
    {
     "name": "stdout",
     "output_type": "stream",
     "text": [
      "1 a\n",
      "2 b\n",
      "3 c\n",
      "4 d\n",
      "5 e\n"
     ]
    }
   ],
   "source": [
    "list_values = [1,2,3,4,5]\n",
    "list_letters = ['a', 'b', 'c', 'd', 'e']\n",
    "\n",
    "for value, letter in zip(list_values, list_letters):\n",
    "    print(value, letter)"
   ]
  },
  {
   "attachments": {},
   "cell_type": "markdown",
   "metadata": {},
   "source": [
    "## glob\n",
    "\n",
    "La fonction **glob** du package **glob** retourne la liste des fichiers contenus dans un dosser. Elle est très utile lorsque que l'on doit manipuler des fichiers ou dossiers depuis un script."
   ]
  },
  {
   "cell_type": "code",
   "execution_count": 8,
   "metadata": {},
   "outputs": [
    {
     "name": "stdout",
     "output_type": "stream",
     "text": [
      "dossier-glob/test1.txt\n",
      "dossier-glob/test2.txt\n",
      "dossier-glob/test3.json\n"
     ]
    }
   ],
   "source": [
    "from glob import glob \n",
    "\n",
    "# il faut penser à ajouter ** à la fin du chemin. \n",
    "# ** une expression régulière qui signifie \"tout / n'importe quoi\"\n",
    "for file in glob('dossier-glob/**'):\n",
    "    print(file)"
   ]
  },
  {
   "cell_type": "code",
   "execution_count": 11,
   "metadata": {},
   "outputs": [],
   "source": [
    "# on peut préciser le chemin pour n'obtenir que des\n",
    "# fichiers d'un certain type\n",
    "for file in glob('dossier-glob/**/**.txt', recursive=True):\n",
    "    print(file)"
   ]
  },
  {
   "cell_type": "code",
   "execution_count": 10,
   "metadata": {},
   "outputs": [
    {
     "name": "stdout",
     "output_type": "stream",
     "text": [
      "dossier-glob/test3.json\n"
     ]
    }
   ],
   "source": [
    "for file in glob('dossier-glob/**.json'):\n",
    "    print(file)"
   ]
  },
  {
   "attachments": {},
   "cell_type": "markdown",
   "metadata": {},
   "source": [
    "# os\n",
    "\n",
    "**os** est le package qui permet d'intéragir avec le système d'exploitation.\n",
    "\n",
    "Doc : https://docs.python.org/3/library/os.html "
   ]
  },
  {
   "cell_type": "code",
   "execution_count": 12,
   "metadata": {},
   "outputs": [],
   "source": [
    "import os\n",
    "\n",
    "# il existe au moins deux méthodes pour créer des dossiers :\n",
    "# mkdir et makedirs. makedirs a l'avantage sur mkdir de \n",
    "# pouvoir gérer les dossiers qui existent déjà\n",
    "os.makedirs(\"newfolder\", exist_ok=True)"
   ]
  },
  {
   "cell_type": "code",
   "execution_count": 13,
   "metadata": {},
   "outputs": [],
   "source": [
    "os.makedirs(\"newfolder/otherfolder\", exist_ok=True)"
   ]
  },
  {
   "cell_type": "code",
   "execution_count": 15,
   "metadata": {},
   "outputs": [
    {
     "name": "stdout",
     "output_type": "stream",
     "text": [
      "CM9.ipynb\n",
      "corpus.txt\n",
      "dossier-glob\n",
      "fichier.txt\n",
      "newfolder\n"
     ]
    },
    {
     "data": {
      "text/plain": [
       "0"
      ]
     },
     "execution_count": 15,
     "metadata": {},
     "output_type": "execute_result"
    }
   ],
   "source": [
    "# os.system est un des principaux moyens de manipuler un \n",
    "# terminal depuis python\n",
    "# dans la chaîne de caractères, on donne la commande et ses\n",
    "# options, comme dans un terminal\n",
    "os.system(\"rm fichier.txt\")\n",
    "# os.system(\"touch fichier.txt\")"
   ]
  },
  {
   "cell_type": "code",
   "execution_count": null,
   "metadata": {},
   "outputs": [],
   "source": [
    "for jsonfile in glob('dossier-glob/**/**.json'): \n",
    "    os.system(f\"rm {jsonfile}\")"
   ]
  },
  {
   "cell_type": "code",
   "execution_count": null,
   "metadata": {},
   "outputs": [],
   "source": [
    "for dossier in ('vocabulaire','semantique'):\n",
    "    os.makedirs(dossier, exist_ok=True)"
   ]
  },
  {
   "cell_type": "code",
   "execution_count": null,
   "metadata": {},
   "outputs": [],
   "source": [
    "os.system('touch fichier.java ')"
   ]
  },
  {
   "cell_type": "code",
   "execution_count": 7,
   "metadata": {},
   "outputs": [
    {
     "name": "stdout",
     "output_type": "stream",
     "text": [
      "fichier : fichier.txt\n",
      "dossier : dossierA/dossierB\n"
     ]
    }
   ],
   "source": [
    "false_path = 'dossierA/dossierB/fichier.txt'\n",
    "# os.path contient tous les outils pour manipuler\n",
    "# des chemins\n",
    "print('fichier :', os.path.basename(false_path))\n",
    "print('dossier :', os.path.dirname(false_path))\n"
   ]
  },
  {
   "attachments": {},
   "cell_type": "markdown",
   "metadata": {},
   "source": [
    "# 2 - Collections\n",
    "\n",
    "Le package **collections** comprend de nombreux autres types de variables, certains totalement nouveaux, d'autres qui modifient le fonctionnement de types existants tels que les dictionnaires. "
   ]
  },
  {
   "attachments": {},
   "cell_type": "markdown",
   "metadata": {},
   "source": [
    "## defaultdict\n",
    "\n",
    "Le **defaultdict** est un dictionnaire qui a une valeur par défaut. Il est différent du type de base **dict**. Il est notamment utile pour incrémenter les valeurs d'un dictionnaire, sans effacer les valeurs précédentes.\n",
    "\n",
    "Doc : https://docs.python.org/3/library/collections.html#collections.defaultdict"
   ]
  },
  {
   "cell_type": "code",
   "execution_count": null,
   "metadata": {},
   "outputs": [
    {
     "name": "stdout",
     "output_type": "stream",
     "text": [
      "defaultdict(<class 'list'>, {'str': ['a', 'b', 'c', 'd', 'c'], 'int': [1, 2, 3, 4, 5]})\n"
     ]
    }
   ],
   "source": [
    "from collections import defaultdict\n",
    "# ici on fait un defaultdict de list, mais on peut utiliser d'autre types (set, dict, tuples, ... idéalement qui vont contenir plusieurs valeurs)\n",
    "df_dict = defaultdict(list)\n",
    "\n",
    "list_elements = ['a', 1, 'b', 2, 'c', 3, 'd', 4, 'c', 5]\n",
    "for element in list_elements:\n",
    "    if isinstance(element, str):\n",
    "        # attention ici on fait appel à la méthode append(), puisque les valeurs du dictionnaire sont des list\n",
    "        df_dict['str'].append(element)\n",
    "    elif isinstance(element, int):\n",
    "        df_dict['int'].append(element)\n",
    "    else:\n",
    "        pass\n",
    "\n",
    "print(df_dict)"
   ]
  },
  {
   "cell_type": "markdown",
   "metadata": {},
   "source": [
    "## Enumerate\n",
    "\n",
    "La fonction enumerate() permet de parcourir un iterable, tout en ayant son index.\n",
    "\n",
    "Doc : https://docs.python.org/3/library/functions.html#enumerate"
   ]
  },
  {
   "cell_type": "code",
   "execution_count": null,
   "metadata": {},
   "outputs": [
    {
     "name": "stdout",
     "output_type": "stream",
     "text": [
      "0 1\n",
      "1 2\n",
      "2 3\n",
      "3 4\n",
      "4 5\n",
      "\n",
      "0 1\n",
      "2 3\n",
      "4 5\n"
     ]
    }
   ],
   "source": [
    "list_values = [1,2,3,4,5]\n",
    "for i, value in enumerate(list_values):\n",
    "    print(i, value)\n",
    "print()\n",
    "\n",
    "for i, value in enumerate(list_values):\n",
    "    if i % 2 == 0:\n",
    "        print(i, value)"
   ]
  },
  {
   "cell_type": "code",
   "execution_count": null,
   "metadata": {},
   "outputs": [],
   "source": []
  },
  {
   "attachments": {},
   "cell_type": "markdown",
   "metadata": {},
   "source": [
    "## Counter\n",
    "\n",
    "L'object Counter sert à compter les occurrences d'élements dans un iterable.\n",
    "\n",
    "Doc : https://docs.python.org/3/library/collections.html#collections.Counter"
   ]
  },
  {
   "cell_type": "code",
   "execution_count": 16,
   "metadata": {},
   "outputs": [
    {
     "name": "stdout",
     "output_type": "stream",
     "text": [
      "[('a', 3), (4, 2), ('c', 2), (1, 1), (2, 1), (3, 1), ('b', 1)]\n",
      "a 3\n"
     ]
    }
   ],
   "source": [
    "from collections import Counter\n",
    "\n",
    "list_elements = ['a', 'a', 'a', 1, 2, 3, 4, 4, 'b', 'c', 'c']\n",
    "\n",
    "counter = Counter(list_elements)\n",
    "\n",
    "# la méthode most_commion() retourne par ordre décroissant les fréquence de chaque élement\n",
    "print(counter.most_common())\n",
    "\n",
    "# # total() retourne la somme de tous les éléments\n",
    "# print(counter.total())\n",
    "\n",
    "# on peut également accepter à la fréquence d'un élément en particulier\n",
    "print('a', counter['a'])"
   ]
  },
  {
   "cell_type": "code",
   "execution_count": 17,
   "metadata": {},
   "outputs": [
    {
     "data": {
      "text/plain": [
       "{'a': 3, 4: 2, 'c': 2, 1: 1, 2: 1, 3: 1, 'b': 1}"
      ]
     },
     "execution_count": 17,
     "metadata": {},
     "output_type": "execute_result"
    }
   ],
   "source": [
    "dict(counter.most_common())"
   ]
  },
  {
   "cell_type": "code",
   "execution_count": 22,
   "metadata": {},
   "outputs": [
    {
     "data": {
      "text/plain": [
       "[(1, 'c'), (2, 'b'), (3, 'a')]"
      ]
     },
     "execution_count": 22,
     "metadata": {},
     "output_type": "execute_result"
    }
   ],
   "source": [
    "\n",
    "liste = [(3,'a'), (1,\"c\"),(2,\"b\")]\n",
    "liste.sort(key=lambda x: x[0])\n",
    "liste"
   ]
  },
  {
   "attachments": {},
   "cell_type": "markdown",
   "metadata": {},
   "source": [
    "# 3- Itertools \n",
    "\n",
    "**itertools** est un package de fonctions permettant de manipuler très efficacement des iterables. Il est bon de consulter et de tenter d'intégrer les outils proposés par itertools avant de les réecrire soit-même. En général, les outils d'**itertools** retournent des generateurs.\n",
    "\n",
    "Ci-dessous quelques exemples des outils disponibles.\n",
    "\n",
    "Doc : https://docs.python.org/3/library/itertools.html#itertools.pairwise"
   ]
  },
  {
   "attachments": {},
   "cell_type": "markdown",
   "metadata": {},
   "source": [
    "## groupby\n",
    "\n",
    "Regroupe les éléments d'un iterable, en se basant sur une clés (mais cela ne veut pas dire que ces éléments doivent être un dictionnaire)"
   ]
  },
  {
   "cell_type": "code",
   "execution_count": 23,
   "metadata": {},
   "outputs": [
    {
     "name": "stdout",
     "output_type": "stream",
     "text": [
      "a\n",
      "('a', 1)\n",
      "('a', 3)\n",
      "('a', 4)\n",
      "b\n",
      "('b', 2)\n",
      "('b', 5)\n"
     ]
    }
   ],
   "source": [
    "from itertools import groupby\n",
    "list_a = [('a', 1), ('b', 2), ('a', 3), ('a',4), ('b', 5)]\n",
    "# pour que groupby fonctionne, il faut d'abord s'assurer\n",
    "# que l'iterable soit ordonné\n",
    "list_a.sort(key=lambda x: x[0])\n",
    "# l'argument key spécifie quelle clé utiliser pour grouper\n",
    "# les éléments. Pour cela, on emploie généralement une fonction\n",
    "# lambda\n",
    "for key, group in groupby(list_a, key=lambda x: x[0]):\n",
    "    print(key)\n",
    "    # group est aussi un generator\n",
    "    # print(group)\n",
    "    for g in group:\n",
    "        print(g)"
   ]
  },
  {
   "attachments": {},
   "cell_type": "markdown",
   "metadata": {},
   "source": [
    "## combinations\n",
    "\n",
    "Retourne une liste de toutes les combinaisons possibles à partir des éléments d'un iterable."
   ]
  },
  {
   "cell_type": "code",
   "execution_count": 26,
   "metadata": {},
   "outputs": [
    {
     "name": "stdout",
     "output_type": "stream",
     "text": [
      "(1, 2, 3, 4, 5)\n",
      "(1, 2, 3, 4, 6)\n",
      "(1, 2, 3, 5, 6)\n",
      "(1, 2, 4, 5, 6)\n",
      "(1, 3, 4, 5, 6)\n",
      "(2, 3, 4, 5, 6)\n"
     ]
    }
   ],
   "source": [
    "from itertools import combinations\n",
    "\n",
    "list_a = [1,2,3,4,5,6]\n",
    "# on doit specifier la taille des combinaisons\n",
    "# ici, on veut des paires\n",
    "for c in combinations(list_a, 5):\n",
    "    print(c)"
   ]
  },
  {
   "attachments": {},
   "cell_type": "markdown",
   "metadata": {},
   "source": [
    "## accumulate\n",
    "\n",
    "Retourne un iterable de la somme cumulée des éléments d'un iterable."
   ]
  },
  {
   "cell_type": "code",
   "execution_count": 15,
   "metadata": {},
   "outputs": [
    {
     "name": "stdout",
     "output_type": "stream",
     "text": [
      "1\n",
      "3\n",
      "6\n",
      "10\n",
      "15\n",
      "21\n"
     ]
    }
   ],
   "source": [
    "from itertools import accumulate\n",
    "\n",
    "list_a = [1,2,3,4,5,6]\n",
    "for c in accumulate(list_a):\n",
    "    print(c)"
   ]
  },
  {
   "attachments": {},
   "cell_type": "markdown",
   "metadata": {},
   "source": [
    "## compress\n",
    "\n",
    "Filtre un iterable à partir d'un autre"
   ]
  },
  {
   "cell_type": "code",
   "execution_count": 27,
   "metadata": {},
   "outputs": [
    {
     "name": "stdout",
     "output_type": "stream",
     "text": [
      "1\n",
      "3\n",
      "5\n",
      "6\n"
     ]
    }
   ],
   "source": [
    "from itertools import compress \n",
    "\n",
    "list_a = [1,2,3,4,5,6]\n",
    "filter_a = [1,0,1,0,1,1]\n",
    "for c in compress(list_a, filter_a):\n",
    "    print(c)"
   ]
  },
  {
   "attachments": {},
   "cell_type": "markdown",
   "metadata": {},
   "source": [
    "## tee\n",
    "\n",
    "Retourne x copie d'un iterable."
   ]
  },
  {
   "cell_type": "code",
   "execution_count": 19,
   "metadata": {},
   "outputs": [
    {
     "name": "stdout",
     "output_type": "stream",
     "text": [
      "[1, 2, 3, 4, 5, 6]\n",
      "[1, 2, 3, 4, 5, 6]\n"
     ]
    }
   ],
   "source": [
    "from itertools import tee \n",
    "\n",
    "list_a = [1,2,3,4,5,6]\n",
    "for c in tee(list_a, 2):\n",
    "    print(list(c))"
   ]
  },
  {
   "cell_type": "code",
   "execution_count": null,
   "metadata": {},
   "outputs": [],
   "source": []
  }
 ],
 "metadata": {
  "kernelspec": {
   "display_name": "cours",
   "language": "python",
   "name": "python3"
  },
  "language_info": {
   "codemirror_mode": {
    "name": "ipython",
    "version": 3
   },
   "file_extension": ".py",
   "mimetype": "text/x-python",
   "name": "python",
   "nbconvert_exporter": "python",
   "pygments_lexer": "ipython3",
   "version": "3.9.6"
  },
  "orig_nbformat": 4,
  "vscode": {
   "interpreter": {
    "hash": "63d2c08867e999184b706abc1228e6e14a103e818b92fa06feeba82a11accc73"
   }
  }
 },
 "nbformat": 4,
 "nbformat_minor": 2
}
