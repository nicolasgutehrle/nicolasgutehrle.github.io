{
 "cells": [
  {
   "cell_type": "markdown",
   "metadata": {},
   "source": [
    "# Exercice\n",
    "\n",
    "Pour cet exercice, vous utiliserez à nouveau la version anglaise du ``amazon_reviews``. Vous utiliserez la version binaire du dataset que vous avez produit pendant l'exercice précédent. Si vous ne l'avez pas enregistré sur le disque, refaites l'exercice précédent et sauvegardez les données.\n",
    "\n",
    "Vous allez jouer avec les différents paramètres de ``CountVectorizer`` et ``TfIdfVectorizer`` comme nous l'avons fait en cours. Contrairement au cours cependant, vous passerez par la classe ``Pipeline`` pour faire vos différents tests. \n",
    "\n",
    "Vous penserez également à valider votre modèle sur les données de validation ainsi que sur les données de test. Comme dans le cours, vous enregistrerez les performances de vos modèles afin de les visualiser dans un graphique."
   ]
  },
  {
   "cell_type": "markdown",
   "metadata": {},
   "source": [
    "### CountVectorizer (par défaut)"
   ]
  },
  {
   "cell_type": "code",
   "execution_count": 38,
   "metadata": {},
   "outputs": [
    {
     "name": "stdout",
     "output_type": "stream",
     "text": [
      "Forme de la matrice : (160000, 40323)\n",
      "Forme de la matrice : (4000, 40323)\n",
      "Forme de la matrice : (4000, 40323)\n",
      "0.8725\n"
     ]
    },
    {
     "name": "stderr",
     "output_type": "stream",
     "text": [
      "/home/emmabft/.local/lib/python3.8/site-packages/sklearn/linear_model/_logistic.py:814: ConvergenceWarning: lbfgs failed to converge (status=1):\n",
      "STOP: TOTAL NO. of ITERATIONS REACHED LIMIT.\n",
      "\n",
      "Increase the number of iterations (max_iter) or scale the data as shown in:\n",
      "    https://scikit-learn.org/stable/modules/preprocessing.html\n",
      "Please also refer to the documentation for alternative solver options:\n",
      "    https://scikit-learn.org/stable/modules/linear_model.html#logistic-regression\n",
      "  n_iter_i = _check_optimize_result(\n"
     ]
    }
   ],
   "source": [
    "from sklearn.feature_extraction.text import CountVectorizer\n",
    "from sklearn.linear_model import LogisticRegression\n",
    "import pandas as pd\n",
    "\n",
    "#dictionnaire contenant les résultats\n",
    "resultat = {}\n",
    "\n",
    "#chargement données\n",
    "train = pd.read_csv('Data_exercices/binary/bi_as_train.csv')\n",
    "dev = pd.read_csv('Data_exercices/binary/bi_as_dev.csv')\n",
    "test = pd.read_csv('Data_exercices/binary/bi_as_test.csv')\n",
    "\n",
    "#concaténation des données\n",
    "data = pd.concat([train['texts'], dev['texts'], test['texts']])\n",
    "\n",
    "#Implémentation du transformer\n",
    "cv = CountVectorizer()\n",
    "cv.fit(data)\n",
    "\n",
    "#Transformation des données\n",
    "X_train, y_train = cv.transform(train['texts']), train['targets']\n",
    "print(\"Forme de la matrice :\", X_train.shape)\n",
    "X_dev, y_dev = cv.transform(dev['texts']), dev['targets']\n",
    "print(\"Forme de la matrice :\", X_dev.shape)\n",
    "X_test, y_test = cv.transform(test['texts']), test['targets']\n",
    "print(\"Forme de la matrice :\", X_test.shape)\n",
    "\n",
    "#Entraînement \n",
    "lr = LogisticRegression()\n",
    "lr.fit(X_train, y_train)\n",
    "\n",
    "\n",
    "score = lr.score(X_dev, y_dev)\n",
    "resultat['cv'] = score\n",
    "print(score)\n"
   ]
  },
  {
   "cell_type": "markdown",
   "metadata": {},
   "source": [
    "### CountVectorizer (pas de mots vides)"
   ]
  },
  {
   "cell_type": "code",
   "execution_count": 49,
   "metadata": {},
   "outputs": [
    {
     "name": "stderr",
     "output_type": "stream",
     "text": [
      "/home/emmabft/.local/lib/python3.8/site-packages/sklearn/feature_extraction/text.py:396: UserWarning: Your stop_words may be inconsistent with your preprocessing. Tokenizing the stop words generated tokens ['quelqu'] not in stop_words.\n",
      "  warnings.warn(\n"
     ]
    },
    {
     "name": "stdout",
     "output_type": "stream",
     "text": [
      "Forme de la matrice : (160000, 40181)\n",
      "Forme de la matrice : (4000, 40181)\n",
      "Forme de la matrice : (4000, 40181)\n",
      "Score : 0.87075\n"
     ]
    },
    {
     "name": "stderr",
     "output_type": "stream",
     "text": [
      "/home/emmabft/.local/lib/python3.8/site-packages/sklearn/linear_model/_logistic.py:814: ConvergenceWarning: lbfgs failed to converge (status=1):\n",
      "STOP: TOTAL NO. of ITERATIONS REACHED LIMIT.\n",
      "\n",
      "Increase the number of iterations (max_iter) or scale the data as shown in:\n",
      "    https://scikit-learn.org/stable/modules/preprocessing.html\n",
      "Please also refer to the documentation for alternative solver options:\n",
      "    https://scikit-learn.org/stable/modules/linear_model.html#logistic-regression\n",
      "  n_iter_i = _check_optimize_result(\n"
     ]
    }
   ],
   "source": [
    "train = pd.read_csv('Data_exercices/binary/bi_as_train.csv')\n",
    "dev = pd.read_csv('Data_exercices/binary/bi_as_dev.csv')\n",
    "test = pd.read_csv('Data_exercices/binary/bi_as_test.csv')\n",
    "\n",
    "fr_stopwords = []\n",
    "with open('../Cours/Data/fr_stopwords.txt') as f:\n",
    "  for line in f:\n",
    "    line = line.strip()\n",
    "    fr_stopwords.append(line)\n",
    "fr_stopwords[:10] \n",
    "# NICOLAS : la ligne ci-dessus ne sert à rien: dans Jupyter\n",
    "# si la dernière ligne d'une cellule est une variable ou une fonction, elle est directement affichée, comme si\n",
    "# tu faisais print, mais ça ne marche QUE si c'est la dernière ligne\n",
    "\n",
    "cv2 = CountVectorizer(stop_words=fr_stopwords)\n",
    "cv2.fit(data) \n",
    "\n",
    "X_train, y_train = cv2.transform(train['texts']), train['targets']\n",
    "print(\"Forme de la matrice :\", X_train.shape)\n",
    "X_dev, y_dev = cv2.transform(dev['texts']), dev['targets']\n",
    "print(\"Forme de la matrice :\", X_dev.shape)\n",
    "X_test, y_test = cv2.transform(test['texts']), test['targets']\n",
    "print(\"Forme de la matrice :\", X_test.shape)\n",
    "\n",
    "\n",
    "lr = LogisticRegression()\n",
    "lr.fit(X_train, y_train)\n",
    "\n",
    "score = lr.score(X_dev, y_dev)\n",
    "resultat['cv2'] = score\n",
    "print(\"Score :\", score)"
   ]
  },
  {
   "cell_type": "markdown",
   "metadata": {},
   "source": [
    "### CountVectorizer (tokenization au niveau des caractères)"
   ]
  },
  {
   "cell_type": "code",
   "execution_count": 50,
   "metadata": {},
   "outputs": [
    {
     "name": "stdout",
     "output_type": "stream",
     "text": [
      "Forme de la matrice : (160000, 245)\n",
      "Forme de la matrice : (4000, 245)\n",
      "Forme de la matrice : (4000, 245)\n",
      "Score : 0.651\n"
     ]
    },
    {
     "name": "stderr",
     "output_type": "stream",
     "text": [
      "/home/emmabft/.local/lib/python3.8/site-packages/sklearn/linear_model/_logistic.py:814: ConvergenceWarning: lbfgs failed to converge (status=1):\n",
      "STOP: TOTAL NO. of ITERATIONS REACHED LIMIT.\n",
      "\n",
      "Increase the number of iterations (max_iter) or scale the data as shown in:\n",
      "    https://scikit-learn.org/stable/modules/preprocessing.html\n",
      "Please also refer to the documentation for alternative solver options:\n",
      "    https://scikit-learn.org/stable/modules/linear_model.html#logistic-regression\n",
      "  n_iter_i = _check_optimize_result(\n"
     ]
    }
   ],
   "source": [
    "analyzer = 'char' # NICOLAS: très bien\n",
    "cv3 = CountVectorizer(analyzer = analyzer)\n",
    "cv3.fit(data)\n",
    "\n",
    "X_train, y_train = cv3.transform(train['texts']), train['targets']\n",
    "print(\"Forme de la matrice :\", X_train.shape)\n",
    "X_dev, y_dev = cv3.transform(dev['texts']), dev['targets']\n",
    "print(\"Forme de la matrice :\", X_dev.shape)\n",
    "X_test, y_test = cv3.transform(test['texts']), test['targets']\n",
    "print(\"Forme de la matrice :\", X_test.shape)\n",
    "\n",
    "lr = LogisticRegression()\n",
    "lr.fit(X_train, y_train)\n",
    "\n",
    "score = lr.score(X_dev, y_dev)\n",
    "resultat['cv3'] = score\n",
    "print(\"Score :\", score)"
   ]
  },
  {
   "cell_type": "markdown",
   "metadata": {},
   "source": [
    "### TfIdfVectorizer (par défaut)"
   ]
  },
  {
   "cell_type": "code",
   "execution_count": 42,
   "metadata": {},
   "outputs": [
    {
     "name": "stdout",
     "output_type": "stream",
     "text": [
      "Forme de la matrice : (160000, 40323)\n",
      "Forme de la matrice : (4000, 40323)\n",
      "Forme de la matrice : (4000, 40323)\n",
      "Score : 0.8775\n"
     ]
    },
    {
     "name": "stderr",
     "output_type": "stream",
     "text": [
      "/home/emmabft/.local/lib/python3.8/site-packages/sklearn/linear_model/_logistic.py:814: ConvergenceWarning: lbfgs failed to converge (status=1):\n",
      "STOP: TOTAL NO. of ITERATIONS REACHED LIMIT.\n",
      "\n",
      "Increase the number of iterations (max_iter) or scale the data as shown in:\n",
      "    https://scikit-learn.org/stable/modules/preprocessing.html\n",
      "Please also refer to the documentation for alternative solver options:\n",
      "    https://scikit-learn.org/stable/modules/linear_model.html#logistic-regression\n",
      "  n_iter_i = _check_optimize_result(\n"
     ]
    }
   ],
   "source": [
    "from sklearn.feature_extraction.text import TfidfVectorizer\n",
    "\n",
    "tf1 = TfidfVectorizer()\n",
    "tf1.fit(data) \n",
    "\n",
    "X_train, y_train = tf1.transform(train['texts']), train['targets']\n",
    "print(\"Forme de la matrice :\", X_train.shape)\n",
    "X_dev, y_dev = tf1.transform(dev['texts']), dev['targets']\n",
    "print(\"Forme de la matrice :\", X_dev.shape)\n",
    "X_test, y_test = tf1.transform(test['texts']), test['targets']\n",
    "print(\"Forme de la matrice :\", X_test.shape)\n",
    "\n",
    "lr = LogisticRegression()\n",
    "lr.fit(X_train, y_train)\n",
    "\n",
    "score = lr.score(X_dev, y_dev)\n",
    "resultat['tf1'] = score\n",
    "print(\"Score :\", score)"
   ]
  },
  {
   "cell_type": "markdown",
   "metadata": {},
   "source": [
    "### TfIdfVectorizer (maximum 10 000 mots dans le vocabulaire)"
   ]
  },
  {
   "cell_type": "code",
   "execution_count": 43,
   "metadata": {},
   "outputs": [
    {
     "name": "stdout",
     "output_type": "stream",
     "text": [
      "Forme de la matrice : (160000, 10000)\n",
      "Forme de la matrice : (4000, 10000)\n",
      "Forme de la matrice : (4000, 10000)\n",
      "Score : 0.876\n"
     ]
    }
   ],
   "source": [
    "from sklearn.feature_extraction.text import TfidfVectorizer\n",
    "\n",
    "tf2 = TfidfVectorizer(max_features= 10000)\n",
    "tf2.fit(data) \n",
    "\n",
    "X_train, y_train = tf2.transform(train['texts']), train['targets']\n",
    "print(\"Forme de la matrice :\", X_train.shape)\n",
    "X_dev, y_dev = tf2.transform(dev['texts']), dev['targets']\n",
    "print(\"Forme de la matrice :\", X_dev.shape)\n",
    "X_test, y_test = tf2.transform(test['texts']), test['targets']\n",
    "print(\"Forme de la matrice :\", X_test.shape)\n",
    "\n",
    "lr = LogisticRegression()\n",
    "lr.fit(X_train, y_train)\n",
    "\n",
    "score = lr.score(X_dev, y_dev)\n",
    "resultat['tf2'] = score\n",
    "print(\"Score :\", score)"
   ]
  },
  {
   "cell_type": "markdown",
   "metadata": {},
   "source": [
    "### TfIdfVectorizer (bigrammes, pas de mots vides)"
   ]
  },
  {
   "cell_type": "code",
   "execution_count": 46,
   "metadata": {},
   "outputs": [
    {
     "name": "stderr",
     "output_type": "stream",
     "text": [
      "/home/emmabft/.local/lib/python3.8/site-packages/sklearn/feature_extraction/text.py:396: UserWarning: Your stop_words may be inconsistent with your preprocessing. Tokenizing the stop words generated tokens ['quelqu'] not in stop_words.\n",
      "  warnings.warn(\n"
     ]
    },
    {
     "name": "stdout",
     "output_type": "stream",
     "text": [
      "Forme de la matrice : (160000, 969779)\n",
      "Forme de la matrice : (4000, 969779)\n",
      "Forme de la matrice : (4000, 969779)\n",
      "Score : 0.88275\n"
     ]
    }
   ],
   "source": [
    "tf3 = TfidfVectorizer(stop_words=fr_stopwords,ngram_range=(2,2)) #NICOLAS: pense à bien espacer ton code pour la lisibilité\n",
    "tf3.fit(data) \n",
    "\n",
    "X_train, y_train = tf3.transform(train['texts']), train['targets']\n",
    "print(\"Forme de la matrice :\", X_train.shape)\n",
    "X_dev, y_dev = tf3.transform(dev['texts']), dev['targets']\n",
    "print(\"Forme de la matrice :\", X_dev.shape)\n",
    "X_test, y_test = tf3.transform(test['texts']), test['targets']\n",
    "print(\"Forme de la matrice :\", X_test.shape)\n",
    "\n",
    "lr = LogisticRegression()\n",
    "lr.fit(X_train, y_train)\n",
    "\n",
    "score = lr.score(X_dev, y_dev)\n",
    "resultat['tf3'] = score\n",
    "print('Score :', score)"
   ]
  },
  {
   "cell_type": "markdown",
   "metadata": {},
   "source": [
    "### Comparaison visuelle des performances"
   ]
  },
  {
   "cell_type": "code",
   "execution_count": 51,
   "metadata": {},
   "outputs": [
    {
     "data": {
      "text/plain": [
       "<matplotlib.axes._subplots.AxesSubplot at 0x7fd474094d30>"
      ]
     },
     "execution_count": 51,
     "metadata": {},
     "output_type": "execute_result"
    },
    {
     "data": {
      "image/png": "[encoded data removed]",
      "text/plain": [
       "<Figure size 432x288 with 1 Axes>"
      ]
     },
     "metadata": {
      "needs_background": "light"
     },
     "output_type": "display_data"
    }
   ],
   "source": [
    "v = pd.Series(resultat)\n",
    "v.plot.bar()\n",
    "# NICOLAS: du coup, à partir de ce graphique, quel est le meilleur modèle selon toi ? "
   ]
  },
  {
   "cell_type": "markdown",
   "metadata": {},
   "source": [
    "### Sauvegarder le modèle le plus performant"
   ]
  },
  {
   "cell_type": "code",
   "execution_count": 55,
   "metadata": {},
   "outputs": [
    {
     "name": "stderr",
     "output_type": "stream",
     "text": [
      "/home/emmabft/.local/lib/python3.8/site-packages/sklearn/feature_extraction/text.py:396: UserWarning: Your stop_words may be inconsistent with your preprocessing. Tokenizing the stop words generated tokens ['quelqu'] not in stop_words.\n",
      "  warnings.warn(\n"
     ]
    },
    {
     "name": "stdout",
     "output_type": "stream",
     "text": [
      "Score : 0.88325\n"
     ]
    }
   ],
   "source": [
    "from sklearn.pipeline import Pipeline\n",
    "from sklearn.feature_extraction.text import CountVectorizer\n",
    "from sklearn.linear_model import LogisticRegression\n",
    "from sklearn.metrics import accuracy_score\n",
    "from joblib import dump\n",
    "\n",
    "#renommer les variables \n",
    "X_train, y_train = train['texts'], train['targets']\n",
    "X_dev, y_dev = dev['texts'], dev['targets']\n",
    "\n",
    "#sauvegarder le vectorizer et le modèle dans Pipeline \n",
    "pipe = Pipeline(\n",
    "[('vectorizer', TfidfVectorizer(stop_words=fr_stopwords,ngram_range=(2,2))),\n",
    "('linear', LogisticRegression())\n",
    "])\n",
    "\n",
    "#Entrainement\n",
    "pipe.fit(X_train, y_train)\n",
    "score = pipe.score(X_dev, y_dev)\n",
    "print(\"Score :\", score)"
   ]
  },
  {
   "cell_type": "code",
   "execution_count": 56,
   "metadata": {},
   "outputs": [
    {
     "data": {
      "text/plain": [
       "['Data_exercices/pipe_model/model.joblib']"
      ]
     },
     "execution_count": 56,
     "metadata": {},
     "output_type": "execute_result"
    }
   ],
   "source": [
    "from joblib import dump\n",
    "import os\n",
    "os.mkdir('Data_exercices/pipe_model')\n",
    "dump(pipe, 'Data_exercices/pipe_model/model.joblib')"
   ]
  }
 ],
 "metadata": {
  "kernelspec": {
   "display_name": "Python 3 (ipykernel)",
   "language": "python",
   "name": "python3"
  },
  "language_info": {
   "codemirror_mode": {
    "name": "ipython",
    "version": 3
   },
   "file_extension": ".py",
   "mimetype": "text/x-python",
   "name": "python",
   "nbconvert_exporter": "python",
   "pygments_lexer": "ipython3",
   "version": "3.9.6"
  }
 },
 "nbformat": 4,
 "nbformat_minor": 4
}
