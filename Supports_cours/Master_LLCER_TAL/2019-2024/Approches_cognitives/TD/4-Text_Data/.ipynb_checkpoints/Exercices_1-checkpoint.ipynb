{
 "cells": [
  {
   "cell_type": "markdown",
   "metadata": {},
   "source": [
    "# Exercice\n",
    "\n",
    "Vous allez reproduire les mêmes étapes de ce cours, cette fois avec la version anglaise du ``amazon_reviews`` dataset. Dans un premier temps vous entraînerez un modèle avec les données telles quelles, puis vous entraînerez un second modèle avec des données binaires, comme dans le cours."
   ]
  },
  {
   "cell_type": "markdown",
   "metadata": {},
   "source": [
    "### Importer les données\n",
    "\n",
    "Les données sont déjà divisées en train, validation et testset: vous n'aurez donc pas besoin d'utiliser ``train_test_split``, et vous aurez juste à charger les trois fichiers respectifs dans trois DataFrames. Les données se trouvent dans le dossier ``amazon_reviews/data/en``."
   ]
  },
  {
   "cell_type": "code",
   "execution_count": null,
   "metadata": {},
   "outputs": [],
   "source": []
  },
  {
   "cell_type": "markdown",
   "metadata": {},
   "source": [
    "### Filtrer et renommer les données\n",
    "Vous ne garderez que les colonnes``review_body`` et ``stars`` , que vous renommerez respectivement en ``texts`` et ``targets``."
   ]
  },
  {
   "cell_type": "code",
   "execution_count": null,
   "metadata": {},
   "outputs": [],
   "source": []
  },
  {
   "cell_type": "markdown",
   "metadata": {},
   "source": [
    "### Visualisation des classes\n",
    "Que remarquez vous sur le graphique ?"
   ]
  },
  {
   "cell_type": "code",
   "execution_count": null,
   "metadata": {},
   "outputs": [],
   "source": []
  },
  {
   "cell_type": "markdown",
   "metadata": {},
   "source": [
    "### CountVectorizer\n",
    "### Concaténer les données et entraîner\n",
    "\n",
    "Vous utiliserez la fonction ``pd.concat()`` pour combiner le train, dev et test sets en un seul dataset, qui vous servira à entraîner votre CountVectorizer"
   ]
  },
  {
   "cell_type": "code",
   "execution_count": null,
   "metadata": {},
   "outputs": [],
   "source": []
  },
  {
   "cell_type": "markdown",
   "metadata": {},
   "source": [
    "### Transformer les données\n",
    "Vous utiliserz le CountVectorizer que vous venez d'entraîner pour transformer vos données issues de train, dev et tests sets."
   ]
  },
  {
   "cell_type": "code",
   "execution_count": null,
   "metadata": {},
   "outputs": [],
   "source": []
  },
  {
   "cell_type": "markdown",
   "metadata": {},
   "source": [
    "### Entraîner le modèle\n",
    "Vous entraînerez un modèle de LogisticRegression"
   ]
  },
  {
   "cell_type": "code",
   "execution_count": null,
   "metadata": {},
   "outputs": [],
   "source": []
  },
  {
   "cell_type": "markdown",
   "metadata": {},
   "source": [
    "### Valider l'entraînement"
   ]
  },
  {
   "cell_type": "code",
   "execution_count": null,
   "metadata": {},
   "outputs": [],
   "source": []
  },
  {
   "cell_type": "markdown",
   "metadata": {},
   "source": [
    "### Sauvegarder le modèle sur le disque"
   ]
  },
  {
   "cell_type": "code",
   "execution_count": null,
   "metadata": {},
   "outputs": [],
   "source": []
  },
  {
   "cell_type": "markdown",
   "metadata": {},
   "source": [
    "### Reduction du nombre de classes à 2\n",
    "Vous regrouperez les données de telle sorte à n'avoir que les classes ``positives`` et ``negatives``. Vous ne conserverez pas la classe neutre."
   ]
  },
  {
   "cell_type": "code",
   "execution_count": null,
   "metadata": {},
   "outputs": [],
   "source": []
  },
  {
   "cell_type": "markdown",
   "metadata": {},
   "source": [
    "### Entraîner un modèle de classification binaire\n",
    "Reproduisez exactement les mêmes étapes qu'au début, cette fois en utilisant les données binaires que vous venez d'obtenir."
   ]
  },
  {
   "cell_type": "code",
   "execution_count": null,
   "metadata": {},
   "outputs": [],
   "source": []
  },
  {
   "cell_type": "markdown",
   "metadata": {},
   "source": [
    "### Résultats\n",
    "Comparez les résultats obtenus avec ce modèle avec ceux obtenus par le modèle précédent. Que remarquez-vous ?"
   ]
  },
  {
   "cell_type": "markdown",
   "metadata": {},
   "source": [
    "### Sauvegarder le modèle sur le disque\n"
   ]
  },
  {
   "cell_type": "code",
   "execution_count": null,
   "metadata": {},
   "outputs": [],
   "source": []
  }
 ],
 "metadata": {
  "kernelspec": {
   "display_name": "Python 3 (ipykernel)",
   "language": "python",
   "name": "python3"
  },
  "language_info": {
   "codemirror_mode": {
    "name": "ipython",
    "version": 3
   },
   "file_extension": ".py",
   "mimetype": "text/x-python",
   "name": "python",
   "nbconvert_exporter": "python",
   "pygments_lexer": "ipython3",
   "version": "3.9.6"
  }
 },
 "nbformat": 4,
 "nbformat_minor": 4
}
