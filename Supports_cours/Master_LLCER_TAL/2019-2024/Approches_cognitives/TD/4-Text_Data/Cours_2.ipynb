{
 "cells": [
  {
   "cell_type": "markdown",
   "metadata": {},
   "source": [
    "# Données textuelles - Partie 2\n",
    "\n",
    "Dans cette partie du cours, nous allons revenir sur les notions que nous avons vues au cours précédent, en particulier le ``CountVectorizer``, et apprendre comment modifier ses paramètres pour améliorer le traitement des données. Avant cela, nous alons revenir sur certains concepts du Machine-Learning pour expliquer les résultats que nous avons obtenus avec le modèle précédent."
   ]
  },
  {
   "cell_type": "markdown",
   "metadata": {},
   "source": [
    "## Appfitting, underfitting, overfitting\n",
    "\n",
    "Entraîner un modèle consiste à fournir des données à un algorithme de tel sorte qu'il apprenne de lui-même par essai-erreur les différents paramètres lui permettant de prédire de nouveaux résultats. \n",
    "\n",
    "Cependant, bien qu'il suffise de fournir les données à l'algorithme, entraîner correctement un modèle n'est pas si simple, et il est très fréquent de créer des modèles qui ne soient pas capables de généraliser. Cette difficulté à généraliser peut s'expliquer de deux manières : soit le modèle n'est pas capable d'apprendre les paramètres à partir des données, soit au contraitre il apprend ces paramètres beaucoup trop bien. Dans le premier cas, le modèle est \"mal-entraîné\" et prédit un résultat au hasard. Dans le second, le modèle a tellement bien appris à partir des données d'entraînement qu'il ne sait pas comment traiter de nouvelles données. \n",
    "\n",
    "En machine-learning, on parle respectivement d'``underfitting`` et d'``overfitting``\n"
   ]
  },
  {
   "cell_type": "markdown",
   "metadata": {
    "colab_type": "text",
    "id": "Ke2RRF56rP2U"
   },
   "source": [
    "### Underfitting\n",
    "\n",
    "L'underfitting désigne le cas où le modèle n'a pas appris correctement les paramètres à partir des données d'entraînement, et n'est donc pas capable de généraliser. On peut le repérer lorsque les résultats de l'entraînement ne sont pas concluants. \n",
    "\n",
    "En général, les cas d'underfitting sont dus à des données n'ayant pas assez de features. La meilleure façon donc d'y remédier est de transformer les données de telle sorte à obtenir plus de features. Cependant, les cas d'underfitting sont assez rares, précisémment à cause du fait que l'on a en général trop de features.\n",
    "\n",
    "<img src=\"data/img/underfitting.png\">"
   ]
  },
  {
   "cell_type": "markdown",
   "metadata": {
    "colab_type": "text",
    "id": "ruNksZRYrOBS"
   },
   "source": [
    "### Overfitting\n",
    "\n",
    "L'**overfitting** désigne le cas inverse où un modèle apprend beaucoup trop bien les paramètres à partir des données d'entraînement, et n'apprend donc pas à généraliser. D'une certaine façon, le modèle apprend par coeur les caractéristiques des données d'entraînement sans les comprendre réellement. Il est donc incapable de généraliser, et donc de prédire correctement de nouveaux résultats.\n",
    "\n",
    "\n",
    "<img src=\"data/img/overfitting.png\">\n",
    "\n",
    "\n",
    "En général, l'overfitting se détecte lorsque les performances du modèles sont largement supérieures sur les données d'entraînement que sur les données de test.\n",
    "Contrairement à l'underfitting, l'overfitting est un des problèmes les plus souvent rencontrés en machine-learning. Il est généralement dû à un ``manque de données`` par rapport au problème traité ou bien à l'inverse ``un trop grand nombre de features``. Ainsi pour traiter l'overfitting, il faut soit d'obtenir (beaucoup) plus de données d'entraînement, soit de réduire le nombre de features.\n",
    "\n",
    "### Note\n",
    "\n",
    "Attention cependant à ne pas mettre un modèle de côté à cause d'un léger cas d'overfitting. Très souvent, les modèles ont tendance à l'overfit, sans que cela ne soit réellement impactant. Ainsi, on peut dire qu'un modèle généralise correctement si l'écart entre la précision de l'entraînement et du test est inférieur à 10%."
   ]
  },
  {
   "cell_type": "markdown",
   "metadata": {},
   "source": [
    "### Appfitting\n",
    "\n",
    "Ainsi, un modèle idéal est un modèle suffisamment complexe pour qu'il soit capable de s'adapter à de nouvelles données, mais ni trop complexe au point de s'adapter parfaitement aux données d'entraînement (overfitting), ni pas assez complexe au point de ne pas s'adapter du tout (underfitting).\n",
    "\n",
    "<img src=\"data/img/appfitting.png\">"
   ]
  },
  {
   "cell_type": "markdown",
   "metadata": {
    "colab_type": "text",
    "id": "z6rGgFt98hSL"
   },
   "source": [
    "## Curse of dimensionality\n",
    "\n",
    "Plus on fournit un grand nombre de données variées, et plus il est facile pour un modèle d'apprendre à généraliser. Pourtant, plus le nombre de dimensions de ces données augmente (donc plus le nombre de features augmente) et plus il est difficile pour un modèle d'identifier les corrélations entre elles. C'est ce que l'on appelle le ``Fléau de la dimension`` (Curse of dimensionality). \n",
    "\n",
    "En effet, plus l'on a de dimensions et plus l'espace entre elles augmente. Ainsi, il devient de plus en plus difficile de voir ce qui les lie. Si l'on reprend le vocabulaire de notre faux corpus:"
   ]
  },
  {
   "cell_type": "code",
   "execution_count": 1,
   "metadata": {},
   "outputs": [
    {
     "name": "stderr",
     "output_type": "stream",
     "text": [
      "/Users/nicolasgutehrle/opt/anaconda3/envs/cours/lib/python3.9/site-packages/sklearn/utils/deprecation.py:87: FutureWarning: Function get_feature_names is deprecated; get_feature_names is deprecated in 1.0 and will be removed in 1.2. Please use get_feature_names_out instead.\n",
      "  warnings.warn(msg, category=FutureWarning)\n"
     ]
    },
    {
     "data": {
      "text/html": [
       "<div>\n",
       "<style scoped>\n",
       "    .dataframe tbody tr th:only-of-type {\n",
       "        vertical-align: middle;\n",
       "    }\n",
       "\n",
       "    .dataframe tbody tr th {\n",
       "        vertical-align: top;\n",
       "    }\n",
       "\n",
       "    .dataframe thead th {\n",
       "        text-align: right;\n",
       "    }\n",
       "</style>\n",
       "<table border=\"1\" class=\"dataframe\">\n",
       "  <thead>\n",
       "    <tr style=\"text-align: right;\">\n",
       "      <th></th>\n",
       "      <th>amener</th>\n",
       "      <th>anneau</th>\n",
       "      <th>dans</th>\n",
       "      <th>et</th>\n",
       "      <th>gouverner</th>\n",
       "      <th>les</th>\n",
       "      <th>lier</th>\n",
       "      <th>pour</th>\n",
       "      <th>tous</th>\n",
       "      <th>trouver</th>\n",
       "      <th>ténèbres</th>\n",
       "      <th>un</th>\n",
       "    </tr>\n",
       "  </thead>\n",
       "  <tbody>\n",
       "    <tr>\n",
       "      <th>Un anneau pour les gouverner tous.</th>\n",
       "      <td>0</td>\n",
       "      <td>1</td>\n",
       "      <td>0</td>\n",
       "      <td>0</td>\n",
       "      <td>1</td>\n",
       "      <td>1</td>\n",
       "      <td>0</td>\n",
       "      <td>1</td>\n",
       "      <td>1</td>\n",
       "      <td>0</td>\n",
       "      <td>0</td>\n",
       "      <td>1</td>\n",
       "    </tr>\n",
       "    <tr>\n",
       "      <th>Un anneau pour les trouver.</th>\n",
       "      <td>0</td>\n",
       "      <td>1</td>\n",
       "      <td>0</td>\n",
       "      <td>0</td>\n",
       "      <td>0</td>\n",
       "      <td>1</td>\n",
       "      <td>0</td>\n",
       "      <td>1</td>\n",
       "      <td>0</td>\n",
       "      <td>1</td>\n",
       "      <td>0</td>\n",
       "      <td>1</td>\n",
       "    </tr>\n",
       "    <tr>\n",
       "      <th>Un anneau pour les amener tous et dans les ténèbres les lier.</th>\n",
       "      <td>1</td>\n",
       "      <td>1</td>\n",
       "      <td>1</td>\n",
       "      <td>1</td>\n",
       "      <td>0</td>\n",
       "      <td>3</td>\n",
       "      <td>1</td>\n",
       "      <td>1</td>\n",
       "      <td>1</td>\n",
       "      <td>0</td>\n",
       "      <td>1</td>\n",
       "      <td>1</td>\n",
       "    </tr>\n",
       "  </tbody>\n",
       "</table>\n",
       "</div>"
      ],
      "text/plain": [
       "                                                    amener  anneau  dans  et  \\\n",
       "Un anneau pour les gouverner tous.                       0       1     0   0   \n",
       "Un anneau pour les trouver.                              0       1     0   0   \n",
       "Un anneau pour les amener tous et dans les ténè...       1       1     1   1   \n",
       "\n",
       "                                                    gouverner  les  lier  \\\n",
       "Un anneau pour les gouverner tous.                          1    1     0   \n",
       "Un anneau pour les trouver.                                 0    1     0   \n",
       "Un anneau pour les amener tous et dans les ténè...          0    3     1   \n",
       "\n",
       "                                                    pour  tous  trouver  \\\n",
       "Un anneau pour les gouverner tous.                     1     1        0   \n",
       "Un anneau pour les trouver.                            1     0        1   \n",
       "Un anneau pour les amener tous et dans les ténè...     1     1        0   \n",
       "\n",
       "                                                    ténèbres  un  \n",
       "Un anneau pour les gouverner tous.                         0   1  \n",
       "Un anneau pour les trouver.                                0   1  \n",
       "Un anneau pour les amener tous et dans les ténè...         1   1  "
      ]
     },
     "execution_count": 1,
     "metadata": {},
     "output_type": "execute_result"
    }
   ],
   "source": [
    "from sklearn.feature_extraction.text import CountVectorizer\n",
    "import pandas as pd\n",
    "\n",
    "corpus = ['Un anneau pour les gouverner tous.', \n",
    "          'Un anneau pour les trouver.', \n",
    "          'Un anneau pour les amener tous et dans les ténèbres les lier.']\n",
    "\n",
    "cv = CountVectorizer()\n",
    "X = cv.fit_transform(corpus)\n",
    "\n",
    "vec_df = pd.DataFrame(data = X.toarray(),\n",
    "                        columns = cv.get_feature_names())\n",
    "vec_df.index = corpus\n",
    "vec_df.head()"
   ]
  },
  {
   "cell_type": "markdown",
   "metadata": {},
   "source": [
    "Ci-dessus on peut voir que la majorité des cellules contiennt des zéros. En cela pour chaque ligne, très peu de colonne sont réellement pertinentes. Plus notre vocabulaire sera grand et plus ce phénomène s'étendra, et plus d'espace mémoire sera consommé, ce qui a terme peut faire stopper notre programme. \n",
    "\n",
    "Ainsi, bien que plus de features signifie un meilleur entraînement, trop de features peut à terme conduire à de mauvais résultats. Il faut donc pouvoir trouver le bon nombre de features de tel sorte à entraîner correctement notre modèle."
   ]
  },
  {
   "cell_type": "markdown",
   "metadata": {
    "colab_type": "text",
    "id": "QOf_IgX1zCcy"
   },
   "source": [
    "### Feature reduction\n",
    "\n",
    "Une des raisons de l'overfitting est qu'il y a trop de features dans les données d'entraînement (cf. ci-dessus), ce qui fait que les paramètres appris sont beaucoup trop précis. Une solution est donc de réduire le nombre de features. Il existe pour cela des algorithmes tels que PCA capablent de réduire automatiquement le nombre de dimensions. Nous les verrons plus tard lorsque nous aborderons l'apprentissage non-supervisé.\n",
    "\n",
    "Dans notre cas de manipulation textuelle, il est possible de réduire le nombre de features de différentes manières. Lorsque l'on traite des données textuelles, les features utilisées correspondent au vocabulaire utilisé. En plus de préserver la mémoire, il est donc conseillé de réduire la taille de ce vocabulaire, afin que le modèle ne se concentre que sur un ensemble de mots pertinents. Parmi ces méthodes on retrouve en particulier:\n",
    "\n",
    "* Supprimer les mots vides\n",
    "* Changer la taille des n-grammes\n",
    "* Stemmatizer et Lemmatizer"
   ]
  },
  {
   "cell_type": "markdown",
   "metadata": {},
   "source": [
    "# Prétraiter son corpus"
   ]
  },
  {
   "cell_type": "markdown",
   "metadata": {},
   "source": [
    "## Classes déséquilibrées"
   ]
  },
  {
   "cell_type": "code",
   "execution_count": null,
   "metadata": {},
   "outputs": [
    {
     "data": {
      "text/html": [
       "<div>\n",
       "<style scoped>\n",
       "    .dataframe tbody tr th:only-of-type {\n",
       "        vertical-align: middle;\n",
       "    }\n",
       "\n",
       "    .dataframe tbody tr th {\n",
       "        vertical-align: top;\n",
       "    }\n",
       "\n",
       "    .dataframe thead th {\n",
       "        text-align: right;\n",
       "    }\n",
       "</style>\n",
       "<table border=\"1\" class=\"dataframe\">\n",
       "  <thead>\n",
       "    <tr style=\"text-align: right;\">\n",
       "      <th></th>\n",
       "      <th>RI</th>\n",
       "      <th>Na</th>\n",
       "      <th>Mg</th>\n",
       "      <th>Al</th>\n",
       "      <th>Si</th>\n",
       "      <th>K</th>\n",
       "      <th>Ca</th>\n",
       "      <th>Ba</th>\n",
       "      <th>Fe</th>\n",
       "      <th>Class</th>\n",
       "    </tr>\n",
       "  </thead>\n",
       "  <tbody>\n",
       "    <tr>\n",
       "      <th>0</th>\n",
       "      <td>1.52101</td>\n",
       "      <td>13.64</td>\n",
       "      <td>4.49</td>\n",
       "      <td>1.10</td>\n",
       "      <td>71.78</td>\n",
       "      <td>0.06</td>\n",
       "      <td>8.75</td>\n",
       "      <td>0.0</td>\n",
       "      <td>0.0</td>\n",
       "      <td>1</td>\n",
       "    </tr>\n",
       "    <tr>\n",
       "      <th>1</th>\n",
       "      <td>1.51761</td>\n",
       "      <td>13.89</td>\n",
       "      <td>3.60</td>\n",
       "      <td>1.36</td>\n",
       "      <td>72.73</td>\n",
       "      <td>0.48</td>\n",
       "      <td>7.83</td>\n",
       "      <td>0.0</td>\n",
       "      <td>0.0</td>\n",
       "      <td>1</td>\n",
       "    </tr>\n",
       "    <tr>\n",
       "      <th>2</th>\n",
       "      <td>1.51618</td>\n",
       "      <td>13.53</td>\n",
       "      <td>3.55</td>\n",
       "      <td>1.54</td>\n",
       "      <td>72.99</td>\n",
       "      <td>0.39</td>\n",
       "      <td>7.78</td>\n",
       "      <td>0.0</td>\n",
       "      <td>0.0</td>\n",
       "      <td>1</td>\n",
       "    </tr>\n",
       "    <tr>\n",
       "      <th>3</th>\n",
       "      <td>1.51766</td>\n",
       "      <td>13.21</td>\n",
       "      <td>3.69</td>\n",
       "      <td>1.29</td>\n",
       "      <td>72.61</td>\n",
       "      <td>0.57</td>\n",
       "      <td>8.22</td>\n",
       "      <td>0.0</td>\n",
       "      <td>0.0</td>\n",
       "      <td>1</td>\n",
       "    </tr>\n",
       "    <tr>\n",
       "      <th>4</th>\n",
       "      <td>1.51742</td>\n",
       "      <td>13.27</td>\n",
       "      <td>3.62</td>\n",
       "      <td>1.24</td>\n",
       "      <td>73.08</td>\n",
       "      <td>0.55</td>\n",
       "      <td>8.07</td>\n",
       "      <td>0.0</td>\n",
       "      <td>0.0</td>\n",
       "      <td>1</td>\n",
       "    </tr>\n",
       "  </tbody>\n",
       "</table>\n",
       "</div>"
      ],
      "text/plain": [
       "        RI     Na    Mg    Al     Si     K    Ca   Ba   Fe  Class\n",
       "0  1.52101  13.64  4.49  1.10  71.78  0.06  8.75  0.0  0.0      1\n",
       "1  1.51761  13.89  3.60  1.36  72.73  0.48  7.83  0.0  0.0      1\n",
       "2  1.51618  13.53  3.55  1.54  72.99  0.39  7.78  0.0  0.0      1\n",
       "3  1.51766  13.21  3.69  1.29  72.61  0.57  8.22  0.0  0.0      1\n",
       "4  1.51742  13.27  3.62  1.24  73.08  0.55  8.07  0.0  0.0      1"
      ]
     },
     "metadata": {},
     "output_type": "display_data"
    }
   ],
   "source": [
    "import pandas as pd\n",
    "\n",
    "data = pd.read_csv('data/glass.csv')\n",
    "data.head()"
   ]
  },
  {
   "cell_type": "markdown",
   "metadata": {},
   "source": [
    "On voit clairement ci-dessous que les 6 classes ne sont pas équilibrées: La majorité des données sont contenues dans les classes 1 et 2, suivi de 7, 3, 5, 6"
   ]
  },
  {
   "cell_type": "code",
   "execution_count": null,
   "metadata": {},
   "outputs": [
    {
     "data": {
      "text/plain": [
       "<AxesSubplot:>"
      ]
     },
     "metadata": {},
     "output_type": "display_data"
    },
    {
     "data": {
      "image/png": "[encoded data removed]",
      "text/plain": [
       "<Figure size 432x288 with 1 Axes>"
      ]
     },
     "metadata": {},
     "output_type": "display_data"
    }
   ],
   "source": [
    "data['Class'].value_counts().plot.bar()"
   ]
  },
  {
   "cell_type": "code",
   "execution_count": null,
   "metadata": {},
   "outputs": [
    {
     "name": "stderr",
     "output_type": "stream",
     "text": [
      "/Users/nicolasgutehrle/opt/anaconda3/envs/cours/lib/python3.9/site-packages/sklearn/utils/validation.py:985: DataConversionWarning: A column-vector y was passed when a 1d array was expected. Please change the shape of y to (n_samples, ), for example using ravel().\n",
      "  y = column_or_1d(y, warn=True)\n",
      "/Users/nicolasgutehrle/opt/anaconda3/envs/cours/lib/python3.9/site-packages/sklearn/linear_model/_logistic.py:814: ConvergenceWarning: lbfgs failed to converge (status=1):\n",
      "STOP: TOTAL NO. of ITERATIONS REACHED LIMIT.\n",
      "\n",
      "Increase the number of iterations (max_iter) or scale the data as shown in:\n",
      "    https://scikit-learn.org/stable/modules/preprocessing.html\n",
      "Please also refer to the documentation for alternative solver options:\n",
      "    https://scikit-learn.org/stable/modules/linear_model.html#logistic-regression\n",
      "  n_iter_i = _check_optimize_result(\n"
     ]
    },
    {
     "data": {
      "text/plain": [
       "0.6851851851851852"
      ]
     },
     "metadata": {},
     "output_type": "display_data"
    }
   ],
   "source": [
    "from sklearn.linear_model import LogisticRegression\n",
    "from sklearn.model_selection import train_test_split\n",
    "\n",
    "lr = LogisticRegression()\n",
    "X = data.iloc[:, :-1]\n",
    "y = data.iloc[:, -1:]\n",
    "X_train, X_test, y_train, y_test = train_test_split(X, y, train_size = .75)\n",
    "\n",
    "lr = lr.fit(X_train, y_train)\n",
    "lr.score(X_test, y_test)"
   ]
  },
  {
   "cell_type": "markdown",
   "metadata": {},
   "source": [
    "On voit ci-dessus que l'on a à peine 62% de précision: l'entraînement ne s'est donc pas bien passé. Bien que ça n'explique pas tout, le fait d'avoir des classes déséquilibrées jouent en grande partie sur le résultat. Il faut donc en priorité résoudre ce problème.\n",
    "\n",
    "Idéalement, pour réequilibrer les classes, ils faut rajouter des données appartenant aux classes lacunaires. Cependant, les données que vous aurez seront en général les seules que vous aurez pu obtenir. Il sera donc difficile de rajouter de nouvelles données. Il faut donc agir au niveau des données que l'on a. Pour cela, nous avons deux options: l'``Under-sampling`` et l'``Over-sampling``\n",
    "\n",
    "En travaillant avec ``scikit-learn``, vous pouvez utiliser la librairie ``imblearn``, qui implémente ces différentes méthodes:"
   ]
  },
  {
   "cell_type": "code",
   "execution_count": null,
   "metadata": {},
   "outputs": [
    {
     "name": "stdout",
     "output_type": "stream",
     "text": [
      "Collecting imblearn\n",
      "  Downloading imblearn-0.0-py2.py3-none-any.whl (1.9 kB)\n",
      "Collecting imbalanced-learn\n",
      "  Downloading imbalanced_learn-0.8.1-py3-none-any.whl (189 kB)\n",
      "\u001b[K     |████████████████████████████████| 189 kB 514 kB/s eta 0:00:01\n",
      "\u001b[?25hRequirement already satisfied: scikit-learn>=0.24 in /Users/nicolasgutehrle/opt/anaconda3/envs/cours/lib/python3.9/site-packages (from imbalanced-learn->imblearn) (1.0)\n",
      "Requirement already satisfied: scipy>=0.19.1 in /Users/nicolasgutehrle/opt/anaconda3/envs/cours/lib/python3.9/site-packages (from imbalanced-learn->imblearn) (1.7.1)\n",
      "Requirement already satisfied: joblib>=0.11 in /Users/nicolasgutehrle/opt/anaconda3/envs/cours/lib/python3.9/site-packages (from imbalanced-learn->imblearn) (1.0.1)\n",
      "Requirement already satisfied: numpy>=1.13.3 in /Users/nicolasgutehrle/opt/anaconda3/envs/cours/lib/python3.9/site-packages (from imbalanced-learn->imblearn) (1.21.4)\n",
      "Requirement already satisfied: threadpoolctl>=2.0.0 in /Users/nicolasgutehrle/opt/anaconda3/envs/cours/lib/python3.9/site-packages (from scikit-learn>=0.24->imbalanced-learn->imblearn) (2.2.0)\n",
      "Installing collected packages: imbalanced-learn, imblearn\n",
      "Successfully installed imbalanced-learn-0.8.1 imblearn-0.0\n"
     ]
    }
   ],
   "source": [
    "!pip3 install imblearn"
   ]
  },
  {
   "cell_type": "code",
   "execution_count": null,
   "metadata": {},
   "outputs": [
    {
     "data": {
      "text/plain": [
       "((214, 9), (214, 1))"
      ]
     },
     "metadata": {},
     "output_type": "display_data"
    }
   ],
   "source": [
    "X.shape, y.shape"
   ]
  },
  {
   "cell_type": "code",
   "execution_count": null,
   "metadata": {},
   "outputs": [],
   "source": [
    "import imblearn"
   ]
  },
  {
   "cell_type": "markdown",
   "metadata": {},
   "source": [
    "## Under-sampling\n",
    "\n",
    "La méthode la plus simple est de réduire le nombre de données à la plus petite classe. On s'assure ainsi d'avoir des classes équilibrées sans en créer de nouvelles. On parle alors d'``Under-sampling``. Il existe plusieurs méthodes d'Under-sampling, la plus simple étant la méthode aléatoire:"
   ]
  },
  {
   "cell_type": "code",
   "execution_count": null,
   "metadata": {},
   "outputs": [
    {
     "name": "stdout",
     "output_type": "stream",
     "text": [
      "Nouvelle forme des données:  (54, 9) (54, 1)\n"
     ]
    }
   ],
   "source": [
    "from imblearn.under_sampling import RandomUnderSampler\n",
    "randomsampler = RandomUnderSampler(random_state=42) # random_state permet de s'assurer que les données seront toujours mélangées de la même manière\n",
    "under_X, under_y = randomsampler.fit_resample(X, y)\n",
    "print('Nouvelle forme des données: ', under_X.shape, under_y.shape)"
   ]
  },
  {
   "cell_type": "code",
   "execution_count": null,
   "metadata": {},
   "outputs": [
    {
     "data": {
      "text/plain": [
       "<AxesSubplot:>"
      ]
     },
     "metadata": {},
     "output_type": "display_data"
    },
    {
     "data": {
      "image/png": "[encoded data removed]",
      "text/plain": [
       "<Figure size 432x288 with 1 Axes>"
      ]
     },
     "metadata": {},
     "output_type": "display_data"
    }
   ],
   "source": [
    "under_y['Class'].value_counts().plot.bar()"
   ]
  },
  {
   "cell_type": "code",
   "execution_count": null,
   "metadata": {},
   "outputs": [
    {
     "name": "stderr",
     "output_type": "stream",
     "text": [
      "/Users/nicolasgutehrle/opt/anaconda3/envs/cours/lib/python3.9/site-packages/sklearn/utils/validation.py:985: DataConversionWarning: A column-vector y was passed when a 1d array was expected. Please change the shape of y to (n_samples, ), for example using ravel().\n",
      "  y = column_or_1d(y, warn=True)\n",
      "/Users/nicolasgutehrle/opt/anaconda3/envs/cours/lib/python3.9/site-packages/sklearn/linear_model/_logistic.py:814: ConvergenceWarning: lbfgs failed to converge (status=1):\n",
      "STOP: TOTAL NO. of ITERATIONS REACHED LIMIT.\n",
      "\n",
      "Increase the number of iterations (max_iter) or scale the data as shown in:\n",
      "    https://scikit-learn.org/stable/modules/preprocessing.html\n",
      "Please also refer to the documentation for alternative solver options:\n",
      "    https://scikit-learn.org/stable/modules/linear_model.html#logistic-regression\n",
      "  n_iter_i = _check_optimize_result(\n"
     ]
    },
    {
     "data": {
      "text/plain": [
       "0.6666666666666666"
      ]
     },
     "metadata": {},
     "output_type": "display_data"
    }
   ],
   "source": [
    "lr = lr.fit(under_X, under_y)\n",
    "lr.score(X_test, y_test)"
   ]
  },
  {
   "cell_type": "markdown",
   "metadata": {},
   "source": [
    "Une autre méthode proposée par ``imblearn`` est d'utiliser un algorithme KNN pour réduire le nombre de samples. Il existe plusieurs variations de cette méthode, mais de manière générale, l'algorithme supprime tout point qui ne fait pas partie de la même classe que celle de la majorité des voisins:"
   ]
  },
  {
   "cell_type": "code",
   "execution_count": null,
   "metadata": {},
   "outputs": [
    {
     "name": "stdout",
     "output_type": "stream",
     "text": [
      "Nouvelle forme des données:  (111, 9) (111, 1)\n"
     ]
    },
    {
     "data": {
      "text/plain": [
       "<AxesSubplot:>"
      ]
     },
     "metadata": {},
     "output_type": "display_data"
    },
    {
     "data": {
      "image/png": "[encoded data removed]",
      "text/plain": [
       "<Figure size 432x288 with 1 Axes>"
      ]
     },
     "metadata": {},
     "output_type": "display_data"
    }
   ],
   "source": [
    "from imblearn.under_sampling import EditedNearestNeighbours\n",
    "nn_undersampler = EditedNearestNeighbours()\n",
    "under_X, under_y = nn_undersampler.fit_resample(X, y)\n",
    "print('Nouvelle forme des données: ', under_X.shape, under_y.shape)\n",
    "under_y['Class'].value_counts().plot.bar()"
   ]
  },
  {
   "cell_type": "code",
   "execution_count": null,
   "metadata": {},
   "outputs": [
    {
     "name": "stderr",
     "output_type": "stream",
     "text": [
      "/Users/nicolasgutehrle/opt/anaconda3/envs/cours/lib/python3.9/site-packages/sklearn/utils/validation.py:985: DataConversionWarning: A column-vector y was passed when a 1d array was expected. Please change the shape of y to (n_samples, ), for example using ravel().\n",
      "  y = column_or_1d(y, warn=True)\n",
      "/Users/nicolasgutehrle/opt/anaconda3/envs/cours/lib/python3.9/site-packages/sklearn/linear_model/_logistic.py:814: ConvergenceWarning: lbfgs failed to converge (status=1):\n",
      "STOP: TOTAL NO. of ITERATIONS REACHED LIMIT.\n",
      "\n",
      "Increase the number of iterations (max_iter) or scale the data as shown in:\n",
      "    https://scikit-learn.org/stable/modules/preprocessing.html\n",
      "Please also refer to the documentation for alternative solver options:\n",
      "    https://scikit-learn.org/stable/modules/linear_model.html#logistic-regression\n",
      "  n_iter_i = _check_optimize_result(\n"
     ]
    },
    {
     "data": {
      "text/plain": [
       "0.7037037037037037"
      ]
     },
     "metadata": {},
     "output_type": "display_data"
    }
   ],
   "source": [
    "lr = lr.fit(under_X, under_y)\n",
    "lr.score(X_test, y_test)"
   ]
  },
  {
   "cell_type": "markdown",
   "metadata": {},
   "source": [
    "## Over-sampling\n",
    "\n",
    "On peut également créer des données factices. Celles-ci ressembleront aux données déjà existantes sans être exactement les mêmes. Il existe pour cela différentes méthodes et algorithmes. On parle d'``Over-sampling``.\n",
    "\n",
    "Comme pour l'``Under-sampling``, la méthode la plus simple est de sélectionner aléatoirement des points de données et de les copier. Attention: simplement copier-coller les données de telle sorte à compléter les classes lacunaires n'est pas une solution. En effet, la qualité de l'algorithme dépend de la quantité et de la variété des données. Copier-coller les données ne ferait que rajouter des données que l'algorithme aura déjà vues:"
   ]
  },
  {
   "cell_type": "code",
   "execution_count": null,
   "metadata": {},
   "outputs": [
    {
     "name": "stdout",
     "output_type": "stream",
     "text": [
      "Nouvelle forme des données:  (456, 9) (456, 1)\n"
     ]
    },
    {
     "data": {
      "text/plain": [
       "<AxesSubplot:>"
      ]
     },
     "metadata": {},
     "output_type": "display_data"
    },
    {
     "data": {
      "image/png": "[encoded data removed]",
      "text/plain": [
       "<Figure size 432x288 with 1 Axes>"
      ]
     },
     "metadata": {},
     "output_type": "display_data"
    }
   ],
   "source": [
    "from imblearn.over_sampling import RandomOverSampler\n",
    "randomoversampler = RandomOverSampler(random_state = 42)\n",
    "over_X, over_y = randomoversampler.fit_resample(X,y)\n",
    "print('Nouvelle forme des données: ', over_X.shape, over_y.shape)\n",
    "over_y['Class'].value_counts().plot.bar()"
   ]
  },
  {
   "cell_type": "code",
   "execution_count": null,
   "metadata": {},
   "outputs": [
    {
     "name": "stderr",
     "output_type": "stream",
     "text": [
      "/Users/nicolasgutehrle/opt/anaconda3/envs/cours/lib/python3.9/site-packages/sklearn/utils/validation.py:985: DataConversionWarning: A column-vector y was passed when a 1d array was expected. Please change the shape of y to (n_samples, ), for example using ravel().\n",
      "  y = column_or_1d(y, warn=True)\n",
      "/Users/nicolasgutehrle/opt/anaconda3/envs/cours/lib/python3.9/site-packages/sklearn/linear_model/_logistic.py:814: ConvergenceWarning: lbfgs failed to converge (status=1):\n",
      "STOP: TOTAL NO. of ITERATIONS REACHED LIMIT.\n",
      "\n",
      "Increase the number of iterations (max_iter) or scale the data as shown in:\n",
      "    https://scikit-learn.org/stable/modules/preprocessing.html\n",
      "Please also refer to the documentation for alternative solver options:\n",
      "    https://scikit-learn.org/stable/modules/linear_model.html#logistic-regression\n",
      "  n_iter_i = _check_optimize_result(\n"
     ]
    },
    {
     "data": {
      "text/plain": [
       "0.7407407407407407"
      ]
     },
     "metadata": {},
     "output_type": "display_data"
    }
   ],
   "source": [
    "lr = lr.fit(over_X, over_y)\n",
    "lr.score(X_test, y_test)"
   ]
  },
  {
   "cell_type": "markdown",
   "metadata": {},
   "source": [
    "### SMOTE\n",
    "\n",
    "Au lieu de copier aléatoirement des points de données comme dans la méthode précédente, ``SMOTE`` génère de nouveaux points de données à partir d'un algorithme de type KNN:"
   ]
  },
  {
   "cell_type": "code",
   "execution_count": null,
   "metadata": {},
   "outputs": [
    {
     "name": "stdout",
     "output_type": "stream",
     "text": [
      "Nouvelle forme des données:  (456, 9) (456, 1)\n"
     ]
    },
    {
     "data": {
      "text/plain": [
       "<AxesSubplot:>"
      ]
     },
     "metadata": {},
     "output_type": "display_data"
    },
    {
     "data": {
      "image/png": "[encoded data removed]",
      "text/plain": [
       "<Figure size 432x288 with 1 Axes>"
      ]
     },
     "metadata": {},
     "output_type": "display_data"
    }
   ],
   "source": [
    "from imblearn.over_sampling import SMOTE\n",
    "smote = SMOTE()\n",
    "over_X, over_y = smote.fit_resample(X,y)\n",
    "print('Nouvelle forme des données: ', over_X.shape, over_y.shape)\n",
    "over_y['Class'].value_counts().plot.bar()"
   ]
  },
  {
   "cell_type": "code",
   "execution_count": null,
   "metadata": {},
   "outputs": [
    {
     "name": "stderr",
     "output_type": "stream",
     "text": [
      "/Users/nicolasgutehrle/opt/anaconda3/envs/cours/lib/python3.9/site-packages/sklearn/utils/validation.py:985: DataConversionWarning: A column-vector y was passed when a 1d array was expected. Please change the shape of y to (n_samples, ), for example using ravel().\n",
      "  y = column_or_1d(y, warn=True)\n",
      "/Users/nicolasgutehrle/opt/anaconda3/envs/cours/lib/python3.9/site-packages/sklearn/linear_model/_logistic.py:814: ConvergenceWarning: lbfgs failed to converge (status=1):\n",
      "STOP: TOTAL NO. of ITERATIONS REACHED LIMIT.\n",
      "\n",
      "Increase the number of iterations (max_iter) or scale the data as shown in:\n",
      "    https://scikit-learn.org/stable/modules/preprocessing.html\n",
      "Please also refer to the documentation for alternative solver options:\n",
      "    https://scikit-learn.org/stable/modules/linear_model.html#logistic-regression\n",
      "  n_iter_i = _check_optimize_result(\n"
     ]
    },
    {
     "data": {
      "text/plain": [
       "0.6851851851851852"
      ]
     },
     "metadata": {},
     "output_type": "display_data"
    }
   ],
   "source": [
    "lr = lr.fit(over_X, over_y)\n",
    "lr.score(X_test, y_test)"
   ]
  },
  {
   "cell_type": "markdown",
   "metadata": {},
   "source": []
  },
  {
   "cell_type": "markdown",
   "metadata": {
    "colab_type": "text",
    "id": "1IWGG1682wSe"
   },
   "source": [
    "## Supprimer les mots vides\n",
    "\n",
    "Les mots-vides, ou mots-outils, sont tous les mots tels que déterminants, pronoms, prépositions, etc. qui jouent un rôle syntaxique mais ne participent pas au niveau sémantique du texte. Comme décrit par la Loi de Zipf, ce sont les mots que l'on retrouve le plus dans un corpus, et qui par conséquent y sont les moins importants. \n",
    "\n",
    "Puisque la méthode sac de mots ne s'intéresse pas à l'organisation du texte, il est recommandé d'en supprimer les mots vides afin d'en réduire le nombre de dimensions.\n",
    "\n",
    "Comme nous l'avons vu plus tôt, ``CountVectorizer`` prend en charge différents aspects du prétraitement, en particulier la suppression des mots vides. Cependant, il fonctionne par défaut sur l'anglais et ne propose pas de prétraitements pour le français. Ainsi, pour supprimer les mots vides français, il faut lui en fournir une liste, que vous trouverez dans le dossier ``data`` de ce cours. \n",
    "\n",
    "Nous allons dans la cellule ci-dessous charger ce fichier dans une liste, puis le donner en argument à ``CountVectorizer``:"
   ]
  },
  {
   "cell_type": "code",
   "execution_count": 2,
   "metadata": {
    "colab": {
     "base_uri": "https://localhost:8080/",
     "height": 201
    },
    "colab_type": "code",
    "executionInfo": {
     "elapsed": 525,
     "status": "ok",
     "timestamp": 1594303485317,
     "user": {
      "displayName": "Nicolas Gutehrlé",
      "photoUrl": "",
      "userId": "13449761133402795532"
     },
     "user_tz": -120
    },
    "id": "MY2cxcZl2zfJ",
    "outputId": "426696b6-10d9-4071-f21c-6c86353d82a3"
   },
   "outputs": [
    {
     "data": {
      "text/plain": [
       "['a',\n",
       " 'abord',\n",
       " 'absolument',\n",
       " 'afin',\n",
       " 'ah',\n",
       " 'ai',\n",
       " 'aie',\n",
       " 'aient',\n",
       " 'aies',\n",
       " 'ailleurs']"
      ]
     },
     "execution_count": 2,
     "metadata": {},
     "output_type": "execute_result"
    }
   ],
   "source": [
    "fr_stopwords = []\n",
    "with open('data/fr_stopwords.txt') as f:\n",
    "  for line in f:\n",
    "    # on enleve les sauts de lignes et eventuels espaces en trop\n",
    "    line = line.strip()\n",
    "    fr_stopwords.append(line)\n",
    "fr_stopwords[:10]"
   ]
  },
  {
   "cell_type": "code",
   "execution_count": 3,
   "metadata": {
    "colab": {
     "base_uri": "https://localhost:8080/",
     "height": 166
    },
    "colab_type": "code",
    "executionInfo": {
     "elapsed": 604,
     "status": "ok",
     "timestamp": 1594303611019,
     "user": {
      "displayName": "Nicolas Gutehrlé",
      "photoUrl": "",
      "userId": "13449761133402795532"
     },
     "user_tz": -120
    },
    "id": "y0rgRtJ25Qgi",
    "outputId": "4346ebf0-1a84-4ad2-fd1e-28a71c2246de"
   },
   "outputs": [
    {
     "name": "stderr",
     "output_type": "stream",
     "text": [
      "/Users/nicolasgutehrle/opt/anaconda3/envs/cours/lib/python3.9/site-packages/sklearn/feature_extraction/text.py:396: UserWarning: Your stop_words may be inconsistent with your preprocessing. Tokenizing the stop words generated tokens ['quelqu'] not in stop_words.\n",
      "  warnings.warn(\n",
      "/Users/nicolasgutehrle/opt/anaconda3/envs/cours/lib/python3.9/site-packages/sklearn/utils/deprecation.py:87: FutureWarning: Function get_feature_names is deprecated; get_feature_names is deprecated in 1.0 and will be removed in 1.2. Please use get_feature_names_out instead.\n",
      "  warnings.warn(msg, category=FutureWarning)\n"
     ]
    },
    {
     "data": {
      "text/html": [
       "<div>\n",
       "<style scoped>\n",
       "    .dataframe tbody tr th:only-of-type {\n",
       "        vertical-align: middle;\n",
       "    }\n",
       "\n",
       "    .dataframe tbody tr th {\n",
       "        vertical-align: top;\n",
       "    }\n",
       "\n",
       "    .dataframe thead th {\n",
       "        text-align: right;\n",
       "    }\n",
       "</style>\n",
       "<table border=\"1\" class=\"dataframe\">\n",
       "  <thead>\n",
       "    <tr style=\"text-align: right;\">\n",
       "      <th></th>\n",
       "      <th>amener</th>\n",
       "      <th>anneau</th>\n",
       "      <th>gouverner</th>\n",
       "      <th>lier</th>\n",
       "      <th>trouver</th>\n",
       "      <th>ténèbres</th>\n",
       "    </tr>\n",
       "  </thead>\n",
       "  <tbody>\n",
       "    <tr>\n",
       "      <th>Un anneau pour les gouverner tous.</th>\n",
       "      <td>0</td>\n",
       "      <td>1</td>\n",
       "      <td>1</td>\n",
       "      <td>0</td>\n",
       "      <td>0</td>\n",
       "      <td>0</td>\n",
       "    </tr>\n",
       "    <tr>\n",
       "      <th>Un anneau pour les trouver.</th>\n",
       "      <td>0</td>\n",
       "      <td>1</td>\n",
       "      <td>0</td>\n",
       "      <td>0</td>\n",
       "      <td>1</td>\n",
       "      <td>0</td>\n",
       "    </tr>\n",
       "    <tr>\n",
       "      <th>Un anneau pour les amener tous et dans les ténèbres les lier.</th>\n",
       "      <td>1</td>\n",
       "      <td>1</td>\n",
       "      <td>0</td>\n",
       "      <td>1</td>\n",
       "      <td>0</td>\n",
       "      <td>1</td>\n",
       "    </tr>\n",
       "  </tbody>\n",
       "</table>\n",
       "</div>"
      ],
      "text/plain": [
       "                                                    amener  anneau  gouverner  \\\n",
       "Un anneau pour les gouverner tous.                       0       1          1   \n",
       "Un anneau pour les trouver.                              0       1          0   \n",
       "Un anneau pour les amener tous et dans les ténè...       1       1          0   \n",
       "\n",
       "                                                    lier  trouver  ténèbres  \n",
       "Un anneau pour les gouverner tous.                     0        0         0  \n",
       "Un anneau pour les trouver.                            0        1         0  \n",
       "Un anneau pour les amener tous et dans les ténè...     1        0         1  "
      ]
     },
     "execution_count": 3,
     "metadata": {},
     "output_type": "execute_result"
    }
   ],
   "source": [
    "cv = CountVectorizer(stop_words= fr_stopwords)\n",
    "X = cv.fit_transform(corpus)\n",
    "\n",
    "vec_df = pd.DataFrame(data = X.toarray(),\n",
    "                        columns = cv.get_feature_names())\n",
    "vec_df.index = corpus\n",
    "vec_df.head()"
   ]
  },
  {
   "cell_type": "markdown",
   "metadata": {},
   "source": [
    "En supprimant les mots-vides, nous avons divisé par deux la taille de notre vocabulaire. Bien qu'ici il ne s'agisse que d'un faux corpus, cela peut avoir un impact considérable sur le temps et la qualité de l'entraînement."
   ]
  },
  {
   "cell_type": "markdown",
   "metadata": {
    "colab_type": "text",
    "id": "y5YY6NOr55CC"
   },
   "source": [
    "## Etendre le contexte avec les n-grammes\n",
    "\n",
    "Comme nous l'avons déjà dit, le sac de mot est du point de vue linguistique uniquement constitué d'un vocabulaire: la syntaxe de la phrase, et l'organisation générale du texte sont totalement mis de côté. Pourtant, un même vocabulaire dans différentes organisations peut donner de multiples sens, comme dans les deux phrases ci-dessous (en anglais):\n",
    "\n",
    "* It's good, it's not so bad\n",
    "* It's bad, it's not so good\n",
    "\n",
    "Avec le sac de mot, nous perdons toutes subtilités apportées par l'organisation de chaque phrase, ce qui est problématique lorsque l'on cherche à traiter du texte comme dans le cas de l'analyse de sentiments.\n",
    "\n",
    "Une solution pour faire face à ce problème tout en conservant la méthode du sac de mots est considérer les ``n-grammes``. \"[Un n-gramme est une sous-séquence de n éléments construite à partir d'une séquence donnée](https://fr.wikipedia.org/wiki/N-gramme)\" (Wikipedia). Jusque là, nous avons tokenizé les phrases au niveau de l'unité lexicale: nous avons donc pris des n-gramme de 1, ou ``unigramme``:\n",
    "\n",
    "``[It, 's, good, it, 's, not, so, bad]``\n",
    "\n",
    "Cependant, nous pouvons sélectionner des n-grammes de la taille n que nous souhaitons, comme des bigrammes (n-grammes de 2) ou trigrammes (n-grammes de 3). Par défaut, les tokens de ``CountVectorizer()`` sont des unigrammes, mais il est possible de choisir la taille des n-grammes en jouant avec le paramètre ``ngram_range``:"
   ]
  },
  {
   "cell_type": "markdown",
   "metadata": {},
   "source": [
    "### N-grammes\n",
    "* it's good it's not so bad\n",
    "* unigramme: (it 's good it 's not so bad\n",
    "* bigramme (it's) ('s good) (it 's) ('s not) (not so) (so bad)\n",
    "* trigramme (it's good) ('s good it) (good it 's) (it 's not) ('s not so) (not so bad)"
   ]
  },
  {
   "cell_type": "code",
   "execution_count": 4,
   "metadata": {
    "colab": {
     "base_uri": "https://localhost:8080/",
     "height": 313
    },
    "colab_type": "code",
    "executionInfo": {
     "elapsed": 650,
     "status": "ok",
     "timestamp": 1594304701314,
     "user": {
      "displayName": "Nicolas Gutehrlé",
      "photoUrl": "",
      "userId": "13449761133402795532"
     },
     "user_tz": -120
    },
    "id": "ED8UP_H47Csv",
    "outputId": "227e3f2a-559e-4ac2-d325-e9a80aaffe2a"
   },
   "outputs": [
    {
     "name": "stdout",
     "output_type": "stream",
     "text": [
      "Unigram Vocabulary : \n",
      "['amener', 'anneau', 'dans', 'et', 'gouverner', 'les', 'lier', 'pour', 'tous', 'trouver', 'ténèbres', 'un']\n",
      "\n",
      "** **\n",
      "\n",
      "Unigram et Bigram Vocabulary : \n",
      "['amener', 'amener tous', 'anneau', 'anneau pour', 'dans', 'dans les', 'et', 'et dans', 'gouverner', 'gouverner tous', 'les', 'les amener', 'les gouverner', 'les lier', 'les trouver', 'les ténèbres', 'lier', 'pour', 'pour les', 'tous', 'tous et', 'trouver', 'ténèbres', 'ténèbres les', 'un', 'un anneau']\n",
      "\n",
      "** **\n",
      "\n",
      "Bigram Vocabulary : \n",
      "['amener tous', 'anneau pour', 'dans les', 'et dans', 'gouverner tous', 'les amener', 'les gouverner', 'les lier', 'les trouver', 'les ténèbres', 'pour les', 'tous et', 'ténèbres les', 'un anneau']\n",
      "\n",
      "** **\n",
      "\n"
     ]
    },
    {
     "name": "stderr",
     "output_type": "stream",
     "text": [
      "/Users/nicolasgutehrle/opt/anaconda3/envs/cours/lib/python3.9/site-packages/sklearn/utils/deprecation.py:87: FutureWarning: Function get_feature_names is deprecated; get_feature_names is deprecated in 1.0 and will be removed in 1.2. Please use get_feature_names_out instead.\n",
      "  warnings.warn(msg, category=FutureWarning)\n"
     ]
    }
   ],
   "source": [
    "# ngram_range = (x, y)\n",
    "# ou x est le nombre minimal d'elements à prendre en compte\n",
    "# et y le nombre maximal\n",
    "\n",
    "\n",
    "unigram_vectorizer = CountVectorizer()\n",
    "X = unigram_vectorizer.fit_transform(corpus)\n",
    "\n",
    "print(\"Unigram Vocabulary : \")\n",
    "print(unigram_vectorizer.get_feature_names())\n",
    "\n",
    "print(\"\\n** **\\n\")\n",
    "\n",
    "unibigram_vectorizer = CountVectorizer(ngram_range=(1,2))\n",
    "X = unibigram_vectorizer.fit_transform(corpus)\n",
    "\n",
    "print(\"Unigram et Bigram Vocabulary : \")\n",
    "print(unibigram_vectorizer.get_feature_names())\n",
    "\n",
    "print(\"\\n** **\\n\")\n",
    "\n",
    "bigram_vectorizer = CountVectorizer(ngram_range=(2,2))\n",
    "X = bigram_vectorizer.fit_transform(corpus)\n",
    "\n",
    "print(\"Bigram Vocabulary : \")\n",
    "print(bigram_vectorizer.get_feature_names())\n",
    "\n",
    "print(\"\\n** **\\n\")\n",
    "\n"
   ]
  },
  {
   "cell_type": "markdown",
   "metadata": {
    "colab_type": "text",
    "id": "F5ZpdwU-BWvD"
   },
   "source": [
    "En général, la tokenization se fait au niveau des mots, mais elle est également intéressante au niveau des caractères lorsqu'on travaille par exemple sur un aspect morphologique (détection de la langue, création d'un autre tokenizer, ...). Pour cela, on précise l'analyzer comme étant ``'char'`` dans ``CountVectorizer`` (par défaut, celui-ci est fixé sur ``'word'``):"
   ]
  },
  {
   "cell_type": "code",
   "execution_count": 5,
   "metadata": {
    "colab": {
     "base_uri": "https://localhost:8080/",
     "height": 313
    },
    "colab_type": "code",
    "executionInfo": {
     "elapsed": 537,
     "status": "ok",
     "timestamp": 1594305429889,
     "user": {
      "displayName": "Nicolas Gutehrlé",
      "photoUrl": "",
      "userId": "13449761133402795532"
     },
     "user_tz": -120
    },
    "id": "6ZPJizZoAbeo",
    "outputId": "749741ce-a0f7-44ea-d238-f95cdda6f155"
   },
   "outputs": [
    {
     "name": "stdout",
     "output_type": "stream",
     "text": [
      "Unigram Vocabulary : \n",
      "[' ', '.', 'a', 'b', 'd', 'e', 'g', 'i', 'l', 'm', 'n', 'o', 'p', 'r', 's', 't', 'u', 'v', 'è', 'é']\n",
      "\n",
      "** **\n",
      "\n",
      "Unigram et Bigram Vocabulary : \n",
      "[' ', ' a', ' d', ' e', ' g', ' l', ' p', ' t', '.', 'a', 'am', 'an', 'au', 'b', 'br', 'd', 'da', 'e', 'ea', 'en', 'er', 'es', 'et', 'g', 'go', 'i', 'ie', 'l', 'le', 'li', 'm', 'me', 'n', 'n ', 'ne', 'nn', 'ns', 'nè', 'o', 'ou', 'p', 'po', 'r', 'r ', 'r.', 're', 'rn', 'ro', 's', 's ', 's.', 't', 't ', 'to', 'tr', 'té', 'u', 'u ', 'un', 'ur', 'us', 'uv', 'v', 've', 'è', 'èb', 'é', 'én']\n",
      "\n",
      "** **\n",
      "\n",
      "Bigram Vocabulary : \n",
      "[' a', ' d', ' e', ' g', ' l', ' p', ' t', 'am', 'an', 'au', 'br', 'da', 'ea', 'en', 'er', 'es', 'et', 'go', 'ie', 'le', 'li', 'me', 'n ', 'ne', 'nn', 'ns', 'nè', 'ou', 'po', 'r ', 'r.', 're', 'rn', 'ro', 's ', 's.', 't ', 'to', 'tr', 'té', 'u ', 'un', 'ur', 'us', 'uv', 've', 'èb', 'én']\n",
      "\n",
      "** **\n",
      "\n"
     ]
    }
   ],
   "source": [
    "# analyzer : définie si CountVectorizer doit compter au niveau des mots (par défaut, 'word') ou des caractères ('char')\n",
    "# \n",
    "analyzer = 'char'\n",
    "unigram_vectorizer = CountVectorizer(analyzer = analyzer)\n",
    "X = unigram_vectorizer.fit_transform(corpus)\n",
    "\n",
    "print(\"Unigram Vocabulary : \")\n",
    "print(unigram_vectorizer.get_feature_names())\n",
    "\n",
    "print(\"\\n** **\\n\")\n",
    "\n",
    "unibigram_vectorizer = CountVectorizer(ngram_range=(1,2),\n",
    "                                       analyzer = analyzer)\n",
    "X = unibigram_vectorizer.fit_transform(corpus)\n",
    "\n",
    "print(\"Unigram et Bigram Vocabulary : \")\n",
    "print(unibigram_vectorizer.get_feature_names())\n",
    "\n",
    "print(\"\\n** **\\n\")\n",
    "\n",
    "bigram_vectorizer = CountVectorizer(ngram_range=(2,2), \n",
    "                                    analyzer = analyzer)\n",
    "X = bigram_vectorizer.fit_transform(corpus)\n",
    "\n",
    "print(\"Bigram Vocabulary : \")\n",
    "print(bigram_vectorizer.get_feature_names())\n",
    "\n",
    "print(\"\\n** **\\n\")"
   ]
  },
  {
   "cell_type": "markdown",
   "metadata": {},
   "source": [
    "Suivant le problème que vous traitez ou suivant le besoin d'améliorer les résultats obtenu par votre modèle lors de l'entraînement, changer la taille des n-gramme peut s'avérer utile. Cependant, si ici notre corpus est ridicule, prendre des n-grammes trop grands sur de larges corpus risque d'augmenter grandement le nombre de feature, ce qui à terme déteriorera les performances du modèle ainsi que l'usage de la mémoire.\n",
    "\n",
    "Il est donc conseillé d'utiliser des unigrammes, bigrammes, trigrammes, et au plus, des n-grammes de 5 éléments."
   ]
  },
  {
   "cell_type": "markdown",
   "metadata": {},
   "source": [
    "## Tf - Idf\n",
    "\n",
    "Avec le ``CountVectorizer`` nous avons pu encoder les textes avec la présence ou non d'un mot dans un texte, puis avec son nombre d'occurrence. Bien que la seconde méthode s'est avérée plus pertinente que la première, elle ne nous dit rien de l'importance d'un terme par rapport aux autres dans un même document, et encore moins vis-à-vis des autres documents contenus dans un corpus. En effet, bien qu'un terme puisse apparaître un certain nombre de fois dans un document, il peut ne pas apparaître du tout dans les autre documents du corpus, ce qui le rend encore plus important pour la compréhesion du document actuel.\n",
    "\n",
    "Ainsi, il pourrait être plus pertinent d'encoder le vocabulaire non pas par rapport à leur fréquence d'apparition mais par rapport à leur poids, c'est-à-dire par rapport à leur importance dans le document. Pour cela, nous pouvons utiliser la méthode ``Tf-Idf`` (pour ``Term frequency-Inverse document frequency``), qui repose sur le postulat expliqué ci-dessus. Nous ne reviendrons pas sur l'origine ni sur la façon de le calculer, mais sachez que le TF-IDF est utilisé dans de nombreux domaines du traitement de l'information autre que le Machine-Learning, en particulier les moteurs de recherches.\n",
    "\n",
    "Dans ``scikit-learn``, le calcul du TF-IDF se fait à l'aide de la classe ``TfidfTransformer``. Celui-ci prend en entrée les résultats obtenus par ``CountVectorizer`` avant de les transformer en une matrice contenant les poids de chaque terme:"
   ]
  },
  {
   "cell_type": "code",
   "execution_count": 6,
   "metadata": {
    "colab": {
     "base_uri": "https://localhost:8080/",
     "height": 201
    },
    "colab_type": "code",
    "executionInfo": {
     "elapsed": 992,
     "status": "ok",
     "timestamp": 1594390584227,
     "user": {
      "displayName": "Nicolas Gutehrlé",
      "photoUrl": "",
      "userId": "13449761133402795532"
     },
     "user_tz": -120
    },
    "id": "ZXBJfvIUBkvk",
    "outputId": "5340f99f-a3ec-49b5-e83e-1991032fe3e9"
   },
   "outputs": [
    {
     "name": "stdout",
     "output_type": "stream",
     "text": [
      "Matrice de poids :\n"
     ]
    },
    {
     "data": {
      "text/html": [
       "<div>\n",
       "<style scoped>\n",
       "    .dataframe tbody tr th:only-of-type {\n",
       "        vertical-align: middle;\n",
       "    }\n",
       "\n",
       "    .dataframe tbody tr th {\n",
       "        vertical-align: top;\n",
       "    }\n",
       "\n",
       "    .dataframe thead th {\n",
       "        text-align: right;\n",
       "    }\n",
       "</style>\n",
       "<table border=\"1\" class=\"dataframe\">\n",
       "  <thead>\n",
       "    <tr style=\"text-align: right;\">\n",
       "      <th></th>\n",
       "      <th>amener</th>\n",
       "      <th>anneau</th>\n",
       "      <th>dans</th>\n",
       "      <th>et</th>\n",
       "      <th>gouverner</th>\n",
       "      <th>les</th>\n",
       "      <th>lier</th>\n",
       "      <th>pour</th>\n",
       "      <th>tous</th>\n",
       "      <th>trouver</th>\n",
       "      <th>ténèbres</th>\n",
       "      <th>un</th>\n",
       "    </tr>\n",
       "  </thead>\n",
       "  <tbody>\n",
       "    <tr>\n",
       "      <th>Un anneau pour les gouverner tous.</th>\n",
       "      <td>0.000000</td>\n",
       "      <td>0.342496</td>\n",
       "      <td>0.000000</td>\n",
       "      <td>0.000000</td>\n",
       "      <td>0.579897</td>\n",
       "      <td>0.342496</td>\n",
       "      <td>0.000000</td>\n",
       "      <td>0.342496</td>\n",
       "      <td>0.441027</td>\n",
       "      <td>0.000000</td>\n",
       "      <td>0.000000</td>\n",
       "      <td>0.342496</td>\n",
       "    </tr>\n",
       "    <tr>\n",
       "      <th>Un anneau pour les trouver.</th>\n",
       "      <td>0.000000</td>\n",
       "      <td>0.381614</td>\n",
       "      <td>0.000000</td>\n",
       "      <td>0.000000</td>\n",
       "      <td>0.000000</td>\n",
       "      <td>0.381614</td>\n",
       "      <td>0.000000</td>\n",
       "      <td>0.381614</td>\n",
       "      <td>0.000000</td>\n",
       "      <td>0.646129</td>\n",
       "      <td>0.000000</td>\n",
       "      <td>0.381614</td>\n",
       "    </tr>\n",
       "    <tr>\n",
       "      <th>Un anneau pour les amener tous et dans les ténèbres les lier.</th>\n",
       "      <td>0.320021</td>\n",
       "      <td>0.189010</td>\n",
       "      <td>0.320021</td>\n",
       "      <td>0.320021</td>\n",
       "      <td>0.000000</td>\n",
       "      <td>0.567029</td>\n",
       "      <td>0.320021</td>\n",
       "      <td>0.189010</td>\n",
       "      <td>0.243384</td>\n",
       "      <td>0.000000</td>\n",
       "      <td>0.320021</td>\n",
       "      <td>0.189010</td>\n",
       "    </tr>\n",
       "  </tbody>\n",
       "</table>\n",
       "</div>"
      ],
      "text/plain": [
       "                                                      amener    anneau  \\\n",
       "Un anneau pour les gouverner tous.                  0.000000  0.342496   \n",
       "Un anneau pour les trouver.                         0.000000  0.381614   \n",
       "Un anneau pour les amener tous et dans les ténè...  0.320021  0.189010   \n",
       "\n",
       "                                                        dans        et  \\\n",
       "Un anneau pour les gouverner tous.                  0.000000  0.000000   \n",
       "Un anneau pour les trouver.                         0.000000  0.000000   \n",
       "Un anneau pour les amener tous et dans les ténè...  0.320021  0.320021   \n",
       "\n",
       "                                                    gouverner       les  \\\n",
       "Un anneau pour les gouverner tous.                   0.579897  0.342496   \n",
       "Un anneau pour les trouver.                          0.000000  0.381614   \n",
       "Un anneau pour les amener tous et dans les ténè...   0.000000  0.567029   \n",
       "\n",
       "                                                        lier      pour  \\\n",
       "Un anneau pour les gouverner tous.                  0.000000  0.342496   \n",
       "Un anneau pour les trouver.                         0.000000  0.381614   \n",
       "Un anneau pour les amener tous et dans les ténè...  0.320021  0.189010   \n",
       "\n",
       "                                                        tous   trouver  \\\n",
       "Un anneau pour les gouverner tous.                  0.441027  0.000000   \n",
       "Un anneau pour les trouver.                         0.000000  0.646129   \n",
       "Un anneau pour les amener tous et dans les ténè...  0.243384  0.000000   \n",
       "\n",
       "                                                    ténèbres        un  \n",
       "Un anneau pour les gouverner tous.                  0.000000  0.342496  \n",
       "Un anneau pour les trouver.                         0.000000  0.381614  \n",
       "Un anneau pour les amener tous et dans les ténè...  0.320021  0.189010  "
      ]
     },
     "execution_count": 6,
     "metadata": {},
     "output_type": "execute_result"
    }
   ],
   "source": [
    "from sklearn.feature_extraction.text import CountVectorizer, TfidfTransformer\n",
    "\n",
    "vectorizer = CountVectorizer()\n",
    "vectorizer.fit(corpus)\n",
    "X = vectorizer.transform(corpus)\n",
    "\n",
    "tfidf = TfidfTransformer()\n",
    "tfidf_X = tfidf.fit_transform(X)\n",
    "print(\"Matrice de poids :\")\n",
    "\n",
    "tfidf_X\n",
    "tfidf_X.toarray()\n",
    "\n",
    "vec_df = pd.DataFrame(data = tfidf_X.toarray(),\n",
    "                        columns = vectorizer.get_feature_names())\n",
    "vec_df.index = corpus\n",
    "vec_df.head()"
   ]
  },
  {
   "cell_type": "markdown",
   "metadata": {},
   "source": [
    "### Note\n",
    "\n",
    "``TfidfVectorizer`` est une classe regroupant ``CountVectorizer`` et ``TfidfTransformer`` Celui-ci utilise en interne le calcul des fréquences d'apparitions des mots obtenus par ``CountVectorizer`` avant d'effectuer le calcul des poids de chaque terme à l'aide de ``TfidfTransformer``. Ainsi, si vous souhaitez utiliser la méthode Tf-idf dans ``scikit-learn``, il est recommandé d'utiliser le ``TfidfVectorizer`` pour plus de simplicité:"
   ]
  },
  {
   "cell_type": "code",
   "execution_count": 10,
   "metadata": {},
   "outputs": [
    {
     "name": "stderr",
     "output_type": "stream",
     "text": [
      "/Users/nicolasgutehrle/opt/anaconda3/envs/cours/lib/python3.9/site-packages/sklearn/utils/deprecation.py:87: FutureWarning: Function get_feature_names is deprecated; get_feature_names is deprecated in 1.0 and will be removed in 1.2. Please use get_feature_names_out instead.\n",
      "  warnings.warn(msg, category=FutureWarning)\n"
     ]
    },
    {
     "data": {
      "text/html": [
       "<div>\n",
       "<style scoped>\n",
       "    .dataframe tbody tr th:only-of-type {\n",
       "        vertical-align: middle;\n",
       "    }\n",
       "\n",
       "    .dataframe tbody tr th {\n",
       "        vertical-align: top;\n",
       "    }\n",
       "\n",
       "    .dataframe thead th {\n",
       "        text-align: right;\n",
       "    }\n",
       "</style>\n",
       "<table border=\"1\" class=\"dataframe\">\n",
       "  <thead>\n",
       "    <tr style=\"text-align: right;\">\n",
       "      <th></th>\n",
       "      <th>amener</th>\n",
       "      <th>anneau</th>\n",
       "      <th>dans</th>\n",
       "      <th>et</th>\n",
       "      <th>gouverner</th>\n",
       "      <th>les</th>\n",
       "      <th>lier</th>\n",
       "      <th>pour</th>\n",
       "      <th>tous</th>\n",
       "      <th>trouver</th>\n",
       "      <th>ténèbres</th>\n",
       "      <th>un</th>\n",
       "    </tr>\n",
       "  </thead>\n",
       "  <tbody>\n",
       "    <tr>\n",
       "      <th>Un anneau pour les gouverner tous.</th>\n",
       "      <td>0.000000</td>\n",
       "      <td>0.342496</td>\n",
       "      <td>0.000000</td>\n",
       "      <td>0.000000</td>\n",
       "      <td>0.579897</td>\n",
       "      <td>0.342496</td>\n",
       "      <td>0.000000</td>\n",
       "      <td>0.342496</td>\n",
       "      <td>0.441027</td>\n",
       "      <td>0.000000</td>\n",
       "      <td>0.000000</td>\n",
       "      <td>0.342496</td>\n",
       "    </tr>\n",
       "    <tr>\n",
       "      <th>Un anneau pour les trouver.</th>\n",
       "      <td>0.000000</td>\n",
       "      <td>0.381614</td>\n",
       "      <td>0.000000</td>\n",
       "      <td>0.000000</td>\n",
       "      <td>0.000000</td>\n",
       "      <td>0.381614</td>\n",
       "      <td>0.000000</td>\n",
       "      <td>0.381614</td>\n",
       "      <td>0.000000</td>\n",
       "      <td>0.646129</td>\n",
       "      <td>0.000000</td>\n",
       "      <td>0.381614</td>\n",
       "    </tr>\n",
       "    <tr>\n",
       "      <th>Un anneau pour les amener tous et dans les ténèbres les lier.</th>\n",
       "      <td>0.320021</td>\n",
       "      <td>0.189010</td>\n",
       "      <td>0.320021</td>\n",
       "      <td>0.320021</td>\n",
       "      <td>0.000000</td>\n",
       "      <td>0.567029</td>\n",
       "      <td>0.320021</td>\n",
       "      <td>0.189010</td>\n",
       "      <td>0.243384</td>\n",
       "      <td>0.000000</td>\n",
       "      <td>0.320021</td>\n",
       "      <td>0.189010</td>\n",
       "    </tr>\n",
       "  </tbody>\n",
       "</table>\n",
       "</div>"
      ],
      "text/plain": [
       "                                                      amener    anneau  \\\n",
       "Un anneau pour les gouverner tous.                  0.000000  0.342496   \n",
       "Un anneau pour les trouver.                         0.000000  0.381614   \n",
       "Un anneau pour les amener tous et dans les ténè...  0.320021  0.189010   \n",
       "\n",
       "                                                        dans        et  \\\n",
       "Un anneau pour les gouverner tous.                  0.000000  0.000000   \n",
       "Un anneau pour les trouver.                         0.000000  0.000000   \n",
       "Un anneau pour les amener tous et dans les ténè...  0.320021  0.320021   \n",
       "\n",
       "                                                    gouverner       les  \\\n",
       "Un anneau pour les gouverner tous.                   0.579897  0.342496   \n",
       "Un anneau pour les trouver.                          0.000000  0.381614   \n",
       "Un anneau pour les amener tous et dans les ténè...   0.000000  0.567029   \n",
       "\n",
       "                                                        lier      pour  \\\n",
       "Un anneau pour les gouverner tous.                  0.000000  0.342496   \n",
       "Un anneau pour les trouver.                         0.000000  0.381614   \n",
       "Un anneau pour les amener tous et dans les ténè...  0.320021  0.189010   \n",
       "\n",
       "                                                        tous   trouver  \\\n",
       "Un anneau pour les gouverner tous.                  0.441027  0.000000   \n",
       "Un anneau pour les trouver.                         0.000000  0.646129   \n",
       "Un anneau pour les amener tous et dans les ténè...  0.243384  0.000000   \n",
       "\n",
       "                                                    ténèbres        un  \n",
       "Un anneau pour les gouverner tous.                  0.000000  0.342496  \n",
       "Un anneau pour les trouver.                         0.000000  0.381614  \n",
       "Un anneau pour les amener tous et dans les ténè...  0.320021  0.189010  "
      ]
     },
     "execution_count": 10,
     "metadata": {},
     "output_type": "execute_result"
    }
   ],
   "source": [
    "from sklearn.feature_extraction.text import TfidfVectorizer\n",
    "\n",
    "vectorizer = TfidfVectorizer()\n",
    "X = vectorizer.fit_transform(corpus)\n",
    "\n",
    "vec_df = pd.DataFrame(data = X.toarray(),\n",
    "                        columns = vectorizer.get_feature_names())\n",
    "vec_df.index = corpus\n",
    "vec_df.head()"
   ]
  },
  {
   "cell_type": "markdown",
   "metadata": {},
   "source": [
    "## Fixer la taille maximale du vocabulaire\n",
    "\n",
    "Bien que l'on puisse modifier la taille du vocabulaire en jouant avec différents paramètres tels que les mots-vides ou les n-grammes, la façon la plus simple pour limiter au maximum le nombre de features est de simplement fixé une taille maximale à notre vocabulaire. \n",
    "\n",
    "Les vocabulaires que nous avont créés jusque là sur le ``amazon_review`` contenaient plus de 50 000 mots, pour lesquels seulement une poignée est contenue dans chaque document. Ainsi, on peut choisir de limiter le vocabulaire à 10 000 mots seulement, qui seront les 10 000 mots les plus fréquents de notre corpus. \n",
    "\n",
    "Bien entendu, en procédant de cette manière, on perd la possibilité d'encoder et de représenter le sens d'un grand nombre de documents.  Cependant, on peut à l'inverse se dire que seuls un certain nombre de mots est nécessaire à la compréhension générale de ce corpus. De plus, en procédant ainsi, on limite les risques liés à un trop grand nombre de features (cf. curse of dimensionality).\n",
    "\n",
    "Pour limiter la taille du vocabulaire, on change la valeur du paramètre ``max_features``:"
   ]
  },
  {
   "cell_type": "code",
   "execution_count": 11,
   "metadata": {},
   "outputs": [
    {
     "name": "stderr",
     "output_type": "stream",
     "text": [
      "/Users/nicolasgutehrle/opt/anaconda3/envs/cours/lib/python3.9/site-packages/sklearn/utils/deprecation.py:87: FutureWarning: Function get_feature_names is deprecated; get_feature_names is deprecated in 1.0 and will be removed in 1.2. Please use get_feature_names_out instead.\n",
      "  warnings.warn(msg, category=FutureWarning)\n"
     ]
    },
    {
     "data": {
      "text/html": [
       "<div>\n",
       "<style scoped>\n",
       "    .dataframe tbody tr th:only-of-type {\n",
       "        vertical-align: middle;\n",
       "    }\n",
       "\n",
       "    .dataframe tbody tr th {\n",
       "        vertical-align: top;\n",
       "    }\n",
       "\n",
       "    .dataframe thead th {\n",
       "        text-align: right;\n",
       "    }\n",
       "</style>\n",
       "<table border=\"1\" class=\"dataframe\">\n",
       "  <thead>\n",
       "    <tr style=\"text-align: right;\">\n",
       "      <th></th>\n",
       "      <th>anneau</th>\n",
       "      <th>les</th>\n",
       "      <th>pour</th>\n",
       "    </tr>\n",
       "  </thead>\n",
       "  <tbody>\n",
       "    <tr>\n",
       "      <th>Un anneau pour les gouverner tous.</th>\n",
       "      <td>1</td>\n",
       "      <td>1</td>\n",
       "      <td>1</td>\n",
       "    </tr>\n",
       "    <tr>\n",
       "      <th>Un anneau pour les trouver.</th>\n",
       "      <td>1</td>\n",
       "      <td>1</td>\n",
       "      <td>1</td>\n",
       "    </tr>\n",
       "    <tr>\n",
       "      <th>Un anneau pour les amener tous et dans les ténèbres les lier.</th>\n",
       "      <td>1</td>\n",
       "      <td>3</td>\n",
       "      <td>1</td>\n",
       "    </tr>\n",
       "  </tbody>\n",
       "</table>\n",
       "</div>"
      ],
      "text/plain": [
       "                                                    anneau  les  pour\n",
       "Un anneau pour les gouverner tous.                       1    1     1\n",
       "Un anneau pour les trouver.                              1    1     1\n",
       "Un anneau pour les amener tous et dans les ténè...       1    3     1"
      ]
     },
     "execution_count": 11,
     "metadata": {},
     "output_type": "execute_result"
    }
   ],
   "source": [
    "cv = CountVectorizer(max_features=3)\n",
    "X = cv.fit_transform(corpus)\n",
    "\n",
    "vec_df = pd.DataFrame(data = X.toarray(),\n",
    "                        columns = cv.get_feature_names())\n",
    "vec_df.index = corpus\n",
    "vec_df.head()"
   ]
  },
  {
   "cell_type": "markdown",
   "metadata": {},
   "source": [
    "### Note\n",
    "\n",
    "Comme on peut le voir ci-dessus, le vocabulaire n'est plus que constitué de 3 mots. Parmi ceux-là, on peut voir qu'il y a le mot vide 'les'. Puisque l'on ne garde que les mots les plus fréquents, et que l'on a pas supprimé les mots-vides, ceux-ci apparaîtrons forcément dans notre vocabulaire limité. \n",
    "\n",
    "``Ainsi, lorsqu'on limite la taille du vocabulaire, il ne faut pas oublier également de supprimer les mots vides.``"
   ]
  },
  {
   "cell_type": "markdown",
   "metadata": {},
   "source": [
    "## Application des méthodes\n",
    "\n",
    "Nous allons maintenant essayer d'appliquer ces différentes méthodes, séparément puis ensemble, à notre corpus d'analyse de sentiment afin d'essayer d'entraîner un meilleur modèle. Nous allons commencer par charger les données que nous avons préparé au cours précédent, puis créer un dictionnaire ``results`` qui nous permettra de stocker ces différents résultats et de les visualiser:"
   ]
  },
  {
   "cell_type": "markdown",
   "metadata": {},
   "source": [
    "### Chargement des données"
   ]
  },
  {
   "cell_type": "code",
   "execution_count": 7,
   "metadata": {},
   "outputs": [
    {
     "data": {
      "text/html": [
       "<div>\n",
       "<style scoped>\n",
       "    .dataframe tbody tr th:only-of-type {\n",
       "        vertical-align: middle;\n",
       "    }\n",
       "\n",
       "    .dataframe tbody tr th {\n",
       "        vertical-align: top;\n",
       "    }\n",
       "\n",
       "    .dataframe thead th {\n",
       "        text-align: right;\n",
       "    }\n",
       "</style>\n",
       "<table border=\"1\" class=\"dataframe\">\n",
       "  <thead>\n",
       "    <tr style=\"text-align: right;\">\n",
       "      <th></th>\n",
       "      <th>texts</th>\n",
       "      <th>classes</th>\n",
       "    </tr>\n",
       "  </thead>\n",
       "  <tbody>\n",
       "    <tr>\n",
       "      <th>0</th>\n",
       "      <td>A déconseiller - Article n'a fonctionné qu'une...</td>\n",
       "      <td>0</td>\n",
       "    </tr>\n",
       "    <tr>\n",
       "      <th>1</th>\n",
       "      <td>Si vous voulez être déçu achetez le produit ! ...</td>\n",
       "      <td>0</td>\n",
       "    </tr>\n",
       "    <tr>\n",
       "      <th>2</th>\n",
       "      <td>Écran de mauvaise qualité, car il s'use en peu...</td>\n",
       "      <td>0</td>\n",
       "    </tr>\n",
       "    <tr>\n",
       "      <th>3</th>\n",
       "      <td>Cet engin ne sert à rien les sons sont pourris...</td>\n",
       "      <td>0</td>\n",
       "    </tr>\n",
       "    <tr>\n",
       "      <th>4</th>\n",
       "      <td>Très beau produit mais la grue n'a pas fonctio...</td>\n",
       "      <td>0</td>\n",
       "    </tr>\n",
       "  </tbody>\n",
       "</table>\n",
       "</div>"
      ],
      "text/plain": [
       "                                               texts  classes\n",
       "0  A déconseiller - Article n'a fonctionné qu'une...        0\n",
       "1  Si vous voulez être déçu achetez le produit ! ...        0\n",
       "2  Écran de mauvaise qualité, car il s'use en peu...        0\n",
       "3  Cet engin ne sert à rien les sons sont pourris...        0\n",
       "4  Très beau produit mais la grue n'a pas fonctio...        0"
      ]
     },
     "execution_count": 7,
     "metadata": {},
     "output_type": "execute_result"
    }
   ],
   "source": [
    "import pandas as pd\n",
    "\n",
    "train = pd.read_csv('data/binary/bi_as_train.csv')\n",
    "dev = pd.read_csv('data/binary/bi_as_dev.csv')\n",
    "test = pd.read_csv('data/binary/bi_as_test.csv')\n",
    "\n",
    "# on concatène les résultats pour entraîner le vectorizer\n",
    "# sur l'ensemble du corpus\n",
    "data = pd.concat([train['texts'], dev['texts'], test['texts']])\n",
    "\n",
    "# dictionnaire dans lequel on va stocker les performances \n",
    "# de chaque modèle\n",
    "results = {}\n",
    "\n",
    "train.head()"
   ]
  },
  {
   "cell_type": "markdown",
   "metadata": {},
   "source": [
    "### Chargement du modèle précédent\n",
    "Afin de pouvoir comparer les résultats des différentes méthodes, nous allons charger notre modèle précédent ainsi que le vectorize associé:"
   ]
  },
  {
   "cell_type": "code",
   "execution_count": 8,
   "metadata": {},
   "outputs": [],
   "source": [
    "from joblib import load\n",
    "cv1 = load('data/logreg_model/vectorizer.joblib')\n",
    "model = load('data/logreg_model/model.joblib')"
   ]
  },
  {
   "cell_type": "code",
   "execution_count": 14,
   "metadata": {},
   "outputs": [
    {
     "data": {
      "text/plain": [
       "LogisticRegression()"
      ]
     },
     "execution_count": 14,
     "metadata": {},
     "output_type": "execute_result"
    }
   ],
   "source": [
    "model"
   ]
  },
  {
   "cell_type": "code",
   "execution_count": 9,
   "metadata": {},
   "outputs": [
    {
     "name": "stdout",
     "output_type": "stream",
     "text": [
      "Forme de la matrice : (4000, 48768)\n",
      "Forme de la matrice : (4000, 48768)\n",
      "Score : 0.88425\n"
     ]
    }
   ],
   "source": [
    "X_dev, y_dev = cv1.transform(dev['texts']), dev['classes']\n",
    "print(\"Forme de la matrice :\", X_dev.shape)\n",
    "\n",
    "X_test, y_test = cv1.transform(test['texts']), test['classes']\n",
    "print(\"Forme de la matrice :\", X_test.shape)\n",
    "\n",
    "score = model.score(X_dev, y_dev)\n",
    "results['cv_1'] = score\n",
    "print(\"Score :\", score)\n"
   ]
  },
  {
   "cell_type": "code",
   "execution_count": 12,
   "metadata": {},
   "outputs": [
    {
     "data": {
      "text/plain": [
       "0.88425"
      ]
     },
     "execution_count": 12,
     "metadata": {},
     "output_type": "execute_result"
    }
   ],
   "source": [
    "score = model.score(X_dev, y_dev)\n",
    "score\n"
   ]
  },
  {
   "cell_type": "code",
   "execution_count": 11,
   "metadata": {},
   "outputs": [
    {
     "data": {
      "text/plain": [
       "0.886"
      ]
     },
     "execution_count": 11,
     "metadata": {},
     "output_type": "execute_result"
    }
   ],
   "source": [
    "model.score(X_test, y_test)"
   ]
  },
  {
   "cell_type": "markdown",
   "metadata": {},
   "source": [
    "### CV2 (CountVectorizer en supprimant les mots vides) "
   ]
  },
  {
   "cell_type": "code",
   "execution_count": 13,
   "metadata": {},
   "outputs": [
    {
     "name": "stderr",
     "output_type": "stream",
     "text": [
      "/Users/nicolasgutehrle/opt/anaconda3/envs/cours/lib/python3.9/site-packages/sklearn/feature_extraction/text.py:396: UserWarning: Your stop_words may be inconsistent with your preprocessing. Tokenizing the stop words generated tokens ['quelqu'] not in stop_words.\n",
      "  warnings.warn(\n"
     ]
    },
    {
     "name": "stdout",
     "output_type": "stream",
     "text": [
      "Forme de la matrice : (160000, 48199)\n",
      "Forme de la matrice : (4000, 48199)\n",
      "Forme de la matrice : (4000, 48199)\n",
      "Score : 0.8535\n"
     ]
    },
    {
     "name": "stderr",
     "output_type": "stream",
     "text": [
      "/Users/nicolasgutehrle/opt/anaconda3/envs/cours/lib/python3.9/site-packages/sklearn/linear_model/_logistic.py:814: ConvergenceWarning: lbfgs failed to converge (status=1):\n",
      "STOP: TOTAL NO. of ITERATIONS REACHED LIMIT.\n",
      "\n",
      "Increase the number of iterations (max_iter) or scale the data as shown in:\n",
      "    https://scikit-learn.org/stable/modules/preprocessing.html\n",
      "Please also refer to the documentation for alternative solver options:\n",
      "    https://scikit-learn.org/stable/modules/linear_model.html#logistic-regression\n",
      "  n_iter_i = _check_optimize_result(\n"
     ]
    }
   ],
   "source": [
    "from sklearn.feature_extraction.text import CountVectorizer\n",
    "from sklearn.linear_model import LogisticRegression\n",
    "\n",
    "cv2 = CountVectorizer(stop_words=fr_stopwords)\n",
    "\n",
    "# fit_transform regroupe les deux étapes fit et transform en une seule\n",
    "cv2.fit(data) \n",
    "\n",
    "X_train, y_train = cv2.transform(train['texts']), train['classes']\n",
    "print(\"Forme de la matrice :\", X_train.shape)\n",
    "\n",
    "X_dev, y_dev = cv2.transform(dev['texts']), dev['classes']\n",
    "print(\"Forme de la matrice :\", X_dev.shape)\n",
    "\n",
    "X_test, y_test = cv2.transform(test['texts']), test['classes']\n",
    "print(\"Forme de la matrice :\", X_test.shape)\n",
    "\n",
    "\n",
    "lr = LogisticRegression()\n",
    "lr.fit(X_train, y_train)\n",
    "\n",
    "score = lr.score(X_dev, y_dev)\n",
    "results['cv2'] = score\n",
    "print(\"Score :\", score)"
   ]
  },
  {
   "cell_type": "code",
   "execution_count": 14,
   "metadata": {},
   "outputs": [
    {
     "data": {
      "text/plain": [
       "0.8555"
      ]
     },
     "execution_count": 14,
     "metadata": {},
     "output_type": "execute_result"
    }
   ],
   "source": [
    "lr.score(X_test, y_test)"
   ]
  },
  {
   "cell_type": "markdown",
   "metadata": {},
   "source": [
    "### CV3 (CountVectorizer en prenant des bigrammes)"
   ]
  },
  {
   "cell_type": "code",
   "execution_count": 15,
   "metadata": {},
   "outputs": [
    {
     "name": "stdout",
     "output_type": "stream",
     "text": [
      "Forme de la matrice : (160000, 827766)\n",
      "Forme de la matrice : (4000, 827766)\n",
      "Forme de la matrice : (4000, 827766)\n",
      "Score : 0.90975\n"
     ]
    },
    {
     "name": "stderr",
     "output_type": "stream",
     "text": [
      "/Users/nicolasgutehrle/opt/anaconda3/envs/cours/lib/python3.9/site-packages/sklearn/linear_model/_logistic.py:814: ConvergenceWarning: lbfgs failed to converge (status=1):\n",
      "STOP: TOTAL NO. of ITERATIONS REACHED LIMIT.\n",
      "\n",
      "Increase the number of iterations (max_iter) or scale the data as shown in:\n",
      "    https://scikit-learn.org/stable/modules/preprocessing.html\n",
      "Please also refer to the documentation for alternative solver options:\n",
      "    https://scikit-learn.org/stable/modules/linear_model.html#logistic-regression\n",
      "  n_iter_i = _check_optimize_result(\n"
     ]
    }
   ],
   "source": [
    "cv3 = CountVectorizer(ngram_range=(2,2))\n",
    "\n",
    "# fit_transform regroupe les deux étapes fit et transform en une seule\n",
    "cv3.fit(data) \n",
    "\n",
    "X_train, y_train = cv3.transform(train['texts']), train['classes']\n",
    "print(\"Forme de la matrice :\", X_train.shape)\n",
    "\n",
    "X_dev, y_dev = cv3.transform(dev['texts']), dev['classes']\n",
    "print(\"Forme de la matrice :\", X_dev.shape)\n",
    "\n",
    "X_test, y_test = cv3.transform(test['texts']), test['classes']\n",
    "print(\"Forme de la matrice :\", X_test.shape)\n",
    "\n",
    "lr = LogisticRegression()\n",
    "lr.fit(X_train, y_train)\n",
    "\n",
    "score = lr.score(X_dev, y_dev)\n",
    "results['cv3'] = score\n",
    "print(\"Score :\", score)"
   ]
  },
  {
   "cell_type": "code",
   "execution_count": 16,
   "metadata": {},
   "outputs": [
    {
     "data": {
      "text/plain": [
       "0.899"
      ]
     },
     "execution_count": 16,
     "metadata": {},
     "output_type": "execute_result"
    }
   ],
   "source": [
    "lr.score(X_test, y_test)"
   ]
  },
  {
   "cell_type": "markdown",
   "metadata": {},
   "source": [
    "### TF1 (Tf-idf seul)"
   ]
  },
  {
   "cell_type": "code",
   "execution_count": 17,
   "metadata": {},
   "outputs": [
    {
     "name": "stdout",
     "output_type": "stream",
     "text": [
      "Forme de la matrice : (160000, 48768)\n",
      "Forme de la matrice : (4000, 48768)\n",
      "Forme de la matrice : (4000, 48768)\n",
      "Score : 0.89125\n"
     ]
    }
   ],
   "source": [
    "from sklearn.feature_extraction.text import TfidfVectorizer\n",
    "\n",
    "tf1 = TfidfVectorizer()\n",
    "tf1.fit(data) \n",
    "\n",
    "X_train, y_train = tf1.transform(train['texts']), train['classes']\n",
    "print(\"Forme de la matrice :\", X_train.shape)\n",
    "\n",
    "X_dev, y_dev = tf1.transform(dev['texts']), dev['classes']\n",
    "print(\"Forme de la matrice :\", X_dev.shape)\n",
    "\n",
    "X_test, y_test = tf1.transform(test['texts']), test['classes']\n",
    "print(\"Forme de la matrice :\", X_test.shape)\n",
    "\n",
    "lr = LogisticRegression()\n",
    "lr.fit(X_train, y_train)\n",
    "\n",
    "score = lr.score(X_dev, y_dev)\n",
    "results['tf1'] = score\n",
    "print(\"Score :\", score)"
   ]
  },
  {
   "cell_type": "code",
   "execution_count": 18,
   "metadata": {},
   "outputs": [
    {
     "data": {
      "text/plain": [
       "0.89275"
      ]
     },
     "execution_count": 18,
     "metadata": {},
     "output_type": "execute_result"
    }
   ],
   "source": [
    "lr.score(X_test, y_test)"
   ]
  },
  {
   "cell_type": "markdown",
   "metadata": {},
   "source": [
    "### TF2 (Tf-idf en supprimant les mots vides)"
   ]
  },
  {
   "cell_type": "code",
   "execution_count": 19,
   "metadata": {},
   "outputs": [
    {
     "name": "stderr",
     "output_type": "stream",
     "text": [
      "/Users/nicolasgutehrle/opt/anaconda3/envs/cours/lib/python3.9/site-packages/sklearn/feature_extraction/text.py:396: UserWarning: Your stop_words may be inconsistent with your preprocessing. Tokenizing the stop words generated tokens ['quelqu'] not in stop_words.\n",
      "  warnings.warn(\n"
     ]
    },
    {
     "name": "stdout",
     "output_type": "stream",
     "text": [
      "Forme de la matrice : (160000, 48199)\n",
      "Forme de la matrice : (4000, 48199)\n",
      "Forme de la matrice : (4000, 48199)\n",
      "Score : 0.86125\n"
     ]
    },
    {
     "name": "stderr",
     "output_type": "stream",
     "text": [
      "/Users/nicolasgutehrle/opt/anaconda3/envs/cours/lib/python3.9/site-packages/sklearn/linear_model/_logistic.py:814: ConvergenceWarning: lbfgs failed to converge (status=1):\n",
      "STOP: TOTAL NO. of ITERATIONS REACHED LIMIT.\n",
      "\n",
      "Increase the number of iterations (max_iter) or scale the data as shown in:\n",
      "    https://scikit-learn.org/stable/modules/preprocessing.html\n",
      "Please also refer to the documentation for alternative solver options:\n",
      "    https://scikit-learn.org/stable/modules/linear_model.html#logistic-regression\n",
      "  n_iter_i = _check_optimize_result(\n"
     ]
    }
   ],
   "source": [
    "tf2 = TfidfVectorizer(stop_words=fr_stopwords)\n",
    "tf2.fit(data) \n",
    "\n",
    "\n",
    "X_train, y_train = tf2.transform(train['texts']), train['classes']\n",
    "print(\"Forme de la matrice :\", X_train.shape)\n",
    "\n",
    "X_dev, y_dev = tf2.transform(dev['texts']), dev['classes']\n",
    "print(\"Forme de la matrice :\", X_dev.shape)\n",
    "\n",
    "X_test, y_test = tf2.transform(test['texts']), test['classes']\n",
    "print(\"Forme de la matrice :\", X_test.shape)\n",
    "\n",
    "lr = LogisticRegression()\n",
    "lr.fit(X_train, y_train)\n",
    "\n",
    "score = lr.score(X_dev, y_dev)\n",
    "results['tf2'] = score\n",
    "print('Score :', score)"
   ]
  },
  {
   "cell_type": "code",
   "execution_count": 20,
   "metadata": {},
   "outputs": [
    {
     "data": {
      "text/plain": [
       "0.856"
      ]
     },
     "execution_count": 20,
     "metadata": {},
     "output_type": "execute_result"
    }
   ],
   "source": [
    "lr.score(X_test, y_test)"
   ]
  },
  {
   "cell_type": "markdown",
   "metadata": {},
   "source": [
    "### TF3 (Tf-idf en supprimant les mots-vides et prenant des bigrammes)"
   ]
  },
  {
   "cell_type": "code",
   "execution_count": 21,
   "metadata": {},
   "outputs": [
    {
     "name": "stderr",
     "output_type": "stream",
     "text": [
      "/Users/nicolasgutehrle/opt/anaconda3/envs/cours/lib/python3.9/site-packages/sklearn/feature_extraction/text.py:396: UserWarning: Your stop_words may be inconsistent with your preprocessing. Tokenizing the stop words generated tokens ['quelqu'] not in stop_words.\n",
      "  warnings.warn(\n"
     ]
    },
    {
     "name": "stdout",
     "output_type": "stream",
     "text": [
      "Forme de la matrice : (160000, 1016363)\n",
      "Forme de la matrice : (4000, 1016363)\n",
      "Forme de la matrice : (4000, 1016363)\n",
      "Score : 0.79\n"
     ]
    }
   ],
   "source": [
    "tf3 = TfidfVectorizer(stop_words=fr_stopwords,\n",
    "                            ngram_range=(2,2))\n",
    "tf3.fit(data) \n",
    "\n",
    "\n",
    "X_train, y_train = tf3.transform(train['texts']), train['classes']\n",
    "print(\"Forme de la matrice :\", X_train.shape)\n",
    "\n",
    "X_dev, y_dev = tf3.transform(dev['texts']), dev['classes']\n",
    "print(\"Forme de la matrice :\", X_dev.shape)\n",
    "\n",
    "X_test, y_test = tf3.transform(test['texts']), test['classes']\n",
    "print(\"Forme de la matrice :\", X_test.shape)\n",
    "\n",
    "lr = LogisticRegression()\n",
    "lr.fit(X_train, y_train)\n",
    "\n",
    "score = lr.score(X_dev, y_dev)\n",
    "results['tf3'] = score\n",
    "print('Score :', score)"
   ]
  },
  {
   "cell_type": "code",
   "execution_count": 29,
   "metadata": {},
   "outputs": [
    {
     "data": {
      "text/plain": [
       "0.7945"
      ]
     },
     "execution_count": 29,
     "metadata": {},
     "output_type": "execute_result"
    }
   ],
   "source": [
    "lr.score(X_test, y_test)"
   ]
  },
  {
   "cell_type": "markdown",
   "metadata": {},
   "source": [
    "### TF4 (Tf-idf en supprimant les mots-vides et limitant le vocabulaire)"
   ]
  },
  {
   "cell_type": "code",
   "execution_count": 22,
   "metadata": {},
   "outputs": [
    {
     "name": "stderr",
     "output_type": "stream",
     "text": [
      "/Users/nicolasgutehrle/opt/anaconda3/envs/cours/lib/python3.9/site-packages/sklearn/feature_extraction/text.py:396: UserWarning: Your stop_words may be inconsistent with your preprocessing. Tokenizing the stop words generated tokens ['quelqu'] not in stop_words.\n",
      "  warnings.warn(\n"
     ]
    },
    {
     "name": "stdout",
     "output_type": "stream",
     "text": [
      "Forme de la matrice : (160000, 10000)\n",
      "Forme de la matrice : (4000, 10000)\n",
      "Forme de la matrice : (4000, 10000)\n",
      "Score : 0.86175\n"
     ]
    }
   ],
   "source": [
    "tf4 = TfidfVectorizer(stop_words=fr_stopwords,\n",
    "                            max_features= 10000)\n",
    "\n",
    "# fit_transform regroupe les deux étapes fit et transform en une seule\n",
    "tf4.fit(data) \n",
    "\n",
    "\n",
    "X_train, y_train = tf4.transform(train['texts']), train['classes']\n",
    "print(\"Forme de la matrice :\", X_train.shape)\n",
    "\n",
    "X_dev, y_dev = tf4.transform(dev['texts']), dev['classes']\n",
    "print(\"Forme de la matrice :\", X_dev.shape)\n",
    "\n",
    "X_test, y_test = tf4.transform(test['texts']), test['classes']\n",
    "print(\"Forme de la matrice :\", X_test.shape)\n",
    "\n",
    "\n",
    "lr = LogisticRegression()\n",
    "lr.fit(X_train, y_train)\n",
    "\n",
    "score = lr.score(X_dev, y_dev)\n",
    "results['tf4'] = score\n",
    "print(\"Score :\", score)"
   ]
  },
  {
   "cell_type": "code",
   "execution_count": 23,
   "metadata": {},
   "outputs": [
    {
     "data": {
      "text/plain": [
       "0.85825"
      ]
     },
     "execution_count": 23,
     "metadata": {},
     "output_type": "execute_result"
    }
   ],
   "source": [
    "lr.score(X_test, y_test)"
   ]
  },
  {
   "cell_type": "markdown",
   "metadata": {},
   "source": [
    "### Visualisation des performances"
   ]
  },
  {
   "cell_type": "code",
   "execution_count": 24,
   "metadata": {},
   "outputs": [
    {
     "data": {
      "text/plain": [
       "<AxesSubplot:>"
      ]
     },
     "execution_count": 24,
     "metadata": {},
     "output_type": "execute_result"
    },
    {
     "data": {
      "image/png": "[encoded data removed]",
      "text/plain": [
       "<Figure size 432x288 with 1 Axes>"
      ]
     },
     "metadata": {
      "needs_background": "light"
     },
     "output_type": "display_data"
    }
   ],
   "source": [
    "viz = pd.Series(results)\n",
    "viz.plot.bar()"
   ]
  },
  {
   "cell_type": "markdown",
   "metadata": {},
   "source": [
    "Avec le graphique ci-dessus, on peut voir que les meilleurs résultats sont d'abord obtenus par CV3 (CountVectorizer en prenant des bigrammes), suivis de près par TF1 (Tf-idf sans aucun  changement paramètre).\n",
    "\n",
    "A l'inverse, les plus mauvais résultats sont obtenus par TF3 (Tf-idf en supprimant les mots vides et en prenant les bigrammes), suivis par CV2 (CountVectorizer en supprimant seulement les mots-vides). \n",
    "\n",
    "On se rend donc bien compte que jouer sur les différentes méthodes d'encodage du vocabulaire ainsi que de jouer avec leurs paramètres peut avoir une grande influence sur les performances de nos modèles."
   ]
  },
  {
   "cell_type": "markdown",
   "metadata": {
    "colab_type": "text",
    "id": "4boc2cUY8nND"
   },
   "source": [
    "## Pipeline\n",
    "\n",
    "\n",
    "Une fois un modèle entraîné, il est important de le sauvegarder sur le disque afin de conserver l'entraînement ainsi que pour l'utiliser dans d'autres programmes. Cependant, il est important de sauvegarder tout outil de prétraitement (comme un vectorizer) utilisé pendant la phase d'entraînement afin d'appliquer les mêmes traitements à ces nouvelles données.\n",
    "\n",
    "Précédemment, nous avons sauvegardé notre modèle ainsi que son vectorizer sur le disque. Cependant, ceci peut s'avérer laborieux lors de la mise en production puisqu'il faut appliquer la même chaîne de traitements que lors de l'entraînement. Pour faciliter cette étape, il est possible de créer à l'aide de ``scikit-learn`` une ``Pipeline``: celle-ci permet d'associer les différentes étapes de prétraitement ainsi que le modèle au sein d'un seul et même objet. \n",
    "\n",
    "Cet objet ``Pipeline`` se comporte comme un modèle et peut donc s'entraîner sur des données avant d'être utilisé pour prédire de nouveaux résultats. A la différence des autres modèles, il appliquera directement tout prétraitement qu'on le lui aura ajouté, tel qu'un vectorizer."
   ]
  },
  {
   "cell_type": "code",
   "execution_count": 34,
   "metadata": {
    "colab": {
     "base_uri": "https://localhost:8080/",
     "height": 182
    },
    "colab_type": "code",
    "executionInfo": {
     "elapsed": 11018,
     "status": "ok",
     "timestamp": 1594384937379,
     "user": {
      "displayName": "Nicolas Gutehrlé",
      "photoUrl": "",
      "userId": "13449761133402795532"
     },
     "user_tz": -120
    },
    "id": "Ry9MHxUK9sJU",
    "outputId": "0c51f1fb-5f32-417a-de9c-cbd3de9f9e8a"
   },
   "outputs": [
    {
     "name": "stderr",
     "output_type": "stream",
     "text": [
      "/Users/nicolasgutehrle/opt/anaconda3/envs/cours/lib/python3.9/site-packages/sklearn/linear_model/_logistic.py:814: ConvergenceWarning: lbfgs failed to converge (status=1):\n",
      "STOP: TOTAL NO. of ITERATIONS REACHED LIMIT.\n",
      "\n",
      "Increase the number of iterations (max_iter) or scale the data as shown in:\n",
      "    https://scikit-learn.org/stable/modules/preprocessing.html\n",
      "Please also refer to the documentation for alternative solver options:\n",
      "    https://scikit-learn.org/stable/modules/linear_model.html#logistic-regression\n",
      "  n_iter_i = _check_optimize_result(\n"
     ]
    },
    {
     "name": "stdout",
     "output_type": "stream",
     "text": [
      "Score : 0.90975\n"
     ]
    }
   ],
   "source": [
    "from sklearn.pipeline import Pipeline\n",
    "from sklearn.feature_extraction.text import CountVectorizer\n",
    "from sklearn.linear_model import LogisticRegression\n",
    "from sklearn.metrics import accuracy_score\n",
    "from joblib import dump\n",
    "\n",
    "# ici on se contente simplement de renommer les variables\n",
    "# sans les faire passer par CountVectorizer\n",
    "X_train, y_train = train['texts'], train['classes']\n",
    "X_dev, y_dev = dev['texts'], dev['classes']\n",
    "\n",
    "# Pipeline prend en argument une liste de tuple\n",
    "# Le 1er element du tuple est le nom de l'objet, le 2nd est l'objet lui-meme\n",
    "pipe = Pipeline(\n",
    "    [\n",
    "     ('vectorizer', CountVectorizer(ngram_range=(2,2))), # 1ere couche : vectorizer\n",
    "     ('linear', LogisticRegression()) # Derniere couche : modele\n",
    "    ]\n",
    ")\n",
    "\n",
    "\n",
    "# on entraine le Pipeline comme si l'on entrainait un modele\n",
    "pipe.fit(X_train, y_train)\n",
    "score = pipe.score(X_dev, y_dev)\n",
    "print(\"Score :\", score)\n"
   ]
  },
  {
   "cell_type": "markdown",
   "metadata": {},
   "source": [
    "On peut ensuite sauvegarder la Pipeline sur le disque comme précédemment, à la différence que l'on ne sauvegarde qu'un seul objet cette fois:"
   ]
  },
  {
   "cell_type": "code",
   "execution_count": 35,
   "metadata": {},
   "outputs": [
    {
     "data": {
      "text/plain": [
       "['data/pipe_model/model.joblib']"
      ]
     },
     "execution_count": 35,
     "metadata": {},
     "output_type": "execute_result"
    }
   ],
   "source": [
    "from joblib import dump\n",
    "import os\n",
    "os.mkdir('data/pipe_model')\n",
    "dump(pipe, 'data/pipe_model/model.joblib')"
   ]
  },
  {
   "cell_type": "markdown",
   "metadata": {},
   "source": [
    "# Références\n",
    "\n",
    "Le fichier d'origine de mots vides français a été obtenu ici: https://lionbridge.ai/datasets/20-best-french-language-datasets-for-machine-learning/\n",
    "\n",
    "### Documentation: \n",
    "* Pipeline : https://scikit-learn.org/stable/modules/generated/sklearn.pipeline.Pipeline.html#sklearn.pipeline.Pipeline"
   ]
  }
 ],
 "metadata": {
  "kernelspec": {
   "display_name": "Python 3.9.6 ('cours')",
   "language": "python",
   "name": "python3"
  },
  "language_info": {
   "codemirror_mode": {
    "name": "ipython",
    "version": 3
   },
   "file_extension": ".py",
   "mimetype": "text/x-python",
   "name": "python",
   "nbconvert_exporter": "python",
   "pygments_lexer": "ipython3",
   "version": "3.9.6"
  },
  "vscode": {
   "interpreter": {
    "hash": "63d2c08867e999184b706abc1228e6e14a103e818b92fa06feeba82a11accc73"
   }
  }
 },
 "nbformat": 4,
 "nbformat_minor": 4
}
