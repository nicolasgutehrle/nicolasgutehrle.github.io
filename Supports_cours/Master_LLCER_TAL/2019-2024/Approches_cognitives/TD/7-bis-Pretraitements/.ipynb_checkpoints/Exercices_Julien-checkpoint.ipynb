{
 "cells": [
  {
   "cell_type": "markdown",
   "metadata": {},
   "source": [
    "# Exercice 1\n",
    "\n",
    "Vous utiliserez le fichier ``page-blocks.csv`` pour cet exercice. Celui-ci n'est pas équilibré. Vous utiliserez donc une méthode d'Under-sampling et une méthode d'Over-sampling pour corriger cela. Pour chacune des deux méthodes, vous entraînerez un modèle, que vous enregistrerez sur le disque. Vous enregistrerez les résultats de chaque modèle dans une Series, pour pouvoir les visualiser à l'aide d'un diagramme à barres."
   ]
  },
  {
   "cell_type": "code",
   "execution_count": 1,
   "metadata": {},
   "outputs": [
    {
     "data": {
      "text/html": [
       "<div>\n",
       "<style scoped>\n",
       "    .dataframe tbody tr th:only-of-type {\n",
       "        vertical-align: middle;\n",
       "    }\n",
       "\n",
       "    .dataframe tbody tr th {\n",
       "        vertical-align: top;\n",
       "    }\n",
       "\n",
       "    .dataframe thead th {\n",
       "        text-align: right;\n",
       "    }\n",
       "</style>\n",
       "<table border=\"1\" class=\"dataframe\">\n",
       "  <thead>\n",
       "    <tr style=\"text-align: right;\">\n",
       "      <th></th>\n",
       "      <th>Height</th>\n",
       "      <th>Lenght</th>\n",
       "      <th>Area</th>\n",
       "      <th>Eccen</th>\n",
       "      <th>P_black</th>\n",
       "      <th>P_and</th>\n",
       "      <th>Mean_tr</th>\n",
       "      <th>Blackpix</th>\n",
       "      <th>Blackand</th>\n",
       "      <th>Wb_trans</th>\n",
       "      <th>Class</th>\n",
       "    </tr>\n",
       "  </thead>\n",
       "  <tbody>\n",
       "    <tr>\n",
       "      <th>0</th>\n",
       "      <td>5</td>\n",
       "      <td>7</td>\n",
       "      <td>35.0</td>\n",
       "      <td>1.400</td>\n",
       "      <td>0.400</td>\n",
       "      <td>0.657</td>\n",
       "      <td>2.33</td>\n",
       "      <td>14</td>\n",
       "      <td>23</td>\n",
       "      <td>6</td>\n",
       "      <td>negative</td>\n",
       "    </tr>\n",
       "    <tr>\n",
       "      <th>1</th>\n",
       "      <td>6</td>\n",
       "      <td>7</td>\n",
       "      <td>42.0</td>\n",
       "      <td>1.167</td>\n",
       "      <td>0.429</td>\n",
       "      <td>0.881</td>\n",
       "      <td>3.60</td>\n",
       "      <td>18</td>\n",
       "      <td>37</td>\n",
       "      <td>5</td>\n",
       "      <td>negative</td>\n",
       "    </tr>\n",
       "    <tr>\n",
       "      <th>2</th>\n",
       "      <td>6</td>\n",
       "      <td>18</td>\n",
       "      <td>108.0</td>\n",
       "      <td>3.000</td>\n",
       "      <td>0.287</td>\n",
       "      <td>0.741</td>\n",
       "      <td>4.43</td>\n",
       "      <td>31</td>\n",
       "      <td>80</td>\n",
       "      <td>7</td>\n",
       "      <td>negative</td>\n",
       "    </tr>\n",
       "    <tr>\n",
       "      <th>3</th>\n",
       "      <td>5</td>\n",
       "      <td>7</td>\n",
       "      <td>35.0</td>\n",
       "      <td>1.400</td>\n",
       "      <td>0.371</td>\n",
       "      <td>0.743</td>\n",
       "      <td>4.33</td>\n",
       "      <td>13</td>\n",
       "      <td>26</td>\n",
       "      <td>3</td>\n",
       "      <td>negative</td>\n",
       "    </tr>\n",
       "    <tr>\n",
       "      <th>4</th>\n",
       "      <td>6</td>\n",
       "      <td>3</td>\n",
       "      <td>18.0</td>\n",
       "      <td>500.000</td>\n",
       "      <td>0.500</td>\n",
       "      <td>0.944</td>\n",
       "      <td>2.25</td>\n",
       "      <td>9</td>\n",
       "      <td>17</td>\n",
       "      <td>4</td>\n",
       "      <td>negative</td>\n",
       "    </tr>\n",
       "  </tbody>\n",
       "</table>\n",
       "</div>"
      ],
      "text/plain": [
       "   Height  Lenght   Area    Eccen  P_black  P_and  Mean_tr  Blackpix  \\\n",
       "0       5       7   35.0    1.400    0.400  0.657     2.33        14   \n",
       "1       6       7   42.0    1.167    0.429  0.881     3.60        18   \n",
       "2       6      18  108.0    3.000    0.287  0.741     4.43        31   \n",
       "3       5       7   35.0    1.400    0.371  0.743     4.33        13   \n",
       "4       6       3   18.0  500.000    0.500  0.944     2.25         9   \n",
       "\n",
       "   Blackand  Wb_trans     Class  \n",
       "0        23         6  negative  \n",
       "1        37         5  negative  \n",
       "2        80         7  negative  \n",
       "3        26         3  negative  \n",
       "4        17         4  negative  "
      ]
     },
     "execution_count": 1,
     "metadata": {},
     "output_type": "execute_result"
    }
   ],
   "source": [
    "import pandas as pd\n",
    "\n",
    "data = pd.read_csv('page-blocks.csv')\n",
    "data.head()\n",
    "# On visualise un aperçu des données"
   ]
  },
  {
   "cell_type": "code",
   "execution_count": 2,
   "metadata": {},
   "outputs": [
    {
     "data": {
      "text/plain": [
       "<matplotlib.axes._subplots.AxesSubplot at 0x1bdbffc68b0>"
      ]
     },
     "execution_count": 2,
     "metadata": {},
     "output_type": "execute_result"
    },
    {
     "data": {
      "image/png": "[encoded data removed]",
      "text/plain": [
       "<Figure size 432x288 with 1 Axes>"
      ]
     },
     "metadata": {
      "needs_background": "light"
     },
     "output_type": "display_data"
    }
   ],
   "source": [
    "data['Class'].value_counts().plot.bar()\n",
    "# On remarque que les données ne sont pas du tout équilibrées"
   ]
  },
  {
   "cell_type": "code",
   "execution_count": 4,
   "metadata": {},
   "outputs": [],
   "source": [
    "from sklearn.linear_model import LogisticRegression\n",
    "from sklearn.model_selection import train_test_split\n",
    "\n",
    "lr = LogisticRegression()\n",
    "X = data.iloc[:, :-1]\n",
    "y = data.iloc[:, -1:]\n",
    "X_train, X_test, y_train, y_test = train_test_split(X, y, train_size = .75)"
   ]
  },
  {
   "cell_type": "code",
   "execution_count": 6,
   "metadata": {},
   "outputs": [
    {
     "name": "stdout",
     "output_type": "stream",
     "text": [
      "Nouvelle forme des données:  (1118, 10) (1118, 1)\n"
     ]
    },
    {
     "data": {
      "text/plain": [
       "<matplotlib.axes._subplots.AxesSubplot at 0x1bdc2e38e20>"
      ]
     },
     "execution_count": 6,
     "metadata": {},
     "output_type": "execute_result"
    },
    {
     "data": {
      "image/png": "[encoded data removed]",
      "text/plain": [
       "<Figure size 432x288 with 1 Axes>"
      ]
     },
     "metadata": {
      "needs_background": "light"
     },
     "output_type": "display_data"
    }
   ],
   "source": [
    "# Undersampling\n",
    "from imblearn.under_sampling import RandomUnderSampler\n",
    "randomsampler = RandomUnderSampler(random_state=42) # random_state permet de s'assurer que les données seront toujours mélangées de la même manière\n",
    "under_X, under_y = randomsampler.fit_resample(X, y)\n",
    "print('Nouvelle forme des données: ', under_X.shape, under_y.shape)\n",
    "\n",
    "under_y['Class'].value_counts().plot.bar()"
   ]
  },
  {
   "cell_type": "code",
   "execution_count": 12,
   "metadata": {},
   "outputs": [
    {
     "name": "stderr",
     "output_type": "stream",
     "text": [
      "J:\\Anaconda\\lib\\site-packages\\sklearn\\utils\\validation.py:73: DataConversionWarning: A column-vector y was passed when a 1d array was expected. Please change the shape of y to (n_samples, ), for example using ravel().\n",
      "  return f(**kwargs)\n",
      "J:\\Anaconda\\lib\\site-packages\\sklearn\\linear_model\\_logistic.py:762: ConvergenceWarning: lbfgs failed to converge (status=1):\n",
      "STOP: TOTAL NO. of ITERATIONS REACHED LIMIT.\n",
      "\n",
      "Increase the number of iterations (max_iter) or scale the data as shown in:\n",
      "    https://scikit-learn.org/stable/modules/preprocessing.html\n",
      "Please also refer to the documentation for alternative solver options:\n",
      "    https://scikit-learn.org/stable/modules/linear_model.html#logistic-regression\n",
      "  n_iter_i = _check_optimize_result(\n"
     ]
    },
    {
     "data": {
      "text/plain": [
       "0.8991228070175439"
      ]
     },
     "execution_count": 12,
     "metadata": {},
     "output_type": "execute_result"
    }
   ],
   "source": [
    "lr = lr.fit(under_X, under_y)\n",
    "lr.score(X_test, y_test)"
   ]
  },
  {
   "cell_type": "code",
   "execution_count": 14,
   "metadata": {},
   "outputs": [
    {
     "data": {
      "text/plain": [
       "['C:\\\\Users\\\\Julien\\\\Documents\\\\COURS UNIV\\\\M2 TAL\\\\Machine Learning\\\\Cours8/ex1_page-blocks_undersample_model/model.joblib']"
      ]
     },
     "execution_count": 14,
     "metadata": {},
     "output_type": "execute_result"
    }
   ],
   "source": [
    "# Sauvegarde\n",
    "from joblib import dump\n",
    "import os\n",
    "\n",
    "save_path = os.getcwd()+'/ex1_page-blocks_undersample_model'\n",
    "os.mkdir(save_path)\n",
    "dump(lr, f'{save_path}/model.joblib')"
   ]
  },
  {
   "cell_type": "markdown",
   "metadata": {},
   "source": [
    "Oversampling"
   ]
  },
  {
   "cell_type": "code",
   "execution_count": 8,
   "metadata": {},
   "outputs": [
    {
     "name": "stdout",
     "output_type": "stream",
     "text": [
      "Nouvelle forme des données:  (9826, 10) (9826, 1)\n"
     ]
    },
    {
     "data": {
      "text/plain": [
       "<matplotlib.axes._subplots.AxesSubplot at 0x1bdc2ea6220>"
      ]
     },
     "execution_count": 8,
     "metadata": {},
     "output_type": "execute_result"
    },
    {
     "data": {
      "image/png": "[encoded data removed]",
      "text/plain": [
       "<Figure size 432x288 with 1 Axes>"
      ]
     },
     "metadata": {
      "needs_background": "light"
     },
     "output_type": "display_data"
    }
   ],
   "source": [
    "# Oversampling\n",
    "from imblearn.over_sampling import RandomOverSampler\n",
    "randomoversampler = RandomOverSampler(random_state = 42)\n",
    "over_X, over_y = randomoversampler.fit_resample(X,y)\n",
    "print('Nouvelle forme des données: ', over_X.shape, over_y.shape)\n",
    "over_y['Class'].value_counts().plot.bar()"
   ]
  },
  {
   "cell_type": "code",
   "execution_count": 10,
   "metadata": {},
   "outputs": [
    {
     "name": "stderr",
     "output_type": "stream",
     "text": [
      "J:\\Anaconda\\lib\\site-packages\\sklearn\\utils\\validation.py:73: DataConversionWarning: A column-vector y was passed when a 1d array was expected. Please change the shape of y to (n_samples, ), for example using ravel().\n",
      "  return f(**kwargs)\n",
      "J:\\Anaconda\\lib\\site-packages\\sklearn\\linear_model\\_logistic.py:762: ConvergenceWarning: lbfgs failed to converge (status=1):\n",
      "STOP: TOTAL NO. of ITERATIONS REACHED LIMIT.\n",
      "\n",
      "Increase the number of iterations (max_iter) or scale the data as shown in:\n",
      "    https://scikit-learn.org/stable/modules/preprocessing.html\n",
      "Please also refer to the documentation for alternative solver options:\n",
      "    https://scikit-learn.org/stable/modules/linear_model.html#logistic-regression\n",
      "  n_iter_i = _check_optimize_result(\n"
     ]
    },
    {
     "data": {
      "text/plain": [
       "0.8866959064327485"
      ]
     },
     "execution_count": 10,
     "metadata": {},
     "output_type": "execute_result"
    }
   ],
   "source": [
    "lr = lr.fit(over_X, over_y)\n",
    "lr.score(X_test, y_test)"
   ]
  },
  {
   "cell_type": "code",
   "execution_count": 15,
   "metadata": {},
   "outputs": [
    {
     "data": {
      "text/plain": [
       "['C:\\\\Users\\\\Julien\\\\Documents\\\\COURS UNIV\\\\M2 TAL\\\\Machine Learning\\\\Cours8/ex1_page-blocks_oversample_model/model.joblib']"
      ]
     },
     "execution_count": 15,
     "metadata": {},
     "output_type": "execute_result"
    }
   ],
   "source": [
    "# Sauvegarde\n",
    "from joblib import dump\n",
    "import os\n",
    "\n",
    "save_path = os.getcwd()+'/ex1_page-blocks_oversample_model'\n",
    "os.mkdir(save_path)\n",
    "dump(lr, f'{save_path}/model.joblib')"
   ]
  },
  {
   "cell_type": "markdown",
   "metadata": {},
   "source": [
    "# Exercice 2\n",
    "\n",
    "En utilisant la version anglaise du ``amazon_review`` dataset, vous utiliserez la librairie ``gensim`` pour entraîner un modèle de Topic Modelling, comme pour l'exercice du cours précédent. Cependant, vous utiliserez ``spaCy`` pour prétraiter votre corpus, comme vu pendant ce cours. N'hésitez pas à essayer plusieurs valeurs pour le nombre de topics. Une fois votre dernier modèle entraîné, vous afficherez les différents sujets identifiés, comme vu en cours."
   ]
  },
  {
   "cell_type": "code",
   "execution_count": 16,
   "metadata": {},
   "outputs": [
    {
     "name": "stdout",
     "output_type": "stream",
     "text": [
      "Collecting gensim\n",
      "  Downloading gensim-3.8.3-cp38-cp38-win_amd64.whl (24.2 MB)\n",
      "Collecting smart-open>=1.8.1\n",
      "  Downloading smart_open-4.0.0.tar.gz (106 kB)\n",
      "Requirement already satisfied: numpy>=1.11.3 in j:\\anaconda\\lib\\site-packages (from gensim) (1.18.5)\n",
      "Requirement already satisfied: six>=1.5.0 in j:\\anaconda\\lib\\site-packages (from gensim) (1.15.0)\n",
      "Requirement already satisfied: scipy>=0.18.1 in j:\\anaconda\\lib\\site-packages (from gensim) (1.5.0)\n",
      "Collecting Cython==0.29.14\n",
      "  Downloading Cython-0.29.14-cp38-cp38-win_amd64.whl (1.7 MB)\n",
      "Requirement already satisfied: requests in j:\\anaconda\\lib\\site-packages (from smart-open>=1.8.1->gensim) (2.24.0)\n",
      "Requirement already satisfied: urllib3!=1.25.0,!=1.25.1,<1.26,>=1.21.1 in j:\\anaconda\\lib\\site-packages (from requests->smart-open>=1.8.1->gensim) (1.25.9)\n",
      "Requirement already satisfied: idna<3,>=2.5 in j:\\anaconda\\lib\\site-packages (from requests->smart-open>=1.8.1->gensim) (2.10)\n",
      "Requirement already satisfied: certifi>=2017.4.17 in j:\\anaconda\\lib\\site-packages (from requests->smart-open>=1.8.1->gensim) (2020.6.20)\n",
      "Requirement already satisfied: chardet<4,>=3.0.2 in j:\\anaconda\\lib\\site-packages (from requests->smart-open>=1.8.1->gensim) (3.0.4)\n",
      "Building wheels for collected packages: smart-open\n",
      "  Building wheel for smart-open (setup.py): started\n",
      "  Building wheel for smart-open (setup.py): finished with status 'done'\n",
      "  Created wheel for smart-open: filename=smart_open-4.0.0-py3-none-any.whl size=108261 sha256=38b2685b2eacdee1b210d93b3156d46f11a482a6af6ef4a27ee4600287072fd3\n",
      "  Stored in directory: c:\\users\\julien\\appdata\\local\\pip\\cache\\wheels\\c3\\5c\\27\\33e05bd883bc60454a549d97103c68934d0ea877ab5fdb69c2\n",
      "Successfully built smart-open\n",
      "Installing collected packages: smart-open, Cython, gensim\n",
      "  Attempting uninstall: Cython\n",
      "    Found existing installation: Cython 0.29.21\n",
      "    Uninstalling Cython-0.29.21:\n",
      "      Successfully uninstalled Cython-0.29.21\n",
      "Successfully installed Cython-0.29.14 gensim-3.8.3 smart-open-4.0.0\n"
     ]
    }
   ],
   "source": [
    "# installer gensim\n",
    "!pip install gensim"
   ]
  },
  {
   "cell_type": "code",
   "execution_count": null,
   "metadata": {},
   "outputs": [],
   "source": [
    "import pandas as pd\n",
    "\n",
    "df_train = pd.read_csv('as_train.csv')\n",
    "df_dev = pd.read_csv('as_dev.csv')\n",
    "df_test = pd.read_csv('as_test.csv')"
   ]
  },
  {
   "cell_type": "code",
   "execution_count": 21,
   "metadata": {},
   "outputs": [],
   "source": [
    "import spacy\n",
    "nlp = spacy.load('en_core_web_sm')"
   ]
  },
  {
   "cell_type": "code",
   "execution_count": null,
   "metadata": {},
   "outputs": [],
   "source": [
    "corpus = df_train['texts']\n",
    "\n",
    "docs = nlp.pipe(corpus)\n",
    "new_corpus = []\n",
    "for doc in docs:\n",
    "    filtered_doc = []\n",
    "    for token in doc:\n",
    "        if token.is_stop:\n",
    "            pass\n",
    "        elif token.is_punct:\n",
    "            pass\n",
    "        else:\n",
    "            filtered_doc.append(token.lemma_)\n",
    "            \n",
    "    new_corpus.append(filtered_doc)\n",
    "    "
   ]
  },
  {
   "cell_type": "code",
   "execution_count": 23,
   "metadata": {},
   "outputs": [],
   "source": [
    "from gensim.corpora import Dictionary\n",
    "\n",
    "dictionary = Dictionary(new_corpus)\n",
    "\n",
    "vec_corpus = [dictionary.doc2bow(doc) for doc in new_corpus]"
   ]
  },
  {
   "cell_type": "code",
   "execution_count": 24,
   "metadata": {},
   "outputs": [],
   "source": [
    "from gensim.models.ldamodel import LdaModel\n",
    "NUM_TOPICS = 2\n",
    "lda = LdaModel(corpus=vec_corpus, num_topics=NUM_TOPICS, id2word=dictionary)"
   ]
  },
  {
   "cell_type": "code",
   "execution_count": 25,
   "metadata": {},
   "outputs": [
    {
     "data": {
      "text/plain": [
       "[(0,\n",
       "  '0.032*\"de\" + 0.030*\"je\" + 0.025*\"et\" + 0.025*\"à\" + 0.020*\"le\" + 0.018*\"la\" + 0.014*\"produit\" + 0.014*\"que\" + 0.013*\"ce\" + 0.013*\"pour\"'),\n",
       " (1,\n",
       "  '0.036*\"de\" + 0.029*\"et\" + 0.024*\"très\" + 0.023*\"pour\" + 0.020*\"la\" + 0.020*\"le\" + 0.018*\"à\" + 0.017*\"est\" + 0.016*\"les\" + 0.014*\"un\"')]"
      ]
     },
     "execution_count": 25,
     "metadata": {},
     "output_type": "execute_result"
    }
   ],
   "source": [
    "lda.print_topics()"
   ]
  },
  {
   "cell_type": "code",
   "execution_count": 26,
   "metadata": {},
   "outputs": [],
   "source": [
    "# On essaye avec 5 topics maintenant\n",
    "NUM_TOPICS = 5\n",
    "lda = LdaModel(corpus=vec_corpus, num_topics=NUM_TOPICS, id2word=dictionary)"
   ]
  },
  {
   "cell_type": "code",
   "execution_count": 27,
   "metadata": {},
   "outputs": [
    {
     "data": {
      "text/plain": [
       "[(0,\n",
       "  '0.044*\"rapide\" + 0.041*\"à\" + 0.031*\"conforme\" + 0.030*\"produit\" + 0.028*\"et\" + 0.027*\"livraison\" + 0.023*\"reçu\" + 0.021*\"de\" + 0.019*\"la\" + 0.018*\"le\"'),\n",
       " (1,\n",
       "  '0.047*\"de\" + 0.030*\"et\" + 0.029*\"pour\" + 0.024*\"les\" + 0.017*\"la\" + 0.016*\"très\" + 0.014*\"à\" + 0.014*\"le\" + 0.014*\"un\" + 0.012*\"des\"'),\n",
       " (2,\n",
       "  '0.037*\"la\" + 0.035*\"de\" + 0.031*\"à\" + 0.031*\"le\" + 0.030*\"et\" + 0.028*\"est\" + 0.019*\"très\" + 0.016*\"en\" + 0.015*\"bien\" + 0.015*\"pour\"'),\n",
       " (3,\n",
       "  '0.038*\"de\" + 0.033*\"pour\" + 0.023*\"et\" + 0.019*\"un\" + 0.018*\"en\" + 0.016*\"ma\" + 0.013*\"une\" + 0.012*\"que\" + 0.012*\"le\" + 0.012*\"mon\"'),\n",
       " (4,\n",
       "  '0.048*\"je\" + 0.038*\"très\" + 0.025*\"et\" + 0.024*\"recommande\" + 0.021*\"de\" + 0.020*\"le\" + 0.019*\"qualité\" + 0.018*\"pas\" + 0.018*\"ce\" + 0.018*\"Je\"')]"
      ]
     },
     "execution_count": 27,
     "metadata": {},
     "output_type": "execute_result"
    }
   ],
   "source": [
    "lda.print_topics()"
   ]
  }
 ],
 "metadata": {
  "colab": {
   "authorship_tag": "ABX9TyME5qNXlePLDtiLUY8FmJDD",
   "collapsed_sections": [],
   "name": "Exercices.ipynb",
   "provenance": []
  },
  "kernelspec": {
   "display_name": "Python 3",
   "language": "python",
   "name": "python3"
  },
  "language_info": {
   "codemirror_mode": {
    "name": "ipython",
    "version": 3
   },
   "file_extension": ".py",
   "mimetype": "text/x-python",
   "name": "python",
   "nbconvert_exporter": "python",
   "pygments_lexer": "ipython3",
   "version": "3.8.3"
  }
 },
 "nbformat": 4,
 "nbformat_minor": 4
}
