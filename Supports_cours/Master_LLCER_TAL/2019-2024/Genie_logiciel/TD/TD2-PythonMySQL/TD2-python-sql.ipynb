{
 "cells": [
  {
   "cell_type": "markdown",
   "metadata": {},
   "source": [
    "# Génie Logiciel\n",
    "## TD2 - MySQL et Python \n",
    "\n",
    "Source des tutoriels :\n",
    "\n",
    "* W3 Schools : https://www.w3schools.com/python/python_mysql_getstarted.asp\n",
    "* RealPython : https://realpython.com/python-mysql/#creating-altering-and-dropping-a-table"
   ]
  },
  {
   "cell_type": "code",
   "execution_count": null,
   "metadata": {},
   "outputs": [],
   "source": []
  },
  {
   "cell_type": "markdown",
   "metadata": {},
   "source": [
    "### Driver\n",
    "\n",
    "Il est possible de se connecter avec tout type de base de données avec presque tous les langages de programmation. Pour cela, ces langages ont besoin d'un driver ou connecteur leur permettant d'accéder et manipuler les bases de données. En Python par exemple, les drivers suivants sont nécessaires pour se connecter aux différentes variantes de SQL :\n",
    "* SQLite : sqlite3\n",
    "* PostgreSQL : psycopg\n",
    "* MySQL : mysql-connector\n",
    "\n",
    "Pour ce cours, nous installerons donc mysql-connector"
   ]
  },
  {
   "cell_type": "code",
   "execution_count": 1,
   "metadata": {},
   "outputs": [
    {
     "name": "stdout",
     "output_type": "stream",
     "text": [
      "Collecting mysql-connector-python\n",
      "  Downloading mysql_connector_python-8.1.0-py2.py3-none-any.whl (581 kB)\n",
      "\u001b[K     |████████████████████████████████| 581 kB 1.3 MB/s eta 0:00:01\n",
      "\u001b[?25hCollecting protobuf<=4.21.12,>=4.21.1\n",
      "  Downloading protobuf-4.21.12-cp37-abi3-macosx_10_9_universal2.whl (486 kB)\n",
      "\u001b[K     |████████████████████████████████| 486 kB 1.3 MB/s eta 0:00:01\n",
      "\u001b[?25hInstalling collected packages: protobuf, mysql-connector-python\n",
      "Successfully installed mysql-connector-python-8.1.0 protobuf-4.21.12\n"
     ]
    }
   ],
   "source": [
    "!pip install mysql-connector-python"
   ]
  },
  {
   "cell_type": "code",
   "execution_count": 1,
   "metadata": {},
   "outputs": [],
   "source": [
    "# pour tester si l'installation est réussie\n",
    "import mysql.connector\n"
   ]
  },
  {
   "cell_type": "markdown",
   "metadata": {},
   "source": [
    "## Se connecter à un serveur MySQL\n",
    "\n",
    "Pour pouvoir accéder et manipuler les bases de données, il est d'abord nécessaire de se connecter au serveur MySQL qui les contient. Il faut donc connaître l'adresse IP, l'identifiant et le mot de passe. Si votre serveur tourne en local (donc sur votre machine), le serveur sera \"localhost\".\n",
    "\n",
    "Note : ci-dessous, on donne les identifiants en dur. C'est une très mauvaise pratique, et peut engendrer des failles de sécurité. Si les identifiants doivent être contenus près de votre code, enregistrez les dans un fichier sécurisé. \n"
   ]
  },
  {
   "cell_type": "code",
   "execution_count": 2,
   "metadata": {},
   "outputs": [
    {
     "name": "stdout",
     "output_type": "stream",
     "text": [
      "<mysql.connector.connection.MySQLConnection object at 0x7fe380cdd790>\n"
     ]
    }
   ],
   "source": [
    "from getpass import getpass\n",
    "from mysql.connector import connect, Error\n",
    "\n",
    "user_input = 'root'\n",
    "# remplacez par votre mot de passe\n",
    "password = '******'\n",
    "\n",
    "try:\n",
    "    # on obtient une variable connection de type MySQLConnection avec laquelle on peut intéragir avec le serveur\n",
    "    connection = connect(\n",
    "        host=\"localhost\",\n",
    "        user = user_input,\n",
    "        password = password\n",
    "        # user=input(\"Enter username: \"),\n",
    "        # password=getpass(\"Enter password: \")\n",
    "    )\n",
    "    print(connection)\n",
    "# gestion de toutes erreurs de connection\n",
    "except Error as e:\n",
    "    print(e)\n"
   ]
  },
  {
   "cell_type": "markdown",
   "metadata": {},
   "source": [
    "## Effectuer des requêtes\n",
    "\n",
    "Pour effectuer des requêtes, on a besoin d'un objet de type **cursor**"
   ]
  },
  {
   "cell_type": "code",
   "execution_count": 5,
   "metadata": {},
   "outputs": [
    {
     "name": "stdout",
     "output_type": "stream",
     "text": [
      "('CentreTesniere',)\n",
      "('CT',)\n",
      "('CT3',)\n",
      "('France',)\n",
      "('information_schema',)\n",
      "('mydatabase',)\n",
      "('mysql',)\n",
      "('new_schema',)\n",
      "('performance_schema',)\n",
      "('sys',)\n"
     ]
    }
   ],
   "source": [
    "# requête pour voir les bases existantes dans le serveur\n",
    "# remarquez que la requête ne termine pas par ; . Le cursor se charge de l'ajouter\n",
    "query_show = \"SHOW DATABASES\"\n",
    "\n",
    "with connection.cursor() as cursor:\n",
    "\n",
    "    cursor.execute(query_show) \n",
    "    # pour récupérer les résultats obtenus par la requête, on doit appeler la méthode fetchall()\n",
    "    for x in cursor.fetchall():\n",
    "        print(x)"
   ]
  },
  {
   "cell_type": "code",
   "execution_count": 4,
   "metadata": {},
   "outputs": [],
   "source": [
    "with connection.cursor() as cursor:\n",
    "\n",
    "    cursor.execute(\"CREATE DATABASE mydatabase\")\n"
   ]
  },
  {
   "cell_type": "markdown",
   "metadata": {},
   "source": [
    "## Connection à une base de données\n",
    "\n",
    "De la même manière, on peut se connecter à une base à l'aide du cursor"
   ]
  },
  {
   "cell_type": "code",
   "execution_count": 6,
   "metadata": {},
   "outputs": [],
   "source": [
    "dbname = \"mydatabase\"\n",
    "query_connect_db = f\"USE {dbname}\"\n",
    "\n",
    "with connection.cursor() as cursor:\n",
    "\n",
    "    cursor.execute(query_connect_db)\n"
   ]
  },
  {
   "cell_type": "code",
   "execution_count": 41,
   "metadata": {},
   "outputs": [
    {
     "name": "stdout",
     "output_type": "stream",
     "text": [
      "<mysql.connector.connection.MySQLConnection object at 0x7fc728a43a30>\n"
     ]
    }
   ],
   "source": [
    "# on peut également se connecter à la base en même temps que l'on se connecte au serveur\n",
    "try:\n",
    "    # on obtient une variable connection de type MySQLConnection avec laquelle on peut intéragir avec le serveur\n",
    "    connection = connect(\n",
    "        host=\"localhost\",\n",
    "        user = user_input,\n",
    "        password = password,\n",
    "        database=dbname\n",
    "        # user=input(\"Enter username: \"),\n",
    "        # password=getpass(\"Enter password: \")\n",
    "    )\n",
    "    print(connection)\n",
    "# gestion de toutes erreurs de connection\n",
    "except Error as e:\n",
    "    print(e)"
   ]
  },
  {
   "cell_type": "markdown",
   "metadata": {},
   "source": [
    "## Création d'une table et injection de données"
   ]
  },
  {
   "cell_type": "code",
   "execution_count": 7,
   "metadata": {},
   "outputs": [],
   "source": [
    "create_movies_table_query = \"\"\"\n",
    "CREATE TABLE movies(\n",
    "    id INT AUTO_INCREMENT PRIMARY KEY NOT NULL,\n",
    "    title VARCHAR(100),\n",
    "    release_year YEAR(4),\n",
    "    genre VARCHAR(100),\n",
    "    collection_in_mil INT\n",
    ")\n",
    "\"\"\"\n",
    "with connection.cursor() as cursor:\n",
    "    cursor.execute(create_movies_table_query)\n",
    "    # on note ici que l'on fait appel à la méthode commit(), qui est nécessaire lorsque l'on modifie la base\n",
    "    connection.commit()\n"
   ]
  },
  {
   "cell_type": "code",
   "execution_count": 9,
   "metadata": {},
   "outputs": [],
   "source": [
    "create_reviewers_table_query = \"\"\"\n",
    "CREATE TABLE reviewers (\n",
    "    id INT AUTO_INCREMENT PRIMARY KEY NOT NULL,\n",
    "    first_name VARCHAR(100),\n",
    "    last_name VARCHAR(100)\n",
    ")\n",
    "\"\"\"\n",
    "with connection.cursor() as cursor:\n",
    "    cursor.execute(create_reviewers_table_query)\n",
    "    connection.commit()\n"
   ]
  },
  {
   "cell_type": "code",
   "execution_count": 10,
   "metadata": {},
   "outputs": [],
   "source": [
    "create_ratings_table_query = \"\"\"\n",
    "CREATE TABLE ratings (\n",
    "    movie_id INT,\n",
    "    reviewer_id INT,\n",
    "    rating DECIMAL(2,1),\n",
    "    FOREIGN KEY(movie_id) REFERENCES movies(id),\n",
    "    FOREIGN KEY(reviewer_id) REFERENCES reviewers(id),\n",
    "    PRIMARY KEY(movie_id, reviewer_id)\n",
    ")\n",
    "\"\"\"\n",
    "with connection.cursor() as cursor:\n",
    "    cursor.execute(create_ratings_table_query)\n",
    "    connection.commit()\n"
   ]
  },
  {
   "cell_type": "markdown",
   "metadata": {},
   "source": [
    "## Description d'une table"
   ]
  },
  {
   "cell_type": "code",
   "execution_count": 11,
   "metadata": {},
   "outputs": [
    {
     "name": "stdout",
     "output_type": "stream",
     "text": [
      "('id', 'int', 'NO', 'PRI', None, 'auto_increment')\n",
      "('title', 'varchar(100)', 'YES', '', None, '')\n",
      "('release_year', 'year', 'YES', '', None, '')\n",
      "('genre', 'varchar(100)', 'YES', '', None, '')\n",
      "('collection_in_mil', 'int', 'YES', '', None, '')\n"
     ]
    }
   ],
   "source": [
    "show_table_query = \"DESCRIBE movies\"\n",
    "with connection.cursor() as cursor:\n",
    "    cursor.execute(show_table_query)\n",
    "    for x in cursor.fetchall():\n",
    "        print(x)"
   ]
  },
  {
   "cell_type": "markdown",
   "metadata": {},
   "source": [
    "## Insérer des données\n",
    "\n",
    "Suivant le nombre de données, il y a deux méthodes pour les injecter: execute() et executemany()"
   ]
  },
  {
   "cell_type": "code",
   "execution_count": 13,
   "metadata": {},
   "outputs": [],
   "source": [
    "# avec execute()\n",
    "insert_movies_query = \"\"\"\n",
    "INSERT INTO movies (title, release_year, genre, collection_in_mil)\n",
    "VALUES\n",
    "    (\"Forrest Gump\", 1994, \"Drama\", 330.2),\n",
    "    (\"3 Idiots\", 2009, \"Drama\", 2.4),\n",
    "    (\"Eternal Sunshine of the Spotless Mind\", 2004, \"Drama\", 34.5),\n",
    "    (\"Good Will Hunting\", 1997, \"Drama\", 138.1),\n",
    "    (\"Skyfall\", 2012, \"Action\", 304.6),\n",
    "    (\"Gladiator\", 2000, \"Action\", 188.7),\n",
    "    (\"Black\", 2005, \"Drama\", 3.0),\n",
    "    (\"Titanic\", 1997, \"Romance\", 659.2),\n",
    "    (\"The Shawshank Redemption\", 1994, \"Drama\",28.4),\n",
    "    (\"Udaan\", 2010, \"Drama\", 1.5),\n",
    "    (\"Home Alone\", 1990, \"Comedy\", 286.9),\n",
    "    (\"Casablanca\", 1942, \"Romance\", 1.0),\n",
    "    (\"Avengers: Endgame\", 2019, \"Action\", 858.8),\n",
    "    (\"Night of the Living Dead\", 1968, \"Horror\", 2.5),\n",
    "    (\"The Godfather\", 1972, \"Crime\", 135.6),\n",
    "    (\"Haider\", 2014, \"Action\", 4.2),\n",
    "    (\"Inception\", 2010, \"Adventure\", 293.7),\n",
    "    (\"Evil\", 2003, \"Horror\", 1.3),\n",
    "    (\"Toy Story 4\", 2019, \"Animation\", 434.9),\n",
    "    (\"Air Force One\", 1997, \"Drama\", 138.1),\n",
    "    (\"The Dark Knight\", 2008, \"Action\",535.4),\n",
    "    (\"Bhaag Milkha Bhaag\", 2013, \"Sport\", 4.1),\n",
    "    (\"The Lion King\", 1994, \"Animation\", 423.6),\n",
    "    (\"Pulp Fiction\", 1994, \"Crime\", 108.8),\n",
    "    (\"Kai Po Che\", 2013, \"Sport\", 6.0),\n",
    "    (\"Beasts of No Nation\", 2015, \"War\", 1.4),\n",
    "    (\"Andadhun\", 2018, \"Thriller\", 2.9),\n",
    "    (\"The Silence of the Lambs\", 1991, \"Crime\", 68.2),\n",
    "    (\"Deadpool\", 2016, \"Action\", 363.6),\n",
    "    (\"Drishyam\", 2015, \"Mystery\", 3.0)\n",
    "\"\"\"\n",
    "with connection.cursor() as cursor:\n",
    "    cursor.execute(insert_movies_query)\n",
    "    # ne pas oublier d'appeler commit()\n",
    "    connection.commit()\n"
   ]
  },
  {
   "cell_type": "code",
   "execution_count": 14,
   "metadata": {},
   "outputs": [],
   "source": [
    "# avec executemany(). Notez les %s dans VALUES, ainsi que la liste de tuples reviewers_records\n",
    "insert_reviewers_query = \"\"\"\n",
    "INSERT INTO reviewers\n",
    "(first_name, last_name)\n",
    "VALUES ( %s, %s )\n",
    "\"\"\"\n",
    "reviewers_records = [\n",
    "    (\"Chaitanya\", \"Baweja\"),\n",
    "    (\"Mary\", \"Cooper\"),\n",
    "    (\"John\", \"Wayne\"),\n",
    "    (\"Thomas\", \"Stoneman\"),\n",
    "    (\"Penny\", \"Hofstadter\"),\n",
    "    (\"Mitchell\", \"Marsh\"),\n",
    "    (\"Wyatt\", \"Skaggs\"),\n",
    "    (\"Andre\", \"Veiga\"),\n",
    "    (\"Sheldon\", \"Cooper\"),\n",
    "    (\"Kimbra\", \"Masters\"),\n",
    "    (\"Kat\", \"Dennings\"),\n",
    "    (\"Bruce\", \"Wayne\"),\n",
    "    (\"Domingo\", \"Cortes\"),\n",
    "    (\"Rajesh\", \"Koothrappali\"),\n",
    "    (\"Ben\", \"Glocker\"),\n",
    "    (\"Mahinder\", \"Dhoni\"),\n",
    "    (\"Akbar\", \"Khan\"),\n",
    "    (\"Howard\", \"Wolowitz\"),\n",
    "    (\"Pinkie\", \"Petit\"),\n",
    "    (\"Gurkaran\", \"Singh\"),\n",
    "    (\"Amy\", \"Farah Fowler\"),\n",
    "    (\"Marlon\", \"Crafford\"),\n",
    "]\n",
    "with connection.cursor() as cursor:\n",
    "    cursor.executemany(insert_reviewers_query, reviewers_records)\n",
    "    connection.commit()\n"
   ]
  },
  {
   "cell_type": "code",
   "execution_count": 15,
   "metadata": {},
   "outputs": [],
   "source": [
    "insert_ratings_query = \"\"\"\n",
    "INSERT INTO ratings\n",
    "(rating, movie_id, reviewer_id)\n",
    "VALUES ( %s, %s, %s)\n",
    "\"\"\"\n",
    "ratings_records = [\n",
    "    (6.4, 17, 5), (5.6, 19, 1), (6.3, 22, 14), (5.1, 21, 17),\n",
    "    (5.0, 5, 5), (6.5, 21, 5), (8.5, 30, 13), (9.7, 6, 4),\n",
    "    (8.5, 24, 12), (9.9, 14, 9), (8.7, 26, 14), (9.9, 6, 10),\n",
    "    (5.1, 30, 6), (5.4, 18, 16), (6.2, 6, 20), (7.3, 21, 19),\n",
    "    (8.1, 17, 18), (5.0, 7, 2), (9.8, 23, 3), (8.0, 22, 9),\n",
    "    (8.5, 11, 13), (5.0, 5, 11), (5.7, 8, 2), (7.6, 25, 19),\n",
    "    (5.2, 18, 15), (9.7, 13, 3), (5.8, 18, 8), (5.8, 30, 15),\n",
    "    (8.4, 21, 18), (6.2, 23, 16), (7.0, 10, 18), (9.5, 30, 20),\n",
    "    (8.9, 3, 19), (6.4, 12, 2), (7.8, 12, 22), (9.9, 15, 13),\n",
    "    (7.5, 20, 17), (9.0, 25, 6), (8.5, 23, 2), (5.3, 30, 17),\n",
    "    (6.4, 5, 10), (8.1, 5, 21), (5.7, 22, 1), (6.3, 28, 4),\n",
    "    (9.8, 13, 1)\n",
    "]\n",
    "with connection.cursor() as cursor:\n",
    "    cursor.executemany(insert_ratings_query, ratings_records)\n",
    "    connection.commit()\n"
   ]
  },
  {
   "cell_type": "markdown",
   "metadata": {},
   "source": [
    "## Sélectionner des données"
   ]
  },
  {
   "cell_type": "code",
   "execution_count": 16,
   "metadata": {},
   "outputs": [
    {
     "name": "stdout",
     "output_type": "stream",
     "text": [
      "('Forrest Gump', 1994)\n",
      "('3 Idiots', 2009)\n",
      "('Eternal Sunshine of the Spotless Mind', 2004)\n",
      "('Good Will Hunting', 1997)\n",
      "('Skyfall', 2012)\n"
     ]
    }
   ],
   "source": [
    "select_movies_query = \"SELECT title, release_year FROM movies LIMIT 5\"\n",
    "\n",
    "with connection.cursor() as cursor:\n",
    "    cursor.execute(select_movies_query)\n",
    "    for row in cursor.fetchall():\n",
    "        print(row)"
   ]
  },
  {
   "cell_type": "code",
   "execution_count": 17,
   "metadata": {},
   "outputs": [
    {
     "name": "stdout",
     "output_type": "stream",
     "text": [
      "('Avengers: Endgame', 859)\n",
      "('Titanic', 659)\n",
      "('The Dark Knight', 535)\n",
      "('Toy Story 4', 435)\n",
      "('The Lion King', 424)\n",
      "('Deadpool', 364)\n",
      "('Forrest Gump', 330)\n",
      "('Skyfall', 305)\n"
     ]
    }
   ],
   "source": [
    "select_movies_query = \"\"\"\n",
    "    SELECT title, collection_in_mil\n",
    "    FROM movies\n",
    "    WHERE collection_in_mil > 300\n",
    "    ORDER BY collection_in_mil DESC\n",
    "    \"\"\"\n",
    "\n",
    "with connection.cursor() as cursor:\n",
    "    cursor.execute(select_movies_query)\n",
    "    for movie in cursor.fetchall():\n",
    "        print(movie)"
   ]
  },
  {
   "cell_type": "code",
   "execution_count": 42,
   "metadata": {},
   "outputs": [
    {
     "name": "stdout",
     "output_type": "stream",
     "text": [
      "('Forrest Gump', 330)\n",
      "('3 Idiots', 2)\n",
      "('Eternal Sunshine of the Spotless Mind', 35)\n",
      "('Good Will Hunting', 138)\n",
      "('Skyfall', 305)\n",
      "('Gladiator', 189)\n",
      "('Black', 3)\n",
      "('Titanic', 659)\n",
      "('The Shawshank Redemption', 28)\n",
      "('Udaan', 2)\n",
      "('Home Alone', 287)\n",
      "('Casablanca', 1)\n",
      "('Avengers: Endgame', 859)\n",
      "('Night of the Living Dead', 3)\n",
      "('The Godfather', 136)\n"
     ]
    }
   ],
   "source": [
    "# la méthode fetchmany() permet de spécifier le nombre de résultat à retourner\n",
    "select_movies_query = \"\"\"\n",
    "    SELECT title, collection_in_mil\n",
    "    FROM movies\n",
    "    \"\"\"\n",
    "\n",
    "with connection.cursor() as cursor:\n",
    "    cursor.execute(select_movies_query)\n",
    "    for movie in cursor.fetchmany(size=15):\n",
    "        print(movie)\n",
    "    # important d'apeler fetchall() afin de vider le cursor et de permettre de nouvelles requêtes\n",
    "    # sinon vous aurez une erreur InternalError: Unread result\n",
    "    cursor.fetchall()"
   ]
  },
  {
   "cell_type": "markdown",
   "metadata": {},
   "source": [
    "## Jointure"
   ]
  },
  {
   "cell_type": "code",
   "execution_count": 18,
   "metadata": {},
   "outputs": [
    {
     "name": "stdout",
     "output_type": "stream",
     "text": [
      "('The Godfather', Decimal('9.90000'))\n",
      "('Night of the Living Dead', Decimal('9.90000'))\n",
      "('Avengers: Endgame', Decimal('9.75000'))\n",
      "('Eternal Sunshine of the Spotless Mind', Decimal('8.90000'))\n",
      "('Beasts of No Nation', Decimal('8.70000'))\n"
     ]
    }
   ],
   "source": [
    "select_movies_query = \"\"\"\n",
    "SELECT title, AVG(rating) as average_rating\n",
    "FROM ratings\n",
    "INNER JOIN movies\n",
    "    ON movies.id = ratings.movie_id\n",
    "GROUP BY movie_id\n",
    "ORDER BY average_rating DESC\n",
    "LIMIT 5\n",
    "\"\"\"\n",
    "with connection.cursor() as cursor:\n",
    "    cursor.execute(select_movies_query)\n",
    "    for movie in cursor.fetchall():\n",
    "        print(movie)"
   ]
  },
  {
   "cell_type": "markdown",
   "metadata": {},
   "source": [
    "# Object Relational Mapping (ORM)\n",
    "\n",
    "Il existe d'autres types interfaces dites ORM qui permettent de manipuler des bases de données avec Python de façon orientée objet. Un autre avantage de ces interfaces est qu'elles permettent de manipuler différents types de bases de manière similaire (SQL, PostgreSQL...). Les principales sont :\n",
    "\n",
    "* SQLAchemy\n",
    "* peewee\n",
    "* Django ORM (que l'on verra plus tard)"
   ]
  },
  {
   "cell_type": "markdown",
   "metadata": {},
   "source": [
    "------------\n",
    "\n",
    "## Cas pratique\n",
    "\n",
    "En manipulant vos bases de données uniquement via Python, réalisez les tâches suivantes :\n",
    "* Créez une base \"CT3\"\n",
    "\n",
    "* Créez les tables suivantes : \"Cours\", \"Enseignants\", \"EnseignantsEtudiants\", \"Etudiants\", \"InfosEnseignants\". Basez vous sur les fichiers CSV contenus dans le dossier data pour nommer les colonnes et accorder les bons types\n",
    "\n",
    "* Ecrivez un code qui va parcourir chaque fichier CSV du dossier data et intègre ses données à la table correspondante.\n",
    "\n",
    "* Faites des requêtes suivantes :\n",
    "    * Affichez le nom, le prenom et la ville de tous les enseignants\n",
    "    * Compter les occurrences de chaque ville\n",
    "    * Voir les enseignants et les étudiants qui ont cours avec\n",
    "\n",
    "\n",
    "* Réalisez les actions suivantes :\n",
    "    * Modifiez la valeur \"nom\" pour \"Dupont\" pour l'élément ayant l'identifiant 1\n",
    "    * Modifiez la valeur de \"ville\" pour \"Saint-Claude\" et \"codePostal\" pour \"39000\" pour l'élément ayant l'identifiant 3\n",
    "    * Supprimez tous les éléments dont le code postal est \"25000\"\n",
    "\n",
    "Vous pouvez bien entendu accéder à MySQL Workbench pour contrôler que vos actions se réalisent bien, mais pas pour réaliser les étapes ci-dessus."
   ]
  },
  {
   "cell_type": "code",
   "execution_count": null,
   "metadata": {},
   "outputs": [],
   "source": []
  },
  {
   "cell_type": "markdown",
   "metadata": {},
   "source": [
    "## Solution"
   ]
  },
  {
   "cell_type": "code",
   "execution_count": 4,
   "metadata": {},
   "outputs": [
    {
     "name": "stdout",
     "output_type": "stream",
     "text": [
      "<mysql.connector.connection.MySQLConnection object at 0x7fe1902d1760>\n"
     ]
    }
   ],
   "source": [
    "from getpass import getpass\n",
    "from mysql.connector import connect, Error\n",
    "\n",
    "user_input = 'root'\n",
    "# remplacez par votre mot de passe\n",
    "password = \"*******\"\n",
    "\n",
    "try:\n",
    "    # on obtient une variable connection de type MySQLConnection avec laquelle on peut intéragir avec le serveur\n",
    "    connection = connect(\n",
    "        host=\"localhost\",\n",
    "        user = user_input,\n",
    "        password = password,\n",
    "\n",
    "        # user=input(\"Enter username: \"),\n",
    "        # password=getpass(\"Enter password: \")\n",
    "    )\n",
    "    print(connection)\n",
    "# gestion de toutes erreurs de connection\n",
    "except Error as e:\n",
    "    print(e)\n"
   ]
  },
  {
   "cell_type": "code",
   "execution_count": 5,
   "metadata": {},
   "outputs": [],
   "source": [
    "# creation de la base CT3\n",
    "dbname = 'CT3'\n",
    "with connection.cursor() as cursor:\n",
    "\n",
    "    cursor.execute(f\"CREATE DATABASE {dbname}\")\n"
   ]
  },
  {
   "cell_type": "code",
   "execution_count": 8,
   "metadata": {},
   "outputs": [],
   "source": [
    "# utilisation de la base\n",
    "with connection.cursor() as cursor:\n",
    "\n",
    "    cursor.execute(f\"USE {dbname}\")"
   ]
  },
  {
   "cell_type": "code",
   "execution_count": 13,
   "metadata": {},
   "outputs": [],
   "source": [
    "# création des tables. Toutes les requêtes sont contenues dans une liste. \n",
    "# on procède à chaque requête à l'aide d'une boucle\n",
    "create_tables_queries = [\n",
    "\"\"\"\n",
    "CREATE TABLE Enseignants (\n",
    "    enseignantID INT AUTO_INCREMENT PRIMARY KEY,\n",
    "    nom VARCHAR(100),\n",
    "    prenom VARCHAR(100)\n",
    ")\n",
    "\"\"\",  \n",
    "\"\"\"\n",
    "CREATE TABLE Etudiants (\n",
    "    etudiantID INT AUTO_INCREMENT PRIMARY KEY,\n",
    "    nom VARCHAR(100),\n",
    "    prenom VARCHAR(100),\n",
    "    age INT\n",
    ")\n",
    "\"\"\", \n",
    "\"\"\"\n",
    "CREATE TABLE Cours (\n",
    "    coursID INT AUTO_INCREMENT PRIMARY KEY,\n",
    "    nom VARCHAR(100),\n",
    "    salle VARCHAR(100),\n",
    "    enseignantID INT,\n",
    "    FOREIGN KEY(enseignantID) REFERENCES Enseignants(enseignantID)\n",
    ")\n",
    "\"\"\",\n",
    "\"\"\"\n",
    "CREATE TABLE InfosEnseignants (\n",
    "    enseignantID INT,\n",
    "    age INT,\n",
    "    ville VARCHAR(100),\n",
    "    codePostal INT,\n",
    "    dateNaissance DATE,\n",
    "    FOREIGN KEY(enseignantID) REFERENCES Enseignants(enseignantID)\n",
    ")\n",
    "\"\"\",\n",
    "\"\"\"\n",
    "CREATE TABLE EnseignantsEtudiants (\n",
    "    id INT AUTO_INCREMENT PRIMARY KEY,\n",
    "    enseignantID INT,\n",
    "    etudiantID INT,\n",
    "    FOREIGN KEY(enseignantID) REFERENCES Enseignants(enseignantID),\n",
    "    FOREIGN KEY(etudiantID) REFERENCES Etudiants(etudiantID)\n",
    "\n",
    ")\n",
    "\"\"\",\n",
    "]\n",
    "\n",
    "for create_query in create_tables_queries:\n",
    "    with connection.cursor() as cursor:\n",
    "        cursor.execute(create_query)\n",
    "        connection.commit()"
   ]
  },
  {
   "cell_type": "code",
   "execution_count": 41,
   "metadata": {},
   "outputs": [
    {
     "name": "stdout",
     "output_type": "stream",
     "text": [
      "data/InfosEnseignants.csv\n",
      "\n",
      "        INSERT INTO InfosEnseignants\n",
      "        (enseignantID,age,ville,codePostal,dateNaissance)\n",
      "        VALUES (%s,%s,%s,%s,%s)\n",
      "    \n",
      "data/Etudiants.csv\n",
      "\n",
      "        INSERT INTO Etudiants\n",
      "        (etudiantID,nom,prenom,age)\n",
      "        VALUES (%s,%s,%s,%s)\n",
      "    \n",
      "data/EnseignantsEtudiants.csv\n",
      "\n",
      "        INSERT INTO EnseignantsEtudiants\n",
      "        (id,enseignantID,etudiantID)\n",
      "        VALUES (%s,%s,%s)\n",
      "    \n",
      "data/Cours.csv\n",
      "\n",
      "        INSERT INTO Cours\n",
      "        (coursID,nom,salle,enseignantID)\n",
      "        VALUES (%s,%s,%s,%s)\n",
      "    \n"
     ]
    }
   ],
   "source": [
    "import os \n",
    "\n",
    "def insertDataFromFile(filepath):\n",
    "    print(filepath)\n",
    "    # on va avoir besoin du nom de fichier pour ajouter les données à la bonne table\n",
    "    filename = os.path.basename(filepath)\n",
    "    filename = filename.replace('.csv', '')\n",
    "\n",
    "    # on récupère les données\n",
    "    with open(filepath, 'r', encoding='utf-8') as f:\n",
    "        lines = f.read()\n",
    "        lines = lines.split('\\n')\n",
    "\n",
    "        header = lines[0]\n",
    "        # on se débarasse de la première ligne, qui est le header\n",
    "        lines = lines[1:]\n",
    "\n",
    "    num_col = len(header.split(','))\n",
    "\n",
    "    insert_query = f\"\"\"\n",
    "        INSERT INTO {filename}\n",
    "        ({header})\n",
    "        VALUES ({','.join(['%s' for i in range(num_col)])})\n",
    "    \"\"\"\n",
    "    print(insert_query)\n",
    "    # on transforme chaque valeur en tuple pour pouvoir l'insérer dans la base de données\n",
    "    insert_data = []\n",
    "    for line in lines:\n",
    "        data = line.split(',')\n",
    "        insert_data.append(data)\n",
    "\n",
    "    with connection.cursor() as cursor:\n",
    "        cursor.executemany(insert_query, insert_data)\n",
    "        connection.commit()\n",
    "    # break\n",
    "\n",
    "insertDataFromFile('data/Enseignants.csv')\n",
    "insertDataFromFile('data/InfosEnseignants.csv')\n",
    "insertDataFromFile('data/Etudiants.csv')\n",
    "insertDataFromFile('data/EnseignantsEtudiants.csv')\n",
    "insertDataFromFile('data/Cours.csv')\n",
    "\n"
   ]
  },
  {
   "cell_type": "code",
   "execution_count": 45,
   "metadata": {},
   "outputs": [
    {
     "name": "stdout",
     "output_type": "stream",
     "text": [
      "('\"Gutehrle\"', '\"Nicolas\"', '\"Dijon\"')\n",
      "('\"Guedat\"', '\"Nathan\"', '\"Besancon\"')\n",
      "('\"Ozturk\"', '\"Yagmur\"', '\"Besancon\"')\n",
      "('\"Nomblot\"', '\"Aurelie\"', '\"Besancon\"')\n"
     ]
    }
   ],
   "source": [
    "\n",
    "select_query = f'''\n",
    "SELECT nom, prenom, ville FROM CT3.Enseignants\n",
    "INNER JOIN CT3.InfosEnseignants ON CT3.Enseignants.enseignantID = CT3.InfosEnseignants.enseignantID\n",
    "'''\n",
    "\n",
    "# select_query =  '''SELECT COUNT(ville), ville FROM CT3.InfosEnseignants GROUP BY ville'''\n",
    "\n",
    "# select_query = '''SELECT * FROM CT3.Enseignants\n",
    "# INNER JOIN CT3.EnseignantsEtudiants ON CT3.enseignants.enseignantID = CT3.EnseignantsEtudiants.enseignantID\n",
    "# INNER JOIN CT3.etudiants ON CT3.etudiants.etudiantID = CT3.EnseignantsEtudiants.etudiantID\n",
    "# '''\n",
    "\n",
    "with connection.cursor() as cursor:\n",
    "    cursor.execute(select_query)\n",
    "    for value in cursor.fetchall():\n",
    "        print(value)"
   ]
  },
  {
   "cell_type": "code",
   "execution_count": 50,
   "metadata": {},
   "outputs": [],
   "source": [
    "update_query = '''\n",
    "UPDATE CT3.Enseignants SET nom=\"Dupont\" WHERE CT3.Enseignants.enseignantID=1'''\n",
    "\n",
    "update_query = ''' \n",
    "UPDATE CT3.InfosEnseignants SET ville=\"Saint-Claude\", codePostal=39000 WHERE CT3.InfosEnseignants.enseignantID=3;\n",
    "'''\n",
    "\n",
    "update_query = ''' \n",
    "DELETE FROM CT3.InfosEnseignants WHERE codePostal=25000\n",
    "'''\n",
    "\n",
    "with connection.cursor() as cursor:\n",
    "    cursor.execute(update_query)\n",
    "    connection.commit()\n"
   ]
  }
 ],
 "metadata": {
  "kernelspec": {
   "display_name": "cours",
   "language": "python",
   "name": "python3"
  },
  "language_info": {
   "codemirror_mode": {
    "name": "ipython",
    "version": 3
   },
   "file_extension": ".py",
   "mimetype": "text/x-python",
   "name": "python",
   "nbconvert_exporter": "python",
   "pygments_lexer": "ipython3",
   "version": "3.9.6"
  },
  "orig_nbformat": 4
 },
 "nbformat": 4,
 "nbformat_minor": 2
}
