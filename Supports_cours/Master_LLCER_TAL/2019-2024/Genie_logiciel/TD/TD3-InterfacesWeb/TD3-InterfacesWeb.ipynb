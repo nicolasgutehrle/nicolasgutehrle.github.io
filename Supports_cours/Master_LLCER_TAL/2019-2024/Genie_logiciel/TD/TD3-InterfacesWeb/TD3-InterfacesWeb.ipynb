{
 "cells": [
  {
   "cell_type": "markdown",
   "metadata": {},
   "source": [
    "# Génie Logiciel\n",
    "## TD4- Interfaces webs\n",
    "\n",
    "Il existe plusieurs frameworks en Python pour concevoir des applications webs. On peut notamment citer\n",
    "* Flask\n",
    "* Django\n",
    "* FastAPI\n",
    "* Streamlit\n",
    "* Panel\n",
    "\n",
    "Flask et Django font parties des frameworks les plus importants et les plus utilisés en Python. Flask est un micro-framework, il est donc moins complet que Django mais plus facile et rapide à mettre en place. FastAPI permet de concevoir des API REST (nécessaire si vous souhaitez rendre accessibles vos projets ou outils par le web). Streamlit et Panel sont des frameworks particuliers, puisqu'ils reposent intégralement sur Python (pas de HTML, CSS ou Javascript à écrire).\n",
    "\n",
    "Dans ce cours, nous allons concevoir une simple interface web avec le micro-framework Flask, que nous complexifieront au fur et à mesure.\n",
    "\n",
    "Source des exemples et tutoriels : https://www.tutorialspoint.com/flask/index.htm "
   ]
  },
  {
   "cell_type": "markdown",
   "metadata": {},
   "source": [
    "## Installation de Flask"
   ]
  },
  {
   "cell_type": "code",
   "execution_count": 1,
   "metadata": {},
   "outputs": [
    {
     "name": "stdout",
     "output_type": "stream",
     "text": [
      "Collecting Flask\n",
      "  Downloading flask-2.3.3-py3-none-any.whl (96 kB)\n",
      "\u001b[K     |████████████████████████████████| 96 kB 5.8 MB/s eta 0:00:011\n",
      "\u001b[?25hCollecting click>=8.1.3\n",
      "  Downloading click-8.1.7-py3-none-any.whl (97 kB)\n",
      "\u001b[K     |████████████████████████████████| 97 kB 25.6 MB/s eta 0:00:01\n",
      "\u001b[?25hCollecting blinker>=1.6.2\n",
      "  Downloading blinker-1.6.2-py3-none-any.whl (13 kB)\n",
      "Collecting Werkzeug>=2.3.7\n",
      "  Downloading werkzeug-2.3.7-py3-none-any.whl (242 kB)\n",
      "\u001b[K     |████████████████████████████████| 242 kB 46.8 MB/s eta 0:00:01\n",
      "\u001b[?25hCollecting Jinja2>=3.1.2\n",
      "  Using cached Jinja2-3.1.2-py3-none-any.whl (133 kB)\n",
      "Collecting itsdangerous>=2.1.2\n",
      "  Using cached itsdangerous-2.1.2-py3-none-any.whl (15 kB)\n",
      "Requirement already satisfied: importlib-metadata>=3.6.0 in /Users/nicolasgutehrle/opt/anaconda3/envs/cours/lib/python3.9/site-packages (from Flask) (6.0.0)\n",
      "Requirement already satisfied: zipp>=0.5 in /Users/nicolasgutehrle/opt/anaconda3/envs/cours/lib/python3.9/site-packages (from importlib-metadata>=3.6.0->Flask) (3.13.0)\n",
      "Requirement already satisfied: MarkupSafe>=2.0 in /Users/nicolasgutehrle/opt/anaconda3/envs/cours/lib/python3.9/site-packages (from Jinja2>=3.1.2->Flask) (2.0.1)\n",
      "Collecting MarkupSafe>=2.0\n",
      "  Downloading MarkupSafe-2.1.3-cp39-cp39-macosx_10_9_x86_64.whl (13 kB)\n",
      "Installing collected packages: MarkupSafe, Werkzeug, Jinja2, itsdangerous, click, blinker, Flask\n",
      "  Attempting uninstall: MarkupSafe\n",
      "    Found existing installation: MarkupSafe 2.0.1\n",
      "    Uninstalling MarkupSafe-2.0.1:\n",
      "      Successfully uninstalled MarkupSafe-2.0.1\n",
      "  Attempting uninstall: Jinja2\n",
      "    Found existing installation: Jinja2 3.0.1\n",
      "    Uninstalling Jinja2-3.0.1:\n",
      "      Successfully uninstalled Jinja2-3.0.1\n",
      "  Attempting uninstall: click\n",
      "    Found existing installation: click 8.0.3\n",
      "    Uninstalling click-8.0.3:\n",
      "      Successfully uninstalled click-8.0.3\n",
      "\u001b[31mERROR: pip's dependency resolver does not currently take into account all the packages that are installed. This behaviour is the source of the following dependency conflicts.\n",
      "pyldavis 3.3.1 requires numpy>=1.20.0, but you have numpy 1.19.5 which is incompatible.\u001b[0m\n",
      "Successfully installed Flask-2.3.3 Jinja2-3.1.2 MarkupSafe-2.1.3 Werkzeug-2.3.7 blinker-1.6.2 click-8.1.7 itsdangerous-2.1.2\n"
     ]
    }
   ],
   "source": [
    "!pip install Flask"
   ]
  },
  {
   "cell_type": "markdown",
   "metadata": {},
   "source": [
    "## Routing \n",
    "\n",
    "Créez un dossie \"app\", puis copiez-collez le code suivant dans un fichier \"hello.py\" dans le dossier courant."
   ]
  },
  {
   "cell_type": "code",
   "execution_count": null,
   "metadata": {},
   "outputs": [],
   "source": [
    "from flask import Flask\n",
    "app = Flask(__name__)\n",
    "\n",
    "@app.route('/')\n",
    "def hello_world():\n",
    "   return \"Hello World\"\n",
    "\n",
    "if __name__ == '__main__':\n",
    "   \n",
    "   # app.run()\n",
    "   # debug = True nous permet de modifier le code et de voir les modifications directement en \n",
    "   # rechargeant la page, sans avoir à redémarrer le serveur\n",
    "   app.run(debug = True)"
   ]
  },
  {
   "cell_type": "markdown",
   "metadata": {},
   "source": [
    "Notez le décorateur @app.route(). Elle permet le \"routing\" c'est à dire faire correspondre une URL à une action dans le serveur. Il prend deux arguments :\n",
    "* rule : URL qui mènera à cette action\n",
    "* option : les différentes méthodes HTTP possibles (GET, POST...)\n",
    "\n",
    "Ici, \"/\" indique la racine de notre application web. Ainsi, la fonction \"hello_word()\" sera déclenchée dès que l'on accèdera à l'URL racine de notre application.\n",
    "\n",
    "Notez également l'appel de la méthode \"app.run()\" dans la section main du fichier .py. Elle permet de déclencher le serveur lorsque le fichier \"hello.py\" est exécuté.\n",
    "\n",
    "Dans un terminal, naviguez jusqu'au dossier contenant \"hello.py\", puis exécutez la commande suivante :"
   ]
  },
  {
   "cell_type": "code",
   "execution_count": null,
   "metadata": {},
   "outputs": [],
   "source": [
    "!python hello.py"
   ]
  },
  {
   "cell_type": "markdown",
   "metadata": {},
   "source": [
    "Cliquez ensuite dans l'URL indiquée dans le terminal : http://127.0.0.1:5000. Vous devriez atteindre une page affichant le message \"Hello world\".\n",
    "\n",
    "Ajoutez le code ci-dessous à \"hello.py\", en remplaçant **votre_nom** par votre nom. N'oubliez pas de sauvegarder les modifications pour que le serveur les charge. \n",
    "\n",
    "Allez ensuite à l'adresse http://127.0.0.1:5000/**votre_nom**"
   ]
  },
  {
   "cell_type": "code",
   "execution_count": 2,
   "metadata": {},
   "outputs": [
    {
     "ename": "NameError",
     "evalue": "name 'app' is not defined",
     "output_type": "error",
     "traceback": [
      "\u001b[0;31m---------------------------------------------------------------------------\u001b[0m",
      "\u001b[0;31mNameError\u001b[0m                                 Traceback (most recent call last)",
      "\u001b[0;32m/var/folders/g9/npfr2mks4118dkv7g8ckgccr0000gn/T/ipykernel_81222/1278777114.py\u001b[0m in \u001b[0;36m<module>\u001b[0;34m\u001b[0m\n\u001b[0;32m----> 1\u001b[0;31m \u001b[0;34m@\u001b[0m\u001b[0mapp\u001b[0m\u001b[0;34m.\u001b[0m\u001b[0mroute\u001b[0m\u001b[0;34m(\u001b[0m\u001b[0;34m\"/votre_nom\"\u001b[0m\u001b[0;34m)\u001b[0m\u001b[0;34m\u001b[0m\u001b[0;34m\u001b[0m\u001b[0m\n\u001b[0m\u001b[1;32m      2\u001b[0m \u001b[0;32mdef\u001b[0m \u001b[0mhello_votre_nom\u001b[0m\u001b[0;34m(\u001b[0m\u001b[0;34m)\u001b[0m\u001b[0;34m:\u001b[0m\u001b[0;34m\u001b[0m\u001b[0;34m\u001b[0m\u001b[0m\n\u001b[1;32m      3\u001b[0m    \u001b[0;32mreturn\u001b[0m \u001b[0;34m\"hello votre_nom\"\u001b[0m\u001b[0;34m\u001b[0m\u001b[0;34m\u001b[0m\u001b[0m\n",
      "\u001b[0;31mNameError\u001b[0m: name 'app' is not defined"
     ]
    }
   ],
   "source": [
    "@app.route(\"/votre_nom\")\n",
    "def hello_votre_nom():\n",
    "   return \"hello votre_nom\""
   ]
  },
  {
   "cell_type": "markdown",
   "metadata": {},
   "source": [
    "## Variables de routing \n",
    "\n",
    "Plutôt que d'écrire en dur votre nom dans le routing, il est possible d'employer des variables. Celles-ci sont contenus entre chevrons dans l'URL ainsi qu'en argument de la fonction associée, comme ci-dessous :\n"
   ]
  },
  {
   "cell_type": "code",
   "execution_count": null,
   "metadata": {},
   "outputs": [],
   "source": [
    "@app.route(\"/<name>\")\n",
    "def hello_name(name):\n",
    "   return f\"hello {name}\""
   ]
  },
  {
   "cell_type": "markdown",
   "metadata": {},
   "source": [
    "Remplacez la fonction \"hello_votre_nom\" par celle ci-dessus, puis chargez la page. Essayez d'employer des noms différents ou d'autres valeurs (numériques...) pour voir les résultats. Vous devriez avoir à chaque fois une page affichant le message \"Hello 'nom'\"\n"
   ]
  },
  {
   "cell_type": "markdown",
   "metadata": {},
   "source": [
    "La fonction \"url_for()\" permet une plus grande flexibilité dans le routing.\n",
    "\n",
    "Remplacez les fonctions de \"hello.py\" par celles ci-dessous : "
   ]
  },
  {
   "cell_type": "code",
   "execution_count": null,
   "metadata": {},
   "outputs": [],
   "source": [
    "from flask import Flask, redirect, url_for\n",
    "\n",
    "@app.route('/admin')\n",
    "def hello_admin():\n",
    "   return 'Hello Admin'\n",
    "\n",
    "@app.route('/guest/<guest>')\n",
    "def hello_guest(guest):\n",
    "   return 'Hello %s as Guest' % guest\n",
    "\n",
    "@app.route('/user/<name>')\n",
    "def hello_user(name):\n",
    "   # si nom est \"admin\", redirige vers la fonction hello_admin \n",
    "   if name =='admin':\n",
    "      return redirect(url_for('hello_admin'))\n",
    "   # sinon redirige vers la fonction hello_guest \n",
    "   else:\n",
    "      return redirect(url_for('hello_guest',guest = name))"
   ]
  },
  {
   "cell_type": "markdown",
   "metadata": {},
   "source": [
    "Allez ensuite à l'adresse 127.0.0.1:5000/guest/NOM en remplaçant NOM soit par \"admin\" soit par votre nom. Observez les différents résultats."
   ]
  },
  {
   "cell_type": "markdown",
   "metadata": {},
   "source": [
    "## Templates HTML Jinja\n",
    "\n",
    "Jusque là, les fonctions associées à des URL permettaient d'afficher des pages Web avec du simple texte. En interne, Flask convertit les chaînes de caractères en tags HTML correspondant. Cependant, l'avantage de frameworks tels que Flask est de pouvoir générer des pages Webs dynamiques, affichant des informations issues du serveur. \n",
    "\n",
    "Pour cela, Flask emploie les templates Jinja, comme ci-dessous. \n",
    "\n",
    "Créez un dossier \"templates\", puis dans ce dossier, crée un fichier \"hello.html\", puis copiez-collez le code ci-dessous :"
   ]
  },
  {
   "cell_type": "code",
   "execution_count": null,
   "metadata": {},
   "outputs": [],
   "source": [
    "<!doctype html>\n",
    "<html>\n",
    "   <body>\n",
    "   \n",
    "      <h1>Hello {{ name }}!</h1>\n",
    "      \n",
    "   </body>\n",
    "</html>"
   ]
  },
  {
   "cell_type": "markdown",
   "metadata": {},
   "source": [
    "Ajoutez le code ci-dessous à votre fichier \"hello.py\", enregistrez les modifications, puis allez à l'adresse http://127.0.0.1:5000/hello/**user** .\n",
    "\n",
    "Remarquez l'usage de la fonction \"render_template()\" dans laquelle on indique le nom du fichier html à afficher, ainsi que les variables correspondantes. Remarquez également que l'on indique seulement le nom du fichier, et pas le dossier template (Flask cherchera ces fichiers directement dans le dossier template)"
   ]
  },
  {
   "cell_type": "code",
   "execution_count": null,
   "metadata": {},
   "outputs": [],
   "source": [
    "from flask import Flask, redirect, url_for, render_template\n",
    "\n",
    "@app.route('/hello/<user>')\n",
    "def hello_name(user):\n",
    "   return render_template('hello.html', name = user)\n"
   ]
  },
  {
   "cell_type": "markdown",
   "metadata": {},
   "source": [
    "Remarquez le {{name}} dans le fichier \"hello.html\". Cette variable doit correspondre à la variable employée comme argument de la fonction et de l'URL. Jinja permet également d'employer des conditions if...else, ainsi que des boucles.\n",
    "\n",
    "Ajoutez le code suivant à votre fichier \"hello.py\", puis créez un fichier \"hello_if.html\" avec le code suivant.\n",
    "\n",
    "Accédez ensuite à l'adresse http://127.0.0.1:5000/hello/if/**score**, en essayant différentes valeurs pour score"
   ]
  },
  {
   "cell_type": "code",
   "execution_count": null,
   "metadata": {},
   "outputs": [],
   "source": [
    "@app.route('/hello/if/<int:score>')\n",
    "def hello_if(score):\n",
    "   return render_template('hello_if.html', marks = score)\n"
   ]
  },
  {
   "cell_type": "code",
   "execution_count": null,
   "metadata": {},
   "outputs": [],
   "source": [
    "<!doctype html>\n",
    "<html>\n",
    "   <body>\n",
    "      {% if marks>50 %}\n",
    "         <h1> Your result is pass!</h1>\n",
    "      {% else %}\n",
    "         <h1>Your result is fail</h1>\n",
    "      {% endif %}\n",
    "   </body>\n",
    "</html>"
   ]
  },
  {
   "cell_type": "markdown",
   "metadata": {},
   "source": [
    "Ajoutez le code ci-dessous à \"hello.py\", puis créez un fichier \"hello_for.html\" avec le code ci-dessous.\n",
    "\n",
    "Accédez ensuite à l'adresse http://127.0.0.1:5000/result"
   ]
  },
  {
   "cell_type": "code",
   "execution_count": null,
   "metadata": {},
   "outputs": [],
   "source": [
    "@app.route('/result')\n",
    "def result():\n",
    "   dict = {'phy':50,'che':60,'maths':70}\n",
    "   return render_template('hello_for.html', result = dict)\n"
   ]
  },
  {
   "cell_type": "code",
   "execution_count": null,
   "metadata": {},
   "outputs": [],
   "source": [
    "<!doctype html>\n",
    "<html>\n",
    "   <body>\n",
    "      <table border = 1>\n",
    "         {% for key, value in result.items() %}\n",
    "            <tr>\n",
    "               <th> {{ key }} </th>\n",
    "               <td> {{ value }} </td>\n",
    "            </tr>\n",
    "         {% endfor %}\n",
    "      </table>\n",
    "   </body>\n",
    "</html>"
   ]
  },
  {
   "cell_type": "markdown",
   "metadata": {},
   "source": [
    "Remarquez ici que les conditions if...else ainsi que les boucles for sont contenues dans des accolades {{%%}} tandis que les variables sont contenues dans des accolades {{}}."
   ]
  },
  {
   "cell_type": "markdown",
   "metadata": {},
   "source": [
    "## Fichiers statics\n",
    "\n",
    "Les applications Web ont souvent besoins de fichiers statics, en particulier les fichiers CSS, JS (javascript), mais aussi les images, etc. Pour Flask, il est nécessaire de stocker ces fichiers dans un dossier \"static\", comme il est nécessaire de stocker les templates HTML dans un dossier \"templates\".\n",
    "\n",
    "Créez un dossier \"static\", dans lequel vous intégrerez le contenu suivant dans un fichier \"style.css\" et \"hello.js\" respectivement \n"
   ]
  },
  {
   "cell_type": "code",
   "execution_count": null,
   "metadata": {},
   "outputs": [],
   "source": [
    "h1 {\n",
    "    text-align: center;\n",
    "}"
   ]
  },
  {
   "cell_type": "code",
   "execution_count": null,
   "metadata": {},
   "outputs": [],
   "source": [
    "function sayHello() {\n",
    "   alert(\"Hello World\")\n",
    "}"
   ]
  },
  {
   "cell_type": "markdown",
   "metadata": {},
   "source": [
    "Puis, remplacez le contenu de \"hello.html\" par le contenu ci-dessous. \n",
    "\n",
    "Accédez ensuite à l'adresse http://127.0.0.1:5000/hello/**nom**. Le texte doit normalement être centré sur la page."
   ]
  },
  {
   "cell_type": "code",
   "execution_count": null,
   "metadata": {},
   "outputs": [],
   "source": [
    "<!doctype html>\n",
    "<head>\n",
    "\n",
    "    <link rel=\"stylesheet\" type=\"text/css\" href=\"/static/style.css\">\n",
    "    <script src=\"/static/hello.js\"></script> \n",
    "\n",
    "</head>\n",
    "<html>\n",
    "   <body>\n",
    "   \n",
    "      <h1>Hello {{ name }}!</h1>\n",
    "      <input type = \"button\" onclick = \"sayHello()\" value = \"Say Hello\" />\n",
    "   </body>\n",
    "</html>"
   ]
  },
  {
   "cell_type": "markdown",
   "metadata": {},
   "source": [
    "## Protocoles HTTP\n",
    "\n",
    "Les protocoles HTTP sont la base de la communication dans le Web. Les cinq principaux protocoles sont : \n",
    "\n",
    "* GET : envoie des données non-cryptées au serveur\n",
    "* POST : Envoie des données sous forme de formulaire au serveur, qui ne sont pas conservées dans le cache\n",
    "* HEAD : identique à GET, mais sans corps de réponse (permet de demander des informations sur les ressources)\n",
    "* PUT : permet de remplacer ou d'ajouter une ressource au serveur\n",
    "* DELETE : permet de supprimer une ressources\n",
    "\n",
    "Les plus courantes sont GET, POST et HEAD. Ainsi, chaque protocole correspond à une requête que l'utilisateur fait au serveur.\n",
    "\n",
    "Dans Flask, le routing emploie par défault le protocole GET. On peut cependant spécifier les protocoles à employer dans le second argument du routing, comme ci-dessous :"
   ]
  },
  {
   "cell_type": "markdown",
   "metadata": {},
   "source": [
    "## Requêtes\n",
    "\n",
    "Dans Flask, les requêtes sont accessibles via l'objet \"request\", qu'il faut importer"
   ]
  },
  {
   "cell_type": "code",
   "execution_count": null,
   "metadata": {},
   "outputs": [],
   "source": [
    "from flask import request\n"
   ]
  },
  {
   "cell_type": "markdown",
   "metadata": {},
   "source": [
    "En premier lieu, on peut accéder aux arguments d'une requête GET à l'aide de l'attribut args.\n",
    "\n",
    "Ajoutez le code suivant à \"hello.py\", puis accédez à l'url suivante, en remplaçant **name** (après le =) par votre nom : http://localhost:5000/request?name=**name**"
   ]
  },
  {
   "cell_type": "code",
   "execution_count": null,
   "metadata": {},
   "outputs": [],
   "source": [
    "@app.route('/request')\n",
    "def request_name():\n",
    "    # ici, on accède à la variable name de l'URL.\n",
    "    # si cette variable n'existe pas, cela retourne None\n",
    "   name = request.args.get('name')\n",
    "   return name"
   ]
  },
  {
   "cell_type": "markdown",
   "metadata": {},
   "source": [
    "Les principales attributs de requests sont :\n",
    "\n",
    "* method : indique le protocole employée pour la requête (GET, POST...). \n",
    "* args : pour récupérer les arguments d'une requête GET\n",
    "* form : pour récupérer les données envoyées sous forme de formulaire d'une requête POST ou PUT\n",
    "* files : pour récupérer les fichiers transmis par une requête POST\n",
    "* cookies : pour accéder et modifier les cookies\n",
    "* json : pour récupérer et manipuler une requête envoyée au format JSON \n",
    "\n",
    "Tutoriel détaillée sur request : https://www.digitalocean.com/community/tutorials/processing-incoming-request-data-in-flask#prerequisites\n",
    "Tutoriel sur les requêtes JSON : https://sentry.io/answers/flask-getting-post-data/"
   ]
  },
  {
   "cell_type": "markdown",
   "metadata": {},
   "source": [
    "## Formulaires\n",
    "\n",
    "L'envoie de données au serveur se fait à l'aide de formulaires et du protocole POST. \n",
    "\n",
    "Dans Flask, le protocole POST nous permet de récupérer les informations envoyées par le formulaires sous forme d'un dictionnaire. \n",
    "\n",
    "Dans le routing, la fonction correspondant à un formulaire doit avoir les protocoles GET et POST (alors que par défaut, elles n'ont que le protocole GET), comme dans la fonction result_form() ci-dessous.\n",
    "\n",
    "Ajoutez les fonctions ci-dessous au fichier hello.py. \n",
    "\n"
   ]
  },
  {
   "cell_type": "code",
   "execution_count": null,
   "metadata": {},
   "outputs": [],
   "source": [
    "\n",
    "@app.route('/student')\n",
    "def student():\n",
    "   return render_template('student.html')\n",
    "\n",
    "@app.route('/result_form',methods = ['POST', 'GET'])\n",
    "def result_form():\n",
    "   if request.method == 'POST':\n",
    "        # ici on récupère la requête sous forme de dictionnaire\n",
    "      result = request.form\n",
    "      # on emploie les données de result pour afficher la page result.html\n",
    "      return render_template(\"result_form.html\",result = result)\n"
   ]
  },
  {
   "cell_type": "markdown",
   "metadata": {},
   "source": [
    "Ajoutez le code suivant dans un fichier \"student.html\". Notez que l'argument \"action\" du tag form dirige vers l'adresse \"/result\" et que l'argument method précise le protocole \"POST\"."
   ]
  },
  {
   "cell_type": "code",
   "execution_count": null,
   "metadata": {},
   "outputs": [],
   "source": [
    "<html>\n",
    "   <body>\n",
    "      <form action = \"http://localhost:5000/result_form\" method = \"POST\">\n",
    "         <p>Name <input type = \"text\" name = \"Name\" /></p>\n",
    "         <p>Physics <input type = \"text\" name = \"Physics\" /></p>\n",
    "         <p>Chemistry <input type = \"text\" name = \"chemistry\" /></p>\n",
    "         <p>Maths <input type =\"text\" name = \"Mathematics\" /></p>\n",
    "         <p><input type = \"submit\" value = \"submit\" /></p>\n",
    "      </form>\n",
    "   </body>\n",
    "</html>"
   ]
  },
  {
   "cell_type": "markdown",
   "metadata": {},
   "source": [
    "Ajoutez le code ci-dessous dans un fichier \"result_form.html\".\n",
    "\n",
    "Accédez ensuite à l'adresse http://127.0.0.1:5000/student, remplissez le formulaire et cliquez sur le bouton. "
   ]
  },
  {
   "cell_type": "code",
   "execution_count": null,
   "metadata": {},
   "outputs": [],
   "source": [
    "<!doctype html>\n",
    "<html>\n",
    "   <body>\n",
    "      <table border = 1>\n",
    "         {% for key, value in result.items() %}\n",
    "            <tr>\n",
    "               <th> {{ key }} </th>\n",
    "               <td> {{ value }} </td>\n",
    "            </tr>\n",
    "         {% endfor %}\n",
    "      </table>\n",
    "   </body>\n",
    "</html>"
   ]
  },
  {
   "cell_type": "markdown",
   "metadata": {},
   "source": [
    "## Afficher / flasher des messages\n",
    "\n",
    "Dans une interface web, il est important d'intéragir avec l'utilisateur pour confirmer la validation d'une action ou non. Cela passe par l'envoi de messages. Dans Flask, on emploie la fonction flash() pour faire afficher des messages. \n",
    "\n",
    "Ajoutez le code ci-dessous à \"hello.py\""
   ]
  },
  {
   "cell_type": "code",
   "execution_count": null,
   "metadata": {},
   "outputs": [],
   "source": [
    "from flask import flash \n",
    "\n",
    "@app.route('/index')\n",
    "def index():\n",
    "   return render_template('index.html')\n",
    "\n",
    "@app.route('/login', methods = ['GET', 'POST'])\n",
    "def login():\n",
    "   error = None\n",
    "   \n",
    "   if request.method == 'POST':\n",
    "    # erreur le username et password sont différents de admin\n",
    "      if request.form['username'] != 'admin' or \\\n",
    "         request.form['password'] != 'admin':\n",
    "         error = 'Invalid username or password. Please try again!'\n",
    "      else:\n",
    "        # on flash un message seulement si le login est réussi\n",
    "         flash('You were successfully logged in')\n",
    "         return redirect(url_for('index'))\n",
    "    # que le login réussisse ou non, on retourne le template login.html\n",
    "   return render_template('login.html', error = error)"
   ]
  },
  {
   "cell_type": "markdown",
   "metadata": {},
   "source": [
    "Ajoutez le code ci-dessous à un fichier \"login.html\". Remarquez que le message d'erreur ne s'affiche que si la variable \"error\" est vraie. \n",
    "\n"
   ]
  },
  {
   "cell_type": "code",
   "execution_count": null,
   "metadata": {},
   "outputs": [],
   "source": [
    "<!doctype html>\n",
    "<html>\n",
    "   <body>\n",
    "      <h1>Login</h1>\n",
    "\n",
    "      {% if error %}\n",
    "         <p><strong>Error:</strong> {{ error }}\n",
    "      {% endif %}\n",
    "      \n",
    "      <form action = \"http://localhost:5000/login\" method = \"POST\">\n",
    "         <dl>\n",
    "            <dt>Username:</dt>\n",
    "            <dd>\n",
    "               <input type = text name = username \n",
    "                  value = \"{{request.form.username }}\">\n",
    "            </dd>\n",
    "            <dt>Password:</dt>\n",
    "            <dd><input type = password name = password></dd>\n",
    "         </dl>\n",
    "         <p><input type = submit value = Login></p>\n",
    "      </form>\n",
    "   </body>\n",
    "</html>"
   ]
  },
  {
   "cell_type": "markdown",
   "metadata": {},
   "source": [
    "Pour accéder aux messages flashés, il faut appeler la fonction \"get_flashed_messages()\" dans le template (voir ci-dessous). \n",
    "\n",
    "Ajoutez le code ci-dessous à un fichier \"index.html\""
   ]
  },
  {
   "cell_type": "code",
   "execution_count": null,
   "metadata": {},
   "outputs": [],
   "source": [
    "<!doctype html>\n",
    "<html>\n",
    "   <head>\n",
    "      <title>Flask Message flashing</title>\n",
    "   </head>\n",
    "   <body>\n",
    "      {% with messages = get_flashed_messages() %}\n",
    "         {% if messages %}\n",
    "            <ul>\n",
    "               {% for message in messages %}\n",
    "               <li>{{ message }}</li>\n",
    "               {% endfor %}\n",
    "            </ul>\n",
    "         {% endif %}\n",
    "      {% endwith %}\n",
    "\t\t\n",
    "      <h1>Flask Message Flashing Example</h1>\n",
    "      <p>Do you want to <a href = \"{{ url_for('login') }}\">\n",
    "         <b>log in?</b></a></p>\n",
    "   </body>\n",
    "</html>"
   ]
  },
  {
   "cell_type": "markdown",
   "metadata": {},
   "source": [
    "## Charger des fichiers \n",
    "\n",
    "De la même manière que l'on peut envoyer des données textuelles via des formulaires au serveur, il est possible de transférer des données comme des fichiers. \n",
    "\n",
    "\n",
    "Ajoutez le code ci-dessous à un fichier \"upload.html\".\n",
    "\n",
    "Pour pouvoir charger des fichiers, l'argument \"enctype\" du tag \"form\" doit avoir la valeur \"multipart/form-data\". Remarquez également que le formulaire dirige vers l'URL \"/uploader\""
   ]
  },
  {
   "cell_type": "code",
   "execution_count": null,
   "metadata": {},
   "outputs": [],
   "source": [
    "<html>\n",
    "   <body>\n",
    "      <form action = \"http://localhost:5000/uploader\" method = \"POST\" \n",
    "         enctype = \"multipart/form-data\">\n",
    "         <input type = \"file\" name = \"file\" />\n",
    "         <input type = \"submit\"/>\n",
    "      </form>\n",
    "   </body>\n",
    "</html>"
   ]
  },
  {
   "cell_type": "markdown",
   "metadata": {},
   "source": [
    "Ajoutez le code ci-dessous à \"hello.py\". Remarquez que \"/uploader\" emploie les protocoles GET et POST\n",
    "\n",
    "Pour accéder au fichier, on doit accéder à l'attribut \"file['file']\" de request\n",
    "\n",
    "Remarquez également l'emploie de la fonction secure_name(), qui permet de contrôler que le nom du fichier chargé est valide.\n",
    "\n",
    "Accédez ensuite à l'adresse http://localhost:5000/upload, puis chargez un fichier de votre choix. Le fichier doit apparaître dans votre dossier \"app\" une fois chargé."
   ]
  },
  {
   "cell_type": "code",
   "execution_count": null,
   "metadata": {},
   "outputs": [],
   "source": [
    "from werkzeug.utils import secure_filename\n",
    "\n",
    "@app.route('/upload')\n",
    "def upload():\n",
    "   return render_template('upload.html')\n",
    "\t\n",
    "@app.route('/uploader', methods = ['GET', 'POST'])\n",
    "def uploader():\n",
    "   if request.method == 'POST':\n",
    "      f = request.files['file']\n",
    "      filename = secure_filename(f.filename)\n",
    "      f.save(filename)\n",
    "      return 'file uploaded successfully'"
   ]
  },
  {
   "cell_type": "markdown",
   "metadata": {},
   "source": [
    "Vous pouvez préciser le dossier où charger les fichiers par défaut avec l'options suivante (il existe d'autre options pour gérer différents paramètres, comme la taille maximale des fichiers autorisées) :\n",
    "\n",
    "* app.config[‘UPLOAD_FOLDER’] : dossier où charger les fichiers\n",
    "\n",
    "Ces arguments s'emploient après la définition de l'application Flask (voir exemple ci-dessous)"
   ]
  },
  {
   "cell_type": "code",
   "execution_count": null,
   "metadata": {},
   "outputs": [],
   "source": [
    "app = Flask(__name__, static_url_path='/static')\n",
    "\n",
    "# ici on spécifie le nom du dossier\n",
    "app.config[\"UPLOAD_FOLDER\"] = 'files'\n",
    "# ici on crée ce dossier\n",
    "os.makedirs('files', exist_ok='True')"
   ]
  },
  {
   "cell_type": "markdown",
   "metadata": {},
   "source": [
    "Remplacez ensuite la ligne \"f.save(filename)\" par la ligne suivante :"
   ]
  },
  {
   "cell_type": "code",
   "execution_count": 3,
   "metadata": {},
   "outputs": [
    {
     "ename": "NameError",
     "evalue": "name 'file' is not defined",
     "output_type": "error",
     "traceback": [
      "\u001b[0;31m---------------------------------------------------------------------------\u001b[0m",
      "\u001b[0;31mNameError\u001b[0m                                 Traceback (most recent call last)",
      "\u001b[0;32m/var/folders/g9/npfr2mks4118dkv7g8ckgccr0000gn/T/ipykernel_81222/1575905884.py\u001b[0m in \u001b[0;36m<module>\u001b[0;34m\u001b[0m\n\u001b[0;32m----> 1\u001b[0;31m \u001b[0mfile\u001b[0m\u001b[0;34m.\u001b[0m\u001b[0msave\u001b[0m\u001b[0;34m(\u001b[0m\u001b[0mos\u001b[0m\u001b[0;34m.\u001b[0m\u001b[0mpath\u001b[0m\u001b[0;34m.\u001b[0m\u001b[0mjoin\u001b[0m\u001b[0;34m(\u001b[0m\u001b[0mapp\u001b[0m\u001b[0;34m.\u001b[0m\u001b[0mconfig\u001b[0m\u001b[0;34m[\u001b[0m\u001b[0;34m'UPLOAD_FOLDER'\u001b[0m\u001b[0;34m]\u001b[0m\u001b[0;34m,\u001b[0m \u001b[0mfilename\u001b[0m\u001b[0;34m)\u001b[0m\u001b[0;34m)\u001b[0m\u001b[0;34m\u001b[0m\u001b[0;34m\u001b[0m\u001b[0m\n\u001b[0m",
      "\u001b[0;31mNameError\u001b[0m: name 'file' is not defined"
     ]
    }
   ],
   "source": [
    "file.save(os.path.join(app.config['UPLOAD_FOLDER'], filename))"
   ]
  },
  {
   "cell_type": "markdown",
   "metadata": {},
   "source": [
    "## Extensions Flask\n",
    "\n",
    "Flask est appelé micro-framework puisque le package ne contient que les éléments de bases pour créer une application web. Cependant, de nombreuses autres fonctionnalités sont disponibles, comme la gestion de bases de données, l'envoi de mail, la sécurité... Ici, nous verrons seulement l'extension Flask-WTF, qui permet de sécuriser l'envoi d'informations via des formulaires.\n",
    "\n",
    "Pour une liste des extensions disponibles, voir :\n",
    "* https://flask.palletsprojects.com/en/2.3.x/extensions/\n",
    "* https://pypi.org/search/?c=Framework+%3A%3A+Flask\n"
   ]
  },
  {
   "cell_type": "markdown",
   "metadata": {},
   "source": [
    "## Flask-WTF\n",
    "\n",
    "Un utilisateur peut intéragir avec le serveur et les bases de données derrière par l'intermédiaire des formulaires. Cependant, un utilisateur mal intentionné peut provoquer des dégâts très importants voir irrémédiables si l'on ne prend pas garde (exemple attaques CSRF). Il est donc important de sécuriser tous les champs dans lesquels l'utilisateur peut entrer du texte. \n",
    "\n",
    "L'extension \"Flask-WTF\" permet d'intégrer cette sécurité aux formulaires. Elle doit être installée via pip.\n",
    "\n",
    "Documentation : https://flask-wtf.readthedocs.io/en/1.0.x/ "
   ]
  },
  {
   "cell_type": "code",
   "execution_count": null,
   "metadata": {},
   "outputs": [
    {
     "name": "stdout",
     "output_type": "stream",
     "text": [
      "Collecting flask-wtf\n",
      "  Downloading Flask_WTF-1.1.1-py3-none-any.whl (12 kB)\n",
      "Collecting WTForms\n",
      "  Downloading WTForms-3.0.1-py3-none-any.whl (136 kB)\n",
      "\u001b[K     |████████████████████████████████| 136 kB 6.5 MB/s eta 0:00:01\n",
      "\u001b[?25hRequirement already satisfied: Flask in /Users/nicolasgutehrle/opt/anaconda3/envs/cours/lib/python3.9/site-packages (from flask-wtf) (2.3.3)\n",
      "Requirement already satisfied: itsdangerous in /Users/nicolasgutehrle/opt/anaconda3/envs/cours/lib/python3.9/site-packages (from flask-wtf) (2.1.2)\n",
      "Requirement already satisfied: importlib-metadata>=3.6.0 in /Users/nicolasgutehrle/opt/anaconda3/envs/cours/lib/python3.9/site-packages (from Flask->flask-wtf) (6.0.0)\n",
      "Requirement already satisfied: Jinja2>=3.1.2 in /Users/nicolasgutehrle/opt/anaconda3/envs/cours/lib/python3.9/site-packages (from Flask->flask-wtf) (3.1.2)\n",
      "Requirement already satisfied: click>=8.1.3 in /Users/nicolasgutehrle/opt/anaconda3/envs/cours/lib/python3.9/site-packages (from Flask->flask-wtf) (8.1.7)\n",
      "Requirement already satisfied: blinker>=1.6.2 in /Users/nicolasgutehrle/opt/anaconda3/envs/cours/lib/python3.9/site-packages (from Flask->flask-wtf) (1.6.2)\n",
      "Requirement already satisfied: Werkzeug>=2.3.7 in /Users/nicolasgutehrle/opt/anaconda3/envs/cours/lib/python3.9/site-packages (from Flask->flask-wtf) (2.3.7)\n",
      "Requirement already satisfied: zipp>=0.5 in /Users/nicolasgutehrle/opt/anaconda3/envs/cours/lib/python3.9/site-packages (from importlib-metadata>=3.6.0->Flask->flask-wtf) (3.13.0)\n",
      "Requirement already satisfied: MarkupSafe>=2.0 in /Users/nicolasgutehrle/opt/anaconda3/envs/cours/lib/python3.9/site-packages (from Jinja2>=3.1.2->Flask->flask-wtf) (2.1.3)\n",
      "Installing collected packages: WTForms, flask-wtf\n",
      "Successfully installed WTForms-3.0.1 flask-wtf-1.1.1\n"
     ]
    }
   ],
   "source": [
    "!pip install flask-wtf"
   ]
  },
  {
   "cell_type": "markdown",
   "metadata": {},
   "source": [
    "Avec Flask-WTF, on remplace le formulaire HTML par du code Python.\n",
    "\n",
    "Dans un fichier \"forms.py\", ajoutez le code ci-dessous : \n"
   ]
  },
  {
   "cell_type": "code",
   "execution_count": 5,
   "metadata": {},
   "outputs": [
    {
     "ename": "ImportError",
     "evalue": "cannot import name 'TextField' from 'wtforms' (/Users/nicolasgutehrle/opt/anaconda3/envs/cours/lib/python3.9/site-packages/wtforms/__init__.py)",
     "output_type": "error",
     "traceback": [
      "\u001b[0;31m---------------------------------------------------------------------------\u001b[0m",
      "\u001b[0;31mImportError\u001b[0m                               Traceback (most recent call last)",
      "\u001b[0;32m/var/folders/g9/npfr2mks4118dkv7g8ckgccr0000gn/T/ipykernel_81222/3478760488.py\u001b[0m in \u001b[0;36m<module>\u001b[0;34m\u001b[0m\n\u001b[1;32m      1\u001b[0m \u001b[0;32mfrom\u001b[0m \u001b[0mflask_wtf\u001b[0m \u001b[0;32mimport\u001b[0m \u001b[0mForm\u001b[0m\u001b[0;34m\u001b[0m\u001b[0;34m\u001b[0m\u001b[0m\n\u001b[0;32m----> 2\u001b[0;31m \u001b[0;32mfrom\u001b[0m \u001b[0mwtforms\u001b[0m \u001b[0;32mimport\u001b[0m \u001b[0mTextField\u001b[0m\u001b[0;34m\u001b[0m\u001b[0;34m\u001b[0m\u001b[0m\n\u001b[0m\u001b[1;32m      3\u001b[0m \u001b[0;34m\u001b[0m\u001b[0m\n\u001b[1;32m      4\u001b[0m \u001b[0;32mclass\u001b[0m \u001b[0mContactForm\u001b[0m\u001b[0;34m(\u001b[0m\u001b[0mForm\u001b[0m\u001b[0;34m)\u001b[0m\u001b[0;34m:\u001b[0m\u001b[0;34m\u001b[0m\u001b[0;34m\u001b[0m\u001b[0m\n\u001b[1;32m      5\u001b[0m    \u001b[0mname\u001b[0m \u001b[0;34m=\u001b[0m \u001b[0mTextField\u001b[0m\u001b[0;34m(\u001b[0m\u001b[0;34m\"Name Of Student\"\u001b[0m\u001b[0;34m)\u001b[0m\u001b[0;34m\u001b[0m\u001b[0;34m\u001b[0m\u001b[0m\n",
      "\u001b[0;31mImportError\u001b[0m: cannot import name 'TextField' from 'wtforms' (/Users/nicolasgutehrle/opt/anaconda3/envs/cours/lib/python3.9/site-packages/wtforms/__init__.py)"
     ]
    }
   ],
   "source": [
    "from flask_wtf import FlaskForm\n",
    "from wtforms import StringField\n",
    "from wtforms.validators import DataRequired\n",
    "\n",
    "class ContactForm(FlaskForm):\n",
    "    name = StringField('name', validators=[DataRequired()])"
   ]
  },
  {
   "cell_type": "markdown",
   "metadata": {},
   "source": [
    "Puis dans \"hello.py\", importez la class ContactForm du fichier \"forms\", et ajoutez le code ci-dessous :"
   ]
  },
  {
   "cell_type": "code",
   "execution_count": null,
   "metadata": {},
   "outputs": [],
   "source": [
    "from forms import ContactForm\n",
    "\n",
    "@app.route('/success')\n",
    "def success():\n",
    "\n",
    "    return \"Success !\"\n",
    "\n",
    "@app.route('/contact', methods=[\"GET\", \"POST\"])\n",
    "def contact():\n",
    "   form = ContactForm()\n",
    "   if form.validate_on_submit():\n",
    "      print(form.errors)\n",
    "\n",
    "      return redirect(url_for('success'))\n",
    "\n",
    "   return render_template('contact.html', form = form)\n"
   ]
  },
  {
   "cell_type": "markdown",
   "metadata": {},
   "source": [
    "Ajoutez le code suivant à une page \"contact.html\", puis accédez ensuite à l'adresse suivante, remplissez le formulaire et envoyez la requête. Vous devriez arriver sur une page de succès : http://localhost:5000/contact.\n",
    "\n",
    "Essayez également de soumettre le formulaire sans le remplir.\n",
    "\n",
    "Remarquez {{ form.csrf_token }}, qui doit être présent pour sécuriser le formulaire"
   ]
  },
  {
   "cell_type": "code",
   "execution_count": null,
   "metadata": {},
   "outputs": [],
   "source": []
  },
  {
   "cell_type": "code",
   "execution_count": null,
   "metadata": {},
   "outputs": [],
   "source": [
    "<!doctype html>\n",
    "<html>\n",
    "   <body>\n",
    "    <form method=\"POST\" action=\"{{ url_for('contact') }}\">\n",
    "        {{ form.csrf_token }}\n",
    "        {{ form.name.label }} {{ form.name(size=20) }}\n",
    "\n",
    "        {% if form.name.errors %}\n",
    "            <ul class=\"errors\">\n",
    "                {% for error in form.name.errors %}\n",
    "                    <li>{{ error }}</li>\n",
    "                {% endfor %}\n",
    "            </ul>\n",
    "        {% endif %}\n",
    "\n",
    "        <input type=\"submit\" value=\"Go\">\n",
    "    </form>\n",
    "\n",
    "   </body>\n",
    "</html>"
   ]
  },
  {
   "cell_type": "markdown",
   "metadata": {},
   "source": [
    "## Clé secrète\n",
    "\n",
    "Pour sécuriser l'application et générer un token CSRF, l'application doit avoir une clé secrète. Celle-ci doit être idéalement complexe, et générée aléatoirement. Il ne faut pas stocker la clé secrète dans le code ! Au lieu de ça, on peut la stocker dans une variable d'environnment \"SECRET_KEY\" ou bien dans un fichier de configuration, qui sera disponible pour le dévelopement, mais qui ne sera pas mis en production. \n",
    "\n",
    "Le code ci-dessous permet de rapidement créer des clés secrètes.\n",
    "\n",
    "Source : \n",
    "* https://flask.palletsprojects.com/en/2.3.x/config/\n",
    "* https://stackoverflow.com/questions/30873189/where-should-i-place-the-secret-key-in-flask"
   ]
  },
  {
   "cell_type": "code",
   "execution_count": 1,
   "metadata": {},
   "outputs": [
    {
     "name": "stdout",
     "output_type": "stream",
     "text": [
      "3c41a632f609d6d5a28707838bcb58f9969400614e929ed0db32ca50db4da49d\n"
     ]
    }
   ],
   "source": [
    "!python -c 'import secrets; print(secrets.token_hex())'"
   ]
  },
  {
   "cell_type": "markdown",
   "metadata": {},
   "source": [
    "## Modèle MVC\n",
    "\n",
    "Le modèle Modèle-Vue-Controler (MVC, Model View Controler) est un des modèles d'architecture de logiciel les plus populaires. Elle se divise en trois parties :\n",
    "\n",
    "* la Vue correspond à ce que voit l'interface, et donc à l'interface graphique. C'est à partir de la vue que l'utilisateur intéragit avec l'application. Dans les applications Webs, la Vue correspond aux fichiers HTML. \n",
    "* le Modèle contient les données à afficher. Typiquement, il correspond à la base de données derrière l'application. De manière générale, le Modèle concerne toutes étapes de traitement des données.\n",
    "* le Contrôleur fait la jonction entre la Vue et le Modèle. Il permet d'enclencher les actions du côté Modèles et de mettre à jour la vue. Cela correspond au routing. \n",
    "\n",
    "<img src=\"MVC.png\">\n",
    "\n",
    "Ainsi jusque là, nos templates HTML correspondent à la Vue de notre application et le fichier \"hello.py\" qui contient les routing correspond au Contrôler. Pour le moment, nous n'avons pas de code correspondant au Modèle\n",
    "\n",
    "Documentation :\n",
    "* https://www.tutorialspoint.com/mvc_framework/mvc_framework_introduction.htm\n",
    "* https://fr.wikipedia.org/wiki/Mod%C3%A8le-vue-contr%C3%B4leur "
   ]
  },
  {
   "cell_type": "markdown",
   "metadata": {},
   "source": [
    "## Pour aller plus loin\n",
    "\n",
    "Il reste plusieurs choses que l'on a ignorées dans Flask et en général dans la création et gestion d'interfaces web, en particulier :\n",
    "* les cookies\n",
    "* redirection en fonction des erreurs\n",
    "* les extensions Flask\n",
    "* les sessions"
   ]
  }
 ],
 "metadata": {
  "kernelspec": {
   "display_name": "cours",
   "language": "python",
   "name": "python3"
  },
  "language_info": {
   "codemirror_mode": {
    "name": "ipython",
    "version": 3
   },
   "file_extension": ".py",
   "mimetype": "text/x-python",
   "name": "python",
   "nbconvert_exporter": "python",
   "pygments_lexer": "ipython3",
   "version": "3.9.6"
  },
  "orig_nbformat": 4
 },
 "nbformat": 4,
 "nbformat_minor": 2
}
