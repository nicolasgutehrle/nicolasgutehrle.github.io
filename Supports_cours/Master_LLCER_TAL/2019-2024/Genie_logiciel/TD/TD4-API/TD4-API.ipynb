{
 "cells": [
  {
   "cell_type": "markdown",
   "metadata": {},
   "source": [
    "# TD5-API\n",
    "\n",
    "Dans le domaine de la programmation en général, le terme API, abréviation de Application Programming Interface, désigne une partie d'un programme informatique conçue pour être utilisée ou manipulée par un autre programme, par opposition à une interface conçue pour être utilisée ou manipulée par un être humain. Les programmes informatiques ont souvent besoin de communiquer entre eux ou avec le système d'exploitation sous-jacent, et les API sont un moyen de le faire. Dans ce tutoriel, cependant, nous utiliserons le terme API pour nous référer spécifiquement aux API web.\n",
    "\n",
    "## Quand créer une API\n",
    "\n",
    "\n",
    "En général, envisagez la création d'une API dans les cas suivants\n",
    "\n",
    "* Votre ensemble de données est volumineux, ce qui rend le téléchargement par FTP peu pratique ou exigeant en termes de ressources.\n",
    "\n",
    "* Vos utilisateurs devront accéder à vos données en temps réel, par exemple pour les afficher sur un autre site web ou dans le cadre d'une application.\n",
    "\n",
    "* Vos données changent ou sont mises à jour fréquemment.\n",
    "\n",
    "* Vos utilisateurs n'ont besoin d'accéder qu'à une partie des données à un moment donné.\n",
    "\n",
    "* Vos utilisateurs devront effectuer d'autres actions que la récupération de données, telles que la contribution, la mise à jour ou la suppression de données.\n",
    "\n",
    "Si vous disposez de données que vous souhaitez partager avec le monde entier, une API est un moyen de les mettre à la disposition d'autres personnes. Cependant, les API ne sont pas toujours le meilleur moyen de partager des données avec les utilisateurs. Si la taille des données que vous fournissez est relativement faible, vous pouvez fournir un \"dump\" sous la forme d'un fichier JSON, XML, CSV ou SQLite téléchargeable. En fonction de vos ressources, cette approche peut être viable jusqu'à une taille de téléchargement de quelques gigaoctets.\n",
    "\n",
    "## Terminologie des API\n",
    "\n",
    "Lors de l'utilisation ou de la création d'API, vous rencontrerez fréquemment ces termes :\n",
    "\n",
    "* HTTP (Hypertext Transfer Protocol) est le principal moyen de communiquer des données sur le web. HTTP met en œuvre un certain nombre de \"méthodes\", qui indiquent la direction dans laquelle les données se déplacent et ce qu'il convient d'en faire. Les deux méthodes les plus courantes sont GET, qui permet d'extraire des données d'un serveur, et POST, qui permet d'envoyer de nouvelles données à un serveur.\n",
    "    \n",
    "* URL (Uniform Resource Locator) - Adresse d'une ressource sur le web, telle que https://programminghistorian.org/about. Une URL se compose d'un protocole (http://), d'un domaine (programminghistorian.org) et d'un endpoint (/about). Une URL décrit l'emplacement d'une ressource spécifique, telle qu'une page web. Lorsque vous lisez des articles sur les API, vous pouvez voir les termes URL, request, URI ou endpoint utilisés pour décrire des idées adjacentes. Dans ce tutoriel, nous préférerons les termes URL et requête pour éviter toute complication. Vous pouvez suivre une URL ou faire une requête GET dans votre navigateur, vous n'aurez donc pas besoin d'un logiciel spécial pour faire des requêtes dans ce tutoriel.\n",
    "\n",
    "* JSON (JavaScript Object Notation) est un format de stockage de données textuelles conçu pour être facile à lire par les humains et les machines. JSON est généralement le format le plus courant pour renvoyer des données par l'intermédiaire d'une API, XML étant le deuxième format le plus courant.\n",
    "\n",
    "* REST (REpresentational State Transfer) est une philosophie qui décrit certaines des meilleures pratiques pour la mise en œuvre des API. Les API conçues en tenant compte de tout ou partie de ces principes sont appelées API REST.\n",
    "\n",
    "Source des exemples et explications : https://programminghistorian.org/en/lessons/creating-apis-with-python-and-flask\n"
   ]
  },
  {
   "cell_type": "markdown",
   "metadata": {},
   "source": [
    "La création d'une API avec Flask est similaire à la création d'une interface web : il s'agit d'associer une action à une URL. La différence principale est que l'API vise à manipuler les données (accès, modification, suppresion), et qu'elle doit être avant manipulable par d'autre programme. Elle ne repose donc pas sur une interface graphique. \n",
    "\n",
    "Il existe des outils pour accéder à des API tels que Postman. Dans ce cours cependant, pour plus de facilité, nous travaillerons à partir de ce notebook et emploieront la libraire **request**\n",
    "\n",
    "* Postman : https://www.postman.com/ "
   ]
  },
  {
   "cell_type": "markdown",
   "metadata": {},
   "source": [
    "\n",
    "\n",
    "Ajoutez le code ci-dessous à la suite du routing \"/request\" dans votre fichier \"hello.py\". Lancez le serveur, puis accédez à l'adresse ajoutée ci-dessous. Que se passe-t-il ? "
   ]
  },
  {
   "cell_type": "code",
   "execution_count": null,
   "metadata": {},
   "outputs": [],
   "source": [
    "from flask import jsonify\n",
    "import json \n",
    "\n",
    "# Create some test data for our catalog in the form of a list of dictionaries.\n",
    "books = [\n",
    "    {'id': 0,\n",
    "     'title': 'A Fire Upon the Deep',\n",
    "     'author': 'Vernor Vinge',\n",
    "     'first_sentence': 'The coldsleep itself was dreamless.',\n",
    "     'year_published': '1992'},\n",
    "    {'id': 1,\n",
    "     'title': 'The Ones Who Walk Away From Omelas',\n",
    "     'author': 'Ursula K. Le Guin',\n",
    "     'first_sentence': 'With a clamor of bells that set the swallows soaring, the Festival of Summer came to the city Omelas, bright-towered by the sea.',\n",
    "     'published': '1973'},\n",
    "    {'id': 2,\n",
    "     'title': 'Dhalgren',\n",
    "     'author': 'Samuel R. Delany',\n",
    "     'first_sentence': 'to wound the autumnal city.',\n",
    "     'published': '1975'}\n",
    "]\n",
    "\n",
    "\n",
    "# notez ici le \"/\", qui indique la racine du chemin, c'est à dire\n",
    "# la page de base\n",
    "@app.route('/', methods=['GET'])\n",
    "def home():\n",
    "    return '''<h1>Distant Reading Archive</h1>\n",
    "<p>A prototype API for distant reading of science fiction novels.</p>'''\n",
    "\n",
    "# retourne tous les éléments de books\n",
    "@app.route('/api/v1/resources/books/all', methods=['GET'])\n",
    "def api_all():\n",
    "    # notez l'emploi de jsonify ici au lieu de json.dumps\n",
    "    # jsonify permet de générer une réponse JSON attendu par\n",
    "    # le moteur de recherche. json.dump lui ne retourne qu'un\n",
    "    # dictionnaire\n",
    "    # ainsi, dans le cadre du dévelopement web, utilisez jsonfify\n",
    "    # et non pas json.dump\n",
    "    # return json.dumps(books)\n",
    "    return jsonify(books)\n"
   ]
  },
  {
   "cell_type": "markdown",
   "metadata": {},
   "source": [
    "Pour le moment, notre API nous permet de récupérer toute la base. On veut cependant aussi pouvoir sélectionner des points en particulier, par exemple par leur ID. \n",
    "\n",
    "POur cela, ajoutez le code ci-dessous à \"hello.py\", puis sur votre serveur, accédez à l'une des deux adresses suivantes : \n",
    "\n",
    "* 127.0.0.1:5000/api/v1/resources/books?id=0 \n",
    "* 127.0.0.1:5000/api/v1/resources/books?id=1 \n",
    "\n",
    "* 127.0.0.1:5000/api/v1/resources/books?id=2\n",
    "*  127.0.0.1:5000/api/v1/resources/books?id=3\n",
    "\n",
    "* http://127.0.0.1:5000/api/v1/resources/books\n"
   ]
  },
  {
   "cell_type": "code",
   "execution_count": 1,
   "metadata": {},
   "outputs": [
    {
     "ename": "SyntaxError",
     "evalue": "invalid syntax (317553199.py, line 3)",
     "output_type": "error",
     "traceback": [
      "\u001b[0;36m  File \u001b[0;32m\"/var/folders/g9/npfr2mks4118dkv7g8ckgccr0000gn/T/ipykernel_40073/317553199.py\"\u001b[0;36m, line \u001b[0;32m3\u001b[0m\n\u001b[0;31m    Vérifie si le paramètre ID est donné dans l'URL\u001b[0m\n\u001b[0m            ^\u001b[0m\n\u001b[0;31mSyntaxError\u001b[0m\u001b[0;31m:\u001b[0m invalid syntax\n"
     ]
    }
   ],
   "source": [
    "@app.route('/api/v1/resources/books', methods=['GET'])\n",
    "def api_id():\n",
    "    # Vérifie si le paramètre ID est donné dans l'URL\n",
    "    # Si oui, l'assigne à une variable, si non retourne\n",
    "    # une erreur\n",
    "\n",
    "    # les arguments d'une requêtes commence par un ?\n",
    "    # situé après le endpoint\n",
    "    # ici, on verife que id est donné en argument\n",
    "    if 'id' in request.args:\n",
    "        id = int(request.args['id'])\n",
    "    else:\n",
    "        return \"Erreur: Argument ID absent. Merci de donner un argument ID à l'URL\"\n",
    "\n",
    "    # Liste qui contiendra les résultats retournés\n",
    "    results = []\n",
    "\n",
    "    # parcours les données jusqu'à obtenir un livre qui a\n",
    "    # l'id demandé\n",
    "    for book in books:\n",
    "        if book['id'] == id:\n",
    "            results.append(book)\n",
    "            break\n",
    "\n",
    "    return jsonify(results)"
   ]
  },
  {
   "cell_type": "markdown",
   "metadata": {},
   "source": [
    "## Poster des données\n",
    "\n",
    "Pour ajouter des données via l'API, il faut préciser le protocole POST dans le routing, comme ci-dessous, de la même manière que l'on soumet des informations via un formulaire en HTML :"
   ]
  },
  {
   "cell_type": "code",
   "execution_count": null,
   "metadata": {},
   "outputs": [],
   "source": [
    "\n",
    "@app.route('/api/v1/resources/books/create_book', methods=['POST'])\n",
    "def create_book():\n",
    "    # l'attribut data nous permet de récupérer les données postées\n",
    "    book = json.loads(request.data)\n",
    "\n",
    "    books.append(book)\n",
    "\n",
    "    return jsonify(books)"
   ]
  },
  {
   "cell_type": "code",
   "execution_count": 2,
   "metadata": {},
   "outputs": [
    {
     "name": "stdout",
     "output_type": "stream",
     "text": [
      "[\n",
      "  {\n",
      "    \"author\": \"Vernor Vinge\",\n",
      "    \"first_sentence\": \"The coldsleep itself was dreamless.\",\n",
      "    \"id\": 0,\n",
      "    \"title\": \"A Fire Upon the Deep\",\n",
      "    \"year_published\": \"1992\"\n",
      "  },\n",
      "  {\n",
      "    \"author\": \"Ursula K. Le Guin\",\n",
      "    \"first_sentence\": \"With a clamor of bells that set the swallows soaring, the Festival of Summer came to the city Omelas, bright-towered by the sea.\",\n",
      "    \"id\": 1,\n",
      "    \"published\": \"1973\",\n",
      "    \"title\": \"The Ones Who Walk Away From Omelas\"\n",
      "  },\n",
      "  {\n",
      "    \"author\": \"Samuel R. Delany\",\n",
      "    \"first_sentence\": \"to wound the autumnal city.\",\n",
      "    \"id\": 2,\n",
      "    \"published\": \"1975\",\n",
      "    \"title\": \"Dhalgren\"\n",
      "  },\n",
      "  {\n",
      "    \"author\": \"Alain Damasio\",\n",
      "    \"first_sentence\": \"XXXXX\",\n",
      "    \"id\": 3,\n",
      "    \"published\": \"2004\",\n",
      "    \"title\": \"La Horde du Contrevent\"\n",
      "  }\n",
      "]\n",
      "\n"
     ]
    }
   ],
   "source": [
    "import requests\n",
    "\n",
    "url = 'http://127.0.0.1:5000/api/v1/resources/books/create_book'\n",
    "\n",
    "myobj = {'id': 3,\n",
    "     'title': 'La Horde du Contrevent',\n",
    "     'author': 'Alain Damasio',\n",
    "     'first_sentence': 'XXXXX',\n",
    "     'published': '2004'}\n",
    "\n",
    "x = requests.post(url, json = myobj)\n",
    "\n",
    "print(x.text)"
   ]
  },
  {
   "cell_type": "markdown",
   "metadata": {},
   "source": [
    "## Mettre à jour des données\n",
    "\n",
    "Pour mettre à jour des données existantes dans l'API, on doit spécifier le protocole PUT (bien que cela soit également faisable avec POST) :"
   ]
  },
  {
   "cell_type": "code",
   "execution_count": null,
   "metadata": {},
   "outputs": [],
   "source": [
    "@app.route('/api/v1/resources/books/update_book', methods=['PUT'])\n",
    "def update_record():\n",
    "    updated_book = json.loads(request.data)\n",
    "\n",
    "    update_index = 0\n",
    "    for i, r in enumerate(books):\n",
    "\n",
    "        if r['title'] == updated_book['title']:\n",
    "            update_index = i \n",
    "    books[update_index].update(updated_book)\n",
    "\n",
    "    return jsonify(books)\n",
    "\n"
   ]
  },
  {
   "cell_type": "code",
   "execution_count": 6,
   "metadata": {},
   "outputs": [
    {
     "name": "stdout",
     "output_type": "stream",
     "text": [
      "[\n",
      "  {\n",
      "    \"author\": \"Vernor Vinge\",\n",
      "    \"first_sentence\": \"The coldsleep itself was dreamless.\",\n",
      "    \"id\": 0,\n",
      "    \"title\": \"A Fire Upon the Deep\",\n",
      "    \"year_published\": \"1992\"\n",
      "  },\n",
      "  {\n",
      "    \"author\": \"Ursula K. Le Guin\",\n",
      "    \"first_sentence\": \"With a clamor of bells that set the swallows soaring, the Festival of Summer came to the city Omelas, bright-towered by the sea.\",\n",
      "    \"id\": 1,\n",
      "    \"published\": \"1973\",\n",
      "    \"title\": \"The Ones Who Walk Away From Omelas\"\n",
      "  },\n",
      "  {\n",
      "    \"author\": \"Samuel R. Delany\",\n",
      "    \"first_sentence\": \"to wound the autumnal city.\",\n",
      "    \"id\": 2,\n",
      "    \"published\": \"1975\",\n",
      "    \"title\": \"Dhalgren\"\n",
      "  },\n",
      "  {\n",
      "    \"author\": \"Alain Damasio\",\n",
      "    \"first_sentence\": \"YYYYYYYYYY\",\n",
      "    \"id\": 3,\n",
      "    \"published\": \"2004\",\n",
      "    \"title\": \"La Horde du Contrevent\"\n",
      "  }\n",
      "]\n",
      "\n"
     ]
    }
   ],
   "source": [
    "url = 'http://127.0.0.1:5000/api/v1/resources/books/update_book'\n",
    "\n",
    "myobj = {'id': 3,\n",
    "     'title': 'La Horde du Contrevent',\n",
    "     'author': 'Alain Damasio',\n",
    "     'first_sentence': 'YYYYYYYYYY',\n",
    "     'published': '2004'}\n",
    "\n",
    "x = requests.put(url, json = myobj)\n",
    "\n",
    "print(x.text)"
   ]
  },
  {
   "cell_type": "markdown",
   "metadata": {},
   "source": [
    "## Supprimer des données\n",
    "\n",
    "Le protocole DELETE permet de spécifier les données à supprimer. Cependant, ce n'est pas un protocole toujours supporté, notamment par les URL. Ainsi, on peut l'implémenter via le protocole GET :"
   ]
  },
  {
   "cell_type": "code",
   "execution_count": null,
   "metadata": {},
   "outputs": [],
   "source": [
    "@app.route('/api/v1/resources/books/delete_book', methods=['GET'])\n",
    "def delete_book():\n",
    "    id = request.args.get('id')\n",
    "    for r in books:\n",
    "        if r['id'] == id:\n",
    "            del r\n",
    "            break\n",
    "\n",
    "    return jsonify(books)"
   ]
  },
  {
   "cell_type": "code",
   "execution_count": 7,
   "metadata": {},
   "outputs": [
    {
     "name": "stdout",
     "output_type": "stream",
     "text": [
      "[\n",
      "  {\n",
      "    \"author\": \"Vernor Vinge\",\n",
      "    \"first_sentence\": \"The coldsleep itself was dreamless.\",\n",
      "    \"id\": 0,\n",
      "    \"title\": \"A Fire Upon the Deep\",\n",
      "    \"year_published\": \"1992\"\n",
      "  },\n",
      "  {\n",
      "    \"author\": \"Ursula K. Le Guin\",\n",
      "    \"first_sentence\": \"With a clamor of bells that set the swallows soaring, the Festival of Summer came to the city Omelas, bright-towered by the sea.\",\n",
      "    \"id\": 1,\n",
      "    \"published\": \"1973\",\n",
      "    \"title\": \"The Ones Who Walk Away From Omelas\"\n",
      "  },\n",
      "  {\n",
      "    \"author\": \"Samuel R. Delany\",\n",
      "    \"first_sentence\": \"to wound the autumnal city.\",\n",
      "    \"id\": 2,\n",
      "    \"published\": \"1975\",\n",
      "    \"title\": \"Dhalgren\"\n",
      "  },\n",
      "  {\n",
      "    \"author\": \"Alain Damasio\",\n",
      "    \"first_sentence\": \"YYYYYYYYYY\",\n",
      "    \"id\": 3,\n",
      "    \"published\": \"2004\",\n",
      "    \"title\": \"La Horde du Contrevent\"\n",
      "  }\n",
      "]\n",
      "\n"
     ]
    }
   ],
   "source": [
    "\n",
    "url = 'http://127.0.0.1:5000/api/v1/resources/books/delete_book'\n",
    "\n",
    "params = {'id': 2}\n",
    "\n",
    "x = requests.get(url, params= params)\n",
    "\n",
    "print(x.text)"
   ]
  },
  {
   "cell_type": "markdown",
   "metadata": {},
   "source": [
    "# Concevoir les requêtes \n",
    "\n",
    "La philosophie de conception dominante des API modernes s'appelle REST. Pour nos besoins, la chose la plus importante à propos de REST est qu'elle est basée sur les quatre méthodes définies par le protocole HTTP : POST, GET, PUT et DELETE. Ces méthodes correspondent aux quatre actions traditionnelles effectuées sur les données d'une base de données : CREATE, READ, UPDATE et DELETE. \n",
    "\n",
    "Les requêtes HTTP faisant partie intégrante de l'utilisation d'une API REST, de nombreux principes de conception s'articulent autour du formatage des requêtes. Nous avons déjà créé une requête HTTP, qui renvoie tous les livres fournis dans notre échantillon de données. Pour comprendre les considérations qui entrent en jeu dans le formatage de cette requête, considérons d'abord un exemple de point d'extrémité d'API faible ou mal conçu :\n",
    "\n",
    "* http://api.example.com/getbook/10\n",
    "\n",
    "Le formatage de cette requête pose un certain nombre de problèmes. Le premier est d'ordre sémantique : dans une API REST, nos verbes sont généralement GET, POST, PUT ou DELETE, et sont déterminés par la méthode de requête plutôt que par l'URL de la requête. Cela signifie que le mot \"get\" ne devrait pas apparaître dans notre requête, puisque le mot \"get\" est implicite du fait que nous utilisons une méthode HTTP GET. En outre, les collections de ressources telles que les livres ou les utilisateurs doivent être désignées par des noms pluriels. Cela permet de savoir clairement si une API fait référence à une collection (livres) ou à une entrée (livre). En intégrant ces principes, notre API ressemblerait à ceci :\n",
    "\n",
    "* http://api.example.com/books/10\n",
    "\n",
    "La requête ci-dessus utilise une partie du chemin (/10) pour fournir l'identifiant. Bien que cette approche soit courante, elle manque quelque peu de souplesse : avec des URL construites de cette manière, vous ne pouvez généralement filtrer que sur un seul champ à la fois. Les paramètres de requête permettent de filtrer sur plusieurs champs de la base de données et sont plus utiles lorsqu'il s'agit de fournir des données \"facultatives\", comme un format de sortie :\n",
    "\n",
    "* http://api.example.com/books?author=Ursula+K.+Le Guin&published=1969&output=xml\n",
    "\n",
    "Lors de la conception de la structure des demandes adressées à votre API, il est également judicieux de prévoir les ajouts futurs. Même si la version actuelle de votre API ne fournit des informations que sur un seul type de ressource (les livres, par exemple), il est judicieux de planifier comme si vous pouviez ajouter d'autres ressources ou des fonctionnalités non liées aux ressources à votre API à l'avenir :\n",
    "\n",
    "* http://api.example.com/resources/books?id=10\n",
    "\n",
    "En ajoutant un segment supplémentaire à votre chemin d'accès, tel que \"ressources\" ou \"entrées\", vous avez la possibilité d'autoriser les utilisateurs à effectuer des recherches dans toutes les ressources disponibles, ce qui vous permet de répondre plus facilement à des demandes de soutien ultérieures telles que celles-ci :\n",
    "\n",
    "* https://api.example.com/v1/resources/images?id=10\n",
    "* https://api.example.com/v1/resources/all\n",
    "\n",
    "Une autre façon de planifier l'avenir de votre API consiste à ajouter un numéro de version au chemin d'accès. Ainsi, si vous devez revoir la conception de votre API, vous pouvez continuer à prendre en charge l'ancienne version de l'API sous l'ancien numéro de version tout en publiant, par exemple, une deuxième version (v2) avec des fonctionnalités améliorées ou différentes. Ainsi, les applications et les scripts conçus à l'aide de l'ancienne version de votre API ne cesseront pas de fonctionner après votre mise à niveau.\n",
    "\n",
    "Après l'intégration de ces améliorations de conception, une requête à notre API pourrait ressembler à ceci :\n",
    "\n",
    "* https://api.example.com/v1/resources/books?id=10"
   ]
  },
  {
   "cell_type": "markdown",
   "metadata": {},
   "source": [
    "## Documentation et exemples \n",
    "\n",
    "Sans documentation, même l'API la mieux conçue sera inutilisable. Votre API doit disposer d'une documentation décrivant les ressources ou les fonctionnalités disponibles via votre API et fournissant également des exemples concrets d'URL de demande ou de code pour votre API. Pour chaque ressource, vous devez disposer d'une section décrivant les champs, tels que l'identifiant ou le titre, qu'elle accepte. Chaque section doit comporter un exemple sous la forme d'une requête HTTP ou d'un bloc de code.\n",
    "\n",
    "Une pratique assez courante dans la documentation des API consiste à fournir des annotations dans votre code qui sont ensuite automatiquement rassemblées dans une documentation à l'aide d'un outil tel que Doxygen ou Sphinx. Ces outils créent la documentation à partir des docstrings, c'est-à-dire des commentaires que vous faites sur les définitions de vos fonctions. Bien que ce type de documentation soit une bonne idée, vous ne devez pas considérer que votre travail est terminé si vous n'avez documenté votre API qu'à ce niveau. Essayez plutôt de vous imaginer en tant qu'utilisateur potentiel de votre API et de fournir des exemples pratiques. Dans un monde idéal, vous disposeriez de trois types de documentation pour votre API : une référence détaillant chaque route et son comportement, un guide expliquant la référence en prose et au moins un ou deux tutoriels expliquant chaque étape en détail.\n",
    "\n",
    "Pour vous inspirer sur la manière d'aborder la documentation de l'API, consultez l'API Digital Collections de la bibliothèque publique de New York, qui établit une norme de documentation réalisable pour de nombreux projets universitaires. Pour une API largement documentée (bien que parfois écrasante), voir l'API Action MediaWiki, qui fournit de la documentation aux utilisateurs qui transmettent des requêtes partielles à l'API (dans notre exemple ci-dessus, nous avons renvoyé une erreur sur une requête partielle). (Dans notre exemple ci-dessus, nous avons renvoyé une erreur sur une requête partielle.) Pour d'autres exemples de documentation d'API gérée de manière professionnelle, considérez l'API de la Banque mondiale, les différentes API du New York Times ou l'API Europeana Pro."
   ]
  },
  {
   "cell_type": "markdown",
   "metadata": {},
   "source": [
    "## Connecter l'API à une base de données\n",
    "\n",
    "Ajoutez le code ci-dessous au fichier \"hello.py\", après la ligne \"os.makedirs('files', exist_ok='True')\". Le fait d'ajouter la connexion à la base de données en dehors de toutes fonction fait que cette connexion se fera dès l'activation du serveur Flask. "
   ]
  },
  {
   "cell_type": "code",
   "execution_count": 1,
   "metadata": {},
   "outputs": [
    {
     "name": "stdout",
     "output_type": "stream",
     "text": [
      "<mysql.connector.connection.MySQLConnection object at 0x7fd468d4b4c0>\n"
     ]
    }
   ],
   "source": [
    "from getpass import getpass\n",
    "from mysql.connector import connect, Error\n",
    "\n",
    "user_input = 'root'\n",
    "# remplacez par votre mot de passe\n",
    "password = '*******'\n",
    "dbname = 'mydatabase'\n",
    "\n",
    "# on peut également se connecter à la base en même temps que l'on se connecte au serveur\n",
    "try:\n",
    "    # on obtient une variable connection de type MySQLConnection avec laquelle on peut intéragir avec le serveur\n",
    "    connection = connect(\n",
    "        host=\"localhost\",\n",
    "        user = user_input,\n",
    "        password = password,\n",
    "        database=dbname\n",
    "        # user=input(\"Enter username: \"),\n",
    "        # password=getpass(\"Enter password: \")\n",
    "    )\n",
    "    print(connection)\n",
    "# gestion de toutes erreurs de connection\n",
    "except Error as e:\n",
    "    print(e)"
   ]
  },
  {
   "cell_type": "markdown",
   "metadata": {},
   "source": [
    "Ajoutez ensuite la route suivante, qui permet d'accéder à tous les éléments de la table \"movies\" dans \"mydatabase\""
   ]
  },
  {
   "cell_type": "code",
   "execution_count": null,
   "metadata": {},
   "outputs": [],
   "source": [
    "@app.route('/api/v1/resources/movies/all', methods=['GET'])\n",
    "def api_movies_all():\n",
    "    query = 'SELECT * FROM movies'\n",
    "   # l'argument dictionary=True permet de retourner\n",
    "   # les résultats de la base de données sous forme\n",
    "   # de dictionnaire, donc adapté au format JSON\n",
    "   # il est possible d'utiliser jsonify sur les\n",
    "   # resultats sous forme de tuples, mais il n'y\n",
    "   # aura pas le nom des colonnes\n",
    "   \n",
    "   #  with connection.cursor() as cursor:\n",
    "    with connection.cursor(dictionary=True) as cursor:\n",
    "        cursor.execute(query)\n",
    "        results = cursor.fetchall()\n",
    "    return jsonify(results)\n"
   ]
  },
  {
   "cell_type": "markdown",
   "metadata": {},
   "source": [
    "Ajoutez les routes ci-dessous à \"hello.py\". La première permet de gérer les erreurs, en redirigeant vers une page 404 Not Found. La seconde permet de sélectionner des données spécifiques, en précisant les arguments.\n",
    "\n",
    "Essayez ensuite d'accéder aux liens suivants : \n",
    "\n",
    "* http://127.0.0.1:5000/api/v1/resources/movie?id=1\n",
    "* http://127.0.0.1:5000/api/v1/resources/movie?genre=Drama"
   ]
  },
  {
   "cell_type": "code",
   "execution_count": null,
   "metadata": {},
   "outputs": [],
   "source": [
    "@app.errorhandler(404)\n",
    "def page_not_found(e):\n",
    "    return \"<h1>404</h1><p>The resource could not be found.</p>\", 404\n",
    "\n",
    "\n",
    "@app.route('/api/v1/resources/movie', methods=['GET'])\n",
    "def api_movie():\n",
    "\n",
    "   query = 'SELECT * FROM movies WHERE'\n",
    "   to_filter = []\n",
    "\n",
    "   query_parameters = request.args\n",
    "   print(query_parameters)\n",
    "\n",
    "   id = query_parameters.get('id')\n",
    "   genre = query_parameters.get('genre')\n",
    "   release_year = query_parameters.get('release_year')\n",
    "   title = query_parameters.get('title')\n",
    "   collection_in_mil = query_parameters.get('collection_in_mil')\n",
    "    \n",
    "   if id:\n",
    "      query += ' id=%s AND '\n",
    "      to_filter.append(id)\n",
    "\n",
    "   if genre:\n",
    "      query += ' genre=%s AND '\n",
    "      to_filter.append(genre)\n",
    "\n",
    "   if release_year:\n",
    "      query += ' release_year=%s AND '\n",
    "      to_filter.append(release_year)\n",
    "\n",
    "   if title:\n",
    "      query += ' title=%s AND '\n",
    "      to_filter.append(title)\n",
    "\n",
    "   if collection_in_mil:\n",
    "      query += ' collection_in_mil=%s AND '\n",
    "      to_filter.append(release_year)\n",
    "\n",
    "   # redirige vers la page 404 si aucun paramètre n'est donné\n",
    "   if not (id and genre and release_year and title and collection_in_mil) :\n",
    "      return page_not_found(404)\n",
    "\n",
    "\n",
    "   # l'argument dictionary=True permet de retourner\n",
    "   # les résultats de la base de données sous forme\n",
    "   # de dictionnaire, donc adapté au format JSON\n",
    "   # il est possible d'utiliser jsonify sur les\n",
    "   # resultats sous forme de tuples, mais il n'y\n",
    "   # aura pas le nom des colonnes\n",
    "\n",
    "   # on fait en sorte le dernier AND à la fin de la requête\n",
    "   query = query[:-4]\n",
    "   print(query, to_filter)\n",
    "   #  with connection.cursor() as cursor:\n",
    "   with connection.cursor(dictionary=True) as cursor:\n",
    "      cursor.execute(query, to_filter)\n",
    "      results = cursor.fetchall()\n",
    "\n",
    "   return jsonify(results)\n",
    "\n"
   ]
  },
  {
   "cell_type": "markdown",
   "metadata": {},
   "source": [
    "## Autres frameworks\n",
    "\n",
    "Bien que Flask permette de créer des API, il n'est le framework le plus adaptés.D'autres framework, en particulier FastAPI et Django, eux, sont totalement dédiés à cette tâche.\n",
    "\n",
    "* FastAPI : https://fastapi.tiangolo.com/\n",
    "* Django : https://www.djangoproject.com/\n"
   ]
  }
 ],
 "metadata": {
  "kernelspec": {
   "display_name": "cours",
   "language": "python",
   "name": "python3"
  },
  "language_info": {
   "codemirror_mode": {
    "name": "ipython",
    "version": 3
   },
   "file_extension": ".py",
   "mimetype": "text/x-python",
   "name": "python",
   "nbconvert_exporter": "python",
   "pygments_lexer": "ipython3",
   "version": "3.9.6"
  },
  "orig_nbformat": 4
 },
 "nbformat": 4,
 "nbformat_minor": 2
}
