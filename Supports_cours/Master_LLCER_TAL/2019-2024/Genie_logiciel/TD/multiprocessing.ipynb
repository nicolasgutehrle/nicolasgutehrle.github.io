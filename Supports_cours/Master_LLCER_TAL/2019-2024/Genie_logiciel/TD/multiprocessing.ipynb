{
 "cells": [
  {
   "cell_type": "markdown",
   "metadata": {},
   "source": [
    "https://hackernoon.com/understanding-multiprocessing-and-multithreading-in-python\n",
    "\n",
    "https://realpython.com/intro-to-python-threading/"
   ]
  }
 ],
 "metadata": {
  "language_info": {
   "name": "python"
  },
  "orig_nbformat": 4
 },
 "nbformat": 4,
 "nbformat_minor": 2
}
