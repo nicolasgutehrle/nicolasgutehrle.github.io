{
 "cells": [
  {
   "cell_type": "markdown",
   "metadata": {},
   "source": [
    "# Génie Logiciel\n",
    "## TD1 - Bases de données et bases de données relationnelles"
   ]
  },
  {
   "cell_type": "markdown",
   "metadata": {},
   "source": [
    "Une base de données est un ensemble d'informations qui est organisé de manière à être facilement accessible, géré et mis à jour. Elle est utilisée par les organisations comme méthode de stockage, de gestion et de récupération de l’informations.\n",
    "\n",
    "Une base de données est stockée sous la forme d'un fichier ou d'un ensemble de fichiers sur un disque ou un disque magnétique, un disque optique ou tout autre support de stockage. L'information contenue dans ces fichiers peut être divisée en enregistrements. Ces enregistrements sont constitués d'un ou de plusieurs champs. Un champ constitue une seule pièce d’information, et chaque champ contient généralement des informations se rapportant à un aspect ou attribut de l'entité décrite par la base de données.\n",
    "\n"
   ]
  },
  {
   "cell_type": "markdown",
   "metadata": {},
   "source": [
    "## Types de bases de données\n",
    "\n",
    "Il existe plusieurs types de bases de données, chacune organisant les données sur le disque d'une manière différente. On peut notamment citer:\n",
    "* **Relationnelles :** les données sont groupées en tableaux (comme des fichiers CSV our Excel). Des relations sont créées entre les différents éléments des tableaux. Elles sont particulièrement adaptées lorsque les ensembles de données sont connectés entre eux. Apparu dans les années 80, elles se sont depuis imposées comme le modèle dominant parmis les autres types. SQL en est le principal représentant.\n",
    "* **Non-Relationnelles :** les données sont représentées sous forme de document (souvent sous la forme de dictionnaires ou documents au format JSON). Ces bases sont particulièrement adaptées aux données semi-structurées ou non-structurées. En raison de leur fonctionnement à l'opposé des bases de données relationnelles et de SQL, ces bases sont dites **No-SQL**\n",
    "* **Orientée graphe :** représente les données sous forme de graphe, c'est-à-dire de réseau. Les bases de connaissances et ontologies peuvent être considérés comme des bases de données orientées graphe.\n",
    "\n",
    "Il n'y a pas de type de base de données supérieur à un autre. Chaque type doit être choisi en fonction du type de données que l'on souhaite stocker.\n",
    "\n",
    "**Autre types de bases :** https://en.wikipedia.org/wiki/Database#Classification\n"
   ]
  },
  {
   "cell_type": "markdown",
   "metadata": {},
   "source": [
    "## Bases de données relationnelles"
   ]
  },
  {
   "cell_type": "markdown",
   "metadata": {},
   "source": [
    "Une base de données relationnelle est un type de base de données où les données sont liées à d'autres informations au sein des bases de données. Les bases de données relationnelles sont composées d’un ensemble de tables qui peuvent être accessibles et reconstruites de différentes manières, sans qu'il soit nécessaire de réarranger ces tables de quelque façon que ce soit. Le langage de requête structuré (SQL) est l’interface standard pour une base de données relationnelle. Les instructions SQL sont utilisées à la fois pour interroger de façon interactive les données contenues dans la base de données relationnelle et pour collecter les données dans le cadre de rapports.\n",
    "\n",
    "Les données sont organisées en lignes, colonnes et tableaux et sont indexées pour faciliter la recherche d'informations. Les données sont mises à jour, complétées ou encore supprimées au fur et à mesure que de nouvelles informations sont ajoutées. Elles contiennent par exemple des agrégations d'enregistrements ou de fichiers de données, tels que les transactions de vente, les catalogues et inventaires de produits et les profils de clients.\n",
    "\n",
    "Les enregistrements sont également organisés en tableaux qui contiennent des informations sur les relations entre les différents champs. À l'aide de mots-clés et de diverses commandes de tri, les utilisateurs peuvent rapidement rechercher, réorganiser, regrouper et sélectionner les champs dans de nombreux enregistrements pour récupérer ou créer des rapports sur des agrégats particuliers de données.\n",
    "\n",
    "**Source :** https://www.oracle.com/fr/database/definition-base-de-donnees.html\n",
    "\n"
   ]
  },
  {
   "cell_type": "markdown",
   "metadata": {},
   "source": [
    "### Le fonctionnement des bases de données relationnelles\n",
    "\n",
    "Les systèmes de gestion de base de données relationnelle permettent de mettre en avant les relations entre les données. Ces données sont organisées en table dans des lignes et colonnes afin d’être accessibles. Chaque ligne est un produit ou une personne spécifique et les colonnes énumèrent les attributs qui se rapportent à ce produit ou à cette personne, tels que la couleur, la taille, etc.\n",
    "\n",
    "SQL est un langage de programmation qui vous permet décrire, alimenter,interroger et gérer une base de données."
   ]
  },
  {
   "cell_type": "markdown",
   "metadata": {},
   "source": [
    "## Clés primaires et clés étrangères\n",
    "\n",
    "Chaque élément (ligne) d'une table doit être unique et doit posséder un identifiant appelé **clé primaire** (primary key). Une clé primaire a les propriété suivantes : elle doit être unique, et ne peut être nulle. Afin que les requêtes utilisateurs soient exécutées rapidement, tous les éléments sont indexés par la base de données selon les clés primaires. \n",
    "\n",
    "\n",
    "Dans les tableaux ci-dessous, les colonnes **customerId** et **orderId** sont les clés primaires de chaque tableau respectif. \n",
    "\n",
    "**Table Clients**\n",
    "<table>\n",
    "<thead>\n",
    "  <tr>\n",
    "    <th>customerId<br></th>\n",
    "    <th>Lastname</th>\n",
    "    <th>Firstname</th>\n",
    "    <th>orderId</th>\n",
    "  </tr>\n",
    "</thead>\n",
    "<tbody>\n",
    "  <tr>\n",
    "    <td>1</td>\n",
    "    <td>Gutehrle</td>\n",
    "    <td>Nicolas</td>\n",
    "    <td>2</td>\n",
    "  </tr>\n",
    "  <tr>\n",
    "    <td>2</td>\n",
    "    <td>Ozturk</td>\n",
    "    <td>Yagmur</td>\n",
    "    <td>4</td>\n",
    "  </tr>\n",
    "  <tr>\n",
    "    <td>3<br></td>\n",
    "    <td>Nomblot<br></td>\n",
    "    <td>Aurelie</td>\n",
    "    <td>3</td>\n",
    "  </tr>\n",
    "</tbody>\n",
    "</table>\n",
    "\n",
    "**Table Commandes**\n",
    "<table>\n",
    "<thead>\n",
    "  <tr>\n",
    "    <th>orderId</th>\n",
    "    <th>Name</th>\n",
    "  </tr>\n",
    "</thead>\n",
    "<tbody>\n",
    "  <tr>\n",
    "    <td>1</td>\n",
    "    <td>steak</td>\n",
    "  </tr>\n",
    "  <tr>\n",
    "    <td>2</td>\n",
    "    <td>tofu</td>\n",
    "  </tr>\n",
    "  <tr>\n",
    "    <td>3</td>\n",
    "    <td>cafe</td>\n",
    "  </tr>\n",
    "  <tr>\n",
    "    <td>4</td>\n",
    "    <td>glace</td>\n",
    "  </tr>\n",
    "</tbody>\n",
    "</table>\n",
    "\n",
    "Les éléments d'un tableau peuvent faire référence / indiquer des éléments contenus dans d'autres tables en employant leur clé primaire. Dans ce cas, on parle de **clés étrangères** (foreign key). Dans les tableaux ci-dessus, la colonne **orderId** de la table 1 est une clé étrangère faisant référence à la colonne **orderId** de la table 2, qui est sa clé primaire. \n",
    "\n",
    "### Notes importantes sur les clés primaires\n",
    "\n",
    "Les clés primaires doivent être simples. Ainsi, elles sont le plus souvent numériques. De plus, puisqu'elles servent à faire références aux éléments, il est important de ne pas modifier la clé primaire d'un élément, au risque de ne plus avoir les bonnes références."
   ]
  },
  {
   "cell_type": "markdown",
   "metadata": {},
   "source": [
    "### Système de Gestion de Base de Données\n",
    "\n",
    "Un système de gestion de base de données (SGBD) est le logiciel qui permet à un ordinateur de stocker, récupérer, ajouter, supprimer et modifier des données. Un SGBD gère tous les aspects primaires d'une base de données, y compris la gestion de la manipulation des données, comme l'authentification des utilisateurs, ainsi que l'insertion ou l'extraction des données. Un SGBD définit ce qu'on appelle le schéma de données ou la structure dans laquelle les données sont stockées.\n",
    "\n",
    "Objectifs d'un Système de Gestion de Base de Données : \n",
    "\n",
    "<ul>\n",
    "    <li>Décrire les données indépendamment des applications</li>\n",
    "    <li>Manipulation des données (interrogation et mise a jour</li>\n",
    "    <li>Contrôler les données (intégrité et con\u001bdentialité)</li>\n",
    "    <li>Partage des données (contrôle des accès concurrents)</li>\n",
    "    <li>Sécurité (reprise après panne, sauvegardes, etc.) ;</li>\n",
    "    <li>Accès rapide (indexes, arbres balancés, ...)</li>\n",
    "    <li>Indépendance physique (Pouvoir modi\u001ber le stockage (disques) sans que cela ait de\n",
    "répercussion au niveau des applications)</li>\n",
    "    <li>Indépendance logique (Permettre aux di\u001d\n",
    "érentes applications d’avoir des vues différentes\n",
    "des mêmes données)</li>\n",
    "   \n",
    "</ul> \n",
    "\n",
    "**Source :** https://www.oracle.com/fr/database/systeme-gestion-base-de-donnees-sgbd-definition.html "
   ]
  },
  {
   "cell_type": "markdown",
   "metadata": {},
   "source": []
  },
  {
   "cell_type": "markdown",
   "metadata": {},
   "source": [
    "## Installation de MySQL et MySQL Workbench\n",
    "\n",
    "MySQL est un système de gestion de base de données relationnelle open source  basé sur le langage de requête structuré (SQL)\n",
    "\n",
    "### MySQL\n",
    "\n",
    "Téléchargement de l'installateur : https://dev.mysql.com/downloads/mysql/\n",
    "\n",
    "**Windows :** https://dev.mysql.com/doc/refman/8.0/en/windows-installation.html\n",
    "**macOS :** https://dev.mysql.com/doc/refman/8.0/en/macos-installation.html\n",
    "**Linux :** https://dev.mysql.com/doc/refman/8.0/en/linux-installation.html\n",
    "\n",
    "### MySQL Workbench et/ou WampServer\n",
    "\n",
    "**MySQL Workbench :** https://www.mysql.com/fr/products/workbench/\n",
    "\n",
    "**WampServer :** https://www.wampserver.com/ (pour Windows, si souci avec MySQL Workbench)"
   ]
  },
  {
   "cell_type": "markdown",
   "metadata": {},
   "source": []
  },
  {
   "cell_type": "markdown",
   "metadata": {},
   "source": [
    "## Types de données\n",
    "\n",
    "Les cinq grande familles de types de variable dans MySQL sont : \n",
    "* numeric\n",
    "* string\n",
    "* date & time\n",
    "* spatial \n",
    "* JSON\n",
    "\n",
    "Pour chaque famille de variable, il peut exister plusieurs types, dont certains semblent similaires. Ces types là diffèrent principalement dans la manière dont ils stockent l'information.\n",
    "\n",
    "Certaines type, comme CHAR ou VARCHAR, demandent une taille maximale afin de faciliter la gestion de la mémoire. Ces champs ne pourront donc pas contenir de données supérieure à la taille indiquée. Ainsi, il est recommandé d'employer ces types uniquement lorsqu'on est sûr que la variable ne peut dépasser la taille indiquée.\n",
    "\n",
    "**Documentation :** https://dev.mysql.com/doc/refman/8.0/en/data-types.html\n",
    "\n",
    "Si votre champ est textuel, priviligiez VARCHAR(255) si ce champ ne doit contenir des petites valeurs textuelles (nom, prenom...). S'il doit contenir du texte plus important ou dont vous ne pouvez être sûr de la taille, priviligiez TEXT. \n",
    "\n",
    "Pour les champs numériques, priviligiez INT pour les valeurs entières et FLOAT pour valeurs à décimales."
   ]
  },
  {
   "cell_type": "markdown",
   "metadata": {},
   "source": []
  },
  {
   "cell_type": "markdown",
   "metadata": {},
   "source": [
    "<h2>Expressions en SQL</h2>\n",
    "<h3>Création, suppréssion et modification de la structure des tables </h3>\n",
    "<ul>\n",
    "    <li>CREATE TABLE</li>\n",
    "    <li>ALTER TABLE</li>\n",
    "    <li>DROP TABLE</li>\n",
    "</ul>\n",
    "<h3>Insertion, mise à jour et suppréssion d’enregistrements</h3>\n",
    "<ul>\n",
    "    <li>INSERT</li>\n",
    "    <li>UPDATE</li>\n",
    "    <li>DELETE</li>\n",
    "</ul>"
   ]
  },
  {
   "cell_type": "code",
   "execution_count": null,
   "metadata": {
    "vscode": {
     "languageId": "plaintext"
    }
   },
   "outputs": [],
   "source": []
  },
  {
   "cell_type": "markdown",
   "metadata": {},
   "source": [
    "## Créer une base de données\n",
    "\n",
    "Dans MySQL, une base de données s'appelle **schema**. Un serveur MySQL peut contenir plusieurs schemas. \n",
    "\n",
    "**Créer le schema**\n",
    "\n",
    "CREATE SCHEMA `new_schema` ;\n",
    "\n",
    "**Sélection de la base sur laquelle on travaille** \n",
    "\n",
    "USE `new_schema`;\n",
    "\n",
    "**Dans MySQLWorkbench**\n",
    "\n",
    "Cliquez sur \"Créer une nouvelle base\" en haut à gauche de l'interface.  Nommez là, et laissez les deux autres champs par défaut concernant l'encodage.\n",
    "\n",
    "Une fois créée, double-cliquez sur l'icône de cette nouvelle base à gauche de l'interface pour l'utiliser."
   ]
  },
  {
   "cell_type": "markdown",
   "metadata": {},
   "source": [
    "### Exercice\n",
    "\n",
    "Créez une base de données \"CentreTesniere\" depuis MySQL Workbench. Cette nouvelle base devrait apparaître dans le menu à gauche de l'interface une fois l'opération réalisée."
   ]
  },
  {
   "cell_type": "markdown",
   "metadata": {},
   "source": []
  },
  {
   "cell_type": "markdown",
   "metadata": {},
   "source": [
    "### Solution \n",
    "\n",
    "CREATE SCHEMA `CentreTesniere` ;\n"
   ]
  },
  {
   "cell_type": "markdown",
   "metadata": {},
   "source": [
    "## Créer des tables dans la base\n",
    "\n",
    "**Créer la table**\n",
    "\n",
    "CREATE TABLE \"nom_table\" (colonnes de la table avec leur propriétés);\n",
    "\n",
    "**Dans MySQL Workbench**\n",
    "\n",
    "Dans votre base, cliquez-droit sur Table, puis \"Nouvelle Table\"\n",
    "\n",
    "Par défaut, en double-cliquant dans le premier champ, l'interface en fera une clé primaire. Notez que les cases PK (Primary Key) et NN (Non Null) sont cochées.\n",
    "\n",
    "N'oubliez pas de cocher AI (Auto Increment). Cela permettrea d'automatiquement ajouter la valeur de clé primaire à chaque ajout. "
   ]
  },
  {
   "cell_type": "markdown",
   "metadata": {},
   "source": [
    "### Exercice\n",
    "\n",
    "Créez une table Enseignants avec les colonnes et contraintes suivantes :\n",
    "* idEnseignant : de type INT, doit être clé primaire, non nulle et s'auto-incrémenter\n",
    "* nom : de type VARCHAR(45)\n",
    "* prenom : de type VARCHAR(45)\n",
    "* age : de type INT\n",
    "* ville : de type VARCHAR(45)\n",
    "* codePostal : de type INT\n",
    "* dateNaissance : de type DATE\n",
    "\n",
    "Vous pouvez indiquer le nom de la table dans le champ en haut de l'interface. Pour créer la table, cliquez sur \"Appliquer\".\n",
    "\n",
    "\n"
   ]
  },
  {
   "cell_type": "markdown",
   "metadata": {},
   "source": [
    "### Solution \n",
    "\n",
    "CREATE TABLE `CentreTesniere`.`Enseignants` (\n",
    "  `idEnseignant` INT NOT NULL AUTO_INCREMENT,\n",
    "  `nom` VARCHAR(45) NULL,\n",
    "  `prenom` VARCHAR(45) NULL,\n",
    "  `age` INT NULL,\n",
    "  `ville` VARCHAR(45) NULL,\n",
    "  `codePostal` INT NULL,\n",
    "  `dateNaissance` DATE NULL,\n",
    "  PRIMARY KEY (`idEnseignant`));"
   ]
  },
  {
   "cell_type": "markdown",
   "metadata": {},
   "source": [
    "## Intégrer des données\n",
    "\n",
    "INSERT INTO \"schema\".\"table\" (liste des colonnes dans lesquelles insérer des données) VALUES (valeurs à insérer pour chaque colonne)\n",
    "\n",
    "Exemple : INSERT INTO CentreTesniere.Enseignants (nom, prenom, age, ville, codePostal, dateNaissance)\n",
    "VALUES ()\n",
    "\n",
    "Vous pouvez insérer plusieurs valeurs avec une seule commande INSERT :\n",
    "\n",
    "INSERT INTO ...\n",
    "VALUES (...),\n",
    "(...),\n",
    "(...)\n",
    "\n",
    "**Dans MySQL Workbench**\n",
    "\n",
    "Faites Ctrl-T ou Command-T (pour mac) pour ouvrir un nouvel onglet Requête (il devrait déjà y en avoir un d'ouvert). C'est dans cet onglet que l'on peut écrire et exécuter des requêtes SQL. Pour les exécuter, cliquez sur le symbole en forme d'éclair en haut du champ de requête.\n",
    "\n",
    "Pensez bien à terminer chaque requête par \";\" afin de les séparer\n"
   ]
  },
  {
   "cell_type": "markdown",
   "metadata": {},
   "source": [
    "### Exercice\n",
    "\n",
    "Dans la table Enseignants, insérer les éléments suivants (chaque valeur correspond à une colonne de la table) : \n",
    "* \"Gutehrle\", \"Nicolas\", 28, \"Dijon\", 21000, \"1995-02-17\"\n",
    "* \"Guedat\", \"Nathan\", 29, \"Besancon\", 25000, \"1994-09-14\"\n",
    "* \"Ozturk\", \"Yagmur\", 26, \"Besancon\", 25000, \"1997-03-19\"\n",
    "* \"Nomblot\", \"Aurelie\", 25, \"Besancon\", 25000, \"1998-03-19\"\n",
    "\n",
    "Cliquez-droit ensuite sur votre table Etudiant dans l'interface à gauche, puis sur \"Sélectionner des lignes\" pour voir les premières lignes de votre table. Elle devrait contenir trois lignes."
   ]
  },
  {
   "cell_type": "markdown",
   "metadata": {},
   "source": []
  },
  {
   "cell_type": "markdown",
   "metadata": {},
   "source": [
    "### Solution\n",
    "\n",
    "INSERT INTO CentreTesniere.Enseignants (nom, prenom, age, ville, codePostal, dateNaissance)\n",
    "VALUES (\"Gutehrle\", \"Nicolas\", 28, \"Dijon\", 21000, 1995-02-17);"
   ]
  },
  {
   "cell_type": "markdown",
   "metadata": {},
   "source": [
    "### Exercice\n",
    "\n",
    "Dans la table Enseignants, insérer les éléments suivants (chaque valeur correspond à une colonne de la table) : \n",
    "* \"Guedat\", \"Nathan\", 29, \"Besancon\", 25000, \"1994-09-14\"\n",
    "* \"Ozturk\", \"Yagmur\", 26, \"Besancon\", 25000, \"1997-03-19\"\n",
    "* \"Nomblot\", \"Aurelie\", 25, \"Besancon\", 25000, \"1998-03-19\"\n",
    "\n",
    "Cliquez-droit ensuite sur votre table Etudiant dans l'interface à gauche, puis sur \"Sélectionner des lignes\" pour voir les premières lignes de votre table. Elle devrait contenir trois lignes."
   ]
  },
  {
   "cell_type": "markdown",
   "metadata": {},
   "source": []
  },
  {
   "cell_type": "markdown",
   "metadata": {},
   "source": [
    "### Solution\n",
    "\n",
    "INSERT INTO CentreTesniere.Enseignants (nom, prenom, age, ville, codePostal, dateNaissance)\n",
    "VALUES (\"Guedat\", \"Nathan\", 29, \"Besancon\", 25000, \"1994-09-14\"),\n",
    "(\"Ozturk\", \"Yagmur\", 26, \"Besancon\", 25000, \"1997-03-19\"),\n",
    "(\"Nomblot\", \"Aurelie\", 25, \"Besancon\", 25000, \"1998-03-19\");"
   ]
  },
  {
   "cell_type": "markdown",
   "metadata": {},
   "source": []
  },
  {
   "cell_type": "markdown",
   "metadata": {},
   "source": [
    "## Sélectionner des données\n",
    "\n",
    "Pour sélectionner des données dans une table, on emploie la commande suivante : \n",
    "\n",
    "SELECT \"nom des colonnes à sélectionner\" FROM \"nom de la table dans laquelle chercher les données\"\n",
    "\n",
    "Exemples : \n",
    "* SELECT nom FROM Enseignants \n",
    "* SELECT nom, prenom, age FROM Enseignants\n",
    "* SELECT * FROM Enseignants (pour tout sélectionner)"
   ]
  },
  {
   "cell_type": "markdown",
   "metadata": {},
   "source": [
    "### Exercice\n",
    "\n",
    "Effectuez des requêtes pour obtenir les données suivantes :\n",
    "* les dates de naissances\n",
    "* le nom et la ville \n",
    "* la ville, le code postal et l'âge"
   ]
  },
  {
   "cell_type": "markdown",
   "metadata": {},
   "source": []
  },
  {
   "cell_type": "markdown",
   "metadata": {},
   "source": [
    "### Solution\n",
    "\n",
    "* SELECT dateNaissance FROM CentreTesniere.Enseignants;\n",
    "* SELECT nom, ville FROM CentreTesniere.Enseignants;\n",
    "* SELECT ville, codePostal, age FROM CentreTesniere.Enseignants;\n"
   ]
  },
  {
   "cell_type": "markdown",
   "metadata": {},
   "source": [
    "## Affiner la sélection\n",
    "\n",
    "La commande SELECT possède plusieurs arguments optionnels permettant d'affiner la recherche et de changer la présentation des résultats. Ces commandes sont : \n",
    "\n",
    "* WHERE : indique un critère de sélection des données. Plusieurs critères peuvent être entrés à l'aide du mot clé AND (SELECT xxx FROM yyy WHERE condition1 AND condition2)\n",
    "\n",
    "* GROUP BY : groupe les lignes retournées ayant des valeurs identiques\n",
    "\n",
    "* ORDER BY : change l'ordre d'affichage des résultat en fonction des colonnes choisies (SELECT xxx FROM yyy ORDER BY www). On peut indiquer plusieurs colonnes de tri. Par défaut, les valeurs sont triées par ordre ascent (ASC). Pour changer l'ordre de tri, on ajoute soit DESC soit ASC en fin de commande (SELECT xxx FROM yyy ORDER BY www ASC)\n",
    "\n",
    "* LIMIT : limite le nombre de résultats obtenus\n"
   ]
  },
  {
   "cell_type": "markdown",
   "metadata": {},
   "source": [
    "<b>Critères de sélection</b> : <br>\n",
    "<ul>\n",
    "<li>Comparaison : <, >, >=, <=, =, <>;</li>\n",
    "<li>Opérateurs logiques : AND, OR, NOT;</li>\n",
    "<li>Prédicats servant à définir des ensembles : IN, BETWEEN, AND et LIKE;</li>\n",
    "<li>Comparaison avec la valeur NULL : IS NULL, IS NOT NULL.</li>\n",
    "</ul>"
   ]
  },
  {
   "cell_type": "markdown",
   "metadata": {},
   "source": [
    "### Exercice\n",
    "\n",
    "* Sélectionner toutes les personnes dont ville est \"Besancon\". Faites en sorte que seuls les champs \"nom\", \"prenom\" et \"ville\" s'affichent\n",
    "* Sélectionner toutes les personnes dont l'âge est strictement supérieur à 26. Faites en sorte que seuls les champs \"nom\", \"prenom\" et \"age s'affichent\n",
    "* Sélectionner toutes les personnes dont la ville est \"Besancon\" et l'âge est supérieur à 26, en affichant toutes les colonnes\n",
    "* Sélectionner toutes les personnes dont la ville est \"Besancon\" et limiter le nombre de résultats à 1\n",
    "* Grouper les valeurs selon les villes, en affichant seulement les villes\n",
    "* Sélectionner toutes les données, en les triant selon le champ \"dateNaissance\" et par ordre descendant"
   ]
  },
  {
   "cell_type": "markdown",
   "metadata": {},
   "source": []
  },
  {
   "cell_type": "markdown",
   "metadata": {},
   "source": [
    "### Solution \n",
    "\n",
    "* SELECT nom, prenom, age FROM CentreTesniere.Enseignants WHERE ville = \"Besancon\";\n",
    "* SELECT nom, prenom, age FROM CentreTesniere.Enseignants WHERE age > 26;\n",
    "* SELECT * FROM CentreTesniere.Enseignants WHERE ville = \"Besancon\" LIMIT 1;\n",
    "* SELECT ville FROM CentreTesniere.Enseignants GROUP BY ville;\n",
    "* SELECT * FROM CentreTesniere.Enseignants ORDER BY dateNaissance DESC;\n"
   ]
  },
  {
   "cell_type": "markdown",
   "metadata": {},
   "source": []
  },
  {
   "cell_type": "markdown",
   "metadata": {},
   "source": [
    "## Fonctions grégaires\n",
    "\n",
    "SQL comprend plusieurs fonctions pour manipuler et grouper les données d'une colonne. Les principales sont :\n",
    "* COUNT : compter le nombre d'occurrence \n",
    "* SUM : fait la somme\n",
    "* AVG : fait la moyenne\n",
    "* MAX : retourne la valeur maximale\n",
    "* MIN : retourne la valeur minimale\n",
    "* HAVING : identique à WHERE, on l'emploie lorsque l'on utilise des fonction grégaires (ex: COUNT, SUM, ...), pour lesquelles WHERE ne fonctionne pas\n",
    "\n",
    "Ces fonctions sont appelées après le mot clé SELECT (SELECT MAX(age) FROM Enseignants)"
   ]
  },
  {
   "cell_type": "markdown",
   "metadata": {},
   "source": [
    "### Exercice\n",
    "\n",
    "* Retourner la moyenne de la colonne \"age\"\n",
    "* Retourner la valeur minimale de \"dateNaissance\"\n",
    "* Compter le nombre d'occurrence de \"Besancon\" dans la colonne \"ville\" en affichant la ville et sa fréquence\n",
    "* Afficher les villes pour lesquels la fréquence est supérieure ou égale à 2"
   ]
  },
  {
   "cell_type": "markdown",
   "metadata": {},
   "source": []
  },
  {
   "cell_type": "markdown",
   "metadata": {},
   "source": [
    "### Solution\n",
    "\n",
    "* SELECT AVG(age) FROM CentreTesniere.Enseignants;\n",
    "* SELECT MIN(dateNaissance) FROM CentreTesniere.Enseignants;\n",
    "* SELECT COUNT(ville), ville FROM CentreTesniere.Enseignants GROUP BY ville;\n",
    "* SELECT COUNT(ville), ville FROM CentreTesniere.Enseignants GROUP BY ville HAVING COUNT(ville) >= 2;"
   ]
  },
  {
   "cell_type": "markdown",
   "metadata": {},
   "source": []
  },
  {
   "cell_type": "markdown",
   "metadata": {},
   "source": [
    "## Modifier la table\n",
    "\n",
    "Pour modifier le contenu de la table, on emploie la commande UPDATE :\n",
    "\n",
    "UPDATE \"nom_table\"\n",
    "SET \"colonne1\" = \"valeur1\", \"colonne2\" = \"valeur2\"\n",
    "WHERE condition;\n",
    "\n",
    "Exemples :\n",
    "* Modifier le nom de la personne ayant l'identifiant 1\n",
    "    * UPDATE new.enseignants SET nom=\"Michel\" WHERE new.enseignants.enseignantID=1;\n",
    "\n",
    "* Modifier le nom et le prenom de toutes personnes ayant la même valeur \"ville\"\n",
    "    * UPDATE new.Enseignants SET nom='Michel', prenom=\"Michel\" WHERE new.Enseignants.ville=\"Besancon\";\n",
    "\n",
    "Pour supprimer du contenu, on emploie la commande DELETE. Attention, si vous ne précisez pas la condition WHERE, tout le contenu de la table sera effacé : \n",
    "\n",
    "DELETE FROM table_name WHERE condition; \n",
    "\n",
    "Exemple :\n",
    "* Supprimer toutes lignes dont le nom est \"Michel\"\n",
    "    * DELETE FROM new.enseignants WHERE nom=\"Michel\";\n"
   ]
  },
  {
   "cell_type": "markdown",
   "metadata": {},
   "source": [
    "### Exercice\n",
    "\n",
    "* Modifiez la valeur \"nom\" pour \"Dupont\" pour l'élément ayant l'identifiant 1\n",
    "* Modifiez la valeur de \"ville\" pour \"Saint-Claude\" et \"codePostal\" pour \"39000\" pour l'élément ayant l'identifiant 3\n",
    "* Supprimez tous les éléments dont le code postal est \"25000\""
   ]
  },
  {
   "cell_type": "code",
   "execution_count": null,
   "metadata": {
    "vscode": {
     "languageId": "plaintext"
    }
   },
   "outputs": [],
   "source": []
  },
  {
   "cell_type": "markdown",
   "metadata": {},
   "source": [
    "### Solution\n",
    "\n",
    "* UPDATE CentreTesniere.Enseignants SET nom=\"Dupont\" WHERE CentreTesniere.Enseignants.idEnseignants=1;\n",
    "* UPDATE CentreTesniere.Enseignants SET ville=\"Saint-Claude\", codePostal=39000 WHERE CentreTesniere.Enseignants.idEnseignants=3;\n",
    "* DELETE FROM CentreTesniere.Enseignants WHERE codePostal=25000;\n",
    "\n"
   ]
  },
  {
   "cell_type": "markdown",
   "metadata": {},
   "source": [
    "## Intégration à partir d'un fichier et de l'interface\n",
    "\n",
    "Souvent, on aura à intégrer des données existantes dans des fichiers tels que des fichiers CSV à des tables des bases de données.\n",
    "\n",
    "* Dans la base, faire clique-droit sur l'onglet Tables, puis \"Table Data Import Wizard\"\n",
    "* Sélectionner le fichier CSV que vous souhaitez intégrer\n",
    "* Choissisez dans dans quel schéma intégrer cette table, ainsi que son nom\n",
    "* Sélectionner le type de chaque colonne, ainsi que l'encodage de la table (prendre UTF-8)\n",
    "* Lancer l'import\n",
    "* Rafraîchir la base pour voir s'afficher la nouvelle table"
   ]
  },
  {
   "cell_type": "markdown",
   "metadata": {},
   "source": [
    "### Exercice \n",
    "\n",
    "Intégrer le fichier etudiants.csv contenu dans le dossier \"data\""
   ]
  },
  {
   "cell_type": "markdown",
   "metadata": {},
   "source": [
    "## Relations entre tables\n",
    "### Types de relations entre tables\n",
    "\n",
    "Il existe trois types de relations entre tables :\n",
    "* one-to-many\n",
    "* many-to-many\n",
    "* one-to-one\n",
    "\n",
    "Les relations entre tables sont permises grâce aux clés primaires et clés étrangères qu'elles contiennent."
   ]
  },
  {
   "cell_type": "markdown",
   "metadata": {},
   "source": [
    "### Relation One-to-many\n",
    "\n",
    "Cette relation existe entre une table et plusieurs autres. Par exemple, un enseignant peut enseigner à plusieurs classes, mais une classe ne peut être enseignée que par un seul enseignant; un responsable d'équipe peut gérer une ou plusieurs personnes, mais une personne ne peut être gérée que par un seul responsable. Ce type de relation nécessite au minimum deux tables pour être représenté.\n",
    "\n",
    "**Table Enseignants**\n",
    "\n",
    "<table><thead><tr><th>teacherId<br></th><th>LastName</th><th>FirstName</th></tr></thead><tbody><tr><td>1</td><td>Gutehrle</td><td>Nicolas</td></tr><tr><td>2</td><td>Ozturk</td><td>Yagmur</td></tr><tr><td>3</td><td>Nomblot</td><td>Aurelie<br></td></tr></tbody></table>\n",
    "\n",
    "**Table Cours**\n",
    "<table><thead><tr><th>classId</th><th>Name</th><th>teacherId</th></tr></thead><tbody><tr><td>1</td><td>GenieLogiciel<br></td><td>1</td></tr><tr><td>2</td><td>ModelisationPhonetique</td><td>3</td></tr><tr><td>3</td><td>LangueDeSpecialite</td><td>2</td></tr></tbody></table>\n"
   ]
  },
  {
   "cell_type": "markdown",
   "metadata": {},
   "source": [
    "### Relations many-to-many\n",
    "\n",
    "Ce type de relation nécessite trois tables : les deux tables que l'on souhaite associer, et une table dite de **jonction** servant à créer le lien. Par exemple, un client peut acheter plusieurs produits au marché, et un produit peut être acheté par plusieurs clients; un livre peut être écrit par plusieurs auteurs, et un autre peut écrire plusieurs livres. \n",
    "\n",
    "**Table Clients**\n",
    "<table><thead><tr><th>customerId<br></th><th>LastName</th><th>FirstName</th></tr></thead><tbody><tr><td>1</td><td>Gutehrle</td><td>Nicolas</td></tr><tr><td>2</td><td>Ozturk</td><td>Yagmur</td></tr><tr><td>3</td><td>Nomblot</td><td>Aurelie<br></td></tr></tbody></table>\n",
    "\n",
    "**Table Produits**\n",
    "<table><thead><tr><th>productId<br></th><th>name</th></tr></thead><tbody><tr><td>1</td><td>steak</td></tr><tr><td>2</td><td>tofu</td></tr><tr><td>3</td><td>cafe</td></tr><tr><td>4</td><td>glace</td></tr></tbody></table>\n",
    "\n",
    "**Table de jonction Clients-Produits**\n",
    "<table><thead><tr><th>purchaseId<br></th><th>customerId</th><th>productId<br></th></tr></thead><tbody><tr><td>1</td><td>1</td><td>2</td></tr><tr><td>2</td><td>1</td><td>3</td></tr><tr><td>3</td><td>2</td><td>4</td></tr><tr><td>4</td><td>3</td><td>1</td></tr></tbody></table>"
   ]
  },
  {
   "cell_type": "markdown",
   "metadata": {},
   "source": [
    "### Relations One-to-one\n",
    "\n",
    "Ce type de relation existe entre deux tables, et connecte deux tables ayant des clés primaires identiques. Par exemple, un produit peut avoir des informations complémentaires contenues dans une autre table que la table Produit. Ce type de relation permet notamment d'éviter d'encombrer une table avec des informations peu ou rarement nécessaires.\n",
    "\n",
    "**Table Produits**\n",
    "<table><thead><tr><th>productId<br></th><th>name</th></tr></thead><tbody><tr><td>1</td><td>steak</td></tr><tr><td>2</td><td>tofu</td></tr><tr><td>3</td><td>cafe</td></tr><tr><td>4</td><td>glace</td></tr></tbody></table>\n",
    "\n",
    "**Table ProduitsDetails**\n",
    "<table><thead><tr><th>productId</th><th>bio</th><th>equitable<br></th><th>ogm</th></tr></thead><tbody><tr><td>1</td><td>True</td><td>False<br></td><td>False</td></tr><tr><td>2</td><td>False</td><td>False<br></td><td>True</td></tr><tr><td>3</td><td>True<br></td><td>True<br></td><td>False</td></tr><tr><td>4</td><td>True<br></td><td>False<br></td><td>False</td></tr></tbody></table>"
   ]
  },
  {
   "cell_type": "markdown",
   "metadata": {},
   "source": [
    "### Exercice\n",
    "\n",
    "* Créez une nouvelle base (schema) nommée CT. N'oubliez pas de sélectionner cette base après l'avoir créée.\n",
    "* Chargez les données de chaque fichier dans cette base. Vous n'avez pas besoin de créer les tables en amont, MySQL Workbench se chargera de le faire en fonction du fichier CSV. S'il y a un problème pour intégrer les données, commencez par créer la table, puis y intégrer les données\n",
    "* Une après l'autre, sélectionnez les données de chaque table"
   ]
  },
  {
   "cell_type": "markdown",
   "metadata": {},
   "source": [
    "## Jointure\n",
    "\n",
    "Pour créer les relations entre les tables, c'est-à-dire connecter les clés primaires et étrangères, on doit joindre les tables. Il existe quatre types de jointures :\n",
    "\n",
    "* inner\n",
    "* left\n",
    "* right\n",
    "* cross\n",
    "\n",
    "La syntaxe pour chaque type de jointure est comme suit : \n",
    "\n",
    "SELECT (colonnes) FROM (schema.table)\n",
    "(INNER|LEFT|RIGHT|CROSS) JOIN (schema.table2) ON (condition pour associer les tables)\n",
    "\n",
    "Exemple : combiner deux tables par rapports aux clés primaires et étrangères\n",
    "\n",
    "SELECT * FROM schema.table1 \n",
    "INNER JOIN schema.table2\n",
    "ON schema.table1.table1ID = schema.table2.table2ID\n",
    "\n",
    "(Source des images : W3School)\n"
   ]
  },
  {
   "cell_type": "markdown",
   "metadata": {},
   "source": [
    "### Inner join\n",
    "\n",
    "Retourne les données présentes dans les deux tables (intersection). C'est le type de jointure le plus important et le plus fréquemment utilisé.\n",
    "\n",
    "<img src=\"../../img/img_innerjoin.gif\"> \n",
    "\n"
   ]
  },
  {
   "cell_type": "markdown",
   "metadata": {},
   "source": [
    "## Exercice\n",
    "\n",
    "* Faites un INNER JOIN entre les tables Enseignants et Cours, en les joignant à partir de la colonne \"enseignantID\" (one-to-many)\n",
    "* Faites un INNER JOIN entre les tables Enseignants et Infosenseignants, en les joignant à partir de la colonne \"enseignantID\" (one-to-one)"
   ]
  },
  {
   "cell_type": "code",
   "execution_count": null,
   "metadata": {
    "vscode": {
     "languageId": "plaintext"
    }
   },
   "outputs": [],
   "source": []
  },
  {
   "cell_type": "markdown",
   "metadata": {},
   "source": [
    "### Solution\n",
    "\n",
    "*  SELECT * FROM CT.enseignants INNER JOIN CT.cours ON CT.enseignants.enseignantID = CT.cours.enseignantID\n",
    "\n",
    "* SELECT * FROM CT.enseignants INNER JOIN CT.infosenseignants  ON CT.enseignants.enseignantID = CT.infosenseignants.enseignantID"
   ]
  },
  {
   "cell_type": "markdown",
   "metadata": {},
   "source": [
    "### Left join\n",
    "\n",
    "Retourne toutes les données de la table de gauche, ainsi que des données correspondantes dans la table de droite\n",
    "\n",
    "<img src=\"../../img/img_leftjoin.gif\"> \n"
   ]
  },
  {
   "cell_type": "markdown",
   "metadata": {},
   "source": [
    "### Exercice\n",
    "\n",
    "* Faites un LEFT JOIN entre les tables Enseignants et Cours, en les joignant à partir de la colonne \"enseignantID\" (one-to-many)\n",
    "* Faites un INNER JOIN entre les tables Enseignants et Infosenseignants, en les joignant à partir de la colonne \"enseignantID\" (one-to-one)"
   ]
  },
  {
   "cell_type": "code",
   "execution_count": null,
   "metadata": {
    "vscode": {
     "languageId": "plaintext"
    }
   },
   "outputs": [],
   "source": []
  },
  {
   "cell_type": "markdown",
   "metadata": {},
   "source": [
    "### Solution\n",
    "\n",
    "*  SELECT * FROM CT.enseignants LEFT JOIN CT.cours  ON CT.enseignants.enseignantID = CT.cours.enseignantID\n",
    "* SELECT * FROM CT.enseignants LEFT JOIN CT.infosenseignants  ON CT.enseignants.enseignantID = CT.infosenseignants.enseignantID\n",
    "\n",
    "On remarque que par rapport à la sortie de INNER JOIN, il a plus de résultats, mais que certains ont des cellules vides, puisque certaines correspondances n'existent pas entre les deux tables.\n"
   ]
  },
  {
   "cell_type": "markdown",
   "metadata": {},
   "source": [
    "### Right join\n",
    "\n",
    "Inverse de left join, retourne toutes les données de la table de droite, ainsi que des données correspondantes dans la table de gauche\n",
    "\n",
    "<img src=\"../../img/img_rightjoin.gif\"> \n"
   ]
  },
  {
   "cell_type": "markdown",
   "metadata": {},
   "source": [
    "### Exercice\n",
    "\n",
    "* Faites un RIGHT JOIN entre les tables Enseignants et Cours, en les joignant à partir de la colonne \"enseignantID\" (one-to-many)\n",
    "* Faites un RIGHT JOIN entre les tables Enseignants et Infosenseignants, en les joignant à partir de la colonne \"enseignantID\" (one-to-one)"
   ]
  },
  {
   "cell_type": "code",
   "execution_count": null,
   "metadata": {
    "vscode": {
     "languageId": "plaintext"
    }
   },
   "outputs": [],
   "source": []
  },
  {
   "cell_type": "markdown",
   "metadata": {},
   "source": [
    "### Solution\n",
    "\n",
    "* SELECT * FROM CT.enseignants RIGHT JOIN CT.cours  ON CT.enseignants.enseignantID = CT.cours.enseignantID\n",
    "\n",
    "* SELECT * FROM CT.enseignants RIGHT JOIN CT.infosenseignants  ON CT.enseignants.enseignantID = CT.infosenseignants.enseignantID\n",
    "\n",
    "On remarque que cette fois, il n'y a aucune cellule vide, puisqu'il y a des correspondances entre tous les éléments de la table droite avec la table gauche (ce qui n'était pas le cas dans le sens inverse)"
   ]
  },
  {
   "cell_type": "markdown",
   "metadata": {},
   "source": [
    "### Crossjoin\n",
    "\n",
    "Retourne toutes les données des deux tables\n",
    "\n",
    "<img src=\"../../img/img_crossjoin.png\"> \n"
   ]
  },
  {
   "cell_type": "markdown",
   "metadata": {},
   "source": [
    "### Exercices\n",
    "\n",
    "* Faites un CROSS JOIN entre les tables Enseignants et Cours :\n",
    "* Faites un CROSS JOIN entre les tables Enseignants et Infosenseignants :\n"
   ]
  },
  {
   "cell_type": "code",
   "execution_count": null,
   "metadata": {
    "vscode": {
     "languageId": "plaintext"
    }
   },
   "outputs": [],
   "source": []
  },
  {
   "cell_type": "markdown",
   "metadata": {},
   "source": [
    "### Solution\n",
    "\n",
    "* SELECT * FROM CT.enseignants CROSS JOIN CT.cours\n",
    "\n",
    "* SELECT * FROM CT.enseignants CROSS JOIN CT.infosenseignants\n",
    "\n",
    "On remarque que toutes les données des deux tables sont retournées, qu'elles ne matchent ou pas\n"
   ]
  },
  {
   "cell_type": "markdown",
   "metadata": {},
   "source": [
    "## Table de jonction\n",
    "\n",
    "Pour joindre plus de deux tables (par exemple, dans un cas de relation many-to-many ), il faut employer plusieurs JOIN : un premier pour associer la table de gauche à la table de jonction, et un second pour joindre la table de jonction à la table de droite :\n",
    "\n",
    "Exemple : \n",
    "* Voir les enseignants et les étudiants qui ont cours avec\n",
    "\n",
    "SELECT * FROM CT.enseignants\n",
    "INNER JOIN CT.EnseignantsEtudiants ON CT.enseignants.enseignantID = CT.EnseignantsEtudiants.enseignantID\n",
    "INNER JOIN CT.etudiants ON CT.etudiants.etudiantID = CT.EnseignantsEtudiants.etudiantID\n",
    "\n",
    "La jonction peut retourner beaucoup de colonnes. Pour limiter les résultats, il faut préciser les colonnes que l'on souhaite retourner. Ces colonnes peuvent être ambigues. Il faut donc préciser les tables :\n",
    "\n",
    "Exemple : \n",
    "* Même requête que précédemment, mais on ne veut que les colonnes \"nom\" des tables \"Enseignants\" et \"Etudiants\" respectivement. Pour cela, il faut préciser les noms de tables avant les noms de colonnes\n",
    "\n",
    "SELECT CT.enseignants.nom, CT.etudiants.nom FROM CT.enseignants\n",
    "INNER JOIN CT.EnseignantsEtudiants ON CT.enseignants.enseignantID = CT.EnseignantsEtudiants.enseignantID\n",
    "INNER JOIN CT.etudiants ON CT.etudiants.etudiantID = CT.EnseignantsEtudiants.etudiantID"
   ]
  },
  {
   "cell_type": "markdown",
   "metadata": {},
   "source": [
    "---------"
   ]
  },
  {
   "cell_type": "markdown",
   "metadata": {},
   "source": [
    "## Cas pratique\n",
    "\n",
    "Créez une base \"France\", et utilisez là.\n",
    "\n",
    "Ouvrez les fichiers \"departement.sql\" et \"villes_france.sql\" contenus dans le dossier data à l'aide de MySQL Workbench, puis exécuter leurs contenus. Votre base devrait désormais contenir deux nouvelles tables\n",
    "\n",
    "\n",
    "Effectuez les requêtes suivantes :\n",
    "\n",
    "* Obtenir la liste des 10 villes les plus peuplées en 2012\n",
    "\n",
    "* Obtenir la liste des 50 villes ayant la plus faible superficie\n",
    "\n",
    "* Obtenir la liste des départements d’outres-mer, c’est-à-dire ceux dont le numéro de département commencent par “97”\n",
    "\n",
    "* Obtenir le nom des 10 villes les plus peuplées en 2012, ainsi que le nom du département associé\n",
    "\n",
    "* Obtenir la liste du nom de chaque département, associé à son code et du nombre de commune au sein de ces département, en triant afin d’obtenir en priorité les départements qui possèdent le plus de communes\n",
    "\n",
    "* Obtenir la liste des 10 plus grands départements, en terme de superficie\n",
    "\n",
    "* Compter le nombre de villes dont le nom commence par “Saint”\n",
    "\n",
    "* Obtenir la liste des villes qui ont un nom existants plusieurs fois, et trier afin d’obtenir en premier celles dont le nom est le plus souvent utilisé par plusieurs communes\n",
    "\n",
    "* Obtenir en une seule requête SQL la liste des villes dont la superficie est supérieur à la superficie moyenne\n",
    "\n",
    "* Obtenir la liste des départements qui possèdent plus de 2 millions d’habitants\n",
    "\n",
    "* Remplacez les tirets par un espace vide, pour toutes les villes commençant par “SAINT-” (dans la colonne qui contient les noms en majuscule)\n",
    "\n",
    "**Source des données, questions et réponses :** https://sql.sh/exercices-sql/villes-de-france"
   ]
  },
  {
   "cell_type": "markdown",
   "metadata": {},
   "source": []
  },
  {
   "cell_type": "code",
   "execution_count": null,
   "metadata": {
    "vscode": {
     "languageId": "plaintext"
    }
   },
   "outputs": [],
   "source": []
  },
  {
   "cell_type": "markdown",
   "metadata": {},
   "source": [
    "### Solution\n",
    "\n",
    "\n",
    "\n",
    "\n",
    "SELECT * \n",
    "FROM `villes_france_free` \n",
    "ORDER BY `ville_population_2012` DESC \n",
    "LIMIT 10\n",
    "\n",
    "\n",
    "SELECT * \n",
    "FROM `villes_france_free` \n",
    "ORDER BY `ville_surface` ASC \n",
    "LIMIT 50\n",
    "\n",
    "\n",
    "SELECT * \n",
    "FROM `departement` \n",
    "WHERE `departement_code` LIKE '97%'\n",
    "\n",
    "\n",
    "SELECT * \n",
    "FROM `villes_france_free` \n",
    "LEFT JOIN departement ON departement_code = ville_departement\n",
    "ORDER BY `ville_population_2012` DESC \n",
    "LIMIT 10\n",
    "\n",
    "\n",
    "SELECT departement_nom, ville_departement, COUNT(*) AS nbr_items \n",
    "FROM `villes_france_free` \n",
    "LEFT JOIN departement ON departement_code = ville_departement\n",
    "GROUP BY ville_departement\n",
    "ORDER BY `nbr_items` DESC\n",
    "\n",
    "\n",
    "SELECT departement_nom, ville_departement, SUM(`ville_surface`) AS dpt_surface \n",
    "FROM `villes_france_free` \n",
    "LEFT JOIN departement ON departement_code = ville_departement\n",
    "GROUP BY ville_departement  \n",
    "ORDER BY dpt_surface  DESC\n",
    "LIMIT 10\n",
    "\n",
    "\n",
    "SELECT COUNT(*) \n",
    "FROM `villes_france_free` \n",
    "WHERE `ville_nom` LIKE 'saint%'\n",
    "\n",
    "\n",
    "SELECT ville_nom, COUNT(*) AS nbt_item \n",
    "FROM `villes_france_free` \n",
    "GROUP BY `ville_nom` \n",
    "ORDER BY nbt_item DESC\n",
    "\n",
    "\n",
    "SELECT * \n",
    "FROM `villes_france_free` \n",
    "WHERE `ville_surface` > (SELECT AVG(`ville_surface`) FROM `villes_france_free`)\n",
    "\n",
    "\n",
    "SELECT ville_departement, SUM(`ville_population_2012`) AS population_2012\n",
    "FROM `villes_france_free` \n",
    "GROUP BY `ville_departement`\n",
    "HAVING population_2012 > 2000000\n",
    "ORDER BY population_2012 DESC\n",
    "\n",
    "\n",
    "UPDATE `villes_france_free` \n",
    "SET ville_nom = REPLACE(ville_nom, '-', ' ') \n",
    "WHERE `ville_nom` LIKE 'SAINT-%'\n",
    "\n",
    "\n",
    "\n",
    "\n"
   ]
  }
 ],
 "metadata": {
  "language_info": {
   "name": "python"
  },
  "orig_nbformat": 4
 },
 "nbformat": 4,
 "nbformat_minor": 2
}
