{
 "cells": [
  {
   "cell_type": "markdown",
   "metadata": {},
   "source": [
    "# TD7 - IA avec HuggingFace\n",
    "\n",
    "Comme avec scikit-learn, il existe aujourd'hui des outils permettant d'accéder, de manipuler, d'entraîner des modèles d'IA très facilement. Une de ces principales librairies est HuggingFace, qui est principalement dédiée au traitement de texte (écrit et audio), et à l'image (mais pas que)\n",
    "\n",
    "* https://huggingface.co/ \n",
    "\n",
    "Ce support ne contient pas le cours, mais seulement les liens vers les différents tutoriels utiles pour apprendre à utiliser la librairie HuggingFace"
   ]
  },
  {
   "cell_type": "markdown",
   "metadata": {},
   "source": [
    "# Tour d'horizon\n",
    "\n",
    "* https://huggingface.co/docs/transformers/quicktour \n",
    "* https://huggingface.co/docs/transformers/main/en/task_summary#natural-language-processing"
   ]
  },
  {
   "cell_type": "markdown",
   "metadata": {},
   "source": [
    "# Preprocessing\n",
    "\n",
    "* https://huggingface.co/docs/transformers/preprocessing"
   ]
  },
  {
   "cell_type": "markdown",
   "metadata": {},
   "source": [
    "# Finetuning\n",
    "\n",
    "* https://huggingface.co/docs/transformers/training#train-with-pytorch-trainer"
   ]
  },
  {
   "cell_type": "markdown",
   "metadata": {},
   "source": [
    "# Génération de textes avec des LLM\n",
    "\n",
    "* https://huggingface.co/docs/transformers/llm_tutorial"
   ]
  },
  {
   "cell_type": "markdown",
   "metadata": {},
   "source": [
    "# Classification de texte\n",
    "\n",
    "* https://huggingface.co/docs/transformers/tasks/sequence_classification"
   ]
  }
 ],
 "metadata": {
  "language_info": {
   "name": "python"
  },
  "orig_nbformat": 4
 },
 "nbformat": 4,
 "nbformat_minor": 2
}
