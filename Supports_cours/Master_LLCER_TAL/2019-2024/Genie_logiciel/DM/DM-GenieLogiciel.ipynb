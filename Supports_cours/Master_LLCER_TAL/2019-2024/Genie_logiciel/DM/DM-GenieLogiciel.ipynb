{
 "cells": [
  {
   "cell_type": "markdown",
   "metadata": {},
   "source": [
    "# Devoir Maison Génie Logiciel\n",
    "\n",
    "Master LLCER - parcours TAL\n",
    "Nicolas Gutehrlé\n",
    "\n",
    "## Modalités\n",
    "\n",
    "Les exercices sont à réaliser idéalement dans des fichiers notebook (.ipynb), mais certains exercices permettent d'employer des fichiers Python (.py) (voir les énoncés)\n",
    "\n",
    "Vous pourrez rendre ce devoir en le déposant sur GitHub et en transmettant le lien vers le dépôt Git. Vous pourrez rendre un dossier contenant tous les exercices que vous aurez créés. Pour simplifier l'envoi, n'hésitez pas à zipper ce dossier. Si votre fichier zip est trop lourd pour être envoyé par mail, n'hésitez pas à l'envoyer via WeTransfert.\n",
    "\n",
    "Chaque exercice vaut 6 points. 2 points bonus pourront être alloués pour la clarté et l'explication du code, ainsi que pour le dépôt du code sur GitHub.\n",
    "\n",
    "Le plagiat, c'est-à-dire la copie directe des supports de cours sera sanctionnée.\n",
    "\n",
    "L’utilisation d’Internet ainsi que des supports de cours est autorisée. Le travail est strictement personnel. L’évaluation portera sur la compréhension des notions du cours qui sera démontrée par l’étudiant. Un entretien oral est possible suite à l’examen pour préciser la note.\n",
    "\n",
    "Ce devoir est à rendre au plus tard par mail à **nicolas.gutehrle@univ-fcomte.fr** pour le **Lundi 4 décembre**. Tout jour de retard entraînera la perte d'un point sur la note finale. Tout devoir rendu au-delà du **Lundi 11 décembre** ne sera pas accepté.\n",
    "\n",
    "---"
   ]
  },
  {
   "cell_type": "markdown",
   "metadata": {},
   "source": [
    "## Points supplémentaires (2 points)\n",
    "\n",
    "Deux points supplémentaires pourront être accordés si les conditions suivantes sont réunies :\n",
    "* le code est documenté et commenté (1 point)\n",
    "* le code est déposé sur GitHub, avec un fichier README.md pour expliquer le projet (1 point)"
   ]
  },
  {
   "cell_type": "markdown",
   "metadata": {},
   "source": [
    "## Exercie 1 (6 points)\n",
    "\n",
    "Dans cet exercice, vous allez créer une base de données par rapport à votre mémoire :\n",
    "\n",
    "* Réalisez un schéma décrivant la structure de votre base de données. Ce schéma doit décrire les tables, les types de colonnes, les clés primaires\n",
    "* Créez une base de données dans MySQL. Cette base doit respecter le schéma que vous avez défini\n",
    "* Produisez un script permettant de créer cette base. Votre script peut être en Python (fichiers .py ou .ipynb) ou bien des fichiers SQL."
   ]
  },
  {
   "cell_type": "markdown",
   "metadata": {},
   "source": [
    "## Exercice 2 (6 points)\n",
    "\n",
    "Dans cet exercice, vous créerez une API permettant de manipuler votre base de données via Flask. Cette API doit permettre les requêtes suivantes :\n",
    "* accéder à toutes les données de la base\n",
    "* accéder à des données spécifiques de la base, en se basant sur l'identifiant\n",
    "* ajouter des données à la base\n",
    "* mettre à jour des données dans la base\n",
    "* supprimer des données spécifiques dans la base\n",
    "\n",
    "Afin de manipuler cette API, vous rendrez un fichier .ipynb, où au moins une cellule permet de réaliser chaque action."
   ]
  },
  {
   "cell_type": "markdown",
   "metadata": {},
   "source": [
    "## Exercice 3 (6 points)\n",
    "\n",
    "Dans cet exercice, vous réaliserez une interface web avec Flask, qui permettra d'accéder et de manipuler vos données, ainsi que de les visualiser :\n",
    "* L'interface ne sera composée que d'une seule page HTML. Cette page doit se mettre à jour en fonction des requêtes envoyées\n",
    "* Afin d'intéragir avec la base de données, l'interface doit soit comportant un champ texte, soit permettre de sélectionner des phrases\n",
    "* L'interface doit permettre les deux requêtes suivantes :\n",
    "    * retourner toutes les données\n",
    "    * retourner des données spécifiques\n",
    "* L'interface doit comporter au moins un élément de visualisation, qui affiche via un diagramme à barres la distribution de vos données. Si possible, vous semble utile, ou bien que le diagramme à barre ne corresponde pas à vos données, n'hésitez pas à utiliser d'autres types de graphiques\n",
    "* Le graphique doit être responsif et intéractif, et proposer plusieurs outils pour le manipuler\n",
    "* Les graphique doit s'adapter aux données retournées par les requêtes"
   ]
  },
  {
   "cell_type": "markdown",
   "metadata": {},
   "source": []
  },
  {
   "cell_type": "code",
   "execution_count": 42,
   "metadata": {},
   "outputs": [],
   "source": [
    "corentin = 11\n",
    "maya = 12.5\n",
    "charline = 5\n",
    "jacob = 19.5\n",
    "lilian = 17\n",
    "ma = 8\n",
    "marine = 16.5\n",
    "veronika = 16\n",
    "\n",
    "notes = [corentin, maya, charline, lilian, ma, marine, veronika]\n",
    "\n",
    "# notes = [corentin, maya, charline, ma]"
   ]
  },
  {
   "cell_type": "code",
   "execution_count": 43,
   "metadata": {},
   "outputs": [
    {
     "data": {
      "text/plain": [
       "[12.5, 14.0, 6.5, 18.5, 9.5, 18.0, 17.5]"
      ]
     },
     "execution_count": 43,
     "metadata": {},
     "output_type": "execute_result"
    }
   ],
   "source": [
    "[x + 1.5 for x in notes]"
   ]
  },
  {
   "cell_type": "code",
   "execution_count": 24,
   "metadata": {},
   "outputs": [
    {
     "data": {
      "text/plain": [
       "10.32694090344297"
      ]
     },
     "execution_count": 24,
     "metadata": {},
     "output_type": "execute_result"
    }
   ],
   "source": [
    "import statistics as st \n",
    "\n",
    "st.harmonic_mean(notes)\n"
   ]
  },
  {
   "cell_type": "code",
   "execution_count": 3,
   "metadata": {},
   "outputs": [
    {
     "data": {
      "text/plain": [
       "14.25"
      ]
     },
     "execution_count": 3,
     "metadata": {},
     "output_type": "execute_result"
    }
   ],
   "source": [
    "st.median(notes)"
   ]
  },
  {
   "cell_type": "code",
   "execution_count": 29,
   "metadata": {},
   "outputs": [
    {
     "data": {
      "text/plain": [
       "3.3260336739125176"
      ]
     },
     "execution_count": 29,
     "metadata": {},
     "output_type": "execute_result"
    }
   ],
   "source": [
    "st.stdev(notes)"
   ]
  }
 ],
 "metadata": {
  "kernelspec": {
   "display_name": "cours",
   "language": "python",
   "name": "python3"
  },
  "language_info": {
   "codemirror_mode": {
    "name": "ipython",
    "version": 3
   },
   "file_extension": ".py",
   "mimetype": "text/x-python",
   "name": "python",
   "nbconvert_exporter": "python",
   "pygments_lexer": "ipython3",
   "version": "3.9.6"
  },
  "orig_nbformat": 4
 },
 "nbformat": 4,
 "nbformat_minor": 2
}
