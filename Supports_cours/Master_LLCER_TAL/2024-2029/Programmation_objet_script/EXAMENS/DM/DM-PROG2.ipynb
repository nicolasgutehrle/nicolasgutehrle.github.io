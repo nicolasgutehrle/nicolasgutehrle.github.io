{
 "cells": [
  {
   "attachments": {},
   "cell_type": "markdown",
   "metadata": {},
   "source": [
    "# Devoir Maison Technique de Programmation 2\n",
    "\n",
    "2023-2024, Master LLCER - parcours TAL\n",
    "Yagmur Ozturk, Nicolas Gutehrlé\n",
    "\n",
    "## Modalités\n",
    "\n",
    "Les exercices de 1 à 3 peuvent être réalisés dans ce notebook. Pour les exercices 4 et 5, vous devez rendre un dossier et un fichier (voir exercices). \n",
    "\n",
    "Vous rendrez un dossier contenant tous les exercices que vous aurez créés. Pour simplifier l'envoi, n'hésitez pas à zipper ce dossier. Si votre fichier zip est trop lourd pour être envoyé par mail, n'hésitez pas à l'envoyer via WeTransfert.\n",
    "\n",
    "Chaque exercice vaut 4 points. Des points bonus pourront être alloués pour la clarté et l'explication du code. Pensez donc bien à commenter ! \n",
    "\n",
    "Le plagiat, c'est-à-dire la copie directe des supports de cours sera sanctionnée.\n",
    "\n",
    "**Toute suspicion d'utilisation de ChatGPT pour ce DM sera sanctionnée.**\n",
    "\n",
    "L’utilisation d’Internet ainsi que des supports de cours est autorisée. Le travail est strictement personnel. L’évaluation portera sur la compréhension des notions du cours qui sera démontrée par l’étudiant. Un entretien oral est possible suite à l’examen pour préciser la note.\n",
    "\n",
    "Ce devoir est à rendre au plus tard par mail à **nicolas.gutehrle@univ-fcomte.fr** pour le **Lundi 22 avril**. Tout jour de retard entraînera la perte de **deux points** sur la note finale. Tout devoir rendu au-delà du **Lundi 26 avril** sera refusé.\n",
    "\n",
    "---\n"
   ]
  },
  {
   "attachments": {},
   "cell_type": "markdown",
   "metadata": {},
   "source": [
    "## Exercice 1\n",
    "\n",
    "Implémentez en Python les descriptions ci-dessous :\n",
    "\n",
    "* La classe ``Menu`` a pour propriétés ``plat``, ``entree``, ``dessert``, ``boisson``, ``prix_base`` et ``type_menu``.\n",
    "* La propriété ``prix_base`` est égale à 0 tandis que la propriété ``type_menu`` est égale à \"menu\".\n",
    "* Le constructeur de la classe ``Menu`` doit prendre en argument des valeurs pour les propriétés ``plat``, ``entree``, ``dessert``, ``boisson``. Seule la propriété ``plat`` est obligatoire, les trois autres doivent avoir False comme valeur par défaut.\n",
    "* Elle doit implémenter une méthode ``__str__`` qui permet d'afficher cette classe sous forme de string. Cette fonction doit retourner le message \"Menu {VALEUR_DE_TYPE_MENU} à {VALEUR_PRIX_MENU} euros\"\n",
    "* Elle doit implémenter une méthode ``setPrix`` qui suit la logique suivante:\n",
    "    * Le prix de base du menu est égal à la valeur de la propriété ``prix_base``\n",
    "    * Si le menu comprend un plat, le prix de base du menu augmente de 5\n",
    "    * Si le menu comprend un entree, le prix de base du menu augmente de 3\n",
    "    * Si le menu comprend un dessert, le prix de base du menu augmente de 3\n",
    "    * Si le menu comprend un boisson, le prix de base du menu augmente de 2\n",
    "    * La méthode doit retourner la valeur obtenue après toutes les additions\n",
    "    \n",
    "Les classes ``MenuEnfant``, ``MenuMidi`` et ``MenuSoir`` sont des sous-classes de la classe Menu, dont elles héritent de toutes les propriétés.\n",
    "* La valeur de la propriété ``type_menu`` est \"enfant\" pour ``MenuEnfant``, \"midi\" pour ``MenuMidi`` et \"soir\" ``MenuSoir``\n",
    "* La valeur de la propriété ``prix_base`` est 5 pour ``MenuEnfant``, 10 pour ``MenuMidi`` et 15 ``MenuSoir``\n",
    "* Ces trois classes ont une propriétés ``prix_menu`` qui est définie par la valeur retournée par la méthode ``setPrix``.\n",
    " \n",
    " \n",
    "Vous contrôlerez votre implémentation en créant une instance des classes ``MenuEnfant``, ``MenuMidi`` et ``MenuSoir`` avec les valeurs ci-dessous:\n",
    "* MenuEnfant: plat = 'steak', dessert = 'tarte'\n",
    "* MenuMidi: plat = 'burger'\n",
    "* MenuSoir: plat = 'pizza', entree = 'salade', dessert = 'glace'\n",
    "\n",
    "Vous utiliserez la fonction ``print`` pour afficher chacune de ces instances."
   ]
  },
  {
   "cell_type": "code",
   "execution_count": null,
   "metadata": {},
   "outputs": [],
   "source": []
  },
  {
   "attachments": {},
   "cell_type": "markdown",
   "metadata": {},
   "source": [
    "## Exercice 2\n",
    "\n",
    "Implémentez en Python les descriptions ci-dessous : \n",
    "\n",
    "* La classe ``Restaurant`` a un propriété nom et une propriété menu. La propriété nom est une string. La propriété menu est une liste qui contient des instances des classes ``MenuEnfant``, ``MenuMidi`` et ``MenuSoir``.\n",
    "* Le constructeur doit contrôler que la liste menu contient plus d'un élément. Si ce n'est pas le cas, il doit soulever une IndexError\n",
    "* La classe ``Restaurant`` doit implémenter une méthode ``__str__`` qui permet d'afficher cette classe sous forme de string. Cette fonction doit retourner le message \"Restaurant {VALEUR_DE_NOM}\"\n",
    "* Elle implémente une méthode ``plusCherMenu`` qui retourne le menu le plus cher de la propriété ``menu``. Attention, cette méthode doit retourner le menu lui-même, et pas seulement son prix.\n",
    "* Les classes ``FastFood`` et ``Gastronomique`` sont des sous-classes de ``Restaurant``. En plus des qualités de ``Restaurant``, ces deux sous-classes ont également une propriété ``qualite``. Cette propriété est de 0.5 pour ``FastFood`` et de 1.5 pour ``Gastronomique``.\n",
    "\n",
    "Vous testerez votre implémentation de la classe ``Restaurant`` avec les valeurs ci-dessous:\n",
    "* Un Restaurant ayant pour nom ``Restoé`` et qui propose un menu enfant, un menu midi et un menu soir\n",
    "* un FastFood ayant pour nom ``McQuick`` et qui propose un menu enfant et un menu midi\n",
    "* un Gastronomique ayant pour nom ``Fouquets`` et qui propose un menu midi et un menu soir\n",
    "\n",
    "Vous utiliserez la fonction ``print`` pour afficher chacune de ces instances ainsi que leur menu le plus cher."
   ]
  },
  {
   "cell_type": "code",
   "execution_count": null,
   "metadata": {},
   "outputs": [],
   "source": []
  },
  {
   "cell_type": "markdown",
   "metadata": {},
   "source": [
    "## Exercice 3\n",
    "\n",
    "\n",
    "Créez une fonction ``evaluerRestaurant``, qui prend en argument une instance de la classe ``Restaurant`` ou une instance de l'une de ses sous-classes. La note donnée à ce restaurant est égale à la taille de la propriété ``menu`` multipliée par la valeur de la propriété ``qualite``. Cette fonction doit pouvoir prendre en charge d'éventuelles erreurs et retourner dans tous les cas un résultat.\n",
    "\n",
    "Vous testerez ensuite votre fonction avec les instances de ``Restaurant``, ``FastFood`` et ``Gastronomique`` que vous avez créées précédemment."
   ]
  },
  {
   "cell_type": "code",
   "execution_count": null,
   "metadata": {},
   "outputs": [],
   "source": []
  },
  {
   "attachments": {},
   "cell_type": "markdown",
   "metadata": {},
   "source": [
    "## Exercice 4\n",
    "\n",
    "Réalisez les étapes suivantes : \n",
    "\n",
    "### 1/\n",
    "Créez un dossier **main**. Dans ce dossier, créez un package ``restauration`` qui doit contenir les fichiers suivants:\n",
    "* \\_\\_init\\_\\_.py\n",
    "* menus.py\n",
    "* restaurants.py\n",
    "* utils.py\n",
    "\n",
    "Le fichier **menus.py** doit contenir les définitions des classes ``Menu``, ``MenuEnfant``, ``MenuMidi`` et ``MenuSoir``, comme dans l'exercice 1. Ce fichier doit également contenir la ligne **if \\_\\_name\\_\\_ == \"\\_\\_main\\_\\_\":**. Dans ce bloc, créez au moins une instance d'une de ces classes et affichez la valeur de l'attribut **plat**.\n",
    "\n",
    "Le fichier **restaurants.py** doit contenir les définitions des classes ``Restaurant``, ``FastFood``, et ``Gastronomique``, comme dans l'exercice 2. Ce fichier doit également contenir la ligne **if \\_\\_name\\_\\_ == \"\\_\\_main\\_\\_\":**. Dans ce bloc, créez au moins une instance d'une de ces classes et affichez la valeur de l'attribut **nom**.\n",
    "\n",
    "Le fichier **utils.py** doit contenir la fonction **evaluerRestaurant()** comme dans l'exercice 3.\n",
    "\n",
    "Créez ensuite un fichier **main.py** dans le dossier **main**. Ce fichier doit importer toutes les classes définies dans **menus.py**, **restaurants.py** et la fonction définie dans **utils.py**. Il doit également contenir la ligne **if \\_\\_name\\_\\_ == \"\\_\\_main\\_\\_\":**. Dans ce bloc, reproduisez l'exercice 3 de ce DM. Le fichier **main.py** doit être exécutable depuis un terminal. \n",
    "\n",
    "### 2/\n",
    "\n",
    "Utilisez **setuptools** pour rendre le package **restaurants** installable avec **pip**. Vous vous assurerez de son bon fonctionnement en installant ce package au sein d'un environnement virtuel, et en générant le fichier **requirements.txt**."
   ]
  },
  {
   "cell_type": "code",
   "execution_count": null,
   "metadata": {},
   "outputs": [],
   "source": []
  },
  {
   "attachments": {},
   "cell_type": "markdown",
   "metadata": {},
   "source": [
    "# Exercice 5\n",
    "\n",
    "Réalisez les étapes suivantes : \n",
    "\n",
    "## 1/\n",
    "\n",
    "Rédigez des **tests unitaires** pour le package **restauration**, en particulier pour les fichiers **menus.py**, **restaurants.py** et **utils.py** à l'aide de **pytest**, en suivant les consignes ci-dessous : \n",
    "\n",
    "* Pour **menus.py**, vous testerez que les instances de MenuEnfant, MenuMidi et MenuSoir sont biens construites en contrôlant la valeur de l'attribut **prix_menu**. Vous utiliserez le décorateur **pytest.fixture** pour créer les instances.\n",
    "* Pour **restaurants.py**, vous testerez que les instances de FastFood et Gastronomique sont bien construites en contrôlant la valeur de l'attribut **qualite**. Vous vous assurerez que le constructeur de Restaurant retourne bien une IndexError. Vous utiliserez le décorateur **pytest.fixture** pour créer les instances de FastFood et Gastronomique.\n",
    "\n",
    "* Pour **utils.py**, vous vous assurerez que la méthode **evaluerRestaurant()** retourne la bonne valeur pour une instance de Gastronomique. \n",
    "\n",
    "Vous penserez à appliquer vos tests au sein de l'environnement virtuel que vous avez crée. \n",
    "\n",
    "## 2/ \n",
    "\n",
    "Générez la documentation de votre package à l'aide de **sphinx**. \n",
    "\n"
   ]
  },
  {
   "cell_type": "code",
   "execution_count": null,
   "metadata": {},
   "outputs": [],
   "source": []
  }
 ],
 "metadata": {
  "kernelspec": {
   "display_name": "Python 3",
   "language": "python",
   "name": "python3"
  },
  "language_info": {
   "codemirror_mode": {
    "name": "ipython",
    "version": 3
   },
   "file_extension": ".py",
   "mimetype": "text/x-python",
   "name": "python",
   "nbconvert_exporter": "python",
   "pygments_lexer": "ipython3",
   "version": "3.9.10"
  },
  "vscode": {
   "interpreter": {
    "hash": "b0fa6594d8f4cbf19f97940f81e996739fb7646882a419484c72d19e05852a7e"
   }
  }
 },
 "nbformat": 4,
 "nbformat_minor": 4
}
