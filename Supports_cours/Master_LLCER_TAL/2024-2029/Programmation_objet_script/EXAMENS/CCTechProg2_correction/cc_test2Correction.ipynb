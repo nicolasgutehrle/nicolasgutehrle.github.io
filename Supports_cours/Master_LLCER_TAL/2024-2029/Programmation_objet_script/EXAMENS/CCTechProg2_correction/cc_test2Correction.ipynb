{
 "cells": [
  {
   "cell_type": "markdown",
   "metadata": {},
   "source": [
    "#### Exercice 3\n",
    "Ecrivez un code python à partir l'UML donné. Rappel : commentez-bien votre code."
   ]
  },
  {
   "cell_type": "code",
   "execution_count": 18,
   "metadata": {},
   "outputs": [
    {
     "name": "stdout",
     "output_type": "stream",
     "text": [
      "The morpheme 'post' has an id 1.\n",
      "The affix 'pré' is a prefix with id 2.\n",
      "The affix 'im' is a prefix with id 3.\n"
     ]
    }
   ],
   "source": [
    "class Morpheme:\n",
    "    def __init__(self, id, content):\n",
    "        # Constructor to initialize a Morpheme object with id and content attributes\n",
    "        self.__id = id  # Unique identifier of the morpheme\n",
    "        self.__content = content  # Content of the morpheme\n",
    "\n",
    "    def getId(self):\n",
    "        # Getter method to retrieve the unique identifier of the morpheme\n",
    "        return self.__id\n",
    "    \n",
    "    def getContent(self):\n",
    "        # Getter method to retrieve the content of the morpheme\n",
    "        return self.__content\n",
    "    \n",
    "    def __str__(self) -> str:\n",
    "        # String representation of the morpheme\n",
    "        return f\"The morpheme '{self.__content}' has an id {self.__id}.\"\n",
    "\n",
    "class Affix(Morpheme):\n",
    "    def __init__(self, id, content, type):\n",
    "        # Constructor to initialize an Affix object with type attribute and id, content  attributes inherited from Morpheme\n",
    "        super().__init__(id, content)  # Call the constructor of the parent class to set the id and content\n",
    "        self.__type = type  # Type of the affix (e.g., prefix, suffix)\n",
    "\n",
    "    def getType(self):\n",
    "        # Getter method to retrieve the type of the affix\n",
    "        return self.__type\n",
    "    \n",
    "    def __str__(self) -> str:\n",
    "        # String representation of the affix\n",
    "        return f\"The affix '{super().getContent()}' is a {self.__type} with id {super().getId()}.\"\n",
    "    \n",
    "class Prefix(Affix):\n",
    "    def __init__(self, id, content):\n",
    "        # Constructor to initialize a Prefix object with id, content, and type attributes inherited from Affix\n",
    "        super().__init__(id, content, type='prefix')  # Call the constructor of the parent class to set the id, content, and type\n",
    "\n",
    "    def __str__(self) -> str:\n",
    "        # String representation of the prefix\n",
    "        return super().__str__()  # Call the __str__ method of the parent class to get the string representation\n",
    "\n",
    "post = Morpheme(\"1\", \"post\")\n",
    "print(post)\n",
    "\n",
    "pre = Affix(\"2\", \"pré\", \"prefix\")\n",
    "print(pre)\n",
    "\n",
    "im = Prefix(\"3\", \"im\")\n",
    "print(im)"
   ]
  },
  {
   "cell_type": "markdown",
   "metadata": {},
   "source": [
    "#### Exercice 4\n",
    "Voici un extrait de codes rempli d’erreur.\n",
    "<ul><li>Identifiez les types d’erreur</li>\n",
    "<li>Mettez la ligne en commentaire pour garder une trace de l’erreur</li>\n",
    "<li>Et proposez une correction.</li></ul>\n",
    "<br>\n",
    "Remarque : cet exercice a été testé avec un chatbot, celui-ci ne retrouve pas ni ne renvoie les bonnes réponses."
   ]
  },
  {
   "cell_type": "code",
   "execution_count": 19,
   "metadata": {},
   "outputs": [],
   "source": [
    "import nltk \n",
    "\n",
    "try:\n",
    "     nltk.data.find('tokenizers/punkt') \n",
    "except LookupError:\n",
    "     nltk.download('popular') #installe le subset  “populaire” de NLTK\n",
    "\n",
    "from nltk.corpus import inaugural # on importe le corpus des discours d'inauguration\n",
    "\n",
    "class Corpus:\n",
    "    \"\"\"Initialise une instance de la classe Corpus.\n",
    "\n",
    "        Args:\n",
    "            name (str): Le nom du corpus. Si non fourni, un corpus par défaut est utilisé.\n",
    "            corpusSize (int): la taille du corpus, soit le nombre de tokens.\n",
    "    \"\"\"\n",
    "    def __init__(self, name =\"\"):\n",
    "        self.__name = name\n",
    "        if self.__name != \"\": #on ne s'occupe pas de ce cas dans le cadre de cet exercice\n",
    "           pass \n",
    "        else:  \n",
    "            self.__name = '1789-Washington.txt' #si un corpus n'est pas donné, on récupère un fichier du corpus fourni par nltk\n",
    "            self.__corpusSize = len(inaugural.words('1789-Washington.txt')) \n",
    "            #on utilise la méthode words() prédéfinie de nltk qui sort une liste des tokens ['Fellow', '-', 'Citizens', 'of', 'the', ...]\n",
    "\n",
    "    def setName(self, newName):\n",
    "        \"\"\"Modifie le nom du corpus.\"\"\"\n",
    "        if newName not in nltk.corpus.inaugural.fileids(): \n",
    "            #nltk.corpus.inaugural.fileids() renvoie la liste des fichiers du corpus ['1789-Washington.txt', '1793-Washington.txt', '1797-Adams.txt', ...]\n",
    "            print(\"Erreur ! Le fichier n'est pas présent dans le corpus d'inauguration.\")\n",
    "            return\n",
    "        \n",
    "        self.__name = newName \n",
    "        self.__corpusSize = len(inaugural.words(newName))\n",
    "    \n",
    "    def getName(self):\n",
    "        \"\"\"Renvoie le nom du corpus.\"\"\"\n",
    "        return self.__name\n",
    "    \n",
    "    def getCorpusSize(self):\n",
    "        \"\"\"Renvoie la taille du corpus.\"\"\"\n",
    "        return self.__corpusSize\n",
    "    \n",
    "    def __str__(self):\n",
    "        \"\"\"Renvoie une représentation sous forme de chaîne de caractères de l'objet.\"\"\"\n",
    "        return \"Corpus : \" + self.__name + \" ; size : \" + str(self.__corpusSize)"
   ]
  },
  {
   "cell_type": "code",
   "execution_count": 21,
   "metadata": {},
   "outputs": [
    {
     "data": {
      "text/plain": [
       "'1789-Washington.txt'"
      ]
     },
     "execution_count": 21,
     "metadata": {},
     "output_type": "execute_result"
    }
   ],
   "source": [
    "# Instanciation de la classe\n",
    "example_instance = Corpus(\"\")\n",
    "\n",
    "# Affichage du nom de l'objet\n",
    "#CORRECTION\n",
    "#print(example_instance.__name)\n",
    "example_instance.getName() #The attribute name is private so we have to use a getter to access it."
   ]
  },
  {
   "cell_type": "code",
   "execution_count": 23,
   "metadata": {},
   "outputs": [
    {
     "data": {
      "text/plain": [
       "1538"
      ]
     },
     "execution_count": 23,
     "metadata": {},
     "output_type": "execute_result"
    }
   ],
   "source": [
    "#CORRECTION\n",
    "#example_instance.getCorpussize()\n",
    "example_instance.getCorpusSize() #The name of the getter was incorrect (s -> S)\n"
   ]
  },
  {
   "cell_type": "code",
   "execution_count": 24,
   "metadata": {},
   "outputs": [
    {
     "name": "stdout",
     "output_type": "stream",
     "text": [
      "Corpus : 1797-Adams.txt ; size : 2585\n"
     ]
    }
   ],
   "source": [
    "example_instance.setName(\"1797-Adams.txt\")\n",
    "print(example_instance)"
   ]
  }
 ],
 "metadata": {
  "kernelspec": {
   "display_name": "cc_techprog",
   "language": "python",
   "name": "python3"
  },
  "language_info": {
   "codemirror_mode": {
    "name": "ipython",
    "version": 3
   },
   "file_extension": ".py",
   "mimetype": "text/x-python",
   "name": "python",
   "nbconvert_exporter": "python",
   "pygments_lexer": "ipython3",
   "version": "3.12.1"
  }
 },
 "nbformat": 4,
 "nbformat_minor": 2
}
