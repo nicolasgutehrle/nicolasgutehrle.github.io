{
 "cells": [
  {
   "attachments": {},
   "cell_type": "markdown",
   "metadata": {},
   "source": [
    "# Exercices TD5"
   ]
  },
  {
   "attachments": {},
   "cell_type": "markdown",
   "metadata": {},
   "source": [
    "# Exercice 1\n",
    "\n",
    "Modifiez le code de la classe ReseauSocial ci-dessous, avec les conditions suivantes:\n",
    "\n",
    "* La propriété **nom** ne doit plus être une propriété privée\n",
    "* Contrôlez que les propriétés **nbr_adherents** et **nbr_posts** sont bien de type int. Si elles ne le sont pas, le programme doit retourner une erreur de type TypeError.\n",
    "* Ajouter une méthode __str__() qui doit retourner en une seule chaîne de caractères le nom, le nombre d'adhérents et de post du réseau.\n",
    "* Ajoutez la documentation et les commentaires\n",
    "\n",
    "Créez ensuite une instance de chaque sous-classe (Perso, Image, Blogging). Essayez d'abord de provoquer des erreurs, puis créez une instance correcte. "
   ]
  },
  {
   "cell_type": "code",
   "execution_count": null,
   "metadata": {},
   "outputs": [],
   "source": [
    "class ReseauSocial:\n",
    "    def __init__(self, nom, nbr_adherents = 0, nbr_posts = 0):\n",
    "        self.__nom = nom\n",
    "        self.nbr_adherents = nbr_adherents\n",
    "        self.nbr_posts = nbr_posts\n",
    "\n",
    " \n",
    "class Perso(ReseauSocial):\n",
    "    \n",
    "    def __init__(self, nom, nbr_adherents, nbr_posts):\n",
    "        super().__init__(nom, nbr_adherents, nbr_posts)\n",
    "\n",
    "class Images(ReseauSocial):\n",
    "    \n",
    "    def __init__(self, nom, nbr_adherents, nbr_posts):\n",
    "        super().__init__(nom, nbr_adherents, nbr_posts)\n",
    "    \n",
    "    \n",
    "class Blogging(ReseauSocial):\n",
    "    \n",
    "    def __init__(self, nom, nbr_adherents, nbr_posts):\n",
    "        super().__init__(nom, nbr_adherents, nbr_posts)\n",
    "    \n"
   ]
  },
  {
   "attachments": {},
   "cell_type": "markdown",
   "metadata": {},
   "source": [
    "## Exercice 2\n",
    "\n",
    "Créez une classe Personne, avec les attributs suivants:\n",
    "\n",
    "* prenom, de type str\n",
    "* nom, de type str\n",
    "* age, de type int\n",
    "* reseaux, une liste qui contient des objets de type ReseauSocial\n",
    "\n",
    "Pour chacun de ces attributs, vous vous assurez que l'utilisateur donne des variables du type demandé. Sinon, votre programme doit retourner un message d'erreur.\n",
    "\n",
    "La classe doit avoir une fonction __str__, qui retourne sous forme de str le prenom, le nom, l'age et les reseaux de l'instance.\n",
    "\n",
    "La classe doit avoir une fonction writeReseaux. Le but de cette fonction est de créer un fichier txt pour chaque reseau existant, en y indiquant les personne qui y sont inscrites:\n",
    "\n",
    "* Cette fonction doit parcourir tous les réseaux contenus dans la propriété **reseaux**. Votre fonction doit contrôler si un fichier avec le nom de ce réseau existe déjà. S'il existe, vous ouvrirez le fichier en mode append. Sinon, vous l'ouvrirez en mode write. Pour contrôler l'existance du fichier, vous utiliserez les blocs **try...except**.\n",
    "* Dans chaque fichier, vous devez écrire le nom, le prénom et l'âge de la personne\n",
    "\n",
    "Créez ensuite au moins 3 instances de la classe Personne. De même, assurez vous que la gestion des erreurs fonctionne bien. \n",
    "Vous appelerez ensuite la méthode **writeReseaux** pour chacune de ces instances.\n",
    "\n",
    "Pensez à ajouter les commentaires et la documentation à votre code"
   ]
  },
  {
   "cell_type": "code",
   "execution_count": null,
   "metadata": {},
   "outputs": [],
   "source": []
  }
 ],
 "metadata": {
  "kernelspec": {
   "display_name": "Python 3",
   "language": "python",
   "name": "python3"
  },
  "language_info": {
   "codemirror_mode": {
    "name": "ipython",
    "version": 3
   },
   "file_extension": ".py",
   "mimetype": "text/x-python",
   "name": "python",
   "nbconvert_exporter": "python",
   "pygments_lexer": "ipython3",
   "version": "3.9.10 (main, Jan 15 2022, 11:40:53) \n[Clang 13.0.0 (clang-1300.0.29.3)]"
  },
  "vscode": {
   "interpreter": {
    "hash": "b0fa6594d8f4cbf19f97940f81e996739fb7646882a419484c72d19e05852a7e"
   }
  }
 },
 "nbformat": 4,
 "nbformat_minor": 4
}
