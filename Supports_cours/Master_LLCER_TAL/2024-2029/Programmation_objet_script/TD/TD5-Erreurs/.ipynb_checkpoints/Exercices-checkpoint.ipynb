{
 "cells": [
  {
   "cell_type": "markdown",
   "metadata": {},
   "source": [
    "# Exercices TD7\n",
    "\n",
    "Ces exercices sont à réaliser sur ``PyCharm`` et pas sur ``JupyTal``"
   ]
  },
  {
   "cell_type": "markdown",
   "metadata": {},
   "source": [
    "# Exercice 1\n",
    "\n",
    "Modélisez les instructions ci-dessous avec un diagramme, puis implémentez ce diagramme en Python. Vous documenterez le plus possible votre code.\n",
    "\n",
    "Un ReseauSocial à pour propriétés:\n",
    "* nom, nombre d'adhérents, nombre de post et une popularité. La propriété nom doit être privée\n",
    "* la popularité d'un réseau social est calculée par la fonction \"calculerPopularite\". Cette méthode ne doit contenir que le mot clé ``pass`` (le fonctionnement de cette méthode changera en fonction des sous-classes).\n",
    "\n",
    "\n",
    "Un ``ReseauSocial`` doit avoir une méthode \"ajouterAdherent\" et \"RetirerAdherent\" qui respectivement augmente ou réduit le nombre d'adhérent de l'objet. Il en est de même pour les posts.\n",
    "\n",
    "Les classes ``Perso``, ``Images`` et ``Blogging`` sont trois types de réseaux sociaux, et sont donc des sous-classes de la la classe ``ReseauSocial``. Elles ont exactement les mêmes propriétés que la classe ``ReseauSocial``. Cependant, elles calculent chacune différement leur popularité, à savoir:\n",
    "* La popularité de la classe ``Perso`` est égale au nombre d'adhérents\n",
    "* La popularité de la classe ``Images`` est égale au nombre de posts\n",
    "* La popularité de la classe ``Blogging`` est égale au nombre d'adhérents x le nombre de posts\n",
    "\n",
    "Chaque classe doit"
   ]
  },
  {
   "cell_type": "markdown",
   "metadata": {},
   "source": [
    "# Exercice 2\n",
    "\n",
    "Créez une fonction ``plusPopulaire()`` qui prend en argument une liste d'objets héritant de la classe ``ReseauSocial``. Dans cette fonction, calculez la popularité de chaque réseau contenu dans la liste. La fonction doit retourner le réseau le plus populaire. Dans la suite du code, testez votre fonction, en jouant avec les paramètres de chaque instance de classe."
   ]
  }
 ],
 "metadata": {
  "kernelspec": {
   "display_name": "Python 3",
   "language": "python",
   "name": "python3"
  },
  "language_info": {
   "codemirror_mode": {
    "name": "ipython",
    "version": 3
   },
   "file_extension": ".py",
   "mimetype": "text/x-python",
   "name": "python",
   "nbconvert_exporter": "python",
   "pygments_lexer": "ipython3",
   "version": "3.8.5"
  }
 },
 "nbformat": 4,
 "nbformat_minor": 4
}
