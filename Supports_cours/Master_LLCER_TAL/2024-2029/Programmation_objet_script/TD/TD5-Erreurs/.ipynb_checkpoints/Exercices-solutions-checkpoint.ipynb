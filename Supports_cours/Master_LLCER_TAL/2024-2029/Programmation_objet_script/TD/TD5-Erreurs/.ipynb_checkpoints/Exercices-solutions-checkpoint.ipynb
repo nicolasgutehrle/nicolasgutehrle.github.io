{
 "cells": [
  {
   "cell_type": "markdown",
   "metadata": {},
   "source": [
    "# Exercices TD7\n",
    "\n",
    "Ces exercices sont à réaliser sur ``PyCharm`` et pas sur ``JupyTal``"
   ]
  },
  {
   "cell_type": "markdown",
   "metadata": {},
   "source": [
    "# Exercice 1\n",
    "\n",
    "Modélisez les instructions ci-dessous avec un diagramme, puis implémentez ce diagramme en Python. Vous documenterez le plus possible votre code.\n",
    "\n",
    "La classe ``ReseauSocial`` a pour propriétés:\n",
    "* nom, nombre d'adhérents, nombre de post. La propriété nom doit être privée\n",
    "* le nombre d'adhérents et le nombre de posts doivent être fixés par défaut à zéro\n",
    "* il possède également une propriété \"popularité\" qui est calculée par la fonction \"calculerPopularite\". Cette méthode ne doit contenir que le mot clé ``pass`` (le fonctionnement de cette méthode changera en fonction des sous-classes).\n",
    "* elle possède une méthode ``ajouterAdherent`` et ``retirerAdherents``, qui prennent tous deux un nombre d'adhérents à ajouter ou à retirer.\n",
    "* elle possède une méthode ``ajouterPost`` et ``retirerPosts``, qui prennent tous deux un nombre de posts à ajouter ou à retirer.\n",
    "* Vous ferez en sorte que le programme contrôle le type de donnée entrée par l'utilisateur pour les propriétés ``nbr_adherents`` et ``nbr_posts``. Si l'utilisateur entre une donnée qui n'est pas de type ``int``, le programme doit renvoyer une erreur et s'arrêter.\n",
    "* Implémentez la méthode ``__str__``, qui doit retourner une chaîne de caractères. Dans cette dernières, indiquez le nom du réseau, le nombre d'adhérents, de posts et sa popularité\n",
    "\n",
    "Les classes ``Perso``, ``Images`` et ``Blogging`` sont trois types de réseaux sociaux, et sont donc des sous-classes de la la classe ``ReseauSocial``. Elles ont exactement les mêmes propriétés que la classe ``ReseauSocial``. Cependant, elles calculent chacune différement leur popularité, à savoir:\n",
    "* La popularité de la classe ``Perso`` est égale au nombre d'adhérents divisé par le nombre de posts\n",
    "* La popularité de la classe ``Images`` est égale au nombre de posts divisé par le nombre d'adhérents\n",
    "* La popularité de la classe ``Blogging`` est égale au nombre de posts\n",
    "\n",
    "Créez des instances de chacune de ces classes, et affichez la documentation d'au moins l'une d'elle"
   ]
  },
  {
   "cell_type": "markdown",
   "metadata": {},
   "source": [
    "## Solution"
   ]
  },
  {
   "cell_type": "code",
   "execution_count": 42,
   "metadata": {},
   "outputs": [],
   "source": [
    "class ReseauSocial:\n",
    "    def __init__(self, nom, nbr_adherents = 0, nbr_posts = 0):\n",
    "        \"\"\"\n",
    "        Constructeur de la classe ReseauSocial\n",
    "        :param nom: string\n",
    "        :param nbr_adherents: int\n",
    "        :param nbr_posts: int\n",
    "        \"\"\"\n",
    "        self.__nom = nom\n",
    "        \n",
    "        try:\n",
    "            self.nbr_adherents = int(nbr_adherents)\n",
    "        except ValueError:\n",
    "            raise Exception(\"Erreur : vous n'avez pas saisi un nombre entier.\")\n",
    "        try:\n",
    "            self.nbr_posts = int(nbr_posts)\n",
    "        except:\n",
    "            raise Exception(\"Erreur : vous n'avez pas saisi un nombre entier.\")\n",
    "\n",
    "        self.popularite = self.calculerPopularite()\n",
    "    \n",
    "    def calculerPopularite(self):\n",
    "        \"\"\"\n",
    "        Méthode abstraite pour calculer la popularité du réseau. Sera implémentée\n",
    "        dans les sous-classes\n",
    "        \"\"\"\n",
    "        pass\n",
    "    \n",
    "    def ajouterAdherent(self, nbr_adherents):\n",
    "        \"\"\"\n",
    "        Ajoute nbr_adherent à la propriété nbr_adherents de la classe\n",
    "        :param nbr_adherent: int\n",
    "        :return None\n",
    "        \"\"\"\n",
    "        self.nbr_adherents += nbr_adherents\n",
    "    \n",
    "    def retirerAdherent(self, nbr_adherents):\n",
    "        \"\"\"\n",
    "        Retire nbr_adherent à la propriété nbr_adherents de la classe\n",
    "        :param nbr_adherent: int\n",
    "        :return None\n",
    "        \"\"\"\n",
    "        self.nbr_adherents -= nbr_adherents\n",
    "        \n",
    "    def ajouterPosts(self, nbr_posts):\n",
    "        \"\"\"\n",
    "        Ajoute nbr_posts à la propriété nbr_posts de la classe\n",
    "        :param nbr_posts: int\n",
    "        :return None\n",
    "        \"\"\"\n",
    "        self.nbr_posts += nbr_posts\n",
    "    \n",
    "    def retirerPosts(self, nbr_adherents):\n",
    "        \"\"\"\n",
    "        Retire nbr_posts à la propriété nbr_posts de la classe\n",
    "        :param nbr_posts: int\n",
    "        :return None\n",
    "        \"\"\"\n",
    "        self.nbr_posts -= nbr_adherents\n",
    "        \n",
    "    def __str__(self):\n",
    "        return f\"Nom :{self.__nom} Adherents: {self.nbr_adherents}, Posts: {self.nbr_posts} Popularite: {self.popularite}\"\n",
    "        \n",
    "class Perso(ReseauSocial):\n",
    "    \n",
    "    def __init__(self, nom, nbr_adherents, nbr_posts):\n",
    "        super().__init__(nom, nbr_adherents, nbr_posts)\n",
    "    \n",
    "    def calculerPopularite(self):\n",
    "        \"\"\"\n",
    "        Calcuke la popularité du réseau\n",
    "        :return int\n",
    "        \"\"\"\n",
    "        return self.nbr_adherents / self.nbr_posts\n",
    "    \n",
    "class Images(ReseauSocial):\n",
    "    \n",
    "    def __init__(self, nom, nbr_adherents, nbr_posts):\n",
    "        super().__init__(nom, nbr_adherents, nbr_posts)\n",
    "    \n",
    "    def calculerPopularite(self):\n",
    "        \"\"\"\n",
    "        Calcuke la popularité du réseau\n",
    "        :return int\n",
    "        \"\"\"\n",
    "        return self.nbr_posts / self.nbr_adherents\n",
    "    \n",
    "class Blogging(ReseauSocial):\n",
    "    \n",
    "    def __init__(self, nom, nbr_adherents, nbr_posts):\n",
    "        super().__init__(nom, nbr_adherents, nbr_posts)\n",
    "    \n",
    "    def calculerPopularite(self):\n",
    "        \"\"\"\n",
    "        Calcuke la popularité du réseau\n",
    "        :return int\n",
    "        \"\"\"\n",
    "        return  self.nbr_posts"
   ]
  },
  {
   "cell_type": "code",
   "execution_count": 41,
   "metadata": {},
   "outputs": [
    {
     "name": "stdout",
     "output_type": "stream",
     "text": [
      "Nom :resocial Adherents: 2, Posts: 3 Popularite: None\n"
     ]
    }
   ],
   "source": [
    "rs = ReseauSocial('resocial', 2, 3)\n",
    "print(rs)"
   ]
  },
  {
   "cell_type": "code",
   "execution_count": 40,
   "metadata": {},
   "outputs": [
    {
     "ename": "Exception",
     "evalue": "Erreur : vous n'avez pas saisi un nombre entier.",
     "output_type": "error",
     "traceback": [
      "\u001b[0;31m---------------------------------------------------------------------------\u001b[0m",
      "\u001b[0;31mValueError\u001b[0m                                Traceback (most recent call last)",
      "\u001b[0;32m<ipython-input-38-93976f460048>\u001b[0m in \u001b[0;36m__init__\u001b[0;34m(self, nom, nbr_adherents, nbr_posts)\u001b[0m\n\u001b[1;32m      5\u001b[0m         \u001b[0;32mtry\u001b[0m\u001b[0;34m:\u001b[0m\u001b[0;34m\u001b[0m\u001b[0;34m\u001b[0m\u001b[0m\n\u001b[0;32m----> 6\u001b[0;31m             \u001b[0mself\u001b[0m\u001b[0;34m.\u001b[0m\u001b[0mnbr_adherents\u001b[0m \u001b[0;34m=\u001b[0m \u001b[0mint\u001b[0m\u001b[0;34m(\u001b[0m\u001b[0mnbr_adherents\u001b[0m\u001b[0;34m)\u001b[0m\u001b[0;34m\u001b[0m\u001b[0;34m\u001b[0m\u001b[0m\n\u001b[0m\u001b[1;32m      7\u001b[0m         \u001b[0;32mexcept\u001b[0m \u001b[0mValueError\u001b[0m\u001b[0;34m:\u001b[0m\u001b[0;34m\u001b[0m\u001b[0;34m\u001b[0m\u001b[0m\n",
      "\u001b[0;31mValueError\u001b[0m: invalid literal for int() with base 10: '2dshdsh'",
      "\nDuring handling of the above exception, another exception occurred:\n",
      "\u001b[0;31mException\u001b[0m                                 Traceback (most recent call last)",
      "\u001b[0;32m<ipython-input-40-c02c6ebfc94e>\u001b[0m in \u001b[0;36m<module>\u001b[0;34m\u001b[0m\n\u001b[0;32m----> 1\u001b[0;31m \u001b[0mrs\u001b[0m \u001b[0;34m=\u001b[0m \u001b[0mReseauSocial\u001b[0m\u001b[0;34m(\u001b[0m\u001b[0;34m'resocial'\u001b[0m\u001b[0;34m,\u001b[0m \u001b[0;34m\"2dshdsh\"\u001b[0m\u001b[0;34m,\u001b[0m \u001b[0;36m3\u001b[0m\u001b[0;34m)\u001b[0m\u001b[0;34m\u001b[0m\u001b[0;34m\u001b[0m\u001b[0m\n\u001b[0m\u001b[1;32m      2\u001b[0m \u001b[0mprint\u001b[0m\u001b[0;34m(\u001b[0m\u001b[0mrs\u001b[0m\u001b[0;34m)\u001b[0m\u001b[0;34m\u001b[0m\u001b[0;34m\u001b[0m\u001b[0m\n",
      "\u001b[0;32m<ipython-input-38-93976f460048>\u001b[0m in \u001b[0;36m__init__\u001b[0;34m(self, nom, nbr_adherents, nbr_posts)\u001b[0m\n\u001b[1;32m      6\u001b[0m             \u001b[0mself\u001b[0m\u001b[0;34m.\u001b[0m\u001b[0mnbr_adherents\u001b[0m \u001b[0;34m=\u001b[0m \u001b[0mint\u001b[0m\u001b[0;34m(\u001b[0m\u001b[0mnbr_adherents\u001b[0m\u001b[0;34m)\u001b[0m\u001b[0;34m\u001b[0m\u001b[0;34m\u001b[0m\u001b[0m\n\u001b[1;32m      7\u001b[0m         \u001b[0;32mexcept\u001b[0m \u001b[0mValueError\u001b[0m\u001b[0;34m:\u001b[0m\u001b[0;34m\u001b[0m\u001b[0;34m\u001b[0m\u001b[0m\n\u001b[0;32m----> 8\u001b[0;31m             \u001b[0;32mraise\u001b[0m \u001b[0mException\u001b[0m\u001b[0;34m(\u001b[0m\u001b[0;34m\"Erreur : vous n'avez pas saisi un nombre entier.\"\u001b[0m\u001b[0;34m)\u001b[0m\u001b[0;34m\u001b[0m\u001b[0;34m\u001b[0m\u001b[0m\n\u001b[0m\u001b[1;32m      9\u001b[0m         \u001b[0;32mtry\u001b[0m\u001b[0;34m:\u001b[0m\u001b[0;34m\u001b[0m\u001b[0;34m\u001b[0m\u001b[0m\n\u001b[1;32m     10\u001b[0m             \u001b[0mself\u001b[0m\u001b[0;34m.\u001b[0m\u001b[0mnbr_posts\u001b[0m \u001b[0;34m=\u001b[0m \u001b[0mint\u001b[0m\u001b[0;34m(\u001b[0m\u001b[0mnbr_posts\u001b[0m\u001b[0;34m)\u001b[0m\u001b[0;34m\u001b[0m\u001b[0;34m\u001b[0m\u001b[0m\n",
      "\u001b[0;31mException\u001b[0m: Erreur : vous n'avez pas saisi un nombre entier."
     ]
    }
   ],
   "source": [
    "rs = ReseauSocial('resocial', \"2dshdsh\", 3)\n",
    "print(rs)"
   ]
  },
  {
   "cell_type": "code",
   "execution_count": 24,
   "metadata": {},
   "outputs": [
    {
     "name": "stdout",
     "output_type": "stream",
     "text": [
      "Nom :perso Adherents: 20000, Posts: 4000 Popularite: 5.0\n"
     ]
    }
   ],
   "source": [
    "perso = Perso('perso', 20000, 4000)\n",
    "print(perso)"
   ]
  },
  {
   "cell_type": "code",
   "execution_count": 25,
   "metadata": {},
   "outputs": [
    {
     "name": "stdout",
     "output_type": "stream",
     "text": [
      "Nom :image Adherents: 1000, Posts: 50000 Popularite: 50.0\n"
     ]
    }
   ],
   "source": [
    "image = Images('image', 1000, 50000)\n",
    "print(image)"
   ]
  },
  {
   "cell_type": "code",
   "execution_count": 30,
   "metadata": {},
   "outputs": [
    {
     "name": "stdout",
     "output_type": "stream",
     "text": [
      "Nom :blog Adherents: 1000, Posts: 200 Popularite: 200\n"
     ]
    }
   ],
   "source": [
    "blog = Blogging('blog', 1000, 200)\n",
    "print(blog)"
   ]
  },
  {
   "cell_type": "markdown",
   "metadata": {},
   "source": [
    "# Exercice 2\n",
    "\n",
    "Créez une fonction ``plusPopulaire()`` qui prend en argument une liste d'objets héritant de la classe ``ReseauSocial``. Dans cette fonction, calculez la popularité de chaque réseau contenu dans la liste. La fonction doit retourner le réseau le plus populaire. Dans la suite du code, testez votre fonction, en jouant avec les paramètres de chaque instance de classe."
   ]
  },
  {
   "cell_type": "markdown",
   "metadata": {},
   "source": [
    "## Solution"
   ]
  },
  {
   "cell_type": "code",
   "execution_count": 33,
   "metadata": {},
   "outputs": [],
   "source": [
    "def plusPopulaire(list_reseaux):\n",
    "    \"\"\"\n",
    "    Retourne le réseau social le plus populaire de la liste\n",
    "    :param list_reseaux: list[ReseauSocial]\n",
    "    :return ReseauSocial\n",
    "    \"\"\"\n",
    "    list_popularite = []\n",
    "    for reseau in list_reseaux:\n",
    "        list_popularite.append(reseau.popularite)\n",
    "    max_value = max(list_popularite)\n",
    "    for reseau in list_reseaux:\n",
    "        if reseau.popularite == max_value:\n",
    "            return reseau"
   ]
  },
  {
   "cell_type": "code",
   "execution_count": 35,
   "metadata": {},
   "outputs": [
    {
     "name": "stdout",
     "output_type": "stream",
     "text": [
      "Nom :blog Adherents: 1000, Posts: 200 Popularite: 200\n"
     ]
    }
   ],
   "source": [
    "list_reseaux = [perso, image, blog]\n",
    "pop = plusPopulaire(list_reseaux)\n",
    "print(pop)"
   ]
  }
 ],
 "metadata": {
  "kernelspec": {
   "display_name": "Python 3",
   "language": "python",
   "name": "python3"
  },
  "language_info": {
   "codemirror_mode": {
    "name": "ipython",
    "version": 3
   },
   "file_extension": ".py",
   "mimetype": "text/x-python",
   "name": "python",
   "nbconvert_exporter": "python",
   "pygments_lexer": "ipython3",
   "version": "3.8.5"
  }
 },
 "nbformat": 4,
 "nbformat_minor": 4
}
