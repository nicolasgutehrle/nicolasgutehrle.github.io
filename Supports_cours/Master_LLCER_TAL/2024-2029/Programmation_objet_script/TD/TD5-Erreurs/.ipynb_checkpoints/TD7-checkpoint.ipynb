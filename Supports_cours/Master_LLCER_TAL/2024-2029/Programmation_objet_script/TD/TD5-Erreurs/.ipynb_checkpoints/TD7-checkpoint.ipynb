{
 "cells": [
  {
   "cell_type": "markdown",
   "metadata": {},
   "source": [
    "# TD7 - Héritage (suite) et gestion des erreurs"
   ]
  },
  {
   "cell_type": "markdown",
   "metadata": {},
   "source": [
    "# Exercice 3\n",
    "\n",
    "Commentez toutes les méthodes (démarrer, pédaler, trottiner), de telle sorte à ce qu'elle ne soit plus utilisable. Ajoutez une fonction ``demarrer`` à la classe ``Vehicule`` qui affiche le message ``Le véhicule démarre``. Appelez ensuite cette méthode depuis une instance de la classe Vehicule et d'une de ses sous-classes (Velo, oto, Camion, ...)"
   ]
  },
  {
   "cell_type": "code",
   "execution_count": 5,
   "metadata": {},
   "outputs": [],
   "source": [
    "class Vehicule:\n",
    "    def __init__(self, roues, direction, siege):\n",
    "        self.roues = roues\n",
    "        self.direction = direction\n",
    "        self.siege = siege\n",
    "        \n",
    "    def demarrer(self):\n",
    "        print(\"Le véhicule démarre\")"
   ]
  },
  {
   "cell_type": "code",
   "execution_count": 10,
   "metadata": {},
   "outputs": [],
   "source": [
    "class VehiculeAMoteur(Vehicule):\n",
    "    def __init__(self,roues, direction, siege, moteur):\n",
    "        super().__init__(roues, direction, siege)\n",
    "        self.moteur = moteur\n",
    "            \n",
    "#     def demarrer(self):\n",
    "#         print('Le vehicule demarre')\n",
    "        \n",
    "class Voiture(VehiculeAMoteur):\n",
    "    def __init__(self, roues, direction, siege, moteur, portes):\n",
    "        super().__init__(roues, direction, siege, moteur)\n",
    "        self.portes = portes,\n",
    "\n",
    "class Camion(VehiculeAMoteur):\n",
    "    def __init__(self, roues, direction, siege, moteur):\n",
    "        super().__init__(roues, direction, siege, moteur)\n",
    "        self.portes = 2,\n",
    "        self.remorque = True\n",
    "\n",
    "class Moto(VehiculeAMoteur):\n",
    "    def __init__(self, direction, siege, moteur):\n",
    "        super().__init__(2, direction, siege, moteur)\n",
    "        self.moteur = moteur\n"
   ]
  },
  {
   "cell_type": "code",
   "execution_count": 7,
   "metadata": {},
   "outputs": [],
   "source": [
    "class VehiculeSansMoteur(Vehicule):\n",
    "    def __init__(self, roues, direction, siege):\n",
    "        super().__init__(roues, direction, siege)\n",
    "        \n",
    "class Velo(VehiculeSansMoteur):\n",
    "    def __init__(self, roues, direction, siege):\n",
    "        super().__init__(2, direction, siege)\n",
    "\n",
    "#     def pedaler(self):\n",
    "#         print('pedaler')\n",
    "\n",
    "class Trottinette(VehiculeSansMoteur):\n",
    "    def __init__(self, roues, direction, siege):\n",
    "        super().__init__(roues, direction, siege)\n",
    "#         super().__init__(2, direction, siege)\n",
    "\n",
    "#     def trottiner(self):\n",
    "#         print('trottiner')\n"
   ]
  },
  {
   "cell_type": "code",
   "execution_count": 8,
   "metadata": {},
   "outputs": [
    {
     "name": "stdout",
     "output_type": "stream",
     "text": [
      "Le véhicule démarre\n"
     ]
    }
   ],
   "source": [
    "v = Vehicule(4, 'volant', 'fauteuil')\n",
    "v.demarrer()"
   ]
  },
  {
   "cell_type": "code",
   "execution_count": 11,
   "metadata": {},
   "outputs": [
    {
     "name": "stdout",
     "output_type": "stream",
     "text": [
      "Le véhicule démarre\n"
     ]
    }
   ],
   "source": [
    "moto = Moto('guidon', 'selle', 'essence')\n",
    "moto.demarrer()"
   ]
  },
  {
   "cell_type": "code",
   "execution_count": null,
   "metadata": {},
   "outputs": [],
   "source": []
  },
  {
   "cell_type": "markdown",
   "metadata": {},
   "source": [
    "## Exercice 4\n",
    "\n",
    "Ajoutez maintenant une fonction ``demarrer`` aux classes ``VehiculeAMoteur`` et ``VehiculeSansMoteur``. Dans ces fonctions, affichez respectivement:\n",
    "* Le véhicule à moteur démarre\n",
    "* Le véhicule sans moteur démarre\n",
    "\n",
    "Créez ensuite une instance de ces deux classes et appelez la fonction ``demarrer``. Que remarquez-vous ?"
   ]
  },
  {
   "cell_type": "code",
   "execution_count": 12,
   "metadata": {},
   "outputs": [],
   "source": [
    "class VehiculeAMoteur(Vehicule):\n",
    "    def __init__(self,roues, direction, siege, moteur):\n",
    "        super().__init__(roues, direction, siege)\n",
    "        self.moteur = moteur\n",
    "        \n",
    "    def demarrer(self):\n",
    "        print('Le véhicule à moteur démarre')\n",
    "        \n",
    "class VehiculeSansMoteur(Vehicule):\n",
    "    def __init__(self, roues, direction, siege):\n",
    "        super().__init__(roues, direction, siege)\n",
    "        \n",
    "    def demarrer(self):\n",
    "        print('Le véhicule sans moteur démarre')"
   ]
  },
  {
   "cell_type": "code",
   "execution_count": 13,
   "metadata": {},
   "outputs": [
    {
     "name": "stdout",
     "output_type": "stream",
     "text": [
      "Le véhicule à moteur démarre\n"
     ]
    }
   ],
   "source": [
    "vam = VehiculeAMoteur(2, 'volant', 'selle', 'essence')\n",
    "vam.demarrer()"
   ]
  },
  {
   "cell_type": "code",
   "execution_count": 15,
   "metadata": {},
   "outputs": [
    {
     "name": "stdout",
     "output_type": "stream",
     "text": [
      "Le véhicule sans moteur démarre\n"
     ]
    }
   ],
   "source": [
    "vsm = VehiculeSansMoteur(2, 'volant', 'selle')\n",
    "vsm.demarrer()"
   ]
  },
  {
   "cell_type": "code",
   "execution_count": null,
   "metadata": {},
   "outputs": [],
   "source": []
  },
  {
   "cell_type": "markdown",
   "metadata": {},
   "source": [
    "# Exercice 5\n",
    "\n",
    "Ajoutez une méthode ``demarrer`` aux autres classes, affichant respectivement les messages suivant:\n",
    "* Pour le Camion, la Voiture et la Moto : Le camion / La Voiture / La moto démarre\n",
    "* Pour le Vélo: Le vélo pédale\n",
    "* Pour la Trottinette: La trottinette se propulse\n",
    "\n",
    "Créez ensuite une instance de chacune de ces classes et appelez la méthode ``demarrer``"
   ]
  },
  {
   "cell_type": "code",
   "execution_count": 16,
   "metadata": {},
   "outputs": [],
   "source": [
    "class Voiture(VehiculeAMoteur):\n",
    "    def __init__(self, roues, direction, siege, moteur, portes):\n",
    "        super().__init__(roues, direction, siege, moteur)\n",
    "        self.portes = portes\n",
    "        \n",
    "    def demarrer(self):\n",
    "        print(\"La voiture démarre\")\n",
    "\n",
    "class Camion(VehiculeAMoteur):\n",
    "    def __init__(self, roues, direction, siege, moteur):\n",
    "        super().__init__(roues, direction, siege, moteur)\n",
    "        self.portes = 2,\n",
    "        self.remorque = True\n",
    "        \n",
    "    def demarrer(self):\n",
    "        print(\"Le camion démarre\")\n",
    "\n",
    "class Moto(VehiculeAMoteur):\n",
    "    def __init__(self, direction, siege, moteur):\n",
    "        super().__init__(2, direction, siege, moteur)\n",
    "        self.moteur = moteur\n",
    "        \n",
    "    def demarrer(self):\n",
    "        print(\"La moto démarre\")\n",
    "        \n",
    "class Velo(VehiculeSansMoteur):\n",
    "    def __init__(self, roues, direction, siege):\n",
    "        super().__init__(2, direction, siege)\n",
    "\n",
    "    def demarrer(self):\n",
    "        print(\"Le vélo pédale\")    \n",
    "\n",
    "class Trottinette(VehiculeSansMoteur):\n",
    "    def __init__(self, roues, direction, siege):\n",
    "        super().__init__(roues, direction, siege)\n",
    "\n",
    "    def demarrer(self):\n",
    "        print(\"La trottinette se propulse\")  "
   ]
  },
  {
   "cell_type": "code",
   "execution_count": 20,
   "metadata": {},
   "outputs": [
    {
     "name": "stdout",
     "output_type": "stream",
     "text": [
      "La voiture démarre\n"
     ]
    }
   ],
   "source": [
    "voiture = Voiture(4, 'volant', 'fauteuil', 'essence', 5)\n",
    "voiture.demarrer()"
   ]
  },
  {
   "cell_type": "code",
   "execution_count": 21,
   "metadata": {},
   "outputs": [
    {
     "name": "stdout",
     "output_type": "stream",
     "text": [
      "Le camion démarre\n"
     ]
    }
   ],
   "source": [
    "camion = Camion(4, 'volant', 'fauteuil', 'essence')\n",
    "camion.demarrer()"
   ]
  },
  {
   "cell_type": "code",
   "execution_count": 22,
   "metadata": {},
   "outputs": [
    {
     "name": "stdout",
     "output_type": "stream",
     "text": [
      "Le vélo pédale\n"
     ]
    }
   ],
   "source": [
    "velo = Velo(2, 'guidon', 'selle')\n",
    "velo.demarrer()"
   ]
  },
  {
   "cell_type": "code",
   "execution_count": 23,
   "metadata": {},
   "outputs": [
    {
     "name": "stdout",
     "output_type": "stream",
     "text": [
      "La trottinette se propulse\n"
     ]
    }
   ],
   "source": [
    "trottinette = Trottinette(4, 'guidon', 'support')\n",
    "trottinette.demarrer()"
   ]
  }
 ],
 "metadata": {
  "kernelspec": {
   "display_name": "Python 3",
   "language": "python",
   "name": "python3"
  },
  "language_info": {
   "codemirror_mode": {
    "name": "ipython",
    "version": 3
   },
   "file_extension": ".py",
   "mimetype": "text/x-python",
   "name": "python",
   "nbconvert_exporter": "python",
   "pygments_lexer": "ipython3",
   "version": "3.8.5"
  }
 },
 "nbformat": 4,
 "nbformat_minor": 4
}
