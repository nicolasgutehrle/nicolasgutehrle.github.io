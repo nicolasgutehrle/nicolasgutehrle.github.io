{
 "cells": [
  {
   "cell_type": "markdown",
   "metadata": {},
   "source": [
    "# Exercices"
   ]
  },
  {
   "cell_type": "markdown",
   "metadata": {},
   "source": [
    "## Exercice 1\n",
    "\n",
    "Ci-dessous, listez entre 3 et 5 propriétés communes à tous les ordinateurs (carte graphique, carte mère, ...), puis faites un UML à l'aide d'un logiciel de diagramme pour représenter votre classe Ordinateur (ex : Draw.io). Vous rendrez une image de votre diagramme."
   ]
  },
  {
   "cell_type": "markdown",
   "metadata": {},
   "source": [
    "# Solution\n",
    "\n",
    "* carte mère\n",
    "* disque dur\n",
    "* processeur\n",
    "* ventilateur\n",
    "* ...\n",
    "\n",
    "<img src='ordinateur.png'>"
   ]
  },
  {
   "cell_type": "markdown",
   "metadata": {},
   "source": [
    "## Exercice 2\n",
    "\n",
    "Implémentez la classe Ordinateur en vous basant sur votre UML. Créez ensuite deux instances de la classe Ordinateur, avec des valeurs différentes pour chaque champ. Affichez ensuite à l'aide de la fonction **print()** les champs de chaque instance."
   ]
  },
  {
   "cell_type": "code",
   "execution_count": 1,
   "metadata": {},
   "outputs": [],
   "source": [
    "class Ordinateur:\n",
    "\n",
    "    def __init__(self, carteMere, disqueDur, ventilateur, processeur):\n",
    "        self.carteMere = carteMere\n",
    "        self.disqueDur = disqueDur\n",
    "        self.ventilateur = ventilateur\n",
    "        self.processeur = processeur"
   ]
  },
  {
   "cell_type": "code",
   "execution_count": 2,
   "metadata": {},
   "outputs": [
    {
     "name": "stdout",
     "output_type": "stream",
     "text": [
      "carteMere1\n",
      "disqueDur1\n",
      "1\n",
      "processeur1\n"
     ]
    }
   ],
   "source": [
    "ordinateur1 = Ordinateur('carteMere1', 'disqueDur1', 1, 'processeur1')\n",
    "\n",
    "print(ordinateur1.carteMere)\n",
    "print(ordinateur1.disqueDur)\n",
    "print(ordinateur1.ventilateur)\n",
    "print(ordinateur1.processeur)"
   ]
  },
  {
   "cell_type": "code",
   "execution_count": 4,
   "metadata": {},
   "outputs": [
    {
     "name": "stdout",
     "output_type": "stream",
     "text": [
      "carteMere2\n",
      "disqueDur2\n",
      "2\n",
      "processeur2\n"
     ]
    }
   ],
   "source": [
    "ordinateur2 = Ordinateur('carteMere2', 'disqueDur2', 2, 'processeur2')\n",
    "print(ordinateur2.carteMere)\n",
    "print(ordinateur2.disqueDur)\n",
    "print(ordinateur2.ventilateur)\n",
    "print(ordinateur2.processeur)"
   ]
  }
 ],
 "metadata": {
  "kernelspec": {
   "display_name": "Python 3.9.10 64-bit",
   "language": "python",
   "name": "python3"
  },
  "language_info": {
   "codemirror_mode": {
    "name": "ipython",
    "version": 3
   },
   "file_extension": ".py",
   "mimetype": "text/x-python",
   "name": "python",
   "nbconvert_exporter": "python",
   "pygments_lexer": "ipython3",
   "version": "3.9.10"
  },
  "vscode": {
   "interpreter": {
    "hash": "b0fa6594d8f4cbf19f97940f81e996739fb7646882a419484c72d19e05852a7e"
   }
  }
 },
 "nbformat": 4,
 "nbformat_minor": 4
}
