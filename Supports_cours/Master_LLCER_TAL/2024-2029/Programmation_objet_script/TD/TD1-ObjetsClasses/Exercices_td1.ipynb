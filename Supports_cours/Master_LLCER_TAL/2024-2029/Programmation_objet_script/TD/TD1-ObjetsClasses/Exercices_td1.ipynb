{
 "cells": [
  {
   "cell_type": "markdown",
   "metadata": {},
   "source": [
    "# Exercices"
   ]
  },
  {
   "cell_type": "markdown",
   "metadata": {},
   "source": [
    "## Exercice 1\n",
    "\n",
    "Ci-dessous, listez entre 3 et 5 propriétés communes à tous les ordinateurs (carte graphique, carte mère, ...), puis faites un UML à l'aide d'un logiciel de diagramme pour représenter votre classe Ordinateur (ex : Draw.io). Vous rendrez une image de votre diagramme."
   ]
  },
  {
   "cell_type": "code",
   "execution_count": null,
   "metadata": {},
   "outputs": [],
   "source": []
  },
  {
   "cell_type": "markdown",
   "metadata": {},
   "source": [
    "## Exercice 2\n",
    "\n",
    "Implémentez la classe Ordinateur en vous basant sur votre UML. Créez ensuite deux instances de la classe Ordinateur, avec des valeurs différentes pour chaque champ. Affichez ensuite à l'aide de la fonction **print()** les champs de chaque instance."
   ]
  },
  {
   "cell_type": "code",
   "execution_count": null,
   "metadata": {},
   "outputs": [],
   "source": []
  }
 ],
 "metadata": {
  "kernelspec": {
   "display_name": "Python 3.9.10 64-bit",
   "language": "python",
   "name": "python3"
  },
  "language_info": {
   "codemirror_mode": {
    "name": "ipython",
    "version": 3
   },
   "file_extension": ".py",
   "mimetype": "text/x-python",
   "name": "python",
   "nbconvert_exporter": "python",
   "pygments_lexer": "ipython3",
   "version": "3.9.10"
  },
  "vscode": {
   "interpreter": {
    "hash": "b0fa6594d8f4cbf19f97940f81e996739fb7646882a419484c72d19e05852a7e"
   }
  }
 },
 "nbformat": 4,
 "nbformat_minor": 4
}
