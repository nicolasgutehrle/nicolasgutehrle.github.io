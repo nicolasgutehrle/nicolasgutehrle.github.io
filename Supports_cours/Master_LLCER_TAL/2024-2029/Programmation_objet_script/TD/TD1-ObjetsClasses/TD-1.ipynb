{
 "cells": [
  {
   "cell_type": "markdown",
   "metadata": {},
   "source": [
    "# TD-1: Notion d'objets et de classes"
   ]
  },
  {
   "cell_type": "markdown",
   "metadata": {},
   "source": [
    "Dans ce TD nous allons conceptualiser et représenter sous forme d'objets différents véhicules (Voiture, Vélo, Moto, ...) "
   ]
  },
  {
   "cell_type": "markdown",
   "metadata": {},
   "source": [
    "## Exercice 1\n",
    "\n",
    "Faites un liste des différentes proprietés d'une voiture, c'est à dire listez ce qui la compose et ce qu'elle peut faire"
   ]
  },
  {
   "cell_type": "code",
   "execution_count": null,
   "metadata": {},
   "outputs": [],
   "source": []
  },
  {
   "cell_type": "markdown",
   "metadata": {},
   "source": [
    "# Solution\n",
    "\n",
    "Exemples de propriétés d'une voiture:\n",
    "\n",
    "* kilométrage\n",
    "* modèle\n",
    "* type de voitures\n",
    "* nbr roues\n",
    "* réservoir\n",
    "* vitesse\n",
    "* carburant\n",
    "* puissance (chevaux)\n",
    "* année de sortie\n",
    "* couleur\n",
    "* poids\n",
    "* immatriculation\n",
    "* volant\n",
    "* pare-brise\n",
    "* rétroviseurs\n",
    "* sièges"
   ]
  },
  {
   "cell_type": "markdown",
   "metadata": {},
   "source": [
    "## Exercice 2\n",
    "\n",
    "Faites un diagramme sur Dia pour représenter l'objet Voiture et les propriétés ci-dessous:\n",
    "* marque (Peugeot, ...)\n",
    "* moteur (Essence / Diesel)\n",
    "* nbr_roues 4\n",
    "* boite (manuelle, automatique)\n",
    "* prix ()"
   ]
  },
  {
   "cell_type": "code",
   "execution_count": null,
   "metadata": {},
   "outputs": [],
   "source": []
  },
  {
   "cell_type": "markdown",
   "metadata": {},
   "source": [
    "# Solution\n",
    "\n",
    "<img src='diagram_voiture.png'>"
   ]
  },
  {
   "cell_type": "markdown",
   "metadata": {},
   "source": [
    "# Exercice 3\n",
    "En Python créez une classe Voiture, en utilisant cette fois le **constructeur** de classe __init__. Ajoutez les propriétés que vous avez indiquez dans l'UML, et indiquez une valeur par défaut de votre choix."
   ]
  },
  {
   "cell_type": "code",
   "execution_count": null,
   "metadata": {},
   "outputs": [],
   "source": []
  },
  {
   "cell_type": "markdown",
   "metadata": {},
   "source": [
    "# Solution"
   ]
  },
  {
   "cell_type": "code",
   "execution_count": 16,
   "metadata": {},
   "outputs": [],
   "source": [
    "class Voiture:\n",
    "    def __init__(self):\n",
    "        self.marque = 'Peugeot'\n",
    "        self.moteur = 'Essence'\n",
    "        self.nbr_roues = 5\n",
    "        self.boite = 'manuelle'\n",
    "        self.prix = 50000"
   ]
  },
  {
   "cell_type": "markdown",
   "metadata": {},
   "source": [
    "# Exercice 4\n",
    "Modifiez le **constructeur** de classe __init__ en y ajouter les arguments ``marque``, ``moteur``, ``nbr_roues``, ``boite`` et ``prix``"
   ]
  },
  {
   "cell_type": "code",
   "execution_count": null,
   "metadata": {},
   "outputs": [],
   "source": []
  },
  {
   "cell_type": "markdown",
   "metadata": {},
   "source": [
    "# Solution"
   ]
  },
  {
   "cell_type": "code",
   "execution_count": 17,
   "metadata": {},
   "outputs": [],
   "source": [
    "class Voiture:\n",
    "    \n",
    "    def __init__(self, marque, prix, nbr_portes, moteur, boite):\n",
    "        self.marque = marque\n",
    "        self.prix = prix\n",
    "        self.nbr_portes = nbr_portes\n",
    "        self.moteur = moteur\n",
    "        self.boite = boite"
   ]
  },
  {
   "cell_type": "markdown",
   "metadata": {},
   "source": [
    "# Explications"
   ]
  },
  {
   "cell_type": "markdown",
   "metadata": {},
   "source": [
    "Ci-dessous on utilise pas le constructeur: toutes les propriétés indiquées dans la classe Voiture auront une valeur par défaut et seront communes à tous les objets de type Voiture:"
   ]
  },
  {
   "cell_type": "code",
   "execution_count": 18,
   "metadata": {},
   "outputs": [],
   "source": [
    "class Voiture:\n",
    "    marque = 'Peugeot'\n",
    "    prix = 50000\n",
    "    nbr_roues = 4\n",
    "    moteur = 'essence'\n",
    "    boite = 'auto'"
   ]
  },
  {
   "cell_type": "markdown",
   "metadata": {},
   "source": [
    "Toutes les propriétés situées en dehors du constructeurs sont appelées ``propriétés de classes``. La valeur de ces propriétés est commune à tous les objets de ce type."
   ]
  },
  {
   "cell_type": "code",
   "execution_count": 19,
   "metadata": {},
   "outputs": [
    {
     "name": "stdout",
     "output_type": "stream",
     "text": [
      "Propriétés de l'objet v : Peugeot 50000 4 essence auto\n",
      "Propriétés de l'objet w : Peugeot 50000 4 essence auto\n"
     ]
    }
   ],
   "source": [
    "v = Voiture()\n",
    "w = Voiture()\n",
    "print(\"Propriétés de l'objet v :\", v.marque, v.prix, v.nbr_roues, v.moteur, v.boite)\n",
    "print(\"Propriétés de l'objet w :\",  w.marque, w.prix, w.nbr_roues, w.moteur, w.boite)"
   ]
  },
  {
   "cell_type": "code",
   "execution_count": null,
   "metadata": {},
   "outputs": [],
   "source": []
  },
  {
   "cell_type": "markdown",
   "metadata": {},
   "source": [
    "Ci-dessous, on utilise le constructeur: il permet de créer des objets de type Voiture qui auront chacun des propriétés propres. Les arguments donnés dans la fonction __init__ permettent d'assigner des valeurs aux propriétés de l'objet en cours de construction:"
   ]
  },
  {
   "cell_type": "code",
   "execution_count": 20,
   "metadata": {},
   "outputs": [],
   "source": [
    "class Voiture:\n",
    "    \n",
    "    def __init__(self, marque, prix, nbr_roues, moteur, boite):\n",
    "        self.marque = marque\n",
    "        self.prix = prix\n",
    "        self.nbr_roues = nbr_roues\n",
    "        self.moteur = moteur\n",
    "        self.boite = boite"
   ]
  },
  {
   "cell_type": "code",
   "execution_count": 21,
   "metadata": {},
   "outputs": [
    {
     "name": "stdout",
     "output_type": "stream",
     "text": [
      "Propriétés de l'objet v : peugeot 5000 4 essence auto\n",
      "Propriétés de l'objet w : citroen 1000 4 diesel manuelle\n"
     ]
    }
   ],
   "source": [
    "# v est une instance de classe Voiture: c'est un objet de type Voiture\n",
    "# dont les propriétés sont définies par l'utilisateur à sa création\n",
    "v = Voiture('peugeot', 5000, 4, 'essence', 'auto')\n",
    "w = Voiture('citroen', 1000, 4, 'diesel', 'manuelle')\n",
    "print(\"Propriétés de l'objet v :\", v.marque, v.prix, v.nbr_roues, v.moteur, v.boite)\n",
    "print(\"Propriétés de l'objet w :\",  w.marque, w.prix, w.nbr_roues, w.moteur, w.boite)"
   ]
  },
  {
   "cell_type": "code",
   "execution_count": null,
   "metadata": {},
   "outputs": [],
   "source": []
  },
  {
   "cell_type": "markdown",
   "metadata": {},
   "source": [
    "Toutes les propriétés situées dans le constructeur sont appelées ``propriétés d'instances``. Ces propriétés sont communes à tous les objets de ce type, mais leur valeur sont propres à chaque objet. Par exemple, toutes les voitures ont une propriétés ``marque``, mais celle-ci n'est pas la même pour toutes les voitures."
   ]
  },
  {
   "cell_type": "code",
   "execution_count": null,
   "metadata": {},
   "outputs": [],
   "source": []
  },
  {
   "cell_type": "markdown",
   "metadata": {},
   "source": [
    "Lorsque l'on créé une classe, on peut donc combiner les deux types de propriétés pour avoir à la fois des propriétés propres à chaque objet ainsi que des propriétés communes à tous les objets. Par exemple, les voitures n'auront pas la même marque, type de moteur, type de boîte ou prix: ces valeurs sont des ``propriétés d'instances``. Par contre, elles auront toutes 4 roues: ceci est une ``propriété de classe``"
   ]
  },
  {
   "cell_type": "code",
   "execution_count": 22,
   "metadata": {},
   "outputs": [],
   "source": [
    "class Voiture:\n",
    "    # nbr_portes est une propriétés de classe: tous les objets Voiture\n",
    "    # auront cette propriété avec cette valeur\n",
    "    nbr_roues = 4\n",
    "    \n",
    "    # marque, prix, moteur, boite sont des propriétés d'instance: leur valeur est propre à chaque instance\n",
    "    # de classe Voiture\n",
    "    def __init__(self, marque, prix, moteur, boite):\n",
    "        self.marque = marque\n",
    "        self.prix = prix\n",
    "        self.moteur = moteur\n",
    "        self.boite = boite"
   ]
  },
  {
   "cell_type": "code",
   "execution_count": 24,
   "metadata": {},
   "outputs": [
    {
     "name": "stdout",
     "output_type": "stream",
     "text": [
      "Propriétés de l'objet v : peugeot 5000 4 essence auto\n",
      "Propriétés de l'objet w : citroen 1000 4 diesel manuelle\n"
     ]
    }
   ],
   "source": [
    "v = Voiture('peugeot', 5000, 'essence', 'auto')\n",
    "w = Voiture('citroen', 1000, 'diesel', 'manuelle')\n",
    "print(\"Propriétés de l'objet v :\", v.marque, v.prix, v.nbr_roues, v.moteur, v.boite)\n",
    "print(\"Propriétés de l'objet w :\",  w.marque, w.prix, w.nbr_roues, w.moteur, w.boite)"
   ]
  },
  {
   "cell_type": "code",
   "execution_count": null,
   "metadata": {},
   "outputs": [],
   "source": []
  },
  {
   "cell_type": "markdown",
   "metadata": {},
   "source": [
    "# Classe vs Instance de classe:\n",
    "\n",
    "Vous achetez 10 tables Ikea. Elles sont toutes du même modèle, mais elles ont chacune un plateau de couleur différente. Le plan de construction de ces tables est le même pour toutes: les instructions pour monter la tables sont donc identiques pour les 10 tables. Une fois construites, vous avez 10 tables similaires, qui ont toutes 4 pieds et un plateau. La couleur de ce plateau est différente pour chaque table.\n",
    "\n",
    "La modèle detable Ikea correspond à votre ``classe``: elle a pour propriété d'avoir un plateau, quatre pieds et d'être de la marque Ikea.\n",
    "Le plan de construction correspond à votre constructeur: il indique quelles sont les étapes à suivre pour construire un objet de ce type.\n",
    "Vos 10 tables sont des ``instances`` de la classe ``tableIkea``. Elles ont effectivement toutes 1 plateau, 4 pieds, et viennent d'Ikea. Elles ont été construites en suivant les mêmes instructions. Cependant, ces tables diffèrent entre elles car elles ont chacune une couleur de plateau différente."
   ]
  }
 ],
 "metadata": {
  "kernelspec": {
   "display_name": "Python 3.9.10 64-bit",
   "language": "python",
   "name": "python3"
  },
  "language_info": {
   "codemirror_mode": {
    "name": "ipython",
    "version": 3
   },
   "file_extension": ".py",
   "mimetype": "text/x-python",
   "name": "python",
   "nbconvert_exporter": "python",
   "pygments_lexer": "ipython3",
   "version": "3.9.10 (main, Jan 15 2022, 11:40:53) \n[Clang 13.0.0 (clang-1300.0.29.3)]"
  },
  "vscode": {
   "interpreter": {
    "hash": "b0fa6594d8f4cbf19f97940f81e996739fb7646882a419484c72d19e05852a7e"
   }
  }
 },
 "nbformat": 4,
 "nbformat_minor": 4
}
