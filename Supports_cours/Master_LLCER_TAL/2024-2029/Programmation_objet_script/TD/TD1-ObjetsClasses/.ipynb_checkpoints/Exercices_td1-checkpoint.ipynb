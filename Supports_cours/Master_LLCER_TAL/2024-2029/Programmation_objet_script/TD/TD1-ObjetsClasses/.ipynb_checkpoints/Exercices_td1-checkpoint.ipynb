{
 "cells": [
  {
   "cell_type": "markdown",
   "metadata": {},
   "source": [
    "# Exercices"
   ]
  },
  {
   "cell_type": "markdown",
   "metadata": {},
   "source": [
    "## Exercice 1\n",
    "\n",
    "Dans un fichier .txt, faire une liste des propriétés communes à tous les ordinateurs (carte graphique, carte mère, ...)"
   ]
  },
  {
   "cell_type": "markdown",
   "metadata": {},
   "source": [
    "## Exercice 2\n",
    "\n",
    "Faites un UML à l'aide d'un logiciel de diagramme pour représenter votre classe Ordinateur. Indiquez toutes les propriétés que vous avez listées dans l'exercice 1. Vous rendrez une image de votre diagramme."
   ]
  },
  {
   "cell_type": "markdown",
   "metadata": {},
   "source": [
    "## Exercice 3\n",
    "\n",
    "Dans PyCharm, écrivez dans un fichier python la classe Ordinateur. Indiquez les propriétés dans le constructeur pour en faire des propriétés d'instances. Si vous avez des propriétés qui seront communes à tous les ordinateurs, indiquez les comme des propriétés de classes. \n",
    "\n",
    "Une fois votre classe écrite, créez une variable c, qui sera de type Ordinateur."
   ]
  }
 ],
 "metadata": {
  "kernelspec": {
   "display_name": "Python 3 (ipykernel)",
   "language": "python",
   "name": "python3"
  },
  "language_info": {
   "codemirror_mode": {
    "name": "ipython",
    "version": 3
   },
   "file_extension": ".py",
   "mimetype": "text/x-python",
   "name": "python",
   "nbconvert_exporter": "python",
   "pygments_lexer": "ipython3",
   "version": "3.9.6"
  }
 },
 "nbformat": 4,
 "nbformat_minor": 4
}
