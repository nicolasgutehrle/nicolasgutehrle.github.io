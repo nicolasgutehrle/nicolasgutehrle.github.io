{
 "cells": [
  {
   "cell_type": "markdown",
   "metadata": {},
   "source": [
    "# Exercices TD4"
   ]
  },
  {
   "cell_type": "markdown",
   "metadata": {},
   "source": [
    "# Exercice 1\n",
    "\n",
    "Implémentez en Python l'UML ci-dessous:\n",
    "\n",
    "<img src=\"img.png\">"
   ]
  },
  {
   "cell_type": "markdown",
   "metadata": {},
   "source": [
    "# Implémentation des méthodes:\n",
    "\n",
    "Pour la classe Ordinateur:\n",
    "* La méthode \"allumer\" doit afficher le message \"L'ordinateur est allumé\" et changer la valeur de la propriété \"est_allume\" sur True\n",
    "* La méthode \"eteindre\" doit afficher le message \"L'ordinateur est eteint\" et changer la valeur de la propriété \"est_allume\" sur False\n",
    "* La méthode \"afficher_details\" doit afficher à l'aide d'un dictionnaire toutes les propriétés de la classe Ordinateur\n",
    "\n",
    "Pour la classe OrdinateurFixe:\n",
    "* La méthode \"modifier(piece_a, piece_b)\" doit afficher le message \"La piece <piece_a> a ete remplacee par la <piece_b>\n",
    "\n",
    "Pour la classe OrdinateurPortable:\n",
    "* La méthode \"deplacer(piece_a, piece_b)\" doit afficher le message \"L'ordinateur a ete deplace de la  <piece_a> à la <piece_b>\""
   ]
  },
  {
   "cell_type": "code",
   "execution_count": 3,
   "metadata": {},
   "outputs": [],
   "source": [
    "class Ordinateur:\n",
    "    def __init__(self,cpu=\"\",gpu=\"\",ram=0,taille_disque_dur=0,nbr_ventilateurs=0,poids=0,est_allume=True):\n",
    "        self.cpu = cpu\n",
    "        self.gpu = gpu\n",
    "        self.ram = ram\n",
    "        self.taille_disque_dur=taille_disque_dur\n",
    "        self.nbr_ventilateurs=nbr_ventilateurs\n",
    "        self.poids=poids\n",
    "        self.est_allume=est_allume\n",
    "\n",
    "    def allumer(self):\n",
    "        #Nicolas: pas besoin des parenthèse avec une condition if\n",
    "        \n",
    "        if(self.est_allume==False):\n",
    "            self.est_allume=True\n",
    "        return print(\"L'ordinateur est allumé\")\n",
    "        # Nicolas: petite remarque: essaye d'envisager ce que le programme doit faire si est_allume est déjà True.\n",
    "\n",
    "    def eteindre(self):\n",
    "        # Nicolas: idem\n",
    "        if(self.est_allume==True):\n",
    "            self.est_allume=False\n",
    "        return print(\"L'ordinateur est éteint\")\n",
    "\n",
    "    def afficher_details(self):\n",
    "        print(\"Le cpu est :\",self.cpu,)\n",
    "        print(\"Le gpu est :\",self.gpu,)\n",
    "        print(\"Le ram est de  :\",self.ram,)\n",
    "        print(\"Le taille_disque_dur est de :\",self.taille_disque_dur,)\n",
    "        print(\"Il y a :\",self.nbr_ventilateurs,\" ventilateurs.\")\n",
    "        print(\"Le poids est de :\",self.poids,\".\")\n",
    "        if(self.est_allume==True):\n",
    "            print(\"Le pc est allumé.\")\n",
    "        else:\n",
    "            print(\"Le pc est éteint.\")\n",
    "            \n",
    "        # Nicolas: L'énoncé indiquait qu'il fallait afficher toutes les propriétés sous forme de dictionnaire\n",
    "        # De plus, ta méthode telle qu'elle est ne peux pas afficher les propriétés des sous-classes\n",
    "        # OrdinateurFixe et OrdinateurPortable. Regarde la correction pour voir comment résoudre ces deux problèmes\n",
    "\n",
    "class OrdinateurPortable(Ordinateur):\n",
    "    def __init__(self,cpu,gpu,ram,taille_disque_dur,nbr_ventilateurs,poids,est_allume,type_ecran=\"\",taille_ecran=0):\n",
    "        super().__init__(cpu,gpu,ram,taille_disque_dur,nbr_ventilateurs,poids,est_allume)\n",
    "        self.type_ecran=type_ecran\n",
    "        self.taille_ecran=taille_ecran\n",
    "    def deplacer(self,lieu_a=\"\",lieu_b=\"\"):\n",
    "        # Nicolas: pourquoi est-ce que tu indiques une string vide comme valeur par défaut ? \n",
    "        print(\"L'ordinateur a été déplacé de \",lieu_a,\"a \",lieu_b,)\n",
    "\n",
    "class OrdinateurFixe(Ordinateur):\n",
    "    def __init__(self,cpu,gpu,ram,taille_disque_dur,nbr_ventilateurs,poids,est_allume,materiau_boitier=\"\"):\n",
    "        super().__init__(cpu,gpu,ram,taille_disque_dur,nbr_ventilateurs,poids,est_allume)\n",
    "        self.materiau_boitier=materiau_boitier\n",
    "    def modifier(self,piece_a=\"\",piece_b=\"\"):\n",
    "        # Nicolas: idem\n",
    "        print(\"La piece :\",piece_a,\"a été remplacée par la pièce: \",piece_b,)"
   ]
  },
  {
   "cell_type": "markdown",
   "metadata": {},
   "source": [
    "# Exercice 2\n",
    "\n",
    "Créez une instance de la classe OrdinateurFixe et une instance de la classe OrdinateurPortable. Pour chacune, affichez les propriétés et appelez les méthodes qui vous intéressent. Essayez notamment d'appeler la méthode ``afficher_details``, ``modifier`` et ``deplacer`` depuis chacune des instances. Notez et expliquez ce qui se passe."
   ]
  },
  {
   "cell_type": "code",
   "execution_count": 4,
   "metadata": {},
   "outputs": [
    {
     "name": "stdout",
     "output_type": "stream",
     "text": [
      "Le cpu est : a\n",
      "Le gpu est : b\n",
      "Le ram est de  : 0\n",
      "Le taille_disque_dur est de : 1\n",
      "Il y a : 2  ventilateurs.\n",
      "Le poids est de : 3 .\n",
      "Le pc est allumé.\n",
      "L'ordinateur a été déplacé de  a a  b\n",
      "___________________________________\n",
      "Le cpu est : d\n",
      "Le gpu est : e\n",
      "Le ram est de  : 5\n",
      "Le taille_disque_dur est de : 6\n",
      "Il y a : 7  ventilateurs.\n",
      "Le poids est de : 8 .\n",
      "Le pc est éteint.\n",
      "La piece : a a été remplacée par la pièce:  b\n"
     ]
    }
   ],
   "source": [
    "testOP = OrdinateurPortable(\"a\",\"b\",0,1,2,3,True,\"c\",4)\n",
    "testOF = OrdinateurFixe(\"d\",\"e\",5,6,7,8,False,\"f\")\n",
    "####TEST DE LA CLASSE OrdinateurPortable###\n",
    "testOP.afficher_details()\n",
    "testOP.deplacer(\"a\",\"b\")\n",
    "#testOP.modifier(\"a\",\"b\")   On note que cette fonction n'est pas accessible depuis la classe OrdinateurPortable\n",
    "####TEST DE LA CLASSE OrdinateurFixe###\n",
    "print(\"___________________________________\")\n",
    "testOF.afficher_details()\n",
    "testOF.modifier(\"a\",\"b\")"
   ]
  },
  {
   "cell_type": "code",
   "execution_count": null,
   "metadata": {},
   "outputs": [],
   "source": []
  },
  {
   "cell_type": "markdown",
   "metadata": {},
   "source": [
    "# Correction"
   ]
  },
  {
   "cell_type": "code",
   "execution_count": 19,
   "metadata": {},
   "outputs": [
    {
     "name": "stdout",
     "output_type": "stream",
     "text": [
      "Detail classe Ordinateur:\n",
      "{'cpu': 'intel', 'gpu': 'Nvidia', 'ram': 16, 'taille_disque_dur': 2, 'nbr_ventilateurs': 2, 'poids': 1, 'est_allume': True}\n",
      "\n",
      "Detail classe OrdinateurFixe:\n",
      "{'cpu': 'intel', 'gpu': 'Nvidia', 'ram': 32, 'taille_disque_dur': 1, 'nbr_ventilateurs': 2, 'poids': 1, 'est_allume': False, 'materiau_boitier': 'plastique'}\n",
      "\n",
      "Detail classe OrdinateurPortable:\n",
      "{'cpu': 'intel', 'gpu': 'Nvidia', 'ram': 8, 'taille_disque_dur': 1, 'nbr_ventilateurs': 2, 'poids': 1, 'est_allume': False, 'type_ecran': 15, 'taille_ecran': False}\n",
      "\n"
     ]
    }
   ],
   "source": [
    "class Ordinateur:\n",
    "    \n",
    "    def __init__(self, cpu, gpu, ram, taille_disque_dur, nbr_ventilateurs, poids, est_allume = False):\n",
    "        self.cpu = cpu\n",
    "        self.gpu = gpu\n",
    "        self.ram = ram\n",
    "        self.taille_disque_dur = taille_disque_dur\n",
    "        self.nbr_ventilateurs = nbr_ventilateurs\n",
    "        self.poids = poids\n",
    "        self.est_allume = est_allume\n",
    "    \n",
    "    def allumer(self):\n",
    "        if self.est_allume == False:\n",
    "            self.est_allume = True\n",
    "            print(\"L'ordinateur est allumé.\")\n",
    "        else:\n",
    "            print(\"L'ordinateur est déjà allumé.\")\n",
    "    \n",
    "    def eteindre(self):\n",
    "        if self.est_allume == True:\n",
    "            self.est_allume = False\n",
    "            print(\"L'ordinateur est éteint.\")\n",
    "        else:\n",
    "            print(\"L'ordinateur est déjà éteint.\")\n",
    "\n",
    "    def afficher_details(self):\n",
    "        return self.__dict__\n",
    "\n",
    "         \n",
    "            \n",
    "class OrdinateurFixe(Ordinateur):\n",
    "    \n",
    "    def __init__(self, cpu, gpu, ram, taille_disque_dur, nbr_ventilateurs, poids, materiau_boitier, est_allume = False):\n",
    "        super().__init__(cpu, gpu, ram, taille_disque_dur, nbr_ventilateurs, poids, est_allume)\n",
    "        self.materiau_boitier = materiau_boitier\n",
    "    \n",
    "    def modifier(self, piece_a, piece_b):\n",
    "        print(piece_a + \" a été remplacé par \" + piece_b) \n",
    "\n",
    "    \n",
    "class OrdinateurPortable(Ordinateur):\n",
    "    \n",
    "    def __init__(self, cpu, gpu, ram, taille_disque_dur, nbr_ventilateurs, poids, type_ecran, taille_ecran, est_allume = False):\n",
    "        super().__init__(cpu, gpu, ram, taille_disque_dur, nbr_ventilateurs, poids, est_allume)\n",
    "        self.type_ecran = type_ecran\n",
    "        self.taille_ecran = taille_ecran\n",
    "    \n",
    "    def deplacer(self, lieu_a, lieu_b):\n",
    "        print (\"L'ordinateur a été déplacé de \" + lieu_a + \" à \" + lieu_b)\n",
    "\n",
    "   \n",
    "        \n",
    "# Programme principal\n",
    "\n",
    "o = Ordinateur('intel','Nvidia', 16, 2, 2, 1, True)\n",
    "print('Detail classe Ordinateur:')\n",
    "print(o.afficher_details())\n",
    "print()\n",
    "\n",
    "of = OrdinateurFixe(\"intel\",\"Nvidia\",32,1,2,1,\"plastique\",False)\n",
    "print('Detail classe OrdinateurFixe:')\n",
    "print(of.afficher_details())\n",
    "print()\n",
    "\n",
    "op = OrdinateurPortable(\"intel\",\"Nvidia\",8,1,2,1,15,False)\n",
    "print('Detail classe OrdinateurPortable:')\n",
    "print(op.afficher_details())\n",
    "print()\n",
    "\n"
   ]
  }
 ],
 "metadata": {
  "kernelspec": {
   "display_name": "Python 3 (ipykernel)",
   "language": "python",
   "name": "python3"
  },
  "language_info": {
   "codemirror_mode": {
    "name": "ipython",
    "version": 3
   },
   "file_extension": ".py",
   "mimetype": "text/x-python",
   "name": "python",
   "nbconvert_exporter": "python",
   "pygments_lexer": "ipython3",
   "version": "3.9.6"
  }
 },
 "nbformat": 4,
 "nbformat_minor": 4
}
