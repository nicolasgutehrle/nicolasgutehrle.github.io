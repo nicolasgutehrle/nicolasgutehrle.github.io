{
 "cells": [
  {
   "cell_type": "markdown",
   "metadata": {},
   "source": [
    "# TD4 - Heritage - corrections"
   ]
  },
  {
   "cell_type": "markdown",
   "metadata": {},
   "source": [
    "## Exercice 1\n",
    "\n",
    "Faire une liste d'autres types de véhicule. Pour chacun, faire une liste (courte) de ses propriétés et méthodes"
   ]
  },
  {
   "cell_type": "markdown",
   "metadata": {},
   "source": [
    "## Solution\n",
    "\n",
    "* Voiture\n",
    "    * roues, portes, moteur, direction (volant), siege (fauteuil)\n",
    "    * démarrer\n",
    "\n",
    "* Camion\n",
    "    * roues, portes, moteur, remorque, direction(volant), siege (fauteuil)\n",
    "    * démarrer\n",
    "    \n",
    "* Moto\n",
    "    * roues, moteur, direction, siege (selle)\n",
    "    * démarrer\n",
    "    \n",
    "* Velo\n",
    "    * roues (2), direction (guidon), siege (selle)\n",
    "    * pédaler\n",
    "    \n",
    "* Trotinettes\n",
    "    * roues (2), direction (guidon), siege (support)\n",
    "    * trottiner\n",
    "* ...."
   ]
  },
  {
   "cell_type": "code",
   "execution_count": null,
   "metadata": {},
   "outputs": [],
   "source": []
  },
  {
   "cell_type": "markdown",
   "metadata": {},
   "source": [
    "## Exercice 2\n",
    "\n",
    "Implémentez en Python les classes ``Camion``, ``Moto`` ``Velo`` et ``Trotinette`` , avec les propriétés que l'on a notées. Indiquez les propriétés simplement, sans chercher à les privatiser. Ajoutez également simplement les méthodes (pédaler, trottiner, démarrer, ...). Affichez simplement le nom de la fonction à l'aide de la fonction ``print()``"
   ]
  },
  {
   "cell_type": "markdown",
   "metadata": {},
   "source": [
    "## Solution"
   ]
  },
  {
   "cell_type": "code",
   "execution_count": 11,
   "metadata": {},
   "outputs": [],
   "source": [
    "class Camion:\n",
    "    def __init__(self, roues, portes, moteur, remorque, direction, siege):\n",
    "        self.roues = roues\n",
    "        self.portes = portes,\n",
    "        self.moteur = moteur,\n",
    "        self.remorque = remorque\n",
    "        self.direction = direction\n",
    "        self.siege = siege\n",
    "    \n",
    "    def demarrer(self):\n",
    "        print('demarrer')\n",
    "        \n",
    "        \n",
    "class Moto:\n",
    "    def __init__(self, moteur, direction, siege):\n",
    "        self.roues = 2\n",
    "        self.moteur = moteur\n",
    "        self.direction = direction\n",
    "        self.siege = siege\n",
    "\n",
    "    def demarrer(self):\n",
    "        print('demarrer')\n",
    "        \n",
    "class Velo:\n",
    "    def __init__(self, direction, siege):\n",
    "        self.roues = 2\n",
    "        self.direction = direction\n",
    "        self.siege = siege\n",
    "        \n",
    "    def pedaler(self):\n",
    "        print('pedaler')\n",
    "        \n",
    "class Trotinette:\n",
    "    def __init__(self, direction, siege):\n",
    "        self.roues = 2\n",
    "        self.direction = direction\n",
    "        self.siege = siege\n",
    "    \n",
    "    def trottiner(self):\n",
    "        print('trottiner')"
   ]
  },
  {
   "cell_type": "code",
   "execution_count": null,
   "metadata": {},
   "outputs": [],
   "source": []
  },
  {
   "cell_type": "markdown",
   "metadata": {},
   "source": [
    "## Exercice 3\n",
    "\n",
    "Listez les points communs à toutes ces classes. Créez une classe Vehicule dont les propriétés seront ces points communs"
   ]
  },
  {
   "cell_type": "markdown",
   "metadata": {},
   "source": [
    "## Solution\n",
    "\n",
    "Les points communs sont:\n",
    "* roues\n",
    "* direction\n",
    "* siege"
   ]
  },
  {
   "cell_type": "code",
   "execution_count": 1,
   "metadata": {},
   "outputs": [],
   "source": [
    "class Vehicule:\n",
    "    def __init__(self, roues, direction, siege):\n",
    "        self.roues = roues\n",
    "        self.direction = direction\n",
    "        self.siege = siege"
   ]
  },
  {
   "cell_type": "code",
   "execution_count": null,
   "metadata": {},
   "outputs": [],
   "source": []
  },
  {
   "cell_type": "markdown",
   "metadata": {},
   "source": [
    "## Exercice 4\n",
    "\n",
    "Modifiez la classe Camion de telle sorte qu'elle n'ait aucune propriété qui soit également une propriété de la classe Vehicule. Créez ensuite une instance de la classe Camion, et affichez la valeur de la propriété ``roues``. Que remarquez-vous ?"
   ]
  },
  {
   "cell_type": "markdown",
   "metadata": {},
   "source": [
    "## Solution\n",
    "\n",
    "On remarque un message d'erreur, qui indique que la classe Camion n'a pas de propriété ``roues``"
   ]
  },
  {
   "cell_type": "code",
   "execution_count": 12,
   "metadata": {},
   "outputs": [],
   "source": [
    "class Camion:\n",
    "    def __init__(self, portes, moteur, remorque):\n",
    "        self.portes = portes,\n",
    "        self.moteur = moteur,\n",
    "        self.remorque = remorque\n",
    "        \n",
    "    def demarrer(self):\n",
    "        print('demarrer')"
   ]
  },
  {
   "cell_type": "code",
   "execution_count": 13,
   "metadata": {},
   "outputs": [
    {
     "ename": "AttributeError",
     "evalue": "'Camion' object has no attribute 'roues'",
     "output_type": "error",
     "traceback": [
      "\u001b[0;31m---------------------------------------------------------------------------\u001b[0m",
      "\u001b[0;31mAttributeError\u001b[0m                            Traceback (most recent call last)",
      "\u001b[0;32m<ipython-input-13-461727696c76>\u001b[0m in \u001b[0;36m<module>\u001b[0;34m\u001b[0m\n\u001b[1;32m      1\u001b[0m \u001b[0mc\u001b[0m \u001b[0;34m=\u001b[0m \u001b[0mCamion\u001b[0m\u001b[0;34m(\u001b[0m\u001b[0;36m2\u001b[0m\u001b[0;34m,\u001b[0m \u001b[0;34m'diesel'\u001b[0m\u001b[0;34m,\u001b[0m \u001b[0;32mTrue\u001b[0m\u001b[0;34m)\u001b[0m\u001b[0;34m\u001b[0m\u001b[0;34m\u001b[0m\u001b[0m\n\u001b[0;32m----> 2\u001b[0;31m \u001b[0mprint\u001b[0m\u001b[0;34m(\u001b[0m\u001b[0mc\u001b[0m\u001b[0;34m.\u001b[0m\u001b[0mroues\u001b[0m\u001b[0;34m)\u001b[0m\u001b[0;34m\u001b[0m\u001b[0;34m\u001b[0m\u001b[0m\n\u001b[0m",
      "\u001b[0;31mAttributeError\u001b[0m: 'Camion' object has no attribute 'roues'"
     ]
    }
   ],
   "source": [
    "c = Camion(2, 'diesel', True)\n",
    "print(c.roues)"
   ]
  },
  {
   "cell_type": "code",
   "execution_count": null,
   "metadata": {},
   "outputs": [],
   "source": []
  },
  {
   "cell_type": "markdown",
   "metadata": {},
   "source": [
    "## Exercice 5\n",
    "\n",
    "Modifiez la classe Camion de telle sorte à ce qu'elle hérite de la classe Vehicule. Pour cela, faites attention à:\n",
    "* Appeler la classe Vehicule dans la déclaration de la classe Camion\n",
    "* Appeller le super constructeur dans le constructeur de la classe Camion. Celui-ci ne doit prendre que les arguments demandés par la classe Vehicule\n",
    "* Modifier le constructeur de la classe Camion de telle sorte à ce qu'il n'ajoute que les propriétés propres à la classe Camion\n",
    "\n",
    "Créez ensuite une instance de la classe Camion, et affichez la valeur de la propriété ``roues``. Que remarquez-vous ?"
   ]
  },
  {
   "cell_type": "markdown",
   "metadata": {},
   "source": [
    "## Solution\n",
    "\n",
    "On remarque que cette fois, la classe ``Camion`` possède bien une propriété ``roues``, dont elle a hérité de la classe ``Vehicule``"
   ]
  },
  {
   "cell_type": "code",
   "execution_count": 14,
   "metadata": {},
   "outputs": [],
   "source": [
    "class Camion(Vehicule):\n",
    "    def __init__(self, roues, direction, siege, portes, moteur, remorque):\n",
    "        # on appelle le constructeur __init__ de la classe parente / supérieure\n",
    "        super().__init__(roues, direction, siege)\n",
    "        self.portes = portes,\n",
    "        self.moteur = moteur,\n",
    "        self.remorque = remorque\n",
    "        \n",
    "    def demarrer(self):\n",
    "        print('demarrer')"
   ]
  },
  {
   "cell_type": "code",
   "execution_count": 6,
   "metadata": {},
   "outputs": [
    {
     "name": "stdout",
     "output_type": "stream",
     "text": [
      "4\n"
     ]
    }
   ],
   "source": [
    "c = Camion(4, 'volant', 'fauteuil', 4, 'diesel', True)\n",
    "print(c.roues)"
   ]
  },
  {
   "cell_type": "markdown",
   "metadata": {},
   "source": [
    "## Exercice 6\n",
    "\n",
    "Modifiez les classes ``Moto``, ``Velo`` et ``Trotinette`` de la même manière que la classe ``Camion``. Une fois terminé, créez pour chacune une instance de la classe et vérifiez qu'elle possède une proprité ``roues``"
   ]
  },
  {
   "cell_type": "markdown",
   "metadata": {},
   "source": [
    "# Solution"
   ]
  },
  {
   "cell_type": "code",
   "execution_count": 8,
   "metadata": {},
   "outputs": [],
   "source": [
    "class Moto(Vehicule):\n",
    "    def __init__(self, roues, direction, siege, moteur):\n",
    "        super().__init__(roues, direction, siege)\n",
    "#         super().__init__(2, direction, siege)\n",
    "        self.moteur = moteur\n",
    "    \n",
    "    def demarrer(self):\n",
    "        print('demarrer')\n",
    "        \n",
    "class Velo(Vehicule):\n",
    "    def __init__(self, roues, direction, siege):\n",
    "        super().__init__(roues, direction, siege)\n",
    "#         super().__init__(2, direction, siege)\n",
    "\n",
    "    def pedaler(self):\n",
    "        print('pedaler')\n",
    "\n",
    "class Trotinette(Vehicule):\n",
    "    def __init__(self, roues, direction, siege):\n",
    "        super().__init__(roues, direction, siege)\n",
    "#         super().__init__(2, direction, siege)\n",
    "\n",
    "    def trottiner(self):\n",
    "        print('trottiner')\n"
   ]
  },
  {
   "cell_type": "code",
   "execution_count": 10,
   "metadata": {},
   "outputs": [
    {
     "name": "stdout",
     "output_type": "stream",
     "text": [
      "2 2 2\n"
     ]
    }
   ],
   "source": [
    "m = Moto(2, 'guidon', 'selle', 'diesel')\n",
    "v = Velo(2, 'guidon', 'selle')\n",
    "t = Trotinette(2, 'guidon', 'support')\n",
    "print(m.roues, v.roues, t.roues)"
   ]
  }
 ],
 "metadata": {
  "kernelspec": {
   "display_name": "Python 3 (ipykernel)",
   "language": "python",
   "name": "python3"
  },
  "language_info": {
   "codemirror_mode": {
    "name": "ipython",
    "version": 3
   },
   "file_extension": ".py",
   "mimetype": "text/x-python",
   "name": "python",
   "nbconvert_exporter": "python",
   "pygments_lexer": "ipython3",
   "version": "3.9.6"
  }
 },
 "nbformat": 4,
 "nbformat_minor": 4
}
