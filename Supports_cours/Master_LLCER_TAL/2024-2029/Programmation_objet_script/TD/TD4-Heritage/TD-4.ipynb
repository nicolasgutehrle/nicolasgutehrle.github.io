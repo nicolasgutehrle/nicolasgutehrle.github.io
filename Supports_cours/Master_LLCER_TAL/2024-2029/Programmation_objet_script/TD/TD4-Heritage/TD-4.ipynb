{
 "cells": [
  {
   "cell_type": "markdown",
   "metadata": {},
   "source": [
    "# TD4 - Heritage - corrections"
   ]
  },
  {
   "cell_type": "markdown",
   "metadata": {},
   "source": [
    "## Exercice 1\n",
    "\n",
    "Faire une liste d'autres types de véhicule. Pour chacun, faire une liste (courte) de ses propriétés et méthodes"
   ]
  },
  {
   "cell_type": "code",
   "execution_count": null,
   "metadata": {},
   "outputs": [],
   "source": []
  },
  {
   "cell_type": "markdown",
   "metadata": {
    "jp-MarkdownHeadingCollapsed": true,
    "tags": []
   },
   "source": [
    "## Solution\n",
    "\n",
    "* Voiture\n",
    "    * roues, portes, moteur, direction (volant), siege (fauteuil)\n",
    "    * démarrer\n",
    "\n",
    "* Camion\n",
    "    * roues, portes, moteur, remorque, direction(volant), siege (fauteuil)\n",
    "    * démarrer\n",
    "    \n",
    "* Moto\n",
    "    * roues, moteur, direction, siege (selle)\n",
    "    * démarrer\n",
    "    \n",
    "* Velo\n",
    "    * roues (2), direction (guidon), siege (selle)\n",
    "    * pédaler\n",
    "    \n",
    "* Trotinettes\n",
    "    * roues (2), direction (guidon), siege (support)\n",
    "    * trottiner\n",
    "* ...."
   ]
  },
  {
   "cell_type": "code",
   "execution_count": null,
   "metadata": {},
   "outputs": [],
   "source": []
  },
  {
   "cell_type": "markdown",
   "metadata": {},
   "source": [
    "## Exercice 2\n",
    "\n",
    "Implémentez en Python les classes ``Camion``, ``Moto`` ``Velo`` et ``Trotinette`` , avec les propriétés que l'on a notées. Indiquez les propriétés simplement, sans chercher à les privatiser. Ajoutez également simplement les méthodes (pédaler, trottiner, démarrer, ...). Affichez simplement le nom de la fonction à l'aide de la fonction ``print()``"
   ]
  },
  {
   "cell_type": "code",
   "execution_count": null,
   "metadata": {},
   "outputs": [],
   "source": []
  },
  {
   "cell_type": "markdown",
   "metadata": {},
   "source": [
    "## Solution"
   ]
  },
  {
   "cell_type": "code",
   "execution_count": 1,
   "metadata": {},
   "outputs": [],
   "source": [
    "class Camion:\n",
    "    def __init__(self, roues, portes, moteur, remorque, direction, siege):\n",
    "        self.roues = roues\n",
    "        self.portes = portes,\n",
    "        self.moteur = moteur,\n",
    "        self.remorque = remorque\n",
    "        self.direction = direction\n",
    "        self.siege = siege\n",
    "    \n",
    "    def demarrer(self):\n",
    "        print('demarrer')\n",
    "        \n",
    "        \n",
    "class Moto:\n",
    "    def __init__(self, moteur, direction, siege, roues = 2):\n",
    "        self.roues = 2\n",
    "        self.moteur = moteur\n",
    "        self.direction = direction\n",
    "        self.siege = siege\n",
    "\n",
    "    def demarrer(self):\n",
    "        print('demarrer')\n",
    "        \n",
    "class Velo:\n",
    "    def __init__(self, direction, siege):\n",
    "        self.roues = 2\n",
    "        self.direction = direction\n",
    "        self.siege = siege\n",
    "        \n",
    "    def pedaler(self):\n",
    "        print('pedaler')\n",
    "        \n",
    "class Trotinette:\n",
    "    def __init__(self, direction, siege):\n",
    "        self.roues = 2\n",
    "        self.direction = direction\n",
    "        self.siege = siege\n",
    "    \n",
    "    def trottiner(self):\n",
    "        print('trottiner')"
   ]
  },
  {
   "cell_type": "code",
   "execution_count": null,
   "metadata": {},
   "outputs": [],
   "source": []
  },
  {
   "cell_type": "markdown",
   "metadata": {},
   "source": [
    "## Exercice 3\n",
    "\n",
    "Listez les points communs à toutes ces classes. Créez une classe Vehicule dont les propriétés seront ces points communs"
   ]
  },
  {
   "cell_type": "code",
   "execution_count": null,
   "metadata": {},
   "outputs": [],
   "source": []
  },
  {
   "cell_type": "markdown",
   "metadata": {},
   "source": [
    "## Solution\n",
    "\n",
    "Les points communs sont:\n",
    "* roues\n",
    "* direction\n",
    "* siege"
   ]
  },
  {
   "cell_type": "code",
   "execution_count": 1,
   "metadata": {},
   "outputs": [],
   "source": [
    "class Vehicule:\n",
    "    def __init__(self, roues, direction, siege):\n",
    "        self.roues = roues\n",
    "        self.direction = direction\n",
    "        self.siege = siege"
   ]
  },
  {
   "cell_type": "code",
   "execution_count": 2,
   "metadata": {},
   "outputs": [
    {
     "name": "stdout",
     "output_type": "stream",
     "text": [
      "<__main__.Vehicule object at 0x7f79195d4a60>\n",
      "2\n"
     ]
    }
   ],
   "source": [
    "vehicule = Vehicule(2, 'guidon', 'selle')\n",
    "print(vehicule)\n",
    "print(vehicule.roues)"
   ]
  },
  {
   "cell_type": "markdown",
   "metadata": {},
   "source": [
    "## Exercice 4\n",
    "\n",
    "Modifiez la classe Camion de telle sorte qu'elle n'ait aucune propriété qui soit également une propriété de la classe Vehicule. Créez ensuite une instance de la classe Camion, et affichez la valeur de la propriété ``roues``. Que remarquez-vous ?"
   ]
  },
  {
   "cell_type": "code",
   "execution_count": null,
   "metadata": {},
   "outputs": [],
   "source": []
  },
  {
   "cell_type": "markdown",
   "metadata": {},
   "source": [
    "## Solution\n",
    "\n",
    "On remarque un message d'erreur, qui indique que la classe Camion n'a pas de propriété ``roues``"
   ]
  },
  {
   "cell_type": "code",
   "execution_count": 12,
   "metadata": {},
   "outputs": [],
   "source": [
    "class Camion:\n",
    "    def __init__(self, portes, moteur, remorque):\n",
    "        self.portes = portes,\n",
    "        self.moteur = moteur,\n",
    "        self.remorque = remorque\n",
    "        \n",
    "    def demarrer(self):\n",
    "        print('demarrer')"
   ]
  },
  {
   "cell_type": "code",
   "execution_count": 13,
   "metadata": {},
   "outputs": [
    {
     "ename": "AttributeError",
     "evalue": "'Camion' object has no attribute 'roues'",
     "output_type": "error",
     "traceback": [
      "\u001b[0;31m---------------------------------------------------------------------------\u001b[0m",
      "\u001b[0;31mAttributeError\u001b[0m                            Traceback (most recent call last)",
      "\u001b[0;32m<ipython-input-13-461727696c76>\u001b[0m in \u001b[0;36m<module>\u001b[0;34m\u001b[0m\n\u001b[1;32m      1\u001b[0m \u001b[0mc\u001b[0m \u001b[0;34m=\u001b[0m \u001b[0mCamion\u001b[0m\u001b[0;34m(\u001b[0m\u001b[0;36m2\u001b[0m\u001b[0;34m,\u001b[0m \u001b[0;34m'diesel'\u001b[0m\u001b[0;34m,\u001b[0m \u001b[0;32mTrue\u001b[0m\u001b[0;34m)\u001b[0m\u001b[0;34m\u001b[0m\u001b[0;34m\u001b[0m\u001b[0m\n\u001b[0;32m----> 2\u001b[0;31m \u001b[0mprint\u001b[0m\u001b[0;34m(\u001b[0m\u001b[0mc\u001b[0m\u001b[0;34m.\u001b[0m\u001b[0mroues\u001b[0m\u001b[0;34m)\u001b[0m\u001b[0;34m\u001b[0m\u001b[0;34m\u001b[0m\u001b[0m\n\u001b[0m",
      "\u001b[0;31mAttributeError\u001b[0m: 'Camion' object has no attribute 'roues'"
     ]
    }
   ],
   "source": [
    "c = Camion(2, 'diesel', True)\n",
    "print(c.roues)"
   ]
  },
  {
   "cell_type": "code",
   "execution_count": null,
   "metadata": {},
   "outputs": [],
   "source": []
  },
  {
   "cell_type": "markdown",
   "metadata": {},
   "source": [
    "## Exercice 5\n",
    "\n",
    "Modifiez la classe Camion de telle sorte à ce qu'elle hérite de la classe Vehicule. Pour cela, faites attention à:\n",
    "* Appeler la classe Vehicule dans la déclaration de la classe Camion\n",
    "* Appeller le super constructeur dans le constructeur de la classe Camion. Celui-ci ne doit prendre que les arguments demandés par la classe Vehicule\n",
    "* Modifier le constructeur de la classe Camion de telle sorte à ce qu'il n'ajoute que les propriétés propres à la classe Camion\n",
    "\n",
    "Créez ensuite une instance de la classe Camion, et affichez la valeur de la propriété ``roues``. Que remarquez-vous ?"
   ]
  },
  {
   "cell_type": "code",
   "execution_count": null,
   "metadata": {},
   "outputs": [],
   "source": []
  },
  {
   "cell_type": "markdown",
   "metadata": {},
   "source": [
    "## Solution\n",
    "\n",
    "On remarque que cette fois, la classe ``Camion`` possède bien une propriété ``roues``, dont elle a hérité de la classe ``Vehicule``"
   ]
  },
  {
   "cell_type": "code",
   "execution_count": 14,
   "metadata": {},
   "outputs": [],
   "source": [
    "class Camion(Vehicule):\n",
    "    def __init__(self, roues, direction, siege, portes, moteur, remorque):\n",
    "        # on appelle le constructeur __init__ de la classe parente / supérieure\n",
    "        super().__init__(roues, direction, siege)\n",
    "        self.portes = portes,\n",
    "        self.moteur = moteur,\n",
    "        self.remorque = remorque\n",
    "        \n",
    "    def demarrer(self):\n",
    "        print('demarrer')"
   ]
  },
  {
   "cell_type": "code",
   "execution_count": 6,
   "metadata": {},
   "outputs": [
    {
     "name": "stdout",
     "output_type": "stream",
     "text": [
      "4\n"
     ]
    }
   ],
   "source": [
    "c = Camion(4, 'volant', 'fauteuil', 4, 'diesel', True)\n",
    "print(c.roues)"
   ]
  },
  {
   "cell_type": "markdown",
   "metadata": {},
   "source": [
    "## Exercice 6\n",
    "\n",
    "Modifiez les classes ``Moto``, ``Velo`` et ``Trotinette`` de la même manière que la classe ``Camion``. Une fois terminé, créez pour chacune une instance de la classe et vérifiez qu'elle possède une proprité ``roues``"
   ]
  },
  {
   "cell_type": "code",
   "execution_count": null,
   "metadata": {},
   "outputs": [],
   "source": []
  },
  {
   "cell_type": "markdown",
   "metadata": {},
   "source": [
    "# Solution"
   ]
  },
  {
   "cell_type": "code",
   "execution_count": 8,
   "metadata": {},
   "outputs": [],
   "source": [
    "class Moto(Vehicule):\n",
    "    def __init__(self, roues, direction, siege, moteur):\n",
    "        super().__init__(roues, direction, siege)\n",
    "#         super().__init__(2, direction, siege)\n",
    "        self.moteur = moteur\n",
    "    \n",
    "    def demarrer(self):\n",
    "        print('demarrer')\n",
    "        \n",
    "class Velo(Vehicule):\n",
    "    def __init__(self, roues, direction, siege):\n",
    "        super().__init__(roues, direction, siege)\n",
    "#         super().__init__(2, direction, siege)\n",
    "\n",
    "    def pedaler(self):\n",
    "        print('pedaler')\n",
    "\n",
    "class Trotinette(Vehicule):\n",
    "    def __init__(self, roues, direction, siege):\n",
    "        super().__init__(roues, direction, siege)\n",
    "#         super().__init__(2, direction, siege)\n",
    "\n",
    "    def trottiner(self):\n",
    "        print('trottiner')\n"
   ]
  },
  {
   "cell_type": "code",
   "execution_count": 10,
   "metadata": {},
   "outputs": [
    {
     "name": "stdout",
     "output_type": "stream",
     "text": [
      "2 2 2\n"
     ]
    }
   ],
   "source": [
    "m = Moto(2, 'guidon', 'selle', 'diesel')\n",
    "v = Velo(2, 'guidon', 'selle')\n",
    "t = Trotinette(2, 'guidon', 'support')\n",
    "print(m.roues, v.roues, t.roues)"
   ]
  },
  {
   "cell_type": "markdown",
   "metadata": {},
   "source": [
    "## Exercice 7\n",
    "\n",
    "D'un côté, faire la liste des éléments communs aux classes ``Camion``, ``Moto`` et ``Voiture``, et de d'autre les points communs aux classes ``Velo`` et ``Trottinette``\n"
   ]
  },
  {
   "cell_type": "code",
   "execution_count": null,
   "metadata": {},
   "outputs": [],
   "source": []
  },
  {
   "cell_type": "markdown",
   "metadata": {},
   "source": [
    "\n",
    "## Solution\n",
    "* Camion, Voiture, Moto:\n",
    "    * moteur\n",
    "    * démarrer\n",
    "* Velo, Trottinette\n",
    "    * roues (2),  direction, siege\n",
    "    \n",
    "Parmi ces véhicules, on distingue 2 sous-classes: les véhicules à moteur, et ceux sans moteur"
   ]
  },
  {
   "cell_type": "markdown",
   "metadata": {},
   "source": [
    "## Exercice 8\n",
    "\n",
    "Implémentez le diagramme ci-dessous:\n",
    "\n",
    "<img src='dia1.png'>"
   ]
  },
  {
   "cell_type": "code",
   "execution_count": null,
   "metadata": {},
   "outputs": [],
   "source": []
  },
  {
   "cell_type": "markdown",
   "metadata": {},
   "source": [
    "## Solution"
   ]
  },
  {
   "cell_type": "code",
   "execution_count": null,
   "metadata": {},
   "outputs": [],
   "source": [
    "class Vehicule:\n",
    "    def __init__(self, roues, direction, siege):\n",
    "        self.roues = roues\n",
    "        self.direction = direction\n",
    "        self.siege = siege"
   ]
  },
  {
   "cell_type": "code",
   "execution_count": null,
   "metadata": {},
   "outputs": [],
   "source": [
    "class VehiculeAMoteur(Vehicule):\n",
    "    def __init__(self,roues, direction, siege, moteur):\n",
    "        super().__init__(roues, direction, siege)\n",
    "        self.moteur = moteur\n",
    "            \n",
    "    def demarrer(self):\n",
    "        print('Le vehicule demarre')\n",
    "        \n",
    "class Voiture(VehiculeAMoteur):\n",
    "    def __init__(self, roues, direction, siege, moteur, portes):\n",
    "        super().__init__(roues, direction, siege, moteur)\n",
    "        self.portes = portes\n",
    "\n",
    "class Camion(VehiculeAMoteur):\n",
    "    def __init__(self, roues, direction, siege, moteur):\n",
    "        super().__init__(roues, direction, siege, moteur)\n",
    "        self.portes = 2,\n",
    "        self.remorque = True\n",
    "\n",
    "class Moto(VehiculeAMoteur):\n",
    "    def __init__(self, direction, siege, moteur):\n",
    "        super().__init__(2, direction, siege, moteur)\n"
   ]
  },
  {
   "cell_type": "code",
   "execution_count": null,
   "metadata": {},
   "outputs": [],
   "source": [
    "class VehiculeSansMoteur(Vehicule):\n",
    "    def __init__(self, roues, direction, siege):\n",
    "        super().__init__(roues, direction, siege)\n",
    "        \n",
    "class Velo(VehiculeSansMoteur):\n",
    "    def __init__(self, direction, siege):\n",
    "        super().__init__(roues, direction, siege)\n",
    "\n",
    "    def pedaler(self):\n",
    "        print('pedaler')\n",
    "\n",
    "class Trottinette(VehiculeSansMoteur):\n",
    "    def __init__(self, direction, siege):\n",
    "        super().__init__(2, direction, siege)\n",
    "\n",
    "    def trottiner(self):\n",
    "        print('trottiner')\n"
   ]
  },
  {
   "cell_type": "code",
   "execution_count": null,
   "metadata": {},
   "outputs": [],
   "source": []
  },
  {
   "cell_type": "markdown",
   "metadata": {},
   "source": [
    "# Exercice 9\n",
    "\n",
    "Commentez toutes les méthodes (démarrer, pédaler, trottiner), de telle sorte à ce qu'elle ne soit plus utilisable. Ajoutez une fonction ``demarrer`` à la classe ``Vehicule`` qui affiche le message ``Le véhicule démarre``. Appelez ensuite cette méthode depuis une instance de la classe Vehicule et d'une de ses sous-classes (Velo, oto, Camion, ...)"
   ]
  },
  {
   "cell_type": "code",
   "execution_count": null,
   "metadata": {},
   "outputs": [],
   "source": []
  },
  {
   "attachments": {},
   "cell_type": "markdown",
   "metadata": {},
   "source": [
    "# Solution"
   ]
  },
  {
   "cell_type": "code",
   "execution_count": null,
   "metadata": {},
   "outputs": [],
   "source": [
    "class Vehicule:\n",
    "    def __init__(self, roues, direction, siege):\n",
    "        self.roues = roues\n",
    "        self.direction = direction\n",
    "        self.siege = siege\n",
    "        \n",
    "    def demarrer(self):\n",
    "        print(\"Le véhicule démarre\")"
   ]
  },
  {
   "cell_type": "code",
   "execution_count": null,
   "metadata": {},
   "outputs": [],
   "source": [
    "class VehiculeAMoteur(Vehicule):\n",
    "    def __init__(self,roues, direction, siege, moteur):\n",
    "        super().__init__(roues, direction, siege)\n",
    "        self.moteur = moteur\n",
    "            \n",
    "#     def demarrer(self):\n",
    "#         print('Le vehicule demarre')\n",
    "        \n",
    "class Voiture(VehiculeAMoteur):\n",
    "    def __init__(self, roues, direction, siege, moteur, portes):\n",
    "        super().__init__(roues, direction, siege, moteur)\n",
    "        self.portes = portes,\n",
    "\n",
    "class Camion(VehiculeAMoteur):\n",
    "    def __init__(self, roues, direction, siege, moteur):\n",
    "        super().__init__(roues, direction, siege, moteur)\n",
    "        self.portes = 2,\n",
    "        self.remorque = True\n",
    "\n",
    "class Moto(VehiculeAMoteur):\n",
    "    def __init__(self, direction, siege, moteur):\n",
    "        super().__init__(2, direction, siege, moteur)\n",
    "        self.moteur = moteur\n"
   ]
  },
  {
   "cell_type": "code",
   "execution_count": null,
   "metadata": {},
   "outputs": [],
   "source": [
    "class VehiculeSansMoteur(Vehicule):\n",
    "    def __init__(self, roues, direction, siege):\n",
    "        super().__init__(roues, direction, siege)\n",
    "        \n",
    "class Velo(VehiculeSansMoteur):\n",
    "    def __init__(self, roues, direction, siege):\n",
    "        super().__init__(2, direction, siege)\n",
    "\n",
    "#     def pedaler(self):\n",
    "#         print('pedaler')\n",
    "\n",
    "class Trottinette(VehiculeSansMoteur):\n",
    "    def __init__(self, roues, direction, siege):\n",
    "        super().__init__(roues, direction, siege)\n",
    "#         super().__init__(2, direction, siege)\n",
    "\n",
    "#     def trottiner(self):\n",
    "#         print('trottiner')\n"
   ]
  },
  {
   "cell_type": "code",
   "execution_count": null,
   "metadata": {},
   "outputs": [
    {
     "name": "stdout",
     "output_type": "stream",
     "text": [
      "Le véhicule démarre\n"
     ]
    }
   ],
   "source": [
    "v = Vehicule(4, 'volant', 'fauteuil')\n",
    "v.demarrer()"
   ]
  },
  {
   "cell_type": "code",
   "execution_count": null,
   "metadata": {},
   "outputs": [
    {
     "name": "stdout",
     "output_type": "stream",
     "text": [
      "Le véhicule démarre\n"
     ]
    }
   ],
   "source": [
    "moto = Moto('guidon', 'selle', 'essence')\n",
    "moto.demarrer()"
   ]
  },
  {
   "cell_type": "code",
   "execution_count": null,
   "metadata": {},
   "outputs": [],
   "source": []
  },
  {
   "cell_type": "markdown",
   "metadata": {},
   "source": [
    "## Exercice 10\n",
    "\n",
    "Ajoutez maintenant une fonction ``demarrer`` aux classes ``VehiculeAMoteur`` et ``VehiculeSansMoteur``. Dans ces fonctions, affichez respectivement:\n",
    "* Le véhicule à moteur démarre\n",
    "* Le véhicule sans moteur démarre\n",
    "\n",
    "Créez ensuite une instance de ces deux classes et appelez la fonction ``demarrer``. Que remarquez-vous ?"
   ]
  },
  {
   "cell_type": "code",
   "execution_count": null,
   "metadata": {},
   "outputs": [],
   "source": []
  },
  {
   "attachments": {},
   "cell_type": "markdown",
   "metadata": {},
   "source": [
    "# Solution"
   ]
  },
  {
   "cell_type": "code",
   "execution_count": null,
   "metadata": {},
   "outputs": [],
   "source": [
    "class VehiculeAMoteur(Vehicule):\n",
    "    def __init__(self,roues, direction, siege, moteur):\n",
    "        super().__init__(roues, direction, siege)\n",
    "        self.moteur = moteur\n",
    "        \n",
    "    def demarrer(self):\n",
    "        print('Le véhicule à moteur démarre')\n",
    "        \n",
    "class VehiculeSansMoteur(Vehicule):\n",
    "    def __init__(self, roues, direction, siege):\n",
    "        super().__init__(roues, direction, siege)\n",
    "        \n",
    "    def demarrer(self):\n",
    "        print('Le véhicule sans moteur démarre')"
   ]
  },
  {
   "cell_type": "code",
   "execution_count": null,
   "metadata": {},
   "outputs": [
    {
     "name": "stdout",
     "output_type": "stream",
     "text": [
      "Le véhicule à moteur démarre\n"
     ]
    }
   ],
   "source": [
    "vam = VehiculeAMoteur(2, 'volant', 'selle', 'essence')\n",
    "vam.demarrer()"
   ]
  },
  {
   "cell_type": "code",
   "execution_count": null,
   "metadata": {},
   "outputs": [
    {
     "name": "stdout",
     "output_type": "stream",
     "text": [
      "Le véhicule sans moteur démarre\n"
     ]
    }
   ],
   "source": [
    "vsm = VehiculeSansMoteur(2, 'volant', 'selle')\n",
    "vsm.demarrer()"
   ]
  },
  {
   "cell_type": "code",
   "execution_count": null,
   "metadata": {},
   "outputs": [],
   "source": []
  },
  {
   "cell_type": "markdown",
   "metadata": {},
   "source": [
    "# Exercice 11\n",
    "\n",
    "Ajoutez une méthode ``demarrer`` aux autres classes, affichant respectivement les messages suivant:\n",
    "* Pour le Camion, la Voiture et la Moto : Le camion / La Voiture / La moto démarre\n",
    "* Pour le Vélo: Le vélo pédale\n",
    "* Pour la Trottinette: La trottinette se propulse\n",
    "\n",
    "Créez ensuite une instance de chacune de ces classes et appelez la méthode ``demarrer``"
   ]
  },
  {
   "cell_type": "code",
   "execution_count": null,
   "metadata": {},
   "outputs": [],
   "source": []
  },
  {
   "attachments": {},
   "cell_type": "markdown",
   "metadata": {},
   "source": [
    "# Solution"
   ]
  },
  {
   "cell_type": "code",
   "execution_count": null,
   "metadata": {},
   "outputs": [],
   "source": [
    "class Voiture(VehiculeAMoteur):\n",
    "    def __init__(self, roues, direction, siege, moteur, portes):\n",
    "        super().__init__(roues, direction, siege, moteur)\n",
    "        self.portes = portes\n",
    "        \n",
    "    def demarrer(self):\n",
    "        print(\"La voiture démarre\")\n",
    "\n",
    "class Camion(VehiculeAMoteur):\n",
    "    def __init__(self, roues, direction, siege, moteur):\n",
    "        super().__init__(roues, direction, siege, moteur)\n",
    "        self.portes = 2,\n",
    "        self.remorque = True\n",
    "        \n",
    "    def demarrer(self):\n",
    "        print(\"Le camion démarre\")\n",
    "\n",
    "class Moto(VehiculeAMoteur):\n",
    "    def __init__(self, direction, siege, moteur):\n",
    "        super().__init__(2, direction, siege, moteur)\n",
    "        self.moteur = moteur\n",
    "        \n",
    "    def demarrer(self):\n",
    "        print(\"La moto démarre\")\n",
    "        \n",
    "class Velo(VehiculeSansMoteur):\n",
    "    def __init__(self, roues, direction, siege):\n",
    "        super().__init__(2, direction, siege)\n",
    "\n",
    "    def demarrer(self):\n",
    "        print(\"Le vélo pédale\")    \n",
    "\n",
    "class Trottinette(VehiculeSansMoteur):\n",
    "    def __init__(self, roues, direction, siege):\n",
    "        super().__init__(roues, direction, siege)\n",
    "\n",
    "    def demarrer(self):\n",
    "        print(\"La trottinette se propulse\")  "
   ]
  },
  {
   "cell_type": "code",
   "execution_count": null,
   "metadata": {},
   "outputs": [
    {
     "name": "stdout",
     "output_type": "stream",
     "text": [
      "La voiture démarre\n"
     ]
    }
   ],
   "source": [
    "voiture = Voiture(4, 'volant', 'fauteuil', 'essence', 5)\n",
    "voiture.demarrer()"
   ]
  },
  {
   "cell_type": "code",
   "execution_count": null,
   "metadata": {},
   "outputs": [
    {
     "name": "stdout",
     "output_type": "stream",
     "text": [
      "Le camion démarre\n"
     ]
    }
   ],
   "source": [
    "camion = Camion(4, 'volant', 'fauteuil', 'essence')\n",
    "camion.demarrer()"
   ]
  },
  {
   "cell_type": "code",
   "execution_count": null,
   "metadata": {},
   "outputs": [
    {
     "name": "stdout",
     "output_type": "stream",
     "text": [
      "Le vélo pédale\n"
     ]
    }
   ],
   "source": [
    "velo = Velo(2, 'guidon', 'selle')\n",
    "velo.demarrer()"
   ]
  },
  {
   "cell_type": "code",
   "execution_count": null,
   "metadata": {},
   "outputs": [
    {
     "name": "stdout",
     "output_type": "stream",
     "text": [
      "La trottinette se propulse\n"
     ]
    }
   ],
   "source": [
    "trottinette = Trottinette(4, 'guidon', 'support')\n",
    "trottinette.demarrer()"
   ]
  }
 ],
 "metadata": {
  "kernelspec": {
   "display_name": "Python 3.9.10 64-bit",
   "language": "python",
   "name": "python3"
  },
  "language_info": {
   "codemirror_mode": {
    "name": "ipython",
    "version": 3
   },
   "file_extension": ".py",
   "mimetype": "text/x-python",
   "name": "python",
   "nbconvert_exporter": "python",
   "pygments_lexer": "ipython3",
   "version": "3.9.10 (main, Jan 15 2022, 11:40:53) \n[Clang 13.0.0 (clang-1300.0.29.3)]"
  },
  "vscode": {
   "interpreter": {
    "hash": "b0fa6594d8f4cbf19f97940f81e996739fb7646882a419484c72d19e05852a7e"
   }
  }
 },
 "nbformat": 4,
 "nbformat_minor": 4
}
