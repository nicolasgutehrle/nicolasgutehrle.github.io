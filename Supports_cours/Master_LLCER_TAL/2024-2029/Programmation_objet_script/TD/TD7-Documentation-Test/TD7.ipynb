{
 "cells": [
  {
   "attachments": {},
   "cell_type": "markdown",
   "metadata": {},
   "source": [
    "# TD7 - Documentation des packages et tests"
   ]
  },
  {
   "attachments": {},
   "cell_type": "markdown",
   "metadata": {},
   "source": [
    "## Exercice 1\n",
    "\n",
    "Créez un environnement virtuel nommé **venv** dans le dossier \"exerciceTD7\", puis activez le.\n",
    "\n",
    "Dans cet environnement, installez le package **sphinx**, **sphinx_rtd_theme**, **setuptools** et **pytest**\n",
    "\n"
   ]
  },
  {
   "cell_type": "code",
   "execution_count": null,
   "metadata": {},
   "outputs": [],
   "source": []
  },
  {
   "attachments": {},
   "cell_type": "markdown",
   "metadata": {},
   "source": [
    "# Solution :"
   ]
  },
  {
   "cell_type": "code",
   "execution_count": null,
   "metadata": {},
   "outputs": [],
   "source": [
    "# UNIX\n",
    "!python -m venv venv\n",
    "!source venv/bin/activate\n",
    "!pip install sphinx\n",
    "!pip install sphinx_rtd_theme\n",
    "!pip install pytest\n",
    "!pip install setuptools\n",
    "\n",
    "\n",
    "\n",
    "# Windows\n",
    "!python -m venv venv\n",
    "!source venv/Scripts/activate.bat\n",
    "!pip install sphinx\n",
    "!pip install sphinx_rtd_theme\n",
    "!pip install pytest\n",
    "!pip install setuptools"
   ]
  },
  {
   "attachments": {},
   "cell_type": "markdown",
   "metadata": {},
   "source": [
    "# Exercice 2\n",
    "\n",
    "Rédigez des tests pour valider le bon fonctionnement des méthodes **calculerPopularité** des classes Perso, Image et Blogging et le bon fonctionnement de la fonction **plusPopulaire**. N'oubliez pas de lancer la commande **pytest** pour valider vos tests.\n",
    "\n",
    "Vous n'hésiterez pas à employer les décorateurs proposés par **pytest** pour simplifier votre code. Vous penserez également à documenter votre code."
   ]
  },
  {
   "cell_type": "code",
   "execution_count": null,
   "metadata": {},
   "outputs": [],
   "source": []
  },
  {
   "attachments": {},
   "cell_type": "markdown",
   "metadata": {},
   "source": [
    "# Solution\n",
    "\n",
    "Voir fichiers exerciceTD7-correction/tests/test_reseausocial.py et test_utils.py"
   ]
  },
  {
   "cell_type": "code",
   "execution_count": null,
   "metadata": {},
   "outputs": [],
   "source": []
  },
  {
   "attachments": {},
   "cell_type": "markdown",
   "metadata": {},
   "source": [
    "# Exercice 3\n",
    "\n",
    "Utilisez ensuite l'outil sphinx pour générer les pages de documentations de votre code. Vous vous appuierez pour cela sur le CM. Cette documentation sera contenue dans un dossier docs."
   ]
  },
  {
   "cell_type": "code",
   "execution_count": null,
   "metadata": {},
   "outputs": [],
   "source": []
  },
  {
   "attachments": {},
   "cell_type": "markdown",
   "metadata": {},
   "source": [
    "# Solution\n",
    "\n",
    "Exécutez d'abord les commandes suivantes :"
   ]
  },
  {
   "cell_type": "code",
   "execution_count": 1,
   "metadata": {},
   "outputs": [
    {
     "name": "stdout",
     "output_type": "stream",
     "text": [
      "\u001b[01mWelcome to the Sphinx 6.1.3 quickstart utility.\u001b[39;49;00m\n",
      "\n",
      "Please enter values for the following settings (just press Enter to\n",
      "accept a default value, if one is given in brackets).\n",
      "\n",
      "\u001b[01mSelected root path: .\u001b[39;49;00m\n",
      "\n",
      "You have two options for placing the build directory for Sphinx output.\n",
      "Either, you use a directory \"_build\" within the root path, or you separate\n",
      "\"source\" and \"build\" directories within the root path.\n",
      "\u001b[35m> Separate source and build directories (y/n) [n]: \u001b[39;49;00m\n",
      "[Interrupted.]\n"
     ]
    }
   ],
   "source": [
    "# en etant dans le dossier exerciceTD6 et après avoir activé le venv\n",
    "!mkdir docs\n",
    "!cd docs\n",
    "!sphinx-quickstart --ext-autodoc"
   ]
  },
  {
   "attachments": {},
   "cell_type": "markdown",
   "metadata": {},
   "source": [
    "Après cette commande, on modifie le fichier conf.py et index.rst.\n",
    "\n",
    "Dans le fichier **conf.py**\n"
   ]
  },
  {
   "cell_type": "code",
   "execution_count": null,
   "metadata": {},
   "outputs": [],
   "source": [
    "import os \n",
    "import sys\n",
    "sys.path.insert(0, os.path.abspath('../'))\n",
    "\n",
    "# ...\n",
    "# cette partie est optionnelle\n",
    "html_theme = 'sphinx_rtd_theme'\n"
   ]
  },
  {
   "attachments": {},
   "cell_type": "markdown",
   "metadata": {},
   "source": [
    "Dans le fichier **index.rst**, ajoutez 'module' dans la section toctree"
   ]
  },
  {
   "cell_type": "code",
   "execution_count": null,
   "metadata": {},
   "outputs": [],
   "source": [
    "!sphinx-apidoc -o . ../reseausocial\n",
    "!make html"
   ]
  },
  {
   "cell_type": "code",
   "execution_count": null,
   "metadata": {},
   "outputs": [],
   "source": []
  },
  {
   "attachments": {},
   "cell_type": "markdown",
   "metadata": {},
   "source": [
    "# Exercice 4\n",
    "\n",
    "A l'aide de l'outil **setuptools**, faites en sorte que votre package soit installable avec pip. Vous penserez à enregistrer les dépendances dans un fichier **requirements.txt**. Vous testerez la bonne installation de votre package depuis un terminal Python (pour cela, lancer la commande python dans un terminal)."
   ]
  },
  {
   "cell_type": "code",
   "execution_count": null,
   "metadata": {},
   "outputs": [],
   "source": []
  },
  {
   "attachments": {},
   "cell_type": "markdown",
   "metadata": {},
   "source": [
    "# Solution\n",
    "\n",
    "voir le fichier **exerciceTD7-correction/setup.py**"
   ]
  },
  {
   "cell_type": "code",
   "execution_count": null,
   "metadata": {},
   "outputs": [],
   "source": [
    "# pour les dépendances :\n",
    "!pip freeze > requirements.txt\n",
    "\n",
    "# pour l'installation du package\n",
    "!pip install ."
   ]
  }
 ],
 "metadata": {
  "kernelspec": {
   "display_name": "Python 3",
   "language": "python",
   "name": "python3"
  },
  "language_info": {
   "codemirror_mode": {
    "name": "ipython",
    "version": 3
   },
   "file_extension": ".py",
   "mimetype": "text/x-python",
   "name": "python",
   "nbconvert_exporter": "python",
   "pygments_lexer": "ipython3",
   "version": "3.9.10"
  },
  "vscode": {
   "interpreter": {
    "hash": "b0fa6594d8f4cbf19f97940f81e996739fb7646882a419484c72d19e05852a7e"
   }
  }
 },
 "nbformat": 4,
 "nbformat_minor": 4
}
