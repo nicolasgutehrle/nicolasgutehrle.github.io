{
 "cells": [
  {
   "attachments": {},
   "cell_type": "markdown",
   "metadata": {},
   "source": [
    "# Exercices\n"
   ]
  },
  {
   "attachments": {},
   "cell_type": "markdown",
   "metadata": {},
   "source": [
    "# Exercice 1\n",
    "\n",
    "Continuez à modifier la classe Voiture selon les étapes suivantes:\n",
    "\n",
    "Modifiez les attributs ``self.nbr_portes``, ``self.moteur`` et ``self.boite`` de telle sorte à ce qu'ils deviennet privés. Vous ajouterez les getters et les setters correspondant. \n",
    "\n",
    "Assurez vous que la méthode ``afficher_details`` soit toujours fonctionnelle après ces modifications. \n",
    "\n",
    "\n",
    "\n",
    "Créez une instance de la classe ``Voiture`` puis appelez dans l'ordre les méthodes ``getPortes``, ``getMoteur``, ``getBoite``, ``getPrix`` et ``afficher_details``"
   ]
  },
  {
   "cell_type": "markdown",
   "metadata": {},
   "source": [
    "# Exercice 2\n",
    "\n",
    "Ajoutez la document à la classe ``Voiture``. Vous devez documenter:\n",
    "* La classe elle-même\n",
    "* Toutes ses méthodes\n",
    "* Décrire à l'aide de commentaires ce qui se passe au sein des méthodes\n",
    "\n",
    "Une fois terminé, affichez la documentation à l'aide de la fonction ``help()``."
   ]
  }
 ],
 "metadata": {
  "kernelspec": {
   "display_name": "Python 3",
   "language": "python",
   "name": "python3"
  },
  "language_info": {
   "codemirror_mode": {
    "name": "ipython",
    "version": 3
   },
   "file_extension": ".py",
   "mimetype": "text/x-python",
   "name": "python",
   "nbconvert_exporter": "python",
   "pygments_lexer": "ipython3",
   "version": "3.9.10 (main, Jan 15 2022, 11:40:53) \n[Clang 13.0.0 (clang-1300.0.29.3)]"
  },
  "vscode": {
   "interpreter": {
    "hash": "b0fa6594d8f4cbf19f97940f81e996739fb7646882a419484c72d19e05852a7e"
   }
  }
 },
 "nbformat": 4,
 "nbformat_minor": 4
}
