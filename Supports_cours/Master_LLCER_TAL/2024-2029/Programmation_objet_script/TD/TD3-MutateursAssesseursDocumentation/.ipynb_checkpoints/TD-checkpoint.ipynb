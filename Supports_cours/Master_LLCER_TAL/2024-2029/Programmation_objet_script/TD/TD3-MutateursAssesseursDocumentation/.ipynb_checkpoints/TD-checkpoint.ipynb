{
 "cells": [
  {
   "cell_type": "markdown",
   "metadata": {},
   "source": [
    "# TD4 - Getters, Setters et documentation"
   ]
  },
  {
   "cell_type": "code",
   "execution_count": 21,
   "metadata": {},
   "outputs": [],
   "source": [
    "class Voiture:\n",
    "    def __init__(self, marque, moteur, nbr_portes, boite, prix):\n",
    "        self.marque = marque\n",
    "        self.moteur = moteur\n",
    "        self.nbr_portes = nbr_portes\n",
    "        self.boite = boite\n",
    "        self.prix = prix\n",
    "        \n",
    "    def afficher_details(self):\n",
    "        proprietes = {\n",
    "            \"Marque\": self.marque,\n",
    "            \"Moteur\": self.moteur,\n",
    "            \"Nombre_portes\": self.nbr_portes,\n",
    "            \"Boite\": self.boite,\n",
    "            \"Prix\": self.prix\n",
    "        }\n",
    "        print(proprietes)\n",
    "    \n",
    "    def changer_nbr_portes(self, nbr_portes):\n",
    "        self.nbr_portes = nbr_portes\n",
    "        if nbr_portes <= 3:\n",
    "            self.changer_prix(30000)\n",
    "        elif nbr_portes == 4:\n",
    "            self.changer_prix(40000)\n",
    "        else:\n",
    "            self.changer_prix(50000)\n",
    "    \n",
    "    def changer_prix(self, nvx_prix):\n",
    "        self.prix = nvx_prix\n",
    "        print(\"Nouveau prix :\", self.prix)"
   ]
  },
  {
   "cell_type": "markdown",
   "metadata": {},
   "source": [
    "## Exercice 1\n",
    "\n",
    "Ajoutez une fonction privée nommée ``setPrix`` à la classe ``Voiture``. Dans cette fonction, implémentez la logique suivante:\n",
    "* si le nombre de portes est supérieur ou égal à 5, le prix de la voiture passe automatiquemment à 50 000. \n",
    "* Si le nombre de portes est strictement égal à 4, le prix de la voiture passe à 40 000. \n",
    "* Enfin, si le nombre de portes est inférieur ou égal à 3, le prix de la voiture passe à 30 000.\n",
    "\n",
    "Modifiez la constructeur classe ``Voiture`` de telle sorte à enlever l'argument ``prix`` puis d'instaurer la valeur de ``self.prix`` à l'aide de la fonction ``setPrix``.\n",
    "\n",
    "Créez une instance de la classe ``Voiture``, puis appelez la fonction méthode ``afficher_details``."
   ]
  },
  {
   "cell_type": "markdown",
   "metadata": {},
   "source": [
    "# Solution exercice 1"
   ]
  },
  {
   "cell_type": "code",
   "execution_count": 5,
   "metadata": {},
   "outputs": [
    {
     "name": "stdout",
     "output_type": "stream",
     "text": [
      "{'Marque': 'peugeot', 'Moteur': 'diesel', 'Nombre_portes': 5, 'Boite': 'manuelle', 'Prix': 50000}\n"
     ]
    }
   ],
   "source": [
    "class Voiture:\n",
    "    def __init__(self, marque, moteur, nbr_portes, boite):\n",
    "        self.marque = marque\n",
    "        self.moteur = moteur\n",
    "        self.nbr_portes = nbr_portes\n",
    "        self.boite = boite\n",
    "        self.prix = self.setPrix()\n",
    "        \n",
    "    def afficher_details(self):\n",
    "        proprietes = {\n",
    "            \"Marque\": self.marque,\n",
    "            \"Moteur\": self.moteur,\n",
    "            \"Nombre_portes\": self.nbr_portes,\n",
    "            \"Boite\": self.boite,\n",
    "            \"Prix\": self.prix\n",
    "        }\n",
    "        print(proprietes)\n",
    "        \n",
    "    def setPrix(self):\n",
    "        nbr_portes = self.nbr_portes\n",
    "        if nbr_portes <= 3:\n",
    "            prix = 30000\n",
    "        elif nbr_portes == 4:\n",
    "            prix = 40000\n",
    "        else:\n",
    "            prix = 50000\n",
    "        \n",
    "        return prix\n",
    "\n",
    "v = Voiture('peugeot', 'diesel', 5, 'manuelle')\n",
    "v.afficher_details()"
   ]
  },
  {
   "cell_type": "code",
   "execution_count": null,
   "metadata": {},
   "outputs": [],
   "source": []
  },
  {
   "cell_type": "markdown",
   "metadata": {},
   "source": [
    "# Exercice 2\n",
    "\n",
    "Modifiez le nom de la variable ``self.prix`` de telle sorte à ce qu'elle soit privée. Ajoutez une fonction ``getPrix`` permettant de retourner le prix de l'objet Voiture. Créez une instance de la classe ``Voiture`` et appellez avec la méthode ``getPrix()``. Enregistrez le résultat retourné par cette méthode dans une variable ``prix`` puis affichez la valeur de cette variable. "
   ]
  },
  {
   "cell_type": "markdown",
   "metadata": {},
   "source": [
    "# Solution exercice 2"
   ]
  },
  {
   "cell_type": "code",
   "execution_count": 7,
   "metadata": {},
   "outputs": [
    {
     "name": "stdout",
     "output_type": "stream",
     "text": [
      "50000\n"
     ]
    }
   ],
   "source": [
    "class Voiture:\n",
    "    def __init__(self, marque, moteur, nbr_portes, boite):\n",
    "        self.marque = marque\n",
    "        self.moteur = moteur\n",
    "        self.nbr_portes = nbr_portes\n",
    "        self.boite = boite\n",
    "        self.__prix = self.setPrix()\n",
    "        \n",
    "    def afficher_details(self):\n",
    "        proprietes = {\n",
    "            \"Marque\": self.marque,\n",
    "            \"Moteur\": self.moteur,\n",
    "            \"Nombre_portes\": self.nbr_portes,\n",
    "            \"Boite\": self.boite,\n",
    "            \"Prix\": self.prix\n",
    "        }\n",
    "        print(proprietes)\n",
    "        \n",
    "    def setPrix(self):\n",
    "        nbr_portes = self.nbr_portes\n",
    "        if nbr_portes <= 3:\n",
    "            prix = 30000\n",
    "        elif nbr_portes == 4:\n",
    "            prix = 40000\n",
    "        else:\n",
    "            prix = 50000\n",
    "        return prix\n",
    "    \n",
    "    def getPrix(self):\n",
    "        return self.__prix\n",
    "\n",
    "v = Voiture('peugeot', 'diesel', 5, 'manuelle')\n",
    "prix = v.getPrix()\n",
    "print(prix)"
   ]
  },
  {
   "cell_type": "code",
   "execution_count": null,
   "metadata": {},
   "outputs": [],
   "source": []
  },
  {
   "cell_type": "markdown",
   "metadata": {},
   "source": [
    "# Documentation et commentaires\n",
    "\n",
    "La documentation est un aspect extrêmement important du code: elle permet d'expliquer le fonctionnement du script à d'autres utilisateurs, quels paramètres il prend, ce qu'il retourne, etc... Elle est ajoutée au tout début de votre classe ou fonction, ou bien tout en haut du script si celui-ci est exécuté tel quel. La documentation est écrite dans une string spéciale nommée ``docstring``. La docstring commence par trois double-guillemets et est ferméé de la même façon\n",
    "\n",
    "\n",
    "Ajouter des commentaires est également très important: Ils permettent d'expliquer les différentes étapes du code, qui n'est pas toujours clair en lui-même (c'est d'autant plus le cas si vous retouchez à votre code plusieurs jours ou semaines après l'avoir écrit). Ils peuvent aussi vous permettre d'ajouter des étapes à réaliser, d'indiquer le plan de votre code, ... \n",
    "En Python, les commentaires correspondent aux lignes commençant par un #. Ces lignes sont ignorées par l'interpréteur. "
   ]
  },
  {
   "cell_type": "code",
   "execution_count": 18,
   "metadata": {},
   "outputs": [],
   "source": [
    "class Voiture:\n",
    "    \"\"\"\n",
    "    Exemple de docstring pour la classe Voiture\n",
    "    \"\"\"\n",
    "    def __init__(self, marque, moteur, nbr_portes, boite):\n",
    "        \"\"\"\n",
    "        Exemple de docstring pour la fonction __init__\n",
    "        \"\"\"\n",
    "        self.marque = marque\n",
    "        self.moteur = moteur\n",
    "        self.nbr_portes = nbr_portes\n",
    "        self.boite = boite\n",
    "        self.__prix = self.setPrix()\n",
    "        \n",
    "    def afficher_details(self):\n",
    "        \"\"\"\n",
    "        Exemple de documentation pour la fonction afficher_details\n",
    "        \n",
    "        :param: None : La fonction ne prend aucun arugment\n",
    "        :return: None : la fonction ne retourne rien, elle affiche seulemenet\n",
    "        des resultats\n",
    "        \"\"\"\n",
    "        proprietes = {\n",
    "            \"Marque\": self.marque,\n",
    "            \"Moteur\": self.moteur,\n",
    "            \"Nombre_portes\": self.nbr_portes,\n",
    "            \"Boite\": self.boite,\n",
    "            \"Prix\": self.prix\n",
    "        }\n",
    "        print(proprietes)\n",
    "        \n",
    "            \n",
    "    def setPrix(self):\n",
    "        # exemple de commentaire pour expliquer la logique du code\n",
    "        # si le nombre de porte est inferieur a 3, alors ...\n",
    "        # ... ...\n",
    "        nbr_portes = self.nbr_portes\n",
    "        if nbr_portes <= 3:\n",
    "            prix = 30000\n",
    "        elif nbr_portes == 4:\n",
    "            prix = 40000\n",
    "        else:\n",
    "            prix = 50000\n",
    "        return prix"
   ]
  },
  {
   "cell_type": "markdown",
   "metadata": {},
   "source": [
    "## Afficher la documentation\n",
    "Pour afficher la documentation d'une fonction ou d'une classe, on peut soit utiliser la fonction ``help()`` ou bien appeler la propriété ``__doc__`` de l'objet:"
   ]
  },
  {
   "cell_type": "code",
   "execution_count": 19,
   "metadata": {},
   "outputs": [
    {
     "data": {
      "text/plain": [
       "'\\n    Exemple de docstring pour la classe Voiture\\n    '"
      ]
     },
     "execution_count": 19,
     "metadata": {},
     "output_type": "execute_result"
    }
   ],
   "source": [
    "Voiture.__doc__"
   ]
  },
  {
   "cell_type": "code",
   "execution_count": 20,
   "metadata": {},
   "outputs": [
    {
     "name": "stdout",
     "output_type": "stream",
     "text": [
      "Help on class Voiture in module __main__:\n",
      "\n",
      "class Voiture(builtins.object)\n",
      " |  Voiture(marque, moteur, nbr_portes, boite)\n",
      " |  \n",
      " |  Exemple de docstring pour la classe Voiture\n",
      " |  \n",
      " |  Methods defined here:\n",
      " |  \n",
      " |  __init__(self, marque, moteur, nbr_portes, boite)\n",
      " |      Exemple de docstring pour la fonction __init__\n",
      " |  \n",
      " |  afficher_details(self)\n",
      " |      Exemple de documentation pour la fonction afficher_details\n",
      " |      \n",
      " |      :param: None : La fonction ne prend aucun arugment\n",
      " |      :return: None : la fonction ne retourne rien, elle affiche seulemenet\n",
      " |      des resultats\n",
      " |  \n",
      " |  setPrix(self)\n",
      " |  \n",
      " |  ----------------------------------------------------------------------\n",
      " |  Data descriptors defined here:\n",
      " |  \n",
      " |  __dict__\n",
      " |      dictionary for instance variables (if defined)\n",
      " |  \n",
      " |  __weakref__\n",
      " |      list of weak references to the object (if defined)\n",
      "\n"
     ]
    }
   ],
   "source": [
    "help(Voiture)"
   ]
  },
  {
   "cell_type": "code",
   "execution_count": null,
   "metadata": {},
   "outputs": [],
   "source": []
  },
  {
   "cell_type": "markdown",
   "metadata": {},
   "source": [
    "# Exercice 3\n",
    "\n",
    "Ouvrez ``PyCharm`` et ouvrez l'exercice sur la classe ``Ordinateur``. Ajoutez le plus de commentaires possible ainsi que la documentation à votre classe. A la fin du script, affichez la documentation de la classe ``Ordinateur``, puis exécutez le script."
   ]
  },
  {
   "cell_type": "markdown",
   "metadata": {},
   "source": [
    "# Ressources\n",
    "\n",
    "* Documentation (RealPython): https://realpython.com/documenting-python-code/"
   ]
  }
 ],
 "metadata": {
  "kernelspec": {
   "display_name": "Python 3",
   "language": "python",
   "name": "python3"
  },
  "language_info": {
   "codemirror_mode": {
    "name": "ipython",
    "version": 3
   },
   "file_extension": ".py",
   "mimetype": "text/x-python",
   "name": "python",
   "nbconvert_exporter": "python",
   "pygments_lexer": "ipython3",
   "version": "3.8.5"
  }
 },
 "nbformat": 4,
 "nbformat_minor": 4
}
