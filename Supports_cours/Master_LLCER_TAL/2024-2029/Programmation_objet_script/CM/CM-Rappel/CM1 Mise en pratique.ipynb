{
 "cells": [
  {
   "cell_type": "markdown",
   "metadata": {},
   "source": [
    "## Vers un système de détection automatique de la langue\n",
    "\n",
    "Nous allons construire un systeme simple permettant de detecter automatiquement la langue d'un texte.\n",
    "\n",
    "Pour cela vous allez vous baser sur la méthode des N-grammes, qui a déjà fait ces preuves pour la détection de la langue."
   ]
  },
  {
   "cell_type": "markdown",
   "metadata": {},
   "source": [
    "### Préparation du corpus"
   ]
  },
  {
   "cell_type": "markdown",
   "metadata": {},
   "source": [
    "Nous allons tout d'abord choisir les langues avec lesquelles nous allons travailler.\n",
    "\n",
    "1. Choisissez trois langues parmi les langues suivantes :\n",
    "*anglais, dannois, espagnol, esperanto, français, italien, latin, portugais, roumain, suedois*."
   ]
  },
  {
   "cell_type": "markdown",
   "metadata": {},
   "source": [
    "2. Téléchargez quelques livres de chaque langue choisie en format \"Texte brut UTF-8\" à partir du site https://www.gutenberg.org/catalog/"
   ]
  },
  {
   "cell_type": "markdown",
   "metadata": {},
   "source": [
    "### Calcul des unigrammes\n",
    "\n",
    "Nous allons écrire un programme qui calcule les fréquences des mots dans les livres. Pour chaque langue, le programme produira un fichier texte qui contient les mots rencontrés dans les livres de cette langue. Ces mots seront ordonnées par ordre de leur fréquence, du plus fréquent au moins fréquent, et chaque mot se trouvera sur une nouvelle ligne.\n",
    "\n",
    "Comme résultat final, nous aurons des fichiers texte (par ex. fr-freq-1n.txt, en-freq-1n.txt, es-freq-1n.txt), chaque fichier contenant une liste de mots en commencant par les mots les plus fréquents dans les livres analysés."
   ]
  },
  {
   "cell_type": "markdown",
   "metadata": {},
   "source": [
    "#### Etapes :\n",
    "\n",
    "Pour chaque langue :\n",
    "1. extraire les textes à partir des fichiers \n",
    "- enlever les signes de ponctuation\n",
    "- découper en mots (par ex. avec texte.split())\n",
    "- créer un dictionnaire contenant les mots (unigrammes) comme clés et leurs fréquences comme valeurs\n",
    "- ordonner la liste des mots par rapport aux fréquences\n",
    "- enregistrer le résultat dans un fichier texte\n",
    "\n",
    "Chaque étape pourra être faite dans une fonction séparée pour mieux organiser le code et pouvoir les réutiliser par la suite."
   ]
  },
  {
   "cell_type": "markdown",
   "metadata": {},
   "source": [
    "### Calcul des bi-grammes\n",
    "\n",
    "Cette fois-ci nous nous intéressons à des suites de deux mots dans les livres. Le programme produira un fichier texte, pour chaque langue, qui contient les suites de deux mots (ou bigrammes) rencontrées dans les livres de cette langue. Ces bigrammes seront ordonnées par ordre de leur fréquence, de la plus fréquente à la moins fréquente, et chaque bigramme se trouvera sur une nouvelle ligne.\n",
    "\n",
    "Comme résultat final, nous aurons des fichiers texte (par ex. fr-freq-2n.txt, en-freq-2n.txt, es-freq-2n.txt), chaque fichier contenant une liste de bigrammes en commencant par celles les plus fréquentes dans les livres analysés."
   ]
  },
  {
   "cell_type": "markdown",
   "metadata": {},
   "source": [
    "#### Etapes :\n",
    "\n",
    "A partir de la liste des mots (étape 3 plus haut) :\n",
    "7. créer la liste des bi-grammes\n",
    "- créer un dictionnaire contenant les bi-grammes comme clés et leurs fréquences comme valeurs\n",
    "- ordonner la liste par rapport aux fréquences\n",
    "- enregistrer le résultat dans un fichier texte\n",
    "\n",
    "Chaque étape pourra être faite dans une fonction séparée pour mieux organiser le code et pouvoir les réutiliser par la suite."
   ]
  },
  {
   "cell_type": "markdown",
   "metadata": {},
   "source": [
    "### Calcul de la similarité entre listes de fréquences"
   ]
  },
  {
   "cell_type": "markdown",
   "metadata": {},
   "source": [
    "Ecrivez une fonction qui permet de calculer la similarité entre 2 listes ordonnées. Les listes pourront contenir des mots ou des bigrammes. On attribue un poids à chaque élement des 2 listes : ce poids est égal au nombre d'élements de la liste la plus courte et diminue d'un pour chaque position (voir les exemples ci-dessous). La fonction calculera la valeur S pour les deux listes L1 et L2 en prennant la somme des produits des poids des éléments communs. \n",
    "\n",
    "Voici un exemple :\n",
    "\n",
    "L1 = [a, b, c, d, e]\t\tavec poids [5, 4, 3, 2, 1]\n",
    "\n",
    "L2 = [a, b, f, c, g, d]\t\tavec poids [5, 4, 3, 2, 1, 0]\n",
    "\n",
    "\n",
    "S(L1, L2) = 5 * 5 +4 * 4 + 2 * 3 + 0 * 2 = 25 + 16 + 6 + 0 = 57\n",
    "\n",
    "(Pour chaque élément commun, on ajout le produit de son poids dans L2 et dans L1)\n",
    "\n",
    "Autre exemple :\n",
    "\n",
    "L1 = [a, b, c, d, e]\t\t\tavec poids [5, 4, 3, 2, 1]\n",
    "\n",
    "L3 = [b, f, g, h, d, a, b, c]\t\tavec poids [5, 4, 3, 2, 1, 0, 0, 0]\n",
    "\n",
    "S(L1, L3) = 4 * 4 + 1 * 2 + 0 * 5 + 0 * 4 + 0 * 3 = 16 + 2 + 0 + 0 + 0 = 18"
   ]
  },
  {
   "cell_type": "markdown",
   "metadata": {},
   "source": [
    "### Programme final\n",
    "\n",
    "Ecrivez le programme final qui permet d'analyser un nouveau texte (dans une langue inconnue) qui se trouve dans un fichier entree.txt. Pour tester le programme, ce texte peut être assez court (une phrae ou un paragraphe). \n",
    "\n",
    "Comparez le résultat de votre programme avec le démontrateur qui se trouve ici :  https://detectlanguage.com/ (demo en bas a droite de la page).\n"
   ]
  },
  {
   "cell_type": "code",
   "execution_count": null,
   "metadata": {},
   "outputs": [],
   "source": []
  }
 ],
 "metadata": {
  "kernelspec": {
   "display_name": "Python 3",
   "language": "python",
   "name": "python3"
  },
  "language_info": {
   "codemirror_mode": {
    "name": "ipython",
    "version": 3
   },
   "file_extension": ".py",
   "mimetype": "text/x-python",
   "name": "python",
   "nbconvert_exporter": "python",
   "pygments_lexer": "ipython3",
   "version": "3.9.10 (main, Jan 15 2022, 11:40:53) \n[Clang 13.0.0 (clang-1300.0.29.3)]"
  },
  "vscode": {
   "interpreter": {
    "hash": "b0fa6594d8f4cbf19f97940f81e996739fb7646882a419484c72d19e05852a7e"
   }
  }
 },
 "nbformat": 4,
 "nbformat_minor": 2
}
