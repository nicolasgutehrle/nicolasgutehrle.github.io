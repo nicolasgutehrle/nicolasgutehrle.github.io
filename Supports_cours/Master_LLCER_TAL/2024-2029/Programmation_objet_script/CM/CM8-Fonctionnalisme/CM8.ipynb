{
 "cells": [
  {
   "attachments": {},
   "cell_type": "markdown",
   "metadata": {},
   "source": [
    "# CM8 - Fonctionnalisme\n",
    "\n",
    "Le fonctionnalisme est un paradigme de programmation différent de l'orienté-objet. Ce dernier est un paradigme **impératif** : le programme consiste en une suite d'instructions à suivre pour résoudre le problème. Le programme est centré sur **comment** résoudre le problème (un peu comme une recette de cuisine).\n",
    "\n",
    "Le fonctionnalisme est un paradigme **déclaratif** : l'utilisateur déclare le résultat attendu, en laissant à l'interpréteur le soin d'y parvenir.\n",
    "\n",
    "Ci-dessous, deux codes écrits respectivement de manière **impérative** et **déclarative** qui obtiennent la somme des valeurs d'une liste : "
   ]
  },
  {
   "cell_type": "code",
   "execution_count": 1,
   "metadata": {},
   "outputs": [
    {
     "name": "stdout",
     "output_type": "stream",
     "text": [
      "Total : 10\n"
     ]
    }
   ],
   "source": [
    "# méthode impérative\n",
    "\n",
    "total = 0\n",
    "list_val = [1,2,3,4]\n",
    "\n",
    "# ici, on donne les instructions pour obtenir la somme\n",
    "# pour chaque valeur de la liste, on en fait la somme\n",
    "# avec la valeur de la variable total\n",
    "for val in list_val:\n",
    "    total += val\n",
    "\n",
    "print('Total :', total)"
   ]
  },
  {
   "cell_type": "code",
   "execution_count": 2,
   "metadata": {},
   "outputs": [
    {
     "name": "stdout",
     "output_type": "stream",
     "text": [
      "Total : 10\n"
     ]
    }
   ],
   "source": [
    "# méthode déclarative\n",
    "\n",
    "list_val = [1,2,3,4]\n",
    "# ici on déclare ce que l'on veut obtenir : la somme\n",
    "# des valeurs de la variable list_val. On ne dit pas \n",
    "# à l'interpréteur comment procéder pour obtenir ce résultat,\n",
    "# c'est à lui de se débrouiller\n",
    "total = sum(list_val)\n",
    "print('Total :', total)"
   ]
  },
  {
   "attachments": {},
   "cell_type": "markdown",
   "metadata": {},
   "source": [
    "Le **fonctionnalisme** est un type de programmation **déclaratif**. Si l'orienté-objet repose sur l'emploi d'objets, le fonctionnalisme repose sur l'emploi de **fonctions**, et plus précisément de **fonctions pures** : \n",
    "\n",
    "Une fonction pure est une fonction dont la sortie dépend uniquement des valeurs d'entrées. Elle n'a pas accès aux variables qui lui sont extérieures, et doit toujours produire le même résultat pour les mêmes données d'entrées (par exemple, la somme de 1 + 1 retournera toujours 2).\n",
    "\n",
    "De plus, elle ne doit produire aucune effet secondaire. Ainsi la fonction doit se contenter de produire le résultat à partir des données d'entrée, sans modifier ces dernières ni produire de nouvelles données en parallèles (par exemple, sauvegarder un résultat sur le disque en plus de faire le calcul).\n",
    "\n",
    "Ainsi, le fonctionnalisme va consister à manipuler les données à l'aide de fonctions plutôt qu'à l'aide d'objets. Par rapport à la POO, le fonctionnalisme a les avantages suivants :\n",
    "\n",
    "* **Haut niveau** : puisque l'on déclare les résultats que l'on veut obtenir, le code devient moins complexe et donc plus explicite\n",
    "* **Transparent** : le comportement d'une fonction est plus facile à prédire, puisque les résultats seront toujours identiques pour les mêmes données d'entrées et que la fonction n'a pas d'effet secondaire. Ceci facilite le debugging\n",
    "* **Parallélisable** : le fonctionnalisme est particulièrement adapté pour appliquer une ou plusieurs fonctions à des iterables, et donc à appliquer des traitements à des flots de données\n",
    "\n"
   ]
  },
  {
   "attachments": {},
   "cell_type": "markdown",
   "metadata": {},
   "source": [
    "## Fonctions d'ordre supérieur\n",
    "\n",
    "Puisque l'unité de base du fonctionnalisme est la **fonction**, il est tout à fait possible pour une fonction de prendre et de retourner une autre fonction en argument : on parle de fonction **d'ordre supérieur** :"
   ]
  },
  {
   "cell_type": "code",
   "execution_count": 2,
   "metadata": {},
   "outputs": [
    {
     "data": {
      "text/plain": [
       "'Message : Bonsoir'"
      ]
     },
     "execution_count": 2,
     "metadata": {},
     "output_type": "execute_result"
    }
   ],
   "source": [
    "# message() et message2() sont des fonctions pures :\n",
    "# elle ne produisent aucun effet secondaire et produise\n",
    "# toujours le même résultat \n",
    "def message():\n",
    "    return \"Bonjour\"\n",
    "\n",
    "def message2():\n",
    "    return \"Bonsoir\"\n",
    "\n",
    "# lowerText() est une fonction d'ordre supérieur : \n",
    "# elle prend une autre fonction comme argument \n",
    "# c'est également une fonction pure\n",
    "def lowerText(function):\n",
    "    return f\"Message : {function()}\"\n",
    "\n",
    "lowerText(message2)\n",
    "# lowerText(message2)"
   ]
  },
  {
   "attachments": {},
   "cell_type": "markdown",
   "metadata": {},
   "source": [
    "En python, une façon d'appliquer une fonction à un iterable passe par les **comprehensions**, notamment les **list comprehensions** :"
   ]
  },
  {
   "cell_type": "code",
   "execution_count": 3,
   "metadata": {},
   "outputs": [
    {
     "name": "stdout",
     "output_type": "stream",
     "text": [
      "2\n",
      "4\n",
      "6\n",
      "8\n"
     ]
    }
   ],
   "source": [
    "# Exemple de list comprehension\n",
    "\n",
    "def double(val):\n",
    "    \"\"\"\n",
    "    Multiplie une valeur par deux\n",
    "\n",
    "    :param val: valeur a multiplier\n",
    "    :type val: int\n",
    "    \"\"\"\n",
    "    return val * 2 \n",
    "\n",
    "list_val = [1,2,3,4]\n",
    "# syntaxe de la comprehension : on indique le resultat que l'on\n",
    "# veut contenir, puis dans quoi on itère\n",
    "doubled = [double(x) for x in list_val]\n",
    "for val in doubled:\n",
    "    print(val)\n",
    "\n"
   ]
  },
  {
   "attachments": {},
   "cell_type": "markdown",
   "metadata": {},
   "source": [
    "Ce qui est équivalent à ci-dessous, mais en plus concis :"
   ]
  },
  {
   "cell_type": "code",
   "execution_count": 14,
   "metadata": {},
   "outputs": [
    {
     "name": "stdout",
     "output_type": "stream",
     "text": [
      "2\n",
      "4\n",
      "6\n",
      "8\n"
     ]
    }
   ],
   "source": [
    "def double(val):\n",
    "    \"\"\"\n",
    "    Multiplie une valeur par deux\n",
    "\n",
    "    :param val: valeur a multiplier\n",
    "    :type val: int\n",
    "    \"\"\"\n",
    "    return val * 2 \n",
    "\n",
    "list_val = [1,2,3,4]\n",
    "\n",
    "doubled = []\n",
    "\n",
    "for val in list_val:\n",
    "    doubled.append(double(val))\n",
    "\n",
    "for val in doubled:\n",
    "    print(val)\n"
   ]
  },
  {
   "attachments": {},
   "cell_type": "markdown",
   "metadata": {},
   "source": [
    "En python, les deux fonctions d'ordre supérieur les plus importantes sont **map()**, **filter()** et **reduce()**:\n",
    "\n",
    "* map() applique une fonction à tous les éléments d'un itérable\n",
    "* filter() filtre un iterable en utilisant une fonction qui servira de filtre\n",
    "* reduce() réduit un iterable à une seule valeur en appliquant une fonction qui prend deux arguments. Attention, en python, pour utiliser reduce(), il faut l'importer depuis la librairie **functools**"
   ]
  },
  {
   "cell_type": "code",
   "execution_count": 16,
   "metadata": {},
   "outputs": [
    {
     "name": "stdout",
     "output_type": "stream",
     "text": [
      "2\n",
      "4\n",
      "6\n",
      "8\n"
     ]
    }
   ],
   "source": [
    "# Exemple de map\n",
    "\n",
    "def double(val):\n",
    "    \"\"\"\n",
    "    Multiplie une valeur par deux\n",
    "\n",
    "    :param val: valeur a multiplier\n",
    "    :type val: int\n",
    "    \"\"\"\n",
    "    return val * 2 \n",
    "\n",
    "list_val = [1,2,3,4]\n",
    "\n",
    "# pour fonctionner, on donne d'abord à map la fonction à employer (sans l'appeler)\n",
    "# puis l'iterable sur lequel on veut l'appliquer\n",
    "doubled = map(double, list_val)\n",
    "\n",
    "for val in doubled:\n",
    "    print(val)"
   ]
  },
  {
   "cell_type": "code",
   "execution_count": 17,
   "metadata": {},
   "outputs": [
    {
     "name": "stdout",
     "output_type": "stream",
     "text": [
      "2\n",
      "4\n"
     ]
    }
   ],
   "source": [
    "# Exemple de filter\n",
    "\n",
    "def filterImpair(val):\n",
    "    \"\"\"\n",
    "    Simple fonction pour filtrer les valeurs impaires\n",
    "\n",
    "    :param val: valeur à filtrer\n",
    "    :type val: int\n",
    "    \"\"\"\n",
    "\n",
    "    if val % 2 == 0:\n",
    "        return True\n",
    "    return False\n",
    "\n",
    "list_val = [1,2,3,4]\n",
    "\n",
    "# pour fonctionner, on donne d'abord à filter la fonction à employer (sans l'appeler)\n",
    "# puis l'iterable sur lequel on veut l'appliquer\n",
    "filtered = filter(filterImpair, list_val)\n",
    "\n",
    "for val in filtered:\n",
    "    print(val)"
   ]
  },
  {
   "cell_type": "code",
   "execution_count": 18,
   "metadata": {},
   "outputs": [
    {
     "name": "stdout",
     "output_type": "stream",
     "text": [
      "10\n"
     ]
    }
   ],
   "source": [
    "# Exemple de reduce\n",
    "from functools import reduce\n",
    "\n",
    "def somme(a, b):\n",
    "    \"\"\"\n",
    "    Fait la somme des deux valeurs\n",
    "\n",
    "    :param a: Valeur a\n",
    "    :type a: int\n",
    "    :param b: Valeur b\n",
    "    :type b: int\n",
    "    \"\"\"\n",
    "    return a + b \n",
    "\n",
    "list_val = [1,2,3,4]\n",
    "\n",
    "# pour fonctionner, on donne d'abord à filter la fonction à employer (sans l'appeler)\n",
    "# puis l'iterable sur lequel on veut l'appliquer\n",
    "reduced = reduce(somme, list_val)\n",
    "\n",
    "print(reduced)"
   ]
  },
  {
   "attachments": {},
   "cell_type": "markdown",
   "metadata": {},
   "source": [
    "On remarque que les fonctions **map()** et **filter()** retournent un iterable particulier : "
   ]
  },
  {
   "cell_type": "code",
   "execution_count": 10,
   "metadata": {},
   "outputs": [
    {
     "name": "stdout",
     "output_type": "stream",
     "text": [
      "<map object at 0x10a1e82e0>\n",
      "<filter object at 0x10a1e8160>\n"
     ]
    }
   ],
   "source": [
    "doubled = map(double, list_val)\n",
    "print(doubled)\n",
    "\n",
    "filtered = filter(filterImpair, list_val)\n",
    "print(filtered)"
   ]
  },
  {
   "attachments": {},
   "cell_type": "markdown",
   "metadata": {},
   "source": [
    "Pour déclencher l'application des fonctions et lire les résultats, on doit les parcourir comme des iterables :"
   ]
  },
  {
   "cell_type": "code",
   "execution_count": 11,
   "metadata": {},
   "outputs": [
    {
     "name": "stdout",
     "output_type": "stream",
     "text": [
      "2\n",
      "4\n",
      "6\n",
      "8\n",
      "2\n",
      "4\n"
     ]
    }
   ],
   "source": [
    "for val in doubled:\n",
    "    print(val)\n",
    "\n",
    "for val in filtered:\n",
    "    print(val)"
   ]
  },
  {
   "attachments": {},
   "cell_type": "markdown",
   "metadata": {},
   "source": [
    "Cependant, si l'on tente de parcourir à nouveau ces iterables, il ne se passe rien, car ils sont désormais vides : "
   ]
  },
  {
   "cell_type": "code",
   "execution_count": 15,
   "metadata": {},
   "outputs": [],
   "source": [
    "for val in doubled:\n",
    "    print(val)\n",
    "\n",
    "for val in filtered:\n",
    "    print(val)"
   ]
  },
  {
   "attachments": {},
   "cell_type": "markdown",
   "metadata": {},
   "source": [
    "Ces iterables sont vides car ce ne sont pas des iterables comme les autres : ce sont des **generateurs**"
   ]
  },
  {
   "attachments": {},
   "cell_type": "markdown",
   "metadata": {},
   "source": [
    "# Générateurs\n",
    "\n",
    "Les générateurs sont des types particuliers de fonctions qui sont appliquées à des iterables. \n",
    "\n",
    "Une fonction normale doit retourner un résultat, à l'aide de la commande **return**. Cette commande fait sortir de la fonction et provoque le retour au programme principal. L'élément retourné prendra la place nécessaire en mémoire. Ceci ne pose pas de problème pour de petites opérations, mais peut devenir compliqué lorsque l'on manipule un grand nombre de données. \n"
   ]
  },
  {
   "cell_type": "code",
   "execution_count": 5,
   "metadata": {},
   "outputs": [],
   "source": [
    "def compter(maxVal):\n",
    "    \"\"\"\n",
    "    Fonction qui doit compter jusqu'à valeur maximale\n",
    "    et qui prendrea beaucoup de temps à tourner\n",
    "\n",
    "    :param maxVal: valeur maximale jusqu'à laquelle compter\n",
    "    :type maxVal: int\n",
    "    \"\"\"\n",
    "    count = 0\n",
    "    list_val = []\n",
    "    for i in range(maxVal):\n",
    "        list_val.append(count)\n",
    "        count += i\n",
    "    return list_val"
   ]
  },
  {
   "cell_type": "code",
   "execution_count": 6,
   "metadata": {},
   "outputs": [
    {
     "name": "stdout",
     "output_type": "stream",
     "text": [
      "--- 0.5676507949829102 seconds ---\n"
     ]
    }
   ],
   "source": [
    "import time\n",
    "start_time = time.time()\n",
    "\n",
    "# ici on emploie une fonction normale. Si l'on augmente la valeur \n",
    "# en argument, on risque de surcharger la mémoire vive de l'ordinateur\n",
    "count = compter(10000000)\n",
    "print(\"--- %s seconds ---\" % (time.time() - start_time))\n"
   ]
  },
  {
   "cell_type": "code",
   "execution_count": 9,
   "metadata": {},
   "outputs": [
    {
     "name": "stdout",
     "output_type": "stream",
     "text": [
      "--- 0.5830581188201904 seconds ---\n"
     ]
    }
   ],
   "source": [
    "start_time = time.time()\n",
    "\n",
    "for c in count:\n",
    "    pass\n",
    "print(\"--- %s seconds ---\" % (time.time() - start_time))\n"
   ]
  },
  {
   "attachments": {},
   "cell_type": "markdown",
   "metadata": {},
   "source": [
    "Un générateur doit parcourir un iterable. Cependant, au lieu de retourner un résultat final, qui prendra la place nécessaire en mémoire, le générateur **cède** chaque élément au fur et à mesure. Ainsi au lieu de quitter la fonction, le générateur la met en pause. \n",
    "\n",
    "Lorsque l'on revient à la fonction, la valeur en cours est déchargée et on passe à la valeur suivante. Cela permet ainsi d'éviter de surcharger la mémoire. Le générateur continuera de céder des valeurs jusqu'à atteidre le bout de l'itérable.\n",
    "\n",
    "En python, une fonction devient un générateur lorsque l'on emploie la commande **yield** au sein d'un iterable"
   ]
  },
  {
   "cell_type": "code",
   "execution_count": 3,
   "metadata": {},
   "outputs": [],
   "source": [
    "def compterGen(maxVal):\n",
    "    \"\"\"\n",
    "    Fonction qui doit compter jusqu'à valeur maximale\n",
    "    et qui prendrea beaucoup de temps à tourner\n",
    "\n",
    "    :param maxVal: valeur maximale jusqu'à laquelle compter\n",
    "    :type maxVal: int\n",
    "    \"\"\"\n",
    "    count = 0\n",
    "    for i in range(maxVal):\n",
    "        count += i\n",
    "        # plutôt que retourner une valeur, on la cède\n",
    "        # et on met la fonction en pause\n",
    "        # quand on y retournera (donc au prochain tour d'itération)\n",
    "        # la valeur est supprimée de la mémoire et l'on passe\n",
    "        # à la valeur suivante\n",
    "        yield count\n"
   ]
  },
  {
   "cell_type": "code",
   "execution_count": 12,
   "metadata": {},
   "outputs": [
    {
     "name": "stdout",
     "output_type": "stream",
     "text": [
      "--- 4.57763671875e-05 seconds ---\n"
     ]
    }
   ],
   "source": [
    "start_time = time.time()\n",
    "\n",
    "# on remarque ici que le code est instantané : c'est parce que\n",
    "# la fonction n'a pas encore été exécuté, on a seulement obtenu\n",
    "# le generateur\n",
    "count = compterGen(10000000)\n",
    "\n",
    "print(\"--- %s seconds ---\" % (time.time() - start_time))\n"
   ]
  },
  {
   "cell_type": "code",
   "execution_count": 13,
   "metadata": {},
   "outputs": [
    {
     "data": {
      "text/plain": [
       "<generator object compterGen at 0x103b8dba0>"
      ]
     },
     "execution_count": 13,
     "metadata": {},
     "output_type": "execute_result"
    }
   ],
   "source": [
    "list(count)"
   ]
  },
  {
   "cell_type": "code",
   "execution_count": 11,
   "metadata": {},
   "outputs": [
    {
     "name": "stdout",
     "output_type": "stream",
     "text": [
      "--- 0.5972988605499268 seconds ---\n"
     ]
    }
   ],
   "source": [
    "start_time = time.time()\n",
    "# ici on remarque que le temps d'exécution est largement inférieur\n",
    "# puisque l'on ne surcharge pas la mémoire, même\n",
    "# si l'on augmentait la valeur en argument\n",
    "for x in count :\n",
    "    pass \n",
    "\n",
    "print(\"--- %s seconds ---\" % (time.time() - start_time))\n"
   ]
  },
  {
   "attachments": {},
   "cell_type": "markdown",
   "metadata": {},
   "source": [
    "Les générateurs peuvent également s'écrire comme des list comprehensions. Pour cela, on remplace les crochets par des parenthèses :"
   ]
  },
  {
   "cell_type": "code",
   "execution_count": 14,
   "metadata": {},
   "outputs": [
    {
     "name": "stdout",
     "output_type": "stream",
     "text": [
      "<generator object <genexpr> at 0x103b8d9e0>\n",
      "2\n",
      "4\n",
      "6\n",
      "8\n"
     ]
    }
   ],
   "source": [
    "# generateur comprehension\n",
    "doubled = (x * 2 for x in [1,2,3,4])\n",
    "print(doubled)\n",
    "for x in doubled:\n",
    "    print(x)"
   ]
  },
  {
   "attachments": {},
   "cell_type": "markdown",
   "metadata": {},
   "source": [
    "La grande force des générateurs est de permettre de manipuler de grandes quantités de données sans surcharger la mémoire. Il est ainsi conseillé de les employer le plus souvent possibles, d'autant plus qu'ils permettent d'éviter d'employer des boucles, qui sont très gourmandes en terme de calcul. Par exemple, il est possible d'enchaîner l'emploi des générateurs :\n",
    "\n"
   ]
  },
  {
   "cell_type": "code",
   "execution_count": 19,
   "metadata": {},
   "outputs": [
    {
     "name": "stdout",
     "output_type": "stream",
     "text": [
      "2\n",
      "4\n",
      "6\n",
      "8\n"
     ]
    }
   ],
   "source": [
    "list_val = [1,2,3,4]\n",
    "# on applique la fonction double aux valeurs de l'iterable\n",
    "doubled = map(double, list_val)\n",
    "# on filtre les valeurs doublées\n",
    "# ceci permet d'éviter d'employer une condition if...else dans une boucle\n",
    "filtered = filter(filterImpair, doubled)\n",
    "# ce n'est qu'ici que l'on déclenche toutes les opérations\n",
    "for x in filtered:\n",
    "    print(x)"
   ]
  },
  {
   "cell_type": "markdown",
   "metadata": {},
   "source": [
    "Cependant, il est déconseillé d'employer des générateurs lorsque vous avez besoin d'accéder aux données plusieurs fois. Dans ce cas, on peut soit tout de suite créer un iterable, ou transformer le generateur comme ci-dessous :"
   ]
  },
  {
   "cell_type": "code",
   "execution_count": 35,
   "metadata": {},
   "outputs": [
    {
     "name": "stdout",
     "output_type": "stream",
     "text": [
      "[2, 4, 6, 8]\n",
      "2\n",
      "4\n",
      "6\n",
      "8\n"
     ]
    }
   ],
   "source": [
    "# generateur comprehension\n",
    "doubled = (x * 2 for x in [1,2,3,4])\n",
    "# on transforme le generateur en list\n",
    "doubled = list(doubled)\n",
    "print(doubled)\n",
    "for x in doubled:\n",
    "    print(x)"
   ]
  },
  {
   "attachments": {},
   "cell_type": "markdown",
   "metadata": {},
   "source": [
    "# Fonctions lambda\n",
    "\n",
    "Le fonctionnalisme requiert d'écrire de nombreuses fonctions, dont certaines ne seront parfois employée qu'une fois, et d'autres qui seront extrêmement simple (comme la fonction de la somme). Pour cela, on peut employer des fonctions **lambda**. \n",
    "\n",
    "Les fonctions lambdas sont des fonctions anonymes. Elles peuvent être contenues dans des variables ou directement écrites en argument d'une autre fonction. Une fonction lambda prend au minimum un argument. Elles sont écrites sur une seule ligne de code, et doivent retourner un résultat. "
   ]
  },
  {
   "cell_type": "code",
   "execution_count": 20,
   "metadata": {},
   "outputs": [],
   "source": [
    "# syntaxe minimale d'une fonction lambda \n",
    "\n",
    "# on emploie pas la commande return, elle est employée obligatoirement\n",
    "func = lambda x : x * 2\n",
    "\n",
    "# on peut écrire des conditions if else dans une fonction \n",
    "# lambda. Cela reste à éviter, car elles sont difficiles à lire.\n",
    "func = lambda x : x * 2 if x % 2 == 0 else x * 3\n",
    "\n"
   ]
  },
  {
   "attachments": {},
   "cell_type": "markdown",
   "metadata": {},
   "source": [
    "On peut donc réecrire nos trois fonctions précédentes avec lambda"
   ]
  },
  {
   "cell_type": "code",
   "execution_count": 21,
   "metadata": {},
   "outputs": [
    {
     "name": "stdout",
     "output_type": "stream",
     "text": [
      "2\n",
      "4\n",
      "6\n",
      "8\n"
     ]
    }
   ],
   "source": [
    "# Exemple de map avec lambda\n",
    "\n",
    "double = lambda x: x * 2\n",
    "\n",
    "list_val = [1,2,3,4]\n",
    "\n",
    "\n",
    "# pour fonctionner, on donne d'abord à map la fonction à employer (sans l'appeler)\n",
    "# puis l'iterable sur lequel on veut l'appliquer\n",
    "doubled = map(double, list_val)\n",
    "\n",
    "for val in doubled:\n",
    "    print(val)"
   ]
  },
  {
   "cell_type": "code",
   "execution_count": 5,
   "metadata": {},
   "outputs": [
    {
     "name": "stdout",
     "output_type": "stream",
     "text": [
      "2\n",
      "4\n"
     ]
    }
   ],
   "source": [
    "# Exemple de filter avec lambda\n",
    "\n",
    "filterImpair = lambda x: True if x % 2 == 0 else False\n",
    "\n",
    "list_val = [1,2,3,4]\n",
    "\n",
    "# pour fonctionner, on donne d'abord à filter la fonction à employer (sans l'appeler)\n",
    "# puis l'iterable sur lequel on veut l'appliquer\n",
    "filtered = filter(filterImpair, list_val)\n",
    "\n",
    "for val in filtered:\n",
    "    print(val)"
   ]
  },
  {
   "cell_type": "code",
   "execution_count": 6,
   "metadata": {},
   "outputs": [
    {
     "name": "stdout",
     "output_type": "stream",
     "text": [
      "10\n"
     ]
    }
   ],
   "source": [
    "# Exemple de reduce avec lambda\n",
    "from functools import reduce\n",
    "\n",
    "# les arguments de lambda sont séparés par des virgules\n",
    "somme = lambda x, y: x + y\n",
    "\n",
    "list_val = [1,2,3,4]\n",
    "\n",
    "# pour fonctionner, on donne d'abord à filter la fonction à employer (sans l'appeler)\n",
    "# puis l'iterable sur lequel on veut l'appliquer\n",
    "reduced = reduce(somme, list_val)\n",
    "\n",
    "print(reduced)"
   ]
  },
  {
   "attachments": {},
   "cell_type": "markdown",
   "metadata": {},
   "source": [
    "Un exemple classique de l'emploi de **lambda** est avec la fonction **sort()** des listes :"
   ]
  },
  {
   "cell_type": "code",
   "execution_count": 44,
   "metadata": {},
   "outputs": [
    {
     "name": "stdout",
     "output_type": "stream",
     "text": [
      "[('a', 1), ('b', 3), ('c', 2)]\n",
      "[('a', 1), ('c', 2), ('b', 3)]\n"
     ]
    }
   ],
   "source": [
    "list_val = [\n",
    "    ('a', 1),\n",
    "    ('c', 2),\n",
    "    ('b', 3)\n",
    "]\n",
    "# l'argument key prend une fonction\n",
    "# ici on dit de trier selon le premier élément de chaque\n",
    "# tuple dans la liste\n",
    "list_val.sort(key=lambda x: x[0])\n",
    "print(list_val)\n",
    "\n",
    "# ici on dit de trier selon le second élément de chaque\n",
    "# tuple dans la liste\n",
    "list_val.sort(key=lambda x: x[1])\n",
    "print(list_val)"
   ]
  },
  {
   "attachments": {},
   "cell_type": "markdown",
   "metadata": {},
   "source": [
    "**Attention** : les fonctions lambdas sont à employer avec parcimonie. Il convient de les employer lorsque l'on a besoin d'une fonction qui est soit très simple (comme la somme), soit que l'on utilisera qu'une fois (comme une fonction jetable). Sinon, il est préférable de créer des fonctions normales."
   ]
  },
  {
   "attachments": {},
   "cell_type": "markdown",
   "metadata": {},
   "source": [
    "# Récursivité\n",
    "\n",
    "Parfois, on devra répéter une même opération un nombre indéfini de fois. Pour cela, une première solution peut être d'employer une boucle infinie (while True). Une autre est d'employer la récursivité.\n",
    "\n",
    "Une fonction récursive est une fonction qui fait appel à elle-même. Un exemple classique de récursivité sont les **nombres de Fibonacci F(n)**, où la valeur finale est égale à la somme des deux nombres précédents. Ainsi :\n",
    "* F(0) = 0\n",
    "* F(1) = 1\n",
    "* F(n > 1) = F(n-1) + F(n-2)\n",
    "\n",
    "On peut voir dans la dernière partie que l'on fait appel à la fonction F(n) au sein de la fonction F(n). \n",
    "\n",
    "En programmation, une fonction récursive est toujours composée de deux parties : une partie récursive, qui déclenche l'appel à la fonction, et une partie par défaut qui dicte la valeur à retourner et permet de sortir de la fonction. "
   ]
  },
  {
   "cell_type": "code",
   "execution_count": 27,
   "metadata": {},
   "outputs": [
    {
     "name": "stdout",
     "output_type": "stream",
     "text": [
      "Pour une valeur : 55\n",
      "Pour une séquence : [0, 1, 1, 2, 3, 5, 8, 13, 21, 34]\n"
     ]
    }
   ],
   "source": [
    "def fibonacci(n):\n",
    "    # partie par défaut : on dicte la condition de sortie\n",
    "    # à savoir que n est égal à 0 ou 1\n",
    "    if n in (0, 1):\n",
    "        return n \n",
    "    # partie récursive : on appelle la fonction au sein d'elle-même :\n",
    "    # on va plus profond.\n",
    "    else:\n",
    "        return fibonacci(n-1) + fibonacci(n-2)\n",
    "\n",
    "val = 10\n",
    "print(\"Pour une valeur :\", fibonacci(val))\n",
    "print(\"Pour une séquence :\", [fibonacci(x) for x in range(val)])"
   ]
  },
  {
   "cell_type": "code",
   "execution_count": 28,
   "metadata": {},
   "outputs": [
    {
     "ename": "KeyboardInterrupt",
     "evalue": "",
     "output_type": "error",
     "traceback": [
      "\u001b[0;31m---------------------------------------------------------------------------\u001b[0m",
      "\u001b[0;31mKeyboardInterrupt\u001b[0m                         Traceback (most recent call last)",
      "\u001b[1;32m/Users/nicolasgutehrle/Documents/COURS/PROG2/CM8-Fonctionnalisme/CM8.ipynb Cell 48\u001b[0m in \u001b[0;36m<module>\u001b[0;34m\u001b[0m\n\u001b[0;32m----> <a href='vscode-notebook-cell:/Users/nicolasgutehrle/Documents/COURS/PROG2/CM8-Fonctionnalisme/CM8.ipynb#Y105sZmlsZQ%3D%3D?line=0'>1</a>\u001b[0m fibonacci(\u001b[39m100\u001b[39;49m)\n",
      "\u001b[1;32m/Users/nicolasgutehrle/Documents/COURS/PROG2/CM8-Fonctionnalisme/CM8.ipynb Cell 48\u001b[0m in \u001b[0;36mfibonacci\u001b[0;34m(n)\u001b[0m\n\u001b[1;32m      <a href='vscode-notebook-cell:/Users/nicolasgutehrle/Documents/COURS/PROG2/CM8-Fonctionnalisme/CM8.ipynb#Y105sZmlsZQ%3D%3D?line=4'>5</a>\u001b[0m     \u001b[39mreturn\u001b[39;00m n \n\u001b[1;32m      <a href='vscode-notebook-cell:/Users/nicolasgutehrle/Documents/COURS/PROG2/CM8-Fonctionnalisme/CM8.ipynb#Y105sZmlsZQ%3D%3D?line=5'>6</a>\u001b[0m \u001b[39m# partie récursive : on appelle la fonction au sein d'elle-même :\u001b[39;00m\n\u001b[1;32m      <a href='vscode-notebook-cell:/Users/nicolasgutehrle/Documents/COURS/PROG2/CM8-Fonctionnalisme/CM8.ipynb#Y105sZmlsZQ%3D%3D?line=6'>7</a>\u001b[0m \u001b[39m# on va plus profond.\u001b[39;00m\n\u001b[1;32m      <a href='vscode-notebook-cell:/Users/nicolasgutehrle/Documents/COURS/PROG2/CM8-Fonctionnalisme/CM8.ipynb#Y105sZmlsZQ%3D%3D?line=7'>8</a>\u001b[0m \u001b[39melse\u001b[39;00m:\n\u001b[0;32m----> <a href='vscode-notebook-cell:/Users/nicolasgutehrle/Documents/COURS/PROG2/CM8-Fonctionnalisme/CM8.ipynb#Y105sZmlsZQ%3D%3D?line=8'>9</a>\u001b[0m     \u001b[39mreturn\u001b[39;00m fibonacci(n\u001b[39m-\u001b[39;49m\u001b[39m1\u001b[39;49m) \u001b[39m+\u001b[39m fibonacci(n\u001b[39m-\u001b[39m\u001b[39m2\u001b[39m)\n",
      "\u001b[1;32m/Users/nicolasgutehrle/Documents/COURS/PROG2/CM8-Fonctionnalisme/CM8.ipynb Cell 48\u001b[0m in \u001b[0;36mfibonacci\u001b[0;34m(n)\u001b[0m\n\u001b[1;32m      <a href='vscode-notebook-cell:/Users/nicolasgutehrle/Documents/COURS/PROG2/CM8-Fonctionnalisme/CM8.ipynb#Y105sZmlsZQ%3D%3D?line=4'>5</a>\u001b[0m     \u001b[39mreturn\u001b[39;00m n \n\u001b[1;32m      <a href='vscode-notebook-cell:/Users/nicolasgutehrle/Documents/COURS/PROG2/CM8-Fonctionnalisme/CM8.ipynb#Y105sZmlsZQ%3D%3D?line=5'>6</a>\u001b[0m \u001b[39m# partie récursive : on appelle la fonction au sein d'elle-même :\u001b[39;00m\n\u001b[1;32m      <a href='vscode-notebook-cell:/Users/nicolasgutehrle/Documents/COURS/PROG2/CM8-Fonctionnalisme/CM8.ipynb#Y105sZmlsZQ%3D%3D?line=6'>7</a>\u001b[0m \u001b[39m# on va plus profond.\u001b[39;00m\n\u001b[1;32m      <a href='vscode-notebook-cell:/Users/nicolasgutehrle/Documents/COURS/PROG2/CM8-Fonctionnalisme/CM8.ipynb#Y105sZmlsZQ%3D%3D?line=7'>8</a>\u001b[0m \u001b[39melse\u001b[39;00m:\n\u001b[0;32m----> <a href='vscode-notebook-cell:/Users/nicolasgutehrle/Documents/COURS/PROG2/CM8-Fonctionnalisme/CM8.ipynb#Y105sZmlsZQ%3D%3D?line=8'>9</a>\u001b[0m     \u001b[39mreturn\u001b[39;00m fibonacci(n\u001b[39m-\u001b[39;49m\u001b[39m1\u001b[39;49m) \u001b[39m+\u001b[39m fibonacci(n\u001b[39m-\u001b[39m\u001b[39m2\u001b[39m)\n",
      "    \u001b[0;31m[... skipping similar frames: fibonacci at line 9 (82 times)]\u001b[0m\n",
      "\u001b[1;32m/Users/nicolasgutehrle/Documents/COURS/PROG2/CM8-Fonctionnalisme/CM8.ipynb Cell 48\u001b[0m in \u001b[0;36mfibonacci\u001b[0;34m(n)\u001b[0m\n\u001b[1;32m      <a href='vscode-notebook-cell:/Users/nicolasgutehrle/Documents/COURS/PROG2/CM8-Fonctionnalisme/CM8.ipynb#Y105sZmlsZQ%3D%3D?line=4'>5</a>\u001b[0m     \u001b[39mreturn\u001b[39;00m n \n\u001b[1;32m      <a href='vscode-notebook-cell:/Users/nicolasgutehrle/Documents/COURS/PROG2/CM8-Fonctionnalisme/CM8.ipynb#Y105sZmlsZQ%3D%3D?line=5'>6</a>\u001b[0m \u001b[39m# partie récursive : on appelle la fonction au sein d'elle-même :\u001b[39;00m\n\u001b[1;32m      <a href='vscode-notebook-cell:/Users/nicolasgutehrle/Documents/COURS/PROG2/CM8-Fonctionnalisme/CM8.ipynb#Y105sZmlsZQ%3D%3D?line=6'>7</a>\u001b[0m \u001b[39m# on va plus profond.\u001b[39;00m\n\u001b[1;32m      <a href='vscode-notebook-cell:/Users/nicolasgutehrle/Documents/COURS/PROG2/CM8-Fonctionnalisme/CM8.ipynb#Y105sZmlsZQ%3D%3D?line=7'>8</a>\u001b[0m \u001b[39melse\u001b[39;00m:\n\u001b[0;32m----> <a href='vscode-notebook-cell:/Users/nicolasgutehrle/Documents/COURS/PROG2/CM8-Fonctionnalisme/CM8.ipynb#Y105sZmlsZQ%3D%3D?line=8'>9</a>\u001b[0m     \u001b[39mreturn\u001b[39;00m fibonacci(n\u001b[39m-\u001b[39;49m\u001b[39m1\u001b[39;49m) \u001b[39m+\u001b[39m fibonacci(n\u001b[39m-\u001b[39m\u001b[39m2\u001b[39m)\n",
      "\u001b[0;31mKeyboardInterrupt\u001b[0m: "
     ]
    }
   ],
   "source": [
    "fibonacci(100)"
   ]
  },
  {
   "attachments": {},
   "cell_type": "markdown",
   "metadata": {},
   "source": [
    "Dans le paradigme fonctionnaliste, les iterations (donc les boucles) n'existent pas. Elles sont remplacées par l'emploi de fonctions récursives.\n",
    "\n",
    "Ainsi, les fonctions récursives sont nécessaires lorsque l'on doit appliquer plusieurs fois de suite la même opération et / ou que l'on ne sait pas combien de fois cette opération doit être répétée (comme ci-dessous) :"
   ]
  },
  {
   "cell_type": "code",
   "execution_count": 55,
   "metadata": {},
   "outputs": [
    {
     "name": "stdout",
     "output_type": "stream",
     "text": [
      "[0, 1, 2, 3]\n",
      "[0, 1, 2, 3]\n"
     ]
    }
   ],
   "source": [
    "# retourne la liste la plus profonde\n",
    "def getDeepestList(nestedList):\n",
    "    if not isinstance(nestedList[0], list):\n",
    "        return nestedList\n",
    "    else:\n",
    "        return getDeepestList(nestedList[0])\n",
    "\n",
    "nestedList1 = [[0,1,2,3]]\n",
    "\n",
    "print(getDeepestList(nestedList1))\n",
    "\n",
    "nestedList2 = [[[[0,1,2,3]]]]\n",
    "print(getDeepestList(nestedList1))\n"
   ]
  },
  {
   "attachments": {},
   "cell_type": "markdown",
   "metadata": {},
   "source": [
    "La récursivité peut rapidement consommer beaucoup de mémoire vive, et donc ralentir le code. Pour accélerer le déroulé, on peut stocker les résultats des calculs précédents. Ainsi, lorsque l'on appelle la fonction avec les mêmes paramètres, il nous suffit d'aller chercher dans le stockage le résultat correspondant, plutôt que de tout recalculer. On appelle ça la **memoization** ou **caching**.\n",
    "\n",
    "Pour les fonctions récurvise, la **memoization** est possible grâce au décorateur **lru_cache** de la librairie **functools**."
   ]
  },
  {
   "cell_type": "code",
   "execution_count": 29,
   "metadata": {},
   "outputs": [
    {
     "data": {
      "text/plain": [
       "354224848179261915075"
      ]
     },
     "execution_count": 29,
     "metadata": {},
     "output_type": "execute_result"
    }
   ],
   "source": [
    "from functools import lru_cache\n",
    "\n",
    "# l'argument maxsize spécifie la taille maximale\n",
    "# du cache. Ici, on ne définit pas de taille maximale\n",
    "@lru_cache(maxsize=None)\n",
    "def fibonacci(n):\n",
    "    if n in (0, 1):\n",
    "        return n \n",
    "    return fibonacci(n-1) + fibonacci(n-2)\n",
    "\n",
    "# ce code s'éxécute presque instantanément, alors qu'il \n",
    "# prenait plusieurs secondes avant\n",
    "fibonacci(100)"
   ]
  },
  {
   "attachments": {},
   "cell_type": "markdown",
   "metadata": {},
   "source": [
    "# Pour aller plus loin\n",
    "\n",
    "Fonctionnalisme :\n",
    "* https://docs.python.org/3/howto/functional.html#modularity\n",
    "* https://docs.python.org/3/library/functools.html\n",
    "* https://realpython.com/python-functional-programming/\n",
    "* https://machinelearningmastery.com/functional-programming-in-python/\n",
    "\n",
    "Générateurs :\n",
    "* https://realpython.com/introduction-to-python-generators/\n",
    "* https://thecraftman.medium.com/how-working-with-python-generators-made-my-code-execution-faster-de085c10e106\n",
    "\n",
    "Récursivité : \n",
    "* https://realpython.com/fibonacci-sequence-python/\n",
    "* https://en.wikipedia.org/wiki/Fibonacci_number\n",
    "* https://www.programiz.com/python-programming/recursion\n",
    "* https://realpython.com/python-thinking-recursively/\n",
    "\n",
    "Décorateurs : (qui commencent par @)\n",
    "Les décorateurs sont des fonctions qui modifient le comportement d'autres fonctions. \n",
    "* https://www.datacamp.com/tutorial/decorators-python\n",
    "* https://realpython.com/primer-on-python-decorators/\n",
    "* https://www.programiz.com/python-programming/decorator\n",
    "\n",
    "Threading / Parallelisme : \n",
    "Le threading et le parallelisme désignent les méthodes permettant d'exécuter plusieurs opérations en même temps. Pour cela, on profite des nombreux coeurs de l'ordinateur. \n",
    "* https://realpython.com/python-concurrency/\n",
    "* https://www.machinelearningplus.com/python/parallel-processing-python/\n",
    "* https://docs.python.org/3/library/multiprocessing.html\n"
   ]
  }
 ],
 "metadata": {
  "kernelspec": {
   "display_name": "Python 3",
   "language": "python",
   "name": "python3"
  },
  "language_info": {
   "codemirror_mode": {
    "name": "ipython",
    "version": 3
   },
   "file_extension": ".py",
   "mimetype": "text/x-python",
   "name": "python",
   "nbconvert_exporter": "python",
   "pygments_lexer": "ipython3",
   "version": "3.9.10"
  },
  "orig_nbformat": 4,
  "vscode": {
   "interpreter": {
    "hash": "b0fa6594d8f4cbf19f97940f81e996739fb7646882a419484c72d19e05852a7e"
   }
  }
 },
 "nbformat": 4,
 "nbformat_minor": 2
}
