{
 "cells": [
  {
   "attachments": {},
   "cell_type": "markdown",
   "metadata": {},
   "source": [
    "# CM7 - Tests et documentation"
   ]
  },
  {
   "attachments": {},
   "cell_type": "markdown",
   "metadata": {},
   "source": [
    "# 1 - S'assurer du bon fonctionnement du code avec des tests\n",
    "\n",
    "Il est primordial de s'assurer du bon fonctionnement de son code, notamment dans un environnement industriel et de production. Pour cela, il est nécessaire de rédiger au fur et à mesure des tests qui viendront valider le fonctionnement de votre code. \n",
    "\n",
    "Ces tests doivent s'assurer du bon fonctionnement d'une unité de code à la fois, et doivent fonctionner de manière indépendante. Ainsi, on rédigera un test pour tester le bon fonctionnement d'une fonction ou d'une opération, mais pas du déroulé de toute une pipeline.\n",
    "\n",
    "Un test qui valide le fonctionnement d'une unité de code est appelé **test unitaire**. Un test qui valide la bonne intéraction entre les unités et leur intégration au système global est appelé **test d'intégration**. Ici nous nous concentrerons sur les tests unitaires.\n",
    "\n",
    "En python, il existe de nombreuses librairies pour rédiger ces tests, notamment **pytest** et **unitest**. Ici nous travaillerons avec **pytest** qui est beaucoup plus simple à manipuler et tout aussi puissant.\n"
   ]
  },
  {
   "attachments": {},
   "cell_type": "markdown",
   "metadata": {},
   "source": [
    "# Exercice 1\n",
    "\n",
    "Dans le dossier main, créez un dossiers **tests**. Dans celui-ci, créez :\n",
    "* un fichier **__ init __.py** qui restera vide\n",
    "* un fichier **test_vehicules1.py** et copiez-collez le code ci-dessous.\n",
    "\n",
    "Activez l'environnement virtuel et installez **pytest** avec la commande **pip install pytest**, puis appelez l'outil avec la commande **pytest**.\n",
    "\n",
    "Que se passe-t-il ? "
   ]
  },
  {
   "cell_type": "code",
   "execution_count": 1,
   "metadata": {},
   "outputs": [
    {
     "ename": "ModuleNotFoundError",
     "evalue": "No module named 'pytest'",
     "output_type": "error",
     "traceback": [
      "\u001b[0;31m---------------------------------------------------------------------------\u001b[0m",
      "\u001b[0;31mModuleNotFoundError\u001b[0m                       Traceback (most recent call last)",
      "\u001b[1;32m/Users/nicolasgutehrle/Documents/COURS/PROG2/CM7-Documentation-Test/CM7.ipynb Cell 4\u001b[0m in \u001b[0;36m<module>\u001b[0;34m\u001b[0m\n\u001b[0;32m----> <a href='vscode-notebook-cell:/Users/nicolasgutehrle/Documents/COURS/PROG2/CM7-Documentation-Test/CM7.ipynb#W4sZmlsZQ%3D%3D?line=0'>1</a>\u001b[0m \u001b[39mimport\u001b[39;00m \u001b[39mpytest\u001b[39;00m\n\u001b[1;32m      <a href='vscode-notebook-cell:/Users/nicolasgutehrle/Documents/COURS/PROG2/CM7-Documentation-Test/CM7.ipynb#W4sZmlsZQ%3D%3D?line=1'>2</a>\u001b[0m \u001b[39mfrom\u001b[39;00m \u001b[39mvehicules\u001b[39;00m\u001b[39m.\u001b[39;00m\u001b[39mvehicules\u001b[39;00m \u001b[39mimport\u001b[39;00m Voiture\n\u001b[1;32m      <a href='vscode-notebook-cell:/Users/nicolasgutehrle/Documents/COURS/PROG2/CM7-Documentation-Test/CM7.ipynb#W4sZmlsZQ%3D%3D?line=3'>4</a>\u001b[0m \u001b[39mdef\u001b[39;00m \u001b[39mtest_voitureRoues\u001b[39m():\n",
      "\u001b[0;31mModuleNotFoundError\u001b[0m: No module named 'pytest'"
     ]
    }
   ],
   "source": [
    "import pytest\n",
    "from vehicules.vehicules import Voiture\n",
    "\n",
    "def test_voitureRoues():\n",
    "    \"\"\"\n",
    "    Test la bonne instanciation de l'attribut roues\n",
    "    \"\"\"\n",
    "    v = Voiture(4, 'volant', 'fauteuil', 'diesel', 5)\n",
    "    assert v.roues == 4"
   ]
  },
  {
   "attachments": {},
   "cell_type": "markdown",
   "metadata": {},
   "source": [
    "# Solution\n",
    "\n",
    "Le fait de créer un fichier **__init__.py** dans le dossier test le transforme en package. Cela permet d'accéder aux autres packages du dossier, en l'occurrence le package **vehicules**. Ceci est une astuce, notamment employée dans la librairie **request**. "
   ]
  },
  {
   "cell_type": "code",
   "execution_count": null,
   "metadata": {},
   "outputs": [],
   "source": []
  },
  {
   "cell_type": "code",
   "execution_count": null,
   "metadata": {},
   "outputs": [],
   "source": [
    "!mkdir tests\n",
    "!touch tests/test_vehicules.py\n",
    "!source venv/bin/activate\n",
    "!pip install pytest\n",
    "!pytest"
   ]
  },
  {
   "attachments": {},
   "cell_type": "markdown",
   "metadata": {},
   "source": [
    "Par défaut, **pytest** considérera tout fichier Python commençant par **test_** comme un fichier de test, et l'exécutera. \n",
    "\n",
    "Pour rédiger un test avec **pytest**, il faut écrire des fonctions dont le nom commence par **test_**. Ceux-ci seront automatiquement identifiés et exécutés par **pytest**, sans avoir besoin de les appeler dans le script. \n",
    "\n",
    "Il faut également s'assurer d'importer **pytest** dans le script\n",
    "\n",
    "Le but d'un test est de s'assurer qu'une condition est remplie. Pour cela, on emploie la commande **assert** \n"
   ]
  },
  {
   "cell_type": "code",
   "execution_count": null,
   "metadata": {},
   "outputs": [],
   "source": [
    "# on importe pytest\n",
    "import pytest\n",
    "# on importe les autres outils dont on a besoin\n",
    "from vehicules.vehicules import Voiture\n",
    "\n",
    "# puisque la fonction commence par test_, elle sera\n",
    "# automatiquement identifiée comme un test\n",
    "def test_voitureRoues():\n",
    "    \"\"\"\n",
    "    Test la bonne instanciation de l'attribut roues\n",
    "    \"\"\"\n",
    "    v = Voiture(4, 'volant', 'fauteuil', 'diesel', 5)\n",
    "    assert v.roues == 4\n",
    "    # ici on s'assure que v.roues est bien égal à 4"
   ]
  },
  {
   "attachments": {},
   "cell_type": "markdown",
   "metadata": {},
   "source": [
    "# Exercice 2\n",
    "\n",
    "Dans **test_vehicules.py**, ajoutez une fonction test pour contrôler que chacun des attributs de l'instance Voiture est bien instancié. Vous pouvez vous appuyez de la première fonction pour écrire les suivantes. Une fois terminé, appelez la commande **pytest** pour tester vos modules"
   ]
  },
  {
   "cell_type": "code",
   "execution_count": null,
   "metadata": {},
   "outputs": [],
   "source": []
  },
  {
   "attachments": {},
   "cell_type": "markdown",
   "metadata": {},
   "source": [
    "# Solution\n",
    "\n",
    "voir fichier **test_utils1.py**"
   ]
  },
  {
   "cell_type": "code",
   "execution_count": null,
   "metadata": {},
   "outputs": [],
   "source": []
  },
  {
   "attachments": {},
   "cell_type": "markdown",
   "metadata": {},
   "source": [
    "# Exercice 3\n",
    "\n",
    "Ajoutez un fichier **test_utils1.py** dans le dossier test, puis ajoutez le code ci-dessous. Enfin, appelez la commande **pytest**. Que se passe-t-il ? "
   ]
  },
  {
   "cell_type": "code",
   "execution_count": null,
   "metadata": {},
   "outputs": [],
   "source": [
    "import pytest\n",
    "from vehicules.utils import calculerVitesse\n",
    "from vehicules.vehicules import Voiture\n",
    "\n",
    "def test_calculerVitesse():\n",
    "    \"\"\"\n",
    "    Test de la fonction calculerMethode\n",
    "    \"\"\"\n",
    "    v = Voiture(4, 'volant', 'fauteuil', 'diesel', 5)\n",
    "    vitesse = calculerVitesse(v)\n",
    "    assert vitesse == 2 / 4\n",
    "    # ici on s'assure que la vitesse est bien égale à 2 / 4,\n",
    "    # c'est à dire à sa vitesse de base par son nombre de roues\n",
    "    # (voir méthode calculerVitesse)"
   ]
  },
  {
   "attachments": {},
   "cell_type": "markdown",
   "metadata": {},
   "source": [
    "Dans les cas précédents, les tests réussisaient puisque que les assertions étaient validées. Cependant, que se passe-t-il si une assertation n'est justement pas validée ?"
   ]
  },
  {
   "attachments": {},
   "cell_type": "markdown",
   "metadata": {},
   "source": [
    "# Exercice 4\n",
    "\n",
    "Ajoutez le code ci-dessous au fichier **test_utils1.py**, puis exécutez la commande **pytest**. Que se passe-t-il ? "
   ]
  },
  {
   "cell_type": "code",
   "execution_count": null,
   "metadata": {},
   "outputs": [],
   "source": [
    "def test_calculerVitesseFail():\n",
    "    \"\"\"\n",
    "    Test de la fonction calculerMethode\n",
    "    Ce test doit echouer\n",
    "    \"\"\"\n",
    "    v = Voiture(4, 'volant', 'fauteuil', 'diesel', 5)\n",
    "    vitesse = calculerVitesse(v)\n",
    "    assert vitesse == 8\n"
   ]
  },
  {
   "attachments": {},
   "cell_type": "markdown",
   "metadata": {},
   "source": [
    "# Solution \n",
    "\n",
    "Le test échoue puisque l'assertion est fausse"
   ]
  },
  {
   "attachments": {},
   "cell_type": "markdown",
   "metadata": {},
   "source": [
    "Si le test n'est pas passé, il faut d'abord s'assurer que le test a bien été écrit. Si c'est le cas, cela veut dire qu'il y a un problème dans votre code qui doit être réglé. Continuez à modifier et à tester votre code jusqu'à ce que le test soit passé."
   ]
  },
  {
   "attachments": {},
   "cell_type": "markdown",
   "metadata": {},
   "source": [
    "# Contrôlez les erreurs soulevées\n",
    "\n",
    "En plus de tester le bon fonctionnement du code, on peut vouloir s'assurer que celui-ci retourne bien les erreurs attendues. Pour cela, **pytest** fournit un context manager : \n",
    "\n"
   ]
  },
  {
   "cell_type": "code",
   "execution_count": null,
   "metadata": {},
   "outputs": [],
   "source": [
    "with open(filename, 'r', encoding='utf-8') as f:\n",
    "    file = f.read()\n",
    "print(file)"
   ]
  },
  {
   "cell_type": "code",
   "execution_count": null,
   "metadata": {},
   "outputs": [],
   "source": [
    "# ici on peut remplacer ValueError par le type d'erreur attendue\n",
    "with pytest.raises(ValueError): \n",
    "    # ici on écrit le code qui doit déclencher l'erreur\n",
    "    pass"
   ]
  },
  {
   "attachments": {},
   "cell_type": "markdown",
   "metadata": {},
   "source": [
    "# Exercice 5\n",
    "\n",
    "Ajoutez le code ci-dessous à **test_vehicules1.py** puis appelez **pytest**. Est-ce que le test échoue ?"
   ]
  },
  {
   "cell_type": "code",
   "execution_count": null,
   "metadata": {},
   "outputs": [],
   "source": [
    "def test_voitureErrorDirection():\n",
    "    \"\"\"\n",
    "    S'assure que une mauvaise valeur pour direction retourne la bonne erreur\n",
    "    \"\"\"\n",
    "    # dans ce context manager, on s'assure que le code souleve le \n",
    "    # bon type d'erreur\n",
    "    with pytest.raises(ValueError):\n",
    "        v = Voiture(4, 'bonjour', 'fauteuil', 'diesel', 5)"
   ]
  },
  {
   "attachments": {},
   "cell_type": "markdown",
   "metadata": {},
   "source": [
    "# Solution\n",
    "\n",
    "Non le test n'échoue pas puisque le code a bien soulevé une ValueError, comme attendue. Le test aurait échoué s'il ne l'avait pas fait."
   ]
  },
  {
   "cell_type": "markdown",
   "metadata": {},
   "source": []
  },
  {
   "attachments": {},
   "cell_type": "markdown",
   "metadata": {},
   "source": [
    "# Eviter la redondance\n",
    "\n",
    "Dans les codes précédents, nous avons répété plusieurs fois la création d'une instance de la classe Voiture, avec des valeurs identiques. En plus d'être laborieux, ceci est prône à l'erreur, et complexifie la modification du code.\n",
    "\n",
    "Pour combler ce problème dans le cadre de l'écriture de tests, **pytest** propose le décorateur **pytest.fixture**. Il s'emploie avec une fonction qui doit retourner l'objet qui sera utilisé plusieurs fois. "
   ]
  },
  {
   "cell_type": "code",
   "execution_count": null,
   "metadata": {},
   "outputs": [],
   "source": [
    "import pytest\n",
    "from vehicules.vehicules import Voiture\n",
    "\n",
    "# le décorateur ici rend cette fonction employable comme argument dans les tests\n",
    "@pytest.fixture\n",
    "def voitureCorrecte():\n",
    "    \"\"\"\n",
    "    Retourne une instance de Voiture bien formée\n",
    "\n",
    "    :return: une instance de Voiture bien formée\n",
    "    :rtype: Voiture\n",
    "    \"\"\"\n",
    "    return Voiture(4, 'volant', 'fauteuil', 'diesel', 5)\n",
    "    # la fonction doit retourner l'objet qui sera manipulé\n"
   ]
  },
  {
   "attachments": {},
   "cell_type": "markdown",
   "metadata": {},
   "source": [
    "Cette fonction est ensuite employée comme arguments pour les différents tests"
   ]
  },
  {
   "cell_type": "code",
   "execution_count": null,
   "metadata": {},
   "outputs": [],
   "source": [
    "\n",
    "# ici l'argument doit avec le même nom que la fonction qui possède le décorateur\n",
    "# pytest.fixture. Elle peut alors s'employer comme une variable normale\n",
    "def test_voitureRoues(voitureCorrecte):\n",
    "    \"\"\"\n",
    "    Test la bonne instanciation de l'attribut roues\n",
    "    \"\"\"\n",
    "    assert voitureCorrecte.roues == 4"
   ]
  },
  {
   "attachments": {},
   "cell_type": "markdown",
   "metadata": {},
   "source": [
    "# Exercice 6\n",
    "\n",
    "Dans le dossier **tests**, créez un fichier **test_vehicules2.py**. Dans ce fichier copiez-collez le code ci-dessous puis appelez **pytest **\n",
    "\n",
    "Que remarquez-vous ? \n",
    "\n",
    "Une fois le test réalisé, réecrivez les tests pour chaque attribut de Voiture comme dans l'exercice 2, mais en suivant la méthode **fixture**."
   ]
  },
  {
   "cell_type": "code",
   "execution_count": null,
   "metadata": {},
   "outputs": [],
   "source": [
    "import pytest\n",
    "from vehicules.vehicules import Voiture\n",
    "\n",
    "@pytest.fixture\n",
    "def voitureCorrecte():\n",
    "    \"\"\"\n",
    "    Retourne une instance de Voiture bien formée\n",
    "\n",
    "    :return: une instance de Voiture bien formée\n",
    "    :rtype: Voiture\n",
    "    \"\"\"\n",
    "    return Voiture(4, 'volant', 'fauteuil', 'diesel', 5)\n",
    "\n",
    "\n",
    "def test_voitureRoues(voitureCorrecte):\n",
    "    \"\"\"\n",
    "    Test la bonne instanciation de l'attribut roues\n",
    "    \"\"\"\n",
    "    assert voitureCorrecte.roues == 4"
   ]
  },
  {
   "attachments": {},
   "cell_type": "markdown",
   "metadata": {},
   "source": [
    "# Solution\n",
    "\n",
    "voir le fichier **test_vehicules2.py**\n",
    "\n",
    "Le test réussit, puisque l'instance de voiture est créée correctement. "
   ]
  },
  {
   "cell_type": "code",
   "execution_count": null,
   "metadata": {},
   "outputs": [],
   "source": []
  },
  {
   "attachments": {},
   "cell_type": "markdown",
   "metadata": {},
   "source": [
    "## Tester plusieurs combinaisons de paramètres\n",
    "\n",
    "Parfois on veut pouvoir appliquer des tests avec plusieurs combinaisons de valeurs. Plutôt que de réecrire un test différent pour chaque combinaison, on peut employer le décorateur **@pytest.mark.parametrize()** qui a la structure suivante : "
   ]
  },
  {
   "cell_type": "code",
   "execution_count": null,
   "metadata": {},
   "outputs": [],
   "source": [
    "# le décorateur vient au dessus de la fonction\n",
    "# le premier argument du décorateur est une str\n",
    "# qui contient des \"variables\" séparées par des virgules\n",
    "# le second argument est une liste de tuples, qui contiennent\n",
    "# les valeurs de ces variables\n",
    "@pytest.mark.parametrize(\"on,separe,chaque,variable\", [\n",
    "    (1,2,3,4), # ici, on = 1, separe = 2, chaque=3, variable=4\n",
    "    (2,3,4,5),# ici, on = 2, separe = 3, chaque=4, variable=5\n",
    "    (3,4,5,6)# ici, on = 3, separe = 4, chaque=5, variable=6\n",
    "])\n",
    "def test_XX(on,separe,chaque,variable):\n",
    "    pass"
   ]
  },
  {
   "attachments": {},
   "cell_type": "markdown",
   "metadata": {},
   "source": [
    "# Exercice 7\n",
    "\n",
    "Créez un fichier **test_utils2.py** dans le dossier **test** puis copiez le code ci-dessous dans le fichier. "
   ]
  },
  {
   "cell_type": "code",
   "execution_count": null,
   "metadata": {},
   "outputs": [],
   "source": [
    "import pytest\n",
    "from vehicules.utils import calculerVitesse, comparerVitesse\n",
    "from vehicules.vehicules import Voiture\n",
    "\n",
    "@pytest.mark.parametrize(\"roues,direction,siege,moteur,portes\",[\n",
    "    (4, 'volant', 'fauteuil', 'diesel', 5),\n",
    "    (4, 'volant', 'fauteuil', 'essence', 5),\n",
    "    (4, 'volant', 'fauteuil', 'electrique', 5)\n",
    "])\n",
    "def test_calculerVitesse(roues, direction, siege, moteur, portes):\n",
    "    \"\"\"\n",
    "    Test de la fonction calculerMethode\n",
    "    \"\"\"\n",
    "    v = Voiture(roues, direction, siege, moteur, portes)\n",
    "    try:\n",
    "        if moteur == 'essence':\n",
    "            vitesse_moteur = 1\n",
    "        elif moteur == 'diesel':\n",
    "            vitesse_moteur = 2\n",
    "        else:\n",
    "            vitesse_moteur = 3\n",
    "\n",
    "    except AttributeError:\n",
    "        vitesse_moteur = 0.5\n",
    "\n",
    "    vitesse = calculerVitesse(v)\n",
    "    assert vitesse == vitesse_moteur / roues"
   ]
  },
  {
   "attachments": {},
   "cell_type": "markdown",
   "metadata": {},
   "source": [
    "---------------------------------------------"
   ]
  },
  {
   "cell_type": "code",
   "execution_count": null,
   "metadata": {},
   "outputs": [],
   "source": []
  },
  {
   "cell_type": "markdown",
   "metadata": {},
   "source": [
    "# Documentation, commentaires et type hints\n"
   ]
  },
  {
   "cell_type": "markdown",
   "metadata": {},
   "source": [
    "# Commentaires\n",
    "\n",
    "Ajouter des commentaires à son code est très important : ils permettent d'expliquer les différentes étapes du code, qui n'est pas toujours clair en lui-même (c'est d'autant plus le cas si vous retouchez à votre code plusieurs jours ou semaines après l'avoir écrit). Ils peuvent aussi vous permettre d'ajouter des étapes à réaliser, d'indiquer le plan de votre code, ... \n",
    "En Python, les commentaires correspondent aux lignes commençant par un **#**. Ces lignes sont ignorées par l'interpréteur. \n",
    "\n",
    "Il existe également des mots-clés spéciaux à employer dans les commentaires pour en mettre certains en avant (ex: TODO, BUG...)\n"
   ]
  },
  {
   "cell_type": "code",
   "execution_count": null,
   "metadata": {},
   "outputs": [],
   "source": [
    "class Voiture:\n",
    "\n",
    "    # On indique le type attendu pour chaque variable avec la syntaxe VARIABLE : TYPE\n",
    "    # On indique ce que retourne la fonction après la parenthèse fermante, avec la syntaxe\n",
    "    # -> TYPE\n",
    "    def __init__(self, marque, moteur, nbr_portes, boite, prix):\n",
    "        # TODO : ajouter la documentation\n",
    "\n",
    "        self.marque = marque\n",
    "        self.moteur = moteur\n",
    "        self.nbr_portes = nbr_portes\n",
    "        self.boite = boite\n",
    "        self.prix = prix\n",
    "        \n",
    "    def afficher_details(self):\n",
    "\n",
    "        # TODO : ajouter la documentation\n",
    "        proprietes = {\n",
    "            \"Marque\": self.marque,\n",
    "            \"Moteur\": self.moteur,\n",
    "            \"Nombre_portes\": self.nbr_portes,\n",
    "            \"Boite\": self.boite,\n",
    "            \"Prix\": self.prix\n",
    "        }\n",
    "        return proprietes\n",
    "        \n",
    "            \n",
    "    def changerNbrPortes(self, nbr_portes):\n",
    "\n",
    "        # change le nombre de portes. Si celui ci est \n",
    "        # * inférieur ou égal à trois : le prix est fixé à 30 000\n",
    "        # * strictement égal à 4 : le prix est fixé à 40 000\n",
    "        # * supérieur à 4 : le prix est fixé à 50 000\n",
    "        self.nbr_portes = nbr_portes\n",
    "        if nbr_portes <= 3:\n",
    "            self.prix = 30000\n",
    "        elif nbr_portes == 4:\n",
    "            self.prix = 40000\n",
    "        else:\n",
    "            self.prix = 50000\n"
   ]
  },
  {
   "cell_type": "markdown",
   "metadata": {},
   "source": [
    "# Documentation\n",
    "\n",
    "La documentation est un aspect extrêmement important du code: elle permet d'expliquer le fonctionnement du script à d'autres utilisateurs, quels paramètres il prend, ce qu'il retourne, etc... Elle est ajoutée au tout début de votre classe ou fonction, ou bien tout en haut du script si celui-ci est exécuté tel quel. La documentation est écrite dans une string spéciale nommée **docstring**. La docstring commence par trois double-guillemets et est fermée de la même façon.\n",
    "\n",
    "## Documentation des classes\n",
    "\n",
    "Elle doit contenir idéalement : \n",
    "* une description brève de la classe\n",
    "* une présentation des attributs (d'instance et de classe)\n",
    "* une présentation des méthodes publiques (donc pas des méthodes statiques)\n",
    "* le rapport avec d'éventuelles classes supérieures\n",
    "\n",
    "## Documentation des méthodes (y compris le constructeur) et des fonctions\n",
    "\n",
    "Doit contenir idéalement :\n",
    "* une description brève de la méthode\n",
    "* les paramètres attendus. On doit indiquer le type de variable attendu, si le paramètre est optionnel ou non, et si oui, quelle est sa valeur par défaut\n",
    "* le type de variable retournée par la méthode\n",
    "* les cas où la méthode retourne une erreur\n",
    "* tous commentaires éventuels qui facilite l'utilisation de cette méthode\n",
    "\n",
    "## Documentation des packages, modules et scripts\n",
    "\n",
    "Pour les packages, modules et scripts, la **docstring** doit se situer au tout début du document, dès la première ligne.\n",
    "\n",
    "Pour les packages :\n",
    "* la liste des modules contenues\n",
    "* la liste des éventuels sous-packages employés\n",
    "\n",
    "Pour les modules et les scripts, on attend idéalement :\n",
    "* une description brève du script\n",
    "* les classes qui y sont définies\n",
    "* les arguments attendus, leur type et s'ils sont optionnels ou non\n",
    "* le type de variable retournée par le script\n",
    "* les éventuelles erreurs retournées\n",
    "* tout autre commentaire utile à l'emploi de ce script\n",
    "\n"
   ]
  },
  {
   "cell_type": "code",
   "execution_count": null,
   "metadata": {},
   "outputs": [],
   "source": [
    "def somme(a, b):\n",
    "    \"\"\"_summary_\n",
    "\n",
    "    :param a: _description_\n",
    "    :type a: _type_\n",
    "    :param b: _description_\n",
    "    :type b: _type_\n",
    "    \"\"\""
   ]
  },
  {
   "cell_type": "code",
   "execution_count": null,
   "metadata": {},
   "outputs": [],
   "source": [
    "def somme(a:int, b:int) -> int:\n",
    "    \"\"\"_summary_\n",
    "\n",
    "    :param a: _description_\n",
    "    :type a: int\n",
    "    :param b: _description_\n",
    "    :type b: int\n",
    "    :return: _description_\n",
    "    :rtype: int\n",
    "    \"\"\"\n",
    "    return a+ b\n",
    "somme"
   ]
  },
  {
   "cell_type": "markdown",
   "metadata": {},
   "source": [
    "# Format de documentation\n",
    "\n",
    "Il existe quatre style de documentation :\n",
    "* **reStructuredText** : format standard de Python\n",
    "* **Google docstrings** : format recommandé par Google\n",
    "* **NumPy / SciPy docstrings** : format recommandé et employé par les librairies numpy et scipy, mixe reStructuredText et Google docstrings\n",
    "* **EpyText** : adaption de Epydoc, qui est le style employé en Java.\n",
    "\n",
    "Dans ce cours, nous utiliserons **reStructuredText**, le style standard employé pour la documentation en Python.  **reStructuredText** est un similaire au Markdown et dispose de nombreux opérateurs pour gérer la mise en page du texte. Pour rédiger les docstring, nous emploierons certains opérateurs et suivront une syntaxe particulière.\n",
    "\n",
    "La docstring commence par la description de la méthode, puis est suivie de la présentation des arguments, des erreurs et des valeurs retournées. Chacun est représenté par un mot-clé, entouré de deux-points (:). La docstring suit plus ou moins la structure ci-dessous : \n",
    "\n",
    "\"\"\"<br>\n",
    "Description de la méthode\n",
    "<br><br>\n",
    ":param [ParamName]: [ParamDescription], defaults to [DefaultParamVal]<br>\n",
    ":type [ParamName]: [ParamType](, optional)<br>\n",
    ":raises [ErrorType]: [ErrorDescription]<br>\n",
    ":return: [ReturnDescription]<br>\n",
    ":rtype: [ReturnType]<br>\n",
    "\"\"\"\n"
   ]
  },
  {
   "cell_type": "code",
   "execution_count": null,
   "metadata": {},
   "outputs": [],
   "source": [
    "class Voiture:\n",
    "    \"\"\"\n",
    "    Une classe exemple décrivant une Voiture. Ceci est la docstring pour la classe Voiture.\n",
    "    En utilisant le format reStructuredText, on doit y présenter les arguments attendus par\n",
    "    le constructeur (fonctionnement modifiable au besoin)\n",
    "\n",
    "    :param marque: la marque de la voiture\n",
    "    :type marque: str\n",
    "    :param moteur: le type de moteur (diesel, essence, électrique)\n",
    "    :type moteur: str\n",
    "    :param nbr_portes: le nombre de portes\n",
    "    :type nbr_portes: int\n",
    "    :param boite: le type de boite (auto, manuelle)\n",
    "    :type boite: str\n",
    "    :param prix: le prix de cette voiture, par défaut à 50 000\n",
    "    :type prix: int, optional\n",
    "    \"\"\"\n",
    "    # On indique le type attendu pour chaque variable avec la syntaxe VARIABLE : TYPE\n",
    "    # On indique ce que retourne la fonction après la parenthèse fermante, avec la syntaxe\n",
    "    # -> TYPE\n",
    "    def __init__(self, marque, moteur, nbr_portes, boite, prix=50000):\n",
    "        \"\"\"\n",
    "        Constructeur de la classe Voiture\n",
    "        \"\"\"\n",
    "        self.marque = marque\n",
    "        self.moteur = moteur\n",
    "        self.nbr_portes = nbr_portes\n",
    "        self.boite = boite\n",
    "        self.prix = prix\n",
    "        \n",
    "    def afficher_details(self):\n",
    "        \"\"\"\n",
    "        Exemple de documentation pour la fonction afficher_details\n",
    "        \n",
    "        :return: la fonction retourne un dioctionnaire avec les attributs\n",
    "        :rtype: dict\n",
    "        \"\"\"\n",
    "        proprietes = {\n",
    "            \"Marque\": self.marque,\n",
    "            \"Moteur\": self.moteur,\n",
    "            \"Nombre_portes\": self.nbr_portes,\n",
    "            \"Boite\": self.boite,\n",
    "            \"Prix\": self.prix\n",
    "        }\n",
    "        return proprietes\n",
    "        \n",
    "            \n",
    "    def changerNbrPortes(self, nbr_portes):\n",
    "        \"\"\"\n",
    "        Change la valeur de l'attribut nbr_portes de cette instance.\n",
    "        En fonction de cette valeur, change également la valeur de \n",
    "        l'attribut prix\n",
    "\n",
    "        :param nbr_portes: la nouvelle valeur pour l'attribut nbr_portes\n",
    "        :type nbr_portes: int\n",
    "        \"\"\"\n",
    "\n",
    "        # * inférieur ou égal à trois : le prix est fixé à 30 000\n",
    "        # * strictement égal à 4 : le prix est fixé à 40 000\n",
    "        # * supérieur à 4 : le prix est fixé à 50 000\n",
    "        self.nbr_portes = nbr_portes\n",
    "        if nbr_portes <= 3:\n",
    "            self.prix = 30000\n",
    "        elif nbr_portes == 4:\n",
    "            self.prix = 40000\n",
    "        else:\n",
    "            self.prix = 50000"
   ]
  },
  {
   "cell_type": "markdown",
   "metadata": {},
   "source": [
    "# Indices (type hints)\n",
    "\n",
    "Enfin depuis Python 3.5 il est possible de donner des indices quant au type des variables. On parle alors de **type hinting**. Le type hinting peut s'utiliser pour décrire les variables ainsi que les arguments d'une fonction. Pour cela, on emploie la syntaxe **VARIABLE : TYPE**."
   ]
  },
  {
   "cell_type": "code",
   "execution_count": null,
   "metadata": {},
   "outputs": [],
   "source": [
    "class Voiture:\n",
    "    \"\"\"\n",
    "    Une classe exemple décrivant une Voiture. Ceci est la docstring pour la classe Voiture.\n",
    "    En utilisant le format reStructuredText, on doit y présenter les arguments attendus par\n",
    "    le constructeur (fonctionnement modifiable au besoin)\n",
    "    \n",
    "    :param marque: la marque de la voiture\n",
    "    :type marque: str\n",
    "    :param moteur: le type de moteur (diesel, essence, électrique)\n",
    "    :type moteur: str\n",
    "    :param nbr_portes: le nombre de portes\n",
    "    :type nbr_portes: int\n",
    "    :param boite: le type de boite (auto, manuelle)\n",
    "    :type boite: str\n",
    "    :param prix: le prix de cette voiture, par défaut à 50 000\n",
    "    :type prix: int, optional\n",
    "    \"\"\"\n",
    "    # On indique le type attendu pour chaque variable avec la syntaxe VARIABLE : TYPE\n",
    "    # On indique ce que retourne la fonction après la parenthèse fermante, avec la syntaxe\n",
    "    # -> TYPE\n",
    "    def __init__(self, marque : str, moteur : str, nbr_portes : int, boite : str, prix : int = 50000) -> None:\n",
    "        \"\"\"\n",
    "        Constructeur de la classe Voiture\n",
    "        \"\"\"\n",
    "\n",
    "        self.marque : str = marque\n",
    "        self.moteur : str = moteur\n",
    "        self.nbr_portes : int = nbr_portes\n",
    "        self.boite : str = boite\n",
    "        self.prix : int = prix\n",
    "        \n",
    "    def afficher_details(self) -> dict:\n",
    "        \"\"\"\n",
    "        Exemple de documentation pour la fonction afficher_details\n",
    "        \n",
    "        :return: la fonction retourne un dioctionnaire avec les attributs\n",
    "        :rtype: dict\n",
    "        \"\"\"\n",
    "        proprietes : dict = {\n",
    "            \"Marque\": self.marque,\n",
    "            \"Moteur\": self.moteur,\n",
    "            \"Nombre_portes\": self.nbr_portes,\n",
    "            \"Boite\": self.boite,\n",
    "            \"Prix\": self.prix\n",
    "        }\n",
    "        return proprietes\n",
    "        \n",
    "            \n",
    "    def setPrix(self, nbr_portes) -> None:\n",
    "        \"\"\"\n",
    "        Change la valeur de l'attribut nbr_portes de cette instance.\n",
    "        En fonction de cette valeur, change également la valeur de \n",
    "        l'attribut prix\n",
    "\n",
    "        :param nbr_portes: la nouvelle valeur pour l'attribut nbr_portes\n",
    "        :type nbr_portes: int\n",
    "        \"\"\"\n",
    "        # * inférieur ou égal à trois : le prix est fixé à 30 000\n",
    "        # * strictement égal à 4 : le prix est fixé à 40 000\n",
    "        # * supérieur à 4 : le prix est fixé à 50 000\n",
    "        self.nbr_portes : int = nbr_portes\n",
    "        if nbr_portes <= 3:\n",
    "            self.prix : int = 30000\n",
    "        elif nbr_portes == 4:\n",
    "            self.prix : int = 40000\n",
    "        else:\n",
    "            self.prix : int = 50000\n"
   ]
  },
  {
   "cell_type": "markdown",
   "metadata": {},
   "source": [
    "## Afficher la documentation\n",
    "Pour afficher la documentation d'une fonction ou d'une classe, on peut soit utiliser la fonction ``help()`` ou bien appeler la propriété ``__doc__`` de l'objet:"
   ]
  },
  {
   "cell_type": "code",
   "execution_count": null,
   "metadata": {},
   "outputs": [
    {
     "name": "stdout",
     "output_type": "stream",
     "text": [
      "\n",
      "    Une classe exemple décrivant une Voiture. Ceci est la docstring pour la classe Voiture.\n",
      "    En utilisant le format reStructuredText, on doit y présenter les arguments attendus par\n",
      "    le constructeur (fonctionnement modifiable au besoin)\n",
      "    \n",
      "    :param marque: la marque de la voiture\n",
      "    :type marque: str\n",
      "    :param moteur: le type de moteur (diesel, essence, électrique)\n",
      "    :type moteur: str\n",
      "    :param nbr_portes: le nombre de portes\n",
      "    :type nbr_portes: int\n",
      "    :param boite: le type de boite (auto, manuelle)\n",
      "    :type boite: str\n",
      "    :param prix: le prix de cette voiture, par défaut à 50 000\n",
      "    :type prix: int, optional\n",
      "    \n"
     ]
    }
   ],
   "source": [
    "print(Voiture.__doc__)"
   ]
  },
  {
   "cell_type": "code",
   "execution_count": null,
   "metadata": {},
   "outputs": [
    {
     "name": "stdout",
     "output_type": "stream",
     "text": [
      "Help on class Voiture in module __main__:\n",
      "\n",
      "class Voiture(builtins.object)\n",
      " |  Voiture(marque: str, moteur: str, nbr_portes: int, boite: str, prix: int = 50000) -> None\n",
      " |  \n",
      " |  Une classe exemple décrivant une Voiture. Ceci est la docstring pour la classe Voiture.\n",
      " |  En utilisant le format reStructuredText, on doit y présenter les arguments attendus par\n",
      " |  le constructeur (fonctionnement modifiable au besoin)\n",
      " |  \n",
      " |  :param marque: la marque de la voiture\n",
      " |  :type marque: str\n",
      " |  :param moteur: le type de moteur (diesel, essence, électrique)\n",
      " |  :type moteur: str\n",
      " |  :param nbr_portes: le nombre de portes\n",
      " |  :type nbr_portes: int\n",
      " |  :param boite: le type de boite (auto, manuelle)\n",
      " |  :type boite: str\n",
      " |  :param prix: le prix de cette voiture, par défaut à 50 000\n",
      " |  :type prix: int, optional\n",
      " |  \n",
      " |  Methods defined here:\n",
      " |  \n",
      " |  __init__(self, marque: str, moteur: str, nbr_portes: int, boite: str, prix: int = 50000) -> None\n",
      " |      Constructeur de la classe Voiture\n",
      " |  \n",
      " |  afficher_details(self) -> dict\n",
      " |      Exemple de documentation pour la fonction afficher_details\n",
      " |      \n",
      " |      :return: la fonction retourne un dioctionnaire avec les attributs\n",
      " |      :rtype: dict\n",
      " |  \n",
      " |  setPrix(self, nbr_portes) -> None\n",
      " |      Change la valeur de l'attribut nbr_portes de cette instance.\n",
      " |      En fonction de cette valeur, change également la valeur de \n",
      " |      l'attribut prix\n",
      " |      \n",
      " |      :param nbr_portes: la nouvelle valeur pour l'attribut nbr_portes\n",
      " |      :type nbr_portes: int\n",
      " |  \n",
      " |  ----------------------------------------------------------------------\n",
      " |  Data descriptors defined here:\n",
      " |  \n",
      " |  __dict__\n",
      " |      dictionary for instance variables (if defined)\n",
      " |  \n",
      " |  __weakref__\n",
      " |      list of weak references to the object (if defined)\n",
      "\n"
     ]
    }
   ],
   "source": [
    "help(Voiture)"
   ]
  },
  {
   "cell_type": "code",
   "execution_count": null,
   "metadata": {},
   "outputs": [],
   "source": []
  },
  {
   "cell_type": "markdown",
   "metadata": {},
   "source": [
    "# Ressources\n",
    "\n",
    "* Documentation (RealPython): https://realpython.com/documenting-python-code/"
   ]
  },
  {
   "attachments": {},
   "cell_type": "markdown",
   "metadata": {},
   "source": [
    "# 2 -Produire la documentation d'un package avec Sphinx\n",
    "\n",
    "La documentation d'un code est très importante pour comprendre son fonctionnement. Afin de mieux diffuser ce code et d'en faciliter la lecture, il est possible d'employer des outils de génération de documentations. En Python, l'outil principal pour cela est **Sphinx** : https://www.sphinx-doc.org/en/master/index.html\n",
    "\n",
    "Sphinx repose sur des fichiers .rst (restructuredText) pour générer des pages HTML qui décrivent le package, voir un site web entier. De plus, Sphinx est capable d'extraire la documentation directement depuis le code. Il est capable de lire les différents formats de docstring, mais par défaut, il attend un format restructuredText. \n",
    "\n",
    "Sphinx est installable avec pip (dans votre environnement virtuel) :"
   ]
  },
  {
   "cell_type": "code",
   "execution_count": null,
   "metadata": {},
   "outputs": [],
   "source": [
    "# installation de sphinx\n",
    "pip install -U sphinx\n",
    "\n",
    "# installation d'un thème que l'on utilisera plus tard\n",
    "pip install sphinx_rtd_theme"
   ]
  },
  {
   "cell_type": "markdown",
   "metadata": {},
   "source": [
    "## Exercice 5\n",
    "\n",
    "Dans votre dossier **main**, créez un dossier **docs** depuis le terminal. Pour cela, employez la commande **mkdir**"
   ]
  },
  {
   "cell_type": "code",
   "execution_count": null,
   "metadata": {},
   "outputs": [],
   "source": []
  },
  {
   "cell_type": "markdown",
   "metadata": {},
   "source": [
    "# Solution"
   ]
  },
  {
   "cell_type": "code",
   "execution_count": null,
   "metadata": {},
   "outputs": [],
   "source": [
    "!mkdir main_correction/docs"
   ]
  },
  {
   "cell_type": "markdown",
   "metadata": {},
   "source": [
    "# sphinx-quickstart\n",
    "La commande **sphinx-quickstart** permet de démarrer un projet sphinx avec toutes les données nécessaires. Plusieurs questions vous seront posées pour définir votre projet. \n",
    "\n",
    "Cette commande prend de nombreux arguments afin de paramétrer le projet. Ici nous employons la commande **--ext-autodoc** qui permet à sphinx de générer la documentation à partir des fichiers Python automatiquement. \n",
    "\n",
    "Documentation de la commande : https://www.sphinx-doc.org/en/master/man/sphinx-quickstart.html "
   ]
  },
  {
   "cell_type": "markdown",
   "metadata": {},
   "source": [
    "## Exercice 6\n",
    "\n",
    "Toujours dans le terminal, déplacez vous dans le dossier docs, puis exécutez la commande suivante : **sphinx-quickstart --ext-autodoc**\n",
    "\n",
    "Répondez ensuite comme suit aux questions de l'utilitaire :\n",
    "* séparer les dossiers sources et build : n\n",
    "* nom de projet : vehicules\n",
    "* nom du créateur : votre nom\n",
    "* version : 1\n",
    "* langue : en "
   ]
  },
  {
   "cell_type": "markdown",
   "metadata": {},
   "source": [
    "L'utilitaire génère plusieurs fichiers, dont les deux plus importants sont **conf.py** et **index.rst**\n",
    "\n",
    "* conf.py génère les paramètres de la mise en page de la documentation. C'est ici que l'on indique les extensions à employer, les versions, les thèmes...\n",
    "* index.rst est le template de la page principale de la documentation. Ce template est écrit au format restructuredText"
   ]
  },
  {
   "cell_type": "markdown",
   "metadata": {},
   "source": [
    "Ajoutez l'élément suivant en haut du fichier **conf.py**. Il permet d'indiquer à sphinx le dossier racine de votre projet (en l'occurrence, le dossier main)"
   ]
  },
  {
   "cell_type": "code",
   "execution_count": null,
   "metadata": {},
   "outputs": [],
   "source": [
    "import os\n",
    "import sys\n",
    "sys.path.insert(0, os.path.abspath('../'))\n",
    "# ici on doit indiquer un chemin relatif par rapport à conf.py"
   ]
  },
  {
   "cell_type": "markdown",
   "metadata": {},
   "source": [
    "Toujours dans **conf.py**, remplacer la variable html_theme par la variable suivante : "
   ]
  },
  {
   "cell_type": "code",
   "execution_count": null,
   "metadata": {},
   "outputs": [],
   "source": [
    "html_theme = 'sphinx_rtd_theme'\n"
   ]
  },
  {
   "cell_type": "markdown",
   "metadata": {},
   "source": [
    "\n",
    "Dans le fichier **index.rst**, ajoutez le mot-clé **modules** après **   :caption: Contents:**. Assurez vous de bien sauter une ligne entre les deux. \n",
    "\n",
    "**toctree** est une des nombreuses commandes spéciales disponibles avec sphinx en restructuredText. Elle permet de gérer la mise en page de la table des matières de votre page. \n",
    "\n",
    "Votre fichier doit avoir la forme suivante (n'hésitez pas à éditez cette cellule pour bien la lire) : \n",
    "\n",
    "Welcome to test's documentation!\n",
    "\n",
    "================================\n",
    "\n",
    ".. toctree::\n",
    "   :maxdepth: 2\n",
    "   :caption: Contents:\n",
    "\n",
    "   modules\n",
    "\n",
    "Indices and tables\n",
    "==================\n",
    "\n",
    "* :ref:`genindex`\n",
    "* :ref:`modindex`\n",
    "* :ref:`search`"
   ]
  },
  {
   "cell_type": "markdown",
   "metadata": {},
   "source": [
    "Il nous faut ensuite extraire la documentation des fichiers Python. Pour cela on emploie la commande suivante : **sphinx-apidoc -o BUILT SOURCE**\n",
    "\n",
    "en remplaçant BUILT par le dossier qui contient la documentation (ici le dossier doc) et SOURCE par le dossier qui contient votre code (ici le dossier vehicule)\n",
    "\n",
    "Ainsi, puisque nous sommes déjà dans le dossier **docs**, il nous faut employer la commande suivante : \n",
    "\n",
    "**sphinx-apidoc -o . ../vehicules**\n",
    "\n",
    "Cela devrait générer deux fichiers dans le dossier **docs** : un fichier **modules.rst** et un fichier **vehicules.rst**"
   ]
  },
  {
   "cell_type": "markdown",
   "metadata": {},
   "source": [
    "Enfin nous pouvons générer la documentation. Pour cela, on emploie la commande **make html** depuis le dossier **docs**.\n",
    "\n",
    "Si l'on devait apporter des modifications aux fichiers générer, on doit employer la commande **make clean** avant de pouvoir réemployer **make html**"
   ]
  },
  {
   "cell_type": "markdown",
   "metadata": {},
   "source": []
  },
  {
   "attachments": {},
   "cell_type": "markdown",
   "metadata": {},
   "source": [
    "# Pour aller plus loin\n",
    "\n",
    "Tests :\n",
    "* https://docs.pytest.org/en/7.2.x/contents.html\n",
    "* https://realpython.com/pytest-python-testing/\n",
    "* https://datascientest.com/pytest-pourquoi-et-comment-lutiliser\n",
    "* https://semaphoreci.com/community/tutorials/testing-python-applications-with-pytest\n",
    "* https://pythonchb.github.io/PythonTopics/where_to_put_tests.html\n",
    "\n",
    "Documentation (avec Sphinx) :\n",
    "* https://www.sphinx-doc.org/en/master/\n",
    "* https://docs.readthedocs.io/en/stable/intro/getting-started-with-sphinx.html\n",
    "* https://www.sphinx-doc.org/en/master/tutorial/index.html\n",
    "* https://towardsdatascience.com/documenting-python-code-with-sphinx-554e1d6c4f6d\n",
    "* https://medium.com/@richdayandnight/a-simple-tutorial-on-how-to-document-your-python-project-using-sphinx-and-rinohtype-177c22a15b5b\n",
    "* https://blog.flozz.fr/2020/09/07/introduction-a-sphinx-un-outil-de-documentation-puissant/\n"
   ]
  },
  {
   "cell_type": "markdown",
   "metadata": {},
   "source": []
  }
 ],
 "metadata": {
  "kernelspec": {
   "display_name": "Python 3",
   "language": "python",
   "name": "python3"
  },
  "language_info": {
   "codemirror_mode": {
    "name": "ipython",
    "version": 3
   },
   "file_extension": ".py",
   "mimetype": "text/x-python",
   "name": "python",
   "nbconvert_exporter": "python",
   "pygments_lexer": "ipython3",
   "version": "3.9.6"
  },
  "orig_nbformat": 4,
  "vscode": {
   "interpreter": {
    "hash": "b0fa6594d8f4cbf19f97940f81e996739fb7646882a419484c72d19e05852a7e"
   }
  }
 },
 "nbformat": 4,
 "nbformat_minor": 2
}
