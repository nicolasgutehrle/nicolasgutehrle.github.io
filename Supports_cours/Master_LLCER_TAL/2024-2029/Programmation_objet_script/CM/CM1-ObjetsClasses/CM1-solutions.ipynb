{
 "cells": [
  {
   "cell_type": "markdown",
   "metadata": {},
   "source": [
    "# Objets en python"
   ]
  },
  {
   "cell_type": "markdown",
   "metadata": {},
   "source": [
    "## 1. Paradigmes de programmation"
   ]
  },
  {
   "cell_type": "markdown",
   "metadata": {},
   "source": [
    "Rappel des différents paradigmes de programmation :\n",
    "\n",
    "- **Programmation impérative / procédurale** : exécution étape par étape. Le programme est organisé sous forme de procédures (sous-algorithmes) qui peuvent être appelées par d'autres procédures. Exemples : Pascal, C, Perl, Python, PHP, Java, ...\n",
    "- **Programmation fonctionnelle** : les traitements sont faits en appelant des fonctions, où chaque fonction évalue une expression en faisant éventuellement appel à d'autres fonctions. Exemples : ML, Lisp.\n",
    "- **Programmation logique** : obtenir un résultat à partir des axiomes et règles de déduction. L'exécution du programme consiste en l'évaluation de déductions logiques. Exemple : Prolog.\n",
    "- **Programmation orientée objet (POO)** : l'action du programme est modélisée par des objets. Chaque objet contient un certain nombre de données sur son état et est capable d'agir sur ces données ou d'échanger des informations avec d'autres objets. Le programme consiste alors à définir les propriétés, les capacités des objets et les possibles interactions entre eux. Exemples : Java, C++, Python, PHP, ..."
   ]
  },
  {
   "cell_type": "markdown",
   "metadata": {},
   "source": [
    "Historiquement : \n",
    "- Code binaire, Assembleur, Fortran, Cobol, langages de haut niveau, langages orientes objet.\n",
    "- POO enrichit le paradigme imperatif, devient paradigme dominant dans les annees 1990 : C++, Java, developpement des IDE (Integrated Dev. Environment)."
   ]
  },
  {
   "cell_type": "markdown",
   "metadata": {},
   "source": [
    "## 2. Programmation Orientée Objet (POO) - concepts de base (indépendamment des langages)\n"
   ]
  },
  {
   "cell_type": "markdown",
   "metadata": {},
   "source": [
    "### Programme\n",
    "\n",
    "Le programme consiste à definir un ensemble d'objets qui **contiennent des données** et qui **ont un comportement defini** par leur implémentation. Ils communiquent et interagissent entre eux.\n",
    "\n",
    "Un objet informatique correspond souvent à un objet de la vie réelle. Par ex. une table, une personne, un outil, un mot, ...\n",
    "\n",
    "**Modélisation du programme** : cela revient à repertorier tous les objets dont l'application a besoin, définir leurs types (données et comportement) et aussi les relations entre eux (les interactions possibles, les façons dont les objets communiquent, etc)."
   ]
  },
  {
   "cell_type": "markdown",
   "metadata": {},
   "source": [
    "### Classe\n",
    "\n",
    "La classe est la définition d'un **type d'objet**. Elle comprend : \n",
    "- le nom, \n",
    "- les attributs, ou champs (données qui définissent son état), \n",
    "- les méthodes (qui définissent son comportement)."
   ]
  },
  {
   "cell_type": "markdown",
   "metadata": {},
   "source": [
    "### Exemple 1"
   ]
  },
  {
   "cell_type": "markdown",
   "metadata": {},
   "source": [
    "Un programme qui gère le personnel dans une entreprise. Nous avons des objets de types : \n",
    "* _Entreprise_\n",
    "* _Personne_\n",
    "* _Poste_\n",
    "* ...\n",
    "\n",
    "Chacun de ces objets nous permet de stocker des informations (attributs).\n",
    "- L'entreprise a un nom, une adresse, ... une liste de personnes qui y travaillent, et une liste de postes qui sont occupés. \n",
    "- Chaque personne a un nom, prénom, date de naissance, numéro de securité sociale, salaire, date d'embauche, poste occupé, état (en congé maladie, en congé payé, actif, etc.). \n",
    "- Chaque poste de l'entreprise a un nom (secrétaire, responsable ventes, responsable projet, ingéieur, ...), des compétences qui y sont associées, un salaire minimal pour ce poste, des responsabilités, etc."
   ]
  },
  {
   "cell_type": "markdown",
   "metadata": {},
   "source": [
    "### Exemple 2"
   ]
  },
  {
   "cell_type": "markdown",
   "metadata": {},
   "source": [
    "En TAL : un programme qui permet de gérer le vocabulaire d'une langue : les mots, leurs classes grammaticaux, leurs significations, déclinaisons, conjugaisons etc. Nous pouvons imaginer les classes : _Lexeme_, _Verbe_, _PronomPersonnel_, _Signification_, ...\n",
    "\n",
    "Chaque verbe a un infinitif, une forme de base, un groupe, etc. Par ex. \"penser\" -> \"penser\", \"pens\", 1e groupe, ... Pour chaque verbe nous pourrons obtenir sa conjugaison en présent (si on imagine que dans la définition de la classe nous donnons les règles grammaticales correspondantes).\n",
    "\n",
    "Chaque pronom personnel a une forme linguistique, un nombre et une personne, et éventuellement un genre. Par ex. \"il\", singulier, 3e pers. m.\n",
    "\n",
    "Si on choisit un pronom personnel, on pourra alors produire la conjugaison d'un verbe au présent pour ce pronom personnel.        "
   ]
  },
  {
   "cell_type": "markdown",
   "metadata": {},
   "source": [
    "Le programme suivant pourra alors être écrit (si les classes _Verbe_, _PronomPersonnel_ sont déjà définies) :"
   ]
  },
  {
   "cell_type": "code",
   "execution_count": null,
   "metadata": {},
   "outputs": [],
   "source": [
    "## Programme incomplet !\n",
    "\n",
    "# creation d'un objet Verbe\n",
    "v_penser = Verbe(\"penser\", \"pense\", 1)\n",
    "# creation d'un objet Pronom\n",
    "pron_il = PronomPersonnel(\"il\", \"sg\", 3, \"m\")\n",
    "\n",
    "# production d'une forme conjuguée\n",
    "forme_present_penser = v_penser.conjuguer( pron_il )"
   ]
  },
  {
   "cell_type": "markdown",
   "metadata": {},
   "source": [
    "Pour que ce programme puisse marcher, il faut définir les classes _Verbe_ et _PronomPersonnel_. \n",
    "\n",
    "Les objets de type _Verbe_ auront un infinitif (str), une base (str), un group (int). Ces données constituent les attributs/champs des verbes.\n",
    "\n",
    "Les objets de type _PronomPersonnel_ auront une forme de base (str), un nombre (str, \"sg\" ou \"pl\"), une personne (int, 1, 2 ou 3) et un genre (str, \"m\" ou \"f\").\n",
    "\n",
    "Les objets de type _Verbe_ auront une méthode _conjuguer()_ qui prend comme argument un _PronomPersonnel_ et renvoie une chaîne de caractères."
   ]
  },
  {
   "cell_type": "markdown",
   "metadata": {},
   "source": [
    "### Quelques conventions et observations\n",
    "\n",
    "- Les noms des classes commencent toujours par une majuscule.\n",
    "- Les noms des variables, fonctions et méthodes commencent toujours par une minuscule.\n",
    "- On appelle \"une méthode\" une fonction qui est défini à l'intérieur d'une classe et qui fait donc partie du comportement de l'objet (ce que l'objet peut faire ou ce que l'on peut faire avec cet objet).\n",
    "- Les données qui sont stockés dans les objets (champs/attributs) correspondent aux caractéristiques _naturelles_ de ces objets. C'est le concepteur du programme qui décide quelles données stocker dans les objets, quelles données stocker dans des variables simples, et quelles données ne pas stocker (si on peut les obtenir en appliquant des méthodes ou fonctions).\n",
    "- Les listes, dictionnaires et ensembles (qu'on connait déjà) sont des objets. La définition de leurs classes fait partie du langage python. C'est pour cette raison que nous pouvons écrire par exemple :"
   ]
  },
  {
   "cell_type": "code",
   "execution_count": null,
   "metadata": {},
   "outputs": [
    {
     "name": "stdout",
     "output_type": "stream",
     "text": [
      "[1, 2, 4, 6]\n"
     ]
    }
   ],
   "source": [
    "liste = [2, 4, 6, 1]\n",
    "liste.sort() # Appel de la méthode sort() sur l'objet liste ! Cette méthode modifie l'objet.\n",
    "print(liste)"
   ]
  },
  {
   "cell_type": "markdown",
   "metadata": {},
   "source": [
    "### 4 principes de la programmation orientée objet"
   ]
  },
  {
   "cell_type": "markdown",
   "metadata": {},
   "source": [
    "**Encapsulation** \n",
    "\n",
    "Permet de \"cacher\" l'implémentation d'un objet (les informations liées à la structure de l'objet : champs et méthodes). Ainsi, les autres objets dans le programme ne pourront accéder qu'aux parties qui leurs sont autorisées. Cela permet d'assurer l'intégrité des données.\n",
    "\n",
    "Par exemple si dans le programme je veux modifier la forme d'un pronom personnel (mettre \"elle\" à la place de \"il\"), cela devrait entraîner automatiquement la modification du genre (de \"m\" en \"f\"). Pour cela, dans l'implémentation de la classe _PronomPersonnel_, il convient d'interdire la modification directe de la forme linguistique, et de créer une méthode qui permet de faire cette modification, mais cette méthode s'assurera que le genre correspond à la forme. Ce type de méthodes s'appellent \"getters\" ou \"mutateurs\" (on y reviendra plus tard).\n",
    "\n",
    "En python l'encapsulation est possible en préfixant les noms des variables internes à l'objet par \"__\".\n"
   ]
  },
  {
   "cell_type": "markdown",
   "metadata": {},
   "source": [
    "**Abstraction**\n",
    "\n",
    "Certaines propriétés et méthodes qui font partie de l'implémentation de la classe peuvent rester \"cachées\" pour le reste du programme, pour préserver le simplicité dans l'utilisation des objets. \n",
    "\n",
    "Par exemple, la méthode conjuguer() pour les verbes devra probablement faire appel à des listes de terminaisons et des règles pour gérer les exceptions etc. qui peuvent se trouver dans plusieurs autres méthodes dans la classe. Cependant, ces autres méthodes resteront uniquement pour une utilisation \"interne\" de la classe _Verbe_ et ne pourront pas être appelées par le programme principal.\n",
    "\n",
    "L'abstraction est possible par la définition de classes abstraites (on y reviendra plus tard).\n"
   ]
  },
  {
   "cell_type": "markdown",
   "metadata": {},
   "source": [
    "**Héritage** : \n",
    "\n",
    "La possibilité de créer des \"sous classes\". Par exemple, pour représenter le vocabulaire d'une langue, on peut imaginer une classe _Lexeme_ qui aurra comme sous-classes _Verbe_, _Nom_, etc.\n",
    "\n",
    "L'héritage permet d'organiser les classes dans une hiérarchie, du plus général au plus spécifique."
   ]
  },
  {
   "cell_type": "markdown",
   "metadata": {},
   "source": [
    "**Polymorphisme**\n",
    "\n",
    "La même méthode peut avoir des implémentations différentes dans les classes différentes."
   ]
  },
  {
   "cell_type": "markdown",
   "metadata": {},
   "source": [
    "## UML - Unified Modelling language"
   ]
  },
  {
   "cell_type": "markdown",
   "metadata": {},
   "source": [
    "UML est une notation standard pour la modélisation d'objets, comme première étape dans le développement d'un programme orienté objet."
   ]
  },
  {
   "attachments": {
    "personnel.png": {
     "image/png": "[encoded data removed]"
    }
   },
   "cell_type": "markdown",
   "metadata": {},
   "source": [
    "![personnel.png](attachment:personnel.png)"
   ]
  },
  {
   "cell_type": "markdown",
   "metadata": {},
   "source": [
    "\n",
    "- Logiciel : Draw.io, DIA\n",
    "- Niveaux de visibilite : publique (+), protegee (#), privee (-)\n",
    "- Relations dans UML  : 0..1, 1, 0..*, 1..*\n"
   ]
  },
  {
   "cell_type": "markdown",
   "metadata": {},
   "source": [
    "### Exercice\n",
    "\n",
    "Créez un diagramme UML suivant la déscription des classes _Verbe_, _PronomPersonnel_, _Signification_, etc. plus haut. Imaginez éventuellement d'autres classes pour modéliser le vocabulaire."
   ]
  },
  {
   "attachments": {
    "dict.png": {
     "image/png": "[encoded data removed]"
    }
   },
   "cell_type": "markdown",
   "metadata": {},
   "source": [
    "![dict.png](attachment:dict.png)"
   ]
  },
  {
   "cell_type": "code",
   "execution_count": null,
   "metadata": {},
   "outputs": [],
   "source": []
  },
  {
   "cell_type": "markdown",
   "metadata": {},
   "source": [
    "## Classes, contructeurs, méthodes en python"
   ]
  },
  {
   "cell_type": "markdown",
   "metadata": {},
   "source": [
    "## Classes et instances"
   ]
  },
  {
   "cell_type": "code",
   "execution_count": 48,
   "metadata": {},
   "outputs": [],
   "source": [
    "# declaration d'une classe :\n",
    "\n",
    "class Verbe :\n",
    "    \n",
    "    # une premiere methode qui affiche l'infinitif\n",
    "    def printInfinitif(self) :\n",
    "        print(self.infinitif)"
   ]
  },
  {
   "cell_type": "code",
   "execution_count": 49,
   "metadata": {},
   "outputs": [],
   "source": [
    "# creation d'un objet de type Verbe :\n",
    "v = Verbe()"
   ]
  },
  {
   "cell_type": "markdown",
   "metadata": {},
   "source": [
    "La création d'un objet s'appelle egalement **instanciation** de la classe. L'objet est une **instance** de la classe.\n",
    "\n",
    "La méthode qui permet de créer l'objet porte le nom de la classe. Cette méthode s'appelle **constructeur** de la classe."
   ]
  },
  {
   "cell_type": "code",
   "execution_count": 50,
   "metadata": {},
   "outputs": [],
   "source": [
    "# ajout de données dans les champs\n",
    "v.infinitif = \"penser\"\n",
    "v.base = \"pens\"\n",
    "v.autre_chose = \"ce que je veux ici\""
   ]
  },
  {
   "cell_type": "code",
   "execution_count": 51,
   "metadata": {},
   "outputs": [
    {
     "name": "stdout",
     "output_type": "stream",
     "text": [
      "<__main__.Verbe object at 0x7f509445c438>\n"
     ]
    }
   ],
   "source": [
    "# manipuation des variables\n",
    "print(v)"
   ]
  },
  {
   "cell_type": "code",
   "execution_count": 52,
   "metadata": {},
   "outputs": [
    {
     "name": "stdout",
     "output_type": "stream",
     "text": [
      "penser\n"
     ]
    }
   ],
   "source": [
    "print(v.infinitif)"
   ]
  },
  {
   "cell_type": "code",
   "execution_count": 53,
   "metadata": {},
   "outputs": [
    {
     "name": "stdout",
     "output_type": "stream",
     "text": [
      "pens\n"
     ]
    }
   ],
   "source": [
    "print(v.base)"
   ]
  },
  {
   "cell_type": "code",
   "execution_count": 55,
   "metadata": {},
   "outputs": [
    {
     "name": "stdout",
     "output_type": "stream",
     "text": [
      "penser\n"
     ]
    }
   ],
   "source": [
    "# appel a une methode :\n",
    "v.printInfinitif()"
   ]
  },
  {
   "cell_type": "markdown",
   "metadata": {},
   "source": [
    "La méthode printInfinitif() est une **méthode de classe**. Dans sa définition elle prend un argument **self** qui représente l'objet lui-même. Cet argument n'apparaît pas dans l'appel à la méthode parce qu'on utilise la syntaxe objet-point-méthode."
   ]
  },
  {
   "cell_type": "markdown",
   "metadata": {},
   "source": [
    "## Constructeurs"
   ]
  },
  {
   "cell_type": "markdown",
   "metadata": {},
   "source": [
    "Chaque classe contient au moins un constructeur par défaut qui ne prend pas d'arguments."
   ]
  },
  {
   "cell_type": "code",
   "execution_count": 58,
   "metadata": {},
   "outputs": [],
   "source": [
    "# declaration d'une classe :\n",
    "class Verbe :\n",
    "    pass\n",
    "\n",
    "# creation d'un objet, constructeur vide :\n",
    "v = Verbe()"
   ]
  },
  {
   "cell_type": "code",
   "execution_count": 59,
   "metadata": {},
   "outputs": [
    {
     "name": "stdout",
     "output_type": "stream",
     "text": [
      "<__main__.Verbe object at 0x7f509445c6a0>\n"
     ]
    }
   ],
   "source": [
    "print(v)"
   ]
  },
  {
   "cell_type": "markdown",
   "metadata": {},
   "source": [
    "Le constructuer est une méthode qui _initialise_ l'objet : c-a-d il crée de valeurs initiales pour toutes les données (champs) de l'objet.\n",
    "\n",
    "Pour modifier le constructeur par défaut nous pouvons créer une méthode qui porte le nom __ __init__ __()."
   ]
  },
  {
   "cell_type": "code",
   "execution_count": 60,
   "metadata": {},
   "outputs": [],
   "source": [
    "class Verbe:\n",
    "    \n",
    "    def __init__(self, infinitif):\n",
    "        self.infinitif = infinitif\n",
    "        self.base = infinitif[0:-2]\n",
    "        self.groupe = 3\n",
    "        if (infinitif.endswith(\"er\")) :\n",
    "            self.groupe = 1\n",
    "        elif (infinitif.endswith(\"ir\")) :\n",
    "            self.groupe = 2"
   ]
  },
  {
   "cell_type": "code",
   "execution_count": 62,
   "metadata": {},
   "outputs": [
    {
     "name": "stdout",
     "output_type": "stream",
     "text": [
      "penser\n",
      "pens\n",
      "1\n"
     ]
    }
   ],
   "source": [
    "v = Verbe(\"penser\")\n",
    "\n",
    "print(v.infinitif)\n",
    "print(v.base)\n",
    "print(v.groupe)"
   ]
  },
  {
   "cell_type": "code",
   "execution_count": 63,
   "metadata": {},
   "outputs": [
    {
     "name": "stdout",
     "output_type": "stream",
     "text": [
      "1\n"
     ]
    }
   ],
   "source": [
    "v2 = Verbe(\"aller\")\n",
    "print(v2.groupe)"
   ]
  },
  {
   "cell_type": "markdown",
   "metadata": {},
   "source": [
    "Cette définition du constructeur ne permet pas de gérer certains verbes irreguliers, par ex. \"aller\", \"partir\" qui sont de 3e groupe.\n",
    "\n",
    "Dans le constructeur de la classe Verbe nous pouvons prévoir des arguments additionnels (optionnels) \"base\" et \"groupe\", ce qui nous permettrait de créer facilement les verbes irreguliers. "
   ]
  },
  {
   "cell_type": "code",
   "execution_count": 64,
   "metadata": {},
   "outputs": [],
   "source": [
    "class Verbe:\n",
    "            \n",
    "    def __init__(self, infinitif, base = \"\", groupe = 0):\n",
    "        self.infinitif = infinitif\n",
    "        \n",
    "        if (base != \"\") :\n",
    "            self.base = base\n",
    "        else :\n",
    "            self.base = infinitif[0:-2]\n",
    "        \n",
    "        if (groupe != 0) :\n",
    "            self.groupe = groupe\n",
    "        else :\n",
    "            self.goupe = 3\n",
    "            if (infinitif.endswith(\"er\")) :\n",
    "                self.groupe = 1\n",
    "            elif (infinitif.endswith(\"ir\")) :\n",
    "                self.groupe = 2"
   ]
  },
  {
   "cell_type": "code",
   "execution_count": 67,
   "metadata": {},
   "outputs": [],
   "source": [
    "v1 = Verbe(\"penser\")\n",
    "v2 = Verbe(\"courir\", \"cour\")\n",
    "v3 = Verbe(\"aller\", \"va\", 3)"
   ]
  },
  {
   "cell_type": "markdown",
   "metadata": {},
   "source": [
    "Ajout d'une méthode pour l'affichage :"
   ]
  },
  {
   "cell_type": "code",
   "execution_count": 68,
   "metadata": {},
   "outputs": [],
   "source": [
    "class Verbe:\n",
    "            \n",
    "    def __init__(self, infinitif, base = \"\", groupe = 0):\n",
    "        self.infinitif = infinitif\n",
    "        \n",
    "        if (base != \"\") :\n",
    "            self.base = base\n",
    "        else :\n",
    "            self.base = infinitif[0:-2]\n",
    "        \n",
    "        if (groupe != 0) :\n",
    "            self.groupe = groupe\n",
    "        else :\n",
    "            self.goupe = 3\n",
    "            if (infinitif.endswith(\"er\")) :\n",
    "                self.groupe = 1\n",
    "            elif (infinitif.endswith(\"ir\")) :\n",
    "                self.groupe = 2\n",
    "                \n",
    "    def afficher(self) :\n",
    "        print(\"Verbe \" + self.infinitif + \" : \" + self.base + \" \" + str(self.groupe))"
   ]
  },
  {
   "cell_type": "code",
   "execution_count": 69,
   "metadata": {},
   "outputs": [
    {
     "name": "stdout",
     "output_type": "stream",
     "text": [
      "Verbe penser : pens 1\n",
      "Verbe courir : cour 2\n",
      "Verbe aller : va 3\n"
     ]
    }
   ],
   "source": [
    "v1 = Verbe(\"penser\")\n",
    "v2 = Verbe(\"courir\", \"cour\")\n",
    "v3 = Verbe(\"aller\", \"va\", 3)\n",
    "\n",
    "v1.afficher()\n",
    "v2.afficher()\n",
    "v3.afficher()"
   ]
  },
  {
   "cell_type": "markdown",
   "metadata": {},
   "source": [
    "## Les classes Verbe et PronomPersonnel "
   ]
  },
  {
   "cell_type": "code",
   "execution_count": 32,
   "metadata": {},
   "outputs": [],
   "source": [
    "class PronomPersonnel :\n",
    "    def __init__(self, forme, nombre, personne, genre=\"\"):\n",
    "        self.forme = forme\n",
    "        self.nombre = nombre\n",
    "        self.personne = personne\n",
    "        self.genre = genre"
   ]
  },
  {
   "cell_type": "code",
   "execution_count": 70,
   "metadata": {},
   "outputs": [],
   "source": [
    "class Verbe:\n",
    "            \n",
    "    def __init__(self, infinitif, base = \"\", groupe = 0):\n",
    "        self.infinitif = infinitif\n",
    "        \n",
    "        if (base != \"\") :\n",
    "            self.base = base\n",
    "        else :\n",
    "            self.base = infinitif[0:-2]\n",
    "        \n",
    "        if (groupe != 0) :\n",
    "            self.groupe = groupe\n",
    "        else :\n",
    "            self.goupe = 3\n",
    "            if (infinitif.endswith(\"er\")) :\n",
    "                self.groupe = 1\n",
    "            elif (infinitif.endswith(\"ir\")) :\n",
    "                self.groupe = 2\n",
    "    \n",
    "    def afficher(self) :\n",
    "        \"\"\"Methode pour l'affichage\"\"\"\n",
    "        print(\"Verbe \" + self.infinitif + \" : \" + self.base + \" \" + str(self.groupe))\n",
    "        \n",
    "    def conjuguer(self, pron) :\n",
    "        \"\"\"Conjugaison avec un PronomPersonnel\"\"\"\n",
    "        if (self.groupe == 1) :\n",
    "            if (pron.nombre == \"sg\") :\n",
    "                if (pron.personne == 1) or (pron.personne == 3) :\n",
    "                    return pron.forme + \" \" + self.base + \"e\"\n",
    "                elif (pron.personne == 2) :\n",
    "                    return pron.forme + \" \" + self.base + \"es\"\n",
    "            elif (pron.nombre == \"pl\") :\n",
    "                if (pron.personne == 1) :\n",
    "                    return pron.forme + \" \" + self.base + \"ons\"\n",
    "                elif (pron.personne == 2) :\n",
    "                    return pron.forme + \" \" + self.base + \"ez\"\n",
    "                elif (pron.personne == 3) :\n",
    "                    return pron.forme + \" \" + self.base + \"ent\"\n",
    "                \n",
    "        return \"[forme inconnue]\""
   ]
  },
  {
   "cell_type": "code",
   "execution_count": 72,
   "metadata": {},
   "outputs": [],
   "source": [
    "pron1 = PronomPersonnel(\"je\", \"sg\", 1)\n",
    "pron2 = PronomPersonnel(\"vous\", \"pl\", 2)"
   ]
  },
  {
   "cell_type": "code",
   "execution_count": 74,
   "metadata": {},
   "outputs": [],
   "source": [
    "v1 = Verbe(\"marcher\")\n",
    "v2 = Verbe(\"écrire\", \"écrit\", 3)\n",
    "v3 = Verbe(\"parler\", \"parl\", 1)"
   ]
  },
  {
   "cell_type": "code",
   "execution_count": 75,
   "metadata": {},
   "outputs": [
    {
     "name": "stdout",
     "output_type": "stream",
     "text": [
      "je marche\n"
     ]
    }
   ],
   "source": [
    "print(v1.conjuguer(pron1))"
   ]
  },
  {
   "cell_type": "code",
   "execution_count": 76,
   "metadata": {},
   "outputs": [
    {
     "name": "stdout",
     "output_type": "stream",
     "text": [
      "vous marchez\n"
     ]
    }
   ],
   "source": [
    "print(v1.conjuguer(pron2))"
   ]
  },
  {
   "cell_type": "code",
   "execution_count": 77,
   "metadata": {},
   "outputs": [
    {
     "name": "stdout",
     "output_type": "stream",
     "text": [
      "[forme inconnue]\n"
     ]
    }
   ],
   "source": [
    "print(v2.conjuguer(pron1))"
   ]
  },
  {
   "cell_type": "code",
   "execution_count": 78,
   "metadata": {},
   "outputs": [
    {
     "name": "stdout",
     "output_type": "stream",
     "text": [
      "je parle\n"
     ]
    }
   ],
   "source": [
    "print(v3.conjuguer(pron1))"
   ]
  },
  {
   "cell_type": "code",
   "execution_count": 79,
   "metadata": {},
   "outputs": [
    {
     "name": "stdout",
     "output_type": "stream",
     "text": [
      "vous parlez\n"
     ]
    }
   ],
   "source": [
    "print(v3.conjuguer(pron2))"
   ]
  },
  {
   "cell_type": "markdown",
   "metadata": {},
   "source": [
    "## Le programme pour gérer le personnel d'entreprise"
   ]
  },
  {
   "attachments": {
    "personnel.png": {
     "image/png": "[encoded data removed]"
    }
   },
   "cell_type": "markdown",
   "metadata": {},
   "source": [
    "![personnel.png](attachment:personnel.png)"
   ]
  },
  {
   "cell_type": "markdown",
   "metadata": {},
   "source": [
    "Ecrivez les classes _Etat, Entreprise, Poste_, puis la classe _Personne_."
   ]
  },
  {
   "cell_type": "code",
   "execution_count": 102,
   "metadata": {},
   "outputs": [],
   "source": [
    "class Etat:\n",
    "    def __init__(self, nom, debut, fin):\n",
    "        self.nom = nom\n",
    "        self.debut = debut\n",
    "        self.fin = fin\n",
    "        \n",
    "class Entreprise:\n",
    "    def __init__(self, nom, adresse):\n",
    "        self.nom = nom\n",
    "        self.adresse = adresse\n",
    "        self.personnel = []\n",
    "        self.postes = []\n",
    "        \n",
    "    def ajoutPersonne(self, personne):\n",
    "        self.personnel.append(personne)\n",
    "        \n",
    "    def ajoutPoste(self, p):\n",
    "        self.postes.append(p)\n",
    "        \n",
    "    def afficherPersonnel(self):\n",
    "        for p in self.personnel:\n",
    "            print(p.prenom + \" \" + p.nom + \" : \" + p.poste_occupe.nom)\n",
    "        \n",
    "class Poste:\n",
    "    def __init__(self, nom, salaire_min=0):\n",
    "        self.nom = nom\n",
    "        self.salaire_min = salaire_min\n",
    "        self.responsabilites = []\n",
    "        self.competences = []"
   ]
  },
  {
   "cell_type": "code",
   "execution_count": 103,
   "metadata": {},
   "outputs": [],
   "source": [
    "class Personne :\n",
    "    def __init__(self, nom, prenom, date_de_naissance, genre, nom_de_poste=\"\"):\n",
    "        self.nom = nom\n",
    "        self.prenom = prenom\n",
    "        self.date_de_naissance = date_de_naissance\n",
    "        self.genre = genre\n",
    "        \n",
    "        self.numero_secu = \"\"\n",
    "        self.salaire = 0\n",
    "        self.date_embauche = \"\"\n",
    "        \n",
    "        self.poste_occupe = Poste(nom_de_poste)\n",
    "        self.etat_actuel = Etat(\"En activité\", \"\", \"\")\n",
    "        self.etats_passes = []\n",
    "    \n",
    "    def attribuerPoste(self, p):\n",
    "        self.poste_occupe = p"
   ]
  },
  {
   "cell_type": "code",
   "execution_count": 104,
   "metadata": {},
   "outputs": [
    {
     "name": "stdout",
     "output_type": "stream",
     "text": [
      "Jean Dupont : PDG\n",
      "Paul Martin : Responsable ventes\n",
      "Marie Vavin : Secrétaire\n"
     ]
    }
   ],
   "source": [
    "monEntreprise = Entreprise(\"MasterTAL\", \"Besancon 25\")\n",
    "\n",
    "employe1 = Personne(\"Dupont\", \"Jean\", \"1992-10-10\", \"m\")\n",
    "employe2 = Personne(\"Martin\", \"Paul\", \"1997-09-11\", \"m\")\n",
    "employe3 = Personne(\"Vavin\", \"Marie\", \"1993-07-08\", \"f\")\n",
    "\n",
    "p1 = Poste(\"PDG\", 3000)\n",
    "p2 = Poste(\"Responsable ventes\", 2000)\n",
    "p3 = Poste(\"Secrétaire\", 1300)\n",
    "\n",
    "employe1.attribuerPoste(p1)\n",
    "employe2.attribuerPoste(p2)\n",
    "employe3.attribuerPoste(p3)\n",
    "\n",
    "monEntreprise.ajoutPersonne(employe1)\n",
    "monEntreprise.ajoutPersonne(employe2)\n",
    "monEntreprise.ajoutPersonne(employe3)\n",
    "\n",
    "monEntreprise.afficherPersonnel()"
   ]
  },
  {
   "cell_type": "code",
   "execution_count": 95,
   "metadata": {},
   "outputs": [],
   "source": []
  }
 ],
 "metadata": {
  "kernelspec": {
   "display_name": "Python 3.9.10 64-bit",
   "language": "python",
   "name": "python3"
  },
  "language_info": {
   "codemirror_mode": {
    "name": "ipython",
    "version": 3
   },
   "file_extension": ".py",
   "mimetype": "text/x-python",
   "name": "python",
   "nbconvert_exporter": "python",
   "pygments_lexer": "ipython3",
   "version": "3.9.10"
  },
  "vscode": {
   "interpreter": {
    "hash": "b0fa6594d8f4cbf19f97940f81e996739fb7646882a419484c72d19e05852a7e"
   }
  }
 },
 "nbformat": 4,
 "nbformat_minor": 4
}
