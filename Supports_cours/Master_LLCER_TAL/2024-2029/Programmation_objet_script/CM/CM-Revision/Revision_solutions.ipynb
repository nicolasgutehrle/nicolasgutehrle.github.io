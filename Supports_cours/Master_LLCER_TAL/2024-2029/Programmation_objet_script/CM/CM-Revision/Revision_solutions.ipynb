{
 "cells": [
  {
   "cell_type": "markdown",
   "metadata": {},
   "source": [
    "#### Classes"
   ]
  },
  {
   "cell_type": "markdown",
   "metadata": {},
   "source": [
    "##### Exercice 1\n",
    "Ecrire deux classes simples (e.g. Plante, Animal) avec une méthode str(). Créer un objet pour chacune de ces classes"
   ]
  },
  {
   "cell_type": "code",
   "execution_count": 14,
   "metadata": {},
   "outputs": [
    {
     "name": "stdout",
     "output_type": "stream",
     "text": [
      "Mary is a tree and is 3 years old.\n",
      "Jane is an antilop and is 4 years old.\n"
     ]
    }
   ],
   "source": [
    "# Solution\n",
    "class Animal:\n",
    "    def __init__(self, name, species, age):\n",
    "        # Initialize an animal with a name, species and age.\n",
    "        self.name = name\n",
    "        self.species = species\n",
    "        self.age = age\n",
    "\n",
    "    def __str__(self) -> str:\n",
    "        \"\"\"Return a string representation of the animal.\"\"\"\n",
    "        # Check if the species name starts with a vowel\n",
    "        vowels = ['a','e','i','o','u']\n",
    "        starts_with_vowels = any(self.species.startswith(i) for i in vowels)\n",
    "\n",
    "        # Construct the string representation based on whether the species name starts with a vowel\n",
    "        if starts_with_vowels:\n",
    "            return f\"{self.name} is an {self.species} and is {self.age} years old.\"\n",
    "        else:\n",
    "            return f\"{self.name} is a {self.species} and is {self.age} years old.\"\n",
    "\n",
    "class Plant:\n",
    "    def __init__(self, name, species, age):\n",
    "        # Initialize a plant with a name, species and age.\n",
    "        self.name = name\n",
    "        self.species = species\n",
    "        self.age = age\n",
    "\n",
    "    def __str__(self) -> str:\n",
    "        \"\"\"Return a string representation of the plant.\"\"\"\n",
    "        # Check if the species name starts with a vowel\n",
    "        vowels = ['a','e','i','o','u']\n",
    "        starts_with_vowels = any(self.species.startswith(i) for i in vowels)\n",
    "\n",
    "        # Construct the string representation based on whether the species name starts with a vowel\n",
    "        if starts_with_vowels:\n",
    "            return f\"{self.name} is an {self.species} and is {self.age} years old.\"\n",
    "        else:\n",
    "            return f\"{self.name} is a {self.species} and is {self.age} years old.\"\n",
    "\n",
    "# Test the classes \n",
    "plant = Plant('Mary', 'tree', 3)\n",
    "print(plant)\n",
    "\n",
    "animal = Animal('Jane', 'antilop', 4)\n",
    "print(animal)"
   ]
  },
  {
   "cell_type": "markdown",
   "metadata": {},
   "source": [
    "##### Exercice 2\n",
    "Mettre les attributs en privés et créer des assesseurs (getters) pour ces attributs."
   ]
  },
  {
   "cell_type": "code",
   "execution_count": 12,
   "metadata": {},
   "outputs": [
    {
     "name": "stdout",
     "output_type": "stream",
     "text": [
      "Mary is a tree and is 3 years old.\n",
      "Mary\n",
      "Jane is an antilop and is 4 years old.\n",
      "4\n"
     ]
    }
   ],
   "source": [
    "# Solution\n",
    "class Animal:\n",
    "    def __init__(self, name, species, age):\n",
    "        # Initialize an animal with a name, species and age.\n",
    "        self.__name = name\n",
    "        self.__species = species\n",
    "        self.__age = age\n",
    "\n",
    "    def __str__(self) -> str:\n",
    "        \"\"\"Return a string representation of the animal.\"\"\"\n",
    "        # Check if the species name starts with a vowel\n",
    "        vowels = ['a','e','i','o','u']\n",
    "        starts_with_vowels = any(self.__species.startswith(i) for i in vowels)\n",
    "\n",
    "        # Construct the string representation based on whether the species name starts with a vowel\n",
    "        if starts_with_vowels:\n",
    "            return f\"{self.__name} is an {self.__species} and is {self.__age} years old.\"\n",
    "        else:\n",
    "            return f\"{self.__name} is a {self.__species} and is {self.__age} years old.\"\n",
    "\n",
    "    # Getter methods to access private attributes  \n",
    "    def getName(self):\n",
    "        return self.__name\n",
    "    \n",
    "    def getSpecies(self):\n",
    "        return self.__species\n",
    "    \n",
    "    def getAge(self):\n",
    "        return self.__age\n",
    "    \n",
    "\n",
    "class Plant:\n",
    "    def __init__(self, name, species, age):\n",
    "        # Initialize a plant with a name, species and age.\n",
    "        self.__name = name\n",
    "        self.__species = species\n",
    "        self.__age = age\n",
    "\n",
    "    def __str__(self) -> str:\n",
    "        \"\"\"Return a string representation of the plant.\"\"\"\n",
    "        # Check if the species name starts with a vowel\n",
    "        vowels = ['a','e','i','o','u']\n",
    "        starts_with_vowels = any(self.__species.startswith(i) for i in vowels)\n",
    "\n",
    "        # Construct the string representation based on whether the species name starts with a vowel\n",
    "        if starts_with_vowels:\n",
    "            return f\"{self.__name} is an {self.__species} and is {self.__age} years old.\"\n",
    "        else:\n",
    "            return f\"{self.__name} is a {self.__species} and is {self.__age} years old.\"\n",
    "        \n",
    "    # Getter methods to access private attributes  \n",
    "    def getName(self):\n",
    "        return self.__name\n",
    "    \n",
    "    def getSpecies(self):\n",
    "        return self.__species\n",
    "    \n",
    "    def getAge(self):\n",
    "        return self.__age\n",
    "    \n",
    "# Test the classes \n",
    "plant = Plant('Mary', 'tree', 3)\n",
    "print(plant)\n",
    "print(plant.getName())\n",
    "\n",
    "animal = Animal('Jane', 'antilop', 4)\n",
    "print(animal)\n",
    "print(animal.getAge())"
   ]
  },
  {
   "cell_type": "markdown",
   "metadata": {},
   "source": [
    "##### Exercice 3\n",
    "Créer un mutateur (setter) pour un des attributs."
   ]
  },
  {
   "cell_type": "code",
   "execution_count": 13,
   "metadata": {},
   "outputs": [
    {
     "name": "stdout",
     "output_type": "stream",
     "text": [
      "Mary is a tree and is 3 years old.\n",
      "Mary\n",
      "Jane is an antilop and is 4 years old.\n",
      "Original age: 4\n",
      "Updated age: 5\n"
     ]
    }
   ],
   "source": [
    "# Solution\n",
    "class Animal:\n",
    "    def __init__(self, name, species, age):\n",
    "        # Initialize an animal with a name, species and age.\n",
    "        self.__name = name\n",
    "        self.__species = species\n",
    "        self.__age = age\n",
    "\n",
    "    def __str__(self) -> str:\n",
    "        \"\"\"Return a string representation of the animal.\"\"\"\n",
    "        # Check if the species name starts with a vowel\n",
    "        vowels = ['a','e','i','o','u']\n",
    "        starts_with_vowels = any(self.__species.startswith(i) for i in vowels)\n",
    "\n",
    "        # Construct the string representation based on whether the species name starts with a vowel\n",
    "        if starts_with_vowels:\n",
    "            return f\"{self.__name} is an {self.__species} and is {self.__age} years old.\"\n",
    "        else:\n",
    "            return f\"{self.__name} is a {self.__species} and is {self.__age} years old.\"\n",
    "\n",
    "    # Getter methods to access private attributes  \n",
    "    def getName(self):\n",
    "        return self.__name\n",
    "    \n",
    "    def getSpecies(self):\n",
    "        return self.__species\n",
    "    \n",
    "    def getAge(self):\n",
    "        return self.__age\n",
    "    \n",
    "    # Setter method to modify the age attribute\n",
    "    def setAge(self, age):\n",
    "        self.__age = age\n",
    "    \n",
    "\n",
    "class Plant:\n",
    "    def __init__(self, name, species, age):\n",
    "        # Initialize a plant with a name, species and age.\n",
    "        self.__name = name\n",
    "        self.__species = species\n",
    "        self.__age = age\n",
    "\n",
    "    def __str__(self) -> str:\n",
    "        \"\"\"Return a string representation of the plant.\"\"\"\n",
    "        # Check if the species name starts with a vowel\n",
    "        vowels = ['a','e','i','o','u']\n",
    "        starts_with_vowels = any(self.__species.startswith(i) for i in vowels)\n",
    "\n",
    "        # Construct the string representation based on whether the species name starts with a vowel\n",
    "        if starts_with_vowels:\n",
    "            return f\"{self.__name} is an {self.__species} and is {self.__age} years old.\"\n",
    "        else:\n",
    "            return f\"{self.__name} is a {self.__species} and is {self.__age} years old.\"\n",
    "        \n",
    "    # Getter methods to access private attributes  \n",
    "    def getName(self):\n",
    "        return self.__name\n",
    "    \n",
    "    def getSpecies(self):\n",
    "        return self.__species\n",
    "    \n",
    "    def getAge(self):\n",
    "        return self.__age\n",
    "    \n",
    "# Test the classes \n",
    "plant = Plant('Mary', 'tree', 3)\n",
    "print(plant)\n",
    "print(plant.getName())\n",
    "\n",
    "animal = Animal('Jane', 'antilop', 4)\n",
    "print(animal)\n",
    "# Test the setter method\n",
    "print(\"Original age:\", animal.getAge())\n",
    "animal.setAge(5)\n",
    "print(\"Updated age:\", animal.getAge())"
   ]
  },
  {
   "cell_type": "markdown",
   "metadata": {},
   "source": [
    "#### Héritage"
   ]
  },
  {
   "cell_type": "markdown",
   "metadata": {},
   "source": [
    "##### Exercice 1\n",
    "Modifier les classes suivantes pour que la classe Syllabe et Phoneme héritent de la classe LinguisticUnit."
   ]
  },
  {
   "cell_type": "code",
   "execution_count": 18,
   "metadata": {},
   "outputs": [
    {
     "name": "stdout",
     "output_type": "stream",
     "text": [
      "This linguistic unit is called Linguistic Unit and belongs to the category General.\n",
      "This phoneme is called Phoneme, has place of articulation Alveolar, and manner of articulation Stop.\n",
      "This syllable is called Syllable and consists of onset 'C', nucleus 'V', and coda 'C'.\n"
     ]
    }
   ],
   "source": [
    "# Solution\n",
    "class LinguisticUnit:\n",
    "    def __init__(self, name, category):\n",
    "        # Initialize a LinguisticUnit with a name and a category\n",
    "        self.name = name\n",
    "        self.category = category\n",
    "\n",
    "    def __str__(self):\n",
    "        # Describe the linguistic unit\n",
    "        return f\"This linguistic unit is called {self.name} and belongs to the category {self.category}.\"\n",
    "\n",
    "class Phoneme(LinguisticUnit):\n",
    "    def __init__(self, name, place_of_articulation, manner_of_articulation):\n",
    "        # Initialize a Phoneme with a name, place of articulation, and manner of articulation\n",
    "        super().__init__(name, \"Phoneme\")\n",
    "        self.place_of_articulation = place_of_articulation\n",
    "        self.manner_of_articulation = manner_of_articulation\n",
    "\n",
    "    def __str__(self):\n",
    "        # Describe the phoneme, including its place and manner of articulation\n",
    "        return f\"This phoneme is called {self.name}, has place of articulation {self.place_of_articulation}, and manner of articulation {self.manner_of_articulation}.\"\n",
    "\n",
    "class Syllable(LinguisticUnit):\n",
    "    def __init__(self, name, onset, nucleus, coda):\n",
    "        # Initialize a Syllable with a name, onset, nucleus, and coda\n",
    "        super().__init__(name, \"Syllable\")\n",
    "        self.onset = onset\n",
    "        self.nucleus = nucleus\n",
    "        self.coda = coda\n",
    "\n",
    "    def __str__(self):\n",
    "        # Describe the syllable, including its onset, nucleus, and coda\n",
    "        return f\"This syllable is called {self.name} and consists of onset '{self.onset}', nucleus '{self.nucleus}', and coda '{self.coda}'.\"\n",
    "\n",
    "# Create instances of linguistic units\n",
    "linguistic_unit = LinguisticUnit(\"Linguistic Unit\", \"General\")\n",
    "phoneme = Phoneme(\"Phoneme\", \"Alveolar\", \"Stop\")\n",
    "syllable = Syllable(\"Syllable\", \"C\", \"V\", \"C\")\n",
    "\n",
    "# Describe the linguistic units\n",
    "print(linguistic_unit)\n",
    "print(phoneme)\n",
    "print(syllable)"
   ]
  },
  {
   "cell_type": "markdown",
   "metadata": {},
   "source": [
    "#### Exercices - Gestion d'erreur"
   ]
  },
  {
   "cell_type": "markdown",
   "metadata": {},
   "source": [
    "\n",
    "##### Exercice 1\n",
    "Modifier ce code pour ajouter un bloc else après le bloc <i>except</i>."
   ]
  },
  {
   "cell_type": "code",
   "execution_count": null,
   "metadata": {},
   "outputs": [],
   "source": [
    "def calculate_square():\n",
    "    try:\n",
    "        # Prompt the user to enter an integer\n",
    "        num = int(input(\"Enter an integer: \"))\n",
    "        # Calculate the square\n",
    "        result = num ** 2\n",
    "        print(f\"The square of {num} is: {result}\")\n",
    "    except ValueError:\n",
    "        print(\"Invalid input! Please enter a valid integer.\")\n",
    "\n",
    "# Test the function\n",
    "calculate_square()"
   ]
  },
  {
   "cell_type": "code",
   "execution_count": 17,
   "metadata": {},
   "outputs": [
    {
     "name": "stdout",
     "output_type": "stream",
     "text": [
      "The square of 5 is: 25\n"
     ]
    }
   ],
   "source": [
    "# Solution\n",
    "def calculate_square():\n",
    "    try:\n",
    "        # Prompt the user to enter an integer\n",
    "        num = int(input(\"Enter an integer: \"))\n",
    "    except ValueError:\n",
    "        print(\"Invalid input! Please enter a valid integer.\")\n",
    "    else:\n",
    "        # Calculate the square\n",
    "        result = num ** 2\n",
    "        print(f\"The square of {num} is: {result}\")\n",
    "\n",
    "# Test the function\n",
    "calculate_square()"
   ]
  },
  {
   "cell_type": "markdown",
   "metadata": {},
   "source": [
    "##### Exercice 2\n",
    "Ecrire une fonction qui ouvre un fichier, lit puis affiche (print) le contenu. Gérer les exceptions de fichier non-trouvéet s'assurer que le fichier est bien fermé dans le dernier bloc."
   ]
  },
  {
   "cell_type": "code",
   "execution_count": null,
   "metadata": {},
   "outputs": [],
   "source": [
    "def read_file(filename):\n",
    "    try:\n",
    "        # Ouverture du fichier\n",
    "        ...\n",
    "    except ...: \n",
    "        # Afficher un message d'erreur en précisant le nom du fichier\n",
    "        ...\n",
    "    else:\n",
    "        try:\n",
    "            # Lecture du contenu\n",
    "            ...\n",
    "        except Exception as e:\n",
    "            # Afficher l'erreur e\n",
    "            ...\n",
    "        finally:\n",
    "            # S'assurer de la fermeture du fichier\n",
    "            ...\n",
    "\n",
    "# Tester la fonction\n",
    "filename = \"example.txt\"\n",
    "read_file(filename)"
   ]
  },
  {
   "cell_type": "code",
   "execution_count": null,
   "metadata": {},
   "outputs": [
    {
     "name": "stdout",
     "output_type": "stream",
     "text": [
      "Contents of file 'example.txt':\n",
      "It is a truth universally acknowledged, that a single man in possession of a good fortune must be in want of a wife. \n",
      "However little known the feelings or views of such a man may be on his first entering a neighbourhood, this truth is so well fixed in the minds of the surrounding families, that he is considered as the rightful property of some one or other of their daughters.\n",
      "“My dear Mr. Bennet,” said his lady to him one day, “have you heard that Netherfield Park is let at last?”\n",
      "Mr. Bennet replied that he had not.\n",
      "“But it is,” returned she; “for Mrs. Long has just been here, and she told me all about it.”\n",
      "Mr. Bennet made no answer.\n",
      "“Do not you want to know who has taken it?” cried his wife, impatiently.\n",
      "“You want to tell me, and I have no objection to hearing it.”\n",
      "\n",
      "Extract from Pride and Prejudice by Jane Austen.\n",
      "File 'example.txt' closed.\n"
     ]
    }
   ],
   "source": [
    "# Solution\n",
    "def read_file(filename):\n",
    "    try:\n",
    "        # Attempt to open the file\n",
    "        file = open(filename, 'r', encoding=\"utf-8\")\n",
    "    except FileNotFoundError:\n",
    "        print(f\"Error: File '{filename}' not found.\")\n",
    "    else:\n",
    "        try:\n",
    "            # Read the contents of the file\n",
    "            content = file.read()\n",
    "            print(f\"Contents of file '{filename}':\\n{content}\")\n",
    "        except Exception as e:\n",
    "            print(f\"Error: {e}\")\n",
    "        finally:\n",
    "            # Ensure the file is closed\n",
    "            file.close()\n",
    "            print(f\"File '{filename}' closed.\")\n",
    "\n",
    "# Test the function\n",
    "filename = \"example.txt\"\n",
    "read_file(filename)\n"
   ]
  },
  {
   "cell_type": "markdown",
   "metadata": {},
   "source": [
    "##### Exercice 3\n",
    "Ecrire une fonction qui prend deux nombres en input par un utilisateur (voir exemple exercice 1), divise le premier par le deuxième et affiche le résultat. Gérer les exceptions de division par zéro, et input invalide."
   ]
  },
  {
   "cell_type": "code",
   "execution_count": 15,
   "metadata": {},
   "outputs": [
    {
     "name": "stdout",
     "output_type": "stream",
     "text": [
      "The result of 2.0 divided by 2.0 is: 1.00\n"
     ]
    }
   ],
   "source": [
    "# Solution\n",
    "def divide_numbers():\n",
    "    try:\n",
    "        # Prompt the user to enter two numbers\n",
    "        num1 = float(input(\"Enter the first number: \"))\n",
    "        num2 = float(input(\"Enter the second number: \"))\n",
    "        result = num1 / num2\n",
    "    except ValueError:\n",
    "        print(\"Error: Invalid input! Please enter valid numbers.\")\n",
    "    except ZeroDivisionError:\n",
    "        print(\"Error: Division by zero is not allowed!\")\n",
    "    except Exception as e:\n",
    "        print(f\"An unexpected error occurred: {e}\")\n",
    "    else:\n",
    "        print(f\"The result of {num1} divided by {num2} is: {result:.2f}\")\n",
    "\n",
    "# Test the function\n",
    "divide_numbers()"
   ]
  }
 ],
 "metadata": {
  "kernelspec": {
   "display_name": "Python 3",
   "language": "python",
   "name": "python3"
  },
  "language_info": {
   "codemirror_mode": {
    "name": "ipython",
    "version": 3
   },
   "file_extension": ".py",
   "mimetype": "text/x-python",
   "name": "python",
   "nbconvert_exporter": "python",
   "pygments_lexer": "ipython3",
   "version": "3.12.1"
  }
 },
 "nbformat": 4,
 "nbformat_minor": 2
}
