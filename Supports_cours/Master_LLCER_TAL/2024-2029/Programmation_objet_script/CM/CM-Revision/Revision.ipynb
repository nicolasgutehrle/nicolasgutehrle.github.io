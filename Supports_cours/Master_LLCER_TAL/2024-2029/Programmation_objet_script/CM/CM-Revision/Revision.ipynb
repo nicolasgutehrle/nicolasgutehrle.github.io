{
 "cells": [
  {
   "cell_type": "markdown",
   "metadata": {},
   "source": [
    "#### Classes"
   ]
  },
  {
   "cell_type": "markdown",
   "metadata": {},
   "source": [
    "##### Exercice 1\n",
    "Ecrire deux classes simples (e.g. Plante, Animal) avec une méthode str(). Créer un objet pour chacune de ces classes"
   ]
  },
  {
   "cell_type": "code",
   "execution_count": null,
   "metadata": {},
   "outputs": [],
   "source": []
  },
  {
   "cell_type": "markdown",
   "metadata": {},
   "source": [
    "##### Exercice 2\n",
    "Mettre les attributs en privés et créer des assesseurs (getters) pour ces attributs."
   ]
  },
  {
   "cell_type": "code",
   "execution_count": null,
   "metadata": {},
   "outputs": [],
   "source": []
  },
  {
   "cell_type": "markdown",
   "metadata": {},
   "source": [
    "##### Exercice 3\n",
    "Créer un mutateur (setter) pour un des attributs."
   ]
  },
  {
   "cell_type": "code",
   "execution_count": null,
   "metadata": {},
   "outputs": [],
   "source": []
  },
  {
   "cell_type": "markdown",
   "metadata": {},
   "source": [
    "#### Héritage"
   ]
  },
  {
   "cell_type": "markdown",
   "metadata": {},
   "source": [
    "##### Exercice 1\n",
    "Modifier les classes suivantes pour que la classe Syllabe et Phoneme héritent de la classe LinguisticUnit."
   ]
  },
  {
   "cell_type": "code",
   "execution_count": null,
   "metadata": {},
   "outputs": [],
   "source": [
    "class LinguisticUnit:\n",
    "    def __init__(self, name, category):\n",
    "        # Initialize a LinguisticUnit with a name and a category\n",
    "        self.name = name\n",
    "        self.category = category\n",
    "\n",
    "    def __str__(self):\n",
    "        # Describe the linguistic unit\n",
    "        return f\"This linguistic unit is called {self.name} and belongs to the category {self.category}.\"\n",
    "\n",
    "class Phoneme():\n",
    "    def __init__(self, name, place_of_articulation, manner_of_articulation):\n",
    "        # Initialize a Phoneme with a name, place of articulation, and manner of articulation\n",
    "        self.name = name\n",
    "        self.category = \"Phoneme\"\n",
    "        self.place_of_articulation = place_of_articulation\n",
    "        self.manner_of_articulation = manner_of_articulation\n",
    "\n",
    "    def __str__(self):\n",
    "        # Describe the phoneme, including its place and manner of articulation\n",
    "        return f\"This phoneme is called {self.name}, has place of articulation {self.place_of_articulation}, and manner of articulation {self.manner_of_articulation}.\"\n",
    "\n",
    "class Syllable():\n",
    "    def __init__(self, name, onset, nucleus, coda):\n",
    "        # Initialize a Syllable with a name, onset, nucleus, and coda\n",
    "        self.name = name\n",
    "        self.category = \"Syllabe\"\n",
    "        self.onset = onset\n",
    "        self.nucleus = nucleus\n",
    "        self.coda = coda\n",
    "\n",
    "    def __str__(self):\n",
    "        # Describe the syllable, including its onset, nucleus, and coda\n",
    "        return f\"This syllable is called {self.name} and consists of onset '{self.onset}', nucleus '{self.nucleus}', and coda '{self.coda}'.\"\n",
    "\n",
    "# Create instances of linguistic units\n",
    "linguistic_unit = LinguisticUnit(\"Linguistic Unit\", \"General\")\n",
    "phoneme = Phoneme(\"Phoneme\", \"Alveolar\", \"Stop\")\n",
    "syllable = Syllable(\"Syllable\", \"C\", \"V\", \"C\")\n",
    "\n",
    "# Describe the linguistic units\n",
    "print(linguistic_unit)\n",
    "print(phoneme)\n",
    "print(syllable)"
   ]
  },
  {
   "cell_type": "markdown",
   "metadata": {},
   "source": [
    "#### Gestion d'erreur"
   ]
  },
  {
   "cell_type": "markdown",
   "metadata": {},
   "source": [
    "\n",
    "##### Exercice 1\n",
    "Modifier ce code pour ajouter un bloc else après le bloc <i>except</i>."
   ]
  },
  {
   "cell_type": "code",
   "execution_count": null,
   "metadata": {},
   "outputs": [],
   "source": [
    "def calculate_square():\n",
    "    try:\n",
    "        # Prompt the user to enter an integer\n",
    "        num = int(input(\"Enter an integer: \"))\n",
    "        # Calculate the square\n",
    "        result = num ** 2\n",
    "        print(f\"The square of {num} is: {result}\")\n",
    "    except ValueError:\n",
    "        print(\"Invalid input! Please enter a valid integer.\")\n",
    "\n",
    "# Test the function\n",
    "calculate_square()"
   ]
  },
  {
   "cell_type": "markdown",
   "metadata": {},
   "source": [
    "##### Exercice 2\n",
    "Ecrire une fonction qui ouvre un fichier, lit puis affiche (print) le contenu. Gérer les exceptions de fichier non-trouvéet s'assurer que le fichier est bien fermé dans le dernier bloc."
   ]
  },
  {
   "cell_type": "code",
   "execution_count": null,
   "metadata": {},
   "outputs": [],
   "source": [
    "def read_file(filename):\n",
    "    try:\n",
    "        # Ouverture du fichier\n",
    "        ...\n",
    "    except ...: \n",
    "        # Afficher un message d'erreur en précisant le nom du fichier\n",
    "        ...\n",
    "    else:\n",
    "        try:\n",
    "            # Lecture du contenu\n",
    "            ...\n",
    "        except Exception as e:\n",
    "            # Afficher l'erreur e\n",
    "            ...\n",
    "        finally:\n",
    "            # S'assurer de la fermeture du fichier\n",
    "            ...\n",
    "\n",
    "# Tester la fonction\n",
    "filename = \"example.txt\"\n",
    "read_file(filename)"
   ]
  },
  {
   "cell_type": "markdown",
   "metadata": {},
   "source": [
    "##### Exercice 3\n",
    "Ecrire une fonction qui prend deux nombres en input par un utilisateur (voir exemple exercice 1), divise le premier par le deuxième et affiche le résultat. Gérer les exceptions de division par zéro, et input invalide."
   ]
  },
  {
   "cell_type": "code",
   "execution_count": null,
   "metadata": {},
   "outputs": [],
   "source": []
  }
 ],
 "metadata": {
  "kernelspec": {
   "display_name": "Python 3",
   "language": "python",
   "name": "python3"
  },
  "language_info": {
   "codemirror_mode": {
    "name": "ipython",
    "version": 3
   },
   "file_extension": ".py",
   "mimetype": "text/x-python",
   "name": "python",
   "nbconvert_exporter": "python",
   "pygments_lexer": "ipython3",
   "version": "3.12.1"
  }
 },
 "nbformat": 4,
 "nbformat_minor": 2
}
