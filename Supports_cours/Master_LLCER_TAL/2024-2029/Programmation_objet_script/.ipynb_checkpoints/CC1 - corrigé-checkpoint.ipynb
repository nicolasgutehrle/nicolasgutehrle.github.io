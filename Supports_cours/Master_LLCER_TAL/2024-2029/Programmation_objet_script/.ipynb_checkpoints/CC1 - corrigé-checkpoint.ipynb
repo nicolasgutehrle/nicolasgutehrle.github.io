{
 "cells": [
  {
   "cell_type": "markdown",
   "metadata": {},
   "source": [
    "# CC1  Corrigé"
   ]
  },
  {
   "cell_type": "code",
   "execution_count": 5,
   "metadata": {},
   "outputs": [],
   "source": [
    "class Auteur:\n",
    "    def __init__(self,nom, prenom, annee_naissance=0, genre=\"m\"):\n",
    "        self.__nom = nom\n",
    "        self.__prenom = prenom\n",
    "        self.annee_naissance = annee_naissance\n",
    "        if (genre not in [\"m\", \"f\"]) :\n",
    "            genre = \"m\"\n",
    "        self.genre = genre\n",
    "        \n",
    "    def getNom(self):\n",
    "        return self.__nom\n",
    "    def getPrenom(self):\n",
    "        return self.__prenom\n",
    "    def __str__(self):\n",
    "        return self.__prenom + \" \" + self.__nom + \" (\" + str(self.annee_naissance) +\")\""
   ]
  },
  {
   "cell_type": "code",
   "execution_count": 12,
   "metadata": {},
   "outputs": [],
   "source": [
    "class Ouvrage:\n",
    "    def __init__(self, titre, annee, auteurs=[], type_couverture=\"souple\", nb_pages=0, genre=\"roman\"):\n",
    "        self.__titre = titre\n",
    "        self.annee = annee\n",
    "        self.auteurs = auteurs\n",
    "        if (type_couverture not in [\"souple\", \"rigide\"]) :\n",
    "            type_couverture = \"souple\"\n",
    "        self.type_couverture = type_couverture\n",
    "        self.nb_pages = nb_pages\n",
    "        self.genre = genre\n",
    "    \n",
    "    def getTitre(self):\n",
    "        return self.__titre\n",
    "    def __str__(self):\n",
    "        return self.__titre + \" (\"+ str(self.annee) +\")\"\n",
    "    \n",
    "    def ajouterAuteur(self, nom, prenom):\n",
    "        a = Auteur(nom, prenom)\n",
    "        self.auteurs.append(a)\n",
    "        \n",
    "    def poids(self):\n",
    "        c = 30\n",
    "        if (self.type_couverture == \"rigide\") :\n",
    "            c = 100\n",
    "        return c + self.nb_pages*3/2"
   ]
  },
  {
   "cell_type": "code",
   "execution_count": 13,
   "metadata": {},
   "outputs": [],
   "source": [
    "class Roman(Ouvrage):\n",
    "    def __init__(self, titre, annee, auteur, type_couverture=\"souple\", nb_pages=0):\n",
    "        super().__init__(titre, annee, [auteur], type_couverture, nb_pages)\n",
    "        self.genre = \"roman\""
   ]
  },
  {
   "cell_type": "code",
   "execution_count": 14,
   "metadata": {},
   "outputs": [
    {
     "name": "stdout",
     "output_type": "stream",
     "text": [
      "Kerouac Jack (1922)\n",
      "Jack\n",
      "Kerouac\n"
     ]
    }
   ],
   "source": [
    "# Programme :\n",
    "\n",
    "a = Auteur(\"Kerouac\", \"Jack\", 1922, \"m\")\n",
    "print(a)\n",
    "print(a.getNom())\n",
    "print(a.getPrenom())"
   ]
  },
  {
   "cell_type": "code",
   "execution_count": 30,
   "metadata": {},
   "outputs": [
    {
     "name": "stdout",
     "output_type": "stream",
     "text": [
      "Charles Dickens (1812)\n"
     ]
    }
   ],
   "source": [
    "b = Auteur(\"Dickens\", \"Charles\", 1812)\n",
    "print(b)"
   ]
  },
  {
   "cell_type": "code",
   "execution_count": 31,
   "metadata": {},
   "outputs": [
    {
     "name": "stdout",
     "output_type": "stream",
     "text": [
      "Great Expectations (1861)\n",
      "Great Expectations\n"
     ]
    }
   ],
   "source": [
    "o = Ouvrage(\"Great Expectations\", 1861, [b], \"rigide\", 430)\n",
    "print(o)\n",
    "print(o.getTitre())"
   ]
  },
  {
   "cell_type": "code",
   "execution_count": 32,
   "metadata": {},
   "outputs": [],
   "source": [
    "o.ajouterAuteur(\"Kerouac\", \"Jack\")"
   ]
  },
  {
   "cell_type": "code",
   "execution_count": 33,
   "metadata": {},
   "outputs": [
    {
     "name": "stdout",
     "output_type": "stream",
     "text": [
      "[<__main__.Auteur object at 0x7f9fc8475710>, <__main__.Auteur object at 0x7f9fc84754e0>]\n"
     ]
    }
   ],
   "source": [
    "print(o.auteurs)"
   ]
  },
  {
   "cell_type": "code",
   "execution_count": 34,
   "metadata": {},
   "outputs": [
    {
     "name": "stdout",
     "output_type": "stream",
     "text": [
      "Charles Dickens (1812)\n",
      "Jack Kerouac (0)\n"
     ]
    }
   ],
   "source": [
    "for aut in o.auteurs:\n",
    "    print(aut)"
   ]
  },
  {
   "cell_type": "code",
   "execution_count": 38,
   "metadata": {},
   "outputs": [
    {
     "name": "stdout",
     "output_type": "stream",
     "text": [
      "Sur la route (1957)\n"
     ]
    }
   ],
   "source": [
    "r = Roman(\"Sur la route\", 1957, a, \"rigide\", 250)\n",
    "print(r)"
   ]
  },
  {
   "cell_type": "code",
   "execution_count": 39,
   "metadata": {},
   "outputs": [
    {
     "name": "stdout",
     "output_type": "stream",
     "text": [
      "475.0\n"
     ]
    }
   ],
   "source": [
    "print(r.poids())"
   ]
  },
  {
   "cell_type": "code",
   "execution_count": null,
   "metadata": {},
   "outputs": [],
   "source": []
  }
 ],
 "metadata": {
  "kernelspec": {
   "display_name": "Python 3",
   "language": "python",
   "name": "python3"
  },
  "language_info": {
   "codemirror_mode": {
    "name": "ipython",
    "version": 3
   },
   "file_extension": ".py",
   "mimetype": "text/x-python",
   "name": "python",
   "nbconvert_exporter": "python",
   "pygments_lexer": "ipython3",
   "version": "3.6.9"
  }
 },
 "nbformat": 4,
 "nbformat_minor": 2
}
