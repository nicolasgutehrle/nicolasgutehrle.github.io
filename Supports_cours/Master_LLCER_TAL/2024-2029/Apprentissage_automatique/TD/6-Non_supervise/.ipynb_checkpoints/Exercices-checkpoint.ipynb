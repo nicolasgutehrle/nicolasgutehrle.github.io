{
 "cells": [
  {
   "cell_type": "markdown",
   "metadata": {},
   "source": [
    "# Exercice 1\n",
    "\n",
    "Dans cet exercice, vous allez appliquer les méthodes de Clustering et de Topic Modelling sur la version anglaise du ``amazon_reviews``. Comme dans le cours, vous n'aurez pas besoin de classes, mais seulement des textes. \n",
    "\n",
    "Dans un premier temps, vous vectoriserez vos données textuelles afin qu'elles soient utilisables par l'algorithme. Vous utiliserez ensuite la librairie ``yellowbrick`` pour déterminer le nombre de cluster idéal pour vos données. Vous utiliserez la classe ``MiniBatchKmeans`` comme méthode de clustering. \n",
    "\n",
    "Une fois le nombre de clusters idéal trouvé, vous utiliserez la classe ``Pipeline`` (vue au cours précédent) pour entraîner votre modèle. Votre pipeline contiendra votre vectorizer ainsi que votre modèle de clustering. Vous contrôlerez la qualité de votre modèle, en ayant de classer des données issues du devset ou du testset. Enfin, vous sauvegarderez votre Pipeline sur le disque à l'aide de la libraire ``joblib``."
   ]
  },
  {
   "cell_type": "markdown",
   "metadata": {},
   "source": [
    "# Exercice 2\n",
    "\n",
    "En utilisant le même dataset, vous utiliserez la librairie ``gensim`` pour entraîner un modèle de Topic Modelling. Vous utiliserez l'algorithme LDA, comme vu en cours. Comme dans le cours, vous écrirez une fonction pour créer une version tokenizée de votre corpus (on gardera les mots vides cette fois). Appuyez vous sur le cours pour appliquer toutes les étapes qui mènent à l'entraînement de LDA.\n",
    "\n",
    "Une fois le modèle entraîné, vous afficherez les 10 premiers topics obtenus. Vous utiliserez ensuite votre modèle pour prédire le topic d'un document issu du devset ou du testset."
   ]
  }
 ],
 "metadata": {
  "kernelspec": {
   "display_name": "Python 3",
   "language": "python",
   "name": "python3"
  },
  "language_info": {
   "codemirror_mode": {
    "name": "ipython",
    "version": 3
   },
   "file_extension": ".py",
   "mimetype": "text/x-python",
   "name": "python",
   "nbconvert_exporter": "python",
   "pygments_lexer": "ipython3",
   "version": "3.7.7"
  }
 },
 "nbformat": 4,
 "nbformat_minor": 4
}
