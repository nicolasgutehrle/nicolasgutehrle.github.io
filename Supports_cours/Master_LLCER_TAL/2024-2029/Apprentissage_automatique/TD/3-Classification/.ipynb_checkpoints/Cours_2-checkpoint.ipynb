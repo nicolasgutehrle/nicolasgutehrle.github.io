{
 "cells": [
  {
   "cell_type": "markdown",
   "metadata": {},
   "source": [
    "# Classification des variétés de fleurs - Partie 2"
   ]
  },
  {
   "cell_type": "markdown",
   "metadata": {},
   "source": [
    "## Cross-validation\n",
    "\n",
    "Lorsque l'on entraîne un modèle, on utilise un testset pour valider l'entraînement. Parfois, les données d'entraînement et de test sont séparées, mais souvent, il faut les obtenir à partir du même jeu de données. La fonction ``train_test_split`` vue plus-tôt permet justement de faire ça, en mélangeant les données et en en sélectionnant une portion pour l'entraînement et une autre pour le test.\n",
    "\n",
    "Cependant, cette façon de préparer les données peut poser problèmes pour l'ensemble de l'entraînement du modèle: en étant composé aléatoirement, le testset peut n'être composé que des exemples les plus difficiles, ou à l'inverse des cas les plus faciles. Ainis, lors du test, le modèle peut soit obtenir de très mauvais scores alors qu'il se sera bien entraîné, ou à l'invers, obtiendra d'excellents scores alors qu'en réalité il ne généralise pas bien.\n",
    "\n",
    "Ainsi, pour estimer réellement les performances qu'aura un modèle sur un dataset donné, on utilise le ``Cross-validation``.  "
   ]
  },
  {
   "cell_type": "markdown",
   "metadata": {},
   "source": [
    "``Cross-validation`` consiste non pas à diviser le dataset en trainset et testset, mais à utiliser l'ensemble du dataset pour l'entraînement, de manière progressive. Ainsi, le dataset est divisé en un certain nombre de lots plus petits. A tour de rôle, chaque lot va servir de testset tandis que les autres serviront de trainset. ``Cross-validation`` entraîne donc un modèle différent pour chaque lot, puis fait la moyenne de leurs scores respectifs."
   ]
  },
  {
   "cell_type": "markdown",
   "metadata": {},
   "source": [
    "### Note\n",
    "\n",
    "``Cross-validation`` ne permet pas d'entraîner un modèle: il permet de tester les performances d'un éventuel modèle sur ce dataset. Si les performances obtenues avec ``cross_val_score`` sont satisfaisantes, vous pouvez commencer à entraîner un modèle comme précédemment."
   ]
  },
  {
   "cell_type": "code",
   "execution_count": 4,
   "metadata": {},
   "outputs": [
    {
     "data": {
      "image/png": "[encoded data removed]",
      "text/plain": [
       "<Figure size 864x144 with 1 Axes>"
      ]
     },
     "metadata": {
      "needs_background": "light"
     },
     "output_type": "display_data"
    }
   ],
   "source": [
    "import mglearn\n",
    "mglearn.plots.plot_cross_validation()"
   ]
  },
  {
   "cell_type": "markdown",
   "metadata": {},
   "source": [
    "Il existe plusieurs formes de ``Cross-Validation``. La plus commune est appelée ``k-cross-validation``, pour laquelle ``k`` correspond au nombre de lots créés. On peut attribuer la valeur que l'on veut à ``k``, cependant on lui attribue généralement soit la valeur 5 ou 10. DVLP"
   ]
  },
  {
   "cell_type": "code",
   "execution_count": 5,
   "metadata": {
    "colab": {},
    "colab_type": "code",
    "id": "adOgiAxTnAUt"
   },
   "outputs": [],
   "source": [
    "import pandas as pd"
   ]
  },
  {
   "cell_type": "markdown",
   "metadata": {},
   "source": [
    "Nous allons ouvrir à nouveau le fichier 'iris_dataset.csv' contenu dans le dossier 'data'. Il n'y a pas besoin de préciser le nom des colonnes cette fois puisque ceux-ci ont été ajouté au fichier."
   ]
  },
  {
   "cell_type": "code",
   "execution_count": 7,
   "metadata": {},
   "outputs": [
    {
     "data": {
      "text/html": [
       "<div>\n",
       "<style scoped>\n",
       "    .dataframe tbody tr th:only-of-type {\n",
       "        vertical-align: middle;\n",
       "    }\n",
       "\n",
       "    .dataframe tbody tr th {\n",
       "        vertical-align: top;\n",
       "    }\n",
       "\n",
       "    .dataframe thead th {\n",
       "        text-align: right;\n",
       "    }\n",
       "</style>\n",
       "<table border=\"1\" class=\"dataframe\">\n",
       "  <thead>\n",
       "    <tr style=\"text-align: right;\">\n",
       "      <th></th>\n",
       "      <th>sepal_length</th>\n",
       "      <th>sepal_width</th>\n",
       "      <th>petal_length</th>\n",
       "      <th>petal_width</th>\n",
       "      <th>class</th>\n",
       "    </tr>\n",
       "  </thead>\n",
       "  <tbody>\n",
       "    <tr>\n",
       "      <th>0</th>\n",
       "      <td>5.1</td>\n",
       "      <td>3.5</td>\n",
       "      <td>1.4</td>\n",
       "      <td>0.2</td>\n",
       "      <td>0</td>\n",
       "    </tr>\n",
       "    <tr>\n",
       "      <th>1</th>\n",
       "      <td>4.9</td>\n",
       "      <td>3.0</td>\n",
       "      <td>1.4</td>\n",
       "      <td>0.2</td>\n",
       "      <td>0</td>\n",
       "    </tr>\n",
       "    <tr>\n",
       "      <th>2</th>\n",
       "      <td>4.7</td>\n",
       "      <td>3.2</td>\n",
       "      <td>1.3</td>\n",
       "      <td>0.2</td>\n",
       "      <td>0</td>\n",
       "    </tr>\n",
       "    <tr>\n",
       "      <th>3</th>\n",
       "      <td>4.6</td>\n",
       "      <td>3.1</td>\n",
       "      <td>1.5</td>\n",
       "      <td>0.2</td>\n",
       "      <td>0</td>\n",
       "    </tr>\n",
       "    <tr>\n",
       "      <th>4</th>\n",
       "      <td>5.0</td>\n",
       "      <td>3.6</td>\n",
       "      <td>1.4</td>\n",
       "      <td>0.2</td>\n",
       "      <td>0</td>\n",
       "    </tr>\n",
       "  </tbody>\n",
       "</table>\n",
       "</div>"
      ],
      "text/plain": [
       "   sepal_length  sepal_width  petal_length  petal_width  class\n",
       "0           5.1          3.5           1.4          0.2      0\n",
       "1           4.9          3.0           1.4          0.2      0\n",
       "2           4.7          3.2           1.3          0.2      0\n",
       "3           4.6          3.1           1.5          0.2      0\n",
       "4           5.0          3.6           1.4          0.2      0"
      ]
     },
     "execution_count": 7,
     "metadata": {},
     "output_type": "execute_result"
    }
   ],
   "source": [
    "df = pd.read_csv('data/encoded_iris_dataset.csv')\n",
    "df.head()"
   ]
  },
  {
   "cell_type": "code",
   "execution_count": 8,
   "metadata": {},
   "outputs": [],
   "source": [
    "data = df.iloc[:, :-1] # on prend toutes les lignes et toutes les colonnes, sauf la dernière\n",
    "target = df.iloc[:, -1] # on prend toutes les lignes et seulement la dernière colonne"
   ]
  },
  {
   "cell_type": "code",
   "execution_count": 9,
   "metadata": {},
   "outputs": [
    {
     "name": "stdout",
     "output_type": "stream",
     "text": [
      "Cross-validation scores : [0.96666667 1.         0.93333333 0.96666667 1.        ]\n"
     ]
    },
    {
     "name": "stderr",
     "output_type": "stream",
     "text": [
      "/home/nicolas/anaconda3/envs/cours_dl/lib/python3.7/site-packages/sklearn/linear_model/_logistic.py:764: ConvergenceWarning: lbfgs failed to converge (status=1):\n",
      "STOP: TOTAL NO. of ITERATIONS REACHED LIMIT.\n",
      "\n",
      "Increase the number of iterations (max_iter) or scale the data as shown in:\n",
      "    https://scikit-learn.org/stable/modules/preprocessing.html\n",
      "Please also refer to the documentation for alternative solver options:\n",
      "    https://scikit-learn.org/stable/modules/linear_model.html#logistic-regression\n",
      "  extra_warning_msg=_LOGISTIC_SOLVER_CONVERGENCE_MSG)\n",
      "/home/nicolas/anaconda3/envs/cours_dl/lib/python3.7/site-packages/sklearn/linear_model/_logistic.py:764: ConvergenceWarning: lbfgs failed to converge (status=1):\n",
      "STOP: TOTAL NO. of ITERATIONS REACHED LIMIT.\n",
      "\n",
      "Increase the number of iterations (max_iter) or scale the data as shown in:\n",
      "    https://scikit-learn.org/stable/modules/preprocessing.html\n",
      "Please also refer to the documentation for alternative solver options:\n",
      "    https://scikit-learn.org/stable/modules/linear_model.html#logistic-regression\n",
      "  extra_warning_msg=_LOGISTIC_SOLVER_CONVERGENCE_MSG)\n",
      "/home/nicolas/anaconda3/envs/cours_dl/lib/python3.7/site-packages/sklearn/linear_model/_logistic.py:764: ConvergenceWarning: lbfgs failed to converge (status=1):\n",
      "STOP: TOTAL NO. of ITERATIONS REACHED LIMIT.\n",
      "\n",
      "Increase the number of iterations (max_iter) or scale the data as shown in:\n",
      "    https://scikit-learn.org/stable/modules/preprocessing.html\n",
      "Please also refer to the documentation for alternative solver options:\n",
      "    https://scikit-learn.org/stable/modules/linear_model.html#logistic-regression\n",
      "  extra_warning_msg=_LOGISTIC_SOLVER_CONVERGENCE_MSG)\n"
     ]
    }
   ],
   "source": [
    "from sklearn.linear_model import LogisticRegression\n",
    "from sklearn.model_selection import cross_val_score\n",
    "\n",
    "# LogisticRegression est un autre algorithme de regression lineaire\n",
    "# adapté aux problèmes de classification multiclasse\n",
    "lg = LogisticRegression() \n",
    "\n",
    "# on passe en argument le modèle vierge, les données, les classes\n",
    "# par défaut, k est égal à 3, mais on peut changer sa valeur avec le paramètre cv\n",
    "scores = cross_val_score(lg, data, target, cv=5) \n",
    "print(\"Cross-validation scores :\", scores)"
   ]
  },
  {
   "cell_type": "markdown",
   "metadata": {},
   "source": [
    "Comme indiqué plus haut, il existe plusieurs variations du ``Cross-validation``. En voici quelques-unes:\n",
    "\n",
    "* Stratified-cross-validation\n",
    "* Shuffle-split-cross-validation\n",
    "* Leave-one-out-cross-validation\n",
    "\n",
    "---"
   ]
  },
  {
   "cell_type": "markdown",
   "metadata": {},
   "source": [
    "## Grid Search \n",
    "\n",
    "Jusque là, nous avons entraîné deux modèles, `KNN` et `LR`. Par chance, les deux modèles ont obtenus des résultats plus que satisfaisants (plus de 90% de précision), et ce avec les paramètres par défaut. Cependant, il peut arriver qu'un modèle ait de mauvaises performances ou bien que les paramètres par défauts ne soient pas les meilleurs. Il faut donc essayer différents modèles avec différents paramètres, jusqu'à obtenir la meilleure combinaison.\n",
    "\n",
    "Tester les différents modèles et paramètres de manière successif est une tâche laborieuse, d'autant plus prône à l'erreur. Cependant, il est possible d'automtiser ce procédé grâce à ce qu'on appelle le ``GridSearch``. Cette méthode permet d'entraîner toute une série de modèles avec différentes combinaisons de paramètres. Les performances de chaque modèle, ainsi que leurs paramètres respectifs, sont enregistrés, permettant ainsi d'identifier la combinaison la plus perfomante.\n",
    "\n",
    "Bien que facilement implémentable, ``scikit-learn`` propose une implémentation du ``GridSearch`` nommée ``GridSearchCV``. Celle-ci applique le ``Cross-validation`` à chaque modèle entraîné."
   ]
  },
  {
   "cell_type": "markdown",
   "metadata": {},
   "source": [
    "### Grid Search des hyperparamètres d'un modèle\n",
    "\n",
    "Les paramètres de certains modèles comme LinearRegression ou LogisticRegression n'ont pas de réelle importance sur les performances des modèles. A l'inverse, les paramètres de KNN eux ont une importance réelle, en particulier le choix du nombre de voisins. Pour montrer l'intérêt du GridSearch, nous allons entraîner à nouveau un modèle KNN, en essayant différents choix du nombre de voisins à sélectionner.\n",
    "\n",
    "Les hyperparamètres doivent être passés dans un dictionnaire, pour lequel chaque clé est un hyperparamètre, et chaque valeur est une liste ou un tuple des valeurs à essayer."
   ]
  },
  {
   "cell_type": "code",
   "execution_count": 12,
   "metadata": {},
   "outputs": [
    {
     "data": {
      "text/plain": [
       "GridSearchCV(cv=5, estimator=KNeighborsClassifier(),\n",
       "             param_grid={'n_neighbors': [3, 5, 10]})"
      ]
     },
     "execution_count": 12,
     "metadata": {},
     "output_type": "execute_result"
    }
   ],
   "source": [
    "from sklearn.model_selection import GridSearchCV\n",
    "from sklearn.neighbors import KNeighborsClassifier\n",
    "\n",
    "knn = KNeighborsClassifier()\n",
    "# on veut essayer d'entraîner un modèle KNN avec respectivement, 3, 5 et 10 voisins\n",
    "param_grid = {\"n_neighbors\" : [3,5,10]} \n",
    "\n",
    "# Puisque GridSearchCV utlise le CrossValidation, on peut préciser l'argument cv comme précédemment\n",
    "grid = GridSearchCV(knn, param_grid, cv = 5)\n",
    "\n",
    "# GridSearchCV est un estimator, et possède donc également les méthodes fit(), predict(), ...\n",
    "grid.fit(data, target)\n"
   ]
  },
  {
   "cell_type": "code",
   "execution_count": 13,
   "metadata": {},
   "outputs": [
    {
     "name": "stdout",
     "output_type": "stream",
     "text": [
      "Best hyperparameters : {'n_neighbors': 10}\n",
      "Best score : 0.9800000000000001\n"
     ]
    }
   ],
   "source": [
    "print(\"Best hyperparameters :\", grid.best_params_)\n",
    "print(\"Best score :\", grid.best_score_)"
   ]
  },
  {
   "cell_type": "markdown",
   "metadata": {},
   "source": [
    "Ci-dessus, on peut voir que le meilleur résultat (98% de précision) est obtenu lorsque l'hyperparamètre ``n_neighbors`` est à 10. On peut ensuite récupérer le meilleur modèle entraîné avec la propriété ``best_estimator_``:"
   ]
  },
  {
   "cell_type": "code",
   "execution_count": 15,
   "metadata": {},
   "outputs": [],
   "source": [
    "best_knn = grid.best_estimator_ # on récupère le meilleur modèle"
   ]
  },
  {
   "cell_type": "markdown",
   "metadata": {},
   "source": [
    "On peut ensuite utiliser ce modèle de la même manière que les autres, par exemple pour faire des prédictions:"
   ]
  },
  {
   "cell_type": "code",
   "execution_count": 16,
   "metadata": {},
   "outputs": [
    {
     "data": {
      "text/plain": [
       "array([0])"
      ]
     },
     "execution_count": 16,
     "metadata": {},
     "output_type": "execute_result"
    }
   ],
   "source": [
    "best_knn.predict([[0.1, 0.1,0.1,0.1]]) # on tente de prédire un nouveau résultat"
   ]
  },
  {
   "cell_type": "markdown",
   "metadata": {},
   "source": [
    "On peut également prédire de nouveaux résultats directement avec le GridSearch, qui utilisera automatiquement le meilleur modèle entraîné:"
   ]
  },
  {
   "cell_type": "code",
   "execution_count": 77,
   "metadata": {},
   "outputs": [
    {
     "data": {
      "text/plain": [
       "array([0])"
      ]
     },
     "execution_count": 77,
     "metadata": {},
     "output_type": "execute_result"
    }
   ],
   "source": [
    "grid.predict([[0.1, 0.1,0.1,0.1]])"
   ]
  },
  {
   "cell_type": "markdown",
   "metadata": {},
   "source": [
    "Pour voir les résultats de la Cross-validation depuis Grid Search, on peut utiliser l'attribut ``cv_results_``:"
   ]
  },
  {
   "cell_type": "code",
   "execution_count": 78,
   "metadata": {},
   "outputs": [
    {
     "data": {
      "text/plain": [
       "{'mean_fit_time': array([0.002496  , 0.00198789, 0.00169201]),\n",
       " 'std_fit_time': array([4.18854612e-04, 9.54025204e-05, 7.68747278e-05]),\n",
       " 'mean_score_time': array([0.00323877, 0.00289812, 0.00254164]),\n",
       " 'std_score_time': array([0.00030225, 0.00019772, 0.00016976]),\n",
       " 'param_n_neighbors': masked_array(data=[3, 5, 10],\n",
       "              mask=[False, False, False],\n",
       "        fill_value='?',\n",
       "             dtype=object),\n",
       " 'params': [{'n_neighbors': 3}, {'n_neighbors': 5}, {'n_neighbors': 10}],\n",
       " 'split0_test_score': array([0.96666667, 0.96666667, 0.96666667]),\n",
       " 'split1_test_score': array([0.96666667, 1.        , 1.        ]),\n",
       " 'split2_test_score': array([0.93333333, 0.93333333, 1.        ]),\n",
       " 'split3_test_score': array([0.96666667, 0.96666667, 0.93333333]),\n",
       " 'split4_test_score': array([1., 1., 1.]),\n",
       " 'mean_test_score': array([0.96666667, 0.97333333, 0.98      ]),\n",
       " 'std_test_score': array([0.02108185, 0.02494438, 0.02666667]),\n",
       " 'rank_test_score': array([3, 2, 1], dtype=int32)}"
      ]
     },
     "execution_count": 78,
     "metadata": {},
     "output_type": "execute_result"
    }
   ],
   "source": [
    "grid.cv_results_"
   ]
  },
  {
   "cell_type": "markdown",
   "metadata": {},
   "source": [
    "## Références\n",
    "\n",
    "* Tutoriel Grid Search: https://scikit-learn.org/stable/modules/grid_search.html\n",
    "\n",
    "* Documentations:\n",
    "    * Grid Search: https://scikit-learn.org/stable/modules/generated/sklearn.model_selection.GridSearchCV.html\n",
    "    * Cross validation: https://scikit-learn.org/stable/modules/cross_validation.html"
   ]
  }
 ],
 "metadata": {
  "kernelspec": {
   "display_name": "Python 3",
   "language": "python",
   "name": "python3"
  },
  "language_info": {
   "codemirror_mode": {
    "name": "ipython",
    "version": 3
   },
   "file_extension": ".py",
   "mimetype": "text/x-python",
   "name": "python",
   "nbconvert_exporter": "python",
   "pygments_lexer": "ipython3",
   "version": "3.7.7"
  }
 },
 "nbformat": 4,
 "nbformat_minor": 4
}
