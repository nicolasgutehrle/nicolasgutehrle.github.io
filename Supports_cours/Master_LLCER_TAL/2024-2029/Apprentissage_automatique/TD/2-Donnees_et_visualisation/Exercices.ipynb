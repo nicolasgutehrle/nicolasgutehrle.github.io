{
 "cells": [
  {
   "cell_type": "markdown",
   "metadata": {
    "colab_type": "text",
    "id": "-54neeSGbzgf"
   },
   "source": [
    "# Exercices"
   ]
  },
  {
   "cell_type": "markdown",
   "metadata": {
    "colab_type": "text",
    "id": "e23Z8aahbzgh"
   },
   "source": [
    "## Exercice 1\n",
    "\n",
    "Dans une variable nommée ``df``, ouvrez le fichier ``data_banknote.csv``. \n",
    "Vous préciserez le nom des colonnes avec les valeurs suivantes:\n",
    "\n",
    "['variance', 'skewness', 'curtosis', 'entropy', 'class']\n"
   ]
  },
  {
   "cell_type": "code",
   "execution_count": null,
   "metadata": {
    "colab": {},
    "colab_type": "code",
    "id": "3xeNDnZ7fYYn"
   },
   "outputs": [],
   "source": [
    "## Exercice 1\n"
   ]
  },
  {
   "cell_type": "markdown",
   "metadata": {
    "colab_type": "text",
    "id": "eYZCyt3WdKm3"
   },
   "source": [
    "## Exercice 2\n",
    "\n",
    "Dans la cellule suivante, affichez ensuite les premières lignes du DataFrame, puis dans la cellule d'après, affichez les informations concernant le DataFrame"
   ]
  },
  {
   "cell_type": "code",
   "execution_count": null,
   "metadata": {
    "colab": {},
    "colab_type": "code",
    "id": "braZmiOodKqY"
   },
   "outputs": [],
   "source": [
    "## Exercice 2"
   ]
  },
  {
   "cell_type": "markdown",
   "metadata": {
    "colab_type": "text",
    "id": "h9Dsjuibje2o"
   },
   "source": [
    "## Exercice 3\n",
    "\n",
    "Visualisez les corrélations entre les différentes variables du DataFrame à l'aide de la fonction scatter_matrix de pandas."
   ]
  },
  {
   "cell_type": "code",
   "execution_count": null,
   "metadata": {
    "colab": {},
    "colab_type": "code",
    "id": "XvXE6Kp0jk7B"
   },
   "outputs": [],
   "source": [
    "## Exercice 3"
   ]
  },
  {
   "cell_type": "markdown",
   "metadata": {
    "colab_type": "text",
    "id": "6W3LwQgkbzgi"
   },
   "source": [
    "## Exercice 4\n",
    "\n",
    "Enregistrez dans une variable nommée 'class_value_counts' le nombre d'occurence de chaque valeur contenue dans la colonne 'class', puis visualisez ces données au travers d'un diagramme en barres.\n",
    "\n",
    "Indiquez ce que vous pouvez remarquer."
   ]
  },
  {
   "cell_type": "code",
   "execution_count": null,
   "metadata": {},
   "outputs": [],
   "source": [
    "# Exercice 4"
   ]
  },
  {
   "cell_type": "markdown",
   "metadata": {
    "colab_type": "text",
    "id": "2neqwDTYhRaM"
   },
   "source": [
    "### Remarques exercice 4"
   ]
  },
  {
   "cell_type": "code",
   "execution_count": null,
   "metadata": {
    "colab": {},
    "colab_type": "code",
    "id": "aLEd-GK1kBGb"
   },
   "outputs": [],
   "source": [
    "## Exercice 4"
   ]
  },
  {
   "cell_type": "markdown",
   "metadata": {
    "colab_type": "text",
    "id": "9eBrY5hfgAME"
   },
   "source": [
    "## Exercice 5\n",
    "\n",
    "Dans une variable nommée 'df_filter', filtrez le DataFrame 'df' en conservant toutes les colonnes, sauf la colonne 'class', puis projetez les valeurs du DataFrame sur un diagramme à lignes à l'aide de la fonction ```plot()```."
   ]
  },
  {
   "cell_type": "code",
   "execution_count": null,
   "metadata": {},
   "outputs": [],
   "source": [
    "# Exercice 5"
   ]
  },
  {
   "cell_type": "markdown",
   "metadata": {},
   "source": [
    "### Exercice 6 \n",
    "\n",
    "Suivez et réalisez dans la mesure du possible les tutoriels de Kaggle sur pandas et la visualisation de données. Vous pouvez créer un notebook à part entière pour réaliser les exercices, ou les faire directement depuis Kaggle:\n",
    "\n",
    "* Tutoriel ``pandas``: https://www.kaggle.com/learn/pandas\n",
    "* Tutoriel ``visualisation``: https://www.kaggle.com/learn/data-visualization"
   ]
  }
 ],
 "metadata": {
  "colab": {
   "collapsed_sections": [],
   "name": "Exercices.ipynb",
   "provenance": []
  },
  "kernelspec": {
   "display_name": "Python 3.9.10 64-bit",
   "language": "python",
   "name": "python3"
  },
  "language_info": {
   "codemirror_mode": {
    "name": "ipython",
    "version": 3
   },
   "file_extension": ".py",
   "mimetype": "text/x-python",
   "name": "python",
   "nbconvert_exporter": "python",
   "pygments_lexer": "ipython3",
   "version": "3.9.10"
  },
  "vscode": {
   "interpreter": {
    "hash": "b0fa6594d8f4cbf19f97940f81e996739fb7646882a419484c72d19e05852a7e"
   }
  }
 },
 "nbformat": 4,
 "nbformat_minor": 4
}
