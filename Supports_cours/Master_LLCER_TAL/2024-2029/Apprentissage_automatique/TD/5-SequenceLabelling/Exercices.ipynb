{
 "cells": [
  {
   "cell_type": "markdown",
   "metadata": {},
   "source": [
    "# Sequence Labelling - Exercices\n",
    "\n",
    "A partir des données en néelandais (\"ned\") de COnLL 2002, entraînez un modèle CRF pour annoter les textes en parties du discours, puis un autre modèle pour reconnaître les entités nommées."
   ]
  }
 ],
 "metadata": {
  "language_info": {
   "name": "python"
  },
  "orig_nbformat": 4
 },
 "nbformat": 4,
 "nbformat_minor": 2
}
