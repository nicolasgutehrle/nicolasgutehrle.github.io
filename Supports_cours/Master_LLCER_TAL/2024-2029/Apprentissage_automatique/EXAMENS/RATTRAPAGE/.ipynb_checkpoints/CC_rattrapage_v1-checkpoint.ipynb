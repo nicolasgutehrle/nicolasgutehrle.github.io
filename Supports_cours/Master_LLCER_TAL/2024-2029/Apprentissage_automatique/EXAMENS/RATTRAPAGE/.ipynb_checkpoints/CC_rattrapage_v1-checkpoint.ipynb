{
 "cells": [
  {
   "cell_type": "markdown",
   "metadata": {},
   "source": [
    "# Examen de rattrapage Approches Cognitives\n",
    "\n",
    "## Modalités:\n",
    "**Date et durée de l'examen** : Lundi 14 juin, de 8h à 10h, en ligne sur Teams à : https://teams.microsoft.com/l/team/19%3a653c450830464ec9a388d47f1dd551c9%40thread.tacv2/conversations?groupId=ee5b4e6f-6f60-42ae-8b5b-d5105bab7b64&tenantId=ca5a017f-00e6-423c-a8c6-0a1b459f6827\n",
    "\n",
    "L'utilisation d'Internet ainsi que des supports de cours est **autorisée**\n",
    "\n",
    "Les copies devront être rendues par mail à 10h au plus tard à :\n",
    "* nicolas.gutehrle@univ-fcomte.fr\n",
    "* iana.atanassova@.univ-fcomte.fr\n",
    "\n",
    "## Pénalités\n",
    "Un point sera retiré de la copie pour toutes 5 minutes de retard."
   ]
  },
  {
   "cell_type": "markdown",
   "metadata": {},
   "source": [
    "## Exercices Iana"
   ]
  },
  {
   "cell_type": "markdown",
   "metadata": {},
   "source": [
    "## Exercices Iana"
   ]
  },
  {
   "cell_type": "markdown",
   "metadata": {},
   "source": [
    "## Exercice 3 (XX pts)\n",
    "\n",
    "A l'aide de la librairie ``pandas``, ouvrez le fichier ``multilingual_reviews.csv``. A l'aide de cette librairie, affichez les informations suivantes:\n",
    "* Affichez les infos à propos du DataFrame: combien de lignes le fichier comporte-t-il ?\n",
    "* Affichez les 5 premières lignes du DataFrame\n",
    "\n",
    "Ensuite, créez une variable \"review_fr\", qui ne contiendra que les colonnes \"review_body\" et \"product_category\". A partir de cette variable, affichez les informations suivantes:\n",
    "* Affichez le compte de chaque valeur contenue dans la colonne \"product_category\"\n",
    "* A partir de ce comptage, affichez les résultats sous la forme d'un diagramme à bar. A partir de ce diagramme, pouvez-vous dire que les données sont équilibrées ? \n",
    "\n",
    "Enfin, enregistrez le DataFrame \"review_fr\" dans le dossier data, sous le nom \"review_fr.csv\" "
   ]
  },
  {
   "cell_type": "markdown",
   "metadata": {},
   "source": [
    "## Exercice 4 (XX pts)\n",
    "\n",
    "A l'aide de la librairie ``pandas``, ouvrez le fichier ``review_fr.csv`` que vous venez de créer dans le dossier ``data``. A partir de ce fichier, entraînez un **modèle de classification de produits**, en utilisant la librairie ``scikit-learn``. Ce modèle doit appendre à déterminer la catégorie du produit en fonction de sa description. Le modèle s'entraînera donc sur la colonne \"review_body\" et devra prédire le résultat de la colonne \"product_category\". Les données étant en français, vous ferez attention à supprimer les mots-vides. Vous pouvez pour cela utiliser le fichier \"fr_stopwords.txt\" contenu dans le dossier ``data``.\n",
    "\n",
    "Vous utiliserez la méthode TF-IDF pour vectorizer votre dataset. Vous diviserez votre dataset de telle sorte à avoir un dataset d'entraînement, de validation et de test. Vous utiliserez les datasets de validation et de test pour contrôler la qualité de votre modèle. Vous entraînerez deux modèles: un en utilisant l'algorithme KNN, et l'autre en utilisant l'algorithme LinearRegression. Vous commenterez votre code tout le long, en expliquant notamment les étapes que vous suivez et en expliquant les résultats que vous obtenez.\n"
   ]
  }
 ],
 "metadata": {
  "kernelspec": {
   "display_name": "Python 3",
   "language": "python",
   "name": "python3"
  },
  "language_info": {
   "codemirror_mode": {
    "name": "ipython",
    "version": 3
   },
   "file_extension": ".py",
   "mimetype": "text/x-python",
   "name": "python",
   "nbconvert_exporter": "python",
   "pygments_lexer": "ipython3",
   "version": "3.7.7"
  }
 },
 "nbformat": 4,
 "nbformat_minor": 4
}
