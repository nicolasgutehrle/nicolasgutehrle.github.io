{
 "cells": [
  {
   "cell_type": "markdown",
   "metadata": {},
   "source": [
    "## Deep Learning\n",
    "### fast.ai, pyTorch, TensorFlow, Keras\n",
    "\n",
    "fast.ai, pyTorch, et TensorFlow sont les trois grandes librairies Python pour le Deep Learning. PyTorch a été créé par Facebook tandis que TensorFlow a été créé par Google. Keras a été créé par François Chollet, avant d'être racheté par TensorFlow. Ces trois librairies se valent en terme de performances: il s'agit donc plus de votre goût personnel. \n",
    "\n",
    "fast.ai a été créé par Jeremy Howard. Elle repose sur PyTorch, et est une très bonne librairie pour s'initier au Deep Learning. De plus, les cours magistraux de Deep Learning dispensés par Howard sont accessibles librement au lien ci-dessous.\n",
    "\n",
    "N'hésitez pas non plus à consulter Youtube pour trouver des tutoriels pour l'une de ces librairies. Il est également conseillé de s'y initer à l'aide de Google Colab, afin d'avoir accès aux cartes graphiques. \n",
    "\n",
    "* fast.ai : https://course.fast.ai/\n",
    "* pyTorch : https://pytorch.org/tutorials/\n",
    "* TensorFlow : https://www.tensorflow.org/\n",
    "* Keras : https://keras.io/"
   ]
  },
  {
   "cell_type": "markdown",
   "metadata": {},
   "source": [
    "## Chatbot\n",
    "### Rasa, ChatterBot\n",
    "\n",
    "Un chatbot est un assistant avec lequel vous pouvez intéragir. Il sert généralement à répondre aux questions des utilisateurs (chatbot de la SNCF, BackMarket, ...). De plus en plus d'entreprises intègrent aujourd'hui des chatbot à leurs sites webs. Ceci a amené à une explosion de services de création de chatbot, tels que DialogFlow, Golem.ai, Watson Assistant. Ces outils vous permettent grâce à une interface graphique de créer les chatbots sans avoir à coder. Cependant, ces services sont généralement payants, et vous ne pouvez pas les personnaliser facilement.\n",
    "\n",
    "Deux librairies Python sortent ainsi du lot: Chatterbot et Rasa. Chatterbot est le plus simple des deux: il vous permet de faire correspondre une question d'un utilisateur à une réponse du chatbot, en définissant l'attitude qu'il doit prendre. Rasa est plus complexe mais bien plus puissant. Il faut utiliser plusieurs fichiers de configuration pour entraîner le modèle. Cepdendant, vous pouvez personnaliser les actions du chatbot à l'aide de Python. Vous pouvez donc en faire un assistant comme une interface à part entière. De plus, vous pouvez facilement y associer de la reconnaissance et de la synthèse vocale. \n",
    "\n",
    "Ces deux librairies reposent sur du Deep Learning: ainsi, vous entraînez un modèle à reconnaître l'intention (**intent**) de l'utilisateur. Un deuxième modèle est ensuite entraîné pour quelle est la réponse la plus adaptée à cette intention. \n",
    "\n",
    "\n",
    "* Rasa : https://rasa.com/\n",
    "* Chatterbot : https://chatterbot.readthedocs.io/en/stable/\n",
    "* DialogFlow : https://cloud.google.com/dialogflow/docs\n",
    "* Watson Assistant : https://www.ibm.com/cloud/watson-assistant"
   ]
  },
  {
   "cell_type": "markdown",
   "metadata": {},
   "source": [
    "### Reconnaissance et Synthèse vocale\n",
    "\n",
    "La reconnaissance et la synthèse vocale sont aujourd'hui facilement intégrables en Python, notamment grâce aux outils de Google. Vous pouvez donc facilement les ajouter par exemple à un système de chatbot afin d'intéragir par la voix. Cependant, ces services ne sont gratuit que sous un nombre limité de requêtes, qui peut être très rapidement atteint au sein d'une entreprise. Vous pouvez donc envisager d'entraîner vous même un modèle de synthèse vocale ou de reconnaissance vocale. Les dépôts git de Mozilla ci-dessous sont les meilleurs solutions open-source pour entraîner ces modèles. Cependant, il vous faudra des bases solides pour comprendre comment les entraîner, ainsi que beaucoup de temps: avec Google Colab, entraîner un modèle de TTS peut prendre plusieurs semaines, pendant lesquelles vous ne pouvez pas évaluer les performances. \n",
    "\n",
    "* IBM Watson Text to Speech : https://www.ibm.com/cloud/watson-text-to-speech \n",
    "* Mozilla TTS : https://github.com/mozilla/TTS\n",
    "* Mozilla DeepSpeech : https://github.com/mozilla/DeepSpeech\n",
    "* RealPython SpeechRecognition : https://realpython.com/python-speech-recognition/\n",
    "* TTS avec Python : https://towardsdatascience.com/easy-text-to-speech-with-python-bfb34250036e"
   ]
  },
  {
   "cell_type": "markdown",
   "metadata": {},
   "source": [
    "## NLP\n",
    "### Hugging Face, AllenAI, fastText\n",
    "\n",
    "\n",
    "\n",
    "fastText est la librairie développée par Facebook pour entraîner des Word Embeddings. Contrairement à Word2Vec et GloVe, fastText tokenize au niveau des morphèmes et non pas des unités lexicales. Les embeddings entraînés correspondent donc à ces morphèmes, ce qui permet de régler le problème de mots absents du vocabulaire. De plus, le site de fastText propose des modèles de  word embeddings pour près de 150 langues. C'est donc un excellent point de départ pour vos projets.\n",
    "\n",
    "HuggingFace est une entreprise française dédiée au Deep Learning et au TAL. Ils se sont fait connaître grâce à leurs implémentations des modèles les plus récents tels que BERT, GPT, T5, XLM, ... De plus, leur code est à la fois écrit en pyTorch et en TensorFlow, et vous pouvez facilement passer de l'un à l'autre. De plus, comme pour fastText, le site de HuggingFace met à disposition les modèles entraînés par la communauté. Vous pouvez donc utiliser un modèle BERT français sans avoir à l'entraîner vous même. Cependant, comme pour la synthès vocale, ces modèles représentent l'étât de l'art du domaine, et demandent donc des bases solides en Deep Learning.\n",
    "\n",
    "* fastText : https://fasttext.cc/\n",
    "* HuggingFace : https://github.com/huggingface/transformers\n",
    "* AllenAI : https://allenai.org/"
   ]
  },
  {
   "cell_type": "markdown",
   "metadata": {},
   "source": [
    "## Visualisation "
   ]
  },
  {
   "cell_type": "markdown",
   "metadata": {},
   "source": [
    "### Bokeh, Streamlit\n",
    "\n",
    "Bokeh est une librairie de visualisation Python développée par une partie de l'équipe d'Anaconda. Elle propose dans l'ensemble les mêmes types de visualisations que ``matplotlib`` ou ``seaborn``. La grande différence est que Bokeh permet de développer des interfaces de visualisation intéractives. Vous pouvez ainsi zoomer, sélectionner une portion du graphique, le sauvegarder sur le disque, y ajouter des étiquettes. Tous ces graphiques peuvent être combinés pour créer une application d'exploration et de manipulation de données, à l'aide du service ``bokeh server``. Bokeh permet également de visualiser des graphes et des données géographiques, égalements intéractifs.\n",
    "\n",
    "* Bokeh : https://docs.bokeh.org/en/latest/index.html\n",
    "* Streamlit : https://docs.streamlit.io/en/stable/getting_started.html\n",
    "* Demos Bokeh : https://demo.bokeh.org/"
   ]
  },
  {
   "cell_type": "markdown",
   "metadata": {},
   "source": [
    "## Ressources\n",
    "\n",
    "### StackOverFlow\n",
    "\n",
    "StackOverFlow est un forum de questions-réponses dédié à la programmation. Il permet d'y poser une question, notamment liée à un problème de code ou à des erreurs, à la communauté, qui propose des solutions. Stackoverflow est devenu en quelques années la source la plus importante de solutions en terme de code. Ainsi, dans la grande majorité des cas, si vous avez un problèmes de code (et vous en aurez), Stack aura certainement la réponse. \n",
    "\n",
    "Dans ce cas là, la meilleure solution est de copier-coller le message d'erreur que vous recevez (ex: KeyError, FileNotFound, ...) dans votre moteur de recherches. En général, les premères réponses que vous aurez vous mèneront vers Stackoverflow.\n",
    "\n",
    "### Kaggle\n",
    "\n",
    "Kaggle est une plateforme dédiée au Machine-Learning appartenant à Google. Elle est principalement orientée vers la compétition: des tâches / problèmes sont posés à la communauté, qui propose des solutions via des modèles. Pour une tâche donnée, vous avez accès à votre propore notebook depuis lequel vous pouvez travailler. Kaggle a permis à des personalités importantes du Machine-Learning (comme Jeremy Howard, créateur de fast.ai) d'émerger. C'est également un bon endroit pour se faire repérer par des employeurs, si vos résultats font parties des meilleurs. Cependant, Kaggle est surtout intéressant pour la quantité de données mise à disposition, ainsi que pour l'ensemble des tutoriels, allant de la visualisation au TAL.\n",
    "\n",
    "* Kaggle : https://www.kaggle.com/\n",
    "\n",
    "\n",
    "### Google Colab\n",
    "\n",
    "Google Colab est un service Google gratuit similaire à Jupyter Notebook. Il se lance directement depuis votre espace Google Drive. L'intérêt majeur de Google Colab est qu'il met des cartes graphiques dédiées au Deep Learning à votre disposition. Cela vous permet donc d'expérimenter et même d'entraîner vos propres modèles de Deep Learning gratuitement. Cet outil reste cependant limité: vous ne pouvez faire tourner qu'un seul notebook utilisant une carte graphique à la fois. De plus, un notebook utilisant une carte graphique sera automatiquement éteint au bout de 12h. Ainsi, si votre modèle demande plusieurs jours d'entraînement (ex: Tacotron), il vous faudra relancer le notebook régulièrement, en sachant que vous pourrez ne pas avoir accès à une carte graphique. De plus, les cartes mises à disposition ne sont pas les plus performantes: ainsi, sur un projet important, il vaut mieux considérer prendre un abonnement sur un service comme Amazon AWS ou Paperspace. Enfin, les données enregistrées sur l'espace Colab disparaissent à la fin de la session: il faut donc penser à connecter votre Colab à votre Drive (et donc, avoir assez d'espace libre).\n",
    "\n",
    "* Google Colab : https://colab.research.google.com/notebooks/intro.ipynb#recent=true\n",
    "\n",
    "### Paperspace\n",
    "\n",
    "Paperspace est un service de cloud vous donnant accès à des cartes graphiques. Certaines sont gratuites, mais la plupart sont payantes à l'heure (de l'ordre du centime). Vous pouvez également payer un abonnement pour obtenir plus d'espace disque (5go pour la version gratuite, 200go pour le premier abonnement). Vous pouvez créer plusieurs environnements avec les librairies déjà installées (pyTorch, fast.ai, Tensorflow, ...). L'interface se présente comme Jupyter Notebook.\n",
    "\n",
    "* Paperspace : https://www.paperspace.com/\n",
    "\n",
    "### Machinelearningmastery\n",
    "\n",
    "Machinelearningmastery est un blog écrit par Jason Brownlee, docteur. C'est une excellente ressource pour comprendre les bases ainsi que les aspects avancés de ce domaine. Chaque post est accompagné d'exemples de codes. Ces post vont d'aspects théoriques à de la pratique, et couvrent même des aspects de Deep Learning.\n",
    "\n",
    "* Machinelearningmastery : https://machinelearningmastery.com/\n",
    "\n",
    "### TowardsDataScience\n",
    "\n",
    "TowardsDataScience est une section de Medium, qui est un espace de blog. Il est dédié aux questions de DataScience, et va d'explications théoriques à des tutoriels. C'est donc une excellente ressource pour apprendre et trouver des solutions.\n",
    "\n",
    "* TowardsDataScience : https://towardsdatascience.com/\n",
    "\n"
   ]
  }
 ],
 "metadata": {
  "kernelspec": {
   "display_name": "Python 3 (ipykernel)",
   "language": "python",
   "name": "python3"
  },
  "language_info": {
   "codemirror_mode": {
    "name": "ipython",
    "version": 3
   },
   "file_extension": ".py",
   "mimetype": "text/x-python",
   "name": "python",
   "nbconvert_exporter": "python",
   "pygments_lexer": "ipython3",
   "version": "3.9.6"
  }
 },
 "nbformat": 4,
 "nbformat_minor": 4
}
