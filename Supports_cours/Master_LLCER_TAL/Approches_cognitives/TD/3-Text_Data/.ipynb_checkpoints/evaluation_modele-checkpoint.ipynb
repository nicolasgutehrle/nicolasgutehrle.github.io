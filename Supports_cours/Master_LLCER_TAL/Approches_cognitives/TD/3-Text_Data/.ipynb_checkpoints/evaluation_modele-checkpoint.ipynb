{
 "cells": [
  {
   "cell_type": "markdown",
   "metadata": {
    "colab_type": "text",
    "id": "l1bUY3xdp9wf"
   },
   "source": [
    "# Evaluer son modèle\n",
    "\n",
    "On peut entraîner son modèle le temps que l'on veut et avec autant de données que l'on veut, à la fin il faudra voir si l'entraînement s'est bien passé et si le modèle a réellement appris quelque chose."
   ]
  },
  {
   "cell_type": "markdown",
   "metadata": {
    "colab_type": "text",
    "id": "H6n-FWx6uI0o"
   },
   "source": [
    "### Chargement d'un modele et des données"
   ]
  },
  {
   "cell_type": "code",
   "execution_count": null,
   "metadata": {
    "colab": {
     "base_uri": "https://localhost:8080/",
     "height": 206
    },
    "colab_type": "code",
    "executionInfo": {
     "elapsed": 459,
     "status": "ok",
     "timestamp": 1594384880787,
     "user": {
      "displayName": "Nicolas Gutehrlé",
      "photoUrl": "",
      "userId": "13449761133402795532"
     },
     "user_tz": -120
    },
    "id": "YIXDCwLauQBv",
    "outputId": "2ed0a09b-743c-473b-b495-7af1acbc9d22"
   },
   "outputs": [
    {
     "data": {
      "text/html": [
       "<div>\n",
       "<style scoped>\n",
       "    .dataframe tbody tr th:only-of-type {\n",
       "        vertical-align: middle;\n",
       "    }\n",
       "\n",
       "    .dataframe tbody tr th {\n",
       "        vertical-align: top;\n",
       "    }\n",
       "\n",
       "    .dataframe thead th {\n",
       "        text-align: right;\n",
       "    }\n",
       "</style>\n",
       "<table border=\"1\" class=\"dataframe\">\n",
       "  <thead>\n",
       "    <tr style=\"text-align: right;\">\n",
       "      <th></th>\n",
       "      <th>texts</th>\n",
       "      <th>labels</th>\n",
       "    </tr>\n",
       "  </thead>\n",
       "  <tbody>\n",
       "    <tr>\n",
       "      <th>0</th>\n",
       "      <td>Ca c'est du vol... Vous ne recevrez q'une lame...</td>\n",
       "      <td>0</td>\n",
       "    </tr>\n",
       "    <tr>\n",
       "      <th>1</th>\n",
       "      <td>Presque 1 mois après la commande, le produit n...</td>\n",
       "      <td>0</td>\n",
       "    </tr>\n",
       "    <tr>\n",
       "      <th>2</th>\n",
       "      <td>Amazon n’a pu me livrer ce produit, je suis dé...</td>\n",
       "      <td>0</td>\n",
       "    </tr>\n",
       "    <tr>\n",
       "      <th>3</th>\n",
       "      <td>Pas adapté au boîtier, il flotte dedans.</td>\n",
       "      <td>0</td>\n",
       "    </tr>\n",
       "    <tr>\n",
       "      <th>4</th>\n",
       "      <td>Heureusement qu'Amazon a le sens des affaires,...</td>\n",
       "      <td>0</td>\n",
       "    </tr>\n",
       "  </tbody>\n",
       "</table>\n",
       "</div>"
      ],
      "text/plain": [
       "                                               texts  labels\n",
       "0  Ca c'est du vol... Vous ne recevrez q'une lame...       0\n",
       "1  Presque 1 mois après la commande, le produit n...       0\n",
       "2  Amazon n’a pu me livrer ce produit, je suis dé...       0\n",
       "3           Pas adapté au boîtier, il flotte dedans.       0\n",
       "4  Heureusement qu'Amazon a le sens des affaires,...       0"
      ]
     },
     "execution_count": 8,
     "metadata": {
      "tags": []
     },
     "output_type": "execute_result"
    }
   ],
   "source": [
    "import pandas as pd\n",
    "\n",
    "testpath = '/content/drive/My Drive/Cours/Classification_binaire/data/binary_dataset_fr_test.json' \n",
    "data = pd.read_csv(testpath)\n",
    "data = data[['review_body', 'stars']]\n",
    "data.columns = ['texts', 'labels']\n",
    "X_test, y_test = data.texts, data.labels\n",
    "data.head()"
   ]
  },
  {
   "cell_type": "code",
   "execution_count": null,
   "metadata": {
    "colab": {},
    "colab_type": "code",
    "id": "U0amx7-Eu-4S"
   },
   "outputs": [],
   "source": [
    "from joblib import load\n",
    "model = load('/content/drive/My Drive/Cours/Classification_binaire/linear_pipeline.joblib')"
   ]
  },
  {
   "cell_type": "markdown",
   "metadata": {
    "colab_type": "text",
    "id": "v75eS7nSq-gu"
   },
   "source": [
    "## Score de précision\n",
    "\n",
    "Dans des problèmes de classification, le premier score qui nous intéresse est la précision, c'est-à-dire la capacité d'un modèle à correctement catégoriser une donnée."
   ]
  },
  {
   "cell_type": "code",
   "execution_count": null,
   "metadata": {
    "colab": {
     "base_uri": "https://localhost:8080/",
     "height": 54
    },
    "colab_type": "code",
    "executionInfo": {
     "elapsed": 757,
     "status": "ok",
     "timestamp": 1594388484502,
     "user": {
      "displayName": "Nicolas Gutehrlé",
      "photoUrl": "",
      "userId": "13449761133402795532"
     },
     "user_tz": -120
    },
    "id": "cHMKNPrLvhXW",
    "outputId": "6eb43698-dbd2-4f9a-96de-bc02e3efe724"
   },
   "outputs": [
    {
     "name": "stdout",
     "output_type": "stream",
     "text": [
      "Précision du modèle :  0.88575\n",
      "Précision du modèle :  0.88575\n"
     ]
    }
   ],
   "source": [
    "# La plupart des modèles de scikit-learn ont une fonction score pour évaluer la performance\n",
    " # en entrée on donne un nouveau jeu de données avec un ensemble de catégorie pour comparer\n",
    "# les classes prédites avec les classes réelles\n",
    "print(\"Précision du modèle : \", model.score(X_test, y_test))\n",
    "\n",
    "# on peut également utiliser la fonction accuracy_score\n",
    "from sklearn.metrics import accuracy_score\n",
    "preds = model.predict(X_test)\n",
    "print(\"Précision du modèle : \", accuracy_score(y_test, preds))"
   ]
  },
  {
   "cell_type": "markdown",
   "metadata": {
    "colab_type": "text",
    "id": "mvAX1mVSqQYY"
   },
   "source": [
    "## Matrice de confusion - Confusion matrix\n",
    "\n",
    "Un des inconvénient du score de précision est qu'il ne donne qu'un aperçu général de la capacité du modèle à catégoriser des données. Même si un modèle est précis à 80% ou 90%, il reste toujours un pourcentage d'erreur à corriger, que le score de précision ne permet pas de consulter.\n",
    "\n",
    "Pour mieux comprendre quelles catégories sont correctement et incorrectement annotées, on peut utiliser une **matrice de confusion**\n",
    "\n",
    "[Définition sur Wikipédia ](https://fr.wikipedia.org/wiki/Matrice_de_confusion)\n",
    "\n",
    "Documentations:\n",
    "\n",
    "* https://scikit-learn.org/stable/modules/generated/sklearn.metrics.plot_confusion_matrix.html#sklearn.metrics.plot_confusion_matrix\n",
    "\n",
    "* https://scikit-learn.org/stable/auto_examples/model_selection/plot_confusion_matrix.html"
   ]
  },
  {
   "cell_type": "code",
   "execution_count": null,
   "metadata": {
    "colab": {
     "base_uri": "https://localhost:8080/",
     "height": 72
    },
    "colab_type": "code",
    "executionInfo": {
     "elapsed": 499,
     "status": "ok",
     "timestamp": 1594388473455,
     "user": {
      "displayName": "Nicolas Gutehrlé",
      "photoUrl": "",
      "userId": "13449761133402795532"
     },
     "user_tz": -120
    },
    "id": "Dsuvf1Nk0Z-G",
    "outputId": "5a9d5a44-81c8-4cc5-bee1-37d3af2ebf84"
   },
   "outputs": [
    {
     "name": "stdout",
     "output_type": "stream",
     "text": [
      "Confusion matrix :\n"
     ]
    },
    {
     "data": {
      "text/plain": [
       "array([[1759,  241],\n",
       "       [ 216, 1784]])"
      ]
     },
     "execution_count": 24,
     "metadata": {
      "tags": []
     },
     "output_type": "execute_result"
    }
   ],
   "source": [
    "from sklearn.metrics import confusion_matrix\n",
    "\n",
    "print(\"Confusion matrix :\")\n",
    "confusion_matrix(y_test, preds)"
   ]
  },
  {
   "cell_type": "code",
   "execution_count": null,
   "metadata": {
    "colab": {
     "base_uri": "https://localhost:8080/",
     "height": 297
    },
    "colab_type": "code",
    "executionInfo": {
     "elapsed": 738,
     "status": "ok",
     "timestamp": 1594386254356,
     "user": {
      "displayName": "Nicolas Gutehrlé",
      "photoUrl": "",
      "userId": "13449761133402795532"
     },
     "user_tz": -120
    },
    "id": "NOi21v7R0dWG",
    "outputId": "8f1b6a8e-7fa1-4059-a174-5018d6853703"
   },
   "outputs": [
    {
     "data": {
      "text/plain": [
       "<sklearn.metrics._plot.confusion_matrix.ConfusionMatrixDisplay at 0x7fd896a77c18>"
      ]
     },
     "execution_count": 14,
     "metadata": {
      "tags": []
     },
     "output_type": "execute_result"
    },
    {
     "data": {
      "image/png": "[encoded data removed]",
      "text/plain": [
       "<Figure size 432x288 with 2 Axes>"
      ]
     },
     "metadata": {
      "needs_background": "light",
      "tags": []
     },
     "output_type": "display_data"
    }
   ],
   "source": [
    "# Autre façon de faire, plus graphique\n",
    "import matplotlib.pyplot as plt\n",
    "from sklearn.metrics import plot_confusion_matrix\n",
    "\n",
    "class_names = [0, 1] # on indique les classes pour mieux comprendre la matrice\n",
    "cmap = plt.cm.Blues # change les couleurs par défaut de la matrice\n",
    "\n",
    "# plot_confusion_matrix prend le modele et les données de tests et fait une\n",
    "# prediction sur ces données, pour ensuite afficher le résultat \n",
    "plot_confusion_matrix(model, X_test, y_test,\n",
    "                      display_labels = class_names,\n",
    "                      cmap = cmap,\n",
    "                      normalize = 'true' # permet de situer les résultats dans une échelle entre 0 et 1\n",
    "                      )"
   ]
  },
  {
   "cell_type": "markdown",
   "metadata": {
    "colab_type": "text",
    "id": "GCrJB8d353qo"
   },
   "source": [
    "## Rappel (Recall)\n",
    "\n",
    "Parmis les mesures proposées par scikit-learn, on peut également calculer le Rappel. Cependant, c'est une mesure que l'on utilise rarement voir jamais dans les problèmes de classifications.\n",
    "\n",
    "Documentation: \n",
    "\n",
    "* https://scikit-learn.org/stable/modules/generated/sklearn.metrics.recall_score.html#sklearn.metrics.recall_score"
   ]
  },
  {
   "cell_type": "code",
   "execution_count": null,
   "metadata": {
    "colab": {
     "base_uri": "https://localhost:8080/",
     "height": 35
    },
    "colab_type": "code",
    "executionInfo": {
     "elapsed": 477,
     "status": "ok",
     "timestamp": 1594388295298,
     "user": {
      "displayName": "Nicolas Gutehrlé",
      "photoUrl": "",
      "userId": "13449761133402795532"
     },
     "user_tz": -120
    },
    "id": "H7Fr3y0v6u4V",
    "outputId": "b4d4dcbb-4d19-4705-fbb9-31ea5909a63f"
   },
   "outputs": [
    {
     "data": {
      "text/plain": [
       "0.892"
      ]
     },
     "execution_count": 19,
     "metadata": {
      "tags": []
     },
     "output_type": "execute_result"
    }
   ],
   "source": [
    "from sklearn.metrics import recall_score\n",
    "recall_score(y_test, preds)"
   ]
  },
  {
   "cell_type": "markdown",
   "metadata": {
    "colab_type": "text",
    "id": "CU05alNl1mFK"
   },
   "source": []
  },
  {
   "cell_type": "markdown",
   "metadata": {
    "colab_type": "text",
    "id": "yyDe0EIn2F5f"
   },
   "source": [
    "## Rapport de classification\n",
    "\n",
    "Le rapport de classification regroupe un ensemble de statistiques, en particulier la Précision, le Rappel et le score F1. La fonction est donc très utile pour avoir un aperçu global des résultats du modèle.\n",
    "\n",
    "Documentations:\n",
    "\n",
    "* https://scikit-learn.org/stable/modules/generated/sklearn.metrics.classification_report.html#sklearn.metrics.classification_report"
   ]
  },
  {
   "cell_type": "code",
   "execution_count": null,
   "metadata": {
    "colab": {
     "base_uri": "https://localhost:8080/",
     "height": 182
    },
    "colab_type": "code",
    "executionInfo": {
     "elapsed": 504,
     "status": "ok",
     "timestamp": 1594388401385,
     "user": {
      "displayName": "Nicolas Gutehrlé",
      "photoUrl": "",
      "userId": "13449761133402795532"
     },
     "user_tz": -120
    },
    "id": "gahBhloq2KXf",
    "outputId": "5522233b-e211-463f-ce30-2a7ab92bc6f9"
   },
   "outputs": [
    {
     "name": "stdout",
     "output_type": "stream",
     "text": [
      "              precision    recall  f1-score   support\n",
      "\n",
      "           0       0.89      0.88      0.89      2000\n",
      "           1       0.88      0.89      0.89      2000\n",
      "\n",
      "    accuracy                           0.89      4000\n",
      "   macro avg       0.89      0.89      0.89      4000\n",
      "weighted avg       0.89      0.89      0.89      4000\n",
      "\n"
     ]
    }
   ],
   "source": [
    "from sklearn.metrics import classification_report\n",
    "target_names = ['0', '1'] # liste des noms de classes \n",
    "print(classification_report(y_test, preds, target_names=target_names))"
   ]
  },
  {
   "cell_type": "markdown",
   "metadata": {
    "colab_type": "text",
    "id": "SFEuURAZrssf"
   },
   "source": [
    "## GridSearch"
   ]
  },
  {
   "cell_type": "markdown",
   "metadata": {
    "colab_type": "text",
    "id": "JPAQRiBoyS2p"
   },
   "source": [
    "## Jeux de données - Dataset"
   ]
  },
  {
   "cell_type": "markdown",
   "metadata": {
    "colab_type": "text",
    "id": "huY9b69tv8Cs"
   },
   "source": [
    "### Train\n",
    "\n",
    "\n",
    "Pour créer un modèle, on a besoin de données d'entraînement. En général, lorsque l'on obtient ces données d'un site (Kaggle, Google, Amazon, ...), ces données sont nommées \"train_set\", \"train_dataset\"."
   ]
  },
  {
   "cell_type": "markdown",
   "metadata": {
    "colab_type": "text",
    "id": "d3AxYYNLv8F0"
   },
   "source": [
    "## Validation\n",
    "\n",
    "Cependant, il est également important de pouvoir évaluer la qualité de l'entraînement. Pour cela on utilise un jeu de données dit de \"validation\" ou de \"developpement\", généralement appelé **valset** ou **devset**. Parfois, les données de validation sont fournis avec les données d'entraînement, mais ce n'est pas toujours le cas. Ainsi en général, on créé les données de validation en prenant une portion des données d'entraînement. Tradiotionnellement, on conserve 70 - 80 ou 90% des données d'entraînement et on prend le reste pour les données de validation. "
   ]
  },
  {
   "cell_type": "markdown",
   "metadata": {
    "colab_type": "text",
    "id": "FLZG6CNprvcO"
   },
   "source": [
    "## Test set\n",
    "\n",
    "Les données d'entraînement et de validation peuvent servir à entraîner plusieurs modèles. Afin de réellement voir lequel est le plus performant, on utilise également des données de **test**, généralement appelé **testset**. Il s'agit de données que le modèle n'aura jamais vu pendant la phase d'entraînement, ce qui permet de tester les performances du modèles dans une situation réelles. \n",
    "\n"
   ]
  },
  {
   "cell_type": "markdown",
   "metadata": {
    "colab_type": "text",
    "id": "qNrgUzz6wRxC"
   },
   "source": [
    "## Entraîner un modèle \n",
    "\n",
    "Dans un tâche d'apprentissage supervisé, l'objectif pour un modèle est de définir les meilleurs paramètres pour une certaine fonction à partir des données qui lui sont présentées. L'objectif à terme d'un modèle est d'être utilisé en production pour prédire des résultats à partir de nouvelles données qu'il n'a jamais vues. Ainsi, lors de l'entraînement d'un modèle, il est important d'évaluer sa capacité à **généraliser**. \n",
    "\n",
    "Cependant, il est très fréquent de créer des lodèles qui ne soient pas correctement capables de généraliser. Cette difficulté à généraliser peut s'expliquer de deux manières : soit le modèle n'est pas capable d'apprendre les paramètres à partir des données, soit au contraitre il apprend ces paramètres beaucoup trop bien. Dans le premier cas, le modèle est \"mal-entraîné\" et prédit un résultat au hasard. Dans le second, le modèle a tellement bien appris à partir des données d'entraînement qu'il ne sait pas comment traiter de nouvelles données. \n",
    "\n",
    "En machine-learning, on parle respectivement d'**underfitting** et d'**overfitting**\n",
    "\n"
   ]
  },
  {
   "cell_type": "markdown",
   "metadata": {
    "colab_type": "text",
    "id": "Ke2RRF56rP2U"
   },
   "source": [
    "## Underfitting\n",
    "\n",
    "L'underfitting désigne le cas où le modèle n'a pas appris correctement les paramètres à partir des données d'entraînement, et n'est donc pas capable de généraliser. On peut le repérer lorsque les résultats de l'entraînement ne sont pas concluants. \n",
    "\n",
    "En général, l'underfitting est dû à des données n'ayant pas assez de **features**. Ainsi, la meilleure façon de résoudre l'underfitting est d'ajouter des **features** aux données.\n",
    "\n",
    "Les cas d'underfitting sont extrêmement rares lorsque l'on manipule des données textuelles, puisque justement, on a généralement beaucoup trop de features.\n",
    "\n",
    "![alt text](\"4-Classification_binaire/data/appfitting.png\")"
   ]
  },
  {
   "cell_type": "markdown",
   "metadata": {
    "colab_type": "text",
    "id": "ruNksZRYrOBS"
   },
   "source": [
    "## Overfitting\n",
    "\n",
    "L'**overfitting** désigne le cas inverse où un modèle apprend beaucoup trop bien les paramètres à partir des données d'entraînement, et n'apprend donc pas à généraliser. D'une certaine façon, le modèle a appris par coeur les réponses aux questions, mais ne sait pas quoi répondre à des questions qu'il n'a pas vu jusque là.\n",
    "\n",
    "En général, l'overfitting se détecte lorsque les performances du modèles sont largement supérieures sur les données d'entraînement que sur les données de test.\n",
    "Contrairement à l'underfitting, l'overfitting est un des problèmes les plus souvent rencontrés en machine-learning.\n",
    "\n",
    "Attention cependant à ne pas mettre un modèle de côté à cause d'un léger cas d'overfitting. Très souvent, les modèles ont tendance à l'overfit, sans que cela ne soit réellement impactant. Ainsi, on peut dire qu'un modèle généralise correctement si l'écart entre la précision de l'entraînement et du test est inférieur à 10%.\n",
    "\n",
    "EXEMPLES\n",
    "\n",
    "EXEMPLE OVERFITTING\n",
    "\n",
    "![alt text](4-Classification_binaire/data/overfitting.png)"
   ]
  },
  {
   "cell_type": "markdown",
   "metadata": {
    "colab_type": "text",
    "id": "QOf_IgX1zCcy"
   },
   "source": [
    "### Feature reduction\n",
    "\n",
    "Une des raisons de l'overfitting est qu'il y a trop de features dans les données d'entraînement, ce qui fait que les paramètres appris sont beaucoup trop précis. Une solution est donc de réduire le nombre de features.\n",
    "\n",
    "Lorsque l'on traite des données textuelles, les features utilisées correspondent au vocabulaire utilisé. En plus de préserver la mémoire, il est donc conseillé de réduire la taille de ce vocabulaire, afin que le modèle ne se concentre que sur un ensemble de mots pertinents."
   ]
  },
  {
   "cell_type": "markdown",
   "metadata": {
    "colab_type": "text",
    "id": "z6rGgFt98hSL"
   },
   "source": [
    "## Curse of dimensionality"
   ]
  },
  {
   "cell_type": "markdown",
   "metadata": {
    "colab_type": "text",
    "id": "5J7Q1Xe1ynUT"
   },
   "source": [
    "## Cross-validation"
   ]
  },
  {
   "cell_type": "markdown",
   "metadata": {
    "colab_type": "text",
    "id": "Q-TFTjvdxetn"
   },
   "source": [
    "## Le dilemme biais-variance - The bias-variance tradeoff\n"
   ]
  },
  {
   "cell_type": "markdown",
   "metadata": {
    "colab_type": "text",
    "id": "9VrDOVumrrzR"
   },
   "source": [
    "# Références\n",
    "\n",
    "MachineLearningMastery : https://machinelearningmastery.com/overfitting-and-underfitting-with-machine-learning-algorithms/\n",
    "\n",
    "Data Science from scratch\n",
    "\n"
   ]
  }
 ],
 "metadata": {
  "colab": {
   "authorship_tag": "ABX9TyMvuGXZt+fuDM64ZyrafsHN",
   "collapsed_sections": [],
   "mount_file_id": "1Fbj8f2yIvAVHE1KnktrjNbDGUvzCJkQG",
   "name": "evaluation_modele.ipynb",
   "provenance": [],
   "toc_visible": true
  },
  "kernelspec": {
   "display_name": "Python 3",
   "language": "python",
   "name": "python3"
  },
  "language_info": {
   "codemirror_mode": {
    "name": "ipython",
    "version": 3
   },
   "file_extension": ".py",
   "mimetype": "text/x-python",
   "name": "python",
   "nbconvert_exporter": "python",
   "pygments_lexer": "ipython3",
   "version": "3.8.5"
  }
 },
 "nbformat": 4,
 "nbformat_minor": 4
}
