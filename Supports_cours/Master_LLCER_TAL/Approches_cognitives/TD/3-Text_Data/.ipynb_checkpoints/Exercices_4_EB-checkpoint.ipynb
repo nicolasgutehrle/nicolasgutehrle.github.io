{
 "cells": [
  {
   "cell_type": "markdown",
   "metadata": {},
   "source": [
    "# Exercice\n",
    "\n",
    "Vous allez reproduire les mêmes étapes de ce cours, cette fois avec la version anglaise du ``amazon_reviews`` dataset. Dans un premier temps vous entraînerez un modèle avec les données telles quelles, puis vous entraînerez un second modèle avec des données binaires, comme dans le cours."
   ]
  },
  {
   "cell_type": "markdown",
   "metadata": {},
   "source": [
    "### Importer les données\n",
    "\n",
    "Les données sont déjà divisées en train, validation et testset: vous n'aurez donc pas besoin d'utiliser ``train_test_split``, et vous aurez juste à charger les trois fichiers respectifs dans trois DataFrames. Les données se trouvent dans le dossier ``amazon_reviews/data/en``."
   ]
  },
  {
   "cell_type": "code",
   "execution_count": 2,
   "metadata": {},
   "outputs": [],
   "source": [
    "import pandas as pd\n",
    "trainset = pd.read_json('Data_exercices/dataset_en_train.json', lines=True)\n",
    "devset = pd.read_json('Data_exercices/dataset_en_dev.json', lines=True)\n",
    "testset = pd.read_json('Data_exercices/dataset_en_test.json', lines=True)"
   ]
  },
  {
   "cell_type": "markdown",
   "metadata": {},
   "source": [
    "### Filtrer et renommer les données\n",
    "Vous ne garderez que les colonnes``review_body`` et ``stars`` , que vous renommerez respectivement en ``texts`` et ``targets``."
   ]
  },
  {
   "cell_type": "code",
   "execution_count": 69,
   "metadata": {},
   "outputs": [],
   "source": [
    "def filter_df(df, list_columns):\n",
    "    filtered_df = df[list_columns]\n",
    "    return filtered_df\n",
    "\n",
    "col = ['review_body','stars']\n",
    "train = filter_df(trainset,col)\n",
    "dev = filter_df(devset,col)\n",
    "test = filter_df(testset,col)"
   ]
  },
  {
   "cell_type": "code",
   "execution_count": 70,
   "metadata": {},
   "outputs": [],
   "source": [
    "def renommer_colonnes(df, list_rename):\n",
    "    df.columns = list_rename\n",
    "    return df"
   ]
  },
  {
   "cell_type": "code",
   "execution_count": 71,
   "metadata": {},
   "outputs": [
    {
     "data": {
      "text/html": [
       "<div>\n",
       "<style scoped>\n",
       "    .dataframe tbody tr th:only-of-type {\n",
       "        vertical-align: middle;\n",
       "    }\n",
       "\n",
       "    .dataframe tbody tr th {\n",
       "        vertical-align: top;\n",
       "    }\n",
       "\n",
       "    .dataframe thead th {\n",
       "        text-align: right;\n",
       "    }\n",
       "</style>\n",
       "<table border=\"1\" class=\"dataframe\">\n",
       "  <thead>\n",
       "    <tr style=\"text-align: right;\">\n",
       "      <th></th>\n",
       "      <th>texts</th>\n",
       "      <th>targets</th>\n",
       "    </tr>\n",
       "  </thead>\n",
       "  <tbody>\n",
       "    <tr>\n",
       "      <th>0</th>\n",
       "      <td>Arrived broken. Manufacturer defect. Two of th...</td>\n",
       "      <td>1</td>\n",
       "    </tr>\n",
       "    <tr>\n",
       "      <th>1</th>\n",
       "      <td>the cabinet dot were all detached from backing...</td>\n",
       "      <td>1</td>\n",
       "    </tr>\n",
       "    <tr>\n",
       "      <th>2</th>\n",
       "      <td>I received my first order of this product and ...</td>\n",
       "      <td>1</td>\n",
       "    </tr>\n",
       "    <tr>\n",
       "      <th>3</th>\n",
       "      <td>This product is a piece of shit. Do not buy. D...</td>\n",
       "      <td>1</td>\n",
       "    </tr>\n",
       "    <tr>\n",
       "      <th>4</th>\n",
       "      <td>went through 3 in one day doesn't fit correct ...</td>\n",
       "      <td>1</td>\n",
       "    </tr>\n",
       "  </tbody>\n",
       "</table>\n",
       "</div>"
      ],
      "text/plain": [
       "                                               texts  targets\n",
       "0  Arrived broken. Manufacturer defect. Two of th...        1\n",
       "1  the cabinet dot were all detached from backing...        1\n",
       "2  I received my first order of this product and ...        1\n",
       "3  This product is a piece of shit. Do not buy. D...        1\n",
       "4  went through 3 in one day doesn't fit correct ...        1"
      ]
     },
     "execution_count": 71,
     "metadata": {},
     "output_type": "execute_result"
    }
   ],
   "source": [
    "list_rename = ['texts', 'targets']\n",
    "train = renommer_colonnes(train, list_rename)\n",
    "dev = renommer_colonnes(dev, list_rename)\n",
    "test = renommer_colonnes(test, list_rename)\n",
    "train.head()"
   ]
  },
  {
   "cell_type": "markdown",
   "metadata": {},
   "source": [
    "### Visualisation des classes\n",
    "Que remarquez vous sur le graphique ?"
   ]
  },
  {
   "cell_type": "code",
   "execution_count": 72,
   "metadata": {},
   "outputs": [
    {
     "data": {
      "text/plain": [
       "<matplotlib.axes._subplots.AxesSubplot at 0x7f8617b8f9d0>"
      ]
     },
     "execution_count": 72,
     "metadata": {},
     "output_type": "execute_result"
    },
    {
     "data": {
      "image/png": "[encoded data removed]",
      "text/plain": [
       "<Figure size 432x288 with 1 Axes>"
      ]
     },
     "metadata": {
      "needs_background": "light"
     },
     "output_type": "display_data"
    }
   ],
   "source": [
    "train.targets.value_counts().plot.bar()\n",
    "#Les données sont équilibrées"
   ]
  },
  {
   "cell_type": "markdown",
   "metadata": {},
   "source": [
    "### CountVectorizer\n",
    "### Concaténer les données et entraîner\n",
    "\n",
    "Vous utiliserez la fonction ``pd.concat()`` pour combiner le train, dev et test sets en un seul dataset, qui vous servira à entraîner votre CountVectorizer"
   ]
  },
  {
   "cell_type": "code",
   "execution_count": 73,
   "metadata": {},
   "outputs": [
    {
     "data": {
      "text/plain": [
       "CountVectorizer()"
      ]
     },
     "execution_count": 73,
     "metadata": {},
     "output_type": "execute_result"
    }
   ],
   "source": [
    "from sklearn.feature_extraction.text import CountVectorizer\n",
    "vectorizer = CountVectorizer()\n",
    "data = pd.concat([train['texts'],dev['texts'],test['texts']])\n",
    "vectorizer.fit(data)"
   ]
  },
  {
   "cell_type": "markdown",
   "metadata": {},
   "source": [
    "### Transformer les données\n",
    "Vous utiliserz le CountVectorizer que vous venez d'entraîner pour transformer vos données issues de train, dev et tests sets."
   ]
  },
  {
   "cell_type": "code",
   "execution_count": 74,
   "metadata": {},
   "outputs": [],
   "source": [
    "X_train = vectorizer.transform(train['texts'])\n",
    "y_train = train['targets']\n",
    "\n",
    "X_dev = vectorizer.transform(dev['texts'])\n",
    "y_dev = dev['targets']\n",
    "\n",
    "X_test = vectorizer.transform(test['texts'])\n",
    "y_test = test['targets']"
   ]
  },
  {
   "cell_type": "markdown",
   "metadata": {},
   "source": [
    "### Entraîner le modèle\n",
    "Vous entraînerez un modèle de LogisticRegression"
   ]
  },
  {
   "cell_type": "code",
   "execution_count": 75,
   "metadata": {},
   "outputs": [
    {
     "name": "stderr",
     "output_type": "stream",
     "text": [
      "/home/emmabft/.local/lib/python3.8/site-packages/sklearn/linear_model/_logistic.py:814: ConvergenceWarning: lbfgs failed to converge (status=1):\n",
      "STOP: TOTAL NO. of ITERATIONS REACHED LIMIT.\n",
      "\n",
      "Increase the number of iterations (max_iter) or scale the data as shown in:\n",
      "    https://scikit-learn.org/stable/modules/preprocessing.html\n",
      "Please also refer to the documentation for alternative solver options:\n",
      "    https://scikit-learn.org/stable/modules/linear_model.html#logistic-regression\n",
      "  n_iter_i = _check_optimize_result(\n"
     ]
    },
    {
     "data": {
      "text/plain": [
       "LogisticRegression()"
      ]
     },
     "execution_count": 75,
     "metadata": {},
     "output_type": "execute_result"
    }
   ],
   "source": [
    "from sklearn.linear_model import LogisticRegression\n",
    "lr = LogisticRegression()\n",
    "lr.fit(X_train, y_train)"
   ]
  },
  {
   "cell_type": "markdown",
   "metadata": {},
   "source": [
    "### Valider l'entraînement"
   ]
  },
  {
   "cell_type": "code",
   "execution_count": 76,
   "metadata": {},
   "outputs": [
    {
     "name": "stdout",
     "output_type": "stream",
     "text": [
      "0.5138\n"
     ]
    }
   ],
   "source": [
    "result1 = lr.score(X_test, y_test)\n",
    "print(result1)"
   ]
  },
  {
   "cell_type": "code",
   "execution_count": 77,
   "metadata": {},
   "outputs": [
    {
     "name": "stdout",
     "output_type": "stream",
     "text": [
      "0.5082\n"
     ]
    }
   ],
   "source": [
    "result2 = lr.score(X_dev, y_dev)\n",
    "print(result2)"
   ]
  },
  {
   "cell_type": "markdown",
   "metadata": {},
   "source": [
    "### Sauvegarder le modèle sur le disque"
   ]
  },
  {
   "cell_type": "code",
   "execution_count": 32,
   "metadata": {},
   "outputs": [],
   "source": [
    "import os\n",
    "\n",
    "if not os.path.exists('Data_exercices/multiclass'):\n",
    "    os.mkdir('Data_exercices/multiclass')\n",
    "train.to_csv('Data_exercices/multiclass/as_train.csv', index = None)\n",
    "dev.to_csv('Data_exercices/multiclass/as_dev.csv', index = None)\n",
    "test.to_csv('Data_exercices/multiclass/as_test.csv', index = None)"
   ]
  },
  {
   "cell_type": "code",
   "execution_count": 79,
   "metadata": {},
   "outputs": [
    {
     "data": {
      "text/plain": [
       "['Data_exercices/logreg_model1/model1.joblib']"
      ]
     },
     "execution_count": 79,
     "metadata": {},
     "output_type": "execute_result"
    }
   ],
   "source": [
    "from joblib import dump\n",
    "\n",
    "save_path = 'Data_exercices/logreg_model1'\n",
    "if not os.path.exists(save_path):\n",
    "    os.mkdir(save_path)\n",
    "    \n",
    "dump(vectorizer, f\"{save_path}/vectorizer1.joblib\")\n",
    "dump(lr, f'{save_path}/model1.joblib')"
   ]
  },
  {
   "cell_type": "markdown",
   "metadata": {},
   "source": [
    "### Reduction du nombre de classes à 2\n",
    "Vous regrouperez les données de telle sorte à n'avoir que les classes ``positives`` et ``negatives``. Vous ne conserverez pas la classe neutre."
   ]
  },
  {
   "cell_type": "code",
   "execution_count": 80,
   "metadata": {},
   "outputs": [],
   "source": [
    "def replace_values(df, col, old_data, new_data):\n",
    "    df[col].replace(old_data, new_data, inplace = True)\n",
    "    return df"
   ]
  },
  {
   "cell_type": "code",
   "execution_count": 81,
   "metadata": {},
   "outputs": [
    {
     "name": "stderr",
     "output_type": "stream",
     "text": [
      "/home/emmabft/.local/lib/python3.8/site-packages/pandas/core/generic.py:6619: SettingWithCopyWarning: \n",
      "A value is trying to be set on a copy of a slice from a DataFrame\n",
      "\n",
      "See the caveats in the documentation: https://pandas.pydata.org/pandas-docs/stable/user_guide/indexing.html#returning-a-view-versus-a-copy\n",
      "  return self._update_inplace(result)\n"
     ]
    }
   ],
   "source": [
    "old_data = [1, 2, 4, 5] \n",
    "new_data = [0, 0, 1, 1] \n",
    "\n",
    "bi_train = replace_values(train, 'targets', old_data, new_data)\n",
    "bi_dev = replace_values(dev, 'targets', old_data, new_data)\n",
    "bi_test = replace_values(test, 'targets', old_data, new_data)"
   ]
  },
  {
   "cell_type": "code",
   "execution_count": 82,
   "metadata": {},
   "outputs": [],
   "source": [
    "bi_train = bi_train[bi_train['targets'] != 3]\n",
    "bi_dev = bi_dev[bi_dev['targets'] != 3]\n",
    "bi_test = bi_test[bi_test['targets'] != 3]"
   ]
  },
  {
   "cell_type": "markdown",
   "metadata": {},
   "source": [
    "### Entraîner un modèle de classification binaire\n",
    "Reproduisez exactement les mêmes étapes qu'au début, cette fois en utilisant les données binaires que vous venez d'obtenir."
   ]
  },
  {
   "cell_type": "code",
   "execution_count": 83,
   "metadata": {},
   "outputs": [
    {
     "data": {
      "text/plain": [
       "CountVectorizer()"
      ]
     },
     "execution_count": 83,
     "metadata": {},
     "output_type": "execute_result"
    }
   ],
   "source": [
    "from sklearn.feature_extraction.text import CountVectorizer\n",
    "vectorizer = CountVectorizer()\n",
    "data = pd.concat([bi_train['texts'],bi_dev['texts'],bi_test['texts']])\n",
    "vectorizer.fit(data)"
   ]
  },
  {
   "cell_type": "code",
   "execution_count": 84,
   "metadata": {},
   "outputs": [],
   "source": [
    "X_train = vectorizer.transform(bi_train['texts'])\n",
    "y_train = bi_train['targets']\n",
    "\n",
    "X_dev = vectorizer.transform(bi_dev['texts'])\n",
    "y_dev = bi_dev['targets']\n",
    "\n",
    "X_test = vectorizer.transform(bi_test['texts'])\n",
    "y_test = bi_test['targets']"
   ]
  },
  {
   "cell_type": "code",
   "execution_count": 85,
   "metadata": {},
   "outputs": [
    {
     "name": "stderr",
     "output_type": "stream",
     "text": [
      "/home/emmabft/.local/lib/python3.8/site-packages/sklearn/linear_model/_logistic.py:814: ConvergenceWarning: lbfgs failed to converge (status=1):\n",
      "STOP: TOTAL NO. of ITERATIONS REACHED LIMIT.\n",
      "\n",
      "Increase the number of iterations (max_iter) or scale the data as shown in:\n",
      "    https://scikit-learn.org/stable/modules/preprocessing.html\n",
      "Please also refer to the documentation for alternative solver options:\n",
      "    https://scikit-learn.org/stable/modules/linear_model.html#logistic-regression\n",
      "  n_iter_i = _check_optimize_result(\n"
     ]
    },
    {
     "data": {
      "text/plain": [
       "LogisticRegression()"
      ]
     },
     "execution_count": 85,
     "metadata": {},
     "output_type": "execute_result"
    }
   ],
   "source": [
    "from sklearn.linear_model import LogisticRegression\n",
    "lr = LogisticRegression()\n",
    "lr.fit(X_train, y_train)"
   ]
  },
  {
   "cell_type": "code",
   "execution_count": 86,
   "metadata": {},
   "outputs": [
    {
     "name": "stdout",
     "output_type": "stream",
     "text": [
      "0.869\n"
     ]
    }
   ],
   "source": [
    "result_bin1 = lr.score(X_test, y_test)\n",
    "print(result_bin1)"
   ]
  },
  {
   "cell_type": "code",
   "execution_count": 87,
   "metadata": {},
   "outputs": [
    {
     "name": "stdout",
     "output_type": "stream",
     "text": [
      "0.8725\n"
     ]
    }
   ],
   "source": [
    "result_bin2 = lr.score(X_dev, y_dev)\n",
    "print(result_bin2)"
   ]
  },
  {
   "cell_type": "markdown",
   "metadata": {},
   "source": [
    "### Résultats\n",
    "Comparez les résultats obtenus avec ce modèle avec ceux obtenus par le modèle précédent. Que remarquez-vous ?"
   ]
  },
  {
   "cell_type": "code",
   "execution_count": 88,
   "metadata": {},
   "outputs": [
    {
     "data": {
      "text/plain": [
       "<matplotlib.axes._subplots.AxesSubplot at 0x7f860e60dee0>"
      ]
     },
     "execution_count": 88,
     "metadata": {},
     "output_type": "execute_result"
    },
    {
     "data": {
      "image/png": "[encoded data removed]",
      "text/plain": [
       "<Figure size 432x288 with 1 Axes>"
      ]
     },
     "metadata": {
      "needs_background": "light"
     },
     "output_type": "display_data"
    }
   ],
   "source": [
    "scores = pd.Series([result2, result_bin2], index = ['1', '2'])\n",
    "scores.plot.bar()\n",
    "#Le second modèle obtient un score nettement supérieur"
   ]
  },
  {
   "cell_type": "markdown",
   "metadata": {},
   "source": [
    "### Sauvegarder le modèle sur le disque\n"
   ]
  },
  {
   "cell_type": "code",
   "execution_count": 90,
   "metadata": {},
   "outputs": [
    {
     "data": {
      "text/plain": [
       "['Data_exercices/logreg_model2/model2.joblib']"
      ]
     },
     "execution_count": 90,
     "metadata": {},
     "output_type": "execute_result"
    }
   ],
   "source": [
    "from joblib import dump\n",
    "\n",
    "save_path = 'Data_exercices/logreg_model2'\n",
    "if not os.path.exists(save_path):\n",
    "    os.mkdir(save_path)\n",
    "    \n",
    "dump(vectorizer, f\"{save_path}/vectorizer2.joblib\")\n",
    "dump(lr, f'{save_path}/model2.joblib')"
   ]
  }
 ],
 "metadata": {
  "kernelspec": {
   "display_name": "Python 3 (ipykernel)",
   "language": "python",
   "name": "python3"
  },
  "language_info": {
   "codemirror_mode": {
    "name": "ipython",
    "version": 3
   },
   "file_extension": ".py",
   "mimetype": "text/x-python",
   "name": "python",
   "nbconvert_exporter": "python",
   "pygments_lexer": "ipython3",
   "version": "3.8.10"
  }
 },
 "nbformat": 4,
 "nbformat_minor": 4
}
