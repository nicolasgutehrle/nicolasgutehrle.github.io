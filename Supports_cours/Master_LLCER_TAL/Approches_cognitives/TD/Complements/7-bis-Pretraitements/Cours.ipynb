{
 "cells": [
  {
   "cell_type": "markdown",
   "metadata": {},
   "source": [
    "# Prétraiter son corpus"
   ]
  },
  {
   "cell_type": "markdown",
   "metadata": {},
   "source": [
    "## Classes déséquilibrées"
   ]
  },
  {
   "cell_type": "code",
   "execution_count": 1,
   "metadata": {},
   "outputs": [
    {
     "data": {
      "text/html": [
       "<div>\n",
       "<style scoped>\n",
       "    .dataframe tbody tr th:only-of-type {\n",
       "        vertical-align: middle;\n",
       "    }\n",
       "\n",
       "    .dataframe tbody tr th {\n",
       "        vertical-align: top;\n",
       "    }\n",
       "\n",
       "    .dataframe thead th {\n",
       "        text-align: right;\n",
       "    }\n",
       "</style>\n",
       "<table border=\"1\" class=\"dataframe\">\n",
       "  <thead>\n",
       "    <tr style=\"text-align: right;\">\n",
       "      <th></th>\n",
       "      <th>RI</th>\n",
       "      <th>Na</th>\n",
       "      <th>Mg</th>\n",
       "      <th>Al</th>\n",
       "      <th>Si</th>\n",
       "      <th>K</th>\n",
       "      <th>Ca</th>\n",
       "      <th>Ba</th>\n",
       "      <th>Fe</th>\n",
       "      <th>Class</th>\n",
       "    </tr>\n",
       "  </thead>\n",
       "  <tbody>\n",
       "    <tr>\n",
       "      <th>0</th>\n",
       "      <td>1.52101</td>\n",
       "      <td>13.64</td>\n",
       "      <td>4.49</td>\n",
       "      <td>1.10</td>\n",
       "      <td>71.78</td>\n",
       "      <td>0.06</td>\n",
       "      <td>8.75</td>\n",
       "      <td>0.0</td>\n",
       "      <td>0.0</td>\n",
       "      <td>1</td>\n",
       "    </tr>\n",
       "    <tr>\n",
       "      <th>1</th>\n",
       "      <td>1.51761</td>\n",
       "      <td>13.89</td>\n",
       "      <td>3.60</td>\n",
       "      <td>1.36</td>\n",
       "      <td>72.73</td>\n",
       "      <td>0.48</td>\n",
       "      <td>7.83</td>\n",
       "      <td>0.0</td>\n",
       "      <td>0.0</td>\n",
       "      <td>1</td>\n",
       "    </tr>\n",
       "    <tr>\n",
       "      <th>2</th>\n",
       "      <td>1.51618</td>\n",
       "      <td>13.53</td>\n",
       "      <td>3.55</td>\n",
       "      <td>1.54</td>\n",
       "      <td>72.99</td>\n",
       "      <td>0.39</td>\n",
       "      <td>7.78</td>\n",
       "      <td>0.0</td>\n",
       "      <td>0.0</td>\n",
       "      <td>1</td>\n",
       "    </tr>\n",
       "    <tr>\n",
       "      <th>3</th>\n",
       "      <td>1.51766</td>\n",
       "      <td>13.21</td>\n",
       "      <td>3.69</td>\n",
       "      <td>1.29</td>\n",
       "      <td>72.61</td>\n",
       "      <td>0.57</td>\n",
       "      <td>8.22</td>\n",
       "      <td>0.0</td>\n",
       "      <td>0.0</td>\n",
       "      <td>1</td>\n",
       "    </tr>\n",
       "    <tr>\n",
       "      <th>4</th>\n",
       "      <td>1.51742</td>\n",
       "      <td>13.27</td>\n",
       "      <td>3.62</td>\n",
       "      <td>1.24</td>\n",
       "      <td>73.08</td>\n",
       "      <td>0.55</td>\n",
       "      <td>8.07</td>\n",
       "      <td>0.0</td>\n",
       "      <td>0.0</td>\n",
       "      <td>1</td>\n",
       "    </tr>\n",
       "  </tbody>\n",
       "</table>\n",
       "</div>"
      ],
      "text/plain": [
       "        RI     Na    Mg    Al     Si     K    Ca   Ba   Fe  Class\n",
       "0  1.52101  13.64  4.49  1.10  71.78  0.06  8.75  0.0  0.0      1\n",
       "1  1.51761  13.89  3.60  1.36  72.73  0.48  7.83  0.0  0.0      1\n",
       "2  1.51618  13.53  3.55  1.54  72.99  0.39  7.78  0.0  0.0      1\n",
       "3  1.51766  13.21  3.69  1.29  72.61  0.57  8.22  0.0  0.0      1\n",
       "4  1.51742  13.27  3.62  1.24  73.08  0.55  8.07  0.0  0.0      1"
      ]
     },
     "execution_count": 1,
     "metadata": {},
     "output_type": "execute_result"
    }
   ],
   "source": [
    "import pandas as pd\n",
    "\n",
    "data = pd.read_csv('data/glass.csv')\n",
    "data.head()"
   ]
  },
  {
   "cell_type": "markdown",
   "metadata": {},
   "source": [
    "On voit clairement ci-dessous que les 6 classes ne sont pas équilibrées: La majorité des données sont contenues dans les classes 1 et 2, suivi de 7, 3, 5, 6"
   ]
  },
  {
   "cell_type": "code",
   "execution_count": 2,
   "metadata": {},
   "outputs": [
    {
     "data": {
      "text/plain": [
       "<AxesSubplot:>"
      ]
     },
     "execution_count": 2,
     "metadata": {},
     "output_type": "execute_result"
    },
    {
     "data": {
      "image/png": "[encoded data removed]",
      "text/plain": [
       "<Figure size 432x288 with 1 Axes>"
      ]
     },
     "metadata": {
      "needs_background": "light"
     },
     "output_type": "display_data"
    }
   ],
   "source": [
    "data['Class'].value_counts().plot.bar()"
   ]
  },
  {
   "cell_type": "code",
   "execution_count": 3,
   "metadata": {},
   "outputs": [
    {
     "name": "stderr",
     "output_type": "stream",
     "text": [
      "/Users/nicolasgutehrle/opt/anaconda3/envs/cours/lib/python3.9/site-packages/sklearn/utils/validation.py:985: DataConversionWarning: A column-vector y was passed when a 1d array was expected. Please change the shape of y to (n_samples, ), for example using ravel().\n",
      "  y = column_or_1d(y, warn=True)\n",
      "/Users/nicolasgutehrle/opt/anaconda3/envs/cours/lib/python3.9/site-packages/sklearn/linear_model/_logistic.py:814: ConvergenceWarning: lbfgs failed to converge (status=1):\n",
      "STOP: TOTAL NO. of ITERATIONS REACHED LIMIT.\n",
      "\n",
      "Increase the number of iterations (max_iter) or scale the data as shown in:\n",
      "    https://scikit-learn.org/stable/modules/preprocessing.html\n",
      "Please also refer to the documentation for alternative solver options:\n",
      "    https://scikit-learn.org/stable/modules/linear_model.html#logistic-regression\n",
      "  n_iter_i = _check_optimize_result(\n"
     ]
    },
    {
     "data": {
      "text/plain": [
       "0.5740740740740741"
      ]
     },
     "execution_count": 3,
     "metadata": {},
     "output_type": "execute_result"
    }
   ],
   "source": [
    "from sklearn.linear_model import LogisticRegression\n",
    "from sklearn.model_selection import train_test_split\n",
    "\n",
    "lr = LogisticRegression()\n",
    "X = data.iloc[:, :-1]\n",
    "y = data.iloc[:, -1:]\n",
    "X_train, X_test, y_train, y_test = train_test_split(X, y, train_size = .75)\n",
    "\n",
    "lr = lr.fit(X_train, y_train)\n",
    "lr.score(X_test, y_test)"
   ]
  },
  {
   "cell_type": "markdown",
   "metadata": {},
   "source": [
    "On voit ci-dessus que l'on a à peine 62% de précision: l'entraînement ne s'est donc pas bien passé. Bien que ça n'explique pas tout, le fait d'avoir des classes déséquilibrées jouent en grande partie sur le résultat. Il faut donc en priorité résoudre ce problème.\n",
    "\n",
    "Idéalement, pour réequilibrer les classes, ils faut rajouter des données appartenant aux classes lacunaires. Cependant, les données que vous aurez seront en général les seules que vous aurez pu obtenir. Il sera donc difficile de rajouter de nouvelles données. Il faut donc agir au niveau des données que l'on a. Pour cela, nous avons deux options: l'``Under-sampling`` et l'``Over-sampling``\n",
    "\n",
    "En travaillant avec ``scikit-learn``, vous pouvez utiliser la librairie ``imblearn``, qui implémente ces différentes méthodes:"
   ]
  },
  {
   "cell_type": "code",
   "execution_count": 4,
   "metadata": {},
   "outputs": [
    {
     "name": "stdout",
     "output_type": "stream",
     "text": [
      "Collecting imblearn\n",
      "  Downloading imblearn-0.0-py2.py3-none-any.whl (1.9 kB)\n",
      "Collecting imbalanced-learn\n",
      "  Downloading imbalanced_learn-0.8.1-py3-none-any.whl (189 kB)\n",
      "\u001b[K     |████████████████████████████████| 189 kB 514 kB/s eta 0:00:01\n",
      "\u001b[?25hRequirement already satisfied: scikit-learn>=0.24 in /Users/nicolasgutehrle/opt/anaconda3/envs/cours/lib/python3.9/site-packages (from imbalanced-learn->imblearn) (1.0)\n",
      "Requirement already satisfied: scipy>=0.19.1 in /Users/nicolasgutehrle/opt/anaconda3/envs/cours/lib/python3.9/site-packages (from imbalanced-learn->imblearn) (1.7.1)\n",
      "Requirement already satisfied: joblib>=0.11 in /Users/nicolasgutehrle/opt/anaconda3/envs/cours/lib/python3.9/site-packages (from imbalanced-learn->imblearn) (1.0.1)\n",
      "Requirement already satisfied: numpy>=1.13.3 in /Users/nicolasgutehrle/opt/anaconda3/envs/cours/lib/python3.9/site-packages (from imbalanced-learn->imblearn) (1.21.4)\n",
      "Requirement already satisfied: threadpoolctl>=2.0.0 in /Users/nicolasgutehrle/opt/anaconda3/envs/cours/lib/python3.9/site-packages (from scikit-learn>=0.24->imbalanced-learn->imblearn) (2.2.0)\n",
      "Installing collected packages: imbalanced-learn, imblearn\n",
      "Successfully installed imbalanced-learn-0.8.1 imblearn-0.0\n"
     ]
    }
   ],
   "source": [
    "!pip3 install imblearn"
   ]
  },
  {
   "cell_type": "code",
   "execution_count": 4,
   "metadata": {},
   "outputs": [
    {
     "data": {
      "text/plain": [
       "((214, 9), (214, 1))"
      ]
     },
     "execution_count": 4,
     "metadata": {},
     "output_type": "execute_result"
    }
   ],
   "source": [
    "X.shape, y.shape"
   ]
  },
  {
   "cell_type": "code",
   "execution_count": 4,
   "metadata": {},
   "outputs": [],
   "source": [
    "import imblearn"
   ]
  },
  {
   "cell_type": "markdown",
   "metadata": {},
   "source": [
    "## Under-sampling\n",
    "\n",
    "La méthode la plus simple est de réduire le nombre de données à la plus petite classe. On s'assure ainsi d'avoir des classes équilibrées sans en créer de nouvelles. On parle alors d'``Under-sampling``. Il existe plusieurs méthodes d'Under-sampling, la plus simple étant la méthode aléatoire:"
   ]
  },
  {
   "cell_type": "code",
   "execution_count": 5,
   "metadata": {},
   "outputs": [
    {
     "name": "stdout",
     "output_type": "stream",
     "text": [
      "Nouvelle forme des données:  (54, 9) (54, 1)\n"
     ]
    }
   ],
   "source": [
    "from imblearn.under_sampling import RandomUnderSampler\n",
    "randomsampler = RandomUnderSampler(random_state=42) # random_state permet de s'assurer que les données seront toujours mélangées de la même manière\n",
    "under_X, under_y = randomsampler.fit_resample(X, y)\n",
    "print('Nouvelle forme des données: ', under_X.shape, under_y.shape)"
   ]
  },
  {
   "cell_type": "code",
   "execution_count": 6,
   "metadata": {},
   "outputs": [
    {
     "data": {
      "text/plain": [
       "<AxesSubplot:>"
      ]
     },
     "execution_count": 6,
     "metadata": {},
     "output_type": "execute_result"
    },
    {
     "data": {
      "image/png": "[encoded data removed]",
      "text/plain": [
       "<Figure size 432x288 with 1 Axes>"
      ]
     },
     "metadata": {
      "needs_background": "light"
     },
     "output_type": "display_data"
    }
   ],
   "source": [
    "under_y['Class'].value_counts().plot.bar()"
   ]
  },
  {
   "cell_type": "code",
   "execution_count": 7,
   "metadata": {},
   "outputs": [
    {
     "name": "stderr",
     "output_type": "stream",
     "text": [
      "/Users/nicolasgutehrle/opt/anaconda3/envs/cours/lib/python3.9/site-packages/sklearn/utils/validation.py:985: DataConversionWarning: A column-vector y was passed when a 1d array was expected. Please change the shape of y to (n_samples, ), for example using ravel().\n",
      "  y = column_or_1d(y, warn=True)\n",
      "/Users/nicolasgutehrle/opt/anaconda3/envs/cours/lib/python3.9/site-packages/sklearn/linear_model/_logistic.py:814: ConvergenceWarning: lbfgs failed to converge (status=1):\n",
      "STOP: TOTAL NO. of ITERATIONS REACHED LIMIT.\n",
      "\n",
      "Increase the number of iterations (max_iter) or scale the data as shown in:\n",
      "    https://scikit-learn.org/stable/modules/preprocessing.html\n",
      "Please also refer to the documentation for alternative solver options:\n",
      "    https://scikit-learn.org/stable/modules/linear_model.html#logistic-regression\n",
      "  n_iter_i = _check_optimize_result(\n"
     ]
    },
    {
     "data": {
      "text/plain": [
       "0.5185185185185185"
      ]
     },
     "execution_count": 7,
     "metadata": {},
     "output_type": "execute_result"
    }
   ],
   "source": [
    "lr = lr.fit(under_X, under_y)\n",
    "lr.score(X_test, y_test)"
   ]
  },
  {
   "cell_type": "markdown",
   "metadata": {},
   "source": [
    "Une autre méthode proposée par ``imblearn`` est d'utiliser un algorithme KNN pour réduire le nombre de samples. Il existe plusieurs variations de cette méthode, mais de manière générale, l'algorithme supprime tout point qui ne fait pas partie de la même classe que celle de la majorité des voisins:"
   ]
  },
  {
   "cell_type": "code",
   "execution_count": 8,
   "metadata": {},
   "outputs": [
    {
     "name": "stdout",
     "output_type": "stream",
     "text": [
      "Nouvelle forme des données:  (111, 9) (111, 1)\n"
     ]
    },
    {
     "data": {
      "text/plain": [
       "<AxesSubplot:>"
      ]
     },
     "execution_count": 8,
     "metadata": {},
     "output_type": "execute_result"
    },
    {
     "data": {
      "image/png": "[encoded data removed]",
      "text/plain": [
       "<Figure size 432x288 with 1 Axes>"
      ]
     },
     "metadata": {
      "needs_background": "light"
     },
     "output_type": "display_data"
    }
   ],
   "source": [
    "from imblearn.under_sampling import EditedNearestNeighbours\n",
    "nn_undersampler = EditedNearestNeighbours()\n",
    "under_X, under_y = nn_undersampler.fit_resample(X, y)\n",
    "print('Nouvelle forme des données: ', under_X.shape, under_y.shape)\n",
    "under_y['Class'].value_counts().plot.bar()"
   ]
  },
  {
   "cell_type": "code",
   "execution_count": 9,
   "metadata": {},
   "outputs": [
    {
     "name": "stderr",
     "output_type": "stream",
     "text": [
      "/Users/nicolasgutehrle/opt/anaconda3/envs/cours/lib/python3.9/site-packages/sklearn/utils/validation.py:985: DataConversionWarning: A column-vector y was passed when a 1d array was expected. Please change the shape of y to (n_samples, ), for example using ravel().\n",
      "  y = column_or_1d(y, warn=True)\n",
      "/Users/nicolasgutehrle/opt/anaconda3/envs/cours/lib/python3.9/site-packages/sklearn/linear_model/_logistic.py:814: ConvergenceWarning: lbfgs failed to converge (status=1):\n",
      "STOP: TOTAL NO. of ITERATIONS REACHED LIMIT.\n",
      "\n",
      "Increase the number of iterations (max_iter) or scale the data as shown in:\n",
      "    https://scikit-learn.org/stable/modules/preprocessing.html\n",
      "Please also refer to the documentation for alternative solver options:\n",
      "    https://scikit-learn.org/stable/modules/linear_model.html#logistic-regression\n",
      "  n_iter_i = _check_optimize_result(\n"
     ]
    },
    {
     "data": {
      "text/plain": [
       "0.5555555555555556"
      ]
     },
     "execution_count": 9,
     "metadata": {},
     "output_type": "execute_result"
    }
   ],
   "source": [
    "lr = lr.fit(under_X, under_y)\n",
    "lr.score(X_test, y_test)"
   ]
  },
  {
   "cell_type": "markdown",
   "metadata": {},
   "source": [
    "## Over-sampling\n",
    "\n",
    "On peut également créer des données factices. Celles-ci ressembleront aux données déjà existantes sans être exactement les mêmes. Il existe pour cela différentes méthodes et algorithmes. On parle d'``Over-sampling``.\n",
    "\n",
    "Comme pour l'``Under-sampling``, la méthode la plus simple est de sélectionner aléatoirement des points de données et de les copier. Attention: simplement copier-coller les données de telle sorte à compléter les classes lacunaires n'est pas une solution. En effet, la qualité de l'algorithme dépend de la quantité et de la variété des données. Copier-coller les données ne ferait que rajouter des données que l'algorithme aura déjà vues:"
   ]
  },
  {
   "cell_type": "code",
   "execution_count": 10,
   "metadata": {},
   "outputs": [
    {
     "name": "stdout",
     "output_type": "stream",
     "text": [
      "Nouvelle forme des données:  (456, 9) (456, 1)\n"
     ]
    },
    {
     "data": {
      "text/plain": [
       "<AxesSubplot:>"
      ]
     },
     "execution_count": 10,
     "metadata": {},
     "output_type": "execute_result"
    },
    {
     "data": {
      "image/png": "[encoded data removed]",
      "text/plain": [
       "<Figure size 432x288 with 1 Axes>"
      ]
     },
     "metadata": {
      "needs_background": "light"
     },
     "output_type": "display_data"
    }
   ],
   "source": [
    "from imblearn.over_sampling import RandomOverSampler\n",
    "randomoversampler = RandomOverSampler(random_state = 42)\n",
    "over_X, over_y = randomoversampler.fit_resample(X,y)\n",
    "print('Nouvelle forme des données: ', over_X.shape, over_y.shape)\n",
    "over_y['Class'].value_counts().plot.bar()"
   ]
  },
  {
   "cell_type": "code",
   "execution_count": 11,
   "metadata": {},
   "outputs": [
    {
     "name": "stderr",
     "output_type": "stream",
     "text": [
      "/Users/nicolasgutehrle/opt/anaconda3/envs/cours/lib/python3.9/site-packages/sklearn/utils/validation.py:985: DataConversionWarning: A column-vector y was passed when a 1d array was expected. Please change the shape of y to (n_samples, ), for example using ravel().\n",
      "  y = column_or_1d(y, warn=True)\n",
      "/Users/nicolasgutehrle/opt/anaconda3/envs/cours/lib/python3.9/site-packages/sklearn/linear_model/_logistic.py:814: ConvergenceWarning: lbfgs failed to converge (status=1):\n",
      "STOP: TOTAL NO. of ITERATIONS REACHED LIMIT.\n",
      "\n",
      "Increase the number of iterations (max_iter) or scale the data as shown in:\n",
      "    https://scikit-learn.org/stable/modules/preprocessing.html\n",
      "Please also refer to the documentation for alternative solver options:\n",
      "    https://scikit-learn.org/stable/modules/linear_model.html#logistic-regression\n",
      "  n_iter_i = _check_optimize_result(\n"
     ]
    },
    {
     "data": {
      "text/plain": [
       "0.5740740740740741"
      ]
     },
     "execution_count": 11,
     "metadata": {},
     "output_type": "execute_result"
    }
   ],
   "source": [
    "lr = lr.fit(over_X, over_y)\n",
    "lr.score(X_test, y_test)"
   ]
  },
  {
   "cell_type": "markdown",
   "metadata": {},
   "source": [
    "### SMOTE\n",
    "\n",
    "Au lieu de copier aléatoirement des points de données comme dans la méthode précédente, ``SMOTE`` génère de nouveaux points de données à partir d'un algorithme de type KNN:"
   ]
  },
  {
   "cell_type": "code",
   "execution_count": 12,
   "metadata": {},
   "outputs": [
    {
     "name": "stdout",
     "output_type": "stream",
     "text": [
      "Nouvelle forme des données:  (456, 9) (456, 1)\n"
     ]
    },
    {
     "data": {
      "text/plain": [
       "<AxesSubplot:>"
      ]
     },
     "execution_count": 12,
     "metadata": {},
     "output_type": "execute_result"
    },
    {
     "data": {
      "image/png": "[encoded data removed]",
      "text/plain": [
       "<Figure size 432x288 with 1 Axes>"
      ]
     },
     "metadata": {
      "needs_background": "light"
     },
     "output_type": "display_data"
    }
   ],
   "source": [
    "from imblearn.over_sampling import SMOTE\n",
    "smote = SMOTE()\n",
    "over_X, over_y = smote.fit_resample(X,y)\n",
    "print('Nouvelle forme des données: ', over_X.shape, over_y.shape)\n",
    "over_y['Class'].value_counts().plot.bar()"
   ]
  },
  {
   "cell_type": "code",
   "execution_count": 13,
   "metadata": {},
   "outputs": [
    {
     "name": "stderr",
     "output_type": "stream",
     "text": [
      "/Users/nicolasgutehrle/opt/anaconda3/envs/cours/lib/python3.9/site-packages/sklearn/utils/validation.py:985: DataConversionWarning: A column-vector y was passed when a 1d array was expected. Please change the shape of y to (n_samples, ), for example using ravel().\n",
      "  y = column_or_1d(y, warn=True)\n",
      "/Users/nicolasgutehrle/opt/anaconda3/envs/cours/lib/python3.9/site-packages/sklearn/linear_model/_logistic.py:814: ConvergenceWarning: lbfgs failed to converge (status=1):\n",
      "STOP: TOTAL NO. of ITERATIONS REACHED LIMIT.\n",
      "\n",
      "Increase the number of iterations (max_iter) or scale the data as shown in:\n",
      "    https://scikit-learn.org/stable/modules/preprocessing.html\n",
      "Please also refer to the documentation for alternative solver options:\n",
      "    https://scikit-learn.org/stable/modules/linear_model.html#logistic-regression\n",
      "  n_iter_i = _check_optimize_result(\n"
     ]
    },
    {
     "data": {
      "text/plain": [
       "0.5925925925925926"
      ]
     },
     "execution_count": 13,
     "metadata": {},
     "output_type": "execute_result"
    }
   ],
   "source": [
    "lr = lr.fit(over_X, over_y)\n",
    "lr.score(X_test, y_test)"
   ]
  },
  {
   "cell_type": "markdown",
   "metadata": {},
   "source": [
    "## spaCy\n",
    "\n",
    "``spaCy`` est une librairie dédiée au NLP. A la différence de NLTK, qui est plus ancien et plus orienté recherches, spaCy est plutôt orienté vers l'industrie. Bien qu'étant une librairie Python, l'essentiel du code de spaCy est écrit en C. Cela lui permet de traiter les données bien plus rapidement qu'avec du Python pur. \n",
    "\n",
    "spaCy permet de traiter une dizaine de langues dont l'anglais, le français, l'allemand, l'espagnol et l'italien. D'autres langues sont ajoutées au fur et à mesure. Contrairement à NLTK, ces traitements sont possibles grâce à au Deep Learning. Ces différents modèles sont appelés des modèles de langues.\n",
    "\n",
    "spaCy propose pour chaque langue qu'il traite l'ensemble des traitements de NLP, à savoir:\n",
    "* annotation des parties du discours (POS tagging)\n",
    "* analyse des dépendances\n",
    "* reconnaissance des entités nommées (Named Entity)\n",
    "* tokenization\n",
    "* lemmatization\n",
    "* calcul de similarité\n",
    "* word embbeddings\n",
    "* ...\n"
   ]
  },
  {
   "cell_type": "code",
   "execution_count": 15,
   "metadata": {},
   "outputs": [
    {
     "name": "stdout",
     "output_type": "stream",
     "text": [
      "Collecting spacy\n",
      "  Downloading spacy-3.2.0-cp39-cp39-macosx_10_9_x86_64.whl (6.3 MB)\n",
      "\u001b[K     |████████████████████████████████| 6.3 MB 1.9 MB/s eta 0:00:01\n",
      "\u001b[?25hCollecting spacy-loggers<2.0.0,>=1.0.0\n",
      "  Downloading spacy_loggers-1.0.1-py3-none-any.whl (7.0 kB)\n",
      "Requirement already satisfied: numpy>=1.15.0 in /Users/nicolasgutehrle/opt/anaconda3/envs/cours/lib/python3.9/site-packages (from spacy) (1.21.4)\n",
      "Requirement already satisfied: setuptools in /Users/nicolasgutehrle/opt/anaconda3/envs/cours/lib/python3.9/site-packages (from spacy) (52.0.0.post20210125)\n",
      "Collecting murmurhash<1.1.0,>=0.28.0\n",
      "  Downloading murmurhash-1.0.6-cp39-cp39-macosx_10_9_x86_64.whl (18 kB)\n",
      "Collecting tqdm<5.0.0,>=4.38.0\n",
      "  Using cached tqdm-4.62.3-py2.py3-none-any.whl (76 kB)\n",
      "Requirement already satisfied: packaging>=20.0 in /Users/nicolasgutehrle/opt/anaconda3/envs/cours/lib/python3.9/site-packages (from spacy) (21.0)\n",
      "Collecting spacy-legacy<3.1.0,>=3.0.8\n",
      "  Downloading spacy_legacy-3.0.8-py2.py3-none-any.whl (14 kB)\n",
      "Collecting cymem<2.1.0,>=2.0.2\n",
      "  Downloading cymem-2.0.6-cp39-cp39-macosx_10_9_x86_64.whl (32 kB)\n",
      "Collecting catalogue<2.1.0,>=2.0.6\n",
      "  Downloading catalogue-2.0.6-py3-none-any.whl (17 kB)\n",
      "Collecting pathy>=0.3.5\n",
      "  Downloading pathy-0.6.1-py3-none-any.whl (42 kB)\n",
      "\u001b[K     |████████████████████████████████| 42 kB 757 kB/s eta 0:00:01\n",
      "\u001b[?25hRequirement already satisfied: requests<3.0.0,>=2.13.0 in /Users/nicolasgutehrle/opt/anaconda3/envs/cours/lib/python3.9/site-packages (from spacy) (2.26.0)\n",
      "Requirement already satisfied: jinja2 in /Users/nicolasgutehrle/opt/anaconda3/envs/cours/lib/python3.9/site-packages (from spacy) (3.0.1)\n",
      "Collecting thinc<8.1.0,>=8.0.12\n",
      "  Downloading thinc-8.0.13-cp39-cp39-macosx_10_9_x86_64.whl (615 kB)\n",
      "\u001b[K     |████████████████████████████████| 615 kB 789 kB/s eta 0:00:01\n",
      "\u001b[?25hCollecting blis<0.8.0,>=0.4.0\n",
      "  Downloading blis-0.7.5-cp39-cp39-macosx_10_9_x86_64.whl (5.8 MB)\n",
      "\u001b[K     |████████████████████████████████| 5.8 MB 121 kB/s eta 0:00:01\n",
      "\u001b[?25hCollecting wasabi<1.1.0,>=0.8.1\n",
      "  Downloading wasabi-0.8.2-py3-none-any.whl (23 kB)\n",
      "Collecting typer<0.5.0,>=0.3.0\n",
      "  Downloading typer-0.4.0-py3-none-any.whl (27 kB)\n",
      "Collecting pydantic!=1.8,!=1.8.1,<1.9.0,>=1.7.4\n",
      "  Downloading pydantic-1.8.2-cp39-cp39-macosx_10_9_x86_64.whl (2.7 MB)\n",
      "\u001b[K     |████████████████████████████████| 2.7 MB 1.1 MB/s eta 0:00:01\n",
      "\u001b[?25hCollecting langcodes<4.0.0,>=3.2.0\n",
      "  Downloading langcodes-3.3.0-py3-none-any.whl (181 kB)\n",
      "\u001b[K     |████████████████████████████████| 181 kB 668 kB/s eta 0:00:01\n",
      "\u001b[?25hCollecting srsly<3.0.0,>=2.4.1\n",
      "  Downloading srsly-2.4.2-cp39-cp39-macosx_10_9_x86_64.whl (452 kB)\n",
      "\u001b[K     |████████████████████████████████| 452 kB 205 kB/s eta 0:00:01\n",
      "\u001b[?25hCollecting preshed<3.1.0,>=3.0.2\n",
      "  Downloading preshed-3.0.6-cp39-cp39-macosx_10_9_x86_64.whl (106 kB)\n",
      "\u001b[K     |████████████████████████████████| 106 kB 745 kB/s eta 0:00:01\n",
      "\u001b[?25hRequirement already satisfied: pyparsing>=2.0.2 in /Users/nicolasgutehrle/opt/anaconda3/envs/cours/lib/python3.9/site-packages (from packaging>=20.0->spacy) (2.4.7)\n",
      "Requirement already satisfied: smart-open<6.0.0,>=5.0.0 in /Users/nicolasgutehrle/opt/anaconda3/envs/cours/lib/python3.9/site-packages (from pathy>=0.3.5->spacy) (5.2.1)\n",
      "Collecting typing-extensions>=3.7.4.3\n",
      "  Downloading typing_extensions-4.0.1-py3-none-any.whl (22 kB)\n",
      "Requirement already satisfied: certifi>=2017.4.17 in /Users/nicolasgutehrle/opt/anaconda3/envs/cours/lib/python3.9/site-packages (from requests<3.0.0,>=2.13.0->spacy) (2021.5.30)\n",
      "Requirement already satisfied: charset-normalizer~=2.0.0 in /Users/nicolasgutehrle/opt/anaconda3/envs/cours/lib/python3.9/site-packages (from requests<3.0.0,>=2.13.0->spacy) (2.0.4)\n",
      "Requirement already satisfied: urllib3<1.27,>=1.21.1 in /Users/nicolasgutehrle/opt/anaconda3/envs/cours/lib/python3.9/site-packages (from requests<3.0.0,>=2.13.0->spacy) (1.26.6)\n",
      "Requirement already satisfied: idna<4,>=2.5 in /Users/nicolasgutehrle/opt/anaconda3/envs/cours/lib/python3.9/site-packages (from requests<3.0.0,>=2.13.0->spacy) (3.2)\n",
      "Collecting click<9.0.0,>=7.1.1\n",
      "  Using cached click-8.0.3-py3-none-any.whl (97 kB)\n",
      "Requirement already satisfied: MarkupSafe>=2.0 in /Users/nicolasgutehrle/opt/anaconda3/envs/cours/lib/python3.9/site-packages (from jinja2->spacy) (2.0.1)\n",
      "Installing collected packages: typing-extensions, murmurhash, cymem, click, catalogue, wasabi, typer, srsly, pydantic, preshed, blis, tqdm, thinc, spacy-loggers, spacy-legacy, pathy, langcodes, spacy\n",
      "Successfully installed blis-0.7.5 catalogue-2.0.6 click-8.0.3 cymem-2.0.6 langcodes-3.3.0 murmurhash-1.0.6 pathy-0.6.1 preshed-3.0.6 pydantic-1.8.2 spacy-3.2.0 spacy-legacy-3.0.8 spacy-loggers-1.0.1 srsly-2.4.2 thinc-8.0.13 tqdm-4.62.3 typer-0.4.0 typing-extensions-4.0.1 wasabi-0.8.2\n"
     ]
    }
   ],
   "source": [
    "!pip3 install spacy"
   ]
  },
  {
   "cell_type": "code",
   "execution_count": 16,
   "metadata": {},
   "outputs": [],
   "source": [
    "import spacy"
   ]
  },
  {
   "cell_type": "markdown",
   "metadata": {},
   "source": [
    "Chaque modèle de langue est proposé en trois versions: petite (sm), moyenne (md), et grande (lg). Plus un modèle sera grand et plus les analyses seront performantes. Cependant, plus le modèle est grand et plus celui-ci prend de la place sur le disque et en mémoire.\n",
    "\n",
    "Ces modèles doivent être installés via la ligne de commande avant de pouvoir être utilisés."
   ]
  },
  {
   "cell_type": "code",
   "execution_count": 17,
   "metadata": {},
   "outputs": [
    {
     "name": "stdout",
     "output_type": "stream",
     "text": [
      "Collecting en-core-web-sm==3.2.0\n",
      "  Downloading https://github.com/explosion/spacy-models/releases/download/en_core_web_sm-3.2.0/en_core_web_sm-3.2.0-py3-none-any.whl (13.9 MB)\n",
      "\u001b[K     |████████████████████████████████| 13.9 MB 451 kB/s eta 0:00:01\n",
      "\u001b[?25hRequirement already satisfied: spacy<3.3.0,>=3.2.0 in /Users/nicolasgutehrle/opt/anaconda3/envs/cours/lib/python3.9/site-packages (from en-core-web-sm==3.2.0) (3.2.0)\n",
      "Requirement already satisfied: numpy>=1.15.0 in /Users/nicolasgutehrle/opt/anaconda3/envs/cours/lib/python3.9/site-packages (from spacy<3.3.0,>=3.2.0->en-core-web-sm==3.2.0) (1.21.4)\n",
      "Requirement already satisfied: requests<3.0.0,>=2.13.0 in /Users/nicolasgutehrle/opt/anaconda3/envs/cours/lib/python3.9/site-packages (from spacy<3.3.0,>=3.2.0->en-core-web-sm==3.2.0) (2.26.0)\n",
      "Requirement already satisfied: srsly<3.0.0,>=2.4.1 in /Users/nicolasgutehrle/opt/anaconda3/envs/cours/lib/python3.9/site-packages (from spacy<3.3.0,>=3.2.0->en-core-web-sm==3.2.0) (2.4.2)\n",
      "Requirement already satisfied: spacy-loggers<2.0.0,>=1.0.0 in /Users/nicolasgutehrle/opt/anaconda3/envs/cours/lib/python3.9/site-packages (from spacy<3.3.0,>=3.2.0->en-core-web-sm==3.2.0) (1.0.1)\n",
      "Requirement already satisfied: blis<0.8.0,>=0.4.0 in /Users/nicolasgutehrle/opt/anaconda3/envs/cours/lib/python3.9/site-packages (from spacy<3.3.0,>=3.2.0->en-core-web-sm==3.2.0) (0.7.5)\n",
      "Requirement already satisfied: typer<0.5.0,>=0.3.0 in /Users/nicolasgutehrle/opt/anaconda3/envs/cours/lib/python3.9/site-packages (from spacy<3.3.0,>=3.2.0->en-core-web-sm==3.2.0) (0.4.0)\n",
      "Requirement already satisfied: pathy>=0.3.5 in /Users/nicolasgutehrle/opt/anaconda3/envs/cours/lib/python3.9/site-packages (from spacy<3.3.0,>=3.2.0->en-core-web-sm==3.2.0) (0.6.1)\n",
      "Requirement already satisfied: catalogue<2.1.0,>=2.0.6 in /Users/nicolasgutehrle/opt/anaconda3/envs/cours/lib/python3.9/site-packages (from spacy<3.3.0,>=3.2.0->en-core-web-sm==3.2.0) (2.0.6)\n",
      "Requirement already satisfied: cymem<2.1.0,>=2.0.2 in /Users/nicolasgutehrle/opt/anaconda3/envs/cours/lib/python3.9/site-packages (from spacy<3.3.0,>=3.2.0->en-core-web-sm==3.2.0) (2.0.6)\n",
      "Requirement already satisfied: spacy-legacy<3.1.0,>=3.0.8 in /Users/nicolasgutehrle/opt/anaconda3/envs/cours/lib/python3.9/site-packages (from spacy<3.3.0,>=3.2.0->en-core-web-sm==3.2.0) (3.0.8)\n",
      "Requirement already satisfied: thinc<8.1.0,>=8.0.12 in /Users/nicolasgutehrle/opt/anaconda3/envs/cours/lib/python3.9/site-packages (from spacy<3.3.0,>=3.2.0->en-core-web-sm==3.2.0) (8.0.13)\n",
      "Requirement already satisfied: tqdm<5.0.0,>=4.38.0 in /Users/nicolasgutehrle/opt/anaconda3/envs/cours/lib/python3.9/site-packages (from spacy<3.3.0,>=3.2.0->en-core-web-sm==3.2.0) (4.62.3)\n",
      "Requirement already satisfied: langcodes<4.0.0,>=3.2.0 in /Users/nicolasgutehrle/opt/anaconda3/envs/cours/lib/python3.9/site-packages (from spacy<3.3.0,>=3.2.0->en-core-web-sm==3.2.0) (3.3.0)\n",
      "Requirement already satisfied: preshed<3.1.0,>=3.0.2 in /Users/nicolasgutehrle/opt/anaconda3/envs/cours/lib/python3.9/site-packages (from spacy<3.3.0,>=3.2.0->en-core-web-sm==3.2.0) (3.0.6)\n",
      "Requirement already satisfied: packaging>=20.0 in /Users/nicolasgutehrle/opt/anaconda3/envs/cours/lib/python3.9/site-packages (from spacy<3.3.0,>=3.2.0->en-core-web-sm==3.2.0) (21.0)\n",
      "Requirement already satisfied: murmurhash<1.1.0,>=0.28.0 in /Users/nicolasgutehrle/opt/anaconda3/envs/cours/lib/python3.9/site-packages (from spacy<3.3.0,>=3.2.0->en-core-web-sm==3.2.0) (1.0.6)\n",
      "Requirement already satisfied: wasabi<1.1.0,>=0.8.1 in /Users/nicolasgutehrle/opt/anaconda3/envs/cours/lib/python3.9/site-packages (from spacy<3.3.0,>=3.2.0->en-core-web-sm==3.2.0) (0.8.2)\n",
      "Requirement already satisfied: pydantic!=1.8,!=1.8.1,<1.9.0,>=1.7.4 in /Users/nicolasgutehrle/opt/anaconda3/envs/cours/lib/python3.9/site-packages (from spacy<3.3.0,>=3.2.0->en-core-web-sm==3.2.0) (1.8.2)\n",
      "Requirement already satisfied: jinja2 in /Users/nicolasgutehrle/opt/anaconda3/envs/cours/lib/python3.9/site-packages (from spacy<3.3.0,>=3.2.0->en-core-web-sm==3.2.0) (3.0.1)\n",
      "Requirement already satisfied: setuptools in /Users/nicolasgutehrle/opt/anaconda3/envs/cours/lib/python3.9/site-packages (from spacy<3.3.0,>=3.2.0->en-core-web-sm==3.2.0) (52.0.0.post20210125)\n",
      "Requirement already satisfied: pyparsing>=2.0.2 in /Users/nicolasgutehrle/opt/anaconda3/envs/cours/lib/python3.9/site-packages (from packaging>=20.0->spacy<3.3.0,>=3.2.0->en-core-web-sm==3.2.0) (2.4.7)\n",
      "Requirement already satisfied: smart-open<6.0.0,>=5.0.0 in /Users/nicolasgutehrle/opt/anaconda3/envs/cours/lib/python3.9/site-packages (from pathy>=0.3.5->spacy<3.3.0,>=3.2.0->en-core-web-sm==3.2.0) (5.2.1)\n",
      "Requirement already satisfied: typing-extensions>=3.7.4.3 in /Users/nicolasgutehrle/opt/anaconda3/envs/cours/lib/python3.9/site-packages (from pydantic!=1.8,!=1.8.1,<1.9.0,>=1.7.4->spacy<3.3.0,>=3.2.0->en-core-web-sm==3.2.0) (4.0.1)\n",
      "Requirement already satisfied: idna<4,>=2.5 in /Users/nicolasgutehrle/opt/anaconda3/envs/cours/lib/python3.9/site-packages (from requests<3.0.0,>=2.13.0->spacy<3.3.0,>=3.2.0->en-core-web-sm==3.2.0) (3.2)\n",
      "Requirement already satisfied: urllib3<1.27,>=1.21.1 in /Users/nicolasgutehrle/opt/anaconda3/envs/cours/lib/python3.9/site-packages (from requests<3.0.0,>=2.13.0->spacy<3.3.0,>=3.2.0->en-core-web-sm==3.2.0) (1.26.6)\n",
      "Requirement already satisfied: charset-normalizer~=2.0.0 in /Users/nicolasgutehrle/opt/anaconda3/envs/cours/lib/python3.9/site-packages (from requests<3.0.0,>=2.13.0->spacy<3.3.0,>=3.2.0->en-core-web-sm==3.2.0) (2.0.4)\n",
      "Requirement already satisfied: certifi>=2017.4.17 in /Users/nicolasgutehrle/opt/anaconda3/envs/cours/lib/python3.9/site-packages (from requests<3.0.0,>=2.13.0->spacy<3.3.0,>=3.2.0->en-core-web-sm==3.2.0) (2021.5.30)\n",
      "Requirement already satisfied: click<9.0.0,>=7.1.1 in /Users/nicolasgutehrle/opt/anaconda3/envs/cours/lib/python3.9/site-packages (from typer<0.5.0,>=0.3.0->spacy<3.3.0,>=3.2.0->en-core-web-sm==3.2.0) (8.0.3)\n",
      "Requirement already satisfied: MarkupSafe>=2.0 in /Users/nicolasgutehrle/opt/anaconda3/envs/cours/lib/python3.9/site-packages (from jinja2->spacy<3.3.0,>=3.2.0->en-core-web-sm==3.2.0) (2.0.1)\n",
      "Installing collected packages: en-core-web-sm\n",
      "Successfully installed en-core-web-sm-3.2.0\n",
      "\u001b[38;5;2m✔ Download and installation successful\u001b[0m\n",
      "You can now load the package via spacy.load('en_core_web_sm')\n"
     ]
    }
   ],
   "source": [
    "# installation du plus petit modele anglais\n",
    "!python3 -m spacy download en_core_web_sm\n",
    "\n",
    "# installation du plus petit modele francais\n",
    "# !python3 -m spacy download fr_core_news_sm  "
   ]
  },
  {
   "cell_type": "code",
   "execution_count": 18,
   "metadata": {},
   "outputs": [],
   "source": [
    "# on charge un modèle à l'aide de la fonction load\n",
    "# vous devrez sans doute redémarrer le kernel du notebook pour que cette ligne fonctionne\n",
    "nlp = spacy.load('en_core_web_sm')\n",
    "# nlp = spacy.load('fr_core_news_sm ')"
   ]
  },
  {
   "cell_type": "markdown",
   "metadata": {},
   "source": [
    "Le modèle est maintenant chargé dans la variable ``nlp``. C'est avec elle que tous les traitements vont se faire. Par défaut, le modèle va appliquer tous les traitements au corpus."
   ]
  },
  {
   "cell_type": "code",
   "execution_count": 19,
   "metadata": {},
   "outputs": [],
   "source": [
    "# ci-dessous, on analyse une seule phrase\n",
    "sentence = 'I love Apple phones'\n",
    "doc = nlp(sentence) # on donne le texte en argument directement au modele, on ne passe pas par de fonctions"
   ]
  },
  {
   "cell_type": "markdown",
   "metadata": {},
   "source": [
    "La variable ``doc`` contient tous les tokens de la phrase. Ces tokens possèdent plusieurs propriétés, notamment:\n",
    "* text : forme textuelle du token\n",
    "* lemma_ : le lemme du token\n",
    "* pos_ : la partie du discours large du token (ex: NOM)\n",
    "* tag_ : la partie du discours fine du token (ex: NOM SINGULIER)\n",
    "* dep_ : le rôle syntaxique du token\n",
    "* is_stop : si le mot est un stopwords\n",
    "* et beaucoup d'autres\n"
   ]
  },
  {
   "cell_type": "code",
   "execution_count": 28,
   "metadata": {},
   "outputs": [
    {
     "name": "stdout",
     "output_type": "stream",
     "text": [
      "TEXT : I\n",
      "LEMMA : I\n",
      "LEMMA 2 : 4690420944186131903\n",
      "POS : PRON\n",
      "POS 2: 95\n",
      "TAG : PRP\n",
      "DEP : nsubj\n",
      "IS STOP : True\n",
      "\n",
      "TEXT : love\n",
      "LEMMA : love\n",
      "LEMMA 2 : 3702023516439754181\n",
      "POS : VERB\n",
      "POS 2: 100\n",
      "TAG : VBP\n",
      "DEP : ROOT\n",
      "IS STOP : False\n",
      "\n",
      "TEXT : Apple\n",
      "LEMMA : Apple\n",
      "LEMMA 2 : 6418411030699964375\n",
      "POS : PROPN\n",
      "POS 2: 96\n",
      "TAG : NNP\n",
      "DEP : compound\n",
      "IS STOP : False\n",
      "\n",
      "TEXT : phones\n",
      "LEMMA : phone\n",
      "LEMMA 2 : 15861065479537671914\n",
      "POS : NOUN\n",
      "POS 2: 92\n",
      "TAG : NNS\n",
      "DEP : dobj\n",
      "IS STOP : False\n",
      "\n"
     ]
    }
   ],
   "source": [
    "# de base, si on boucle sur doc, on parcourt les tokens de ce doc\n",
    "for token in doc:\n",
    "    print('TEXT :', token.text)\n",
    "    print('LEMMA :', token.lemma_)\n",
    "    print('LEMMA 2 :', token.lemma)\n",
    "    print('POS :', token.pos_)\n",
    "    print('POS 2:', token.pos)\n",
    "\n",
    "    print('TAG :', token.tag_)\n",
    "    print('DEP :', token.dep_)\n",
    "    print('IS STOP :', token.is_stop)\n",
    "    print()"
   ]
  },
  {
   "cell_type": "markdown",
   "metadata": {},
   "source": [
    "On peut également accéder à d'autres unités plus larges que le token, par exemple les groupes nominaux (noun chunks) ou les entités nommées:"
   ]
  },
  {
   "cell_type": "code",
   "execution_count": 29,
   "metadata": {},
   "outputs": [
    {
     "name": "stdout",
     "output_type": "stream",
     "text": [
      "TEXT : I\n",
      "LEMMA : I\n",
      "\n",
      "TEXT : Apple phones\n",
      "LEMMA : Apple phone\n",
      "\n"
     ]
    }
   ],
   "source": [
    "for chunk in doc.noun_chunks:\n",
    "    print('TEXT :', chunk.text)\n",
    "    print('LEMMA :', chunk.lemma_)\n",
    "    print()"
   ]
  },
  {
   "cell_type": "code",
   "execution_count": 27,
   "metadata": {},
   "outputs": [
    {
     "name": "stdout",
     "output_type": "stream",
     "text": [
      "TEXT : Apple\n",
      "CATEGORIE : ORG\n",
      "\n"
     ]
    }
   ],
   "source": [
    "for ent in doc.ents:\n",
    "    print('TEXT :', ent.text)\n",
    "    print('CATEGORIE :', ent.label_)\n",
    "    print()"
   ]
  },
  {
   "cell_type": "markdown",
   "metadata": {},
   "source": [
    "## Visualiser les analyses de spaCy"
   ]
  },
  {
   "cell_type": "markdown",
   "metadata": {},
   "source": [
    "``spaCy`` propose l'outil ``displacy`` pour visualiser l'analyse de dépendances ainsi que les entités nommées. Le paramètres ``style`` prend \"dep\" en argument pour l'analyse de dépendances et \"ent\" pour les entités nommées."
   ]
  },
  {
   "cell_type": "code",
   "execution_count": 30,
   "metadata": {},
   "outputs": [
    {
     "data": {
      "text/html": [
       "<span class=\"tex2jax_ignore\"><svg xmlns=\"http://www.w3.org/2000/svg\" xmlns:xlink=\"http://www.w3.org/1999/xlink\" xml:lang=\"en\" id=\"6289b0f7082743769c3c8b32ce5337a9-0\" class=\"displacy\" width=\"1625\" height=\"487.0\" direction=\"ltr\" style=\"max-width: none; height: 487.0px; color: #000000; background: #ffffff; font-family: Arial; direction: ltr\">\n",
       "<text class=\"displacy-token\" fill=\"currentColor\" text-anchor=\"middle\" y=\"397.0\">\n",
       "    <tspan class=\"displacy-word\" fill=\"currentColor\" x=\"50\">In</tspan>\n",
       "    <tspan class=\"displacy-tag\" dy=\"2em\" fill=\"currentColor\" x=\"50\">ADP</tspan>\n",
       "</text>\n",
       "\n",
       "<text class=\"displacy-token\" fill=\"currentColor\" text-anchor=\"middle\" y=\"397.0\">\n",
       "    <tspan class=\"displacy-word\" fill=\"currentColor\" x=\"225\">the</tspan>\n",
       "    <tspan class=\"displacy-tag\" dy=\"2em\" fill=\"currentColor\" x=\"225\">DET</tspan>\n",
       "</text>\n",
       "\n",
       "<text class=\"displacy-token\" fill=\"currentColor\" text-anchor=\"middle\" y=\"397.0\">\n",
       "    <tspan class=\"displacy-word\" fill=\"currentColor\" x=\"400\">Land</tspan>\n",
       "    <tspan class=\"displacy-tag\" dy=\"2em\" fill=\"currentColor\" x=\"400\">PROPN</tspan>\n",
       "</text>\n",
       "\n",
       "<text class=\"displacy-token\" fill=\"currentColor\" text-anchor=\"middle\" y=\"397.0\">\n",
       "    <tspan class=\"displacy-word\" fill=\"currentColor\" x=\"575\">of</tspan>\n",
       "    <tspan class=\"displacy-tag\" dy=\"2em\" fill=\"currentColor\" x=\"575\">ADP</tspan>\n",
       "</text>\n",
       "\n",
       "<text class=\"displacy-token\" fill=\"currentColor\" text-anchor=\"middle\" y=\"397.0\">\n",
       "    <tspan class=\"displacy-word\" fill=\"currentColor\" x=\"750\">Mordor</tspan>\n",
       "    <tspan class=\"displacy-tag\" dy=\"2em\" fill=\"currentColor\" x=\"750\">PROPN</tspan>\n",
       "</text>\n",
       "\n",
       "<text class=\"displacy-token\" fill=\"currentColor\" text-anchor=\"middle\" y=\"397.0\">\n",
       "    <tspan class=\"displacy-word\" fill=\"currentColor\" x=\"925\">where</tspan>\n",
       "    <tspan class=\"displacy-tag\" dy=\"2em\" fill=\"currentColor\" x=\"925\">SCONJ</tspan>\n",
       "</text>\n",
       "\n",
       "<text class=\"displacy-token\" fill=\"currentColor\" text-anchor=\"middle\" y=\"397.0\">\n",
       "    <tspan class=\"displacy-word\" fill=\"currentColor\" x=\"1100\">the</tspan>\n",
       "    <tspan class=\"displacy-tag\" dy=\"2em\" fill=\"currentColor\" x=\"1100\">DET</tspan>\n",
       "</text>\n",
       "\n",
       "<text class=\"displacy-token\" fill=\"currentColor\" text-anchor=\"middle\" y=\"397.0\">\n",
       "    <tspan class=\"displacy-word\" fill=\"currentColor\" x=\"1275\">shadows</tspan>\n",
       "    <tspan class=\"displacy-tag\" dy=\"2em\" fill=\"currentColor\" x=\"1275\">NOUN</tspan>\n",
       "</text>\n",
       "\n",
       "<text class=\"displacy-token\" fill=\"currentColor\" text-anchor=\"middle\" y=\"397.0\">\n",
       "    <tspan class=\"displacy-word\" fill=\"currentColor\" x=\"1450\">lie.</tspan>\n",
       "    <tspan class=\"displacy-tag\" dy=\"2em\" fill=\"currentColor\" x=\"1450\">VERB</tspan>\n",
       "</text>\n",
       "\n",
       "<g class=\"displacy-arrow\">\n",
       "    <path class=\"displacy-arc\" id=\"arrow-6289b0f7082743769c3c8b32ce5337a9-0-0\" stroke-width=\"2px\" d=\"M245,352.0 C245,264.5 385.0,264.5 385.0,352.0\" fill=\"none\" stroke=\"currentColor\"/>\n",
       "    <text dy=\"1.25em\" style=\"font-size: 0.8em; letter-spacing: 1px\">\n",
       "        <textPath xlink:href=\"#arrow-6289b0f7082743769c3c8b32ce5337a9-0-0\" class=\"displacy-label\" startOffset=\"50%\" side=\"left\" fill=\"currentColor\" text-anchor=\"middle\">det</textPath>\n",
       "    </text>\n",
       "    <path class=\"displacy-arrowhead\" d=\"M245,354.0 L237,342.0 253,342.0\" fill=\"currentColor\"/>\n",
       "</g>\n",
       "\n",
       "<g class=\"displacy-arrow\">\n",
       "    <path class=\"displacy-arc\" id=\"arrow-6289b0f7082743769c3c8b32ce5337a9-0-1\" stroke-width=\"2px\" d=\"M70,352.0 C70,177.0 390.0,177.0 390.0,352.0\" fill=\"none\" stroke=\"currentColor\"/>\n",
       "    <text dy=\"1.25em\" style=\"font-size: 0.8em; letter-spacing: 1px\">\n",
       "        <textPath xlink:href=\"#arrow-6289b0f7082743769c3c8b32ce5337a9-0-1\" class=\"displacy-label\" startOffset=\"50%\" side=\"left\" fill=\"currentColor\" text-anchor=\"middle\">pobj</textPath>\n",
       "    </text>\n",
       "    <path class=\"displacy-arrowhead\" d=\"M390.0,354.0 L398.0,342.0 382.0,342.0\" fill=\"currentColor\"/>\n",
       "</g>\n",
       "\n",
       "<g class=\"displacy-arrow\">\n",
       "    <path class=\"displacy-arc\" id=\"arrow-6289b0f7082743769c3c8b32ce5337a9-0-2\" stroke-width=\"2px\" d=\"M420,352.0 C420,264.5 560.0,264.5 560.0,352.0\" fill=\"none\" stroke=\"currentColor\"/>\n",
       "    <text dy=\"1.25em\" style=\"font-size: 0.8em; letter-spacing: 1px\">\n",
       "        <textPath xlink:href=\"#arrow-6289b0f7082743769c3c8b32ce5337a9-0-2\" class=\"displacy-label\" startOffset=\"50%\" side=\"left\" fill=\"currentColor\" text-anchor=\"middle\">prep</textPath>\n",
       "    </text>\n",
       "    <path class=\"displacy-arrowhead\" d=\"M560.0,354.0 L568.0,342.0 552.0,342.0\" fill=\"currentColor\"/>\n",
       "</g>\n",
       "\n",
       "<g class=\"displacy-arrow\">\n",
       "    <path class=\"displacy-arc\" id=\"arrow-6289b0f7082743769c3c8b32ce5337a9-0-3\" stroke-width=\"2px\" d=\"M595,352.0 C595,264.5 735.0,264.5 735.0,352.0\" fill=\"none\" stroke=\"currentColor\"/>\n",
       "    <text dy=\"1.25em\" style=\"font-size: 0.8em; letter-spacing: 1px\">\n",
       "        <textPath xlink:href=\"#arrow-6289b0f7082743769c3c8b32ce5337a9-0-3\" class=\"displacy-label\" startOffset=\"50%\" side=\"left\" fill=\"currentColor\" text-anchor=\"middle\">pobj</textPath>\n",
       "    </text>\n",
       "    <path class=\"displacy-arrowhead\" d=\"M735.0,354.0 L743.0,342.0 727.0,342.0\" fill=\"currentColor\"/>\n",
       "</g>\n",
       "\n",
       "<g class=\"displacy-arrow\">\n",
       "    <path class=\"displacy-arc\" id=\"arrow-6289b0f7082743769c3c8b32ce5337a9-0-4\" stroke-width=\"2px\" d=\"M945,352.0 C945,89.5 1445.0,89.5 1445.0,352.0\" fill=\"none\" stroke=\"currentColor\"/>\n",
       "    <text dy=\"1.25em\" style=\"font-size: 0.8em; letter-spacing: 1px\">\n",
       "        <textPath xlink:href=\"#arrow-6289b0f7082743769c3c8b32ce5337a9-0-4\" class=\"displacy-label\" startOffset=\"50%\" side=\"left\" fill=\"currentColor\" text-anchor=\"middle\">advmod</textPath>\n",
       "    </text>\n",
       "    <path class=\"displacy-arrowhead\" d=\"M945,354.0 L937,342.0 953,342.0\" fill=\"currentColor\"/>\n",
       "</g>\n",
       "\n",
       "<g class=\"displacy-arrow\">\n",
       "    <path class=\"displacy-arc\" id=\"arrow-6289b0f7082743769c3c8b32ce5337a9-0-5\" stroke-width=\"2px\" d=\"M1120,352.0 C1120,264.5 1260.0,264.5 1260.0,352.0\" fill=\"none\" stroke=\"currentColor\"/>\n",
       "    <text dy=\"1.25em\" style=\"font-size: 0.8em; letter-spacing: 1px\">\n",
       "        <textPath xlink:href=\"#arrow-6289b0f7082743769c3c8b32ce5337a9-0-5\" class=\"displacy-label\" startOffset=\"50%\" side=\"left\" fill=\"currentColor\" text-anchor=\"middle\">det</textPath>\n",
       "    </text>\n",
       "    <path class=\"displacy-arrowhead\" d=\"M1120,354.0 L1112,342.0 1128,342.0\" fill=\"currentColor\"/>\n",
       "</g>\n",
       "\n",
       "<g class=\"displacy-arrow\">\n",
       "    <path class=\"displacy-arc\" id=\"arrow-6289b0f7082743769c3c8b32ce5337a9-0-6\" stroke-width=\"2px\" d=\"M1295,352.0 C1295,264.5 1435.0,264.5 1435.0,352.0\" fill=\"none\" stroke=\"currentColor\"/>\n",
       "    <text dy=\"1.25em\" style=\"font-size: 0.8em; letter-spacing: 1px\">\n",
       "        <textPath xlink:href=\"#arrow-6289b0f7082743769c3c8b32ce5337a9-0-6\" class=\"displacy-label\" startOffset=\"50%\" side=\"left\" fill=\"currentColor\" text-anchor=\"middle\">nsubj</textPath>\n",
       "    </text>\n",
       "    <path class=\"displacy-arrowhead\" d=\"M1295,354.0 L1287,342.0 1303,342.0\" fill=\"currentColor\"/>\n",
       "</g>\n",
       "\n",
       "<g class=\"displacy-arrow\">\n",
       "    <path class=\"displacy-arc\" id=\"arrow-6289b0f7082743769c3c8b32ce5337a9-0-7\" stroke-width=\"2px\" d=\"M420,352.0 C420,2.0 1450.0,2.0 1450.0,352.0\" fill=\"none\" stroke=\"currentColor\"/>\n",
       "    <text dy=\"1.25em\" style=\"font-size: 0.8em; letter-spacing: 1px\">\n",
       "        <textPath xlink:href=\"#arrow-6289b0f7082743769c3c8b32ce5337a9-0-7\" class=\"displacy-label\" startOffset=\"50%\" side=\"left\" fill=\"currentColor\" text-anchor=\"middle\">relcl</textPath>\n",
       "    </text>\n",
       "    <path class=\"displacy-arrowhead\" d=\"M1450.0,354.0 L1458.0,342.0 1442.0,342.0\" fill=\"currentColor\"/>\n",
       "</g>\n",
       "</svg></span>"
      ],
      "text/plain": [
       "<IPython.core.display.HTML object>"
      ]
     },
     "metadata": {},
     "output_type": "display_data"
    }
   ],
   "source": [
    "from spacy import displacy\n",
    "doc = nlp('In the Land of Mordor where the shadows lie.')\n",
    "displacy.render(doc, style='dep')"
   ]
  },
  {
   "cell_type": "code",
   "execution_count": 31,
   "metadata": {},
   "outputs": [
    {
     "name": "stderr",
     "output_type": "stream",
     "text": [
      "/Users/nicolasgutehrle/opt/anaconda3/envs/cours/lib/python3.9/site-packages/spacy/displacy/__init__.py:192: UserWarning: [W006] No entities to visualize found in Doc object. If this is surprising to you, make sure the Doc was processed using a model that supports named entity recognition, and check the `doc.ents` property manually if necessary.\n",
      "  warnings.warn(Warnings.W006)\n"
     ]
    },
    {
     "data": {
      "text/html": [
       "<span class=\"tex2jax_ignore\"><div class=\"entities\" style=\"line-height: 2.5; direction: ltr\">In the Land of Mordor where the shadows lie.</div></span>"
      ],
      "text/plain": [
       "<IPython.core.display.HTML object>"
      ]
     },
     "metadata": {},
     "output_type": "display_data"
    }
   ],
   "source": [
    "displacy.render(doc, style='ent')"
   ]
  },
  {
   "cell_type": "markdown",
   "metadata": {},
   "source": [
    "## Prétraiter un corpus avec spaCy"
   ]
  },
  {
   "cell_type": "code",
   "execution_count": 32,
   "metadata": {},
   "outputs": [],
   "source": [
    "corpus = [ \"Three rings for the Elven-kings under the sky,\",\n",
    "\"Seven for the Dwarf-lords in their halls of stone,\",\n",
    "\"Nine for mortal men doomed to die,\",\n",
    "\"One for the Dark Lord on his dark throne;\",\n",
    "\"In the Land of Mordor where the shadows lie.\",\n",
    "\"One ring to rule them all, one ring to find them,\",\n",
    "\"One ring to bring them all, and in the darkness bind them;\",\n",
    "\"In the Land of Mordor where the shadows lie.\"]"
   ]
  },
  {
   "cell_type": "markdown",
   "metadata": {},
   "source": [
    "Pour traiter un ensemble de documents, on utilise la fonction ``pipe``. La variable ``docs`` contiendra alors une liste de documents, qui contiendront leurs analyses respectives. Il faut ainsi boucler deux fois: une première fois sur les documents, et une seconde fois sur les tokens."
   ]
  },
  {
   "cell_type": "code",
   "execution_count": 39,
   "metadata": {},
   "outputs": [],
   "source": [
    "docs = nlp.pipe(corpus)"
   ]
  },
  {
   "cell_type": "code",
   "execution_count": 42,
   "metadata": {
    "collapsed": true,
    "jupyter": {
     "outputs_hidden": true
    },
    "tags": []
   },
   "outputs": [
    {
     "name": "stdout",
     "output_type": "stream",
     "text": [
      "Doc : Three rings for the Elven-kings under the sky,\n",
      "-- Token : Three\n",
      "-- Token : rings\n",
      "-- Token : for\n",
      "-- Token : the\n",
      "-- Token : Elven\n",
      "-- Token : -\n",
      "-- Token : kings\n",
      "-- Token : under\n",
      "-- Token : the\n",
      "-- Token : sky\n",
      "-- Token : ,\n",
      "Doc : Seven for the Dwarf-lords in their halls of stone,\n",
      "-- Token : Seven\n",
      "-- Token : for\n",
      "-- Token : the\n",
      "-- Token : Dwarf\n",
      "-- Token : -\n",
      "-- Token : lords\n",
      "-- Token : in\n",
      "-- Token : their\n",
      "-- Token : halls\n",
      "-- Token : of\n",
      "-- Token : stone\n",
      "-- Token : ,\n",
      "Doc : Nine for mortal men doomed to die,\n",
      "-- Token : Nine\n",
      "-- Token : for\n",
      "-- Token : mortal\n",
      "-- Token : men\n",
      "-- Token : doomed\n",
      "-- Token : to\n",
      "-- Token : die\n",
      "-- Token : ,\n",
      "Doc : One for the Dark Lord on his dark throne;\n",
      "-- Token : One\n",
      "-- Token : for\n",
      "-- Token : the\n",
      "-- Token : Dark\n",
      "-- Token : Lord\n",
      "-- Token : on\n",
      "-- Token : his\n",
      "-- Token : dark\n",
      "-- Token : throne\n",
      "-- Token : ;\n",
      "Doc : In the Land of Mordor where the shadows lie.\n",
      "-- Token : In\n",
      "-- Token : the\n",
      "-- Token : Land\n",
      "-- Token : of\n",
      "-- Token : Mordor\n",
      "-- Token : where\n",
      "-- Token : the\n",
      "-- Token : shadows\n",
      "-- Token : lie\n",
      "-- Token : .\n",
      "Doc : One ring to rule them all, one ring to find them,\n",
      "-- Token : One\n",
      "-- Token : ring\n",
      "-- Token : to\n",
      "-- Token : rule\n",
      "-- Token : them\n",
      "-- Token : all\n",
      "-- Token : ,\n",
      "-- Token : one\n",
      "-- Token : ring\n",
      "-- Token : to\n",
      "-- Token : find\n",
      "-- Token : them\n",
      "-- Token : ,\n",
      "Doc : One ring to bring them all, and in the darkness bind them;\n",
      "-- Token : One\n",
      "-- Token : ring\n",
      "-- Token : to\n",
      "-- Token : bring\n",
      "-- Token : them\n",
      "-- Token : all\n",
      "-- Token : ,\n",
      "-- Token : and\n",
      "-- Token : in\n",
      "-- Token : the\n",
      "-- Token : darkness\n",
      "-- Token : bind\n",
      "-- Token : them\n",
      "-- Token : ;\n",
      "Doc : In the Land of Mordor where the shadows lie.\n",
      "-- Token : In\n",
      "-- Token : the\n",
      "-- Token : Land\n",
      "-- Token : of\n",
      "-- Token : Mordor\n",
      "-- Token : where\n",
      "-- Token : the\n",
      "-- Token : shadows\n",
      "-- Token : lie\n",
      "-- Token : .\n"
     ]
    }
   ],
   "source": [
    "docs = nlp.pipe(corpus)\n",
    "\n",
    "for doc in docs:\n",
    "    print(\"Doc :\", doc.text)\n",
    "    for token in doc:\n",
    "        print(\"-- Token :\", token.text)"
   ]
  },
  {
   "cell_type": "code",
   "execution_count": 43,
   "metadata": {
    "collapsed": true,
    "jupyter": {
     "outputs_hidden": true
    },
    "tags": []
   },
   "outputs": [
    {
     "name": "stdout",
     "output_type": "stream",
     "text": [
      "Doc : Three rings for the Elven-kings under the sky,\n",
      "-- Token : ring\n",
      "-- Token : Elven\n",
      "-- Token : king\n",
      "-- Token : sky\n",
      "Doc : Seven for the Dwarf-lords in their halls of stone,\n",
      "-- Token : seven\n",
      "-- Token : dwarf\n",
      "-- Token : lord\n",
      "-- Token : hall\n",
      "-- Token : stone\n",
      "Doc : Nine for mortal men doomed to die,\n",
      "-- Token : mortal\n",
      "-- Token : man\n",
      "-- Token : doom\n",
      "-- Token : die\n",
      "Doc : One for the Dark Lord on his dark throne;\n",
      "-- Token : Dark\n",
      "-- Token : Lord\n",
      "-- Token : dark\n",
      "-- Token : throne\n",
      "Doc : In the Land of Mordor where the shadows lie.\n",
      "-- Token : Land\n",
      "-- Token : Mordor\n",
      "-- Token : shadow\n",
      "-- Token : lie\n",
      "Doc : One ring to rule them all, one ring to find them,\n",
      "-- Token : ring\n",
      "-- Token : rule\n",
      "-- Token : ring\n",
      "-- Token : find\n",
      "Doc : One ring to bring them all, and in the darkness bind them;\n",
      "-- Token : ring\n",
      "-- Token : bring\n",
      "-- Token : darkness\n",
      "-- Token : bind\n",
      "Doc : In the Land of Mordor where the shadows lie.\n",
      "-- Token : Land\n",
      "-- Token : Mordor\n",
      "-- Token : shadow\n",
      "-- Token : lie\n"
     ]
    }
   ],
   "source": [
    "docs = nlp.pipe(corpus)\n",
    "for doc in docs:\n",
    "    print(\"Doc :\", doc.text)\n",
    "    for token in doc:\n",
    "        if token.is_stop:\n",
    "            pass\n",
    "        elif token.is_punct:\n",
    "            pass\n",
    "        else:\n",
    "            print(\"-- Token :\", token.lemma_)"
   ]
  },
  {
   "cell_type": "code",
   "execution_count": 44,
   "metadata": {},
   "outputs": [],
   "source": [
    "docs = nlp.pipe(corpus)\n",
    "new_corpus = [] # creer nouvelle liste qui servir de corpus tokenizé\n",
    "for doc in docs:\n",
    "    filtered_doc = [] # doc tokenizé\n",
    "    for token in doc:\n",
    "        if token.is_stop:\n",
    "            pass\n",
    "        elif token.is_punct:\n",
    "            pass\n",
    "        else:\n",
    "            filtered_doc.append(token.lemma_) # si token est bon, on l'ajoute a la liste\n",
    "            \n",
    "    new_corpus.append(filtered_doc) # on ajoute le doc tokenizé au nouveau corpus"
   ]
  },
  {
   "cell_type": "code",
   "execution_count": 45,
   "metadata": {},
   "outputs": [
    {
     "name": "stdout",
     "output_type": "stream",
     "text": [
      "['ring', 'Elven', 'king', 'sky']\n",
      "['seven', 'dwarf', 'lord', 'hall', 'stone']\n",
      "['mortal', 'man', 'doom', 'die']\n",
      "['Dark', 'Lord', 'dark', 'throne']\n",
      "['Land', 'Mordor', 'shadow', 'lie']\n",
      "['ring', 'rule', 'ring', 'find']\n",
      "['ring', 'bring', 'darkness', 'bind']\n",
      "['Land', 'Mordor', 'shadow', 'lie']\n"
     ]
    }
   ],
   "source": [
    "for doc in new_corpus:\n",
    "    print(doc)"
   ]
  },
  {
   "cell_type": "code",
   "execution_count": 50,
   "metadata": {},
   "outputs": [],
   "source": [
    "from gensim.corpora import Dictionary\n",
    "\n",
    "# Dictionary constitue notre vocabulaire, associe un id a chaque token\n",
    "# ainsi que différentes statistiques sur les documents du corpus\n",
    "dictionary = Dictionary(new_corpus)"
   ]
  },
  {
   "cell_type": "code",
   "execution_count": 51,
   "metadata": {},
   "outputs": [],
   "source": [
    "vec_corpus = [dictionary.doc2bow(doc) for doc in new_corpus]"
   ]
  },
  {
   "cell_type": "code",
   "execution_count": 52,
   "metadata": {},
   "outputs": [],
   "source": [
    "\n",
    "from gensim.models.ldamodel import LdaModel\n",
    "NUM_TOPICS = 2\n",
    "lda = LdaModel(corpus=vec_corpus, num_topics=NUM_TOPICS, id2word=dictionary)"
   ]
  },
  {
   "cell_type": "code",
   "execution_count": 53,
   "metadata": {},
   "outputs": [
    {
     "data": {
      "text/plain": [
       "[(0,\n",
       "  '0.079*\"ring\" + 0.054*\"bind\" + 0.054*\"darkness\" + 0.054*\"bring\" + 0.047*\"Dark\" + 0.044*\"throne\" + 0.043*\"dark\" + 0.043*\"lord\" + 0.041*\"hall\" + 0.041*\"stone\"'),\n",
       " (1,\n",
       "  '0.089*\"ring\" + 0.068*\"shadow\" + 0.064*\"lie\" + 0.064*\"Mordor\" + 0.063*\"Land\" + 0.041*\"king\" + 0.041*\"man\" + 0.041*\"sky\" + 0.040*\"doom\" + 0.040*\"Elven\"')]"
      ]
     },
     "execution_count": 53,
     "metadata": {},
     "output_type": "execute_result"
    }
   ],
   "source": [
    "lda.print_topics()"
   ]
  },
  {
   "cell_type": "markdown",
   "metadata": {},
   "source": [
    "### Références:\n",
    "\n",
    "* Under-sampling:\n",
    "    * https://imbalanced-learn.readthedocs.io/en/stable/under_sampling.html\n",
    "* Over-sampling:\n",
    "    * https://imbalanced-learn.readthedocs.io/en/stable/over_sampling.html\n",
    "* Spacy:\n",
    "    * https://spacy.io/ \n",
    "    * Modèles de langues: https://spacy.io/usage/models\n",
    "    * Token : https://spacy.io/api/token\n",
    "    * Tutoriel : https://spacy.io/usage/spacy-101\n",
    "    * Documentation : https://spacy.io/api\n",
    "    \n",
    "    \n"
   ]
  }
 ],
 "metadata": {
  "kernelspec": {
   "display_name": "Python 3.9.6 ('cours')",
   "language": "python",
   "name": "python3"
  },
  "language_info": {
   "codemirror_mode": {
    "name": "ipython",
    "version": 3
   },
   "file_extension": ".py",
   "mimetype": "text/x-python",
   "name": "python",
   "nbconvert_exporter": "python",
   "pygments_lexer": "ipython3",
   "version": "3.9.6"
  },
  "vscode": {
   "interpreter": {
    "hash": "63d2c08867e999184b706abc1228e6e14a103e818b92fa06feeba82a11accc73"
   }
  }
 },
 "nbformat": 4,
 "nbformat_minor": 4
}
