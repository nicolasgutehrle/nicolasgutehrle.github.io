{
 "cells": [
  {
   "cell_type": "markdown",
   "metadata": {},
   "source": [
    "# Exercice 1\n",
    "\n",
    "Vous utiliserez le fichier ``page-block.csv`` pour cet exercice. Celui-ci n'est pas équilibré. Vous utiliserez donc une méthode d'Under-sampling et une méthode d'Over-sampling pour corriger cela. Pour chacune des deux méthodes, vous entraînerez un modèle, que vous enregistrerez sur le disque. Vous enregistrerez les résultats de chaque modèle dans une Series, pour pouvoir les visualiser à l'aide d'un diagramme à barres."
   ]
  },
  {
   "cell_type": "markdown",
   "metadata": {},
   "source": [
    "# Exercice 2\n",
    "\n",
    "En utilisant la version anglaise du ``amazon_review`` dataset, vous utiliserez la librairie ``gensim`` pour entraîner un modèle de Topic Modelling, comme pour l'exercice du cours précédent. Cependant, vous utiliserez ``spaCy`` pour prétraiter votre corpus, comme vu pendant ce cours. N'hésitez pas à essayer plusieurs valeurs pour le nombre de topics. Une fois votre dernier modèle entraîné, vous afficherez les différents sujets identifiés, comme vu en cours."
   ]
  }
 ],
 "metadata": {
  "colab": {
   "authorship_tag": "ABX9TyME5qNXlePLDtiLUY8FmJDD",
   "collapsed_sections": [],
   "name": "Exercices.ipynb",
   "provenance": []
  },
  "kernelspec": {
   "display_name": "Python 3.9.6 64-bit",
   "language": "python",
   "name": "python3"
  },
  "language_info": {
   "codemirror_mode": {
    "name": "ipython",
    "version": 3
   },
   "file_extension": ".py",
   "mimetype": "text/x-python",
   "name": "python",
   "nbconvert_exporter": "python",
   "pygments_lexer": "ipython3",
   "version": "3.9.6"
  },
  "vscode": {
   "interpreter": {
    "hash": "31f2aee4e71d21fbe5cf8b01ff0e069b9275f58929596ceb00d14d90e3e16cd6"
   }
  }
 },
 "nbformat": 4,
 "nbformat_minor": 4
}
