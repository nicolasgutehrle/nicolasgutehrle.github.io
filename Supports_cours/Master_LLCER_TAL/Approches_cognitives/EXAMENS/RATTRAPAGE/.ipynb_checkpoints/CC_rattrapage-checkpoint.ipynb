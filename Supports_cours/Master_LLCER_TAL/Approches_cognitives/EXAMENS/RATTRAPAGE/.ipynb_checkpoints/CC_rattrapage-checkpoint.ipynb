{
 "cells": [
  {
   "cell_type": "markdown",
   "metadata": {},
   "source": [
    "## Examen de rattrapage Approches Cognitives"
   ]
  },
  {
   "cell_type": "markdown",
   "metadata": {},
   "source": [
    "## Exercice 2 (XX pts)\n",
    "\n",
    "A l'aide de la librairie ``pandas``, ouvrez le fichier ``language_dataset.csv``. A l'aide de cette librairie, affichez les informations suivantes:\n",
    "* Affichez les infos à propos du DataFrame\n",
    "* Affichez les 5 premières lignes du DataFrame\n",
    "* Affichez le compte des valeurs de la colonne \"language\"\n",
    "* Visualisez ce comptage à l'aide d'un diagramme à barre. A l'aide de ce diagramme, pouvez-vous dire que les données sont équilibrées ? \n"
   ]
  },
  {
   "cell_type": "markdown",
   "metadata": {},
   "source": [
    "## Exercice 3 (XX pts)\n",
    "\n",
    "A l'aide de la librairie ``pandas``, ouvrez le fichier ``language_dataset.csv``. A partir de ce fichier, entraînez un **modèle de classification de langues**, en utilisant la librairie ``scikit-learn``. Ce modèle doit appendre à la langue d'un texte en fonction de sa description. Le modèle s'entraînera donc sur la colonne \"review_body\" et devra prédire le résultat de la colonne \"language\". \n",
    "\n",
    "Vous utiliserez la méthode TF-IDF pour vectorizer votre dataset. Vous diviserez votre dataset de telle sorte à avoir un dataset d'entraînement, de validation et de test. Vous utiliserez les datasets de validation et de test pour contrôler la qualité de votre modèle. Vous utiliserez un des algorithmes suivant: KNN, LogisticRegression ou LinearRegression.\n"
   ]
  },
  {
   "cell_type": "markdown",
   "metadata": {},
   "source": [
    "## Exercice 4 (XX pts)\n",
    "\n",
    "A l'aide de la librairie ``pandas``, ouvrez le fichier ``review_fr.csv``. A partir de ce fichier, entraînez un **modèle de classification de produits**, en utilisant la librairie ``scikit-learn``. Ce modèle doit appendre à déteminer la catégorie du produit en fonction de sa description. Le modèle s'entraînera donc sur la colonne \"review_body\" et devra prédire le résultat de la colonne \"product_category\". Les données étant en français, vous ferez attention à supprimer les mots-vides. Vous pouvez pour cela utiliser le fichier \"fr_stopwords.txt\" contenu dans le dossier ``data``.\n",
    "\n",
    "Vous utiliserez la méthode TF-IDF pour vectorizer votre dataset. Vous diviserez votre dataset de telle sorte à avoir un dataset d'entraînement, de validation et de test. Vous utiliserez les datasets de validation et de test pour contrôler la qualité de votre modèle. Vous utiliserez un autre algorithme que celui utilisé pour l'exercice précédent. \n"
   ]
  },
  {
   "cell_type": "code",
   "execution_count": null,
   "metadata": {},
   "outputs": [],
   "source": []
  }
 ],
 "metadata": {
  "kernelspec": {
   "display_name": "Python 3",
   "language": "python",
   "name": "python3"
  },
  "language_info": {
   "codemirror_mode": {
    "name": "ipython",
    "version": 3
   },
   "file_extension": ".py",
   "mimetype": "text/x-python",
   "name": "python",
   "nbconvert_exporter": "python",
   "pygments_lexer": "ipython3",
   "version": "3.7.7"
  }
 },
 "nbformat": 4,
 "nbformat_minor": 4
}
